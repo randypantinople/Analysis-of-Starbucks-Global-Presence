{
 "cells": [
  {
   "cell_type": "code",
   "execution_count": null,
   "metadata": {},
   "outputs": [],
   "source": [
    "%matplotlib inline"
   ]
  },
  {
   "cell_type": "code",
   "execution_count": null,
   "metadata": {},
   "outputs": [],
   "source": [
    "import pandas as pd\n",
    "import numpy as np\n",
    "from matplotlib import pyplot as plt\n",
    "plt.style.use('ggplot')\n",
    "\n",
    "from sklearn.neighbors import DistanceMetric\n",
    "from math import radians"
   ]
  },
  {
   "cell_type": "code",
   "execution_count": null,
   "metadata": {},
   "outputs": [],
   "source": [
    "# Read the directory.csv file into a data frame\n",
    "starbucks = pd.read_csv('directory.csv')\n",
    "\n",
    "starbucks= starbucks[['store_name','City', 'State/Province','Country','Longitude', 'Latitude']]\n",
    "\n",
    "\n",
    "starbucks\n",
    "\n",
    "#Create a new column for store count\n",
    "#starbucks['store_count'] = np.ones(new_star.shape[0]).astype(int).tolist()\n",
    "#starbucks.sample(5)\n",
    "\n"
   ]
  },
  {
   "cell_type": "code",
   "execution_count": null,
   "metadata": {},
   "outputs": [],
   "source": [
    "#Read the country code file into the dateframe.\n",
    "country_code = pd.read_csv('country_code.csv')\n",
    "country_code\n"
   ]
  },
  {
   "cell_type": "code",
   "execution_count": null,
   "metadata": {},
   "outputs": [],
   "source": [
    "#Merge the starbucks data frame and the country code\n",
    "starbucks2= pd.merge(starbucks,country_code, left_on='Country', right_on='Two_Letter_Country_Code').drop('Two_Letter_Country_Code', axis=1)\n",
    "starbucks2.sample(3)\n",
    "\n"
   ]
  },
  {
   "cell_type": "code",
   "execution_count": null,
   "metadata": {},
   "outputs": [],
   "source": [
    "#Modify the name of some countries, removing 'the, republic of'\n",
    "country_name = starbucks2['Country_Name'].tolist()\n",
    "country_name = [country.split(',')[0] for country in country_name]\n",
    "\n",
    "#Assign the modified values in the country_name column\n",
    "starbucks2['Country_Name'] = country_name\n",
    "\n",
    "#Change united states of america to united states\n",
    "starbucks2['Country_Name']= starbucks2['Country_Name'].apply(lambda x : 'United States' if x=='United States of America' else x)\n",
    "starbucks2.sample(3)\n",
    "starbucks2.shape\n"
   ]
  },
  {
   "cell_type": "raw",
   "metadata": {},
   "source": [
    "## We would like to know the number of starbucks around the globe."
   ]
  },
  {
   "cell_type": "code",
   "execution_count": null,
   "metadata": {},
   "outputs": [],
   "source": [
    "#Top 15 countries in terms of starbucks store count\n",
    "df_bar= starbucks2[['Country_Name','store_count']].groupby('Country_Name').sum().sort_values( ascending=False, by='store_count')\n",
    "\n",
    "#Bar graph\n",
    "df_bar.head(15).plot.bar(color='g')\n"
   ]
  },
  {
   "cell_type": "raw",
   "metadata": {},
   "source": [
    "## United states has the most number of stores around the world. And by looking at graph , it seems that starbucks has a lot stores where a country has bigger population?\n",
    "\n",
    "Next, we will try to see the relationship between number of stores and population.\n",
    "\n"
   ]
  },
  {
   "cell_type": "code",
   "execution_count": null,
   "metadata": {},
   "outputs": [],
   "source": [
    "#Dataframe for the world population\n",
    "world_population = pd.read_csv('world_population.csv')\n",
    "world_population = world_population[['country', 'population']]\n",
    "\n",
    "#Merge world population data with starbucks data \n",
    "starbucks3 = pd.merge(starbucks2, world_population, left_on='Country_Name', right_on='country').drop('country', axis=1)\n",
    "\n",
    "\n",
    "# #Remove the comma in the population 78,100 -->78100\n",
    "starbucks3['population'] = starbucks3['population'].str.replace(',', '').astype(int)\n",
    "\n"
   ]
  },
  {
   "cell_type": "code",
   "execution_count": null,
   "metadata": {},
   "outputs": [],
   "source": [
    "df_scatter= starbucks3.groupby(['Country_Name', 'population']).agg({'store_count':'sum'}).reset_index()\n",
    "df_scatter.plot.scatter('population', 'store_count')\n"
   ]
  },
  {
   "cell_type": "code",
   "execution_count": null,
   "metadata": {},
   "outputs": [],
   "source": [
    "#removing the outliers\n",
    "df_scatter = df_scatter[['population', 'store_count']]\n",
    "df_scatter = df_scatter.loc[df_scatter.apply(lambda x: np.abs(x - x.mean()) / x.std() < 3).all(axis=1)]\n",
    "df_scatter.plot.scatter('population', 'store_count')"
   ]
  },
  {
   "cell_type": "raw",
   "metadata": {},
   "source": [
    "The graph shows that a slightly positive relationship between number of stores and country's population. But what happen in India? It has the 2nd largest population in the world but it has less than 100 stores. ---> edit this more.\n",
    "\n",
    "Where does starbucks allocates their store within each country? "
   ]
  },
  {
   "cell_type": "code",
   "execution_count": null,
   "metadata": {},
   "outputs": [],
   "source": [
    "city_df = starbucks3[['City', 'Country_Name', 'store_count', 'Longitude', 'Latitude']]\n",
    "city_bar = city_df.groupby(['City', 'Country_Name']).agg({'store_count':'sum'}).sort_values(by='store_count',ascending=False).head(17)\n",
    "city_bar.plot.bar()\n",
    "\n",
    "city_bar"
   ]
  },
  {
   "cell_type": "code",
   "execution_count": null,
   "metadata": {},
   "outputs": [],
   "source": [
    "def avg_dist(city_df):\n",
    "     \"\"\"\n",
    "     df: is a pandas dataframe\n",
    "    \n",
    "     Return the average distance of stores in miles\n",
    "     \"\"\"\n",
    "    \n",
    "    #Convert lat and lon degrees in radians\n",
    "    city_df['Latitude'] = np.radians(city_df['Latitude'])\n",
    "    city_df['Longitude'] = np.radians(city_df['Longitude'])\n",
    "\n",
    "    #find the haversine distance\n",
    "    dist = DistanceMetric.get_metric('haversine')\n",
    "    \n",
    "    #an array of distance of stores\n",
    "    array =dist.pairwise(city_df[['Latitude','Longitude']].to_numpy())*3798\n",
    "    \n",
    "    return np.mean(array[0])\n",
    "\n"
   ]
  },
  {
   "cell_type": "code",
   "execution_count": null,
   "metadata": {},
   "outputs": [],
   "source": [
    "city1 =city_bar.reset_index()[['City', 'Country_Name']].to_numpy()\n",
    "\n",
    "city_list =[]\n",
    "distance_list =[]\n",
    "\n",
    "\n",
    "for ele in city1:\n",
    "    city=ele[0]\n",
    "    country= ele[1]\n",
    "    city_df = starbucks3.loc[(starbucks3.City==city) & (starbucks3.Country_Name==country)]\n",
    "    distance = avg_dist(city_df)\n",
    "    city_list.append(city)\n",
    "    distance_list.append(distance)\n",
    "    \n",
    "\n",
    "pd.DataFrame({'city': pd.Series(city_list), 'avg_dist':pd.Series(distance_list)})\n",
    "    \n",
    "    \n",
    "\n",
    "\n",
    "\n",
    "\n",
    " \n"
   ]
  },
  {
   "cell_type": "code",
   "execution_count": null,
   "metadata": {},
   "outputs": [],
   "source": [
    "city_df = starbucks.loc[(starbucks.City=='London') & (starbucks.Country=='GB')]\n",
    "city_df\n",
    "\n",
    "city_bar\n",
    "\n"
   ]
  }
 ],
 "metadata": {
  "kernelspec": {
   "display_name": "Python 3",
   "language": "python",
   "name": "python3"
  },
  "language_info": {
   "codemirror_mode": {
    "name": "ipython",
    "version": 3
   },
   "file_extension": ".py",
   "mimetype": "text/x-python",
   "name": "python",
   "nbconvert_exporter": "python",
   "pygments_lexer": "ipython3",
   "version": "3.7.6"
  }
 },
 "nbformat": 4,
 "nbformat_minor": 4
}
