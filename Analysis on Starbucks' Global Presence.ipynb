{
 "cells": [
  {
   "cell_type": "code",
   "execution_count": null,
   "metadata": {},
   "outputs": [],
   "source": [
    "%matplotlib inline"
   ]
  },
  {
   "cell_type": "code",
   "execution_count": 262,
   "metadata": {},
   "outputs": [],
   "source": [
    "import pandas as pd\n",
    "import numpy as np\n",
    "from matplotlib import pyplot as plt\n",
    "plt.style.use('ggplot')\n",
    "\n",
    "from sklearn.neighbors import DistanceMetric\n",
    "from math import radians\n",
    "import re\n",
    "from googletrans import Translator"
   ]
  },
  {
   "cell_type": "code",
   "execution_count": 263,
   "metadata": {},
   "outputs": [
    {
     "data": {
      "text/html": [
       "<div>\n",
       "<style scoped>\n",
       "    .dataframe tbody tr th:only-of-type {\n",
       "        vertical-align: middle;\n",
       "    }\n",
       "\n",
       "    .dataframe tbody tr th {\n",
       "        vertical-align: top;\n",
       "    }\n",
       "\n",
       "    .dataframe thead th {\n",
       "        text-align: right;\n",
       "    }\n",
       "</style>\n",
       "<table border=\"1\" class=\"dataframe\">\n",
       "  <thead>\n",
       "    <tr style=\"text-align: right;\">\n",
       "      <th></th>\n",
       "      <th>country</th>\n",
       "      <th>population</th>\n",
       "    </tr>\n",
       "  </thead>\n",
       "  <tbody>\n",
       "    <tr>\n",
       "      <th>2</th>\n",
       "      <td>United States</td>\n",
       "      <td>331,002,651</td>\n",
       "    </tr>\n",
       "    <tr>\n",
       "      <th>181</th>\n",
       "      <td>French Guiana</td>\n",
       "      <td>298,682</td>\n",
       "    </tr>\n",
       "    <tr>\n",
       "      <th>135</th>\n",
       "      <td>Mongolia</td>\n",
       "      <td>3,278,290</td>\n",
       "    </tr>\n",
       "    <tr>\n",
       "      <th>34</th>\n",
       "      <td>Ukraine</td>\n",
       "      <td>43,733,762</td>\n",
       "    </tr>\n",
       "    <tr>\n",
       "      <th>28</th>\n",
       "      <td>Colombia</td>\n",
       "      <td>50,882,891</td>\n",
       "    </tr>\n",
       "  </tbody>\n",
       "</table>\n",
       "</div>"
      ],
      "text/plain": [
       "           country   population\n",
       "2    United States  331,002,651\n",
       "181  French Guiana      298,682\n",
       "135       Mongolia    3,278,290\n",
       "34         Ukraine   43,733,762\n",
       "28        Colombia   50,882,891"
      ]
     },
     "execution_count": 263,
     "metadata": {},
     "output_type": "execute_result"
    }
   ],
   "source": [
    "# Read the directory.csv file into a data frame\n",
    "starbucks = pd.read_csv('directory.csv')\n",
    "starbucks= starbucks[['store_name','City', 'State/Province','Country','Longitude', 'Latitude']]\n",
    "\n",
    "\n",
    "#Create a new column for store count\n",
    "starbucks['store_count'] = np.ones(starbucks.shape[0]).astype(int).tolist()\n",
    "starbucks.sample(5)\n",
    "\n",
    "#Read the country code file into the dateframe.\n",
    "country_code = pd.read_csv('country_code.csv')\n",
    "country_code\n",
    "\n",
    "#Dataframe for the world population\n",
    "world_population = pd.read_csv('world_population.csv')\n",
    "world_population = world_population[['country', 'population']]\n",
    "world_population.loc[world_population.country=='United States']\n",
    "world_population.sample(5)\n",
    "\n"
   ]
  },
  {
   "cell_type": "code",
   "execution_count": null,
   "metadata": {},
   "outputs": [],
   "source": []
  },
  {
   "cell_type": "code",
   "execution_count": 264,
   "metadata": {},
   "outputs": [
    {
     "data": {
      "text/html": [
       "<div>\n",
       "<style scoped>\n",
       "    .dataframe tbody tr th:only-of-type {\n",
       "        vertical-align: middle;\n",
       "    }\n",
       "\n",
       "    .dataframe tbody tr th {\n",
       "        vertical-align: top;\n",
       "    }\n",
       "\n",
       "    .dataframe thead th {\n",
       "        text-align: right;\n",
       "    }\n",
       "</style>\n",
       "<table border=\"1\" class=\"dataframe\">\n",
       "  <thead>\n",
       "    <tr style=\"text-align: right;\">\n",
       "      <th></th>\n",
       "      <th>store_name</th>\n",
       "      <th>City</th>\n",
       "      <th>State/Province</th>\n",
       "      <th>Country</th>\n",
       "      <th>Longitude</th>\n",
       "      <th>Latitude</th>\n",
       "      <th>store_count</th>\n",
       "      <th>Continent_Name</th>\n",
       "      <th>Country_Name</th>\n",
       "    </tr>\n",
       "  </thead>\n",
       "  <tbody>\n",
       "    <tr>\n",
       "      <th>21981</th>\n",
       "      <td>Giant Eagle 1284 Avon Lake</td>\n",
       "      <td>AVON LAKE</td>\n",
       "      <td>OH</td>\n",
       "      <td>US</td>\n",
       "      <td>-81.99</td>\n",
       "      <td>41.49</td>\n",
       "      <td>1</td>\n",
       "      <td>North America</td>\n",
       "      <td>United States of America</td>\n",
       "    </tr>\n",
       "    <tr>\n",
       "      <th>13701</th>\n",
       "      <td>Green Valley Crossing - Fairfield</td>\n",
       "      <td>Fairfield</td>\n",
       "      <td>CA</td>\n",
       "      <td>US</td>\n",
       "      <td>-122.14</td>\n",
       "      <td>38.21</td>\n",
       "      <td>1</td>\n",
       "      <td>North America</td>\n",
       "      <td>United States of America</td>\n",
       "    </tr>\n",
       "    <tr>\n",
       "      <th>704</th>\n",
       "      <td>Safeway Fort Saskatchewan #846</td>\n",
       "      <td>Fort Saskatchewan</td>\n",
       "      <td>AB</td>\n",
       "      <td>CA</td>\n",
       "      <td>-113.21</td>\n",
       "      <td>53.69</td>\n",
       "      <td>1</td>\n",
       "      <td>North America</td>\n",
       "      <td>Canada</td>\n",
       "    </tr>\n",
       "  </tbody>\n",
       "</table>\n",
       "</div>"
      ],
      "text/plain": [
       "                              store_name               City State/Province  \\\n",
       "21981         Giant Eagle 1284 Avon Lake          AVON LAKE             OH   \n",
       "13701  Green Valley Crossing - Fairfield          Fairfield             CA   \n",
       "704       Safeway Fort Saskatchewan #846  Fort Saskatchewan             AB   \n",
       "\n",
       "      Country  Longitude  Latitude  store_count Continent_Name  \\\n",
       "21981      US     -81.99     41.49            1  North America   \n",
       "13701      US    -122.14     38.21            1  North America   \n",
       "704        CA    -113.21     53.69            1  North America   \n",
       "\n",
       "                   Country_Name  \n",
       "21981  United States of America  \n",
       "13701  United States of America  \n",
       "704                      Canada  "
      ]
     },
     "execution_count": 264,
     "metadata": {},
     "output_type": "execute_result"
    }
   ],
   "source": [
    "#Merge the starbucks data frame and the country code\n",
    "starbucks2= pd.merge(starbucks,country_code, left_on='Country', right_on='Two_Letter_Country_Code').drop('Two_Letter_Country_Code', axis=1)\n",
    "starbucks2.sample(3)\n",
    "\n",
    "starbucks2.sample(3)"
   ]
  },
  {
   "cell_type": "code",
   "execution_count": null,
   "metadata": {},
   "outputs": [],
   "source": [
    "#Modify the name of some countries, removing 'the, republic of'\n",
    "country_name = starbucks2['Country_Name'].tolist()\n",
    "\n",
    "country_name = [country.split(',')[0] for country in country_name]\n",
    "\n",
    "#Assign the modified values in the country_name column\n",
    "starbucks2['Country_Name'] = country_name\n",
    "\n",
    "\n",
    "#Change united states of america to united states\n",
    "starbucks2['Country_Name']= starbucks2['Country_Name'].apply(lambda x : 'United States' if x=='United States of America' else x)\n",
    "\n",
    "#Change Russian Federation to Russia\n",
    "starbucks2['Country_Name']= starbucks2['Country_Name'].apply(lambda x : 'Russia' if x=='Russian Federation' else x)\n",
    "\n",
    "\n",
    "starbucks2['Country_Name']= starbucks2['Country_Name'].apply(lambda x : 'South Korea' if x=='Korea' else x)\n",
    "\n",
    "#Change Russian Federation to Russia\n",
    "starbucks2['Country_Name']= starbucks2['Country_Name'].apply(lambda x : 'Czech Republic' if x=='Czech Republic (Czechia)' else x)\n",
    "\n",
    "\n",
    "# Change column names to lower case\n",
    "starbucks2.columns = [x.lower()  for x in starbucks2.columns]\n"
   ]
  },
  {
   "cell_type": "code",
   "execution_count": null,
   "metadata": {},
   "outputs": [],
   "source": [
    "#Translate some city names in english\n",
    "translator = Translator()\n",
    "starbucks2['City']= starbucks2['City'].apply(lambda x : translator.translate(x) )"
   ]
  },
  {
   "cell_type": "code",
   "execution_count": null,
   "metadata": {},
   "outputs": [],
   "source": [
    "#Merge world population data with starbucks data \n",
    "starbucks3 = pd.merge(starbucks2, world_population, how='left', left_on='country_name', right_on='country')\n",
    "starbucks3.drop('country_y', axis=1, inplace=True)\n",
    "\n",
    "#Rename some columns\n",
    "starbucks3.rename(columns={'country_x':'code', 'continent_name':'continent', 'country_name':'country'}, inplace=True)\n",
    "\n"
   ]
  },
  {
   "cell_type": "code",
   "execution_count": null,
   "metadata": {},
   "outputs": [],
   "source": [
    "df= starbucks3.loc[starbucks3.country=='China']\n",
    "df2= df['city'].unique().tolist()\n",
    "df2\n"
   ]
  },
  {
   "cell_type": "raw",
   "metadata": {},
   "source": [
    "## We would like to know the number of starbucks around the globe."
   ]
  },
  {
   "cell_type": "code",
   "execution_count": 106,
   "metadata": {},
   "outputs": [
    {
     "data": {
      "text/plain": [
       "<matplotlib.axes._subplots.AxesSubplot at 0x2475ecab508>"
      ]
     },
     "execution_count": 106,
     "metadata": {},
     "output_type": "execute_result"
    },
    {
     "data": {
      "image/png": "[encoded data removed]",
      "text/plain": [
       "<Figure size 432x288 with 1 Axes>"
      ]
     },
     "metadata": {},
     "output_type": "display_data"
    }
   ],
   "source": [
    "#Top 15 countries in terms of starbucks store count\n",
    "df_bar= starbucks3[['country','store_count']].groupby('country').sum().sort_values( ascending=False, by='store_count')\n",
    "\n",
    "#Bar graph\n",
    "df_bar.head(15).plot.bar(color='g')\n"
   ]
  },
  {
   "cell_type": "raw",
   "metadata": {},
   "source": [
    "## United states has the most number of stores around the world. And by looking at graph , it seems that starbucks has a lot stores where a country has bigger population?\n",
    "\n",
    "Next, we will try to see the relationship between number of stores and population.\n",
    "\n"
   ]
  },
  {
   "cell_type": "code",
   "execution_count": 125,
   "metadata": {},
   "outputs": [
    {
     "data": {
      "text/html": [
       "<div>\n",
       "<style scoped>\n",
       "    .dataframe tbody tr th:only-of-type {\n",
       "        vertical-align: middle;\n",
       "    }\n",
       "\n",
       "    .dataframe tbody tr th {\n",
       "        vertical-align: top;\n",
       "    }\n",
       "\n",
       "    .dataframe thead th {\n",
       "        text-align: right;\n",
       "    }\n",
       "</style>\n",
       "<table border=\"1\" class=\"dataframe\">\n",
       "  <thead>\n",
       "    <tr style=\"text-align: right;\">\n",
       "      <th></th>\n",
       "      <th>store_name</th>\n",
       "      <th>city</th>\n",
       "      <th>state/province</th>\n",
       "      <th>code</th>\n",
       "      <th>longitude</th>\n",
       "      <th>latitude</th>\n",
       "      <th>store_count</th>\n",
       "      <th>continent</th>\n",
       "      <th>country</th>\n",
       "      <th>population</th>\n",
       "    </tr>\n",
       "  </thead>\n",
       "  <tbody>\n",
       "    <tr>\n",
       "      <th>4062</th>\n",
       "      <td>东莞莞城万科中心店</td>\n",
       "      <td>东莞市</td>\n",
       "      <td>44</td>\n",
       "      <td>CN</td>\n",
       "      <td>113.76</td>\n",
       "      <td>23.02</td>\n",
       "      <td>1</td>\n",
       "      <td>Asia</td>\n",
       "      <td>China</td>\n",
       "      <td>1.439324e+09</td>\n",
       "    </tr>\n",
       "    <tr>\n",
       "      <th>7284</th>\n",
       "      <td>Shinjuku Daian Bldg.</td>\n",
       "      <td>Shinjuku-ku</td>\n",
       "      <td>13</td>\n",
       "      <td>JP</td>\n",
       "      <td>139.70</td>\n",
       "      <td>35.69</td>\n",
       "      <td>1</td>\n",
       "      <td>Asia</td>\n",
       "      <td>Japan</td>\n",
       "      <td>1.264765e+08</td>\n",
       "    </tr>\n",
       "  </tbody>\n",
       "</table>\n",
       "</div>"
      ],
      "text/plain": [
       "                store_name         city state/province code  longitude  \\\n",
       "4062             东莞莞城万科中心店          东莞市             44   CN     113.76   \n",
       "7284  Shinjuku Daian Bldg.  Shinjuku-ku             13   JP     139.70   \n",
       "\n",
       "      latitude  store_count continent country    population  \n",
       "4062     23.02            1      Asia   China  1.439324e+09  \n",
       "7284     35.69            1      Asia   Japan  1.264765e+08  "
      ]
     },
     "execution_count": 125,
     "metadata": {},
     "output_type": "execute_result"
    }
   ],
   "source": [
    "# #Remove the comma in the population 78,100 -->78100\n",
    "pop_df= starbucks3.copy()\n",
    "pop_df.dropna(axis=0, inplace=True)\n",
    "pop_df['population']= pop_df['population'].str.replace(',', '').astype(float)\n",
    "pop_df.sample(2)\n"
   ]
  },
  {
   "cell_type": "code",
   "execution_count": 127,
   "metadata": {},
   "outputs": [
    {
     "data": {
      "text/plain": [
       "<matplotlib.axes._subplots.AxesSubplot at 0x2475fe20908>"
      ]
     },
     "execution_count": 127,
     "metadata": {},
     "output_type": "execute_result"
    },
    {
     "data": {
      "image/png": "[encoded data removed]",
      "text/plain": [
       "<Figure size 432x288 with 1 Axes>"
      ]
     },
     "metadata": {},
     "output_type": "display_data"
    }
   ],
   "source": [
    "df_scatter= pop_df.groupby(['country', 'population']).agg({'store_count':'sum'}).reset_index()\n",
    "df_scatter.plot.scatter('population', 'store_count')\n"
   ]
  },
  {
   "cell_type": "code",
   "execution_count": 128,
   "metadata": {},
   "outputs": [
    {
     "data": {
      "text/plain": [
       "<matplotlib.axes._subplots.AxesSubplot at 0x2475e87b988>"
      ]
     },
     "execution_count": 128,
     "metadata": {},
     "output_type": "execute_result"
    },
    {
     "data": {
      "image/png": "[encoded data removed]",
      "text/plain": [
       "<Figure size 432x288 with 1 Axes>"
      ]
     },
     "metadata": {},
     "output_type": "display_data"
    }
   ],
   "source": [
    "#removing the outliers\n",
    "df_scatter = df_scatter[['population', 'store_count']]\n",
    "df_scatter = df_scatter.loc[df_scatter.apply(lambda x: np.abs(x - x.mean()) / x.std() < 3).all(axis=1)]\n",
    "df_scatter.plot.scatter('population', 'store_count')"
   ]
  },
  {
   "cell_type": "raw",
   "metadata": {},
   "source": [
    "The graph shows that a slightly positive relationship between number of stores and country's population. But what happen in India? It has the 2nd largest population in the world but it has less than 100 stores. ---> edit this more.\n",
    "\n",
    "Where does starbucks allocates their store within each country? "
   ]
  },
  {
   "cell_type": "code",
   "execution_count": 247,
   "metadata": {},
   "outputs": [],
   "source": [
    "city_df = starbucks3[['city', 'country', 'store_count', 'longitude', 'latitude']]\n",
    "city_df = city_df.dropna(axis=0)\n"
   ]
  },
  {
   "cell_type": "code",
   "execution_count": 248,
   "metadata": {},
   "outputs": [
    {
     "data": {
      "text/plain": [
       "<matplotlib.axes._subplots.AxesSubplot at 0x2475ec6f888>"
      ]
     },
     "execution_count": 248,
     "metadata": {},
     "output_type": "execute_result"
    },
    {
     "data": {
      "image/png": "[encoded data removed]",
      "text/plain": [
       "<Figure size 432x288 with 1 Axes>"
      ]
     },
     "metadata": {},
     "output_type": "display_data"
    }
   ],
   "source": [
    "city_bar = city_df.groupby(['city', 'country']).agg({'store_count':'sum'}).sort_values(by='store_count',ascending=False).head(20)\n",
    "city_bar.plot.bar()\n"
   ]
  },
  {
   "cell_type": "code",
   "execution_count": 218,
   "metadata": {},
   "outputs": [],
   "source": [
    "def avg_dist(df):\n",
    "    \n",
    "    \"\"\"\n",
    "    df: is a pandas dataframe\n",
    "\n",
    "    Return the average distance of stores in miles\n",
    "    \"\"\"\n",
    "\n",
    "    #Convert lat and lon degrees in radians\n",
    "    df['latitude'] = np.radians(df['latitude'])\n",
    "    df['longitude'] = np.radians(df['longitude'])\n",
    "\n",
    "    #find the haversine distance\n",
    "    dist = DistanceMetric.get_metric('haversine')\n",
    "\n",
    "    #an array of distance of neighboring stores in miles\n",
    "    array =dist.pairwise(df[['latitude','longitude']].to_numpy())*3798\n",
    "\n",
    "    return np.mean(array[0])\n",
    "\n"
   ]
  },
  {
   "cell_type": "code",
   "execution_count": 251,
   "metadata": {},
   "outputs": [],
   "source": [
    "city1 =city_bar.reset_index().loc[:,['city','country']].to_numpy()"
   ]
  },
  {
   "cell_type": "code",
   "execution_count": 252,
   "metadata": {},
   "outputs": [
    {
     "name": "stderr",
     "output_type": "stream",
     "text": [
      "C:\\Users\\randy\\anaconda\\lib\\site-packages\\ipykernel_launcher.py:10: SettingWithCopyWarning: \n",
      "A value is trying to be set on a copy of a slice from a DataFrame.\n",
      "Try using .loc[row_indexer,col_indexer] = value instead\n",
      "\n",
      "See the caveats in the documentation: https://pandas.pydata.org/pandas-docs/stable/user_guide/indexing.html#returning-a-view-versus-a-copy\n",
      "  # Remove the CWD from sys.path while we load stuff.\n",
      "C:\\Users\\randy\\anaconda\\lib\\site-packages\\ipykernel_launcher.py:11: SettingWithCopyWarning: \n",
      "A value is trying to be set on a copy of a slice from a DataFrame.\n",
      "Try using .loc[row_indexer,col_indexer] = value instead\n",
      "\n",
      "See the caveats in the documentation: https://pandas.pydata.org/pandas-docs/stable/user_guide/indexing.html#returning-a-view-versus-a-copy\n",
      "  # This is added back by InteractiveShellApp.init_path()\n"
     ]
    }
   ],
   "source": [
    "city_list =[]\n",
    "distance_list =[]\n",
    "\n",
    "for ele in city1:\n",
    "    city=ele[0]\n",
    "    country= ele[1]\n",
    "    \n",
    "    city2 = city_df.loc[(city_df.city==city) & (city_df.country==country)]\n",
    "    distance = avg_dist(city2)\n",
    "    \n",
    "    city_list.append(city)\n",
    "    distance_list.append(distance)\n",
    "    \n"
   ]
  },
  {
   "cell_type": "code",
   "execution_count": 253,
   "metadata": {},
   "outputs": [
    {
     "data": {
      "text/html": [
       "<div>\n",
       "<style scoped>\n",
       "    .dataframe tbody tr th:only-of-type {\n",
       "        vertical-align: middle;\n",
       "    }\n",
       "\n",
       "    .dataframe tbody tr th {\n",
       "        vertical-align: top;\n",
       "    }\n",
       "\n",
       "    .dataframe thead th {\n",
       "        text-align: right;\n",
       "    }\n",
       "</style>\n",
       "<table border=\"1\" class=\"dataframe\">\n",
       "  <thead>\n",
       "    <tr style=\"text-align: right;\">\n",
       "      <th></th>\n",
       "      <th>city</th>\n",
       "      <th>avg_dist</th>\n",
       "    </tr>\n",
       "  </thead>\n",
       "  <tbody>\n",
       "    <tr>\n",
       "      <th>0</th>\n",
       "      <td>上海市</td>\n",
       "      <td>6.580064</td>\n",
       "    </tr>\n",
       "    <tr>\n",
       "      <th>1</th>\n",
       "      <td>Istanbul</td>\n",
       "      <td>12.080779</td>\n",
       "    </tr>\n",
       "    <tr>\n",
       "      <th>2</th>\n",
       "      <td>Seoul</td>\n",
       "      <td>10.185766</td>\n",
       "    </tr>\n",
       "    <tr>\n",
       "      <th>3</th>\n",
       "      <td>北京市</td>\n",
       "      <td>7.992574</td>\n",
       "    </tr>\n",
       "    <tr>\n",
       "      <th>4</th>\n",
       "      <td>New York</td>\n",
       "      <td>2.485534</td>\n",
       "    </tr>\n",
       "    <tr>\n",
       "      <th>5</th>\n",
       "      <td>London</td>\n",
       "      <td>6.196099</td>\n",
       "    </tr>\n",
       "    <tr>\n",
       "      <th>6</th>\n",
       "      <td>Toronto</td>\n",
       "      <td>3.275323</td>\n",
       "    </tr>\n",
       "    <tr>\n",
       "      <th>7</th>\n",
       "      <td>Chicago</td>\n",
       "      <td>4.345767</td>\n",
       "    </tr>\n",
       "    <tr>\n",
       "      <th>8</th>\n",
       "      <td>Mexico City</td>\n",
       "      <td>10.114578</td>\n",
       "    </tr>\n",
       "    <tr>\n",
       "      <th>9</th>\n",
       "      <td>Seattle</td>\n",
       "      <td>5.680730</td>\n",
       "    </tr>\n",
       "    <tr>\n",
       "      <th>10</th>\n",
       "      <td>Las Vegas</td>\n",
       "      <td>4.706273</td>\n",
       "    </tr>\n",
       "    <tr>\n",
       "      <th>11</th>\n",
       "      <td>Houston</td>\n",
       "      <td>10.116222</td>\n",
       "    </tr>\n",
       "    <tr>\n",
       "      <th>12</th>\n",
       "      <td>Moscow</td>\n",
       "      <td>5.051683</td>\n",
       "    </tr>\n",
       "    <tr>\n",
       "      <th>13</th>\n",
       "      <td>서울</td>\n",
       "      <td>4.216003</td>\n",
       "    </tr>\n",
       "    <tr>\n",
       "      <th>14</th>\n",
       "      <td>San Diego</td>\n",
       "      <td>16.111353</td>\n",
       "    </tr>\n",
       "    <tr>\n",
       "      <th>15</th>\n",
       "      <td>Calgary</td>\n",
       "      <td>4.306347</td>\n",
       "    </tr>\n",
       "    <tr>\n",
       "      <th>16</th>\n",
       "      <td>Singapore</td>\n",
       "      <td>3.995115</td>\n",
       "    </tr>\n",
       "    <tr>\n",
       "      <th>17</th>\n",
       "      <td>Los Angeles</td>\n",
       "      <td>5.518555</td>\n",
       "    </tr>\n",
       "    <tr>\n",
       "      <th>18</th>\n",
       "      <td>Taipei City</td>\n",
       "      <td>8.825857</td>\n",
       "    </tr>\n",
       "    <tr>\n",
       "      <th>19</th>\n",
       "      <td>Jakarta</td>\n",
       "      <td>9.208065</td>\n",
       "    </tr>\n",
       "  </tbody>\n",
       "</table>\n",
       "</div>"
      ],
      "text/plain": [
       "           city   avg_dist\n",
       "0           上海市   6.580064\n",
       "1      Istanbul  12.080779\n",
       "2         Seoul  10.185766\n",
       "3           北京市   7.992574\n",
       "4      New York   2.485534\n",
       "5        London   6.196099\n",
       "6       Toronto   3.275323\n",
       "7       Chicago   4.345767\n",
       "8   Mexico City  10.114578\n",
       "9       Seattle   5.680730\n",
       "10    Las Vegas   4.706273\n",
       "11      Houston  10.116222\n",
       "12       Moscow   5.051683\n",
       "13           서울   4.216003\n",
       "14    San Diego  16.111353\n",
       "15      Calgary   4.306347\n",
       "16    Singapore   3.995115\n",
       "17  Los Angeles   5.518555\n",
       "18  Taipei City   8.825857\n",
       "19      Jakarta   9.208065"
      ]
     },
     "execution_count": 253,
     "metadata": {},
     "output_type": "execute_result"
    }
   ],
   "source": [
    "\n",
    "distance_df =pd.DataFrame({'city': pd.Series(city_list), 'avg_dist':pd.Series(distance_list)})\n",
    "distance_df\n",
    "    "
   ]
  },
  {
   "cell_type": "code",
   "execution_count": 204,
   "metadata": {},
   "outputs": [
    {
     "data": {
      "text/plain": [
       "array([['上海市', 'China'],\n",
       "       ['Istanbul', 'Turkey'],\n",
       "       ['Seoul', 'South Korea'],\n",
       "       ['北京市', 'China'],\n",
       "       ['New York', 'United States'],\n",
       "       ['London', 'United Kingdom'],\n",
       "       ['Toronto', 'Canada'],\n",
       "       ['Chicago', 'United States'],\n",
       "       ['Mexico City', 'Mexico'],\n",
       "       ['Seattle', 'United States'],\n",
       "       ['Las Vegas', 'United States'],\n",
       "       ['Houston', 'United States'],\n",
       "       ['Moscow', 'Russia'],\n",
       "       ['서울', 'South Korea'],\n",
       "       ['San Diego', 'United States'],\n",
       "       ['Calgary', 'Canada'],\n",
       "       ['Singapore', 'Singapore']], dtype=object)"
      ]
     },
     "execution_count": 204,
     "metadata": {},
     "output_type": "execute_result"
    }
   ],
   "source": [
    "city1 =city_bar.reset_index().loc[:,['city','country']].to_numpy()\n",
    "city1\n"
   ]
  },
  {
   "cell_type": "code",
   "execution_count": 234,
   "metadata": {},
   "outputs": [
    {
     "name": "stderr",
     "output_type": "stream",
     "text": [
      "C:\\Users\\randy\\anaconda\\lib\\site-packages\\ipykernel_launcher.py:3: SettingWithCopyWarning: \n",
      "A value is trying to be set on a copy of a slice from a DataFrame.\n",
      "Try using .loc[row_indexer,col_indexer] = value instead\n",
      "\n",
      "See the caveats in the documentation: https://pandas.pydata.org/pandas-docs/stable/user_guide/indexing.html#returning-a-view-versus-a-copy\n",
      "  This is separate from the ipykernel package so we can avoid doing imports until\n",
      "C:\\Users\\randy\\anaconda\\lib\\site-packages\\ipykernel_launcher.py:4: SettingWithCopyWarning: \n",
      "A value is trying to be set on a copy of a slice from a DataFrame.\n",
      "Try using .loc[row_indexer,col_indexer] = value instead\n",
      "\n",
      "See the caveats in the documentation: https://pandas.pydata.org/pandas-docs/stable/user_guide/indexing.html#returning-a-view-versus-a-copy\n",
      "  after removing the cwd from sys.path.\n"
     ]
    },
    {
     "data": {
      "text/plain": [
       "array([ 0.        ,  7.58044291,  2.20218711,  9.99853379,  6.71150918,\n",
       "        7.01379373,  9.8012066 ,  7.46402927, 12.08163482,  9.90106328,\n",
       "       11.50135221, 10.79537528,  7.58841979,  7.46003008,  9.14328251,\n",
       "        7.00803908,  7.901447  ,  2.6515042 , 10.70464355,  5.78544043,\n",
       "        9.52300401, 35.54194784,  8.06470113,  5.41608319, 31.32068554,\n",
       "       13.7237405 ,  5.78544043,  9.06630959,  6.17051018,  6.25986841,\n",
       "        7.31053849,  5.78544043,  8.69049645,  4.57312328, 19.41557544,\n",
       "       21.88123613,  4.94961516,  7.13020172,  5.78544043,  7.58841979,\n",
       "        6.05768263,  9.36949721, 25.71738824,  8.7603732 ,  7.9545126 ,\n",
       "        7.61199999, 13.53489447, 34.63600948,  5.78544043,  3.73151829,\n",
       "        9.06630959, 20.65661774,  9.00896633,  9.98264579,  6.62386553,\n",
       "        8.23718755, 42.4993412 ,  9.51734211,  9.06630959,  4.11794615,\n",
       "        6.62386553, 33.39446069, 23.43881904, 13.7237405 ,  7.34969114,\n",
       "        4.49797245, 11.96042152, 21.67637652, 34.61758183,  4.9078892 ,\n",
       "        5.35121466,  3.3826731 ,  4.90036531,  7.82654808,  7.82654808,\n",
       "        1.57493396,  8.25538528,  2.53693908,  7.29163655,  6.25986841,\n",
       "        9.52300401,  1.69124889,  9.8012066 , 11.98192318, 35.87791381,\n",
       "        9.98264579,  6.25986841, 11.67810605,  9.8012066 ,  6.32508844,\n",
       "        9.06630959, 11.98192318,  7.36695333,  8.61738865,  6.81353195,\n",
       "        5.33173156,  8.3054174 , 10.4310938 , 19.40247898,  5.77268401,\n",
       "        8.02361867,  7.97184528,  6.71150918,  7.00834923,  2.53693908,\n",
       "        9.41320336,  8.55639783, 10.99624894, 26.67056968,  8.76359217,\n",
       "        4.96774443,  9.06630959,  6.25986841,  7.84255045,  5.78544043,\n",
       "       13.78150261, 21.52934898,  9.99067344,  3.3826731 ,  7.00803908,\n",
       "        5.5321771 ,  9.98264579,  7.1098629 ,  9.98264579,  8.16654313,\n",
       "       13.021611  , 19.99728936, 11.94131496,  6.62386553,  5.78544043,\n",
       "        6.25986841,  5.78544043, 22.92751164,  9.90106328, 12.45181323,\n",
       "        6.25986841,  4.49797245,  9.52300401, 13.36695725,  9.64501557,\n",
       "        5.78544043,  7.82654808,  4.57312328,  8.22745491,  4.66976333,\n",
       "        5.41608319,  3.66976859,  9.17596822,  9.99067344,  5.92013792,\n",
       "        6.25986841, 10.84033875,  8.23718755, 26.67056968,  9.99067344,\n",
       "       10.4310938 ,  7.2973723 ,  8.02361867,  7.9545126 , 19.07074072,\n",
       "       21.44562085, 35.45497465,  1.3257521 ,  5.98896591,  5.92013792,\n",
       "       10.28445358, 29.99263628,  9.51531612, 11.96042152,  3.72562929,\n",
       "        9.90106328,  9.41320336,  2.05881106,  3.66976859,  8.10917314,\n",
       "        8.22745491,  9.33958216, 10.37619808,  7.31053849,  8.7603732 ,\n",
       "        4.90036531,  6.05768263, 11.12772976,  7.38001574,  7.82654808,\n",
       "        9.64501557,  9.2802647 ,  4.75754911,  6.25986841,  7.61199999,\n",
       "        8.61738865,  9.49731642, 14.41817392, 11.01066775, 26.43969135,\n",
       "        0.66287605,  6.17740505,  6.74725512,  8.10917314, 12.45181323,\n",
       "        3.0841897 ,  2.48363348,  5.78544043,  9.00896633,  5.41608319,\n",
       "       12.21955242,  8.7603732 , 11.9317689 , 10.79537528,  8.3054174 ,\n",
       "        8.55639783,  4.94961516, 26.08285265,  8.7603732 , 10.30685332,\n",
       "       25.90054112,  1.3257521 ,  5.92013792,  5.78544043,  5.92013792,\n",
       "        7.58841979,  8.22745491,  8.02361867,  9.99067344, 22.38156161,\n",
       "        5.41608319, 36.69638619,  9.90106328,  2.53693908,  8.61738865,\n",
       "       30.13248272,  7.00803908,  7.94382175,  7.1042005 , 11.12772976,\n",
       "       13.00555478, 10.29729342,  9.49731642,  9.00896633,  8.64573398,\n",
       "       12.87028599, 28.19637546])"
      ]
     },
     "execution_count": 234,
     "metadata": {},
     "output_type": "execute_result"
    }
   ],
   "source": [
    "seoul = city_df.loc[(city_df.city=='Seoul') & (city_df.country=='South Korea')]\n",
    "\n",
    "seoul['latitude'] = np.radians(seoul['latitude'])\n",
    "seoul['longitude'] = np.radians(seoul['longitude'])\n",
    "\n",
    "#find the haversine distance\n",
    "dist = DistanceMetric.get_metric('haversine')\n",
    "\n",
    "#an array of distance of stores\n",
    "array =dist.pairwise(seoul[['latitude','longitude']].to_numpy())*3798\n",
    "\n",
    "array[0]\n",
    "\n"
   ]
  },
  {
   "cell_type": "code",
   "execution_count": null,
   "metadata": {},
   "outputs": [],
   "source": [
    "city_df = starbucks.loc[(starbucks.City=='London') & (starbucks.Country=='GB')]\n",
    "city_df\n",
    "\n",
    "city_bar\n",
    "\n"
   ]
  }
 ],
 "metadata": {
  "kernelspec": {
   "display_name": "Python 3",
   "language": "python",
   "name": "python3"
  },
  "language_info": {
   "codemirror_mode": {
    "name": "ipython",
    "version": 3
   },
   "file_extension": ".py",
   "mimetype": "text/x-python",
   "name": "python",
   "nbconvert_exporter": "python",
   "pygments_lexer": "ipython3",
   "version": "3.7.6"
  }
 },
 "nbformat": 4,
 "nbformat_minor": 4
}
