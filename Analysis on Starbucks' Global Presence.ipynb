{
 "cells": [
  {
   "cell_type": "markdown",
   "metadata": {},
   "source": [
    "# Analysis Of Starbucks'  Global Presence\n"
   ]
  },
  {
   "cell_type": "markdown",
   "metadata": {},
   "source": [
    "*Importing packages*"
   ]
  },
  {
   "cell_type": "code",
   "execution_count": 1,
   "metadata": {},
   "outputs": [],
   "source": [
    "import pandas as pd\n",
    "import numpy as np\n",
    "import plotly.express as px"
   ]
  },
  {
   "cell_type": "markdown",
   "metadata": {},
   "source": [
    "* Reading the data into the dataframe\n",
    "* Preprocessing the data and formatting it"
   ]
  },
  {
   "cell_type": "code",
   "execution_count": 2,
   "metadata": {},
   "outputs": [
    {
     "data": {
      "text/html": [
       "<div>\n",
       "<style scoped>\n",
       "    .dataframe tbody tr th:only-of-type {\n",
       "        vertical-align: middle;\n",
       "    }\n",
       "\n",
       "    .dataframe tbody tr th {\n",
       "        vertical-align: top;\n",
       "    }\n",
       "\n",
       "    .dataframe thead th {\n",
       "        text-align: right;\n",
       "    }\n",
       "</style>\n",
       "<table border=\"1\" class=\"dataframe\">\n",
       "  <thead>\n",
       "    <tr style=\"text-align: right;\">\n",
       "      <th></th>\n",
       "      <th>Country</th>\n",
       "      <th>store_count</th>\n",
       "    </tr>\n",
       "  </thead>\n",
       "  <tbody>\n",
       "    <tr>\n",
       "      <th>55</th>\n",
       "      <td>PL</td>\n",
       "      <td>53.0</td>\n",
       "    </tr>\n",
       "    <tr>\n",
       "      <th>56</th>\n",
       "      <td>PR</td>\n",
       "      <td>24.0</td>\n",
       "    </tr>\n",
       "    <tr>\n",
       "      <th>21</th>\n",
       "      <td>CY</td>\n",
       "      <td>10.0</td>\n",
       "    </tr>\n",
       "    <tr>\n",
       "      <th>58</th>\n",
       "      <td>QA</td>\n",
       "      <td>18.0</td>\n",
       "    </tr>\n",
       "    <tr>\n",
       "      <th>70</th>\n",
       "      <td>US</td>\n",
       "      <td>13608.0</td>\n",
       "    </tr>\n",
       "  </tbody>\n",
       "</table>\n",
       "</div>"
      ],
      "text/plain": [
       "   Country  store_count\n",
       "55      PL         53.0\n",
       "56      PR         24.0\n",
       "21      CY         10.0\n",
       "58      QA         18.0\n",
       "70      US      13608.0"
      ]
     },
     "execution_count": 2,
     "metadata": {},
     "output_type": "execute_result"
    }
   ],
   "source": [
    "# Data frame for the starbucks locations\n",
    "starbucks = pd.read_csv('directory.csv')\n",
    "starbucks['store_count']= np.ones(starbucks.shape[0])\n",
    "starbucks =starbucks[['Country', 'store_count', 'Ownership_Type']]\n",
    "starbucks=starbucks.groupby('Country').agg({'store_count':'sum'})\n",
    "starbucks.reset_index(inplace=True)\n",
    "starbucks.sample(5)\n"
   ]
  },
  {
   "cell_type": "code",
   "execution_count": 3,
   "metadata": {},
   "outputs": [
    {
     "data": {
      "text/html": [
       "<div>\n",
       "<style scoped>\n",
       "    .dataframe tbody tr th:only-of-type {\n",
       "        vertical-align: middle;\n",
       "    }\n",
       "\n",
       "    .dataframe tbody tr th {\n",
       "        vertical-align: top;\n",
       "    }\n",
       "\n",
       "    .dataframe thead th {\n",
       "        text-align: right;\n",
       "    }\n",
       "</style>\n",
       "<table border=\"1\" class=\"dataframe\">\n",
       "  <thead>\n",
       "    <tr style=\"text-align: right;\">\n",
       "      <th></th>\n",
       "      <th>Continent_Name</th>\n",
       "      <th>Country_Name</th>\n",
       "      <th>Two_Letter_Country_Code</th>\n",
       "    </tr>\n",
       "  </thead>\n",
       "  <tbody>\n",
       "    <tr>\n",
       "      <th>0</th>\n",
       "      <td>Asia</td>\n",
       "      <td>Afghanistan</td>\n",
       "      <td>AF</td>\n",
       "    </tr>\n",
       "    <tr>\n",
       "      <th>1</th>\n",
       "      <td>Europe</td>\n",
       "      <td>Albania</td>\n",
       "      <td>AL</td>\n",
       "    </tr>\n",
       "    <tr>\n",
       "      <th>2</th>\n",
       "      <td>Antarctica</td>\n",
       "      <td>Antarctica</td>\n",
       "      <td>AQ</td>\n",
       "    </tr>\n",
       "    <tr>\n",
       "      <th>3</th>\n",
       "      <td>Africa</td>\n",
       "      <td>Algeria</td>\n",
       "      <td>DZ</td>\n",
       "    </tr>\n",
       "    <tr>\n",
       "      <th>4</th>\n",
       "      <td>Oceania</td>\n",
       "      <td>American Samoa</td>\n",
       "      <td>AS</td>\n",
       "    </tr>\n",
       "    <tr>\n",
       "      <th>...</th>\n",
       "      <td>...</td>\n",
       "      <td>...</td>\n",
       "      <td>...</td>\n",
       "    </tr>\n",
       "    <tr>\n",
       "      <th>256</th>\n",
       "      <td>Africa</td>\n",
       "      <td>Zambia</td>\n",
       "      <td>ZM</td>\n",
       "    </tr>\n",
       "    <tr>\n",
       "      <th>257</th>\n",
       "      <td>Oceania</td>\n",
       "      <td>Disputed Territory</td>\n",
       "      <td>XX</td>\n",
       "    </tr>\n",
       "    <tr>\n",
       "      <th>258</th>\n",
       "      <td>Asia</td>\n",
       "      <td>Iraq-Saudi Arabia Neutral Zone</td>\n",
       "      <td>XE</td>\n",
       "    </tr>\n",
       "    <tr>\n",
       "      <th>259</th>\n",
       "      <td>Asia</td>\n",
       "      <td>United Nations Neutral Zone</td>\n",
       "      <td>XD</td>\n",
       "    </tr>\n",
       "    <tr>\n",
       "      <th>260</th>\n",
       "      <td>Asia</td>\n",
       "      <td>Spratly Islands</td>\n",
       "      <td>XS</td>\n",
       "    </tr>\n",
       "  </tbody>\n",
       "</table>\n",
       "<p>261 rows × 3 columns</p>\n",
       "</div>"
      ],
      "text/plain": [
       "    Continent_Name                    Country_Name Two_Letter_Country_Code\n",
       "0             Asia                     Afghanistan                      AF\n",
       "1           Europe                         Albania                      AL\n",
       "2       Antarctica                     Antarctica                       AQ\n",
       "3           Africa                         Algeria                      DZ\n",
       "4          Oceania                  American Samoa                      AS\n",
       "..             ...                             ...                     ...\n",
       "256         Africa                          Zambia                      ZM\n",
       "257        Oceania              Disputed Territory                      XX\n",
       "258           Asia  Iraq-Saudi Arabia Neutral Zone                      XE\n",
       "259           Asia     United Nations Neutral Zone                      XD\n",
       "260           Asia                 Spratly Islands                      XS\n",
       "\n",
       "[261 rows x 3 columns]"
      ]
     },
     "execution_count": 3,
     "metadata": {},
     "output_type": "execute_result"
    }
   ],
   "source": [
    "#Read the country code file into the dateframe.\n",
    "country_code = pd.read_csv('country_code.csv')\n",
    "country_code.sample(2)\n",
    "\n",
    "#Modify the name of some countries, removing 'the, republic of'\n",
    "country_name = country_code['Country_Name'].tolist()\n",
    "\n",
    "country_name = [country.split(',')[0] for country in country_name]\n",
    "\n",
    "#Assign the modified values in the country_name column\n",
    "country_code['Country_Name'] = country_name\n",
    "\n",
    "country_change = {'United States of America':'United States', 'Russian Federation':'Russia', 'Korea':'South Korea',\n",
    "                  'Czech Republic (Czechia)' :'Czech Republic'}\n",
    "\n",
    "#Change united states of america to united states\n",
    "country_code['Country_Name']= country_code['Country_Name'].apply(lambda x : country_change[x] if x in country_change else x)\n",
    "\n",
    "country_code"
   ]
  },
  {
   "cell_type": "code",
   "execution_count": 4,
   "metadata": {},
   "outputs": [
    {
     "data": {
      "text/html": [
       "<div>\n",
       "<style scoped>\n",
       "    .dataframe tbody tr th:only-of-type {\n",
       "        vertical-align: middle;\n",
       "    }\n",
       "\n",
       "    .dataframe tbody tr th {\n",
       "        vertical-align: top;\n",
       "    }\n",
       "\n",
       "    .dataframe thead th {\n",
       "        text-align: right;\n",
       "    }\n",
       "</style>\n",
       "<table border=\"1\" class=\"dataframe\">\n",
       "  <thead>\n",
       "    <tr style=\"text-align: right;\">\n",
       "      <th></th>\n",
       "      <th>store_count</th>\n",
       "      <th>Continent_Name</th>\n",
       "      <th>Country_Name</th>\n",
       "      <th>Two_Letter_Country_Code</th>\n",
       "    </tr>\n",
       "  </thead>\n",
       "  <tbody>\n",
       "    <tr>\n",
       "      <th>110</th>\n",
       "      <td>0.0</td>\n",
       "      <td>Africa</td>\n",
       "      <td>Mayotte</td>\n",
       "      <td>YT</td>\n",
       "    </tr>\n",
       "    <tr>\n",
       "      <th>196</th>\n",
       "      <td>0.0</td>\n",
       "      <td>Oceania</td>\n",
       "      <td>United States Minor Outlying Islands</td>\n",
       "      <td>UM</td>\n",
       "    </tr>\n",
       "    <tr>\n",
       "      <th>182</th>\n",
       "      <td>0.0</td>\n",
       "      <td>Africa</td>\n",
       "      <td>Namibia</td>\n",
       "      <td>0</td>\n",
       "    </tr>\n",
       "    <tr>\n",
       "      <th>212</th>\n",
       "      <td>0.0</td>\n",
       "      <td>North America</td>\n",
       "      <td>Anguilla</td>\n",
       "      <td>AI</td>\n",
       "    </tr>\n",
       "  </tbody>\n",
       "</table>\n",
       "</div>"
      ],
      "text/plain": [
       "     store_count Continent_Name                          Country_Name  \\\n",
       "110          0.0         Africa                               Mayotte   \n",
       "196          0.0        Oceania  United States Minor Outlying Islands   \n",
       "182          0.0         Africa                               Namibia   \n",
       "212          0.0  North America                              Anguilla   \n",
       "\n",
       "    Two_Letter_Country_Code  \n",
       "110                      YT  \n",
       "196                      UM  \n",
       "182                       0  \n",
       "212                      AI  "
      ]
     },
     "execution_count": 4,
     "metadata": {},
     "output_type": "execute_result"
    }
   ],
   "source": [
    "#Merge starbucks data frame and country code\n",
    "starbucks1 = pd.merge(starbucks, country_code, how='outer' ,left_on='Country', right_on='Two_Letter_Country_Code')\n",
    "starbucks1.drop(['Country'], axis=1, inplace=True)\n",
    "starbucks1.fillna(0, inplace=True)\n",
    "starbucks1.sample(4)\n"
   ]
  },
  {
   "cell_type": "code",
   "execution_count": 5,
   "metadata": {},
   "outputs": [
    {
     "data": {
      "text/html": [
       "<div>\n",
       "<style scoped>\n",
       "    .dataframe tbody tr th:only-of-type {\n",
       "        vertical-align: middle;\n",
       "    }\n",
       "\n",
       "    .dataframe tbody tr th {\n",
       "        vertical-align: top;\n",
       "    }\n",
       "\n",
       "    .dataframe thead th {\n",
       "        text-align: right;\n",
       "    }\n",
       "</style>\n",
       "<table border=\"1\" class=\"dataframe\">\n",
       "  <thead>\n",
       "    <tr style=\"text-align: right;\">\n",
       "      <th></th>\n",
       "      <th>country</th>\n",
       "      <th>population</th>\n",
       "      <th>density</th>\n",
       "      <th>land_area</th>\n",
       "    </tr>\n",
       "  </thead>\n",
       "  <tbody>\n",
       "    <tr>\n",
       "      <th>113</th>\n",
       "      <td>Singapore</td>\n",
       "      <td>5850342.0</td>\n",
       "      <td>8358.0</td>\n",
       "      <td>700.0</td>\n",
       "    </tr>\n",
       "    <tr>\n",
       "      <th>49</th>\n",
       "      <td>Venezuela</td>\n",
       "      <td>28435940.0</td>\n",
       "      <td>32.0</td>\n",
       "      <td>882050.0</td>\n",
       "    </tr>\n",
       "    <tr>\n",
       "      <th>134</th>\n",
       "      <td>Bosnia and Herzegovina</td>\n",
       "      <td>3280819.0</td>\n",
       "      <td>64.0</td>\n",
       "      <td>51000.0</td>\n",
       "    </tr>\n",
       "    <tr>\n",
       "      <th>168</th>\n",
       "      <td>Luxembourg</td>\n",
       "      <td>625978.0</td>\n",
       "      <td>242.0</td>\n",
       "      <td>2590.0</td>\n",
       "    </tr>\n",
       "    <tr>\n",
       "      <th>38</th>\n",
       "      <td>Canada</td>\n",
       "      <td>37742154.0</td>\n",
       "      <td>4.0</td>\n",
       "      <td>9093510.0</td>\n",
       "    </tr>\n",
       "  </tbody>\n",
       "</table>\n",
       "</div>"
      ],
      "text/plain": [
       "                    country  population  density  land_area\n",
       "113               Singapore   5850342.0   8358.0      700.0\n",
       "49                Venezuela  28435940.0     32.0   882050.0\n",
       "134  Bosnia and Herzegovina   3280819.0     64.0    51000.0\n",
       "168              Luxembourg    625978.0    242.0     2590.0\n",
       "38                   Canada  37742154.0      4.0  9093510.0"
      ]
     },
     "execution_count": 5,
     "metadata": {},
     "output_type": "execute_result"
    }
   ],
   "source": [
    "#Dataframe for the world population\n",
    "world_population = pd.read_csv('world_population.csv')\n",
    "world_population = world_population[['country', 'population', 'density','land_area']]\n",
    "world_population['population']= world_population['population'].str.replace(',', '').astype(float)\n",
    "world_population['density']= world_population['density'].str.replace(',', '').astype(float)\n",
    "world_population['land_area']= world_population['land_area'].str.replace(',', '').astype(float)\n",
    "\n",
    "world_population.sample(5)"
   ]
  },
  {
   "cell_type": "code",
   "execution_count": 28,
   "metadata": {},
   "outputs": [
    {
     "data": {
      "text/html": [
       "<div>\n",
       "<style scoped>\n",
       "    .dataframe tbody tr th:only-of-type {\n",
       "        vertical-align: middle;\n",
       "    }\n",
       "\n",
       "    .dataframe tbody tr th {\n",
       "        vertical-align: top;\n",
       "    }\n",
       "\n",
       "    .dataframe thead th {\n",
       "        text-align: right;\n",
       "    }\n",
       "</style>\n",
       "<table border=\"1\" class=\"dataframe\">\n",
       "  <thead>\n",
       "    <tr style=\"text-align: right;\">\n",
       "      <th></th>\n",
       "      <th>country</th>\n",
       "      <th>population</th>\n",
       "      <th>gdp_per_capita</th>\n",
       "      <th>land_area</th>\n",
       "      <th>gdp_ppp</th>\n",
       "    </tr>\n",
       "  </thead>\n",
       "  <tbody>\n",
       "    <tr>\n",
       "      <th>203</th>\n",
       "      <td>Dominica</td>\n",
       "      <td>71986.0</td>\n",
       "      <td>12628.041715</td>\n",
       "      <td>750.0</td>\n",
       "      <td>9.090422e+08</td>\n",
       "    </tr>\n",
       "    <tr>\n",
       "      <th>23</th>\n",
       "      <td>Tanzania</td>\n",
       "      <td>59734218.0</td>\n",
       "      <td>2611.568465</td>\n",
       "      <td>885800.0</td>\n",
       "      <td>1.560000e+11</td>\n",
       "    </tr>\n",
       "    <tr>\n",
       "      <th>75</th>\n",
       "      <td>Rwanda</td>\n",
       "      <td>12952218.0</td>\n",
       "      <td>2260.262274</td>\n",
       "      <td>24670.0</td>\n",
       "      <td>2.927541e+10</td>\n",
       "    </tr>\n",
       "    <tr>\n",
       "      <th>197</th>\n",
       "      <td>Tonga</td>\n",
       "      <td>105695.0</td>\n",
       "      <td>NaN</td>\n",
       "      <td>720.0</td>\n",
       "      <td>NaN</td>\n",
       "    </tr>\n",
       "  </tbody>\n",
       "</table>\n",
       "</div>"
      ],
      "text/plain": [
       "      country  population  gdp_per_capita  land_area       gdp_ppp\n",
       "203  Dominica     71986.0    12628.041715      750.0  9.090422e+08\n",
       "23   Tanzania  59734218.0     2611.568465   885800.0  1.560000e+11\n",
       "75     Rwanda  12952218.0     2260.262274    24670.0  2.927541e+10\n",
       "197     Tonga    105695.0             NaN      720.0           NaN"
      ]
     },
     "execution_count": 28,
     "metadata": {},
     "output_type": "execute_result"
    }
   ],
   "source": [
    "#DataFrame for the gdp\n",
    "gdp=pd.read_csv('gdp.csv')\n",
    "\n",
    "#Merge gdp and world population data frame\n",
    "gdp_pop = pd.merge(world_population, gdp, how='outer' ,on='country')\n",
    "gdp_pop.sample(5)\n",
    "gdp_pop['gdp_per_capita']= gdp_pop.gdp_ppp/gdp_pop.population\n",
    "gdp_pop= gdp_pop[['country', 'population', 'gdp_per_capita', 'land_area', 'gdp_ppp']]\n",
    "gdp_pop.sample(4)\n"
   ]
  },
  {
   "cell_type": "code",
   "execution_count": 29,
   "metadata": {},
   "outputs": [
    {
     "data": {
      "text/html": [
       "<div>\n",
       "<style scoped>\n",
       "    .dataframe tbody tr th:only-of-type {\n",
       "        vertical-align: middle;\n",
       "    }\n",
       "\n",
       "    .dataframe tbody tr th {\n",
       "        vertical-align: top;\n",
       "    }\n",
       "\n",
       "    .dataframe thead th {\n",
       "        text-align: right;\n",
       "    }\n",
       "</style>\n",
       "<table border=\"1\" class=\"dataframe\">\n",
       "  <thead>\n",
       "    <tr style=\"text-align: right;\">\n",
       "      <th></th>\n",
       "      <th>store_count</th>\n",
       "      <th>Continent_Name</th>\n",
       "      <th>Two_Letter_Country_Code</th>\n",
       "      <th>country</th>\n",
       "      <th>population</th>\n",
       "      <th>gdp_per_capita</th>\n",
       "      <th>land_area</th>\n",
       "      <th>gdp_ppp</th>\n",
       "    </tr>\n",
       "  </thead>\n",
       "  <tbody>\n",
       "    <tr>\n",
       "      <th>99</th>\n",
       "      <td>0.0</td>\n",
       "      <td>Africa</td>\n",
       "      <td>BI</td>\n",
       "      <td>Burundi</td>\n",
       "      <td>11890784.0</td>\n",
       "      <td>759.102958</td>\n",
       "      <td>25680.0</td>\n",
       "      <td>9.026329e+09</td>\n",
       "    </tr>\n",
       "    <tr>\n",
       "      <th>32</th>\n",
       "      <td>28.0</td>\n",
       "      <td>Europe</td>\n",
       "      <td>GR</td>\n",
       "      <td>Greece</td>\n",
       "      <td>10423054.0</td>\n",
       "      <td>32236.233258</td>\n",
       "      <td>128900.0</td>\n",
       "      <td>3.360000e+11</td>\n",
       "    </tr>\n",
       "    <tr>\n",
       "      <th>154</th>\n",
       "      <td>0.0</td>\n",
       "      <td>Asia</td>\n",
       "      <td>IQ</td>\n",
       "      <td>Iraq</td>\n",
       "      <td>40222493.0</td>\n",
       "      <td>11063.461432</td>\n",
       "      <td>434320.0</td>\n",
       "      <td>4.450000e+11</td>\n",
       "    </tr>\n",
       "    <tr>\n",
       "      <th>31</th>\n",
       "      <td>901.0</td>\n",
       "      <td>Europe</td>\n",
       "      <td>GB</td>\n",
       "      <td>United Kingdom</td>\n",
       "      <td>67886011.0</td>\n",
       "      <td>48021.675629</td>\n",
       "      <td>241930.0</td>\n",
       "      <td>3.260000e+12</td>\n",
       "    </tr>\n",
       "  </tbody>\n",
       "</table>\n",
       "</div>"
      ],
      "text/plain": [
       "     store_count Continent_Name Two_Letter_Country_Code         country  \\\n",
       "99           0.0         Africa                      BI         Burundi   \n",
       "32          28.0         Europe                      GR          Greece   \n",
       "154          0.0           Asia                      IQ            Iraq   \n",
       "31         901.0         Europe                      GB  United Kingdom   \n",
       "\n",
       "     population  gdp_per_capita  land_area       gdp_ppp  \n",
       "99   11890784.0      759.102958    25680.0  9.026329e+09  \n",
       "32   10423054.0    32236.233258   128900.0  3.360000e+11  \n",
       "154  40222493.0    11063.461432   434320.0  4.450000e+11  \n",
       "31   67886011.0    48021.675629   241930.0  3.260000e+12  "
      ]
     },
     "execution_count": 29,
     "metadata": {},
     "output_type": "execute_result"
    }
   ],
   "source": [
    "#Merge starbucks data frame and the gdp_pop data frame\n",
    "starbucks2 =pd.merge(starbucks1, gdp_pop, how='left', left_on='Country_Name', right_on='country')\n",
    "starbucks2.sample(5)\n",
    "starbucks2.dropna(axis=0, inplace=True)\n",
    "starbucks2.drop('Country_Name',axis=1, inplace=True)\n",
    "starbucks2.sample(4)"
   ]
  },
  {
   "cell_type": "code",
   "execution_count": 30,
   "metadata": {},
   "outputs": [
    {
     "data": {
      "text/html": [
       "<div>\n",
       "<style scoped>\n",
       "    .dataframe tbody tr th:only-of-type {\n",
       "        vertical-align: middle;\n",
       "    }\n",
       "\n",
       "    .dataframe tbody tr th {\n",
       "        vertical-align: top;\n",
       "    }\n",
       "\n",
       "    .dataframe thead th {\n",
       "        text-align: right;\n",
       "    }\n",
       "</style>\n",
       "<table border=\"1\" class=\"dataframe\">\n",
       "  <thead>\n",
       "    <tr style=\"text-align: right;\">\n",
       "      <th></th>\n",
       "      <th>store_count</th>\n",
       "      <th>Continent_Name</th>\n",
       "      <th>Two_Letter_Country_Code</th>\n",
       "      <th>country</th>\n",
       "      <th>population</th>\n",
       "      <th>gdp_per_capita</th>\n",
       "      <th>land_area</th>\n",
       "      <th>gdp_ppp</th>\n",
       "      <th>bus_perf</th>\n",
       "    </tr>\n",
       "  </thead>\n",
       "  <tbody>\n",
       "    <tr>\n",
       "      <th>147</th>\n",
       "      <td>0.0</td>\n",
       "      <td>Africa</td>\n",
       "      <td>RW</td>\n",
       "      <td>Rwanda</td>\n",
       "      <td>12952218.0</td>\n",
       "      <td>2260.262274</td>\n",
       "      <td>24670.0</td>\n",
       "      <td>2.927541e+10</td>\n",
       "      <td>76.48282</td>\n",
       "    </tr>\n",
       "    <tr>\n",
       "      <th>105</th>\n",
       "      <td>0.0</td>\n",
       "      <td>Asia</td>\n",
       "      <td>GE</td>\n",
       "      <td>Georgia</td>\n",
       "      <td>3989167.0</td>\n",
       "      <td>14582.982651</td>\n",
       "      <td>69490.0</td>\n",
       "      <td>5.817395e+10</td>\n",
       "      <td>83.73393</td>\n",
       "    </tr>\n",
       "    <tr>\n",
       "      <th>37</th>\n",
       "      <td>106.0</td>\n",
       "      <td>Asia</td>\n",
       "      <td>KW</td>\n",
       "      <td>Kuwait</td>\n",
       "      <td>4270571.0</td>\n",
       "      <td>51047.037972</td>\n",
       "      <td>17820.0</td>\n",
       "      <td>2.180000e+11</td>\n",
       "      <td>67.40473</td>\n",
       "    </tr>\n",
       "  </tbody>\n",
       "</table>\n",
       "</div>"
      ],
      "text/plain": [
       "     store_count Continent_Name Two_Letter_Country_Code  country  population  \\\n",
       "147          0.0         Africa                      RW   Rwanda  12952218.0   \n",
       "105          0.0           Asia                      GE  Georgia   3989167.0   \n",
       "37         106.0           Asia                      KW   Kuwait   4270571.0   \n",
       "\n",
       "     gdp_per_capita  land_area       gdp_ppp  bus_perf  \n",
       "147     2260.262274    24670.0  2.927541e+10  76.48282  \n",
       "105    14582.982651    69490.0  5.817395e+10  83.73393  \n",
       "37     51047.037972    17820.0  2.180000e+11  67.40473  "
      ]
     },
     "execution_count": 30,
     "metadata": {},
     "output_type": "execute_result"
    }
   ],
   "source": [
    "#Dataframe for the ease of business\n",
    "business= pd.read_csv('business_ease.csv')\n",
    "business= business[['Country Name', 'bus_perf']]\n",
    "\n",
    "#Merge business data frame with starbucks dataframe\n",
    "starbucks3= pd.merge(starbucks2, business, how='left', left_on='country', right_on='Country Name')\n",
    "starbucks3.drop('Country Name', axis=1, inplace=True)\n",
    "starbucks3.sample(3)\n"
   ]
  },
  {
   "cell_type": "code",
   "execution_count": 50,
   "metadata": {},
   "outputs": [
    {
     "data": {
      "text/html": [
       "<div>\n",
       "<style scoped>\n",
       "    .dataframe tbody tr th:only-of-type {\n",
       "        vertical-align: middle;\n",
       "    }\n",
       "\n",
       "    .dataframe tbody tr th {\n",
       "        vertical-align: top;\n",
       "    }\n",
       "\n",
       "    .dataframe thead th {\n",
       "        text-align: right;\n",
       "    }\n",
       "</style>\n",
       "<table border=\"1\" class=\"dataframe\">\n",
       "  <thead>\n",
       "    <tr style=\"text-align: right;\">\n",
       "      <th></th>\n",
       "      <th>store_count</th>\n",
       "      <th>continent</th>\n",
       "      <th>code</th>\n",
       "      <th>country</th>\n",
       "      <th>population</th>\n",
       "      <th>gdp_per_capita</th>\n",
       "      <th>land_area</th>\n",
       "      <th>gdp_ppp</th>\n",
       "      <th>bus_perf</th>\n",
       "      <th>coffee_consumption</th>\n",
       "      <th>store_per_10k</th>\n",
       "      <th>people_store</th>\n",
       "    </tr>\n",
       "  </thead>\n",
       "  <tbody>\n",
       "    <tr>\n",
       "      <th>63</th>\n",
       "      <td>289.0</td>\n",
       "      <td>Asia</td>\n",
       "      <td>TH</td>\n",
       "      <td>Thailand</td>\n",
       "      <td>69799978.0</td>\n",
       "      <td>19197.713787</td>\n",
       "      <td>510890.0</td>\n",
       "      <td>1.340000e+12</td>\n",
       "      <td>80.09233</td>\n",
       "      <td>1052.0</td>\n",
       "      <td>0.414040</td>\n",
       "      <td>2.415224e+05</td>\n",
       "    </tr>\n",
       "    <tr>\n",
       "      <th>121</th>\n",
       "      <td>0.0</td>\n",
       "      <td>Europe</td>\n",
       "      <td>LV</td>\n",
       "      <td>Latvia</td>\n",
       "      <td>1886198.0</td>\n",
       "      <td>32658.465708</td>\n",
       "      <td>62200.0</td>\n",
       "      <td>6.160033e+10</td>\n",
       "      <td>80.28054</td>\n",
       "      <td>101.0</td>\n",
       "      <td>0.000000</td>\n",
       "      <td>inf</td>\n",
       "    </tr>\n",
       "    <tr>\n",
       "      <th>22</th>\n",
       "      <td>31.0</td>\n",
       "      <td>Africa</td>\n",
       "      <td>EG</td>\n",
       "      <td>Egypt</td>\n",
       "      <td>102334404.0</td>\n",
       "      <td>12019.418220</td>\n",
       "      <td>995450.0</td>\n",
       "      <td>1.230000e+12</td>\n",
       "      <td>NaN</td>\n",
       "      <td>67.0</td>\n",
       "      <td>0.030293</td>\n",
       "      <td>3.301110e+06</td>\n",
       "    </tr>\n",
       "    <tr>\n",
       "      <th>9</th>\n",
       "      <td>4.0</td>\n",
       "      <td>South America</td>\n",
       "      <td>BO</td>\n",
       "      <td>Bolivia</td>\n",
       "      <td>11673021.0</td>\n",
       "      <td>8995.100754</td>\n",
       "      <td>1083300.0</td>\n",
       "      <td>1.050000e+11</td>\n",
       "      <td>51.65574</td>\n",
       "      <td>60.0</td>\n",
       "      <td>0.034267</td>\n",
       "      <td>2.918255e+06</td>\n",
       "    </tr>\n",
       "    <tr>\n",
       "      <th>122</th>\n",
       "      <td>0.0</td>\n",
       "      <td>Africa</td>\n",
       "      <td>LR</td>\n",
       "      <td>Liberia</td>\n",
       "      <td>5057681.0</td>\n",
       "      <td>1451.623767</td>\n",
       "      <td>96320.0</td>\n",
       "      <td>7.341850e+09</td>\n",
       "      <td>43.22747</td>\n",
       "      <td>5.0</td>\n",
       "      <td>0.000000</td>\n",
       "      <td>inf</td>\n",
       "    </tr>\n",
       "  </tbody>\n",
       "</table>\n",
       "</div>"
      ],
      "text/plain": [
       "     store_count      continent code   country   population  gdp_per_capita  \\\n",
       "63         289.0           Asia   TH  Thailand   69799978.0    19197.713787   \n",
       "121          0.0         Europe   LV    Latvia    1886198.0    32658.465708   \n",
       "22          31.0         Africa   EG     Egypt  102334404.0    12019.418220   \n",
       "9            4.0  South America   BO   Bolivia   11673021.0     8995.100754   \n",
       "122          0.0         Africa   LR   Liberia    5057681.0     1451.623767   \n",
       "\n",
       "     land_area       gdp_ppp  bus_perf  coffee_consumption  store_per_10k  \\\n",
       "63    510890.0  1.340000e+12  80.09233              1052.0       0.414040   \n",
       "121    62200.0  6.160033e+10  80.28054               101.0       0.000000   \n",
       "22    995450.0  1.230000e+12       NaN                67.0       0.030293   \n",
       "9    1083300.0  1.050000e+11  51.65574                60.0       0.034267   \n",
       "122    96320.0  7.341850e+09  43.22747                 5.0       0.000000   \n",
       "\n",
       "     people_store  \n",
       "63   2.415224e+05  \n",
       "121           inf  \n",
       "22   3.301110e+06  \n",
       "9    2.918255e+06  \n",
       "122           inf  "
      ]
     },
     "execution_count": 50,
     "metadata": {},
     "output_type": "execute_result"
    }
   ],
   "source": [
    "#Dataframe for the coffee consumption\n",
    "coffee= pd.read_csv('coffee.csv')\n",
    "coffee=coffee[['country', 'coffee_consumption']]\n",
    "coffee.dropna(axis=0, inplace=True)\n",
    "\n",
    "\n",
    "#Merge the coffee data frame with starbucks\n",
    "starbucks4= pd.merge(starbucks3, coffee, how='left', on='country')\n",
    "starbucks4.rename(columns={'Continent_Name':'continent', 'Two_Letter_Country_Code':\"code\"}, inplace=True)\n",
    "starbucks4.sample(5)\n",
    "\n",
    "\n",
    "#Create a new column store per 10kcapita\n",
    "starbucks4['store_per_10k'] = starbucks4['store_count'] *1e5 /starbucks4['population']\n",
    "\n",
    "starbucks4['people_store'] = starbucks4['population']/ starbucks4['store_count']\n",
    "\n",
    "starbucks4.sample(5)"
   ]
  },
  {
   "cell_type": "code",
   "execution_count": 51,
   "metadata": {
    "scrolled": true
   },
   "outputs": [
    {
     "data": {
      "text/html": [
       "<div>\n",
       "<style scoped>\n",
       "    .dataframe tbody tr th:only-of-type {\n",
       "        vertical-align: middle;\n",
       "    }\n",
       "\n",
       "    .dataframe tbody tr th {\n",
       "        vertical-align: top;\n",
       "    }\n",
       "\n",
       "    .dataframe thead th {\n",
       "        text-align: right;\n",
       "    }\n",
       "</style>\n",
       "<table border=\"1\" class=\"dataframe\">\n",
       "  <thead>\n",
       "    <tr style=\"text-align: right;\">\n",
       "      <th></th>\n",
       "      <th>store_count</th>\n",
       "      <th>continent</th>\n",
       "      <th>code</th>\n",
       "      <th>country</th>\n",
       "      <th>population</th>\n",
       "      <th>gdp_per_capita</th>\n",
       "      <th>land_area</th>\n",
       "      <th>gdp_ppp</th>\n",
       "      <th>bus_perf</th>\n",
       "      <th>coffee_consumption</th>\n",
       "      <th>store_per_10k</th>\n",
       "      <th>people_store</th>\n",
       "      <th>region</th>\n",
       "      <th>store_presence</th>\n",
       "    </tr>\n",
       "  </thead>\n",
       "  <tbody>\n",
       "    <tr>\n",
       "      <th>39</th>\n",
       "      <td>8.0</td>\n",
       "      <td>Asia</td>\n",
       "      <td>KZ</td>\n",
       "      <td>Kazakhstan</td>\n",
       "      <td>18776707.0</td>\n",
       "      <td>27054.797202</td>\n",
       "      <td>2699700.0</td>\n",
       "      <td>5.080000e+11</td>\n",
       "      <td>79.55915</td>\n",
       "      <td>251.0</td>\n",
       "      <td>0.042606</td>\n",
       "      <td>2347088.375</td>\n",
       "      <td>Asia_Oceania</td>\n",
       "      <td>yes</td>\n",
       "    </tr>\n",
       "    <tr>\n",
       "      <th>74</th>\n",
       "      <td>0.0</td>\n",
       "      <td>North America</td>\n",
       "      <td>AG</td>\n",
       "      <td>Antigua and Barbuda</td>\n",
       "      <td>97929.0</td>\n",
       "      <td>22627.497524</td>\n",
       "      <td>440.0</td>\n",
       "      <td>2.215888e+09</td>\n",
       "      <td>60.28342</td>\n",
       "      <td>1.0</td>\n",
       "      <td>0.000000</td>\n",
       "      <td>inf</td>\n",
       "      <td>Americas</td>\n",
       "      <td>no</td>\n",
       "    </tr>\n",
       "    <tr>\n",
       "      <th>86</th>\n",
       "      <td>0.0</td>\n",
       "      <td>Africa</td>\n",
       "      <td>CM</td>\n",
       "      <td>Cameroon</td>\n",
       "      <td>26545863.0</td>\n",
       "      <td>3708.133547</td>\n",
       "      <td>472710.0</td>\n",
       "      <td>9.843561e+10</td>\n",
       "      <td>46.09974</td>\n",
       "      <td>69.0</td>\n",
       "      <td>0.000000</td>\n",
       "      <td>inf</td>\n",
       "      <td>Europe_Africa</td>\n",
       "      <td>no</td>\n",
       "    </tr>\n",
       "    <tr>\n",
       "      <th>98</th>\n",
       "      <td>0.0</td>\n",
       "      <td>Africa</td>\n",
       "      <td>GQ</td>\n",
       "      <td>Equatorial Guinea</td>\n",
       "      <td>1402985.0</td>\n",
       "      <td>18679.692926</td>\n",
       "      <td>28050.0</td>\n",
       "      <td>2.620733e+10</td>\n",
       "      <td>41.05286</td>\n",
       "      <td>2.0</td>\n",
       "      <td>0.000000</td>\n",
       "      <td>inf</td>\n",
       "      <td>Europe_Africa</td>\n",
       "      <td>no</td>\n",
       "    </tr>\n",
       "  </tbody>\n",
       "</table>\n",
       "</div>"
      ],
      "text/plain": [
       "    store_count      continent code              country  population  \\\n",
       "39          8.0           Asia   KZ           Kazakhstan  18776707.0   \n",
       "74          0.0  North America   AG  Antigua and Barbuda     97929.0   \n",
       "86          0.0         Africa   CM             Cameroon  26545863.0   \n",
       "98          0.0         Africa   GQ    Equatorial Guinea   1402985.0   \n",
       "\n",
       "    gdp_per_capita  land_area       gdp_ppp  bus_perf  coffee_consumption  \\\n",
       "39    27054.797202  2699700.0  5.080000e+11  79.55915               251.0   \n",
       "74    22627.497524      440.0  2.215888e+09  60.28342                 1.0   \n",
       "86     3708.133547   472710.0  9.843561e+10  46.09974                69.0   \n",
       "98    18679.692926    28050.0  2.620733e+10  41.05286                 2.0   \n",
       "\n",
       "    store_per_10k  people_store         region store_presence  \n",
       "39       0.042606   2347088.375   Asia_Oceania            yes  \n",
       "74       0.000000           inf       Americas             no  \n",
       "86       0.000000           inf  Europe_Africa             no  \n",
       "98       0.000000           inf  Europe_Africa             no  "
      ]
     },
     "execution_count": 51,
     "metadata": {},
     "output_type": "execute_result"
    }
   ],
   "source": [
    "def condition(x):\n",
    "    \"\"\"\n",
    "    This function rename continents into regions\n",
    "    x :  is a string value from a data frame column\n",
    "    returns a string\n",
    "    \"\"\"\n",
    "    \n",
    "    if (x=='Europe' or x=='Africa'):\n",
    "        return f'Europe_Africa'\n",
    "    elif (x =='Asia' or x =='Oceania'):\n",
    "        return f'Asia_Oceania'\n",
    "    else :\n",
    "        return f'Americas'\n",
    "    \n",
    "\n",
    "#Create a new column 'region'  \n",
    "starbucks4['region']= starbucks4['continent'].apply(lambda x : condition(x))\n",
    "\n",
    "#Mutate a new column store presence. \n",
    "starbucks4['store_presence'] = starbucks4['store_count'].apply(lambda x : 'yes' if x >0  else 'no')\n",
    "\n",
    "starbucks4.sample(4)\n",
    "\n"
   ]
  },
  {
   "cell_type": "code",
   "execution_count": 52,
   "metadata": {},
   "outputs": [
    {
     "data": {
      "image/svg+xml": [
       "<svg class=\"main-svg\" xmlns=\"http://www.w3.org/2000/svg\" xmlns:xlink=\"http://www.w3.org/1999/xlink\" width=\"700\" height=\"450\" style=\"\" viewBox=\"0 0 700 450\"><rect x=\"0\" y=\"0\" width=\"700\" height=\"450\" style=\"fill: rgb(255, 255, 255); fill-opacity: 1;\"/><defs id=\"defs-98a020\"><g class=\"clips\"><clipPath id=\"clip98a020geo\"><rect x=\"79.5\" y=\"117.25065139250773\" width=\"470\" height=\"235.49869721498453\"/></clipPath></g><g class=\"gradients\"/></defs><g class=\"bglayer\"/><g class=\"layer-below\"><g class=\"imagelayer\"/><g class=\"shapelayer\"/></g><g class=\"cartesianlayer\"/><g class=\"polarlayer\"/><g class=\"ternarylayer\"/><g class=\"geolayer\"><g class=\"geo geo\" clip-path=\"url('#clip98a020geo')\"><g class=\"layer bg\"><rect x=\"79.5\" y=\"117.25065139250773\" width=\"470\" height=\"235.49869721498453\" style=\"pointer-events: all; fill: rgb(255, 255, 255); fill-opacity: 1;\"/></g><g class=\"layer land\"><path d=\"M228.12453263754256,339.5628621329124L231.07954455382537,339.6097670839645L233.89384161695187,339.72702946159484L234.83194063799402,339.18762252449557L235.53551490377566,338.7420254895005L236.89575848428683,339.2814324265998L236.52051887586995,339.9381017413293L236.14527926745308,340.52441362948065L233.3778871553787,340.33679382527225L230.46978019014796,340.4306037273764L228.87501185437628,339.9850066923814L228.87501185437628,339.9381017413293ZM101.1997350905375,337.3817819089894L101.99711925842331,336.91273239846834L104.43617671313297,337.1238046782028L105.74951534259199,337.5224967621457L106.73451931468625,337.9915462726668L107.06285397205102,338.57785816081815L104.57689156628928,338.7420254895005L102.88831332841337,338.29642845450553L102.09092916052751,337.82737894398446L102.04402420947542,337.75702151740626ZM251.10795865307566,336.67820764320777L251.76462796780515,336.67820764320777L253.6877309609416,336.39677793689515L255.65773890513012,336.67820764320777L257.29941219195393,337.24106705583307L257.86227160457923,338.03845122371894L258.0029864577356,338.60131063634424L258.04989140878763,339.25797995107376L256.032978513547,339.65667203501664L253.92225571620213,340.00845916790746L251.48319826149248,340.31334134974617L248.7158061494181,340.54786610500673L245.66698433103107,340.47750867842853L243.93150114210306,340.0553641189596L244.16602589736362,339.51595718186036L246.93341800943801,339.1641700489695L248.0591368346886,338.7185730139745L248.90342595362654,338.1557136013492L249.46628536625184,337.6632116153021L250.2636695341377,337.217614580307ZM154.76518919204517,330.95580361485054L155.0466188983578,330.5336590553816L156.59448228307738,330.74473133511606L158.28306052095328,330.95580361485054L159.83092390567288,330.72127885959003L159.08044468883915,331.1903283701111L157.86091596148432,331.51866302747584L156.0316228704521,331.42485312537167ZM148.66754555527112,330.697826384064L149.60564457631327,330.4163966777513L150.9189832057723,330.72127885959003L152.93589610101296,331.2372333211632L152.1385119331271,331.1903283701111L150.44993369525122,331.07306599248085ZM181.17267663438216,328.6574610132973L182.0169657533201,328.4229362580367L183.65863904014387,328.6105560622451L185.5348370822282,328.7043659643494L186.9888905648436,328.8919857685578L188.3960390964068,328.7278184398754L189.19342326429268,329.4782976567092L188.16151434114627,329.38448775460495L186.5667460053746,329.43139270565706L184.97197766960292,329.38448775460495L183.1895895296228,329.4548451811831L181.87625090016377,329.1968679503965ZM218.18068301449557,327.8600768454114L219.11878203553778,327.69590951672905L220.61974046920523,327.74281446778116L220.9949800776221,327.08614515305163L221.0418850286742,326.59364316700453L221.0418850286742,325.5617342438581L221.79236424550794,324.92851740465466L222.96498802181065,324.7408976004462L223.66856228759227,325.2099471109673L223.94999199390492,325.70244909701444L224.51285140653022,326.28876098516577L224.9819009170513,326.85162039779107L225.31023557441603,327.43793228594245L225.49785537862448,328.02424417409384L225.26333062336394,328.54019863566697L224.88809101494707,329.0327006217141L223.3402276302275,329.1968679503965L221.88617414761217,329.4548451811831L220.19759590973626,329.43139270565706L220.85426522446576,328.9154382440839L219.3064018397462,329.10305804829227L217.85234835713084,329.2672253769747L216.86734438503657,328.8919857685578L216.77353448293235,328.3525788314586ZM80,345.3559492841017L80.09250711708873,345.3790760633739L81.21822594233933,344.6051443710141L83.56347349494476,345.02728893048305L83.7041883481011,344.98038397943094L84.07942795651795,344.8631216018007L84.54847746703902,344.74585922417043L84.9237170754559,344.6285968465401L85.11133687966432,344.558239419962L85.29895668387277,344.558239419962L85.43967153702908,344.581691895488L87.31586957911344,345.1210988325873L88.9575428659372,344.581691895488L89.28587752330196,344.51133446890987L93.08517855852273,344.2768097136493L94.35161223692967,344.581691895488L94.96137660060705,344.74585922417043L96.88447959374349,345.1680037836394L100.58997072686006,345.5197909165302L103.54498264314287,345.9184830004731L108.5638124057185,346.2233651823118L112.31620848988715,345.871578049421L117.85099271403595,346.1295552802076L120.99362443452719,346.52824736415056L124.41768586133111,346.15300775573365L128.07627204339553,345.80122062284283L128.35770174970818,345.1680037836394L123.19815713397628,345.1210988325873L119.02361649033864,344.8162166507486L117.89789766508804,344.3002621891754L114.42693128723204,344.01883248286276L114.66145604249255,343.4325205947114L115.13050555301362,342.9165661331382L115.5995550635347,342.42406414709103L115.36503030827419,341.8846572099918L113.20740255987724,341.532870077101L112.1754936367308,341.0638205665799L110.15858074149017,340.665128482637L113.34811741303352,340.73548590921513L116.35003428036845,340.52441362948065L118.2262323224528,340.9700106644757L120.5714798750582,340.57131858053276L122.68220267240306,340.1022690700117L123.76101654660155,339.65667203501664L123.29196703608048,339.1172650979174L121.6033887982046,338.7654779650266L119.68028580506814,338.39023835660976L117.006703595098,338.31988093003156L114.66145604249255,338.1322611258231L112.12858868567872,338.01499874819285L111.28429956674077,337.5224967621457L109.59572132886484,337.10035220267673L108.6107173567706,336.65475516768174L108.18857279730162,335.1772492095403L108.84524211203112,335.2945115871706L110.01786588833383,335.7166561466396L112.12858868567872,335.57594129348325L114.19240653197147,335.3883214892748L115.27122040616999,335.9511809019001L117.33503825246274,335.83391852426985L119.07052144139075,335.55248881795717L120.71219472821457,335.20070168506635L122.21315316188199,334.7551046500713L124.13625615501846,334.63784227244105L124.08935120396634,334.14534028639395L123.66720664449738,333.6528383003468L124.04244625291426,333.20724126535174L125.73102449079013,332.97271651009123L126.48150370762383,333.4183135450862L128.45151165181238,333.1603363142997L129.95247008547986,332.8320016569349L131.8286681275642,332.7850967058828L133.61105626754434,332.6678343282525L135.34653945647236,332.3629521464138L136.75368798803558,332.08152244010114L138.34845632380726,331.8000927337885L139.38036524695363,331.87045016036666L140.27155931694372,331.9877125379969L142.19466231008013,331.8000927337885L143.93014549900812,332.0346174890491L145.71253363898828,332.011165013523L147.44801682791626,331.8235452093146L149.18350001684428,331.9642600624709L151.10660300998072,332.08152244010114L152.93589610101296,332.0346174890491L154.81209414309726,332.0580699645751L156.7821020872858,332.08152244010114L158.56449022726594,332.0346174890491L159.877828856725,331.63592540510615L161.47259719249664,331.4483056008977L163.11427047932045,331.7297353072104L164.66213386404002,331.4952105519498L166.06928239560327,331.02616104142874L166.91357151454122,331.4483056008977L167.33571607401018,331.8939026358927L168.18000519294813,332.3394996708878L169.5402487734593,331.9642600624709L171.08811215817886,332.43330957299196L172.870500298159,332.5974769016744L174.37145873182644,332.94926403456515L176.20075182285868,332.878906607987L177.88933006073455,332.6443818527265L179.81243305387102,332.69128680377855L181.59482119385112,332.878906607987L183.37720933383125,333.11343136324757L184.08078359961286,332.55057195062227L183.2364944806749,332.1049749156272L182.57982516594538,331.63592540510615L180.89124692806948,331.5421155030019L180.18767266228787,331.04961351695476L179.90624295597522,330.5805640064337L179.43719344545414,329.5955600343394L180.4221974175484,329.7831798385479L182.1107756554243,329.853537265126L183.7993538933002,329.7831798385479L185.3472172780198,329.99425211828236L186.66055590747882,330.3694917266992L187.22341532010412,330.8385412372203L189.00580346008422,330.9088986637985L190.69438169796013,330.72127885959003L192.47676983794025,330.4633016288034L194.07153817371193,330.3225867756471L195.38487680317098,330.6274689574858L197.12035999209897,330.5336590553816L198.24607881734954,329.52520260776123L199.32489269154806,330.1115144959126L200.82585112521554,330.3460392511732L202.4206194609872,330.22877687354287L203.4994333351857,330.72127885959003L205.23491652411371,330.76818381064214L206.78277990883328,330.9323511393245L208.37754824460495,331.2137808456372L209.36255221669924,330.72127885959003L209.8785066782724,330.27568182459504L211.19184530773146,330.76818381064214L212.97423344771158,330.65092143301183L214.28757207717058,330.9323511393245L215.17876614716067,331.37794817431956L216.9142493360887,331.2372333211632L218.27449291659983,330.95580361485054L219.63473649711096,330.6274689574858L221.18259988183053,330.43984915327735L223.01189297286277,330.29913430012107L224.70047121073864,330.1115144959126L225.9669048891456,329.83008478959994L226.7173841059793,329.43139270565706L227.04571876334407,328.86853329303176L226.90500391018776,328.3291263559325L226.48285935071877,327.8131718943593L226.0138098401977,327.2972174327861L225.5916652807287,326.804715446739L225.26333062336394,326.3356659362179L225.21642567231186,325.8197114746447L225.31023557441603,325.3272094885976L225.91999993809347,324.83470750255043L226.43595439966668,324.29530056545116L226.6704791549272,323.77934610387797L226.38904944861457,323.2164866912527L226.24833459545823,322.72398470520557L226.90500391018776,322.11422034152815L227.60857817596934,321.73898073311125L228.45286729490732,321.24647874706415L229.34406136489739,320.8477866631212L230.37597028804376,320.47254705470436L230.89192474961695,319.90968764207906L231.59549901539856,319.55790050918824L232.43978813433654,319.2061133762974L233.65931686169134,319.1357559497193L234.5036059806293,318.73706386577635L235.39480005061932,318.47908663498976L236.47361392481784,318.3149193063074L237.41171294586002,317.98658464894265L238.1621921626937,317.5878925649997L239.19410108584012,317.4237252363173L239.94458030267384,317.7520598936821L239.47553079215277,318.19765692867713L238.11528721164163,318.572896537094L237.5993327500684,318.8543262434066L236.61432877797418,318.6432539636721L235.53551490377566,318.78396881682846L234.64432083378563,319.08885099866717L233.70622181274345,319.4171856560319L233.04955249801392,319.79242526444875L232.8619326938055,320.308379726022L232.95574259590973,320.8008817120691L233.56550695958714,321.22302627153806L232.67431288959708,321.52790845337677L231.45478416224225,321.6451708310071L230.75120989646064,322.06731539047604L229.9538257285748,322.489459949945L229.15644156068896,323.0523193625703L228.9688217564805,323.52136887309143L229.39096631594947,324.06077581019065L230.0945405817311,324.4829203696596L231.1733544559296,324.7878025514983L232.15835842802386,325.18649463544125L232.72121784064916,325.70244909701444L233.00264754696184,326.1949510830616L233.3778871553787,326.6874530691087L233.9876515190561,327.13305010410375L234.36289112747295,327.6020996146248L234.5505109316814,328.82162834197965L234.92575054009825,329.2906778525007L235.01956044220248,329.8066323140739L235.44170500167144,330.3225867756471L235.254085197463,331.00270856590265L234.5505109316814,331.5421155030019L233.75312676379556,331.9877125379969L232.01764357486755,332.15187986667934L231.45478416224225,332.6209293772004L230.6573999943564,333.0430739366694L228.68739205016786,333.53557592271653L226.95190886123984,333.746648202451L225.31023557441603,334.0280779087637L223.57475238548807,334.3095076150763L222.5428434623417,334.84891455217553L220.4321206649968,334.8958195032277L218.1337780634435,334.84891455217553L216.0699602171507,334.94272445427976L213.86542751770162,334.94272445427976L214.28757207717058,335.45867891585294L216.25758002135916,335.6697511955874L217.7116335039745,336.0449908040043L218.55592262291248,336.4905878389993L217.10186914029708,336.91273239846834L214.8504314897959,336.772017545312L212.97423344771158,337.10035220267673L212.88042354560736,337.639759139776L212.83351859455524,338.1557136013492L214.3813819792748,338.60131063634424L214.66281168558746,339.0703601468653L216.30448497241127,339.5628621329124L219.07187708448566,339.77393441264695L221.41712463709106,340.1257215455378L223.2933226791754,340.52441362948065L225.63857023178082,340.94655818894967L228.9219168054284,341.13417799315806L232.11145347697175,341.5094176015749L234.31598617642086,341.8846572099918L236.7550436311305,342.3068017694608L238.0214773095374,342.9400186086642L238.63124167321482,343.40906811918535L240.22601000898652,342.96347108419025L242.3836377573835,342.56477900024737L244.6350754078847,342.16608691630444L247.35556256890698,341.8377522589397L249.6539051704603,341.4859651260489L252.89034679305576,341.43906017499677L256.0798834645991,341.6266799792052L258.7065607235172,341.93156216104387L259.55084984245514,341.3687027484186L261.3801429334873,340.9934631400017L264.66348950713495,340.9700106644757L267.2432618150009,340.688580958163L269.6823192697105,340.4071512518504L272.4028064307328,340.21953144764194L275.31091339596355,339.9850066923814L277.32782629120413,339.65667203501664L276.389727270162,339.2110750000216L275.8268678575367,338.7420254895005L275.8268678575367,338.2495235034534L273.29400050072286,338.31988093003156L270.6204182907527,338.50750073424L268.0875509339388,338.50750073424L267.71231132552197,338.03845122371894L267.8999311297304,337.0534472516247L268.4627905423557,336.772017545312L270.33898858444,336.4671353634733L272.5435212838891,336.1622531816346L274.1382896196608,335.78701357321773L275.6861530043804,335.3883214892748L276.85877678068306,334.8958195032277L278.6411649206632,334.66129474796713L280.4235530606433,334.4736749437587L281.31474713063335,334.37986504165445L283.33166002587404,334.33296009060234L285.2547630190105,334.14534028639395L286.84953135478213,333.88736305560735L288.44429969055386,333.58248087376865L289.8514482221171,333.27759869192994L291.6807413131493,332.878906607987L292.8064601383999,332.43330957299196L294.02598886575475,332.0580699645751L294.4481334252237,331.5421155030019L293.04098489366044,331.2372333211632L293.5100344041815,330.697826384064L294.3543235231195,330.29913430012107L295.71456710363066,330.0411570693344L297.168620586246,329.73627488749577L298.481959215705,329.31413032802675L299.5138681388514,328.82162834197965L300.1236325025288,328.21186397830223L301.1086364746231,327.8366243698854L302.65649985934266,327.9304342719896L303.2662642230201,328.3525788314586L304.86103255879175,328.39948378251063L304.90793750984386,327.9304342719896L305.5646068245734,327.4144798104164L306.9717553561366,327.5317421880467L307.30009001350135,328.02424417409384L308.84795339822097,328.0946016006719L310.53653163609687,327.8600768454114L312.17820492292066,327.7193619922551L313.632258405536,327.7897194188333L314.1951178181613,328.3291263559325L315.64917130077663,327.88352932093744L316.9625099302357,327.67245704120296L318.416563412851,327.48483723699457L319.8706168954664,327.2972174327861L321.2308604759776,326.9923352509474L322.6849139585929,326.804715446739L323.8106327838435,326.52328574042633L324.6080169517293,326.05423622990526L325.54611597277153,326.38257088727L326.90635955328264,326.2184035585876L327.84445857432485,326.82816792226504L328.5949377911586,327.2737649572601L330.095896224826,327.0157877264735L330.6587556374513,326.52328574042633L331.97209426691035,326.1480461320095L333.70757745583836,326.24185603411365L334.22353191741155,326.7109055446348L335.2554408405579,326.24185603411365L336.6625893721212,326.0776887054313L338.21045275684077,326.0307837543792L339.5706963373519,326.05423622990526L341.02474981996727,326.2184035585876L342.4318983515305,326.28876098516577L343.0416627152079,326.7109055446348L343.8859518341458,327.10959762857766L345.3400053167612,326.87507287331715L346.84096375042867,326.82816792226504L348.3419221840962,326.82816792226504L349.7959756667115,326.804715446739L351.10931429617057,326.61709564253056L352.4695578766817,326.4763807893742L353.6421816529844,326.10114118095737L354.8617103803392,325.8666164256968L356.1750490097983,325.74935404806655L357.16005298189253,325.39756691517573L357.8636272476742,324.67054017386806L358.61410646450787,324.2483956143991L359.97435004501904,324.4594678941336L360.4903045065922,324.9050649291286L361.6160233318428,325.2099471109673L362.97626691235394,325.11613720886305L363.867460982344,325.5617342438581L364.8524649544383,325.9135213767489L366.1658035838973,325.6086391949102L366.6348530944184,325.04577978228497L367.80747687072113,324.81125502702434L369.16772045123224,324.36565799202936L370.4341541296392,324.201490663347L371.98201751435874,323.9435134325604L373.0139264375051,323.6620837262477L374.0458353606515,323.357201544409L375.07774428379787,323.0757718380964L376.2972730111527,323.2164866912527L377.4698967874554,322.7708896562577L378.3141859063934,322.39565004784083L379.5337146337482,322.4425549988929L380.61252850794665,322.11422034152815L380.8939582142593,321.6686233065331L381.9727720884578,321.3168361736423L383.0515859626563,321.0588589428557L384.3649245921153,320.8477866631212L385.537548368418,320.75397676101704L386.71017214472073,320.8243341875952L387.92970087207556,320.94159656522544L388.96160979522193,321.3168361736423L389.10232464837827,321.8796955862676L390.2280434736289,322.3018401457366L391.0254276415147,322.65362727862737L392.5732910262343,322.8177946073098L393.46448509622434,323.16958174020056L394.5432989704228,323.52136887309143L395.76282769777765,323.61517877519566L396.84164157197614,323.357201544409L397.96736039722674,322.8177946073098L399.18688912458157,323.0992243136224L400.4533228029885,323.23993916677875L401.6728515303433,323.4041064954611L402.9392852087502,323.49791639756535L404.2526238382093,323.49791639756535L405.33143771240776,324.85815997807646L405.28453276135565,325.18649463544125L405.0969129571472,325.7728065235926L403.87738422979237,326.10114118095737L402.845475306646,326.59364316700453L403.03309511085445,327.10959762857766L404.4871485934698,327.08614515305163L404.29952878926133,327.5786471390988L403.64285947453186,328.0711491251459L403.03309511085445,328.6105560622451L404.0180990829487,329.0092481461881L405.51905751661616,329.1499629993444L407.02001595028366,328.9154382440839L407.72359021606525,328.39948378251063L408.1926397265864,327.9304342719896L408.89621399236796,327.5082897125206L409.6935981602538,327.13305010410375L410.02193281761856,326.6640005935826L410.7255070834002,326.0307837543792L411.5697962023382,325.9135213767489L413.0238496849535,325.8431639501708L414.3371883144125,325.70244909701444L415.65052694387157,325.49137681727996L416.30719625860104,324.97542235570677L416.68243586701794,324.5063728451857L417.57362993700804,324.01387085913854L418.840063615415,323.68553620177374L419.9188774896134,323.4275589709872L420.66935670644716,322.98196193599216L421.3729309722288,322.7708896562577L422.35793494432306,322.5598173765232L423.62436862272995,322.67707975415345L424.79699239903266,322.5598173765232L426.1103310284917,322.39565004784083L427.51747956005494,322.489459949945L428.45557858109714,322.11422034152815L429.1122478958266,321.24647874706415L429.6282023573998,321.621718355481L430.23796672107727,322.2314827191584L431.3167805952757,322.489459949945L432.5832142736827,322.5832698520492L433.80274300103747,322.4425549988929L435.1629865815486,322.5363649009971L436.38251530890346,322.5598173765232L437.1798994767893,322.4425549988929L438.3056183020399,322.5129124254711L439.2906222741342,322.79434213178376L440.46324605043685,322.6067223275753L441.87039458200013,322.6067223275753L443.04301835830285,322.4425549988929L444.403261938814,322.6067223275753L445.294456008804,322.18457776810635L445.9511253235335,321.73898073311125L446.84231939352367,321.3871936002205L448.48399268034734,320.42564210365225L449.3282817992853,320.5898094323346L450.31328577137964,320.94159656522544L451.15757489031756,321.4106460757465L452.84615312819346,322.2080302436324L454.1125868066004,322.2314827191584L455.2852105829031,322.2314827191584L456.6923591144663,322.06731539047604L458.09950764602956,321.9031480617937L459.1783215202281,321.52790845337677L460.0695155902181,321.1526688449599L461.52356907283354,321.1057638939078L462.50857304492774,320.8243341875952L463.5404819680742,321.0823114183818L464.19715128280365,321.48100350232465L465.08834535279374,321.9031480617937L466.5423988354091,321.8327906352155L467.4335929053991,322.18457776810635L468.9814562901187,322.5129124254711L470.6231295769426,322.63017480310134L471.9833731574537,322.5363649009971L472.9683771295479,322.11422034152815L473.859571199538,321.7155282575852L475.0321949758407,321.621718355481L476.2048187521434,321.7858856841634L477.5650623326545,321.9266005373197L478.78459106000935,321.7155282575852L479.957214836312,321.7155282575852L481.0829336615627,321.8327906352155L482.30246238891743,321.9735054883718L483.4750861652202,321.73898073311125L484.8822346967835,321.52790845337677L486.1955733262424,321.48100350232465L487.69653175990993,321.48100350232465L488.86915553621265,321.36374112469446L490.04177931251536,321.24647874706415L490.41701892093215,320.6132619078607L490.4639238719843,320.07385497076143L491.26130803987013,320.44909457917834L491.4958327951307,321.03540646732966L491.9648823056518,321.57481340442894L492.480836767225,321.9969579638979L493.55965064142345,322.2314827191584L495.06060907509095,322.16112529258027L496.7491873129668,322.11422034152815L497.9218110892695,322.04386291495L499.6572942781976,322.04386291495L500.8768230055523,322.0204104394239L502.56540124342825,322.06731539047604L504.0194547260436,322.18457776810635L504.95755374708585,322.5832698520492L504.72302899182523,323.0757718380964L505.56731811076315,323.45101144651323L506.97446664232643,323.75589362835194L508.42852012494177,324.0842282857167L510.07019341176556,324.31875304097724L511.85258155174574,324.5298253207117L513.1659201812047,324.7174451249202L514.6668786148722,324.7643500759723L515.5111677338101,324.31875304097724L516.6368865590607,324.67054017386806L517.621890531155,325.092684733337L518.7945143074578,325.39756691517573L520.3892826432294,325.514829292806L521.8902410768969,325.6789966214884L522.5000054405743,326.1949510830616L524.0009638742417,326.4998332649003L524.985967846336,326.9454302998953L526.4400213289514,327.1565025796298L527.9409797626188,327.13305010410375L529.3481282941821,327.2034075306819L530.8959916789016,327.17995505515586L532.4907600146734,327.2737649572601L533.9448134972888,327.4613847614685L535.2581521267477,327.7662669433072L536.6183957072589,328.02424417409384L537.556494728301,328.39948378251063L537.4157798751447,328.9154382440839L536.7122056093631,329.38448775460495L536.1024412456857,329.9707996427563L535.6802966862167,330.4163966777513L535.0236273714872,330.95580361485054L533.3350491336113,331.1668758945851L532.5845699167776,331.61247292958006L530.8959916789016,331.8939026358927L530.2862273152243,332.40985709746593L529.3950332452342,332.90235908351303L528.4569342241921,333.30105116745597L527.9409797626188,333.84045810455524L527.6126451052542,334.33296009060234L527.4719302520978,334.9192719787537L527.4719302520978,335.3883214892748L528.2224094689316,335.904275950848L528.5038391752441,336.39677793689515L529.1136035389216,336.8658274474162L531.5526609936312,337.0299947760986L532.0686154552044,337.5928541887239L529.723367902599,337.80392646845837L527.7064550073583,338.08535617477105L525.2673975526487,338.1322611258231L524.1416787273981,338.88274034265686L523.9071539721376,339.4925047063343L523.3442945595123,339.96155421685535L522.6876252447827,340.4540562029025L524.4231084337107,340.89965323789755L525.0797777484402,341.4156076994707L526.2054965736909,341.90810968551784L527.7533599584104,342.3537067205129L529.5826530494427,342.75239880445577L531.5526609936312,343.1510908883987L534.5545778609661,343.5732354478677L535.2112471756957,344.20645228707116L538.9636432598643,344.48788199338384L539.1981680151248,344.581691895488L540.1831719872191,344.98038397943094L543.7948532182314,344.6520493220662L546.7498651345143,345.05074140600914L549,345.35541709520635L549,352.24934860749227L80,352.24934860749227ZM227.2802435186046,306.51832411670216L226.81119400808353,307.03427857827535L225.73238013388504,307.4564231377443L224.3252316023218,307.29225580906194L223.3402276302275,306.9170162006451L221.97998404971636,306.72939639643664L220.33831076289258,306.002369655129L219.02497213343355,305.29879538934733L217.24258399345342,303.84474190673194L218.32139786765194,304.10271913751853L220.15069095868415,304.9704607319826L221.83926919656005,305.4395102425036L222.5428434623417,304.8531983543523L222.96498802181065,303.96200428436225L224.13761179811337,303.422597347263L225.07571081915552,303.5633122004193L225.5916652807287,304.17307656409673L226.24833459545823,305.158080536191L227.93691283333413,305.9320122285508L229.76620592436637,306.26034688591557L229.15644156068896,306.9170162006451L227.93691283333413,306.98737362722323ZM234.78503568694194,302.55485575279897L236.33289907166153,301.75747158491316L237.45861789691213,302.0858062422779L238.20909711374583,301.5698517807047L239.2410060368922,302.15616366885604L238.86576642847535,302.62521317937717L237.13028323954734,303.000452787794L236.52051887586995,302.55485575279897L235.44170500167144,303.14116764095036ZM404.29952878926133,298.3568626336353L405.1438179081993,298.7555547175782L406.36334663555414,298.9197220462606L406.41025158660625,299.17769927704717L406.08191692924146,299.76401116519855L404.0650040340008,299.8578210673028L404.0180990829487,299.15424680152114L404.20571888715716,298.61483986442187ZM506.9275616912743,288.1550357798017L507.6780409081081,288.24884568190595L507.7718508102123,289.7967090666255L507.3497062507433,290.24230610162056L507.20899139758706,291.297667500293L506.7399418870659,290.9458803674022L505.84874781707583,291.83707443739223L505.56731811076315,291.7667170108141L504.7699339428774,291.743264535288L503.97254977499153,290.6175457100374L503.7849299707831,289.7498041155734L503.0344507539494,288.6240852903228L503.08135570500144,288.03777340217147L503.9256448239394,288.1550357798017L505.19207850234636,288.60063281479677L505.895652768128,288.4130130105883ZM535.5395818330604,291.743264535288L536.665300658311,291.06314274503245L537.4157798751447,290.3830209547769L538.0255442388221,289.42146945820866L538.4945937493433,289.0931348008439L538.7291185046038,288.3661080595362L539.6203125745939,287.75634369585885L539.9017422809064,288.3192031084841L540.1831719872191,288.8351575700573L541.1212710082614,288.3192031084841L541.4965106166782,288.85861004558336L541.4965106166782,289.42146945820866L541.027461106157,290.0312338218861L540.1831719872191,290.9693328429282L539.5265026724896,291.5087397800275L539.9955521830107,292.14195661923094L538.9636432598643,292.14195661923094L537.8848293856659,292.6344586052781L537.509589777249,293.5022001997421L536.7591105604153,294.8155388292011L535.7741065883209,295.4018507173525L535.1174372735915,295.7536378502433L533.8979085462366,295.7301853747172L533.0536194272986,295.30804081524826L531.6464708957354,295.21423091314404L531.4119461404749,294.74518140262296L532.1155204062566,293.7601774305287L533.7571936930802,292.49374375212176L534.6014828120183,292.23576652133517ZM544.9674769945342,287.19348428323354L544.451522532961,287.8970585490151L543.7948532182314,288.7882526190052L542.8098492461372,289.3042070805784L542.5753244908767,288.9758724232136L542.0124650782514,288.7882526190052L542.762944295085,287.70943874480673L542.3407997356161,286.982412003499L540.9336512040529,286.4664575419258L540.980556155105,285.99740803140475L541.9186551761471,285.5518109964097L542.1531799314076,284.5433545487894L542.1062749803556,283.69906542985143L541.5434155677303,282.8313238353874L541.5903205187824,282.5967990801269L540.980556155105,282.05739214302764L539.9486472319586,280.908220842251L539.3857878193332,279.9935742967349L539.9017422809064,279.87631191910464L540.6053165466882,280.6033386604123L541.5903205187824,280.93167331777704L541.9655601271993,282.10429709407975L542.9036591482414,283.4645406745909L542.9505640992935,282.5967990801269L543.560328462971,282.94858621301773L543.7479482671794,283.933590185112L544.7798571903257,284.35573474458096L545.6710512603158,284.4495446466852L546.4215304771495,283.957042660638L547.078199791879,284.09775751379436L546.7498651345143,285.2703812900971L546.3746255260974,286.02086050693083L545.3427166029511,285.99740803140475L545.0143819455863,286.3961001153477L545.1550967987426,286.958959527973ZM530.4738471194327,262.4511226032464L531.5526609936312,263.2719592466583L532.2093303083607,263.8582711348096L531.7402807978397,264.18660579217436L530.989801581006,263.8348186592836L530.0986075110159,263.2485067711322L529.254318392078,262.54493250535063L528.3631243220877,261.6302859598345L528.1755045178794,261.18468892483946L528.7383639305046,261.2081414003655L529.4888431473385,261.65373843536054L530.0517025599637,262.0993354703556ZM546.5622453303058,257.80753244908766L546.8905799876707,257.5964601693532L547.3127245471396,257.97169977777L547.1251047429312,258.65182156802564L546.3277205750453,258.815988896708L545.5772413582116,258.67527404355167L545.4834314561074,258.0889621554003L545.9524809666284,257.6433651204053ZM549,256.5651493970522L548.1570136660775,256.89288590357154L547.3596294981917,257.1743156098842L547.1720096939832,256.68181362383706L547.8286790087127,256.40038391752444L548.2508235681818,256.33002649094624L549,255.93215134298546L549,256.5651493970522ZM80,255.93100871074947L80.28012692129718,255.86097698042516L80.09250711708873,256.4941938196286L80,256.5635741574452L80,255.93100871074947ZM532.3500451615171,255.6968096517428L533.1474293294029,256.4472888685765L532.7252847699339,256.63490867278495L532.3031402104649,256.0485967846336ZM531.7871857488917,255.41537994543012L531.5995659446833,255.06359281253933L531.5995659446833,254.055136364919L532.2093303083607,254.4538284488619L532.3969501125691,255.50918984753434L532.0686154552044,255.34502251885198ZM379.0646651232271,251.2408393017925L379.3929997805918,251.8036987144178L379.7213344379566,252.6714403088818L379.90895424216507,254.21930369360138L380.2372888995298,254.8290680572788L380.1434789974256,255.46228489648226L379.90895424216507,255.8375245048991L379.439904731644,255.08704528806538L379.2053799763834,255.46228489648226L379.439904731644,256.42383639305046L379.3460948295397,256.98669580567577L378.97085522112286,257.2915779875145L378.92395027007075,258.39384433723905L378.40799580849756,259.9182552464325L377.75132649376803,261.70064338641265L376.9539423258822,264.16315331664833L376.43798786430904,265.9924464076806L375.87512845168374,267.493404841348L374.79631457748525,267.79828702318673L373.67059575223465,268.36114643581203L372.9201165354009,268.0093593029212L371.8882076122545,267.5637622679262L371.5129680038376,266.8601880021446L371.41915810173344,265.7110167013679L370.95010859121237,264.6791077782215L370.85629868910814,263.7410087571794L371.09082344436865,262.8029097361372L371.70058780804607,262.56838498087666L371.70058780804607,262.1462404214077L372.3103521717235,261.1612364493134L372.4041620738277,260.31694733037546L372.1227323675151,259.70718296669804L371.8882076122545,258.88634632328615L371.7943977101503,257.6902700714574L372.21654226961925,256.96324333014974L372.4041620738277,256.11895421121176L373.06083138855723,256.07204926015964L373.7644056543389,255.81407202937305L374.28036011591206,255.5795472741125L374.8432195285373,255.55609479858646L375.59369874537106,254.80561558175273L376.6725126195696,254.0082314138669L377.04775222798645,253.35156209913737L376.860132423778,252.81215516203812L377.4229918364033,252.95287001519443L378.12656610218494,252.0616759452044L378.173471053237,251.26429177731853L378.595615612706,250.6779798891672ZM478.83149601106146,276.9682049538739L477.47125243055035,277.64832674412946L476.3455336052998,277.92975645044214L476.064103898987,278.6333307162237L475.595054388466,279.1492851777969L474.5162405142675,279.172737653323L473.6719513953296,279.29000003095325L472.5462325700789,279.05547527569274L471.6081335490368,279.196190128849L470.71693947904674,279.2665475554272L469.9195553111608,279.9466693456828L469.54431570274403,279.89976439463067L468.8876463880145,280.27500400304757L468.2778820243371,280.67369608699045L467.2928780522428,280.62679113593833L466.4485889333049,280.62679113593833L465.04144040174157,279.80595449252644L464.33786613596,279.54797726173985L464.38477108701215,278.79749804490615L465.04144040174157,278.6333307162237L465.2290602059501,278.3284485343851L465.1821552548979,277.85939902386394L465.36977505910636,276.9447524783478L465.2290602059501,276.1942732615141L464.52548594016844,274.85748215652904L464.33786613596,274.1304554152214L464.38477108701215,273.3799761983876L463.86881662543897,272.53568707944964L463.8219116743868,272.1604474710328L463.25905226176144,271.6210405339336L463.0714324575531,270.61258408631323L462.3209532407193,269.58067516316686L462.1333334365109,269.01781575054156L462.7430978001883,269.58067516316686L462.27404828966723,268.3845989113381L462.9307176043967,268.75983851975496L463.3059572128136,269.25234050580207L463.3059572128136,268.5956711910726L462.6492878980841,267.5637622679262L462.50857304492774,267.1650701839833L462.2271433386151,266.76637810004036L462.36785819177146,266.0158988832066L462.6492878980841,265.68756422584187L462.8369077022925,265.03089491111234L462.6961928491362,264.2804156942786L463.2121473107094,263.34231667323644L463.3059572128136,264.3273206453307L463.86881662543897,263.43612657534067L464.90072554858534,263.0139820158717L465.5573948633148,262.4511226032464L466.5423988354091,261.95862061719924L467.15216319908643,261.864810715095L467.4804978564512,262.0289780437774L468.51240677959765,261.5364760577303L469.30979094748346,261.39576120457394L469.49741075169186,261.1143314982613L469.87265036010876,260.997069120631L470.5762246258904,261.0205215961571L471.9364682064015,260.6452819877402L472.6400424721832,260.05897009958886L472.9683771295479,259.3788483093333L473.76576129743376,258.6987265190777L473.8126662484858,258.1827720575045L473.859571199538,257.4791977917229L474.7507652695281,256.37693144199835L475.3136246821533,257.50265026724895L475.8764840947786,257.24467303646236L475.40743458425754,256.6114561972589L475.8295791437265,255.97823935805545L476.39243855635186,256.2831215398941L476.5331534095082,255.27466509227384L477.2367276752898,254.64144825307037L477.5650623326545,254.12549379149715L478.2217316473841,253.91442151176267L478.2217316473841,253.5391819033458L478.83149601106146,253.67989675650213L478.83149601106146,253.37501457466342L479.39435542368676,253.187394770455L480.05102473841623,252.99977496624658L480.9891237594585,253.60953932992396L481.7396029762922,254.3600185467577L482.536987144178,254.38347102228374L483.381276263116,254.50073339991403L483.09984655680336,253.79715913413241L483.7096109204807,252.74179773545995L484.3193752841581,252.41346307809522L484.08485052889756,252.08512842073043L484.64770994152286,251.33464920389673L485.4450941094087,250.86559969337563L486.1017634241382,251.029767022058L487.2274822493889,250.7717897912714L487.18057729833674,250.1151204765419L486.2424782772946,249.6929759170729L486.9460525430762,249.5053561128645L487.79034166201416,249.8102382947032L488.4939159277958,250.34964523180244L489.5727298019942,250.6779798891672L489.94796941041113,250.56071751153692L490.74535357829694,250.95940959547985L491.54273774618287,250.58416998706298L492.0117872567039,250.70143236469326L492.3401219140686,250.44345513390664L492.902981326694,251.10012444863617L492.57464666932924,251.78024623889175L492.058692207756,252.319653175991L491.6365476482871,252.3665581270431L491.7772625014434,252.8825125886163L491.40202289302647,253.5391819033458L490.93297338250545,254.17239874254926L491.0267832846097,254.54763835096614L492.058692207756,255.25121261674775L493.0436961798503,255.67335717621674L493.7472704456319,256.11895421121176L494.68536946667405,256.89288590357154L495.06060907509095,256.89288590357154L495.7172783898204,257.22122056093633L495.9048981940289,257.6199126448792L497.17133187243587,258.06550967987425L498.0156209913738,257.6199126448792L498.2970506976865,256.93979085462365L498.531575452947,256.3534789664723L498.7191952571554,255.62645222516463L499.0944348655722,254.59454330201822L498.9068150613638,253.96132646281478L499.000624963468,253.58608685439793L498.8599101103117,252.83560763756418L499.04752991452017,251.87405614099595L499.2820546697807,251.59262643468332L499.0944348655722,251.17048187521434L499.422769522937,250.46690760943272L499.6572942781976,249.76333334365108L499.7041992292497,249.3880937352342L500.17324873977077,248.89559174918708L500.5484883481877,249.52880858839055L500.64229825029184,250.34964523180244L500.97063290765664,250.51381256048484L501.0175378587087,251.05321949758405L501.4865873692298,251.70988881231358L501.580397271334,252.4603680291473L501.5334923202819,252.9294175396684L502.002541830803,253.96132646281478L502.84683094974093,253.46882447676765L503.2689755092099,254.0082314138669L503.8787398728873,254.52418587544008L503.7380250197309,255.11049776359144L504.0194547260436,256.212764113316L504.2539794813042,256.8694334280455L504.5823141386689,257.0336007567279L504.9106487960337,258.1358671064524L504.7699339428774,258.815988896708L505.19207850234636,259.70718296669804L506.6461319849617,260.3873047569536L507.5373260549517,260.997069120631L508.42852012494177,261.5599285332563L508.2409003207334,261.8882631906211L508.9913795375671,262.709099834033L509.5073339991403,264.1162483655962L510.0232884607135,263.8113661837575L510.5392429222867,264.3742255963828L510.8675775796514,264.18660579217436L511.102102334912,265.57030184821156L511.993296404902,266.3676860160974L512.6030607685794,266.8601880021446L513.6349696917258,267.915549400817L514.0102093001426,268.97091079948945L514.0571142511949,269.6979375407971L513.9633043490905,270.518774184209L514.573068712768,271.6210405339336L514.4792588106639,272.7702118347102L514.2447340554032,273.3799761983876L513.9163993980385,274.52914749916425L513.9633043490905,275.279626715998L513.681874642778,276.21772573704015L513.1190152301526,277.41380198886895L512.1340112580583,278.0470188280724L511.6649617475373,279.05547527569274L511.2428171880683,279.6886921148962L510.8675775796514,280.8144109401468L510.35162311807824,281.4710802548763L510.0232884607135,282.4560842269706L509.83566865650505,283.34727829696067L509.9294785586093,283.74597038090354L509.1789993417756,284.2150198914246L507.7249458591602,284.26192484247673L506.5054171318053,284.801331779576L505.895652768128,285.2938337656231L505.09826860024214,285.8566931782484L504.0194547260436,285.2703812900971L503.2220705581578,285.0593090103626L503.45659531341835,284.37918722010704L502.7530210476367,284.61371197536755L501.580397271334,285.5518109964097L500.45467844608334,285.20002386351894L499.75110418030175,285.0124040593105L499.000624963468,284.91859415720626L497.7341912850611,284.5199020732633L496.88990216612314,283.7225179053775L496.65537741086257,282.73751393328325L496.32704275349784,282.0808446185537L495.7172783898204,281.54143768145445L494.45084471141354,281.40072282829817L494.8729892708825,280.7675059890947L494.5446546135177,279.80595449252644L493.93489024984035,280.69714856251653L492.76226647353764,280.93167331777704L493.41893578826716,280.2046465764694L493.6534605435277,279.4541673596356L494.1225100540487,278.8209505204322L494.0287001519445,277.85939902386394L492.9967912287982,278.9616653735885L492.1525021098602,279.4072624085835L491.68345259933915,280.46262380725597L490.6515436761928,279.92321687015675L490.6984486272449,279.2196426043751L489.8541595083069,278.28154358333296L489.1974901935774,277.7890415972858L489.43201494883795,277.4841594154471L487.7434367109621,276.7102277230873L486.852242640972,276.6633227720352L485.585808962565,276.0301059328317L483.24056140995964,276.147368310462L481.55198317208374,276.6164178209831L480.0979296894684,277.06201485597813ZM525.6895421121177,248.66106699392654L526.0647817205345,249.10666402892156L525.1735876505445,249.10666402892156L524.6576331889712,248.28582738550966L525.4550173568571,248.61416204287445ZM471.2328939406199,248.35618481208783L469.49741075169186,247.44153826657174L470.71693947904674,247.20701351131117L471.37360879377627,247.58225311972805L471.8426583042973,247.98094520367098L471.7488484021931,248.33273233656178ZM524.0478688252939,247.8636828260407L523.5319143637207,247.88713530156676L522.7345301958349,247.7698729239365L522.5000054405743,247.558800644202L522.5469103916264,247.0428461826288L523.4381044616165,247.2539184623633L523.8602490210855,247.51189569314988ZM525.1266826994923,247.51189569314988L524.939062895284,247.74642044841042L523.9540589231897,246.62070162315982L523.719534167929,245.84676993080004L524.1416787273981,245.84676993080004L524.6107282379191,246.8786788539464ZM477.330537577394,246.57379667210773L477.47125243055035,246.268914490269L478.5969712558009,245.98748478395638L479.488165325791,245.94057983290426L479.91030988525995,245.77641250422187L480.379359395781,245.94057983290426L479.91030988525995,246.29236696579508L478.55006630474884,246.85522637842035L477.47125243055035,247.23046598683723L476.62696331161237,248.21546995893152L475.50124448636177,248.49689966524417L475.3605296332055,248.33273233656178L475.4543395353097,247.88713530156676L476.01719894793496,247.11320360920695ZM468.5593117306497,245.89367488185215L469.3566958985356,245.77641250422187L469.6850305559004,246.3392719168472L468.1840721222329,246.5972491476338L467.2928780522428,246.7848689518422L466.5893037864612,246.76141647631616L467.0583532969822,246.01093725948243L467.76192756276396,246.01093725948243L468.0902622201287,245.54188774896133ZM472.5931375211311,246.1281996371127L473.437426640069,246.01093725948243L474.61005041637173,245.54188774896133L474.42243061216334,246.268914490269L472.4524226679747,246.64415409868587L470.71693947904674,246.4799867700035L470.71693947904674,246.01093725948243L471.7488484021931,245.72950755316978ZM522.5000054405743,245.4480778468571L522.7814351468869,245.8702224063261L522.8283400979391,246.1281996371127L521.7964311747927,245.5653402244874L521.0928569090111,245.0962907139663L520.62380739849,244.67414615449735L520.8114272026984,244.533431301341L521.4211915663758,244.83831348317972ZM519.2166588669268,244.15819169292413L519.7326133284998,244.58033625239312L519.4980885732393,244.6506936789713L518.8883242095619,244.3458114971326L518.3723697479887,243.80640456003334L518.4192746990409,243.59533228029886ZM455.84806999552836,243.3608075250383L456.0356897997368,243.8298570355594L458.5216522054985,243.9705718887157L458.8030819118112,243.43116495161647L461.19523441546875,244.04092931529388L461.6642839259898,244.88521843423183L463.6342918701784,245.11974318949237L465.2290602059501,245.89367488185215L463.7750067233346,246.40962934342534L462.3209532407193,245.8702224063261L461.14832946441663,245.9171273573782L459.78808588390547,245.82331745527398L458.5685571565507,245.58879270001344L457.0675987228832,245.07283823844026L456.0825947507889,244.95557586080997L455.56664028921574,245.11974318949237L453.17448778555826,244.58033625239312L452.9399630302977,244.01747683976782L451.767339253995,243.9236669376636L452.65853332398507,242.68068573478274L454.25330165975674,242.7510431613609L455.2852105829031,243.2669976229341ZM489.3382050467337,243.99402436424177L489.1974901935774,243.0090203921475L489.43201494883795,242.5399708816264L489.7134446551506,242.09437384663138L490.04177931251536,242.46961345504823L489.9948743614632,243.1028302942517ZM516.1209320974875,241.95365899347505L516.4961717059044,242.25854117531375L517.1528410206339,243.07937781872565L517.7626053843114,243.52497485372066L517.5749855801029,243.87676198661148L517.1997459716861,244.01747683976782L516.6368865590607,243.52497485372066L516.0740271464355,242.68068573478274L515.7925974401228,241.69568176268845L515.9802172443312,241.5784193850582ZM511.6180567964852,242.61032830820457L510.9144825307035,242.91521049004328L510.2109082649219,243.22009267188199L509.55423895019237,243.22009267188199L508.47542507599394,242.8448530634651L507.7249458591602,242.4930659305743L507.81875576126436,242.09437384663138L508.9913795375671,242.2819936508398L509.69495380334877,242.16473127320955L509.9294785586093,241.55496690953214L510.1170983628177,241.50806195848003L510.2109082649219,242.21163622426164L510.96138748175565,242.1178263221574L511.33662709017244,241.6722292871624L512.0871063070063,241.20317977664132L511.8994865027978,240.42924808428154L512.6968706706837,240.40579560875548L512.9783003769963,240.61686788848996L512.9313954259442,241.34389462979766L512.5092508664752,242.1412787976835L511.8056766006936,242.2350886997877ZM479.7695950321036,239.9367460982344L478.8784009621136,239.70222134297384L478.64387620685307,239.13936193034854L479.957214836312,239.0690045037704L480.2855494936768,239.51460153876542ZM483.05294160575124,238.6468599443014L484.46009013731447,239.0220995527183L484.92913964783554,240.0305560003386L483.8503257736371,239.49114906323936L482.77151189943856,239.37388668560908L482.02103268260487,239.4676965877133L481.1298386126148,239.42079163666122L481.41126831892745,238.69376489535352ZM513.3535399854131,239.772578769552L513.8694944469864,240.19472332902097L514.0102093001426,240.8513926437505L513.5880647406736,241.20317977664132L513.3535399854131,240.42924808428154L513.0721102791006,239.9367460982344L512.4623459154232,239.51460153876542L511.71186669858935,238.95174212614012L510.7737676775472,238.57650251772324L511.14900728596405,238.2481678603585L511.85258155174574,238.62340746877538L512.2747261112147,238.904837175088L512.83758552384,239.2097193569267ZM498.20324079558225,238.38888271351482L500.45467844608334,239.28007678350488L502.84683094974093,240.0305560003386L503.7380250197309,240.68722531506813L504.48850423656467,241.34389462979766L504.6761240407732,242.1178263221574L506.83375178917015,242.91521049004328L507.1620864465349,243.6187847558249L505.9894626702322,243.75949960898123L506.2708923765448,244.62724120344524L507.4435161528475,245.4715303223832L508.28780527178543,246.85522637842035L508.9913795375671,246.80832142736827L508.944474586515,247.39463331551963L509.97638350966133,247.6057055952541L509.55423895019237,247.8636828260407L510.96138748175565,248.40308976313995L510.8206726285993,248.7783293715568L509.97638350966133,248.87213927366102L509.6480488522966,248.54380461629626L508.522330027046,248.40308976313995L507.20899139758706,248.19201748340546L506.17708247444057,247.37118083999357L505.4266032576068,246.64415409868587L504.7699339428774,245.5184352734353L503.08135570500144,244.93212338528394L501.95563687975084,245.3073629937008L501.1582527118651,245.75296002869584L501.3458725160734,246.71451152526404L500.31396359292705,247.1601085602591L499.56348437609336,246.92558380499855L498.2501457466343,246.8786788539464L497.07752197033153,245.79986497974792L495.7641833408726,245.54188774896133L495.43584868350786,245.9171273573782L493.79417539668395,245.96403230843032L494.3570348093093,244.9086709097579L495.1544189771952,244.533431301341L494.82608431983044,243.12628276977776L494.16941500510086,242.02401642005321L491.68345259933915,240.92175007032867L490.6046387251407,240.8044876926984L488.6346307809521,239.60841144086962L488.25939117253523,240.2416282800731L487.7434367109621,240.35889065770337L487.4620070046493,239.8898411471823L487.4620070046493,239.30352925903094L486.4770030325551,238.67031241982747L487.83724661306627,238.2012629093064L488.7753456341085,238.22471538483245L488.68153573200425,237.8963807274677L486.7584327388678,237.87292825194163L486.2424782772946,237.09899655958185L485.0698545009919,236.86447180432128L484.5539000394187,236.23125496511784L486.28938322834665,235.90292030775308L486.9460525430762,235.48077574828412L489.05677534042104,236.02018268538336L489.2443951446295,236.48923219590444L489.6196347530464,238.59995499324933L490.9798783335575,239.39733916113514L492.058692207756,238.01364310509797L493.55965064142345,237.2162589372121L494.7322744177262,237.2162589372121L495.81108829192465,237.66185597220715L496.79609226401897,238.13090548272822ZM474.6569553674238,233.86255493698638L476.15791380109124,233.81564998593427L477.4243474794982,232.85409848936604L477.65887223475875,233.15898067120474L476.62696331161237,234.44886682513774L475.64195933951805,234.68339158039828L474.37552566111117,234.44886682513774L472.2178979127142,234.49577177618983L471.0921790874636,234.68339158039828L470.90455928325514,235.66839555249254L472.03027810850574,236.84101932879526L472.7338523742874,236.2547074406439L475.17290982899704,235.80911040564885L475.0790999268928,236.3954222938002L474.5162405142675,236.20780248959178L473.9533811016422,236.98173418195157L472.78075732533944,237.4742361679987L474.04719100374643,239.13936193034854L473.8126662484858,239.60841144086962L474.9852900247886,241.10936987453712L474.93838507373647,241.95365899347505L474.28171575900694,242.35235107741798L473.76576129743376,241.88330156689688L474.37552566111117,240.8044876926984L473.1090919827043,241.3204421542716L472.78075732533944,240.96865502138078L472.92147217849583,240.45270055980757L471.9833731574537,239.70222134297384L472.12408801060997,238.41233518904087L471.2328939406199,238.8110272729838L471.3267038427241,240.3354381821773L471.37360879377627,242.21163622426164L470.5762246258904,242.3992560284701L470.01336521326505,242.00056394452716L470.38860482168195,240.8044876926984L470.20098501747356,239.56150648981753L469.63812560484826,239.53805401429148L469.2159810453793,238.6468599443014L469.7788404580046,237.80257082536346L469.966460262213,236.77066190221709L470.6231295769426,234.80065395802853L470.857654332203,234.2612470209293L471.9833731574537,233.29969552436106L473.01528208060006,233.67493513277793ZM481.1767435636669,232.17397669911048L481.2705534657711,232.8775509648921L482.02103268260487,232.99481334252238L482.16174753576115,233.5342202796216L482.0679376336569,234.65993910487222L481.41126831892745,234.54267672724194L481.22364851471895,235.34006089512778L481.7396029762922,236.02018268538336L481.3643633678753,236.16089753853967L480.8484089063021,235.34006089512778L480.4731692978852,233.67493513277793L480.75459900419787,232.64302620963156ZM450.4540006245359,236.41887476932627L450.6885253797965,237.3335213148424L451.15757489031756,238.06054805615005L452.09567391135977,238.15435795825428L452.75234322608924,238.99864707719223L452.4240085687245,240.61686788848996L452.37710361767233,242.63378078373063L450.923050135057,242.65723325925669L449.79733130980645,241.55496690953214L448.1556580229826,240.4996055108597L447.59279861035736,239.70222134297384L446.60779463826304,238.6468599443014L445.9511253235335,237.66185597220715L444.96612135143926,235.85601535670096L443.84040252618865,234.75374900697642L443.4182579667197,233.65148265725188L442.94920845619856,232.6195737341055L441.77658467989596,231.7987370906936L441.1199153651664,230.69647074096906L440.1349113930721,229.96944399966137L438.77466781256095,228.51539051704603L438.6339529594046,227.8587212023165L439.4782420783426,227.90562615336862L441.4951549735832,228.1636033841552L442.66777874988594,229.43003706256215L443.65278272198026,230.32123113255219L444.403261938814,230.86063806965143L445.6227906661687,232.26778660121468L446.93612929562784,232.29123907674074L448.0149431698263,233.1824331467308L448.76542238666,234.2612470209293L449.79733130980645,234.8710113846067L449.23447189718115,235.92637278327913L449.98495111401485,236.37196981827415ZM457.34902842919587,232.38504897884496L458.33403240129013,232.83064601383998L459.3190363733844,232.59612125857944L459.60046607969707,231.4938549088549L460.16332549232243,231.2358776780683L461.71118887704193,230.95444797175566L462.6492878980841,229.92253904860928L463.3059572128136,229.1017024051974L463.8219116743868,228.60920041915026L464.90072554858534,227.90562615336862L465.9326344717317,226.9909796078525L466.5893037864612,225.98252316023218L467.1052582480344,225.98252316023218L467.76192756276396,226.63919247496167L467.808832513816,227.202051887587L468.7000265838061,227.55383902047782L469.7788404580046,227.9525311044207L469.6850305559004,228.46848556599392L468.7938364859103,228.53884299257209L469.02836124117084,229.17205983177553L468.0902622201287,229.61765686677057L467.33978300329494,230.7902806430733L468.2778820243371,232.0098093704281L468.0433572690765,232.6195737341055L469.54431570274403,233.81564998593427L467.99645231802447,233.97981731461664L467.52740280750334,234.8710113846067L467.62121270960756,236.0436351609094L466.3547790312007,236.93482923089948L466.3078740801485,238.22471538483245L465.8388245696275,240.21817580454703L465.60429981436687,239.772578769552L464.1502463317516,240.35889065770337L463.6342918701784,239.56150648981753L462.6961928491362,239.49114906323936L462.0395235344067,239.0690045037704L460.49166014968705,239.53805401429148L460.02261063916603,238.904837175088L459.1783215202281,238.97519460166617L458.09950764602956,238.8110272729838L457.91188784182117,237.0755440840558L457.25521852709164,236.72375695116497L456.64545416341423,235.59803812591437L456.45783435920583,234.44886682513774L456.59854921236206,233.25279057330897ZM479.15983066842625,224.03596769156968L479.2536405705305,224.9037092860337L479.34745047263465,225.63073602734136L478.92530591316563,226.82681227917013L478.4093514515925,225.49002117418505L477.7995870879151,226.1701429644406L478.2217316473841,227.10824198548278L477.8464920389672,227.71800634916016L476.3455336052998,226.96752713232644L475.97029399688284,226.0294281112843L476.3455336052998,225.41966374760688L475.5481494374139,224.7864469084034L475.12600487794487,225.32585384550265L474.5162405142675,225.27894889445056L473.53123654217325,226.00597563575823L473.3436167379648,225.63073602734136L473.859571199538,224.5284696776168L474.6569553674238,224.176682544726L475.3605296332055,223.68418055867886L475.8295791437265,224.27049244683022L476.8145831158208,223.9187053139394L477.04910787108133,223.33239342578804L477.9403019410714,223.28548847473596L477.89339699001926,222.2770320271156L478.92530591316563,222.91024886631908L479.066020766322,223.56691818104858ZM421.04459631486407,225.2085914678724L420.85697651065556,226.54538257285748L420.2941170980303,226.92062218127435L419.16839827277965,227.22550436311303L418.5586339091023,226.19359543996666L418.32410915384173,224.31739739788233L418.93387351751915,222.20667460053747L419.8250675875092,222.93370134184514L420.4348319511866,223.84834788736126ZM234.12836637221244,220.98714587318264L234.87884558904614,220.82297854450024L235.16027529535882,220.8698834955524L235.1133703443067,221.8314349921206L234.0345564701082,221.97214984527693L233.80003171484765,221.85488746764665L234.17527132326455,221.50310033475583ZM474.1879058569027,221.99560232080296L474.5162405142675,221.6203627123861L474.6569553674238,220.82297854450024L475.40743458425754,220.7526211179221L475.17290982899704,221.6203627123861L476.15791380109124,220.37738150950523L476.01719894793496,221.6203627123861L475.5481494374139,222.04250727185507L475.12600487794487,222.86334391526697L474.7507652695281,223.23858352368384L473.9533811016422,222.34738945369378ZM468.8876463880145,222.86334391526697L467.15216319908643,224.10632511814785L467.808832513816,223.19167857263173L468.74693153485816,222.3942944047459L469.49741075169186,221.47964785922977L470.20098501747356,220.1897617052968L470.43550977273406,221.24512310396923L469.5912206537961,221.97214984527693ZM473.4843315911212,220.11940427871863L473.2967117869126,219.50963991504122L474.04719100374643,219.90833199898415L474.89148012268436,219.90833199898415L474.89148012268436,220.4477389360834L474.28171575900694,221.0105983487087L473.437426640069,221.4092904326516L473.39052168901685,220.79952606897422ZM477.9872068921235,219.1578527821504L478.36244650054033,220.61190626476576L477.3774425284461,220.26011913187497L477.3774425284461,220.70571616687L477.7057771858109,221.50310033475583L477.09601282213345,221.80798251659454L477.04910787108133,220.8698834955524L476.62696331161237,220.82297854450024L476.439343507404,220.0255943766144L477.18982272423773,220.11940427871863L477.18982272423773,219.6269022926715L476.39243855635186,218.64189832057724L477.65887223475875,218.66535079610327ZM471.9364682064015,218.4542785163688L471.2328939406199,217.44582206874847L472.3586127658705,217.49272701980055L472.8276622763916,217.96177653032166L472.4993276190269,219.08749535557226ZM473.859571199538,211.25436852987016L473.6719513953296,211.7937754669694L474.0940959547985,212.73187448801156L473.76576129743376,213.81068836221007L473.01528208060006,214.2562853972051L472.78075732533944,215.2881943203515L473.1090919827043,216.34355571902393L473.76576129743376,216.48427057218024L474.37552566111117,216.32010324349787L475.97029399688284,217.04712998480554L475.8764840947786,217.75070425058718L476.29862865424764,218.05558643242586L476.15791380109124,218.66535079610327L475.12600487794487,218.03213395689983L474.6569553674238,217.35201216664424L474.3286207100591,217.82106167716535L473.4843315911212,217.04712998480554L472.3117078148184,217.23474978901396L471.6550385000889,216.95332008270134L471.70194345114095,216.41391314560207L472.12408801060997,216.08557848823733L471.7488484021931,215.78069630639862L471.5612285979847,216.2497458169197L470.90455928325514,215.49926660008597L470.71693947904674,214.93640718746067L470.67003452799463,213.66997350905373L471.1859889895678,214.11557054404878L471.3267038427241,212.07520517328206L471.7488484021931,210.90258139697937L472.5462325700789,210.90258139697937L473.3436167379648,211.25436852987016L473.76576129743376,210.9260338725054ZM228.17143758859464,210.87912892145332L228.82810690332417,210.99639129908357L229.06263165858473,211.25436852987016L228.73429700121994,211.58270318723493L227.74929302912568,211.58270318723493L226.95190886123984,211.62960813828704L226.90500391018776,211.06674872566174L227.09262371439618,210.87912892145332ZM213.44328295823266,210.90258139697937L214.33447702822272,211.01984377460963L214.99114634295225,211.3481784319744L215.22567109821279,211.69996556486518L214.33447702822272,211.72341804039127L213.91233246875373,211.93449032012575L213.2087582029721,211.72341804039127L212.4582789861384,211.25436852987016L212.5989938392947,210.94948634803146L213.16185325192,210.85567644592723ZM221.0887899797263,209.30781306120767L221.22950483288264,209.0967407814732L222.26141375602901,209.0967407814732L223.01189297286277,209.42507543883795L223.38713258127962,209.40162296331187L223.62165733654015,209.87067247383297L224.3252316023218,209.8472199983069L224.27832665126965,210.2224596067238L224.84118606389495,210.2693645577759L225.49785537862448,210.76186654382303L225.0288058681034,211.27782100539622L224.37213655337388,210.99639129908357L223.80927714074858,211.04329625013568L223.38713258127962,210.99639129908357L223.15260782601908,211.2309160543441L222.63665336444592,211.30127348092228L222.44903356023747,210.99639129908357L221.97998404971636,211.184011103292L221.46402958814318,212.07520517328206L221.1356949307784,211.86413289354758L221.0887899797263,211.4888932851307L220.19759590973626,211.27782100539622L219.58783154605885,211.37163090750045L218.790447378173,211.25436852987016L218.18068301449557,211.51234576065679L217.477108748714,211.11365367671385L217.61782360187027,210.69150911724486L218.790447378173,210.85567644592723L219.7754513502673,210.9729388235575L220.24450086078838,210.6680566417188L219.68164144816308,210.1051972290935L219.68164144816308,209.61269524304637L218.8373523292251,209.42507543883795L219.1656869865899,209.04983583042107L219.9630711544757,209.12019325699924ZM457.11450367393525,211.30127348092228L456.0356897997368,210.87912892145332L456.0356897997368,209.77686257172874L456.64545416341423,209.16709820805136L458.09950764602956,208.81531107516054L458.8499868628633,208.8387635506866L459.13141656917594,209.33126553673372L458.5685571565507,209.91757742488508L458.24022249918596,210.6680566417188ZM112.0347787835745,208.8387635506866L112.269303538835,208.95602592831685L112.50382829409557,209.12019325699924L112.83216295146033,209.58924276752032L112.78525800040825,209.6596001940985L112.269303538835,209.94102990041114L111.84715897936604,210.12864970461956L111.65953917515765,210.3631744598801L111.33120451779286,210.17555465567168L111.37810946884497,209.8003150472548L111.19048966463657,209.33126553673372L111.23739461568866,209.19055068357738L111.4719193709492,208.9794784038429L111.37810946884497,208.7215011730563L111.42501441989705,208.60423879542606L111.56572927305342,208.6276912709521ZM111.28429956674077,207.94756948069653L111.14358471358443,208.1117368093789L110.7214401541155,208.20554671148312L110.4869153988549,207.92411700517047L110.34620054569862,207.80685462754022L110.34620054569862,207.73649720096205L110.4869153988549,207.61923482333177L110.9090599583239,207.7599496764881ZM110.29929559464651,207.40816254359729L110.2523906435944,207.54887739675362L109.54881637781276,207.52542492122754L109.64262627991698,207.36125759254517ZM108.6107173567706,206.70458827781567L108.75143220992689,206.79839817991987L109.12667181834377,207.22054273938886L109.03286191623957,207.290900165967L108.93905201413531,207.290900165967L108.51690745466635,207.2439952149149L108.32928765045796,206.9391130330762L108.28238269940582,206.89220808202407ZM106.87523416784259,206.04791896308615L106.9221391188947,206.35280114492485L106.73451931468625,206.4935159980812L106.31237475521729,206.25899124282063L106.3592797062694,206.16518134071643L106.59380446152994,206.0244664875601ZM207.34563932145858,204.7814852846792L208.42445319565707,204.87529518678343L209.45636211880344,204.8987476623095L210.67589084615827,205.3443446973045L211.19184530773146,205.8133942078256L212.41137403508628,205.6726793546693L212.88042354560736,205.97756153650798L214.00614237085796,206.77494570439382L214.80352653874382,207.36125759254517L215.22567109821279,207.36125759254517L216.02305526609862,207.61923482333177L215.9292453639944,207.99447443174864L216.86734438503657,208.04137938280076L217.85234835713084,208.5807863199L217.7116335039745,208.8856685017387L216.82043943398446,209.04983583042107L215.9761503150465,209.12019325699924L215.08495624505645,209.002930879369L213.2087582029721,209.1436457325253L214.05304732191007,208.4166189912176L213.53709286033688,208.0648318583268L212.69280374139893,207.9710219562226L212.27065918192994,207.5957823478057L211.9423245245652,206.86875560649804L211.19184530773146,206.91566055755015L209.97231658037663,206.56387342465933L209.59707697195978,206.28244371834668L207.90849873408388,206.09482391413826L207.4394492235628,205.83684668335164L207.955403685136,205.5085120259869L206.64206505567694,205.43815459940873L205.7039660346348,206.11827638966432L205.1880115730616,206.14172886519037L205.00039176885315,206.44661104702905L204.34372245412368,206.5873259001854L203.78086304149832,206.4700635225551L204.48443730727996,206.07137143861218L204.76586701359264,205.6023219280911L205.37563137727005,205.32089222177848L206.03230069199955,205.06291499099189L207.01730466409384,204.92220013783555ZM212.64589879034682,202.15480802576116L213.0211383987637,202.20171297681327L213.49018790928477,203.28052685101176L213.49018790928477,204.05445854337154L213.16185325192,204.10136349442365L212.83351859455524,203.3508842775899L212.36446908403417,202.97564466917305ZM473.15599693375634,203.2101694244336L472.3586127658705,205.29743974625242L471.79575335324523,206.3762536204509L471.1390840385157,205.27398727072637L470.9514642343073,204.31243577415813L471.7488484021931,203.02254962022516L472.78075732533944,202.03754564813087L473.39052168901685,202.4362377320738ZM211.61398986720044,200.0909901794684L212.22375423087786,199.99718027736418L213.0680433498158,200.0440852284163L213.11494830086792,200.37241988578103L211.70779976930464,200.5834921655155ZM213.16185325192,199.7626555221036L214.19376217506638,200.348967410255L213.95923741980585,201.28706643129715L213.7247126645453,201.12289910261478L213.7247126645453,200.4427773123592L213.16185325192,199.926822850786ZM486.9460525430762,191.41357423482836L487.6496268088579,190.6161900669425L488.40010602569157,190.7803573956249L488.9629654383168,190.24095045852565L489.901064459359,190.5223801648383L490.08868426356753,190.96797719983334L489.3382050467337,191.74190889219312L488.82225058516053,191.31976433272413L488.1186763193789,191.62464651456284L487.79034166201416,192.39857820692262L486.9460525430762,192.02333859850575ZM358.66101141556,189.091779157749L358.7548213176642,189.32630391300953L358.8017262687163,189.42011381511375L357.48838763925727,189.959520752213L356.83171832452774,189.7953534235306L356.503383667163,189.27939896195744L357.16005298189253,189.20904153537927L357.2538628839967,189.20904153537927L357.44148268820516,188.90415935354056L358.3795817092473,188.92761182906662L359.55220548555,188.5289197451237ZM348.76406674356514,189.02142173117085L348.5764469393567,189.3966613395877L346.70024889727233,189.51392371721795L346.74715384832444,189.30285143748347L345.15238551255277,189.04487420669687L345.38691026781333,188.48201479407157L346.0904845335949,188.92761182906662L347.12239345674135,188.85725440248845L348.0604924777835,188.95106430459265L348.0604924777835,189.16213658432716ZM333.70757745583836,185.31593059805425L334.73948637898474,185.19866822042403L334.27043686846366,186.20712466804434L334.4580566726721,186.6292692275133L334.17662696635944,187.28593854224283L333.1916229942652,186.79343655619567L332.53495367953565,186.65272170303936L330.70566058850346,185.99605238830983L330.89328039271186,185.33938307358034L332.39423882637936,185.4566454512106ZM325.82754567908415,181.72770184256797L326.4842149938137,181.305557283099L327.2815991616995,182.24365630414118L327.0939793574911,183.95568701754314L326.4842149938137,183.885329590965L325.9682605322405,184.30747415043396L325.4992110217194,183.9791394930692L325.4054011196152,182.3843711572975L325.1239714133025,181.65734441598983ZM499.3289596208328,183.95568701754314L498.1563358445301,185.26902564700214L498.1563358445301,186.60581675198725L497.68728633400906,187.66117815065968L497.87490613821745,188.29439498986315L497.2182368234879,189.23249401090533L495.57656353666414,189.84225837458274L493.27822093511077,189.91261580116088L491.40202289302647,191.41357423482836L490.5108288230365,190.89761977325517L490.4639238719843,189.93606827668694L488.2124862214831,190.2174979829996L486.66462283676356,190.827262346677L485.16366440309605,190.85071482220303L486.4770030325551,191.81226631877126L485.585808962565,194.01679901822038L484.7415198436271,194.57965843084565L484.13175547994973,194.06370396927247L484.46009013731447,192.89108019296975L483.6158010183765,192.51584058455288L483.09984655680336,191.62464651456284L484.3193752841581,191.2259544306199L485.0229495499397,190.405117787208L486.33628817939876,189.72499599695246L487.27438720044097,188.8338019269624L489.8541595083069,188.45856231854552L491.26130803987013,188.7165395493321L492.6215516203813,186.39474447225277L493.5127456903714,187.0279613114562L495.3889437324557,185.71462268199718L496.1394229492894,185.22212069595005L496.9837120682273,183.62735236017835L496.7491873129668,182.14984640203696L497.2651417745401,181.32900975862506L498.67229030610326,181.09448500336453L499.3758645718849,182.90032561887068ZM325.87445063013627,179.4762641920668L326.71873974907425,178.9603097304936L326.95326450433475,180.08602855574418L326.5311199448658,181.09448500336453L325.9213555811884,180.83650777257793L325.6399258748757,179.94531370258787ZM502.893735900793,177.71732852761272L503.83183492183514,177.17792159051345L504.1132646281478,178.63197507312884L502.1901616350114,178.98376220601963L501.0175378587087,180.29710083547866L499.000624963468,179.40590676548862L498.2970506976865,180.8130552970519L496.8429972150711,180.83650777257793L496.65537741086257,179.54662161864496L497.31204672559215,178.53816517102464L498.67229030610326,178.46780774444647L499.04752991452017,176.6619671289403L499.46967447398913,175.65351068131994L500.97063290765664,177.0137542618311L502.002541830803,177.45935129682613ZM231.07954455382537,173.73040768818353L231.54859406434645,174.363624527387L232.48669308538865,174.52779185606937L233.70622181274345,174.50433938054329L233.04955249801392,175.0202938421165L232.58050298749285,175.1141037442207L230.93882970066903,174.5512443315954L230.6104950433043,174.12909977212644ZM230.42287523909587,170.02491655506697L230.89192474961695,169.9076541774367L232.62740793854493,170.23598883480145L233.940746568004,170.79884824742675L233.9876515190561,171.0333730026873L233.33098220432657,171.05682547821334L231.64240396645067,170.63468091874438ZM151.10660300998072,169.93110665296277L151.76327232471024,170.54087101664015L153.07661095416924,171.08027795373943L153.59256541574246,171.8073046950471L152.93589610101296,171.97147202372946L150.77826835261595,171.3851601355781L150.40302874419908,170.93956310058306L149.2304049678964,170.47051359006198L148.99588021263585,170.0952739816451L147.68254158317683,169.8607492263846L147.1665871216036,169.15717496060296L147.26039702370784,168.85229277876425L148.66754555527112,169.13372248507693L149.46492972315693,169.3447947648114L150.68445845051176,169.48550961796772ZM242.05530310001873,168.1487185129826L241.3517288342371,168.96955515639453L240.50743971529914,170.0952739816451L241.3517288342371,169.67312942217615L242.24292290422716,169.9545591284888L241.77387339370608,170.40015616348384L242.9464971700088,170.75194329637463L243.5093565826341,170.44706111453593L244.82269521209312,170.84575319847886L244.44745560367625,171.783852219521L245.33864967366628,171.57277993978653L245.52626947787473,172.2529017300421L245.9015090862916,173.073738373454L245.38555462471842,174.22290967423064L244.775790261041,174.26981462528275L243.93150114210306,174.01183739449615L244.2129308484157,172.95647599582372L243.83769123999883,172.79230866714133L242.33673280633138,173.91802749239196L241.53934863844552,173.87112254133984L242.47744765948772,173.26135817766246L241.21101398108078,172.95647599582372L239.80386544951753,173.0268334224019L237.27099809270368,172.9799284713498L237.08337828849525,172.6046888629329L237.8807624563811,172.13563935241183L237.3179030437558,171.783852219521L238.4436218690064,171.00992052716123L239.75696049846545,168.92265020534245L240.60124961740337,168.1721709885087L241.72696844265397,167.72657395351365L242.33673280633138,167.79693138009182ZM141.58489794640275,164.60739470854844L142.85133162480966,164.4901323309182L142.4760920163928,165.9676382890596L143.60181084164338,167.02299968773204L143.08585638007017,167.02299968773204L142.2884722121844,166.41323532405463L141.81942270166326,165.82692343590327L141.16275338693376,165.4047788764343L140.92822863167322,164.841919463809L140.9751335827253,164.41977490434004ZM500.6892032013439,165.0295392680174L501.1582527118651,166.29597294642434L501.1113477608129,167.56240662483125L501.62730222238605,168.87574525429028L502.94064085184516,171.19754033136968L501.0175378587087,170.77539577190072L500.2201536908228,172.65159381398502L501.4865873692298,173.98838491897013L501.43968241817765,174.90303146448622L500.45467844608334,174.1056472966004L499.6103893271454,175.1141037442207L499.3758645718849,174.01183739449615L499.5165794250412,172.74540371608924L499.3758645718849,171.33825518452602L499.6572942781976,170.35325121243173L499.75110418030175,168.6177680235037L498.95372001241594,167.32788186957075L499.0944348655722,165.56894620511667L500.26705864187494,164.95918184143926L499.75110418030175,164.34941747776185L500.36086854397917,164.16179767355345ZM304.6265078035312,163.17679370145913L305.7053216777297,163.12988875040702L307.11247020929295,163.92727291829289L306.4088959435113,164.81846698828292L306.6434206987719,165.75656600932513L305.65841672667756,166.90573731010176L303.3600741251243,167.67966900246154L301.48387608303995,167.49204919825314L302.56268995723843,166.13180561774197L301.8591156914568,164.7950145127569L303.6415038314369,163.78655806513657ZM330.6118506863992,161.91036002305222L331.0339952458682,162.5435768622557L330.23661107798233,163.5989382609281L328.8763674974712,162.87191151962043L328.68874769326277,162.3325045825212ZM114.89598079775311,159.4713025683426L115.74026991669106,159.56511247044682L116.30312932931636,159.96380455438975L115.17741050406573,160.5970213935932L113.86407187460674,161.08952337964035L113.20740255987724,160.76118872227556L113.01978275566876,160.15142435859818L114.19240653197147,159.68237484807707ZM311.80296531450375,162.16833725383879L313.0693989929107,163.83346301618866L313.9605930629007,164.04453529592314L314.7579772307866,165.52204125406456L315.13321683920344,166.03799571563775L316.68108022392306,166.29597294642434L316.5403653707667,167.11680958983624L315.8836960560372,167.51550167377917L316.3996505176104,168.1721709885087L315.22702674130767,168.85229277876425L313.49154355237965,168.85229277876425L311.2401059018785,169.20407991165507L310.63034153820104,168.94610268086848L309.7860524192631,169.5558670445459L308.5665236919083,169.41515219138955L307.67532962191825,169.9076541774367L306.9717553561366,169.64967694665012L308.8948583492731,168.28943336613895L310.0674821255758,168.00800365982633L308.003664279283,167.77347890456576L307.62842467086614,167.25752444299258L308.98866825137725,166.85883235904964L308.28509398559567,166.15525809326803L308.5196187408562,165.31096897433008L310.48962668504475,165.42823135196036L310.6772464892532,164.67775213512664L309.7860524192631,163.8569154917147L308.19128408349144,163.62239073645418L307.8629494261267,163.2706036035634L308.3319989366478,162.68429171541203L307.9098543771788,162.3325045825212L307.2062801113972,162.94226894619862L307.15937516034506,161.67583526779168L306.50270584561554,161.01916595306216L306.9717553561366,159.68237484807707L307.9567593282309,158.62701344940461L309.0355732024294,158.7208233515089L310.583436587149,158.6035609738786L309.1762880555857,160.01070950544184L310.53653163609687,159.84654217675944L311.94368016766015,159.84654217675944L311.61534551029536,160.9019035754319L310.44272173399264,162.07452735173462ZM97.63495881057722,156.32867084785136L98.66686773372362,156.4459332254816L98.80758258687996,156.9618876870548L97.96329346794201,157.14950749126322L97.11900434900406,156.91498273600268L96.32162018111819,156.56319560311186ZM209.8785066782724,154.12413814840227L210.34755618879353,153.72544606445933L210.9104156014188,153.7488985399854L211.23875025878357,154.030328246298L210.72279579721038,154.7104500365536L210.15993638458508,154.59318765892334L209.7846967761682,154.1944955749804ZM205.09420167095737,153.6316361623551L206.03230069199955,153.04532427420375L207.81468883197965,153.04532427420375L207.81468883197965,153.30330150499037L206.2668254472601,154.030328246298L205.37563137727005,153.9834232952459ZM90.78683595696941,151.8961529734271L91.58422012485528,152.1541302042137L92.38160429274114,152.0134153510574L93.46041816693958,152.3652024839482L94.72685184534652,152.5293698126306L94.63304194324232,152.67008466578687L93.64803797114803,152.95151437209955L92.66303399905377,152.67008466578687L92.14707953748058,152.43555991052637L91.02136071222998,152.5059173371045L90.69302605486521,152.38865495947422ZM205.23491652411371,150.18412226002513L206.64206505567694,150.62971929502018L208.14302348934444,151.02841137896309L208.2368333914486,151.63817574264053L209.2218373635429,151.54436584053627L210.15993638458508,151.98996287553132L208.98731260828237,152.38865495947422L206.9703997130417,152.08377277763552L206.21992049620798,151.49746088948416L204.95348681780106,152.17758267973971L203.07728877571674,152.85770446999533L202.65514421624775,152.08377277763552L200.87275607626765,152.22448763079188L201.99847490151822,151.56781831606236L202.18609470572665,150.559361868442L202.60823926519564,149.36328561661327L203.5463382862378,149.4570955187175L203.78086304149832,150.04340740686882L204.48443730727996,149.83233512713434ZM295.62075720152643,148.42518659557106L295.2924225441617,149.26947571450904L296.74647602677703,150.1606697844991L295.05789778890113,151.14567375659337L291.3055017047324,152.03686782658343L290.1797828794818,152.271392581844L288.4912046416059,152.08377277763552L284.8326184595415,151.6850806936926L286.14595708900055,151.09876880554128L283.28475507482193,150.4655519663378L285.58309767637525,150.20757473555122L285.53619272532313,149.83233512713434L282.81570556430086,149.52745294529564L283.7068996342909,148.6831638263577L285.6769075784795,148.47209154662323L287.6938204737201,149.36328561661327L289.66382841790863,148.65971135083163L291.3055017047324,149.0349509592485L293.41622450207734,148.33137669346686ZM216.4921047766197,147.13530044163812L215.64781565768175,147.510540050055L214.19376217506638,147.58089747663314L213.86542751770162,146.94768063742964L214.42828693032692,146.220653896122L215.64781565768175,146.03303409191358L216.632819629776,146.40827370033043L216.67972458082812,146.94768063742964ZM80,145.1656948281161L83.18823388652788,146.15029646954383L86.6122953133318,147.4401826234768L86.47158046017549,148.26101926688872L87.36277453016552,148.58935392425346L87.08134482385287,147.62780242768525L90.59921615276099,147.81542223189368L93.17898846062695,149.0349509592485L91.86564983116793,149.62126284739986L89.70802208277095,149.73852522503014L89.70802208277095,151.02841137896309L89.19206762119774,151.28638860974968L87.97253889384294,151.26293613422365L86.94062997069656,150.79388662370258L85.25205173282069,150.41864701528573L84.9237170754559,149.85578760266037L83.61037844599687,149.6447153229259L82.15632496338151,149.80888265160826L81.40584574654775,149.36328561661327L81.6872754528604,148.8707836305661L80.13941206814081,149.17566581240482L80.74917643181826,149.78543017608223L80,150.34731249994593L80,145.1656948281161ZM189.8969975300743,144.97767269324115L189.09961336218845,145.42326972823616L187.31722522220832,145.02457764429323L186.28531629906195,145.16529249744957L184.50292815908185,144.57898060929818L185.62864698433242,144.1802885253553L186.5198410543225,143.61742911272995L187.92698958588574,143.99266872114686L188.72437375377157,144.22719347640742L189.09961336218845,144.46171823166793ZM549,142.7263001819907L547.5941542534522,142.7965924693181L547.3596294981917,142.37444790984912L549,141.8355436131086L549,142.7263001819907ZM80,141.83455242836908L80.18631701919296,141.76468354617168L81.26513089339147,141.78813602169777L83.1413289354758,142.1399231545886L83.04751903337157,142.32754295879704L81.6872754528604,142.6324251406357L80,142.72616266579462L80,141.83455242836908ZM198.4806035726101,160.92535605095796L199.79394220206913,161.4178580370051L200.7320412231113,162.0510748762086L202.3737145099351,162.40286200909935L203.73395809044624,162.94226894619862L205.8915858388432,163.03607884830282L207.29873437040646,163.1533412259331L207.111114566198,164.27906005118368L207.48635417461492,165.59239868064276L208.47135814670918,167.0464521632581L210.39446113984562,168.28943336613895L211.3794651119399,167.86728880667L212.08303937772152,166.5304977016849L211.42637006299202,164.46667985539213L210.48827104194982,163.78655806513657L212.5989938392947,163.17679370145913L214.05304732191007,162.26214715594307L214.80352653874382,161.34750061042695L214.66281168558746,160.4797590159629L213.7716176155974,159.37749266623837L212.22375423087786,158.3924886941441L213.7247126645453,157.03224511363297L213.16185325192,155.8361688618042L212.73970869245102,153.81925596656353L213.63090276244108,153.51437378472482L215.88234041294228,153.86616091761562L217.24258399345342,153.9834232952459L218.32139786765194,153.65508863788114L219.49402164395462,154.10068567287618L221.1356949307784,154.85116488970993L221.51093453919526,155.3436668757571L223.8561820918007,155.46092925338732L223.80927714074858,156.53974312758584L224.23142170021757,158.18141641440963L225.40404547652028,158.3924886941441L226.38904944861457,159.1664203865039L228.26524749069887,158.43939364519622L229.4847762180537,157.0087926381069L230.37597028804376,156.39902827442953L231.36097426013802,157.54819957520618L233.04955249801392,159.213325337556L234.5036059806293,160.78464119780165L233.9876515190561,161.6054778412135L235.7231347079841,162.3325045825212L236.89575848428683,163.08298379935493L238.95957633057958,163.4113184567197L239.80386544951753,163.83346301618866L240.3198199110907,164.9357293659132L241.3517288342371,165.0998966945956L241.8676832958103,165.59239868064276L241.9614931979145,167.06990463878415L241.02339417687233,167.56240662483125L240.08529515583018,168.00800365982633L237.9276674074332,168.4770531703474L236.28599412060942,169.5558670445459L234.08146142116033,169.76693932428037L231.31406930908594,169.48550961796772L229.34406136489739,169.46205714244167L227.98381778438625,169.5558670445459L226.90500391018776,170.49396606558804L225.26333062336394,171.08027795373943L223.38713258127962,172.79230866714133L221.88617414761217,174.01183739449615L222.96498802181065,173.77731263923565L225.07571081915552,172.06528192583366L227.7961979801778,170.9864680516352L229.76620592436637,170.86920567400495L230.89192474961695,171.5024225132084L229.67239602226215,172.37016410767237L230.0945405817311,173.77731263923565L230.51668514120007,174.7623166113299L232.20526337907597,175.41898592605943L234.36289112747295,175.23136612185098L235.676229756932,173.75386016370956L235.77003965903623,174.69195918475174L236.56742382692204,175.18446117079887L234.97265549115036,176.02875028973682L232.11145347697175,176.80268198209663L230.79811484751275,177.34208891919585L229.34406136489739,178.28018794023805L228.3590573928031,178.16292556260777L228.31215244175098,177.06065921288322L230.56359009225218,176.0052978142108L228.49977224595943,176.02875028973682L227.04571876334407,176.1929176184192L227.2802435186046,176.61506217788818L225.87309498704138,177.24827901709165L224.51285140653022,177.6938760520867L223.15260782601908,178.09256813602957L222.40212860918535,178.93685725496755L222.26141375602901,179.14792953470203L222.2145088049769,179.85150380048367L222.683558315498,180.53162559073922L223.19951277707116,180.57853054179134L223.05879792391488,180.08602855574418L223.43403753233173,180.3909107375829L223.3402276302275,180.7661503459998L222.44903356023747,180.97722262573427L221.83926919656005,180.93031767468213L220.90117017551788,181.1648424299427L220.33831076289258,181.23519985652086L219.54092659500674,181.305557283099L218.46211272080825,181.68079689151585L220.3852157139447,181.42281966072926L220.76045532236157,181.68079689151585L218.93116223132932,182.05603649993276L218.1337780634435,182.07948897545882L218.1337780634435,181.91532164677642L217.7585384550266,182.26710877966724L218.1337780634435,182.3374662062454L217.85234835713084,183.27556522728756L216.9142493360887,184.26056919938182L216.82043943398446,183.93223454201708L216.53900972767178,183.86187711543892L216.11686516820282,183.53354245807415L216.3513899234634,184.2371167238558L216.67972458082812,184.4716414791163L216.72662953188023,184.96414346516346L216.30448497241127,185.48009792673662L215.55400575557755,186.51200684988305L215.46019585347332,186.4651018988309L215.8354354618902,185.57390782884087L215.17876614716067,185.08140584279374L215.03805129400433,184.00259196859523L214.80352653874382,184.56545138122056L215.03805129400433,185.38628802463245L214.2406671261185,185.19866822042403L215.08495624505645,185.59736030436693L215.13186119610856,186.84034150724779L215.5071008045254,186.934151409352L215.64781565768175,187.37974844434706L215.8354354618902,188.69308707380605L215.03805129400433,189.6546385703743L213.67780771349322,190.02987817879114L212.83351859455524,190.80380987115095L212.17684927982572,190.89761977325517L211.52017996509622,191.36666928377625L211.3325601608878,191.81226631877126L209.8785066782724,192.65655543770922L209.1280274614387,193.26631980138663L208.5182630977613,194.04025149374644L208.33064329355284,194.95489803926253L208.5651680488134,195.86954458477865L208.98731260828237,196.99526341002922L209.59707697195978,197.90990995554534L209.59707697195978,198.47276936817065L210.2068413356372,199.9737278018381L210.15993638458508,200.86492187182816L210.11303143353297,201.35742385787532L209.7846967761682,202.15480802576116L209.40945716775133,202.31897535444352L208.75278785302183,202.1782605012872L208.5651680488134,201.59194861313586L208.04921358724022,201.28706643129715L207.34563932145858,200.1848000815726L206.73587495778116,199.17634363395226L206.5482551535727,198.6603891723791L206.8296848598854,197.81610005344115L206.4544452514685,197.08907331213345L205.42253632832214,196.01025943793496L204.95348681780106,195.79918715820048L203.640148188342,196.38549904635184L203.40562343308147,196.31514161977367L202.74895411835195,195.7288297316223L201.95156995046614,195.40049507425755L200.45061151679866,195.56466240293992L199.32489269154806,195.4239475497836L198.33988871945377,195.49430497636178L197.77702930682847,195.68192478057023L198.01155406208903,196.05716438898708L198.01155406208903,196.57311885056026L198.24607881734954,196.83109608134686L198.01155406208903,197.0187158855553L197.54250455156796,196.8076436058208L197.02655008999477,197.0656208366074L196.08845106895257,197.0187158855553L195.15035204791042,196.33859409529973L193.9777282716077,196.50276142398212L193.03962925056553,196.19787924214342L192.2422450826797,196.29168914424764L191.1165262574291,196.59657132608632L189.94390248112643,197.55812282265455L188.6774688027195,198.12098223527983L187.92698958588574,198.7541990744833L187.6455598795731,199.34051096263465L187.6455598795731,200.23170503262472L187.6924648306252,200.86492187182816L187.92698958588574,201.28706643129715L187.92698958588574,201.3105189068232L187.45794007536466,202.4362377320738L187.22341532010412,203.37433675311598L187.1296054179999,205.13327241757003L186.9888905648436,205.7664892567735L187.22341532010412,206.4700635225551L187.6455598795731,207.10328036175858L187.88008463483362,208.1117368093789L188.7712787048237,209.0967407814732L189.05270841113634,209.82376752278086L189.56866287270952,210.48043683751038L190.92890645322066,210.80877149487515L191.49176586584596,211.37163090750045L192.61748469109654,210.99639129908357L193.60248866319085,210.85567644592723L194.58749263528512,210.6211516906667L195.43178175422307,210.4100794109322L196.2291659221089,209.87067247383297L196.55750057947364,209.12019325699924L196.65131048157787,208.0179269072747L196.88583523683843,207.64268729885782L197.77702930682847,207.290900165967L199.13727288733963,207.00947045965435L200.30989666364232,207.0329229351804L201.10728083152816,206.9391130330762L201.38871053784084,207.22054273938886L201.34180558678872,207.83030710306625L200.63823132100708,208.60423879542606L200.35680161469446,209.40162296331187L200.591326369955,209.63614771857243L200.40370656574657,210.19900713119773L200.07537190838178,211.20746357881805L199.74703725101705,210.87912892145332L199.46560754470437,210.90258139697937L199.46560754470437,211.0902012011878L199.7001322999649,211.0902012011878L199.7001322999649,211.4419883340786L199.46560754470437,212.0048477467039L199.6063223978607,212.2159200264384L199.46560754470437,212.68496953695947L199.5594174468086,212.80223191458975L199.37179764260017,213.45890122931925L199.13727288733963,213.81068836221007L198.90274813207907,213.85759331326219L198.62131842576645,214.3031903482572L199.09036793628752,214.53771510351774L199.18417783839175,214.35009529930932L199.5594174468086,214.51426262799168L199.7001322999649,214.5611675790438L199.98156200627756,214.32664282378326L200.35680161469446,214.3031903482572L200.49751646785074,214.4204527258875L200.6851362720592,214.35009529930932L201.2949006357366,214.4673576769396L201.90466499941402,214.44390520141354L202.32680955888299,214.3031903482572L202.46752441203932,214.13902301957484L202.88966897150829,214.209380446153L203.17109867782094,214.3031903482572L203.5463382862378,214.27973787273115L203.78086304149832,214.16247549510086L204.39062740517576,214.35009529930932L204.5782472093842,214.37354777483537L205.00039176885315,214.6080725300959L205.37563137727005,214.91295471193462L205.84468088779113,215.10057451614304L206.17301554515586,215.45236164903386L206.07920564305164,215.59307650219017L205.98539574094744,215.87450620850285L206.12611059410375,216.36700819454998L205.84468088779113,216.78915275401894L205.7039660346348,217.3285596911182L205.65706108358268,217.8914191037435L205.7039660346348,218.2432062366343L205.7508709856869,218.82951812478566L205.56325118147845,218.94678050241592L205.42253632832214,219.50963991504122L205.51634623042634,219.86142704793204L205.23491652411371,220.1897617052968L205.3287264262179,220.54154883818762L205.51634623042634,220.7526211179221L205.84468088779113,221.45619538370372L206.3606353493643,221.97214984527693L206.9703997130417,222.5350092579022L207.4394492235628,223.0040587684233L207.3925442725107,223.28548847473596L207.90849873408388,223.33239342578804L208.04921358724022,223.23858352368384L208.42445319565707,223.54346570552255L209.03421755933448,223.44965580341832L209.59707697195978,223.12132114605356L210.39446113984562,222.86334391526697L210.8166056993146,222.4881043068501L211.56708491614833,222.55846173342826L211.52017996509622,222.67572411105854L212.22375423087786,222.72262906211063L212.78661364350313,222.9571538173712L213.25566315402423,223.33239342578804L213.7247126645453,223.70763303420492L214.3813819792748,223.75453798525703L215.36638595136912,222.8398914397409L215.9292453639944,222.6991765865846L215.9292453639944,222.2770320271156L216.16377011925493,221.17476567739106L216.9142493360887,220.56500131371365L217.7116335039745,220.54154883818762L217.85234835713084,220.26011913187497L218.8373523292251,220.37738150950523L219.86926125237147,219.72071219477573L220.3852157139447,219.41583001293702L221.0418850286742,218.8060656492596L221.46402958814318,218.87642307583778L221.83926919656005,219.2282102087286L221.55783949024737,219.65035476819756L221.51093453919526,219.95523695003627L220.76045532236157,220.11940427871863L221.18259988183053,220.70571616687L221.18259988183053,221.38583795712555L220.61974046920523,222.1363171739593L221.0887899797263,223.19167857263173L221.6516493923516,223.0978686705275L221.93307909866428,222.15976964948536L221.55783949024737,221.69072013896425L221.46402958814318,220.70571616687L223.105702874967,220.1897617052968L222.91808307075854,219.55654486609333L223.38713258127962,219.1578527821504L223.8561820918007,220.07249932766655L224.74737616179075,220.09595180319258L225.5916652807287,220.82297854450024L225.63857023178082,221.24512310396923L226.81119400808353,221.2685755794953L228.21834253964676,221.12786072633898L228.9688217564805,221.71417261449034L229.9538257285748,221.8783399431727L230.70430494540852,221.45619538370372L230.70430494540852,221.12786072633898L232.2990732811802,221.05750329976078L233.89384161695187,221.03405082423475L232.76812279170127,221.43274290817766L233.23717230222235,222.04250727185507L234.26908122536872,222.1363171739593L235.254085197463,222.76953401316277L235.44170500167144,223.8248954118352L236.14527926745308,223.80144293630914L236.66123372902626,224.10632511814785L237.50552284796424,224.57537462866892L238.30290701585005,225.41966374760688L238.34981196690217,226.09978553786246L238.81886147742324,226.12323801338852L239.52243574320488,226.75645485259196L240.03839020477807,227.22550436311303L241.63315854054974,227.48348159389963L241.72696844265397,227.2489568386391L242.80578231685246,227.1551469365349L244.2129308484157,227.50693406942568L244.6350754078847,227.64764892258202L245.62007937997896,227.9525311044207L246.98032296049013,229.05479745414527L247.21484771575064,229.59420439124452L247.6369922752196,229.52384696466635L247.9653269325844,230.25087370597404L248.7158061494181,232.52576383200127L249.3724754641476,232.73683611173576L249.41938041519975,233.62803018172585L248.43437644310546,234.7068440559243L248.85652100257442,235.10553613986724L251.15486360412774,235.31660841960172L251.20176855517985,236.60649457353472L252.18677252727412,235.76220545459677L253.8284458140979,236.23125496511784L255.98607356249488,237.02863913300368L256.6427428772244,237.77911834983743L256.40821812196384,238.5061450911451L257.95608150668346,238.10745300720217L260.4889488634973,238.78757479745772L262.41205185663375,238.74066984640564L264.33515484977016,239.81948372060413L266.02373308764606,241.27353720321946L267.0087370597404,241.64877681163634L268.1344558849909,241.7191342382145L268.60350539551206,242.1178263221574L269.025649954981,243.78295208450726L269.26017471024153,244.55688377686707L268.74422024866834,246.71451152526404L268.0875509339388,247.58225311972805L266.25825784290663,249.3880937352342L265.41396872396865,250.86559969337563L264.4289647518744,251.99131851862623L264.10063009450965,252.0147709941523L263.77229543714486,252.97632249072052L263.8661053392491,255.41537994543012L263.4908657308322,257.4088403651447L263.3501508776759,258.27658195960873L262.92800631820694,258.7925364211819L262.6934815629464,260.52801961010994L261.3801429334873,262.2400503235119L261.1456181782268,263.576841428497L260.11370925508044,264.1397008411223L259.78537459771564,264.9136325334821L258.3782260661524,264.9136325334821L256.3144082198596,265.4295869950553L255.42321414986958,265.9924464076806L253.96916066725422,266.3911384916235L252.42129728253468,267.4230474147699L251.34248340833616,268.71293356870285L251.10795865307566,269.674485065271L251.34248340833616,270.40151180657875L251.10795865307566,271.71485043603775L250.82652894676298,272.34806727524125L249.88842992572083,273.0750940165489L248.43437644310546,275.37343661810223L247.30865761785483,276.4053455412486L246.4174635478648,277.015109904926L245.8076991841874,278.2580911078069L244.96341006524943,278.98511784911454L244.40055065262413,279.80595449252644L242.9464971700088,280.5329812338341L241.9614931979145,280.27500400304757L241.2579189321329,280.41571885620385L240.03839020477807,279.85285944357855L239.19410108584012,279.89976439463067L238.39671691795428,279.172737653323L238.30290701585005,279.85285944357855L239.94458030267384,280.97857826882915L239.75696049846545,281.8697723388192L240.60124961740337,282.43263175144455L240.50743971529914,283.065848590648L239.28791098794431,284.7544268285239L237.3179030437558,285.43454861877944L234.73813073588985,285.7159783250921L233.2840772532745,285.5752634719358L233.56550695958714,286.3726476398216L233.2840772532745,287.3341991363898L233.51860200853503,287.99086845111935L232.76812279170127,288.45991796164043L231.40787921119016,288.6240852903228L230.18835048383534,288.1550357798017L229.67239602226215,288.50682291269254L229.86001582647057,289.7967090666255L230.70430494540852,290.19540115056844L231.45478416224225,289.7732565910995L231.83002377065912,290.45337838135504L230.6104950433043,290.85207046529797L229.57858612015792,291.67290710870986L229.39096631594947,292.9862457381689L229.06263165858473,293.6663675284245L227.8431029312299,293.6663675284245L226.81119400808353,294.34648931868L226.43595439966668,295.3314932907743L227.74929302912568,296.2695923118165L228.9688217564805,296.5275695426031L228.54667719701155,297.7001933189058L226.99881381229196,298.4506725357395L226.154524693354,299.97508344493303L224.9819009170513,300.4910379065062L224.419041504426,301.10080227018364L224.84118606389495,302.4375933751687L225.73238013388504,303.2115250675285L225.16952072125974,303.14116764095036L223.99689694495703,303.1177151654243L223.38713258127962,303.44604982278906L222.2145088049769,303.91509933331014L221.97998404971636,305.13462806066497L221.46402958814318,305.158080536191L219.9630711544757,304.73593597672203L218.46211272080825,303.8212894312059L216.86734438503657,303.09426268989824L216.4451998255676,302.27342604648635L216.82043943398446,301.49949435412657L216.16377011925493,300.63175275966256L215.9761503150465,298.4037675846874L216.53900972767178,297.16078638180653L217.94615825923506,296.1523299341862L215.9292453639944,295.77709032576934L217.1956790424013,294.6279190249927L217.61782360187027,292.44683880106965L219.07187708448566,292.9158883115907L219.7754513502673,290.2188536260945L218.88425728027724,289.8670664932037L218.46211272080825,291.4852873045014L217.6647285529224,291.32111997581904L218.0868731123914,289.4449219337347L218.50901767186036,287.0293169545511L219.11878203553778,286.1381228845611L218.7435424271209,284.87168920615414L218.64973252501667,283.4176357235388L219.1656869865899,283.3707307724867L219.9630711544757,281.26000797514183L220.90117017551788,279.172737653323L221.41712463709106,277.2261821846605L221.1356949307784,275.279626715998L221.51093453919526,274.2008128417995L221.37021968603895,272.60604450602784L222.1206989028727,271.01127617025617L222.35522365813324,268.4784088134423L222.7773682176022,265.7813741279461L223.19951277707116,262.87326716271536L223.105702874967,260.7390918898444L222.82427316865432,258.90979879881223L221.51093453919526,258.1593195819785L221.41712463709106,257.6199126448792L218.8373523292251,256.3065740154202L216.4921047766197,254.89942548385696L215.46019585347332,254.07858884044504L214.94424139190014,252.99977496624658L215.13186119610856,252.6245353578297L214.05304732191007,250.91250464442774L212.73970869245102,248.5203521407702L211.52017996509622,245.9171273573782L211.00422550352306,245.33081546922685L210.58208094405404,244.36926397265862L209.59707697195978,243.52497485372066L208.6589779509176,242.98556791662145L209.0811225103866,242.42270850399615L208.42445319565707,241.17972730111526L208.84659775512603,240.26508075559917L209.8785066782724,239.44424411218728L210.58208094405404,238.459240140093L210.3006512377414,237.8963807274677L209.7846967761682,238.5061450911451L209.03421755933448,237.91983320299374L209.26874231459502,237.56804607010292L209.0811225103866,236.37196981827415L209.50326706985555,236.18435001406573L209.73779182511612,235.36351337065383L210.2537462866893,234.51922425171588L210.15993638458508,234.0032697901427L210.8635106503667,233.72184008383005L211.75470472035676,233.20588562225686L211.61398986720044,232.80719353831392L212.08303937772152,232.68993116068367L212.03613442666943,232.0567143214802L212.31756413298206,231.56421233543307L212.97423344771158,231.4938549088549L213.53709286033688,230.673018265443L214.00614237085796,229.99289647518742L213.53709286033688,229.6645618178227L213.7716176155974,228.91408260098893L213.49018790928477,227.71800634916016L213.7716176155974,227.38967169179543L213.583997811389,226.28740534207088L213.0211383987637,225.58383107628924L212.5989938392947,225.2085914678724L212.31756413298206,224.50501720209076L212.64589879034682,224.15323006919994L212.31756413298206,224.0828726426218L212.08303937772152,223.63727560762675L211.42637006299202,223.28548847473596L210.8635106503667,223.3558459013141L210.58208094405404,223.8248954118352L210.06612648248085,224.15323006919994L209.7846967761682,224.20013502025205L209.6439819230119,224.45811225103867L210.2537462866893,225.16168651682028L209.92541162932454,225.32585384550265L209.73779182511612,225.53692612523716L209.1280274614387,225.58383107628924L208.89350270617817,224.80989938392946L208.70588290196974,225.04442413919003L208.28373834250075,224.9506142370858L208.04921358724022,224.4346597755126L207.48635417461492,224.3408498734084L207.15801951725012,224.20013502025205L206.59516010462485,224.20013502025205L206.5482551535727,224.4815647265647L206.40754030041643,224.29394492235627L205.7039660346348,223.98906274051757L205.42253632832214,223.73108550973097L205.61015613253056,223.49656075447044L205.56325118147845,223.2151310481578L205.1880115730616,222.88679639079302L204.6720571114884,222.62881916000643L204.20300760096734,222.46465183132406L204.15610264991523,222.08941222290719L203.78086304149832,221.85488746764665L203.87467294360255,222.2301270760635L203.640148188342,222.55846173342826L203.31181353097725,222.1832221250114L202.88966897150829,222.06595974738113L202.70204916729986,221.80798251659454L202.74895411835195,221.4092904326516L202.88966897150829,220.98714587318264L202.51442936309144,220.79952606897422L202.84276402045617,220.56500131371365L202.3737145099351,220.1428567542447L201.76395014625768,219.6269022926715L201.48252043994506,219.18130525767646L200.91966102731976,218.7591606982075L200.30989666364232,218.17284881005614L200.45061151679866,217.9852290058477L200.63823132100708,218.17284881005614L200.7320412231113,218.0790389079519L200.49751646785074,217.680346824009L200.1222768594339,217.56308444637875L199.98156200627756,217.86796662821743L199.23108278944383,217.84451415269137L198.76203327892276,217.72725177506112L198.19917386629746,217.46927454427453L197.49559960051585,217.3754646421703L197.12035999209897,217.09403493585765L196.46369067736944,216.88296265612314L195.6663065094836,216.8595101805971L195.0565421458062,216.60153294981052L194.35296788002458,216.06212601271125L192.8520094463571,214.65497748114802L192.19534013162757,214.23283292167906L191.1165262574291,213.90449826431427L190.4129519916475,213.9983081664185L189.38104306850107,214.4673576769396L188.72437375377157,214.6080725300959L187.7862747327294,214.2562853972051L186.80127076063513,214.02176064194455L185.58174203328034,213.41199627826717L184.59673806118604,213.22437647405872L183.1426845785707,212.63806458590736L182.0638707043722,212.0048477467039L181.73553604700743,211.65306061381307L180.9850568301737,211.58270318723493L179.67171820071468,211.16055862776597L179.10885878808938,210.57424673961458L177.70171025652613,209.82376752278086L177.04504094179663,209.002930879369L176.76361123548395,208.36971404016552L177.18575579495294,208.25245166253524L177.04504094179663,207.87721205411836L177.37337559916136,207.54887739675362L177.37337559916136,207.10328036175858L176.9043260886403,206.51696847360722L176.8105161865361,205.97756153650798L176.3883716270671,205.32089222177848L175.2157478507644,204.03100606784548L173.90240922130536,203.02254962022516L173.29264485762795,202.20171297681327L172.16692603237735,201.662306039714L171.93240127711678,201.35742385787532L172.12002108132523,200.56003968998948L171.4633517665957,200.25515750815077L170.66596759870987,199.6219406689473L170.33763294134513,198.70729412343118L169.6809636266156,198.59003174580093L168.88357945872977,197.90990995554534L168.27381509505238,197.27669311634187L168.22691014400024,196.87800103239897L167.52333587821863,195.8929970603047L167.05428636769756,194.88454061268436L167.10119131874964,194.39203862663723L166.1630922977075,193.87608416506404L165.6940427871864,193.92298911611613L164.99046852140478,193.5712019832253L164.75594376614424,194.11060892032458L164.99046852140478,194.720373284002L165.084278423509,195.70537725609626L165.55332793403008,196.2447841931955L166.53833190612434,197.13597826318556L166.7259517103328,197.44086044502427L166.91357151454122,197.5346703471285L167.10119131874964,197.98026738212351L167.33571607401018,197.95681490659746L167.61714578032283,198.8011040255354L167.9923853887397,199.12943868290017L168.27381509505238,199.59848819342125L169.0711992629382,200.25515750815077L169.5402487734593,201.47468623550557L169.91548838187614,202.03754564813087L170.29072799029302,202.6473100118083L170.33763294134513,203.3508842775899L170.94739730502252,203.39778922864204L171.51025671764782,203.98410111679337L171.9793062281689,204.57041300494473L171.93240127711678,204.80493776020526L171.36954186449148,205.27398727072637L171.13501710923094,205.27398727072637L170.8066824518662,204.47660310284053L169.96239333292826,203.72612388600677L169.02429431188608,203.0929070468033L168.36762499715655,202.76457238943857L168.41452994820867,201.8264733683964L168.18000519294813,201.12289910261478L167.57024082927072,200.70075454314582L166.67904675928068,200.1378951305205L166.49142695507223,200.3020624592029L166.1630922977075,199.95027532631207L165.36570812982166,199.64539314447336L164.61522891298793,198.89491392763964L164.70903881509213,198.77765155000935L165.22499327666532,198.84800897658752L165.7409477382385,198.37895946606645L165.78785268929062,197.7926475779151L164.75594376614424,196.8545485568729L164.00546454931052,196.50276142398212L163.53641503878944,195.68192478057023L163.0204605772162,194.83763566163228L162.45760116459093,193.78227426295982L161.89474175196563,192.60965048665713L161.70712194775717,191.9529811719276L160.86283282881925,191.20250195509385L160.25306846514184,191.03833462641148L160.1123536119855,190.66309501799464L159.36187439515177,190.59273759141644L158.8928248846307,190.24095045852565L157.67329615727587,190.12368808089536L157.34496149991114,189.91261580116088L157.2042466467548,189.20904153537927L155.93781296834786,187.89570290592022L154.8589990941494,186.066409814888L154.9059040452015,185.78498010857535L154.29613968152407,185.33938307358034L153.31113570942983,184.26056919938182L153.12351590522138,183.18175532518336L152.41994163943977,182.47818105940172L152.70137134575242,181.39936718520323L152.6544663947003,180.27364835995263L152.27922678628343,179.28864438785834L152.7482762968045,178.04566318497749L153.07661095416924,175.70041563237206L152.84208619890876,173.941479967918L152.41994163943977,172.83921361819347L152.0447020310229,172.22944925451606L152.23232183523132,171.97147202372946L154.10851987731564,172.41706905872445L154.81209414309726,173.63659778607928L155.14042880046202,173.30826312871454L154.9059040452015,172.22944925451606L154.48375948573252,171.17408785584362L154.29613968152407,171.15063538031754L151.76327232471024,169.88420170191063L150.82517330366807,169.32134228928533L148.47992575106264,168.78193535218608L147.77635148528105,167.63276405140942L147.91706633843734,166.83537988352361L146.27539305161358,166.27252047089831L146.040868296353,165.21715907222585L144.44609996058136,164.27906005118368L144.44609996058136,163.5989382609281L143.7425256947997,163.106436274881L142.569901918497,162.70774419093806L142.19466231008013,161.55857289016143L140.50608407220423,160.50321149148897L139.80250980642262,159.28368276413414L138.58298107906782,159.18987286202997L136.519163232775,159.1664203865039L134.97129984805548,158.791180778087L132.2977176380853,157.43093719757587L131.03128395967835,157.1964124423153L128.73294135812506,156.72736293179423L126.95055321814496,156.84462530942452L124.37078091027897,156.23486094574713L122.8229175255594,155.67200153312183L121.41576899399615,155.95343123943445L121.65029374925672,156.8680777849506L120.94671948347505,156.9384352115287L119.44576104980763,157.2198649178414L118.27313727350489,157.66546195283644L116.86598874194163,157.92343918362303L116.67836893773321,157.17295996678928L117.24122835035851,155.8830738128563L118.64837688192176,155.48438172891338L118.27313727350489,155.15604707154864L116.6314639866811,155.8830738128563L115.74026991669106,156.75081540732032L113.86407187460674,157.68891442836247L114.80217089564891,158.32213126756594L113.58264216829409,159.23677781308206L112.1754936367308,159.79963722570733L110.86215500727178,160.1983293096503L110.53382034990705,160.76118872227556L108.51690745466635,161.44131051253112L108.09476289519736,162.0510748762086L106.59380446152994,162.61393428883386L105.6557054404878,162.49667191120358L104.48308166418505,162.87191151962043L103.12283808367391,163.31750855461547L102.04402420947542,163.73965311408446L99.83949151002633,164.11489272250134L99.6049667547658,163.90382044276686L101.05902023738116,163.29405607908942L102.3254539157881,162.8953639951465L103.68569749629924,162.19178972936487L105.327370783123,162.0276224006825L105.9840400978525,161.48821546358323L107.76642823783266,160.71428377122345L108.04785794414528,160.45630654043688L109.03286191623957,159.98725702991578L109.2673866715001,159.00225305782152L109.92405598622963,158.25177384098777L108.42309755256215,158.62701344940461L108.00095299309316,158.41594116967013L107.29737872731158,158.88499068019127L106.45308960837363,158.22832136546174L106.07784999995678,158.6973708759828L105.60880048943571,158.0407015612533L104.2954618599766,158.55665602282647L103.49807769209079,158.55665602282647L103.35736283893445,157.7827243304667L103.59188759419501,157.31367481994562L102.79450342630918,156.84462530942452L101.05902023738116,157.10260254021114L99.98020636318267,156.49283817653372L99.08901229319261,156.16450351916896L99.08901229319261,155.4374767778613L98.0571033700462,154.87461736523596L98.57305783161945,154.12413814840227L99.65187170581788,153.39711140709454L100.12092121633899,152.74044209236507L101.15283013948536,152.64663219026085L102.04402420947542,152.85770446999533L103.12283808367391,152.22448763079188L104.06093710471609,152.34175000842214L105.04594107681035,151.91960544895315L104.81141632154981,151.3332935608018L104.06093710471609,151.09876880554128L105.04594107681035,150.5828143439681L104.24855690892451,150.60626681949412L102.84140837736129,150.8876965258068L102.46616876894441,151.16912623211942L101.43425984579798,150.8876965258068L99.6049667547658,151.02841137896309L97.68186376162936,150.72352919712438L97.11900434900406,150.20757473555122L95.47733106218027,149.4570955187175L97.30662415321248,148.8942361060922L100.21473111844321,148.26101926688872L101.2935449926417,148.26101926688872L101.10592518843328,148.91768858161822L103.87331730050767,148.8707836305661L102.79450342630918,148.04994698715421L101.1997350905375,147.5574450011071L100.26163606949532,146.90077568637756L99.04210734214053,146.3613687492783L97.25971920216037,145.93922418980935L97.96329346794201,145.25910239955377L100.26163606949532,145.21219744850166L101.90330935631911,144.6258855603503L102.23164401368385,143.99266872114686L103.54498264314287,143.3594518819434L104.85832127260193,143.21873702878707L107.29737872731158,142.6324251406357L108.51690745466635,142.72623504273992L110.4869153988549,142.04611325248436L112.45692334304346,142.30409048327095L113.44192731513775,142.8904023714223L114.00478672776305,142.65587761616177L116.20931942721214,142.72623504273992L116.11550952510794,143.03111722457862L118.13242242034858,143.2421895043131L119.44576104980763,143.12492712668285L122.21315316188199,143.52361921062578L124.69911556764373,143.64088158825604L125.68411953973802,143.82850139246446L127.41960272866604,143.61742911272995L129.3896106728546,143.99266872114686L130.84366415546992,144.1802885253553L133.23581665912747,144.485170707194L135.29963450542022,145.11838754639746L136.65987808593135,145.23564992402774L137.78559691118198,144.6962429869285L139.38036524695363,144.29755090298556L141.30346824009007,144.4382657561419L143.27347618427862,143.8754063435166L145.3841989816235,143.54707168615184L146.32229800266566,144.08647862325108L147.26039702370784,143.78159644141238L147.54182673002046,143.17183207773496L148.47992575106264,143.31254693089127L150.68445845051176,144.485170707194L152.41994163943977,143.59397663720392L152.56065649259608,144.57898060929818L154.15542482836776,144.3679083295637L154.67137928994094,143.99266872114686L156.26614762571265,144.063026147725L158.2361555699012,144.6258855603503L161.28497738828824,145.09493507087137L163.0673655282683,145.30600735060585L164.3807041577274,145.23564992402774L166.11618734665538,145.89231923875724L164.28689425562317,146.54898855348677L166.63214180822857,146.80696578427336L170.1500131371367,146.66625093111702L171.27573196238728,146.43172617585645L172.63597554289845,147.20565786821624L174.0900290255138,146.54898855348677L172.72978544500265,146.0095816163875L173.5740745639406,145.5639845813925L175.16884289971227,145.4936271548143L176.20075182285868,145.37636477718405L177.27956569705717,145.68124695902276L178.5929043265162,146.38482122480437L180.04695780913156,146.29101132270017L182.34530041068484,146.87732321085153L184.3622133059255,146.66625093111702L186.23841134800986,146.68970340664308L186.0976964948535,145.89231923875724L187.2703202711562,145.65779448349673L189.28723316639685,146.10339151849172L189.28723316639685,147.32292024584655L190.0846173342827,146.29101132270017L191.1634312084812,146.33791627375228L191.7262906211065,145.02457764429323L190.31914208954328,144.20374100088134L188.81818365587577,143.68778653930815L188.91199355798,142.25718553221884L190.4598569426996,141.2956340356506L192.19534013162757,141.5067063153851L193.50867876108663,142.09301820353647L195.29106690106676,143.54707168615184L194.11844312476404,144.20374100088134L196.55750057947364,144.46171823166793L196.51059562842156,145.798509336653L198.29298376840168,144.76660041350664L199.84084715312125,145.61088953244462L199.41870259365226,146.5724410290128L200.6851362720592,147.4636350990029L202.04537985257036,146.50208360243465L203.0303838246646,145.3998172527101L203.07728877571674,143.9692162456208L204.95348681780106,144.063026147725L206.8765898109375,144.25064595193345L208.61207299986552,144.90731526666298L208.70588290196974,145.54053210586642L207.72087892987545,146.24410637164806L208.6589779509176,146.9242281619036L208.47135814670918,147.5574450011071L205.93849078989533,148.47209154662323L204.1091976988631,148.6831638263577L202.74895411835195,148.28447174241475L202.3737145099351,148.9411410571443L201.10728083152816,150.04340740686882L200.7320412231113,150.60626681949412L199.23108278944383,151.49746088948416L197.3548847473595,151.56781831606236L196.32297582421313,152.13067772868763L196.2291659221089,152.97496684762558L194.72820748844146,153.13913417630795L193.13343915266975,154.1944955749804L191.7262906211065,155.67200153312183L191.2103361595333,156.68045798074215L191.1634312084812,158.20486888993565L193.03962925056553,158.41594116967013L193.64939361424297,159.63546989702496L194.25915797792035,160.62047386911928L196.08845106895257,160.3624966383327ZM175.73170231233757,139.79467560198316L177.18575579495294,140.33408253908243L177.98313996283878,141.60051621748934L178.40528452230774,142.51516276300543L180.60981722175686,143.14837960220888L182.95506477436226,143.78159644141238L182.81434992120595,144.34445585403768L180.65672217280894,144.46171823166793L181.5010112917469,144.95422021771506L181.07886673227793,145.42326972823616L178.6867142286204,145.23564992402774L176.43527657811921,144.8838627911369L174.93431814445174,144.95422021771506L172.4952606897421,145.3998172527101L168.64905470346923,145.63434200797064L166.8666665634891,145.70469943454881L166.1630922977075,145.09493507087137L164.3807041577274,144.74314793798058L163.25498533247676,144.8838627911369L161.61331204565298,143.85195386799052L162.50450611564304,143.71123901483423L164.5214190108837,143.50016673509973L166.35071210191592,143.54707168615184L168.03929033979182,143.33599940641736L165.50642298297797,143.03111722457862L162.73903087090358,143.12492712668285L160.90973777987136,143.10147465115676L160.20616351408975,142.60897266510966L163.20808038142468,142.09301820353647L161.2380724372361,142.11647067906253L158.9397298356828,141.76468354617168L160.0185437098813,140.8031320496035L160.95664273092345,140.2871775880303L164.42760910877948,139.48979342014445L165.78785268929062,139.74777065093105L165.13118337456112,140.35753501460846L167.9923853887397,139.95884293066555L169.82167847977192,140.61551224539505L171.27573196238728,139.95884293066555L172.4952606897421,140.38098749013454L173.5740745639406,141.64742116854143L174.2307438786701,141.10801423144218L173.29264485762795,139.77122312645707L174.41836368287855,139.58360332224868ZM175.63789241023338,139.1145538117276L177.37337559916136,139.06764886067546L178.35837957125563,139.3490785669881L177.23266074600505,140.21682016145215L175.16884289971227,139.302173615936ZM210.58208094405404,140.14646273487398L209.1280274614387,139.46634094461842L209.17493241249082,138.99729143409735L209.83160172722032,138.90348153199312L212.78661364350313,139.04419638514943L215.03805129400433,139.77122312645707L215.17876614716067,140.1230102593479L213.7716176155974,140.07610530829578L212.36446908403417,140.05265283276975L210.9573205524709,140.2402726369782ZM211.8954195735131,140.7327746230253L213.11494830086792,140.21682016145215L216.02305526609862,140.87348947618165L217.80544340607872,141.5067063153851L217.94615825923506,142.06956572801042L220.3852157139447,141.78813602169777L221.74545929445583,142.60897266510966L224.88809101494707,143.12492712668285L226.0138098401977,143.64088158825604L227.2333385675525,144.86041031561086L224.84118606389495,145.47017467928828L227.93691283333413,146.3144637982262L230.00073067962688,146.61934598006494L231.87692872171124,147.81542223189368L233.940746568004,147.88577965847185L233.51860200853503,148.80042620398794L231.2202594069817,150.32483711318145L229.62549107121004,149.76197770055614L227.56167322491726,148.51899649767535L225.87309498704138,148.6831638263577L225.73238013388504,149.41019056766538L227.09262371439618,150.18412226002513L228.87501185437628,150.7704341481765L229.39096631594947,151.1222212810673L230.23525543488745,152.4121074350003L229.81311087541846,153.35020645604246L228.17143758859464,152.99841932315167L224.88809101494707,151.9430579244792L226.7173841059793,153.06877674972984L228.07762768649047,153.86616091761562L228.31215244175098,154.3117579526107L224.74737616179075,153.79580349103747L221.97998404971636,153.04532427420375L220.3852157139447,152.4121074350003L220.85426522446576,152.03686782658343L218.88425728027724,151.3801985118539L217.0080592381929,150.7469816726504L217.0080592381929,151.1222212810673L213.25566315402423,151.3332935608018L212.17684927982572,150.86424405028072L213.0211383987637,149.92614502923857L215.46019585347332,149.90269255371248L218.1337780634435,149.71507274950406L217.7116335039745,149.26947571450904L218.18068301449557,148.61280639977952L219.86926125237147,147.3463727213726L219.49402164395462,146.76006083322125L218.97806718238144,146.3144637982262L217.0080592381929,145.68124695902276L214.33447702822272,145.23564992402774L215.17876614716067,144.90731526666298L213.8185225666495,144.1099310987771L212.64589879034682,144.03957367219897L211.61398986720044,143.59397663720392L210.9573205524709,143.9692162456208L208.5651680488134,144.1333835743032L203.82776799255043,143.85195386799052L201.06037588047607,143.47671425957367L198.94965308313118,143.2656419798392L197.8708392089327,142.82004494484414L199.23108278944383,142.21028058116673L197.40178969841162,142.21028058116673L196.97964513894263,140.89694195170773L197.96464911103692,139.724318175405L199.32489269154806,139.18491123830574L202.70204916729986,138.85657658094098L201.71704519520557,139.70086569987893L202.74895411835195,140.49824986776477L203.96848284570677,139.44288846909234L207.25182941935435,138.92693400751915L209.50326706985555,140.26372511250423L209.31564726564713,141.10801423144218ZM184.22149845276917,141.53015879091117L180.9850568301737,140.5451548188169L180.9850568301737,140.1230102593479L183.65863904014387,140.2871775880303L182.2045855575285,139.4194359935663L183.7524489422481,138.78621915436284L185.30031232696766,139.06764886067546L187.6455598795731,138.90348153199312L187.97389453693785,139.27872114040997L186.75436580958302,139.9119379796134L188.72437375377157,140.47479739223874L188.48984899851104,141.64742116854143L186.37912620116617,142.1399231545886L185.11269252275923,142.04611325248436ZM496.70228236191474,139.4194359935663L497.9687160403216,138.90348153199312L499.56348437609336,138.78621915436284L501.43968241817765,139.27872114040997L501.580397271334,139.6305082733008L499.6103893271454,139.6305082733008L496.93680711717525,139.48979342014445ZM191.39795596374177,138.41097954594596L194.11844312476404,138.45788449699808L196.60440553052578,138.78621915436284L194.63439758633723,139.9353904551395L193.08653420161767,140.1933676859261L191.6793856700544,141.17837165802035L190.17842723638694,141.10801423144218L189.38104306850107,139.98229540619158L189.42794801955318,139.32562609146208L190.0846173342827,138.76276667883678ZM154.15542482836776,142.6324251406357L153.45185056258612,142.06956572801042L150.44993369525122,141.3659914622288L150.87207825472015,140.94384690275982L151.90398717786655,139.8650330285613L153.02970600311716,139.02074390962338L151.76327232471024,138.2233597417375L156.17233772360845,138.01228746200303L158.00163081464063,138.27026469278965L161.33188233934032,138.34062211936782L162.59831601774724,138.73931420331073L164.00546454931052,139.27872114040997L162.3637912624867,139.6070557977747L159.17425459094335,140.52170234329083L157.57948625517167,141.43634888880698L157.57948625517167,141.97575582590616ZM507.58423100600385,136.83966368570034L510.8675775796514,137.19145081859114L509.3666191459839,137.70740528016432L507.3028012996912,137.59014290253407L504.8637438449816,137.07418844096088L505.19207850234636,136.6520438814919ZM192.52367478899237,137.30871319622142L191.82010052321073,137.8246676577946L189.94390248112643,137.7308577556904L188.3491341453547,137.3790706227996L189.05270841113634,136.79275873464826L190.92890645322066,136.4409716017574L192.0546252784713,136.9100211122785ZM495.3889437324557,135.80775476255394L498.8130051592596,135.8781121891321L503.50350026447046,136.5582339793877L502.47159134132403,137.51978547595593L497.68728633400906,137.49633300042984L495.529658585612,137.80121518226855L492.94988627774603,136.9569260633306L493.6534605435277,136.06573199334053ZM186.0976964948535,135.22144287440258L186.19150639695775,135.05727554572022L187.176510369052,135.64358743387157L187.22341532010412,136.32370922412713L186.61365095642674,137.28526072069536L184.4560232080297,137.4259755738517L183.04887467646648,137.21490329411722L183.0957796275186,136.46442407728347L180.9850568301737,136.5582339793877L180.89124692806948,135.54977753176735L182.29839545963273,135.59668248281946L184.22149845276917,135.15108544782447ZM174.04312407446167,136.18299437097082L175.2157478507644,135.9719220912363L176.57599143127553,136.01882704228842L176.8105161865361,136.67549635701798L176.01313201865023,137.28526072069536L171.60406661975205,137.49633300042984L168.32072004610447,138.05919241305517L166.3038071508638,138.0826448885812L166.1630922977075,137.6605003291122L168.83667450767766,137.07418844096088L162.9735556261641,137.23835576964325L161.1442625351319,137.00383101438274L162.926650675112,135.73739733597577L164.14617940246683,135.36215772755895L167.80476558453125,135.80775476255394L170.1500131371367,136.58168645491378L172.40145078763788,136.67549635701798L170.52525274555356,135.4325151541371L171.74478147290836,134.96346564361602L173.10502505341952,135.1041804967723L173.52716961288849,135.71394486044974ZM384.224209738959,138.92693400751915L387.31993650839814,137.7777627067425L386.9916018510334,137.19145081859114L389.89970881626414,136.4878765528095L394.168059362006,135.66703990939766L398.53021980985204,135.40906267861104L400.78165746035324,134.94001316808996L403.3145248171671,134.7523933638815L404.20571888715716,135.2683478254547L403.3145248171671,135.69049238492366L398.7178396140605,136.32370922412713L394.7309187746313,136.9569260633306L390.69709298415,138.19990726621148L388.7270850399614,139.46634094461842L386.71017214472073,140.70932214749928L386.9446968999813,141.78813602169777L389.4775642567952,142.86694989589625L388.6801800889093,142.9842122735265L384.4118295431674,142.82004494484414L384.0834948858027,142.2337330566928L381.73824733319725,141.88194592380196L381.55062752898885,141.17837165802035L382.86396615844785,140.89694195170773L382.8170612073958,140.1933676859261L385.39683351526173,139.06764886067546ZM199.65322734891282,138.0826448885812L197.54250455156796,137.9184775598988L194.07153817371193,137.49633300042984L193.64939361424297,136.79275873464826L193.46177381003452,136.13608941991873L192.19534013162757,135.57323000729343L189.4748529706053,135.40906267861104L187.97389453693785,135.0103705946681L188.44294404745892,134.47096365756886L191.1634312084812,134.56477355967309L192.57057974004445,134.98691811914205L195.15035204791042,134.96346564361602L196.27607087316102,135.40906267861104L195.99464116684837,135.90156466465817L197.49559960051585,136.18299437097082L198.29298376840168,136.4878765528095L200.07537190838178,136.5582339793877L201.95156995046614,136.6520438814919L204.0153877967589,136.37061417517924L206.68897000672905,136.27680427307502L208.79969280407394,136.37061417517924L210.2068413356372,136.8631161612264L210.48827104194982,137.40252309832562L209.690886874064,137.7308577556904L207.72087892987545,138.01228746200303L206.07920564305164,137.84812013332066L202.32680955888299,138.05919241305517ZM154.4368545346804,135.83120723808003L156.64138723412952,134.8696557415118L159.31496944409963,134.02536662257384L161.33188233934032,134.02536662257384L163.11427047932045,133.8377468183654L162.926650675112,134.8462032659857L161.9416467030177,135.29180030098075L160.72211797566294,135.36215772755895L158.28306052095328,135.92501714018422L156.21924267466053,136.11263694439265ZM378.173471053237,185.08140584279374L378.595615612706,186.04295733936195L379.8151443400608,186.30093457014854L380.753243361103,186.95760388487807L382.58253645213523,187.1921286401386L384.646354298428,186.84034150724779L384.7401642005322,186.53545932540908L384.50563944527164,185.62081277989296L384.6932592494801,184.26056919938182L383.6613503263337,183.8149721643868L384.03658993475057,182.92377809439677L383.14539586476053,182.85342066781857L383.42682557107315,181.75115431809405L384.646354298428,182.05603649993276L385.8189780747307,181.65734441598983L384.88087905368855,180.859960248104L384.50563944527164,180.13293350679632L383.42682557107315,180.46126816416105L383.28611071791687,181.39936718520323L382.91087110949996,180.5550780662653L382.8170612073958,180.25019588442657L383.14539586476053,179.7107889473273L382.91087110949996,179.24173943680623L381.4099126758325,178.7961424018112L380.8001483121551,177.64697110103458L380.09657404637346,177.31863644366982L380.04966909532135,176.87303940867477L381.3161027737283,177.0137542618311L381.3630077247804,176.0522027652629L382.4418215989789,175.8411304855284L383.6144453752816,176.02875028973682L383.84897013054217,174.7623166113299L383.6144453752816,173.96493244344407L382.30110674582255,174.01183739449615L381.175387920572,173.70695521265748L379.6744294869045,174.26981462528275L378.4549007595497,174.5512443315954L377.8920413469244,175.32517602395518L376.6256076685175,175.53624830368966L375.31226903905844,176.87303940867477L376.48489281536115,178.11602061155565L376.3910829132569,179.00721468154572L377.7982314448202,180.53162559073922L378.5018057106018,181.21174738099478L379.1584750253313,182.14984640203696L379.7682393890087,182.19675135308904L380.1434789974256,182.5485384859799L379.0646651232271,182.66580086361017L378.8301403679666,183.67425731123046L378.6425205637581,184.1198543462255L378.12656610218494,184.42473652806422ZM549,150.34882094107311L547.3127245471396,150.9346014768589L545.6241463092637,150.8407915747547L546.7967700855663,151.52091336501024L547.5941542534522,152.5997272392087L548.2039186171297,152.95151437209955L548.344633470286,153.4909213091988L548.0162988129213,153.8427084420896L545.5772413582116,153.5378262602509L541.9186551761471,154.52283023234514L540.7460313998445,154.68699756102757L538.7760234556558,155.6016441065437L536.8998254135715,156.39902827442953L536.3838709519983,156.98534016258083L534.5545778609661,156.0941460925908L531.1305164341622,157.10260254021114L530.5676570215369,156.63355302969006L529.30122334313,157.17295996678928L527.565740154202,157.0087926381069L527.143595594733,157.85308175704486L525.5957322100135,159.11951543545177L525.6426371610655,159.65892237255105L527.0966906436809,159.9403520788637L526.9090708394725,161.84000259647408L525.7364470631697,161.8869075475262L525.1735876505445,162.96572142172465L525.6895421121177,163.52858083434995L523.4381044616165,164.20870262460554L522.9690549510954,165.68620858274696L521.045951957959,166.01454324011172L520.62380739849,167.32788186957075L518.7476093564056,168.54741059692554L518.2785598458845,167.6562165269355L517.7157004332593,165.75656600932513L517.0121261674776,162.8484590440944L517.621890531155,161.04261842858824L518.7007044053536,160.2686867362284L518.7945143074578,159.65892237255105L520.8114272026984,159.37749266623837L523.1566747553038,157.73581937941458L525.361207454753,156.37557579890344L527.7064550073583,155.3436668757571L528.7852688815568,153.51437378472482L527.1905005457852,153.60818368682902L526.3931163778993,154.68699756102757L523.1097698042518,156.11759856811688L522.0309559300532,154.52283023234514L518.6537994543014,154.96842726734022L515.417357831706,157.14950749126322L516.4961717059044,157.94689165914906L513.5880647406736,158.27522631651382L511.57115184543306,158.41594116967013L511.6649617475373,157.47784214862799L509.6480488522966,157.2902223444196L508.0063755654728,157.92343918362303L504.0194547260436,157.68891442836247L499.75110418030175,158.0876065123054L495.529658585612,160.62047386911928L490.55773377408855,163.69274816303238L492.57464666932924,163.8569154917147L493.2313159840587,164.67775213512664L494.4977496624657,164.95918184143926L495.34203878140363,164.32596500223582L496.7491873129668,164.39632242881396L498.6253853550512,165.82692343590327L498.67229030610326,166.95264226115387L497.68728633400906,168.24252841508684L497.54657148085266,169.7903917998064L496.9837120682273,171.87766212162524L495.01370412403884,173.77731263923565L494.5915595645699,174.6685067092257L492.80917142458975,176.1929176184192L491.0267832846097,177.6938760520867L490.22939911672376,178.46780774444647L488.4470109767436,179.2182869612802L487.6496268088579,179.24173943680623L486.852242640972,178.60852259760276L485.0698545009919,179.570074094171L484.8822346967835,179.99221865363995L484.3662802352103,179.9218612270618L483.80342082258494,180.36745826205686L483.42818121416815,180.8130552970519L483.4750861652202,181.72770184256797L482.8184168504906,182.0325840244067L482.58389209523017,182.26710877966724L482.0679376336569,182.6423483880841L481.22364851471895,182.85342066781857L480.6607891020937,183.2052078007094L480.6138841510416,183.76806721333472L480.4731692978852,183.90878206649103L480.9891237594585,184.1198543462255L481.6926980252401,184.70616623437687L482.8184168504906,186.23057714357037L483.1467515078554,187.07486626250832L483.1467515078554,188.5758246961758L482.67770199733434,189.30285143748347L481.5050782210317,189.53737619274403L480.4731692978852,190.07678312984328L479.3005455215826,190.19404550747353L479.15983066842625,189.49047124169192L479.39435542368676,188.50546726959763L478.78459106000935,187.1452236890865L479.7695950321036,186.934151409352L478.8784009621136,185.83188505962747L478.26863659843616,185.57390782884087L478.0810167942277,185.8084325841014L477.7057771858109,185.9256949617317L477.65887223475875,185.69117020647116L477.330537577394,185.55045535331482L476.9552979689771,185.3628355491064L477.330537577394,184.77652366095504L477.65887223475875,184.6358088077987L477.5181573816024,184.3778315770121L477.8464920389672,183.69770978675655L477.752682136863,183.46318503149598L477.0022029200292,183.32247017833964L476.39243855635186,182.97068304544885L474.56314546531956,183.36937512939176L473.6250464442774,183.9791394930692L472.2178979127142,184.33092662596L472.92147217849583,183.7211622622826L472.6400424721832,183.2052078007094L473.6719513953296,182.3374662062454L472.9683771295479,181.65734441598983L471.8426583042973,182.1263939265109L470.34169987062984,183.01758799650096L469.54431570274403,183.86187711543892L468.2778820243371,183.93223454201708L467.62121270960756,184.54199890569447L468.3247869753892,185.4097405001585L469.3566958985356,185.62081277989296L469.40360084958763,186.20712466804434L470.43550977273406,186.5823642764612L471.88956325534946,185.6677177309451L473.0621870316522,186.16021971699223L473.90647615059015,186.20712466804434L474.0940959547985,186.8872464582999L472.26480286376625,187.26248606671678L471.6550385000889,187.9660603324984L470.38860482168195,188.59927717170186L469.7319355069525,189.51392371721795L471.1390840385157,190.24095045852565L471.6550385000889,191.50738413693256L472.4524226679747,192.70346038876133L473.2967117869126,193.71191683638165L473.2967117869126,194.67346833294988L472.4993276190269,195.0252554658407L472.78075732533944,195.7288297316223L473.57814149322536,196.12752181556525L473.3436167379648,197.20633568976373L473.01528208060006,198.2382446129101L472.3117078148184,198.3555069905404L471.3267038427241,199.7626555221036L470.2947949195777,201.47468623550557L469.0752661922229,203.02254962022516L467.2928780522428,204.21862587205393L465.4635849612106,205.32089222177848L464.00953147859525,205.4616070749348L463.2121473107094,206.04791896308615L462.7430978001883,205.62577440361716L462.0395235344067,206.28244371834668L460.2102304433745,206.91566055755015L458.8499868628633,207.12673283728464L458.38093735234224,208.51042889332183L457.6773630865606,208.5807863199L457.3021234781438,207.61923482333177L457.63045813550855,207.12673283728464L455.89497494658053,206.70458827781567L455.2852105829031,206.91566055755015L453.5497273939751,208.04137938280076L452.4240085687245,209.26090811015555L452.1425788624118,210.17555465567168L453.17448778555826,211.5357982361828L454.34711156186097,213.24782894958477L455.56664028921574,214.0452131174706L456.36402445710166,215.10057451614304L456.92688386972685,217.5161794953266L456.7861690165706,219.79106962135387L455.6604501913199,220.65881121581788L454.2063967087046,221.50310033475583L453.1275828345061,222.58191420895432L451.48590954768235,223.80144293630914L451.0168600371612,222.9571538173712L451.3920996455781,222.08941222290719L450.4070956734838,221.33893300607346L449.3282817992853,221.15131320186504L448.81232733771213,220.47119141160945L448.1556580229826,219.13440030662437L446.9830342466799,218.52463594294696L445.85731542142935,218.54808841847301L446.04493522563774,217.5161794953266L444.9192164003872,217.5396319708527L444.825406498283,218.97023297794198L444.12183223250133,220.8698834955524L443.65278272198026,222.01905479632902L443.7465926240844,222.9571538173712L444.5908817430224,223.0040587684233L445.1537411556477,224.20013502025205L445.3882659109082,225.32585384550265L446.09184017668986,226.07633306233637L446.8892243445757,226.2170479154927L447.5458936593052,226.89716970574827L447.87422831667,227.01443208337855L448.62470753350374,227.8118162512644L449.187566946129,228.6795578457284L449.28137684823326,229.5472994401924L449.1406619950769,230.13361132834376L449.23447189718115,230.60266083886484L449.3282817992853,231.3531400556986L449.79733130980645,231.72837966411544L450.31328577137964,232.8775509648921L450.2663808203275,233.3231479998871L449.3751867503375,233.39350542646528L448.10875307193055,232.43195392989708L446.60779463826304,231.40004500675067L446.42017483405465,230.74337569202117L445.6696956172209,229.87563409755717L445.48207581301244,228.79682022335868L445.01302630249137,228.06979348205098L445.20064610669976,227.13169446100883L444.87231144933503,226.56883504838353L444.35635698776184,226.07633306233637L444.1687371835534,225.44311622313293L443.46516291777186,224.6926370062992L442.8084936030423,224.0828726426218L442.6208737988339,224.85680433498158L442.3863490435733,224.1297775936739L442.5270638967296,223.30894095026198L442.9023035051465,222.06595974738113L442.7615886519901,221.08095577528687L443.1837332114591,220.09595180319258L442.71468370093805,219.3220201108328L442.85539855409434,217.91487157926954L442.2925391414691,217.23474978901396L441.87039458200013,215.66343392876834L441.63586982673957,214.02176064194455L441.07301041411426,212.94294676774607L440.22872129517634,213.5996160824756L438.72776286150884,214.53771510351774L438.0241885957272,214.4204527258875L437.22680442784144,214.11557054404878L437.6489489873104,212.49734973275102L437.3675192809977,211.27782100539622L436.38251530890346,209.77686257172874L436.52323016205975,209.30781306120767L435.772750945226,209.1436457325253L434.83465192418385,208.0648318583268L434.459412315767,207.38471006807123L434.4125073647149,206.72804075334173L434.13107765840226,206.09482391413826L433.6151231968291,205.3443446973045L432.3955944694742,205.29743974625242L432.5363093226306,205.83684668335164L432.1141647631616,206.54042094913328L431.55130535053627,206.28244371834668L431.3636855463278,206.51696847360722L430.988445937911,206.3762536204509L430.4724914763378,206.25899124282063L430.2848716721293,206.7514932288678L429.39367760213935,206.72804075334173L427.7989092663676,206.98601798412832L427.89271916847184,207.9710219562226L427.18914490269026,208.74495364858237L425.31294686060585,209.61269524304637L423.8588933779905,211.16055862776597L422.8738894058962,211.98139527117786L421.56055077643725,212.82568439011578L421.56055077643725,213.4354487537932L420.95078641275984,213.7403309356319L419.7781626364571,214.209380446153L419.16839827277965,214.27973787273115L418.7462537133107,215.2881943203515L419.0276834196234,216.9767725582274L419.07458837067543,218.05558643242586L418.5586339091023,219.29856763530674L418.5586339091023,221.50310033475583L417.8550596433207,221.573457761334L417.29220023069536,222.55846173342826L417.66743983911226,223.0040587684233L416.49481606280955,223.3558459013141L416.0257665522884,224.24703997130416L415.50981209071523,224.62227957972104L414.29028336336046,223.4027508523662L413.680518999683,221.573457761334L413.1645645381098,220.26011913187497L412.74241997864084,219.65035476819756L412.03884571285926,218.40737356531668L411.71051105549446,216.7657002784929L411.4759863002339,215.96831611060705L410.30336252393124,214.16247549510086L409.7405031113059,211.65306061381307L409.36526350288904,209.9644823759372L409.36526350288904,208.39316651569158L409.1307387476285,207.17363778833675L407.20763575449206,207.94756948069653L406.316441684502,207.80685462754022L404.6278634466261,206.21208629176851L405.2376278103035,205.74303678124744L404.8623882018867,205.2505347952003L403.3145248171671,204.1248159699497L402.3764257961249,203.79648131258494L401.95428123665596,202.8583822915428L400.9692772645617,201.8733783194485L398.5771247609041,202.1313555502351L396.46640196355924,202.15480802576116L394.63710887252705,202.31897535444352L392.1511464667653,201.94373574602668L390.74399793520206,201.63885356418797L389.2899444525867,201.47468623550557L388.7270850399614,199.8799178997339L388.11732067628395,199.64539314447336L387.08541175313763,199.8799178997339L385.7720731236786,200.4896822634113L384.1773047879069,200.06753770394235L382.86396615844785,199.059081256322L381.59753248004097,198.70729412343118L380.753243361103,197.46431292055033L379.7682393890087,195.7288297316223L379.0646651232271,195.93990201135682L378.2672809553413,195.49430497636178L377.75132649376803,196.01025943793496L377.00084727693434,195.93990201135682L377.28227698324696,196.52621389950815L377.1415621300906,196.83109608134686L377.56370668955964,197.7926475779151L378.0796611511328,198.9183664031657L378.73633046586235,199.2232485850044L378.97085522112286,199.69229809552547L379.8151443400608,200.23170503262472L379.90895424216507,200.77111196972396L379.7682393890087,201.19325652919292L379.9558591932172,201.63885356418797L380.331098801634,202.01409317260482L380.5187186058424,202.4362377320738L380.7063384100509,202.7411199139125L380.61252850794665,201.80302089287034L380.9408631653114,201.12289910261478L381.3161027737283,200.98218424945844L381.6913423821452,201.38087633340137L381.73824733319725,202.15480802576116L381.4568176268846,202.90528724259488L381.6913423821452,203.4212417041681L381.9258671374057,203.3508842775899L381.9727720884578,203.70267141048072L383.0046810116042,203.49159913074624L384.0834948858027,203.53850408179835L384.88087905368855,203.58540903285046L385.7720731236786,202.6942149628604L386.71017214472073,201.84992584392245L387.5544612636587,201.0525416760366L387.92970087207556,200.60694464104157L388.0704157252319,200.72420701867185L387.97660582312767,201.2636139557711L387.7889860189192,201.49813871103163L387.97660582312767,202.530047634178L388.53946523575297,203.4212417041681L389.2899444525867,203.89029121468917L390.2280434736289,204.05445854337154L391.0254276415147,204.28898329863208L391.58828705414004,205.03946251546583L391.9635266625569,205.48505955046085L392.43257617307796,205.6492268791432L392.43257617307796,205.93065658545586L391.9635266625569,206.70458827781567L391.7290019072963,207.07982788623252L391.166142494671,207.50197244570148L390.69709298415,208.39316651569158L390.08732862047253,208.32280908911338L389.85280386521197,208.6276912709521L389.61827910995146,209.2843605856816L389.8058989141599,210.15210218014562L389.6651840610036,210.316269508828L389.05541969732616,210.316269508828L388.25803552944035,210.80877149487515L388.11732067628395,211.4419883340786L387.8358909699714,211.69996556486518L386.9916018510334,211.69996556486518L386.52255234051233,212.02830022222994L386.52255234051233,212.54425468380316L385.8658830257828,212.91949429222L385.16230876000117,212.80223191458975L384.27111469001113,213.22437647405872L383.70825527738583,213.3181863761629L382.7701562563437,213.64652103352768L382.488726550031,214.23283292167906L382.4418215989789,214.67842995667408L381.175387920572,215.24128936929935L379.0646651232271,215.8276012574507L377.9389462979765,216.7657002784929L377.3291819342991,216.83605770507106L376.9539423258822,216.74224780296686L376.20346310904847,217.28165474006607L375.35917399011055,217.5396319708527L374.28036011591206,217.60998939743084L373.95202545854727,217.680346824009L373.67059575223465,218.03213395689983L373.2953561438178,218.12594385900402L373.10773633960935,218.4542785163688L372.4510670248798,218.43082604084273L372.02892246541086,218.59499336952513L371.1377283954208,218.54808841847301L370.80939373805603,217.77415672611323L370.85629868910814,217.0705824603316L370.6217739338476,216.67189037638866L370.38724917858707,215.71033887982045L370.0120095701702,215.1709319427212L370.24653432543073,215.1240269916691L370.1527244233265,214.51426262799168L370.29343927648284,214.27973787273115L370.24653432543073,213.6934259845798L370.0589145212223,213.15401904748055L369.68367491280543,212.75532696353764L369.5898650107012,212.23937250196443L368.88629074491956,211.77032299144335L368.182716479138,210.6680566417188L367.85438182177325,209.61269524304637L366.91628280073104,208.7215011730563L366.35342338810574,208.51042889332183L365.5091342691678,207.26744769044095L365.32151446495936,206.35280114492485L365.4153243670636,205.57886945256507L364.66484515022984,204.14826844547576L364.0550807865524,203.63231398390258L363.35150652077084,203.3508842775899L362.8824570102497,202.62385753628223L362.97626691235394,202.31897535444352L362.6010273039371,201.63885356418797L362.2257876955202,201.35742385787532L361.70983323394705,200.39587236130708L360.9124490660612,199.34051096263465L360.25577975133166,198.44931689264462L359.59911043660213,198.44931689264462L359.83363519186264,197.72229015133692L359.8805401429148,197.27669311634187L360.02125499607115,196.76073865476872L359.97435004501904,196.57311885056026L359.64601538765424,197.08907331213345L359.36458568134157,198.0740772842277L358.9893460729247,198.7541990744833L358.7079163666121,198.98872382974383L358.238866856091,198.56657927027487L357.67600744346566,197.98026738212351L356.7379084224235,196.1040693400392L356.59719356926723,196.22133171766944L357.16005298189253,197.60502777370664L357.95743714977834,198.9183664031657L358.9424411218726,200.93527929840633L359.4114906323937,201.63885356418797L359.83363519186264,202.3893327810217L361.0062589681654,203.819933788111L360.72482926185273,204.05445854337154L360.77173421290485,204.8987476623095L362.3195975976244,206.07137143861218L362.50721740183286,206.3293486693988L362.9293619613018,207.61923482333177L362.6479322549892,207.8537595785923L362.83555205919765,209.19055068357738L363.35150652077084,210.73841406829698L363.8205560312919,211.06674872566174L364.5241302970735,211.55925071170887L365.27460951390725,213.06020914537635L365.6498491223241,214.2562853972051L366.35342338810574,214.88950223640856L368.13581152808587,216.13248343928944L368.88629074491956,216.8595101805971L369.5898650107012,217.60998939743084L369.9651046191181,218.05558643242586L370.6217739338476,218.4542785163688L370.95010859121237,218.85297060031172L370.90320364016026,219.39237753741094L370.1527244233265,219.72071219477573L370.71558383595186,220.07249932766655L371.1377283954208,220.3070240829271L371.37225315068133,220.8464310200263L371.98201751435874,221.38583795712555L372.6386868290883,221.38583795712555L373.85821555644304,221.05750329976078L375.2653640880063,220.91678844660447L376.43798786430904,220.4946438871355L377.04775222798645,220.42428646055734L377.5168017385075,220.1897617052968L378.2672809553413,220.1428567542447L378.68942551481024,220.11940427871863L379.2991898784876,219.90833199898415L379.9558591932172,219.79106962135387L380.61252850794665,219.34547258635885L381.0815780184677,219.34547258635885L381.1284829695199,219.69725971924967L380.98776811636355,220.4477389360834L380.98776811636355,221.12786072633898L380.7063384100509,221.59691023686005L380.37800375268614,223.02751124394936L379.7213344379566,224.4815647265647L378.92395027007075,226.12323801338852L377.7982314448202,228.04634100652495L376.71941757062166,229.5003944891403L375.1715541859021,231.2827826291204L373.85821555644304,232.33814402779285L371.8882076122545,233.62803018172585L370.71558383595186,234.61303415382008L369.26153035333647,236.20780248959178L368.9801006470238,236.88792427984734L368.69867094071117,237.19280646168608L367.76057191966896,237.70876092325923L367.4322372623042,238.2481678603585L366.96318775178315,238.3419777624627L366.7755679475747,239.28007678350488L366.35342338810574,239.79603124507807L366.11889863284523,240.66377283954208L365.5560392202199,241.08591739901107L364.99317980759463,242.70413821030877L365.0400847586467,243.43116495161647L365.88437387758466,243.90021446213754L365.9312788286368,244.25200159502836L365.5560392202199,245.02593328738814L365.6498491223241,245.42462537133108L365.5560392202199,246.05784221053452L366.02508873074095,246.8786788539464L366.5410431923142,248.14511253235335L367.01009270283527,248.44999471419206L367.2446174580958,249.03630660234342L367.19771250704366,250.32619275627638L367.3384273602,251.47536405705304L367.3853323112521,253.4922769522937L367.6198570665127,254.1489462670232L367.2446174580958,255.06359281253933L366.7286629965226,255.97823935805545L365.88437387758466,256.7756235259413L364.71175010128195,257.2681255119884L363.2576966186666,257.9013423511919L361.7567381849991,259.3084908827551L361.28768867447803,259.5430156380157L360.3495896534359,260.4811146590578L359.83363519186264,260.78599684089653L359.69292033870636,261.70064338641265L360.3495896534359,262.6856473585069L360.5841144086964,263.4595790508667L360.5841144086964,263.8348186592836L360.81863916395696,263.7879137082315L360.77173421290485,265.0543473866384L360.5841144086964,265.6641117503158L360.8655441150091,265.87518403005026L360.6779243108006,266.43804344267556L360.16196984922743,266.8836404776706L359.08315597502894,267.32923751266566L357.48838763925727,268.0328117784473L356.92552822663197,268.5253137644944L357.0662430797883,269.06472070159367L357.39457773715304,269.15853060369784L357.2538628839967,269.83865239395345L356.92552822663197,270.7767514149956L356.78481337347563,271.8790177647202L356.4564787161109,272.4653296528715L355.5652846461208,273.12199896760103L355.3307598908603,273.3096187718095L354.767900478235,273.96628808653895L354.3926608698181,274.64640987679456L353.6421816529844,275.5610564223107L352.18812817036905,276.9213000028218L351.25002914932685,277.6952316951816L350.2650251772326,278.28154358333296L348.9047815967214,278.79749804490615L348.24811228199195,278.8678554714843L348.1073974288356,279.2196426043751L347.31001326094975,279.03202280016666L346.6533439462203,279.2665475554272L345.246195414657,279.03202280016666L344.4488112467712,279.196190128849L343.93285678519794,279.1258327022709L342.57261320468683,279.64178716384407L341.44689437943623,279.8294069680525L340.64951021155036,280.3219089540996L340.039745847873,280.36881390515174L339.5237913862998,279.89976439463067L339.05474187577875,279.87631191910464L338.4918824631534,279.29000003095325L338.4449775121013,279.4776198351617L338.2573577078929,279.1258327022709L338.2573577078929,278.3519010099111L337.8352131484239,277.4841594154471L338.2573577078929,277.24963466018653L338.2573577078929,276.24117821256624L337.36616363790284,275.0216494852114L336.7094943231733,273.91938313548684L335.7713953021311,272.23080489761094L334.83329628108896,271.2458009255167L334.3173418195158,270.28424942894844L334.03591211320315,269.01781575054156L333.70757745583836,268.0797167294994L333.2854328963694,266.08625630978474L333.2385279453173,264.51494044953915L333.09781309216095,263.8113661837575L332.58185863058776,263.2719592466583L331.8782843648061,262.1931453724598L331.22161505007665,260.62182951221416L330.94018534376397,259.80099286880227L329.8613714695655,258.5345591903953L329.76756156746126,257.54955521830107L329.67375166535703,256.72871857488917L329.8613714695655,255.5795472741125L330.28351602903444,254.38347102228374L330.37732593113867,253.82061160965847L330.79947049060763,252.64798783335576L331.08090019692025,252.10858089625648L331.831379413754,251.26429177731853L332.25352397322297,250.6779798891672L332.39423882637936,249.71642839259897L332.34733387532725,248.9894016512913L331.92518931585823,248.5203521407702L331.5968546584935,247.72296797288436L331.2685200011287,246.94903628052458L331.36232990323293,246.66760657421193L331.7375695116498,246.15165211263874L331.36232990323293,244.88521843423183L331.08090019692025,244.01747683976782L330.4242308821908,243.19664019635593L330.5649457353471,242.9386629655693L330.37732593113867,242.5399708816264L330.0020863227218,241.55496690953214L328.9701773995754,240.19472332902097L327.6099338190643,238.85793222403592L326.7656447001263,237.80257082536346L325.9682605322405,236.44232724485232L326.0151654832926,236.02018268538336L326.2965951896052,235.59803812591437L326.62492984697,234.65993910487222L326.8594546022305,233.67493513277793L326.62492984697,233.4873153285695L327.0939793574911,232.03326184595414L327.2815991616995,231.00135292280777L326.7656447001263,230.13361132834376L326.15588033644894,229.92253904860928L325.87445063013627,229.33622716045792L325.54611597277153,229.14860735624947L325.5930209238236,228.77336774783262L324.2327773433125,229.2424172583537L323.7168228817393,229.17205983177553L323.2477733712182,229.47694201361423L322.1689594970197,229.4534895380882L321.4653852312381,228.6326528946763L321.0432406717691,227.69455387363413L320.15204660177903,226.82681227917013L319.1670426296848,226.85026475469618L317.99441885338206,226.85026475469618L316.91560497918357,226.9909796078525L315.8836960560372,227.27240931416515L313.81987820974445,228.04634100652495L313.1163039439628,228.49193804151997L311.94368016766015,228.86717764993685L310.77105639135743,228.49193804151997L310.2081969787321,228.51539051704603L309.2700979576899,228.25741328625944L308.425808838752,228.25741328625944L306.8779454540324,228.49193804151997L305.98675138404235,228.86717764993685L304.7203177056354,229.35967963598398L304.4388879993228,229.31277468493187L304.11055334195805,229.33622716045792L302.75030976144683,228.70301032125445L301.57768598514417,227.71800634916016L300.45196715989357,226.9909796078525L299.60767804095565,226.1701429644406L299.23243843253874,226.05288058681032L298.2943394114966,225.53692612523716L297.63767009676707,224.83335185945552L297.40314534150656,224.36430234893444L297.2624304883502,223.4027508523662L296.6526661246728,222.62881916000643L296.18361661415173,222.11286469843324L295.8083770057348,221.94869736975087L295.5269472994222,221.69072013896425L295.33932749521375,221.12786072633898L295.1517076910053,220.82297854450024L294.77646808258845,220.61190626476576L294.07289381680687,220.07249932766655L293.5569393552336,219.9786894255623L293.2286046978689,219.6269022926715L293.275509648921,219.41583001293702L292.85336508945204,219.13440030662437L292.7595551873478,218.87642307583778L292.57193538313936,217.86796662821743L292.7126502362957,217.28165474006607L292.1966957747225,216.27319829244576L291.540026459993,215.80414878192465L292.1028858726183,215.56962402666414L292.7595551873478,214.65497748114802L293.04098489366044,213.97485569089244L292.94717499155627,213.27128142511083L293.3224145999731,212.63806458590736L293.4631294531294,211.41853585855253L293.3224145999731,210.12864970461956L293.1816997468168,209.47198038989006L293.275509648921,208.81531107516054L292.94717499155627,208.20554671148312L292.2905056768267,207.64268729885782L292.33741062787885,207.07982788623252L292.38431557893097,206.4935159980812L292.90027004050415,206.14172886519037L293.3224145999731,205.4616070749348L293.2286046978689,205.01601003993974L293.69765420838996,204.10136349442365L294.4012284741716,203.2570743754857L294.82337303364056,203.04600209575122L295.1986126420574,202.29552287891747L295.1986126420574,201.59194861313586L295.6676621525785,200.79456444525002L296.5588562225686,200.32551493472891L297.40314534150656,198.98872382974383L298.05981465623603,198.47276936817065L299.27934338359086,198.3320545150143L300.31125230673723,197.44086044502427L300.96792162146676,197.08907331213345L302.04673549566525,196.01025943793496L301.7184008383005,194.39203862663723L302.1874503488216,193.26631980138663L302.37507015303004,192.58619801113107L303.21935927196796,191.69500394114098L304.532697901427,191.10869205298965L305.5177018735213,190.5692851158904L306.3619909924592,189.20904153537927L306.78413555192816,188.41165736749343L307.72223457297036,188.41165736749343L308.5196187408562,188.9745167801187L309.739147468211,188.8807068780145L311.09939104872217,189.16213658432716L311.66225046134747,189.1855890598532L312.9286841397544,188.48201479407157L314.33583267131763,188.24749003881104L315.13321683920344,187.7080831017118L316.3996505176104,187.30939101776886L318.60418321705953,187.07486626250832L320.7618109654565,186.98105636040412L321.418480280186,187.16867616461255L322.6380090075408,186.65272170303936L324.0451575391041,186.65272170303936L324.56111200067727,186.95760388487807L325.4523060706673,186.86379398277384L326.90635955328264,186.34783952120065L327.79755362327273,186.488554374357L327.75064867222056,187.1452236890865L328.8763674974712,186.67617417856542L328.9701773995754,186.934151409352L328.3135080848459,187.56736824855548L328.3135080848459,188.17713261223287L328.7356526443149,188.48201479407157L328.5949377911586,189.60773361932218L327.7037437211685,190.2644029340517L327.98517342748113,190.99142967535937L328.64184274221066,191.01488215088543L328.9701773995754,191.62464651456284L329.48613186114864,191.83571879429732L330.9870902948161,192.28131582929234L331.5499497074414,192.16405345166208L332.6287635816399,192.37512573139657L334.3642467705679,192.96143761954795L334.9740111342453,194.13406139585064L336.146634910548,194.36858615111117L337.9759280015802,194.93144556373647L339.3830765331435,195.56466240293992L339.9928408968209,195.23632774557518L340.60260526049825,194.62656338189777L340.32117555418563,193.6415594098035L340.7433201136546,193.00834257060004L341.6814191346968,192.39857820692262L342.57261320468683,192.2109584027142L344.30809639361485,192.4689356335008L344.7771459041359,193.05524752165215L345.246195414657,193.05524752165215L345.66833997412596,193.2897722769127L346.981678603585,193.43048713006903L347.26310830989763,193.87608416506404L348.99859149882565,193.852631689538L350.2650251772326,194.2044188224288L351.57836380669164,194.57965843084565L352.18812817036905,194.79073071058014L353.1731321424633,194.36858615111117L353.6890866040365,193.99334654269433L354.8617103803392,193.8995366405901L355.79980940138137,194.06370396927247L356.12814405874616,194.69692080847594L356.4564787161109,194.27477624900695L357.48838763925727,194.57965843084565L358.52029656240364,194.65001585742382L359.13006092608106,194.32168120005906L359.50530053449796,193.8995366405901L359.4114906323937,193.82917921401193L359.7867302408106,193.21941485033452L360.02125499607115,192.23441087824023L360.20887480027955,191.9060762208755L360.25577975133166,191.88262374534943L360.72482926185273,190.827262346677L361.38149857658226,189.91261580116088L361.38149857658226,189.86571085010877L361.28768867447803,188.85725440248845L361.6160233318428,188.34129994091523L361.10006887026964,187.73153557723785L361.6160233318428,187.26248606671678L360.81863916395696,187.356295968821L359.73982528975847,187.07486626250832L358.84863121976844,187.80189300381602L356.83171832452774,187.9660603324984L355.79980940138137,187.26248606671678L354.3926608698181,187.21558111566466L354.11123116350547,187.7549880527639L353.1731321424633,187.91915538144627L351.9536034151085,187.21558111566466L350.49954993249315,187.23903359119072L349.7490707156594,185.94914743725775L348.76406674356514,185.22212069595005L349.4207360582946,184.21366424832974L348.5764469393567,183.58044740912624L350.0305004219721,182.3374662062454L352.0474133172127,182.2905612551933L352.610272729838,181.305557283099L355.0962351355997,181.46972461178137L356.64409852031935,180.62543549284345L358.1450569539868,180.25019588442657L360.3026847023838,180.22674340890052L362.6010273039371,181.1413899544166L364.47722534602144,181.65734441598983L365.9781837796889,181.44627213625535L367.1039026049395,181.5635345138856L368.65176598965905,180.88341272363002L368.8393857938675,180.32055331100474L368.5110511365027,179.45281171654074L367.76057191966896,178.9603097304936L367.01009270283527,178.81959487733727L366.5410431923142,178.42090279339436L364.8993699054904,177.31863644366982L363.3984114718229,176.82613445762266L362.2726926465723,176.0522027652629L363.2107916676145,175.8411304855284L364.289605541813,174.7623166113299L363.58603127603135,174.24636214975672L365.5091342691678,173.70695521265748L365.4622293181157,173.4255255063448L364.289605541813,173.63659778607928L363.2576966186666,173.73040768818353L362.41340749972863,174.1525522476525L361.19387877237386,174.22290967423064L360.0681599471232,174.7154116602778L360.1150648981753,175.53624830368966L360.77173421290485,175.8411304855284L362.0850728423639,175.77077305895023L361.85054808710333,176.21637009394527L360.396494604488,176.45089484920578L358.66101141556,177.20137406603953L357.9105321987263,176.94339683525294L358.1919619050389,176.33363247157553L356.78481337347563,175.95839286315865L357.0193381287362,175.70041563237206L358.238866856091,175.25481859737704L357.8636272476742,174.9733888910644L355.8467143524335,174.64505423369963L355.75290445032925,174.1525522476525L354.58028067402654,174.3167195763349L354.06432621245335,175.0202938421165L353.0793222403591,175.9818453386847L353.0793222403591,176.33363247157553L352.4695578766817,176.61506217788818L352.0474133172127,176.4977998002579L351.7190786598479,178.06911566050354L351.0155043940663,178.60852259760276L350.5464548835452,179.52316914311888L350.9685994430142,180.27364835995263L351.10931429617057,180.7661503459998L352.2819380724732,181.18829490546875L352.0474133172127,181.5166295628335L350.49954993249315,181.58698698941166L349.93669051986785,181.98567907335456L348.8578766456693,182.6892533391362L348.43573208620035,182.07948897545882L348.43573208620035,181.82151174467222L347.63834791831454,181.77460679362008L346.981678603585,181.65734441598983L345.38691026781333,181.98567907335456L346.27810433780337,182.7361582901883L345.62143502307384,182.9472305699228L344.91786075729226,182.9472305699228L344.2142864915106,182.26710877966724L343.97976173625005,182.5485384859799L344.26119144256273,183.32247017833964L344.91786075729226,183.93223454201708L344.4488112467712,184.2371167238558L345.15238551255277,184.82342861200715L345.8090548272823,185.19866822042403L345.8090548272823,185.94914743725775L344.6364310509796,185.59736030436693L345.0116706593965,186.25402961909643L344.1673815404585,186.39474447225277L344.6833360020317,187.54391577302943L343.79214193204166,187.56736824855548L342.7133280578431,187.00450883593018L342.24427854732204,185.94914743725775L342.00975379206153,185.08140584279374L341.49379933048834,184.49509395464239L340.8371300157588,183.74461473780863L340.7433201136546,183.36937512939176L340.5087953583941,183.27556522728756L340.5087953583941,182.9941355209749L339.80522109261244,182.57199096150592L339.6645062394561,181.93877412230245L339.75831614156033,181.0475800523124L339.9459359457688,180.6488879683695L339.75831614156033,180.43781568863503L339.4768864352477,180.3440057865308L339.1016468268308,179.9218612270618L338.5387874142055,179.66388399627522L337.3192586868507,179.1713820102281L336.568779470017,178.702332499707L335.34925074266215,178.32709289129014L334.27043686846366,177.3655413947219L334.55186657477634,177.2717314926177L333.94210221109887,176.70887207999237L333.89519726004676,176.2867275205234L333.09781309216095,176.07565524078893L332.675668532692,176.63851465341423L332.3004289242751,176.1929176184192L332.3004289242751,175.74732058342417L332.34733387532725,175.7238681078981L332.675668532692,175.60660573026786L331.6437596095456,175.41898592605943L330.5649457353471,175.8880354365805L330.6118506863992,176.52125227578398L330.4711358332429,176.89649188420083L330.89328039271186,177.55316119893033L332.1128091200667,178.20983051365988L332.7694784347962,179.28864438785834L334.22353191741155,180.3440057865308L335.2554408405579,180.3440057865308L335.58377549792266,180.62543549284345L335.2085358895058,180.88341272363002L336.3811596658085,181.35246223415112L337.3192586868507,181.75115431809405L338.4449775121013,182.4312761083496L338.5856923652576,182.66580086361017L338.3511676099971,183.13485037413125L337.60068839316335,182.52508601045383L336.47496956791275,182.31401373071932L335.91211015528745,183.15830284965728L336.8502091763296,183.62735236017835L336.7094943231733,184.30747415043396L336.19353986160013,184.40128405253816L335.4899655958185,185.5035504022627L334.9271061831932,185.62081277989296L334.9271061831932,185.22212069595005L335.2085358895058,184.51854643016844L335.4899655958185,184.2371167238558L334.9740111342453,183.48663750702204L334.5987715258284,182.8299681922925L334.03591211320315,182.66580086361017L333.66067250478625,182.10294145098484L332.8163833858483,181.86841669572433L332.25352397322297,181.32900975862506L331.2685200011287,181.2586523320469L330.28351602903444,180.67234044389554L329.0639873016797,179.82805132495758L328.1727932316896,179.07757210812386L327.79755362327273,177.7876859541909L327.1408843085432,177.6235186255085L326.0620704343447,177.20137406603953L325.4992110217194,177.3655413947219L324.74873180488567,177.97530575839932L324.18587239226036,178.06911566050354L323.01324861595765,178.81959487733727L320.4334763080917,178.46780774444647L318.55727826600736,178.88995230391544L318.36965846179896,179.66388399627522L318.46346836390313,180.41436321310894L317.2439396365483,181.28210480757298L315.55536139867246,181.5635345138856L315.46155149656823,182.00913154888065L314.61726237763025,182.7361582901883L314.1482128671092,183.79151968886075L314.66416732868237,184.54199890569447L313.9136881118486,185.10485831831977L313.632258405536,185.94914743725775L312.64725443344173,186.23057714357037L311.7091554123996,187.21558111566466L310.0674821255758,187.23903359119072L308.80104844716885,187.21558111566466L308.003664279283,187.68463062618574L307.4877098177098,188.17713261223287L306.8779454540324,188.0598702346026L306.3619909924592,187.61427319960757L305.98675138404235,186.86379398277384L304.7672226566875,186.67617417856542L304.25126819511433,187.00450883593018L303.59459888038486,186.81688903172173L302.8910246146032,186.95760388487807L303.12554936986373,185.94914743725775L302.9848345167074,185.1517632693719L302.42197510408215,185.03450089174163L302.09364044671736,184.54199890569447L302.1874503488216,183.67425731123046L302.7034048103948,183.2052078007094L302.797214712499,182.6892533391362L303.0786444188116,181.89186917125036L303.0317394677595,181.35246223415112L302.797214712499,180.88341272363002L302.75030976144683,180.43781568863503L302.797214712499,179.49971666759282L302.28126025092575,178.93685725496755L304.11055334195805,177.99875823392537L305.7053216777297,178.2332829891859L307.44080486665774,178.2332829891859L308.84795339822097,178.4443552689204L309.92676727241945,178.39745031786828L312.0374900697643,178.42090279339436L312.69415938449384,177.64697110103458L312.9286841397544,175.04374631764256L311.61534551029536,173.68350273713142L310.63034153820104,173.0268334224019L308.6603335940125,172.53433143635476L308.5196187408562,171.57277993978653L310.2081969787321,171.2913502334739L312.4127296781812,171.61968489083867L311.9905851187122,170.14217893269725L313.21011384606703,170.70503834532252L316.2589356644541,169.6965818977022L316.63417527287095,168.6177680235037L317.75989409812155,168.3597907927171L318.83870797232004,168.1018135619305L319.49537728704956,167.75002642903974L320.6210961123001,165.82692343590327L322.4034842522803,165.287516498804L323.4822981264787,165.3344214498561L323.7637278327914,165.0529917435435L324.8425417069899,164.98263431696532L325.0770664622504,165.26406402327797L325.9682605322405,164.63084718407453L325.68683082592787,164.13834519802737L325.5930209238236,163.3878659811936L325.0770664622504,162.66083923988595L325.03016151119834,161.34750061042695L325.26468626645885,160.99571347753613L325.6399258748757,160.5970213935932L326.7656447001263,160.526663967015L327.2346942106474,160.15142435859818L328.2666031337938,159.79963722570733L328.2196981827417,160.45630654043688L327.84445857432485,160.87845109990585L328.03207837853324,161.25369070832272L328.7356526443149,161.44131051253112L328.4073179869501,161.93381249857828L328.03207837853324,161.79309764542194L327.0939793574911,162.73119666646414L327.42231401485583,163.36441350566759L327.46921896590794,163.88036796724077L328.782557595367,164.18525014907948L328.7356526443149,164.63084718407453L330.095896224826,164.39632242881396L330.79947049060763,164.04453529592314L332.3004289242751,164.56048975749633L332.91019328795255,164.95918184143926L333.8013873579426,164.5839422330224L335.8183002531832,163.974177869345L337.459973540007,163.52858083434995L338.77331216946607,163.7631055896105L338.8671220715703,164.06798777144917L340.1335557499772,164.09144024697525L340.41498545628986,163.52858083434995L342.1973735962699,163.106436274881L341.9159438899573,162.00416992515648L341.9628488410094,161.01916595306216L342.61951815573894,160.1983293096503L343.8390468830938,159.75273227465524L344.87095580624015,160.7377362467495L345.9028647293865,160.71428377122345L346.1842944356992,159.70582732360313L346.3250092888555,158.93189563124335L345.8559597783344,159.09606295992575L345.0116706593965,158.6504659249307L344.91786075729226,157.89998670809695L346.55953404411605,157.5247470996801L348.20120733093984,157.33712729547167L349.60835586250306,157.54819957520618L350.9685994430142,157.5247470996801L352.42265292562956,156.79772035837243L351.0624093451184,156.18795599469502L348.717161792513,156.28176589679924L346.4188191909597,156.75081540732032L344.30809639361485,157.03224511363297L343.5576171767811,156.32867084785136L342.29118349837415,155.8830738128563L342.57261320468683,154.61664013444937L341.9159438899573,153.44401635814665L342.57261320468683,152.67008466578687L343.74523698098955,151.84924802237498L346.70024889727233,150.44209949081176L347.5914429672624,150.18412226002513L347.4507281141061,149.62126284739986L345.62143502307384,149.01149848372245L343.41690232362475,149.3867380921393L342.15046864521787,150.27793216212933L342.33808844942627,151.0753163300152L340.2742706031335,152.13067772868763L337.74140324631963,153.25639655393826L336.8033042252775,155.08568964497044L337.74140324631963,156.00033619048656L338.96093197367446,156.72736293179423L337.7883081973718,158.20486888993565L336.42806461686064,158.5097510717744L335.91211015528745,160.69083129569742L335.2085358895058,161.91036002305222L333.61376755373414,161.79309764542194L332.86328833690044,162.82500656856834L331.36232990323293,162.87191151962043L330.94018534376397,161.65238279226563L329.8613714695655,160.1748768341242L328.8763674974712,158.32213126756594L327.98517342748113,157.5247470996801L325.4054011196152,159.02570553334755L323.6699179306872,159.33058771518625L321.88752979070705,158.67391840045678L321.418480280186,157.2667698688935L320.996335720717,154.26485300155858L322.21586444807184,153.42056388262063L325.6399258748757,152.34175000842214L328.2196981827417,150.981506427911L330.6118506863992,149.17566581240482L333.70757745583836,146.66625093111702L335.91211015528745,145.68124695902276L339.4768864352477,144.03957367219897L342.33808844942627,143.47671425957367L344.4957161978233,143.54707168615184L346.4657241420118,142.46825781195332L348.8578766456693,142.51516276300543L351.2031241982748,142.25718553221884L355.2838549398082,143.21873702878707L353.5952767019323,143.57052416167787L355.00242523349556,144.3913608050898L356.36266881400667,143.92231129456871L358.52029656240364,144.71969546245452L362.0850728423639,145.02457764429323L367.01009270283527,146.50208360243465L367.9950966749295,147.11184796611207L368.08890657703375,147.97958956057607L366.6348530944184,148.65971135083163L364.5241302970735,149.01149848372245L358.7079163666121,148.0264945116282L357.7229123945178,148.19066184031055L359.83363519186264,149.1522133368788L360.02125499607115,151.0753163300152L361.70983323394705,151.47400841395813L362.74174215709337,151.82579554684895L362.8824570102497,151.19257870764545L362.0850728423639,150.60626681949412L362.9293619613018,150.13721730897305L366.07199368179306,150.9346014768589L367.19771250704366,150.62971929502018L366.3065184370536,149.66816779845198L369.35534025544064,148.40173412004503L370.52796403174335,148.47209154662323L371.7474927590982,148.91768858161822L372.49797197593193,148.0264945116282L371.41915810173344,147.2525628192684L372.07582741646297,146.47863112690857L371.09082344436865,145.65779448349673L374.74940962643313,146.0799390429657L375.49988884326683,146.80696578427336L373.85821555644304,146.97113311295573L373.85821555644304,147.6981598542634L374.8901244795895,148.14375688925844L376.9070373748301,147.86232718294576L377.23537203219485,147.04149053953392L379.9558591932172,146.40827370033043L384.50563944527164,145.28255487507982L385.44373846631385,145.35291230165802L384.1773047879069,146.15029646954383L385.8189780747307,146.29101132270017L386.71017214472073,145.84541428770513L389.1492295994304,145.798509336653L391.11923754361896,145.25910239955377L392.5732910262343,146.0564865674396L394.07424945990175,145.18874497297566L392.7140058793906,144.4382657561419L393.37067519412017,143.99266872114686L397.216881180393,144.3913608050898L399.04617427142523,144.7900528890327L403.7366693766361,146.29101132270017L404.6278634466261,145.61088953244462L403.3145248171671,144.93076774218903L403.267619866115,144.64933803587638L401.6728515303433,144.50862318272004L402.14190104086435,143.89885881904263L401.4383267750827,142.8904023714223L401.39142182403066,142.46825781195332L403.7835743276882,141.2956340356506L404.6278634466261,140.09955778382187L405.6128674187204,139.84158055303527L409.0838337965764,140.1933676859261L409.3183585518369,140.92039442723376L408.0988298244821,141.97575582590616L408.89621399236796,142.37444790984912L409.3183585518369,143.28909445536524L409.0369288455243,145.07148259534534L410.49098232813964,145.86886676323118L409.92812291551434,146.76006083322125L407.3483506076484,148.58935392425346L408.84930904131585,148.80042620398794L409.36526350288904,148.33137669346686L410.81931698550443,147.97958956057607L411.14765164286916,147.3463727213726L412.27337046811977,146.71315588216913L411.522891251286,145.98612914086146L412.1326556149635,145.11838754639746L410.67860213234803,145.02457764429323L410.39717242603547,144.29755090298556L411.42908134918184,142.9842122735265L409.7405031113059,141.92885087485408L412.0857506639113,141.037656804864L411.7574160065466,140.1230102593479L412.4140853212761,140.07610530829578L413.1176595870577,140.8031320496035L412.6017051254845,142.06956572801042L413.9619487059957,142.30409048327095L413.39908929337037,141.3659914622288L415.5567170417674,140.85003700065562L418.2772042027897,140.77967957407742L420.66935670644716,141.53015879091117L419.49673293014445,140.45134491671266L419.4029230280402,139.04419638514943L421.6543606785415,138.78621915436284L424.79699239903266,138.85657658094098L427.6112894621592,138.66895677673256L426.53247558796073,137.988834986477L428.08033897268024,137.14454586753905L429.53439245529563,137.09764091648694L432.06725981210946,136.46442407728347L435.53822618996554,136.27680427307502L435.9603707494345,135.92501714018422L439.38443217623836,135.80775476255394L440.46324605043685,136.08918446886662L443.3713530156675,135.40906267861104L445.7635055193251,135.4325151541371L446.1387451277419,134.8696557415118L447.3582738550968,134.3067963288865L450.4540006245359,133.76738939178725L452.7054382750371,134.18953395125624L450.923050135057,134.51786860862097L453.87806205133984,134.72894088835548L454.2063967087046,135.36215772755895L455.37902048500735,135.05727554572022L459.22522647128017,135.05727554572022L462.1333334365109,135.69049238492366L463.2121473107094,136.18299437097082L462.88381265334465,136.8631161612264L461.4297591707293,137.23835576964325L458.00569774392534,137.96538251095092L457.0206937718311,138.36407459489385L458.6623670586549,138.55169439910227L460.5854700517914,138.88002905646704L461.75809382809405,138.62205182568044L462.4147631428235,139.46634094461842L462.9776225554489,139.1145538117276L465.04144040174157,138.92693400751915L469.2628859964314,139.13800628725363L469.54431570274403,139.74777065093105L474.9852900247886,139.9353904551395L475.0790999268928,138.95038648304524L477.8464920389672,139.16145876277972L479.91030988525995,139.16145876277972L482.02103268260487,139.84158055303527L482.6307970462822,140.68586967197322L481.8334128783964,141.22527660907247L483.4750861652202,142.25718553221884L485.53890401151295,142.77313999379203L486.80533768991995,141.4128964132809L488.86915553621265,141.99920830143225L491.12059318671385,141.64742116854143L493.60655559247556,142.04611325248436L494.5915595645699,141.69432611959354L496.70228236191474,141.85849344827594L495.7641833408726,140.66241719644717L497.49966652980055,140.09955778382187L509.27280924387975,140.94384690275982L510.3985280691303,141.71777859511957L513.7756845448821,142.7027825672139L519.0290390627183,142.46825781195332L521.6557163216364,142.6793300916878L522.7345301958349,143.21873702878707L522.5469103916264,144.15683604982922L524.1885836784502,144.53207565824607L525.9240668673782,144.2740984274595L528.2224094689316,144.22719347640742L530.6614669236412,144.485170707194L533.1474293294029,144.34445585403768L535.4457719309562,145.51707963034033L537.0405402667278,145.09493507087137L535.9617263925294,144.25064595193345L536.5714907562068,143.68778653930815L540.6991264487924,144.03957367219897L543.4196136098146,143.9692162456208L547.1720096939832,144.57898060929818L549,145.16479730409787L549,150.34882094107311ZM192.2422450826797,134.00191414704778L191.6324807190023,134.0488190980999L189.19342326429268,133.95500919599567L188.86508860692788,133.60322206310485L191.49176586584596,133.6266745386309L192.38295993583603,133.86119929389145ZM169.5402487734593,133.1810775036359L171.36954186449148,133.39214978337037L170.94739730502252,133.76738939178725L168.50833985031292,134.14262900020412L166.58523685717645,133.72048444073516L167.66405073137494,133.3217923567922ZM346.70024889727233,133.57976958757882L343.79214193204166,134.095724049152L341.49379933048834,133.81429434283936L342.38499340047844,133.46250720994857L341.6345141836447,133.04036265047958L344.30809639361485,132.78238541969296L344.82405085518803,133.27488740574012ZM169.91548838187614,132.33678838469794L171.65097157080416,132.59476561548453L170.05620323503248,132.85274284627113L167.89857548663548,132.85274284627113L167.89857548663548,132.6651230420627L169.25881906714662,132.26643095811977ZM188.44294404745892,132.38369333575005L189.9908074321785,132.82929037074507L189.66247277481375,133.29833988126617L187.7393697816773,133.57976958757882L186.66055590747882,133.27488740574012L186.0976964948535,132.78238541969296L186.0038865927493,132.24297848259374L187.6924648306252,132.28988343364585ZM177.04504094179663,131.6801190699684L179.62481324966257,131.86773887417687L183.1426845785707,132.33678838469794L184.12768855066497,132.9700052239014L184.64364301223816,133.50941216100065L182.53292021489327,133.36869730784431L180.37529246649632,132.94655274837532L177.4671855012656,132.87619532179718L178.7336191796725,132.50095571338034L177.13885084390083,132.1960735315416ZM448.48399268034734,131.70357154549447L451.767339253995,132.45405076232822L451.3920996455781,132.99345769942744L444.0280223303971,133.4859596854746L446.42017483405465,131.7739289720726L447.4989887082531,131.63321411891633ZM334.22353191741155,131.21106955944734L334.73948637898474,130.76547252445232L336.6156844210691,130.7185675734002L338.2573577078929,131.16416460839525L342.57261320468683,132.12571610496343L339.28926663103925,132.64167056653662L338.5856923652576,133.60322206310485L337.4130685889549,133.86119929389145L336.8033042252775,134.94001316808996L335.2085358895058,134.98691811914205L332.4411437774314,134.18953395125624L333.61376755373414,133.72048444073516L331.6437596095456,133.3452448323183L329.11089225273173,132.24297848259374L328.12588828063747,131.2345220349734L331.6437596095456,130.76547252445232L332.39423882637936,131.21106955944734ZM350.2181202261805,130.69511509787415L348.29501723304406,131.3986893636558L344.4957161978233,131.56285669233813L340.64951021155036,131.35178441260365L340.41498545628986,130.9765448041868L338.5387874142055,130.95309232866074L337.1316388826423,130.3667804405094L341.1654646731236,129.9915408320925L343.0416627152079,130.31987548945727L344.3550013446669,129.9211834055144L347.63834791831454,130.2495180628791ZM372.9201165354009,130.0149933076186L375.4529838922148,129.78046855235803L377.4698967874554,129.75701607683197L377.7044215427159,130.1088032097228L378.4549007595497,129.8039210278841L379.6744294869045,129.56939627262352L381.644437431093,129.87427845446223L381.1284829695199,130.06189825867068L379.3929997805918,130.22606558735305L378.22037600428916,130.34332796498336L378.0327562000807,130.55440024471784L376.48489281536115,130.76547252445232L375.07774428379787,130.46059034261359L375.8282235006316,130.03844578314462ZM436.6639450152161,129.45213389499327L439.4782420783426,129.14725171315456L442.0111094351564,129.8039210278841L445.01302630249137,131.07035470629103L444.6846916451266,132.24297848259374L441.87039458200013,132.40714581127608L438.21180839993565,132.03190620285926L436.05418065153873,131.51595174128602L435.0691766794444,130.60130519576995L433.2867885394643,130.34332796498336ZM189.42794801955318,129.9915408320925L190.31914208954328,129.5928487481496L191.6324807190023,129.4990388460454L191.069621306377,129.19415666420667L194.11844312476404,129.14725171315456L195.76011641158783,129.82737350341014L197.96464911103692,130.1088032097228L200.1222768594339,130.3667804405094L201.15418578258027,131.21106955944734L202.70204916729986,131.63321411891633L200.91966102731976,132.03190620285926L198.52750852366222,133.01691017495352L196.1822609710568,133.11072007705772L193.50867876108663,132.94655274837532L192.10153022952338,132.40714581127608L192.10153022952338,131.938096300755L193.13343915266975,131.58630916786421L190.78819160006435,131.58630916786421L189.334138117449,131.16416460839525L188.48984899851104,130.57785272024387ZM195.19725699896253,128.30296259421664L197.12035999209897,128.0684378389561L198.62131842576645,128.02153288790396L201.20109073363238,127.81046060816946L203.12419372676882,127.31795862212236L204.71896206254053,127.3883160487005L206.12611059410375,127.76355565711737L207.111114566198,127.05998139133577L208.84659775512603,126.84890911160127L211.19184530773146,126.70819425844492L215.17876614716067,126.63783683186679L215.8354354618902,126.7785516850231L219.63473649711096,126.56747940528861L222.44903356023747,126.63783683186679L225.26333062336394,126.731646733971L228.73429700121994,126.82545663607522L231.54859406434645,126.98962396475758L233.940746568004,127.34141109764839L233.84693666589976,127.69319823053924L230.70430494540852,128.25605764316452L227.51476827386514,128.53748734947717L226.34214449756246,128.81891705578983L229.20334651174107,128.81891705578983L226.1076197423019,129.61630122367563L223.99689694495703,129.96808835656648L221.74545929445583,131.04690223076494L219.07187708448566,131.25797451049945L218.22758796554768,131.51595174128602L214.28757207717058,131.65666659444236L216.11686516820282,131.82083392312478L215.17876614716067,132.0553586783853L216.25758002135916,132.68857551758873L215.03805129400433,133.13417255258378L213.0211383987637,133.50941216100065L212.41137403508628,134.02536662257384L210.58208094405404,134.42405870651675L210.7697007482625,134.70548841282942L213.0211383987637,134.6585834617773L213.0211383987637,134.96346564361602L209.55017202090767,135.76084981150183L206.12611059410375,135.38561020308498L202.32680955888299,135.59668248281946L200.35680161469446,135.4325151541371L197.9177441599848,135.36215772755895L197.73012435577638,134.7523933638815L200.169181810486,134.44751118204283L199.51251249575648,133.50941216100065L200.30989666364232,133.4156022588964L203.78086304149832,133.97846167152173L201.99847490151822,133.15762502810983L199.88775210417333,132.8996477973232L200.96656597837188,132.38369333575005L203.26490857992516,132.07881115391135L203.640148188342,131.63321411891633L201.8108550973098,131.11725965734314L201.2479956846845,130.46059034261359L204.81277196464475,130.5074952936657L205.84468088779113,130.64821014682204L207.86159378303176,130.17916063630096L204.95348681780106,130.0149933076186L200.35680161469446,130.1088032097228L198.05845901314115,129.66320617472775L196.97964513894263,129.14725171315456L195.47868670527515,128.74855962921166ZM253.5939210588374,127.36486357317447L257.95608150668346,126.56747940528861L262.505861758738,126.63783683186679L264.1944399966138,126.14533484581965L268.79112519972045,126.02807246818936L279.2040243332885,126.19223979687175L287.3654858163554,127.22414872001816L284.9264283616457,127.71665070606527L279.95450355012224,127.78700813264344L272.918760892306,127.9042705102737L273.5754302070355,128.1387952655342L278.2190203611942,127.99808041237792L282.1121312985192,128.44367744737292L284.6449986553331,128.04498536343004L285.7238125295316,128.51403487395112L284.3166639979683,129.26451409078487L287.646915522668,128.79546458026374L293.9790839147026,128.27951011869058L297.87219485202763,128.53748734947717L298.5757691178092,129.10034676210245L293.275509648921,130.0149933076186L292.52503043208725,130.31987548945727L288.39739473950175,130.55440024471784L291.39931160683665,130.60130519576995L289.8983531731692,131.56285669233813L288.8195392989707,132.40714581127608L288.8664442500228,133.86119929389145L290.4143076347424,134.70548841282942L288.39739473950175,134.7523933638815L286.2397669911048,135.1745379233505L288.67882444581437,135.85465971360605L288.960254152127,136.9569260633306L287.55310562056377,137.09764091648694L289.24168385843967,138.19990726621148L286.38048184426106,138.2937171683157L287.88144027792856,138.83312410541492L287.4592957184596,139.302173615936L285.6300026274273,139.48979342014445L283.8007095363951,139.48979342014445L285.4423828232189,140.38098749013454L285.4423828232189,140.96729937828587L282.86261051535297,140.42789244118666L282.20594120062344,140.77967957407742L283.94142438955146,141.08456175591613L285.6769075784795,141.88194592380196L286.14595708900055,142.9373073224744L283.84761448744723,143.195284553261L282.81570556430086,142.6793300916878L281.2209372285292,141.95230335038013L281.68998673905025,142.82004494484414L280.1421233543307,143.50016673509973L283.56618478113455,143.57052416167787L285.3954778721668,143.64088158825604L281.87760654325865,144.76660041350664L278.35973521435056,145.798509336653L274.5604341791298,146.24410637164806L273.1063806965144,146.24410637164806L271.7461371160033,146.76006083322125L269.96374897602317,148.12030441373238L267.14945191289667,149.0349509592485L266.25825784290663,149.10530838582667L264.5227746539786,149.41019056766538L262.64657661189426,149.71507274950406L261.5208577866437,150.53590939291593L261.5208577866437,151.45055593843207L260.8172835208621,152.29484505737003L258.7065607235172,153.3267539805164L259.22251518509034,154.35866290366278L258.6596557724651,155.4374767778613L258.0029864577356,156.7039104562682L256.17369336670333,156.77426788284635L254.25059037356687,155.7189064841739L251.62391311464881,155.7189064841739L250.3574794362419,154.99187974286625L249.51319031730395,153.72544606445933L247.21484771575064,152.1072252531616L246.5581784010211,151.26293613422365L246.4174635478648,150.09031235792094L244.5881704568326,148.8942361060922L245.05721996735366,147.93268460952396L244.2129308484157,147.4636350990029L245.47936452682262,145.93922418980935L247.4493724710112,145.47017467928828L247.9653269325844,144.90731526666298L248.24675663889704,143.89885881904263L246.74579820522956,144.3679083295637L246.04222393944792,144.55552813377216L244.8696001631452,144.74314793798058L243.27483182737353,144.32100337851162L243.1810219252693,143.42980930852156L243.69697638684252,142.72623504273992L244.8696001631452,142.72623504273992L247.5431823731154,143.05456970010468L245.2917447226142,142.2337330566928L244.16602589736362,141.78813602169777L242.85268726790457,141.97575582590616L241.77387339370608,141.64742116854143L243.22792687632142,140.42789244118666L242.4305427084356,139.95884293066555L241.39863378528923,139.04419638514943L239.80386544951753,137.6605003291122L238.1621921626937,137.16799834306508L238.1621921626937,136.62859140596586L234.6912257848377,135.85465971360605L231.92383367276332,135.76084981150183L228.45286729490732,135.80775476255394L225.26333062336394,135.90156466465817L223.7623721896965,135.50287258071523L221.46402958814318,134.68203593730334L224.88809101494707,134.25989137783438L227.51476827386514,134.18953395125624L221.93307909866428,133.86119929389145L219.02497213343355,133.3217923567922L219.1656869865899,132.82929037074507L224.13761179811337,132.1960735315416L228.87501185437628,131.56285669233813L229.39096631594947,131.09380718181706L225.87309498704138,130.62475767129598L226.99881381229196,130.1088032097228L231.54859406434645,129.19415666420667L233.4247921064308,129.05344181105036L232.8619326938055,128.467129922899L235.95765946324462,128.1387952655342L239.99148525372595,127.92772298579976L243.97840609315517,127.9042705102737L245.38555462471842,128.32641506974267L248.85652100257442,127.59938832843497L251.9522477720136,128.09189031448213L253.7815408630458,128.18570021658633L256.5020280240681,128.60784477605532L253.40630125462894,127.9042705102737Z\" style=\"stroke: none; fill: rgb(229, 236, 246); fill-opacity: 1;\"/></g><g class=\"layer lakes\"><path d=\"M453.36210758976665,166.20216304432012L453.3152026387145,166.03799571563775L454.0187769044962,165.70966105827299L454.3002066108088,165.4516838274864L454.6754462192257,165.26406402327797L455.23830563185095,164.841919463809L455.7073551423721,164.30251252670973L456.55164426131,163.31750855461547L456.73926406551846,162.63738676435992L457.1614086249874,162.40286200909935L457.7242680376128,162.42631448462544L457.395933380248,163.36441350566759L457.34902842919587,163.7162006385584L457.11450367393525,164.20870262460554L456.92688386972685,164.88882441486112L456.7861690165706,165.1468016456477L456.5047393102579,164.9357293659132L455.9887848486847,165.38132640090828L456.22330960394527,165.4516838274864L456.1764046528931,165.68620858274696L455.8011650444763,165.78001848485115L455.4259254360594,166.20216304432012L454.9568759255384,166.50704522615882L454.3002066108088,166.7181175058933L453.4090125408188,166.83537988352361L452.7054382750371,167.21061949194046L452.23638876451605,167.56240662483125L451.62662440083864,167.89074128219602L451.0637649882134,167.96109870877422L450.3601907224317,167.9141937577221L449.6566164566501,167.77347890456576L449.5159016034937,167.58585910035734L449.79733130980645,167.44514424720103L450.50090557558804,167.44514424720103L451.3920996455781,167.25752444299258L451.9080541071513,166.8822848345757L452.5647234218808,166.57740265273702L452.9399630302977,166.43668779958068ZM185.58174203328034,164.74810956170478L186.89508066273936,164.20870262460554L187.0827004669478,164.5839422330224L187.2703202711562,165.4047788764343L188.91199355798,168.03145613535236L189.09961336218845,168.96955515639453L188.48984899851104,169.27443733823324L188.2553242432505,168.87574525429028L187.8331796837815,167.9141937577221L186.5667460053746,167.02299968773204L185.20650242486346,165.66275610722087ZM164.66213386404002,154.26485300155858L163.63022494089364,153.51437378472482L163.3018902835289,153.20949160288615L163.58331998984153,153.25639655393826L165.41261308087377,153.67854111340722L166.819761612437,154.17104309945438L168.88357945872977,153.65508863788114L169.82167847977192,153.0218717986777L170.94739730502252,152.8107995189432L171.9793062281689,153.09222922525586L172.40145078763788,153.16258665183403L172.35454583658577,153.3267539805164L171.04120720712675,153.56127873577694L169.5402487734593,153.77235101551145L167.75786063347917,154.80425993865782L166.44452200402014,155.4374767778613L164.23998930457105,155.69545400864786L162.7859358219557,155.7189064841739L160.67521302461083,155.13259459602259L160.29997341619395,155.06223716944442L160.25306846514184,154.85116488970993L160.5344981714545,154.80425993865782L162.3168863114346,155.10914212049653L163.81784474510206,154.64009260997545ZM215.17876614716067,177.6938760520867L215.2725760492649,178.20983051365988L214.28757207717058,178.63197507312884L213.2087582029721,178.53816517102464L212.17684927982572,178.49126021997253L211.52017996509622,178.65542754865487L211.09803540562723,178.72578497523307L210.58208094405404,178.58507012207673L210.9573205524709,178.13947308708168L211.3794651119399,177.99875823392537L212.31756413298206,177.81113842971692L213.39637800718054,177.6235186255085L213.95923741980585,177.8814958562951L214.33447702822272,177.5766136744564L214.7566215876917,177.41244634577401L215.03805129400433,177.50625624787824ZM206.21992049620798,180.17983845784843L206.92349476198962,180.25019588442657L207.90849873408388,179.85150380048367L208.47135814670918,179.4762641920668L208.84659775512603,179.42935924101468L209.55017202090767,179.54662161864496L209.92541162932454,179.3590018144365L210.53517599300193,179.19483448575414L211.66089481825253,179.03066715707175L211.70779976930464,179.14792953470203L210.58208094405404,179.9218612270618L209.59707697195978,180.29710083547866L208.94040765723025,180.4847206396871L208.14302348934444,180.83650777257793L207.20492446830224,181.02412757678638L206.5482551535727,180.9537701502082L205.7508709856869,180.67234044389554ZM197.77702930682847,172.46397400977662L198.29298376840168,171.94801954820338L199.0434629852354,171.7369472684689L199.32489269154806,171.40861261110416L199.6063223978607,171.2444452824218L200.82585112521554,171.5024225132084L201.71704519520557,171.5493274642605L202.04537985257036,171.71349479294287L202.46752441203932,172.46397400977662L203.9215778946547,172.65159381398502L203.68705313939412,173.0268334224019L204.20300760096734,173.40207303081877L204.0153877967589,173.89457501686593L204.53134225833207,174.05874234554827L204.29681750307157,174.50433938054329L203.87467294360255,174.4574344294912L203.59324323728993,174.08219482107432L202.32680955888299,174.1994571987046L201.15418578258027,174.48088690501723L200.2629917125902,173.98838491897013L199.51251249575648,173.82421759028773L199.93465705522547,173.14409580003218L198.76203327892276,173.56624035950114L197.73012435577638,173.98838491897013L196.7451203836821,174.3167195763349L195.94773621579625,173.87112254133984L194.63439758633723,174.1525522476525L194.63439758633723,173.96493244344407L195.52559165632726,173.40207303081877L196.46369067736944,172.88611856924558ZM358.8955361708205,236.37196981827415L358.238866856091,236.9582817064255L357.81672229662206,237.5445935945769L358.33267675819525,237.9901906295719L357.5821975413615,238.31852528693665L357.44148268820516,238.17781043378034L356.69100347137146,238.2481678603585L356.081239107694,238.52959756667113L355.75290445032925,238.037095580624L355.9874292055898,237.12244903510788L356.0343341566419,236.34851734274812L355.9405242545377,235.8325628811749L356.5502886182151,235.08208366434118L357.34767278610093,234.89446386013276L357.9105321987263,234.566129202768L358.61410646450787,234.8241064335546L358.9893460729247,235.41041832170595ZM353.3607519466717,155.22640449812678L354.67409057613077,154.52283023234514L356.87862327557986,155.36711935128312L357.44148268820516,156.00033619048656L357.2538628839967,156.21140847022107L356.9724331776841,156.1410510436429L356.9724331776841,156.56319560311186L355.79980940138137,156.51629065205975L355.5652846461208,156.9384352115287L355.00242523349556,156.9384352115287L355.04933018454767,156.63355302969006L354.2988509677139,156.00033619048656L354.2519460166618,155.74235895969997ZM417.3860101327996,174.1056472966004L417.7612497412165,174.22290967423064L417.29220023069536,174.5981492826475L416.68243586701794,174.69195918475174L415.08766753124627,174.5512443315954L413.0238496849535,174.41052947843912L412.78932492969295,174.1994571987046L412.74241997864084,174.4574344294912L412.0857506639113,174.5512443315954L411.8981308597029,174.92648394001228L411.2883664960255,175.0671987931686L411.05384174076494,176.3805374226276L410.1626476707749,175.5831532547418L410.1626476707749,175.32517602395518L410.58479223024386,175.04374631764256L410.49098232813964,174.83267403790808L410.91312688760866,174.809221562382L411.0069367897129,174.50433938054329L412.1326556149635,174.01183739449615L413.7743289017872,174.05874234554827L415.04076258019415,174.22290967423064L415.93195665018425,174.22290967423064L416.49481606280955,174.4574344294912L416.63553091596583,174.22290967423064ZM354.62718562507865,246.1751045881648L354.2050410656097,246.08129468606057L354.2988509677139,245.5653402244874L353.923611359297,245.21355309159657L353.78289650614073,244.50997882581495L352.98551233825486,243.80640456003334L352.5164628277338,242.86830553899117L352.7509875829943,242.30544612636587L352.42265292562956,241.5784193850582L352.6571776808901,239.49114906323936L353.1262271914112,240.7575827416463L353.0793222403591,241.3673471053237L353.31384699561966,241.5784193850582L353.26694204456754,242.1178263221574L353.50146679982805,242.63378078373063L353.22003709351543,243.12628276977776L354.2519460166618,244.01747683976782L354.3926608698181,244.81486100765366L355.14314008665184,246.36272439237325L354.90861533139133,246.45653429447745ZM360.4433995555401,253.60953932992396L360.396494604488,253.7502541830803L359.9274450939669,253.25775219703314L359.69292033870636,253.58608685439793L359.50530053449796,253.30465714808525L359.50530053449796,252.81215516203812L359.2238708281853,252.43691555362125L359.2238708281853,251.87405614099595L358.84863121976844,250.91250464442774L359.2238708281853,250.18547790312005L359.13006092608106,248.61416204287445L358.66101141556,247.7698729239365L358.8017262687163,247.37118083999357L359.45839558344585,248.07475510577518L359.59911043660213,249.43499868628635L360.02125499607115,249.92750067233345L359.69292033870636,251.1939343507404L359.9274450939669,252.85906011309024L360.16196984922743,252.90596506414235ZM390.97852269046257,175.7238681078981L391.0723325925668,175.20791364632493L391.63519200519215,175.16100869527284L392.0573365646611,175.46589087711152L392.10424151571317,174.6685067092257L392.38567122202585,174.73886413580385L392.80781578149487,174.94993641553836L392.80781578149487,175.20791364632493L392.62019597728636,175.32517602395518L392.4794811241301,175.70041563237206L392.80781578149487,175.63005820579392L392.99543558570326,176.6619671289403L392.7140058793906,177.34208891919585L392.38567122202585,177.45935129682613L391.4475722009837,177.20137406603953L391.82281180940055,176.3805374226276L391.82281180940055,176.12256019184102L391.30685734782736,175.8880354365805L391.25995239677525,176.2398225694713L391.25995239677525,176.70887207999237L390.69709298415,177.41244634577401L390.4156632778373,177.06065921288322L390.4156632778373,176.52125227578398ZM332.7225734837441,157.87653423257092L332.7225734837441,158.01724908572726L332.6287635816399,158.25177384098777L331.7844744627019,158.6504659249307L331.22161505007665,158.76772830256098L330.7525655395556,158.76772830256098L330.84637544165975,158.41594116967013L330.79947049060763,158.2986787920399L331.0339952458682,158.20486888993565L331.45613980533716,158.1345114633575L331.6906645605977,157.97034413467514L332.2066190221709,157.68891442836247ZM209.36255221669924,200.0909901794684L209.0811225103866,200.0440852284163L209.0811225103866,199.7392030465776L209.36255221669924,199.78610799762967ZM203.96848284570677,220.47119141160945L203.40562343308147,220.4477389360834L202.74895411835195,220.00214190108835L202.60823926519564,219.48618743951516L203.0303838246646,219.43928248846308L203.73395809044624,219.9786894255623ZM362.8824570102497,219.55654486609333L362.74174215709337,219.3220201108328L363.02317186340605,219.0640428800462L363.3984114718229,219.1578527821504L363.35150652077084,219.60344981714545L363.1638867165624,219.74416467030176ZM224.09070684706126,256.0016918335815L223.66856228759227,255.7437146027949L223.3402276302275,255.50918984753434L223.48094248338384,255.41537994543012L223.48094248338384,255.25121261674775L223.43403753233173,254.99323538596116L223.80927714074858,255.08704528806538L224.60666130863444,255.6968096517428L224.65356625968656,255.72026212726885L224.93499596599918,256.3065740154202L224.74737616179075,256.4941938196286L224.60666130863444,256.5410987706807L224.51285140653022,256.4472888685765L224.37213655337388,256.37693144199835L224.27832665126965,256.14240668673784ZM185.01888262065503,165.78001848485115L184.83126281644658,165.80347096037724L184.4560232080297,165.75656600932513L183.65863904014387,165.59239868064276L183.42411428488333,165.26406402327797L183.7993538933002,164.98263431696532L183.65863904014387,164.7715620372308L183.705543991196,164.72465708617872L183.7993538933002,164.5370372819703L183.89316379540443,164.34941747776185L184.22149845276917,164.37286995328793L184.17459350171708,164.51358480644424L183.98697369750863,164.74810956170478L184.40911825697762,164.74810956170478L184.3153083548734,164.88882441486112L184.12768855066497,165.38132640090828L184.64364301223816,165.56894620511667L185.01888262065503,165.59239868064276ZM361.0062589681654,153.86616091761562L361.47530847868643,154.59318765892334L361.89745303815545,155.1794995470747L361.5222134297386,155.5078342044394L360.5372094576443,155.6016441065437L359.9274450939669,155.36711935128312L360.3495896534359,155.39057182680918L360.8655441150091,155.4140243023352L360.3026847023838,155.0153322183923L359.9274450939669,154.80425993865782L359.4114906323937,154.4055678547149L359.13006092608106,153.93651834419381L359.17696587713317,153.8427084420896L359.64601538765424,153.93651834419381L359.59911043660213,153.6316361623551L359.8805401429148,153.8427084420896L360.20887480027955,154.05378072182407L360.396494604488,153.9834232952459L360.72482926185273,153.8896133931417L360.3026847023838,153.584731211303L359.59911043660213,153.23294407841217L360.0681599471232,153.25639655393826L360.396494604488,153.35020645604246ZM168.36762499715655,181.1413899544166L168.41452994820867,181.39936718520323L168.36762499715655,181.77460679362008L167.71095568242706,181.42281966072926L167.66405073137494,181.37591470967718L167.4295259761144,180.7661503459998L167.80476558453125,181.02412757678638L168.03929033979182,181.1413899544166L168.32072004610447,181.02412757678638ZM161.0973575840798,148.7300687774098L160.81592787776714,149.1991182879309L160.6283080735587,149.31638066556116L158.51758527621382,149.36328561661327L158.51758527621382,149.4570955187175L158.61139517831808,149.62126284739986L158.56449022726594,149.83233512713434L156.40686247886893,150.4655519663378L156.40686247886893,150.32483711318145L156.92281694044215,149.83233512713434L156.7821020872858,149.73852522503014L154.81209414309726,150.27793216212933L153.9678050241593,150.09031235792094L154.01470997521145,149.90269255371248L155.14042880046202,149.29292819003507L155.09352384940993,149.1522133368788L151.7163673736581,148.9411410571443L151.76327232471024,148.823878679514L158.84591993357856,147.7450648053155L158.9866347867349,147.88577965847185L157.95472586358852,148.40173412004503L161.28497738828824,148.28447174241475L161.28497738828824,148.47209154662323ZM171.65097157080416,158.0876065123054L169.77477352871983,158.6973708759828L169.6340586755635,158.55665602282647L169.6809636266156,158.43939364519622L172.35454583658577,157.4074847220498L175.68479736128546,157.71236690388855L175.68479736128546,157.75927185494066ZM181.73553604700743,159.42439761729048L182.2045855575285,159.61201742149893L181.64172614490323,160.2921392117545L181.68863109595532,160.4328540649108L180.04695780913156,161.6054778412135L179.95314790702733,161.51166793910932L180.14076771123578,161.13642833069244L180.18767266228787,161.11297585516638L180.2814825643921,161.30059565937484L180.8443419770174,160.83154614885376L180.56291227070474,160.3624966383327L180.56291227070474,160.12797188307212L181.45410634069478,159.42439761729048ZM207.111114566198,179.00721468154572L207.06420961514593,178.46780774444647L206.8296848598854,177.71732852761272L206.3137303983122,177.5766136744564L205.51634623042634,178.16292556260777L205.28182147516583,178.13947308708168L205.1880115730616,177.81113842971692L205.8915858388432,177.29518396814376L206.03230069199955,176.70887207999237L205.93849078989533,176.12256019184102L204.95348681780106,175.60660573026786L203.87467294360255,175.34862849948126L204.062292747811,175.16100869527284L204.1091976988631,175.18446117079887L205.28182147516583,175.0671987931686L204.6251521604363,174.52779185606937L204.85967691569684,174.34017205186092L205.1411066220095,174.64505423369963L206.12611059410375,174.809221562382L207.111114566198,174.809221562382L208.14302348934444,174.94993641553836L209.31564726564713,175.20791364632493L209.73779182511612,175.60660573026786L210.58208094405404,176.59160970236215L210.15993638458508,177.03720673735717L209.1280274614387,176.84958693314874L208.47135814670918,176.0522027652629L208.61207299986552,176.87303940867477L208.0023086361881,177.60006614998244L208.04921358724022,178.20983051365988L207.955403685136,178.58507012207673ZM204.062292747811,175.16100869527284L203.87467294360255,175.34862849948126L203.68705313939412,175.8411304855284L203.40562343308147,175.9818453386847L203.17109867782094,176.61506217788818L203.0303838246646,176.16946514289313L202.51442936309144,176.4977998002579L202.18609470572665,176.91994435972688L201.8577600483619,177.5766136744564L201.76395014625768,178.11602061155565L202.23299965677876,178.93685725496755L202.18609470572665,179.78114637390547L201.67014024415346,180.41436321310894L201.38871053784084,180.6019830173174L201.01347092942396,180.7426978704737L200.591326369955,180.7426978704737L200.45061151679866,180.67234044389554L200.1222768594339,179.96876617811392L200.1222768594339,179.64043152074916L200.169181810486,179.3120968633844L199.98156200627756,178.67888002418096L200.21608676153812,177.9518532828733L200.54442141890289,177.03720673735717L201.20109073363238,176.02875028973682L201.01347092942396,176.02875028973682L200.02846695732967,176.87303940867477L199.88775210417333,176.73232455551846L200.40370656574657,176.26327504499739L201.15418578258027,175.41898592605943L202.04537985257036,175.30172354842915L203.07728877571674,175.04374631764256Z\" style=\"stroke: none; fill: rgb(255, 255, 255); fill-opacity: 1;\"/></g><g class=\"layer coastlines\"><path d=\"M101.1997350905375,337.3817819089894L101.99711925842331,336.91273239846834L104.43617671313297,337.1238046782028L105.74951534259199,337.5224967621457L106.73451931468625,337.9915462726668L107.06285397205102,338.57785816081815L104.57689156628928,338.7420254895005L102.88831332841337,338.29642845450553L102.09092916052751,337.82737894398446L102.04402420947542,337.75702151740626L101.1997350905375,337.3817819089894M306.4088959435113,164.81846698828292L306.6434206987719,165.75656600932513L305.65841672667756,166.90573731010176L303.3600741251243,167.67966900246154L301.48387608303995,167.49204919825314L302.56268995723843,166.13180561774197L301.8591156914568,164.7950145127569L303.6415038314369,163.78655806513657L304.6265078035312,163.17679370145913L305.7053216777297,163.12988875040702L307.11247020929295,163.92727291829289L306.4088959435113,164.81846698828292M498.20324079558225,238.38888271351482L500.45467844608334,239.28007678350488L502.84683094974093,240.0305560003386L503.7380250197309,240.68722531506813L504.48850423656467,241.34389462979766L504.6761240407732,242.1178263221574L506.83375178917015,242.91521049004328L507.1620864465349,243.6187847558249L505.9894626702322,243.75949960898123L506.2708923765448,244.62724120344524L507.4435161528475,245.4715303223832L508.28780527178543,246.85522637842035L508.9913795375671,246.80832142736827L508.944474586515,247.39463331551963L509.97638350966133,247.6057055952541L509.55423895019237,247.8636828260407L510.96138748175565,248.40308976313995L510.8206726285993,248.7783293715568L509.97638350966133,248.87213927366102L509.6480488522966,248.54380461629626L508.522330027046,248.40308976313995L507.20899139758706,248.19201748340546L506.17708247444057,247.37118083999357L505.4266032576068,246.64415409868587L504.7699339428774,245.5184352734353L503.08135570500144,244.93212338528394L501.95563687975084,245.3073629937008L501.1582527118651,245.75296002869584L501.3458725160734,246.71451152526404L500.31396359292705,247.1601085602591L499.56348437609336,246.92558380499855L498.2501457466343,246.8786788539464L497.07752197033153,245.79986497974792L495.7641833408726,245.54188774896133L495.43584868350786,245.9171273573782L493.79417539668395,245.96403230843032L494.3570348093093,244.9086709097579L495.1544189771952,244.533431301341L494.82608431983044,243.12628276977776L494.16941500510086,242.02401642005321L491.68345259933915,240.92175007032867L490.6046387251407,240.8044876926984L488.6346307809521,239.60841144086962L488.25939117253523,240.2416282800731L487.7434367109621,240.35889065770337L487.4620070046493,239.8898411471823L487.4620070046493,239.30352925903094L486.4770030325551,238.67031241982747L487.83724661306627,238.2012629093064L488.7753456341085,238.22471538483245L488.68153573200425,237.8963807274677L486.7584327388678,237.87292825194163L486.2424782772946,237.09899655958185L485.0698545009919,236.86447180432128L484.5539000394187,236.23125496511784L486.28938322834665,235.90292030775308L486.9460525430762,235.48077574828412L489.05677534042104,236.02018268538336L489.2443951446295,236.48923219590444L489.6196347530464,238.59995499324933L490.9798783335575,239.39733916113514L492.058692207756,238.01364310509797L493.55965064142345,237.2162589372121L494.7322744177262,237.2162589372121L495.81108829192465,237.66185597220715L496.79609226401897,238.13090548272822L498.20324079558225,238.38888271351482M463.3059572128136,229.1017024051974L463.8219116743868,228.60920041915026L464.90072554858534,227.90562615336862L465.9326344717317,226.9909796078525L466.5893037864612,225.98252316023218L467.1052582480344,225.98252316023218L467.76192756276396,226.63919247496167L467.808832513816,227.202051887587L468.7000265838061,227.55383902047782L469.7788404580046,227.9525311044207L469.6850305559004,228.46848556599392L468.7938364859103,228.53884299257209L469.02836124117084,229.17205983177553L468.0902622201287,229.61765686677057L467.33978300329494,230.7902806430733L468.2778820243371,232.0098093704281L468.0433572690765,232.6195737341055L469.54431570274403,233.81564998593427L467.99645231802447,233.97981731461664L467.52740280750334,234.8710113846067L467.62121270960756,236.0436351609094L466.3547790312007,236.93482923089948L466.3078740801485,238.22471538483245L465.8388245696275,240.21817580454703L465.60429981436687,239.772578769552L464.1502463317516,240.35889065770337L463.6342918701784,239.56150648981753L462.6961928491362,239.49114906323936L462.0395235344067,239.0690045037704L460.49166014968705,239.53805401429148L460.02261063916603,238.904837175088L459.1783215202281,238.97519460166617L458.09950764602956,238.8110272729838L457.91188784182117,237.0755440840558L457.25521852709164,236.72375695116497L456.64545416341423,235.59803812591437L456.45783435920583,234.44886682513774L456.59854921236206,233.25279057330897L457.34902842919587,232.38504897884496L458.33403240129013,232.83064601383998L459.3190363733844,232.59612125857944L459.60046607969707,231.4938549088549L460.16332549232243,231.2358776780683L461.71118887704193,230.95444797175566L462.6492878980841,229.92253904860928L463.3059572128136,229.1017024051974M192.52367478899237,137.30871319622142L191.82010052321073,137.8246676577946L189.94390248112643,137.7308577556904L188.3491341453547,137.3790706227996L189.05270841113634,136.79275873464826L190.92890645322066,136.4409716017574L192.0546252784713,136.9100211122785L192.52367478899237,137.30871319622142M192.2422450826797,134.00191414704778L191.6324807190023,134.0488190980999L189.19342326429268,133.95500919599567L188.86508860692788,133.60322206310485L191.49176586584596,133.6266745386309L192.38295993583603,133.86119929389145L192.2422450826797,134.00191414704778M188.44294404745892,132.38369333575005L189.9908074321785,132.82929037074507L189.66247277481375,133.29833988126617L187.7393697816773,133.57976958757882L186.66055590747882,133.27488740574012L186.0976964948535,132.78238541969296L186.0038865927493,132.24297848259374L187.6924648306252,132.28988343364585L188.44294404745892,132.38369333575005M199.65322734891282,138.0826448885812L197.54250455156796,137.9184775598988L194.07153817371193,137.49633300042984L193.64939361424297,136.79275873464826L193.46177381003452,136.13608941991873L192.19534013162757,135.57323000729343L189.4748529706053,135.40906267861104L187.97389453693785,135.0103705946681L188.44294404745892,134.47096365756886L191.1634312084812,134.56477355967309L192.57057974004445,134.98691811914205L195.15035204791042,134.96346564361602L196.27607087316102,135.40906267861104L195.99464116684837,135.90156466465817L197.49559960051585,136.18299437097082L198.29298376840168,136.4878765528095L200.07537190838178,136.5582339793877L201.95156995046614,136.6520438814919L204.0153877967589,136.37061417517924L206.68897000672905,136.27680427307502L208.79969280407394,136.37061417517924L210.2068413356372,136.8631161612264L210.48827104194982,137.40252309832562L209.690886874064,137.7308577556904L207.72087892987545,138.01228746200303L206.07920564305164,137.84812013332066L202.32680955888299,138.05919241305517L199.65322734891282,138.0826448885812M169.5402487734593,133.1810775036359L171.36954186449148,133.39214978337037L170.94739730502252,133.76738939178725L168.50833985031292,134.14262900020412L166.58523685717645,133.72048444073516L167.66405073137494,133.3217923567922L169.5402487734593,133.1810775036359M169.91548838187614,132.33678838469794L171.65097157080416,132.59476561548453L170.05620323503248,132.85274284627113L167.89857548663548,132.85274284627113L167.89857548663548,132.6651230420627L169.25881906714662,132.26643095811977L169.91548838187614,132.33678838469794M228.17143758859464,210.87912892145332L228.82810690332417,210.99639129908357L229.06263165858473,211.25436852987016L228.73429700121994,211.58270318723493L227.74929302912568,211.58270318723493L226.95190886123984,211.62960813828704L226.90500391018776,211.06674872566174L227.09262371439618,210.87912892145332L228.17143758859464,210.87912892145332M213.44328295823266,210.90258139697937L214.33447702822272,211.01984377460963L214.99114634295225,211.3481784319744L215.22567109821279,211.69996556486518L214.33447702822272,211.72341804039127L213.91233246875373,211.93449032012575L213.2087582029721,211.72341804039127L212.4582789861384,211.25436852987016L212.5989938392947,210.94948634803146L213.16185325192,210.85567644592723L213.44328295823266,210.90258139697937M207.34563932145858,204.7814852846792L208.42445319565707,204.87529518678343L209.45636211880344,204.8987476623095L210.67589084615827,205.3443446973045L211.19184530773146,205.8133942078256L212.41137403508628,205.6726793546693L212.88042354560736,205.97756153650798L214.00614237085796,206.77494570439382L214.80352653874382,207.36125759254517L215.22567109821279,207.36125759254517L216.02305526609862,207.61923482333177L215.9292453639944,207.99447443174864L216.86734438503657,208.04137938280076L217.85234835713084,208.5807863199L217.7116335039745,208.8856685017387L216.82043943398446,209.04983583042107L215.9761503150465,209.12019325699924L215.08495624505645,209.002930879369L213.2087582029721,209.1436457325253L214.05304732191007,208.4166189912176L213.53709286033688,208.0648318583268L212.69280374139893,207.9710219562226L212.27065918192994,207.5957823478057L211.9423245245652,206.86875560649804L211.19184530773146,206.91566055755015L209.97231658037663,206.56387342465933L209.59707697195978,206.28244371834668L207.90849873408388,206.09482391413826L207.4394492235628,205.83684668335164L207.955403685136,205.5085120259869L206.64206505567694,205.43815459940873L205.7039660346348,206.11827638966432L205.1880115730616,206.14172886519037L205.00039176885315,206.44661104702905L204.34372245412368,206.5873259001854L203.78086304149832,206.4700635225551L204.48443730727996,206.07137143861218L204.76586701359264,205.6023219280911L205.37563137727005,205.32089222177848L206.03230069199955,205.06291499099189L207.01730466409384,204.92220013783555L207.34563932145858,204.7814852846792M242.05530310001873,168.1487185129826L241.3517288342371,168.96955515639453L240.50743971529914,170.0952739816451L241.3517288342371,169.67312942217615L242.24292290422716,169.9545591284888L241.77387339370608,170.40015616348384L242.9464971700088,170.75194329637463L243.5093565826341,170.44706111453593L244.82269521209312,170.84575319847886L244.44745560367625,171.783852219521L245.33864967366628,171.57277993978653L245.52626947787473,172.2529017300421L245.9015090862916,173.073738373454L245.38555462471842,174.22290967423064L244.775790261041,174.26981462528275L243.93150114210306,174.01183739449615L244.2129308484157,172.95647599582372L243.83769123999883,172.79230866714133L242.33673280633138,173.91802749239196L241.53934863844552,173.87112254133984L242.47744765948772,173.26135817766246L241.21101398108078,172.95647599582372L239.80386544951753,173.0268334224019L237.27099809270368,172.9799284713498L237.08337828849525,172.6046888629329L237.8807624563811,172.13563935241183L237.3179030437558,171.783852219521L238.4436218690064,171.00992052716123L239.75696049846545,168.92265020534245L240.60124961740337,168.1721709885087L241.72696844265397,167.72657395351365L242.33673280633138,167.79693138009182L242.05530310001873,168.1487185129826M205.23491652411371,150.18412226002513L206.64206505567694,150.62971929502018L208.14302348934444,151.02841137896309L208.2368333914486,151.63817574264053L209.2218373635429,151.54436584053627L210.15993638458508,151.98996287553132L208.98731260828237,152.38865495947422L206.9703997130417,152.08377277763552L206.21992049620798,151.49746088948416L204.95348681780106,152.17758267973971L203.07728877571674,152.85770446999533L202.65514421624775,152.08377277763552L200.87275607626765,152.22448763079188L201.99847490151822,151.56781831606236L202.18609470572665,150.559361868442L202.60823926519564,149.36328561661327L203.5463382862378,149.4570955187175L203.78086304149832,150.04340740686882L204.48443730727996,149.83233512713434L205.23491652411371,150.18412226002513M211.8954195735131,140.7327746230253L213.11494830086792,140.21682016145215L216.02305526609862,140.87348947618165L217.80544340607872,141.5067063153851L217.94615825923506,142.06956572801042L220.3852157139447,141.78813602169777L221.74545929445583,142.60897266510966L224.88809101494707,143.12492712668285L226.0138098401977,143.64088158825604L227.2333385675525,144.86041031561086L224.84118606389495,145.47017467928828L227.93691283333413,146.3144637982262L230.00073067962688,146.61934598006494L231.87692872171124,147.81542223189368L233.940746568004,147.88577965847185L233.51860200853503,148.80042620398794L231.2202594069817,150.32483711318145L229.62549107121004,149.76197770055614L227.56167322491726,148.51899649767535L225.87309498704138,148.6831638263577L225.73238013388504,149.41019056766538L227.09262371439618,150.18412226002513L228.87501185437628,150.7704341481765L229.39096631594947,151.1222212810673L230.23525543488745,152.4121074350003L229.81311087541846,153.35020645604246L228.17143758859464,152.99841932315167L224.88809101494707,151.9430579244792L226.7173841059793,153.06877674972984L228.07762768649047,153.86616091761562L228.31215244175098,154.3117579526107L224.74737616179075,153.79580349103747L221.97998404971636,153.04532427420375L220.3852157139447,152.4121074350003L220.85426522446576,152.03686782658343L218.88425728027724,151.3801985118539L217.0080592381929,150.7469816726504L217.0080592381929,151.1222212810673L213.25566315402423,151.3332935608018L212.17684927982572,150.86424405028072L213.0211383987637,149.92614502923857L215.46019585347332,149.90269255371248L218.1337780634435,149.71507274950406L217.7116335039745,149.26947571450904L218.18068301449557,148.61280639977952L219.86926125237147,147.3463727213726L219.49402164395462,146.76006083322125L218.97806718238144,146.3144637982262L217.0080592381929,145.68124695902276L214.33447702822272,145.23564992402774L215.17876614716067,144.90731526666298L213.8185225666495,144.1099310987771L212.64589879034682,144.03957367219897L211.61398986720044,143.59397663720392L210.9573205524709,143.9692162456208L208.5651680488134,144.1333835743032L203.82776799255043,143.85195386799052L201.06037588047607,143.47671425957367L198.94965308313118,143.2656419798392L197.8708392089327,142.82004494484414L199.23108278944383,142.21028058116673L197.40178969841162,142.21028058116673L196.97964513894263,140.89694195170773L197.96464911103692,139.724318175405L199.32489269154806,139.18491123830574L202.70204916729986,138.85657658094098L201.71704519520557,139.70086569987893L202.74895411835195,140.49824986776477L203.96848284570677,139.44288846909234L207.25182941935435,138.92693400751915L209.50326706985555,140.26372511250423L209.31564726564713,141.10801423144218L211.8954195735131,140.7327746230253M191.39795596374177,138.41097954594596L194.11844312476404,138.45788449699808L196.60440553052578,138.78621915436284L194.63439758633723,139.9353904551395L193.08653420161767,140.1933676859261L191.6793856700544,141.17837165802035L190.17842723638694,141.10801423144218L189.38104306850107,139.98229540619158L189.42794801955318,139.32562609146208L190.0846173342827,138.76276667883678L191.39795596374177,138.41097954594596M183.65863904014387,140.2871775880303L182.2045855575285,139.4194359935663L183.7524489422481,138.78621915436284L185.30031232696766,139.06764886067546L187.6455598795731,138.90348153199312L187.97389453693785,139.27872114040997L186.75436580958302,139.9119379796134L188.72437375377157,140.47479739223874L188.48984899851104,141.64742116854143L186.37912620116617,142.1399231545886L185.11269252275923,142.04611325248436L184.22149845276917,141.53015879091117L180.9850568301737,140.56860729434294L180.9850568301737,140.1230102593479L183.65863904014387,140.2871775880303M174.04312407446167,136.18299437097082L175.2157478507644,135.9719220912363L176.57599143127553,136.01882704228842L176.8105161865361,136.67549635701798L176.01313201865023,137.28526072069536L171.60406661975205,137.49633300042984L168.32072004610447,138.05919241305517L166.3038071508638,138.0826448885812L166.1630922977075,137.6605003291122L168.83667450767766,137.07418844096088L162.9735556261641,137.23835576964325L161.1442625351319,137.00383101438274L162.926650675112,135.73739733597577L164.14617940246683,135.36215772755895L167.80476558453125,135.80775476255394L170.1500131371367,136.58168645491378L172.40145078763788,136.67549635701798L170.52525274555356,135.4325151541371L171.74478147290836,134.96346564361602L173.10502505341952,135.1041804967723L173.52716961288849,135.71394486044974L174.04312407446167,136.18299437097082M154.4368545346804,135.83120723808003L156.64138723412952,134.8696557415118L159.31496944409963,134.02536662257384L161.33188233934032,134.02536662257384L163.11427047932045,133.8377468183654L162.926650675112,134.8462032659857L161.9416467030177,135.29180030098075L160.72211797566294,135.36215772755895L158.28306052095328,135.92501714018422L156.21924267466053,136.11263694439265L154.4368545346804,135.83120723808003M156.17233772360845,138.01228746200303L158.00163081464063,138.27026469278965L161.33188233934032,138.34062211936782L162.59831601774724,138.73931420331073L164.00546454931052,139.27872114040997L162.3637912624867,139.6070557977747L159.17425459094335,140.52170234329083L157.57948625517167,141.43634888880698L157.57948625517167,141.99920830143225L154.15542482836776,142.6324251406357L153.45185056258612,142.06956572801042L150.44993369525122,141.3659914622288L151.0127931078765,140.82658452512953L151.90398717786655,139.8650330285613L153.02970600311716,139.02074390962338L151.76327232471024,138.2233597417375L156.17233772360845,138.01228746200303M97.63495881057722,156.32867084785136L98.66686773372362,156.4459332254816L98.80758258687996,156.9618876870548L97.96329346794201,157.14950749126322L97.11900434900406,156.91498273600268L96.32162018111819,156.56319560311186L97.63495881057722,156.32867084785136M114.89598079775311,159.4713025683426L115.74026991669106,159.56511247044682L116.30312932931636,159.96380455438975L115.17741050406573,160.5970213935932L113.86407187460674,161.08952337964035L113.20740255987724,160.76118872227556L113.01978275566876,160.15142435859818L114.19240653197147,159.68237484807707L114.89598079775311,159.4713025683426M141.58489794640275,164.60739470854844L142.85133162480966,164.4901323309182L142.4760920163928,165.9676382890596L143.60181084164338,167.02299968773204L143.08585638007017,167.02299968773204L142.2884722121844,166.41323532405463L141.81942270166326,165.82692343590327L141.16275338693376,165.4047788764343L140.92822863167322,164.841919463809L140.9751335827253,164.41977490434004L141.58489794640275,164.60739470854844M151.10660300998072,169.93110665296277L151.76327232471024,170.54087101664015L153.07661095416924,171.08027795373943L153.59256541574246,171.8073046950471L152.93589610101296,171.97147202372946L150.77826835261595,171.3851601355781L150.40302874419908,170.93956310058306L149.2304049678964,170.47051359006198L148.99588021263585,170.0952739816451L147.68254158317683,169.8607492263846L147.1665871216036,169.15717496060296L147.26039702370784,168.85229277876425L148.66754555527112,169.13372248507693L149.46492972315693,169.3447947648114L150.68445845051176,169.48550961796772L151.10660300998072,169.93110665296277M90.78683595696941,151.8961529734271L91.58422012485528,152.1541302042137L92.38160429274114,152.0134153510574L93.46041816693958,152.3652024839482L94.72685184534652,152.5293698126306L94.63304194324232,152.67008466578687L93.64803797114803,152.95151437209955L92.66303399905377,152.67008466578687L92.14707953748058,152.43555991052637L91.02136071222998,152.5059173371045L90.69302605486521,152.38865495947422L90.78683595696941,151.8961529734271M177.04504094179663,131.6801190699684L179.62481324966257,131.86773887417687L183.1426845785707,132.33678838469794L184.12768855066497,132.9700052239014L184.64364301223816,133.50941216100065L182.53292021489327,133.36869730784431L180.37529246649632,132.94655274837532L177.4671855012656,132.87619532179718L178.7336191796725,132.50095571338034L177.13885084390083,132.1960735315416L177.04504094179663,131.6801190699684M357.44148268820516,188.90415935354056L358.3795817092473,188.92761182906662L359.55220548555,188.5289197451237L358.66101141556,189.091779157749L358.8017262687163,189.42011381511375L357.48838763925727,189.959520752213L356.83171832452774,189.7953534235306L356.503383667163,189.27939896195744L357.2538628839967,189.20904153537927L357.44148268820516,188.90415935354056M348.76406674356514,189.02142173117085L348.5764469393567,189.3966613395877L346.70024889727233,189.51392371721795L346.74715384832444,189.30285143748347L345.15238551255277,189.04487420669687L345.38691026781333,188.48201479407157L346.0904845335949,188.92761182906662L347.12239345674135,188.85725440248845L348.0604924777835,188.95106430459265L348.0604924777835,189.16213658432716L348.76406674356514,189.02142173117085M379.0646651232271,251.2408393017925L379.3929997805918,251.8036987144178L379.7213344379566,252.6714403088818L379.90895424216507,254.21930369360138L380.2372888995298,254.8290680572788L380.1434789974256,255.46228489648226L379.90895424216507,255.8375245048991L379.439904731644,255.08704528806538L379.2053799763834,255.46228489648226L379.439904731644,256.42383639305046L379.3460948295397,256.98669580567577L378.97085522112286,257.2915779875145L378.92395027007075,258.39384433723905L378.40799580849756,259.9182552464325L377.75132649376803,261.70064338641265L376.9539423258822,264.16315331664833L376.43798786430904,265.9924464076806L375.87512845168374,267.493404841348L374.79631457748525,267.79828702318673L373.67059575223465,268.36114643581203L372.9201165354009,268.0093593029212L371.8882076122545,267.5637622679262L371.5129680038376,266.8601880021446L371.41915810173344,265.7110167013679L370.95010859121237,264.6791077782215L370.85629868910814,263.7410087571794L371.09082344436865,262.8029097361372L371.70058780804607,262.56838498087666L371.70058780804607,262.1462404214077L372.3103521717235,261.1612364493134L372.4041620738277,260.31694733037546L372.1227323675151,259.70718296669804L371.8882076122545,258.88634632328615L371.7943977101503,257.6902700714574L372.21654226961925,256.96324333014974L372.4041620738277,256.11895421121176L373.06083138855723,256.07204926015964L373.7644056543389,255.81407202937305L374.28036011591206,255.5795472741125L374.8432195285373,255.55609479858646L375.59369874537106,254.80561558175273L376.6725126195696,254.0082314138669L377.04775222798645,253.35156209913737L376.860132423778,252.81215516203812L377.4229918364033,252.95287001519443L378.12656610218494,252.0616759452044L378.173471053237,251.26429177731853L378.595615612706,250.6779798891672L379.0646651232271,251.2408393017925M532.3500451615171,255.6968096517428L533.1474293294029,256.4472888685765L532.7252847699339,256.63490867278495L532.3031402104649,256.0485967846336L532.3500451615171,255.6968096517428M531.7871857488917,255.41537994543012L531.5995659446833,255.06359281253933L531.5995659446833,254.055136364919L532.2093303083607,254.4538284488619L532.3969501125691,255.50918984753434L532.0686154552044,255.34502251885198L531.7871857488917,255.41537994543012M489.3382050467337,243.99402436424177L489.1974901935774,243.0090203921475L489.43201494883795,242.5399708816264L489.7134446551506,242.09437384663138L490.04177931251536,242.46961345504823L489.9948743614632,243.1028302942517L489.3382050467337,243.99402436424177M251.10795865307566,336.67820764320777L251.76462796780515,336.67820764320777L253.6877309609416,336.39677793689515L255.65773890513012,336.67820764320777L257.29941219195393,337.24106705583307L257.86227160457923,338.03845122371894L258.0029864577356,338.60131063634424L258.04989140878763,339.25797995107376L256.032978513547,339.65667203501664L253.92225571620213,340.00845916790746L251.48319826149248,340.31334134974617L248.7158061494181,340.54786610500673L245.66698433103107,340.47750867842853L243.93150114210306,340.0553641189596L244.16602589736362,339.51595718186036L246.93341800943801,339.1641700489695L248.0591368346886,338.7185730139745L248.90342595362654,338.1557136013492L249.46628536625184,337.6632116153021L250.2636695341377,337.217614580307L251.10795865307566,336.67820764320777M228.12453263754256,339.5628621329124L231.07954455382537,339.6097670839645L233.89384161695187,339.72702946159484L234.83194063799402,339.18762252449557L235.53551490377566,338.7420254895005L236.89575848428683,339.2814324265998L236.52051887586995,339.9381017413293L236.14527926745308,340.52441362948065L233.3778871553787,340.33679382527225L230.46978019014796,340.4306037273764L228.87501185437628,339.9850066923814L228.87501185437628,339.9381017413293L228.12453263754256,339.5628621329124M218.18068301449557,327.8600768454114L219.11878203553778,327.69590951672905L220.61974046920523,327.74281446778116L220.9949800776221,327.08614515305163L221.0418850286742,326.59364316700453L221.0418850286742,325.5617342438581L221.79236424550794,324.92851740465466L222.96498802181065,324.7408976004462L223.66856228759227,325.2099471109673L223.94999199390492,325.70244909701444L224.51285140653022,326.28876098516577L224.9819009170513,326.85162039779107L225.31023557441603,327.43793228594245L225.49785537862448,328.02424417409384L225.26333062336394,328.54019863566697L224.88809101494707,329.0327006217141L223.3402276302275,329.1968679503965L221.88617414761217,329.4548451811831L220.19759590973626,329.43139270565706L220.85426522446576,328.9154382440839L219.3064018397462,329.10305804829227L217.85234835713084,329.2672253769747L216.86734438503657,328.8919857685578L216.77353448293235,328.3525788314586L218.18068301449557,327.8600768454114M181.17267663438216,328.6574610132973L182.0169657533201,328.4229362580367L183.65863904014387,328.6105560622451L185.5348370822282,328.7043659643494L186.9888905648436,328.8919857685578L188.3960390964068,328.7278184398754L189.19342326429268,329.4782976567092L188.16151434114627,329.38448775460495L186.5667460053746,329.43139270565706L184.97197766960292,329.38448775460495L183.1895895296228,329.4548451811831L181.87625090016377,329.1968679503965L181.17267663438216,328.6574610132973M154.76518919204517,330.95580361485054L155.0466188983578,330.5336590553816L156.59448228307738,330.74473133511606L158.28306052095328,330.95580361485054L159.83092390567288,330.72127885959003L159.08044468883915,331.1903283701111L157.86091596148432,331.51866302747584L156.0316228704521,331.42485312537167L154.76518919204517,330.95580361485054M148.66754555527112,330.697826384064L149.60564457631327,330.4163966777513L150.9189832057723,330.72127885959003L152.93589610101296,331.2372333211632L152.1385119331271,331.1903283701111L150.44993369525122,331.07306599248085L148.66754555527112,330.697826384064M530.4738471194327,262.4511226032464L531.5526609936312,263.2719592466583L532.2093303083607,263.8582711348096L531.7402807978397,264.18660579217436L530.989801581006,263.8348186592836L530.0986075110159,263.2485067711322L529.254318392078,262.54493250535063L528.3631243220877,261.6302859598345L528.1755045178794,261.18468892483946L528.7383639305046,261.2081414003655L529.4888431473385,261.65373843536054L530.0517025599637,262.0993354703556L530.4738471194327,262.4511226032464M513.3535399854131,239.772578769552L513.8694944469864,240.19472332902097L514.0102093001426,240.8513926437505L513.5880647406736,241.20317977664132L513.3535399854131,240.42924808428154L513.0721102791006,239.9367460982344L512.4623459154232,239.51460153876542L511.71186669858935,238.95174212614012L510.7737676775472,238.57650251772324L511.14900728596405,238.2481678603585L511.85258155174574,238.62340746877538L512.2747261112147,238.904837175088L512.83758552384,239.2097193569267L513.3535399854131,239.772578769552M511.6180567964852,242.61032830820457L510.9144825307035,242.91521049004328L510.2109082649219,243.22009267188199L509.55423895019237,243.22009267188199L508.47542507599394,242.8448530634651L507.7249458591602,242.4930659305743L507.81875576126436,242.09437384663138L508.9913795375671,242.2819936508398L509.69495380334877,242.16473127320955L509.9294785586093,241.55496690953214L510.1170983628177,241.50806195848003L510.2109082649219,242.21163622426164L510.96138748175565,242.1178263221574L511.33662709017244,241.6722292871624L512.0871063070063,241.20317977664132L511.8994865027978,240.42924808428154L512.6968706706837,240.40579560875548L512.9783003769963,240.61686788848996L512.9313954259442,241.34389462979766L512.5092508664752,242.1412787976835L511.8056766006936,242.2350886997877L511.6180567964852,242.61032830820457M525.6895421121177,248.66106699392654L526.0647817205345,249.10666402892156L525.1735876505445,249.10666402892156L524.6576331889712,248.28582738550966L525.4550173568571,248.61416204287445L525.6895421121177,248.66106699392654M525.1266826994923,247.51189569314988L524.939062895284,247.74642044841042L523.9540589231897,246.62070162315982L523.719534167929,245.84676993080004L524.1416787273981,245.84676993080004L524.6107282379191,246.8786788539464L525.1266826994923,247.51189569314988M524.0478688252939,247.8636828260407L523.5319143637207,247.88713530156676L522.7345301958349,247.7698729239365L522.5000054405743,247.558800644202L522.5469103916264,247.0428461826288L523.4381044616165,247.2539184623633L523.8602490210855,247.51189569314988L524.0478688252939,247.8636828260407M522.5000054405743,245.4480778468571L522.7814351468869,245.8702224063261L522.8283400979391,246.1281996371127L521.7964311747927,245.5653402244874L521.0928569090111,245.0962907139663L520.62380739849,244.67414615449735L520.8114272026984,244.533431301341L521.4211915663758,244.83831348317972L522.5000054405743,245.4480778468571M519.2166588669268,244.15819169292413L519.7326133284998,244.58033625239312L519.4980885732393,244.6506936789713L518.8883242095619,244.3458114971326L518.3723697479887,243.80640456003334L518.4192746990409,243.59533228029886L519.2166588669268,244.15819169292413M516.1209320974875,241.95365899347505L516.4961717059044,242.25854117531375L517.1528410206339,243.07937781872565L517.7626053843114,243.52497485372066L517.5749855801029,243.87676198661148L517.1997459716861,244.01747683976782L516.6368865590607,243.52497485372066L516.0740271464355,242.68068573478274L515.7925974401228,241.69568176268845L515.9802172443312,241.5784193850582L516.1209320974875,241.95365899347505M544.9674769945342,287.19348428323354L544.451522532961,287.8970585490151L543.7948532182314,288.7882526190052L542.8098492461372,289.3042070805784L542.5753244908767,288.9758724232136L542.0124650782514,288.7882526190052L542.762944295085,287.70943874480673L542.3407997356161,286.982412003499L540.9336512040529,286.4664575419258L540.980556155105,285.99740803140475L541.9186551761471,285.5518109964097L542.1531799314076,284.5433545487894L542.1062749803556,283.69906542985143L541.5434155677303,282.8313238353874L541.5903205187824,282.5967990801269L540.980556155105,282.05739214302764L539.9486472319586,280.908220842251L539.3857878193332,279.9935742967349L539.9017422809064,279.87631191910464L540.6053165466882,280.6033386604123L541.5903205187824,280.93167331777704L541.9655601271993,282.10429709407975L542.9036591482414,283.4645406745909L542.9505640992935,282.5967990801269L543.560328462971,282.94858621301773L543.7479482671794,283.933590185112L544.7798571903257,284.35573474458096L545.6710512603158,284.4495446466852L546.4215304771495,283.957042660638L547.078199791879,284.09775751379436L546.7498651345143,285.2703812900971L546.3746255260974,286.02086050693083L545.3427166029511,285.99740803140475L545.0143819455863,286.3961001153477L545.1550967987426,286.958959527973L544.9674769945342,287.19348428323354M535.5395818330604,291.743264535288L536.665300658311,291.06314274503245L537.4157798751447,290.3830209547769L538.0255442388221,289.42146945820866L538.4945937493433,289.0931348008439L538.7291185046038,288.3661080595362L539.6203125745939,287.75634369585885L539.9017422809064,288.3192031084841L540.1831719872191,288.8351575700573L541.1212710082614,288.3192031084841L541.4965106166782,288.85861004558336L541.4965106166782,289.42146945820866L541.027461106157,290.0312338218861L540.1831719872191,290.9693328429282L539.5265026724896,291.5087397800275L539.9955521830107,292.14195661923094L538.9636432598643,292.14195661923094L537.8848293856659,292.6344586052781L537.509589777249,293.5022001997421L536.7591105604153,294.8155388292011L535.7741065883209,295.4018507173525L535.1174372735915,295.7536378502433L533.8979085462366,295.7301853747172L533.0536194272986,295.30804081524826L531.6464708957354,295.21423091314404L531.4119461404749,294.74518140262296L532.1155204062566,293.7601774305287L533.7571936930802,292.49374375212176L534.6014828120183,292.23576652133517L535.5395818330604,291.743264535288M506.9275616912743,288.1550357798017L507.6780409081081,288.24884568190595L507.7718508102123,289.7967090666255L507.3497062507433,290.24230610162056L507.20899139758706,291.297667500293L506.7399418870659,290.9458803674022L505.84874781707583,291.83707443739223L505.56731811076315,291.7667170108141L504.7699339428774,291.743264535288L503.97254977499153,290.6175457100374L503.7849299707831,289.7498041155734L503.0344507539494,288.6240852903228L503.08135570500144,288.03777340217147L503.9256448239394,288.1550357798017L505.19207850234636,288.60063281479677L505.895652768128,288.4130130105883L506.9275616912743,288.1550357798017M478.83149601106146,276.9682049538739L477.47125243055035,277.64832674412946L476.3455336052998,277.92975645044214L476.064103898987,278.6333307162237L475.595054388466,279.1492851777969L474.5162405142675,279.172737653323L473.6719513953296,279.29000003095325L472.5462325700789,279.05547527569274L471.6081335490368,279.196190128849L470.71693947904674,279.2665475554272L469.9195553111608,279.9466693456828L469.54431570274403,279.89976439463067L468.8876463880145,280.27500400304757L468.2778820243371,280.67369608699045L467.2928780522428,280.62679113593833L466.4485889333049,280.62679113593833L465.04144040174157,279.80595449252644L464.33786613596,279.54797726173985L464.38477108701215,278.79749804490615L465.04144040174157,278.6333307162237L465.2290602059501,278.3284485343851L465.1821552548979,277.85939902386394L465.36977505910636,276.9447524783478L465.2290602059501,276.1942732615141L464.52548594016844,274.85748215652904L464.33786613596,274.1304554152214L464.38477108701215,273.3799761983876L463.86881662543897,272.53568707944964L463.8219116743868,272.1604474710328L463.25905226176144,271.6210405339336L463.0714324575531,270.61258408631323L462.3209532407193,269.58067516316686L462.1333334365109,269.01781575054156L462.7430978001883,269.58067516316686L462.27404828966723,268.3845989113381L462.9307176043967,268.75983851975496L463.3059572128136,269.25234050580207L463.3059572128136,268.5956711910726L462.6492878980841,267.5637622679262L462.50857304492774,267.1650701839833L462.2271433386151,266.76637810004036L462.36785819177146,266.0158988832066L462.6492878980841,265.68756422584187L462.8369077022925,265.03089491111234L462.6961928491362,264.2804156942786L463.2121473107094,263.34231667323644L463.3059572128136,264.3273206453307L463.86881662543897,263.43612657534067L464.90072554858534,263.0139820158717L465.5573948633148,262.4511226032464L466.5423988354091,261.95862061719924L467.15216319908643,261.864810715095L467.4804978564512,262.0289780437774L468.51240677959765,261.5364760577303L469.30979094748346,261.39576120457394L469.49741075169186,261.1143314982613L469.87265036010876,260.997069120631L470.5762246258904,261.0205215961571L471.9364682064015,260.6452819877402L472.6400424721832,260.05897009958886L472.9683771295479,259.3788483093333L473.76576129743376,258.6987265190777L473.8126662484858,258.1827720575045L473.859571199538,257.4791977917229L474.7507652695281,256.37693144199835L475.3136246821533,257.50265026724895L475.8764840947786,257.24467303646236L475.40743458425754,256.6114561972589L475.8295791437265,255.97823935805545L476.39243855635186,256.2831215398941L476.5331534095082,255.27466509227384L477.2367276752898,254.64144825307037L477.5650623326545,254.12549379149715L478.2217316473841,253.91442151176267L478.2217316473841,253.5391819033458L478.83149601106146,253.67989675650213L478.83149601106146,253.37501457466342L479.39435542368676,253.187394770455L480.05102473841623,252.99977496624658L480.9891237594585,253.60953932992396L481.7396029762922,254.3600185467577L482.536987144178,254.38347102228374L483.381276263116,254.50073339991403L483.09984655680336,253.79715913413241L483.7096109204807,252.74179773545995L484.3193752841581,252.41346307809522L484.08485052889756,252.08512842073043L484.64770994152286,251.33464920389673L485.4450941094087,250.86559969337563L486.1017634241382,251.029767022058L487.2274822493889,250.7717897912714L487.18057729833674,250.1151204765419L486.2424782772946,249.6929759170729L486.9460525430762,249.5053561128645L487.79034166201416,249.8102382947032L488.4939159277958,250.34964523180244L489.5727298019942,250.6779798891672L489.94796941041113,250.56071751153692L490.74535357829694,250.95940959547985L491.54273774618287,250.58416998706298L492.0117872567039,250.70143236469326L492.3401219140686,250.44345513390664L492.902981326694,251.10012444863617L492.57464666932924,251.78024623889175L492.058692207756,252.319653175991L491.6365476482871,252.3665581270431L491.7772625014434,252.8825125886163L491.40202289302647,253.5391819033458L490.93297338250545,254.17239874254926L491.0267832846097,254.54763835096614L492.058692207756,255.25121261674775L493.0436961798503,255.67335717621674L493.7472704456319,256.11895421121176L494.68536946667405,256.89288590357154L495.06060907509095,256.89288590357154L495.7172783898204,257.22122056093633L495.9048981940289,257.6199126448792L497.17133187243587,258.06550967987425L498.0156209913738,257.6199126448792L498.2970506976865,256.93979085462365L498.531575452947,256.3534789664723L498.7191952571554,255.62645222516463L499.0944348655722,254.59454330201822L498.9068150613638,253.96132646281478L499.000624963468,253.58608685439793L498.8599101103117,252.83560763756418L499.04752991452017,251.87405614099595L499.2820546697807,251.59262643468332L499.0944348655722,251.17048187521434L499.422769522937,250.46690760943272L499.6572942781976,249.76333334365108L499.7041992292497,249.3880937352342L500.17324873977077,248.89559174918708L500.5484883481877,249.52880858839055L500.64229825029184,250.34964523180244L500.97063290765664,250.51381256048484L501.0175378587087,251.05321949758405L501.4865873692298,251.70988881231358L501.580397271334,252.4603680291473L501.5334923202819,252.9294175396684L502.002541830803,253.96132646281478L502.84683094974093,253.46882447676765L503.2689755092099,254.0082314138669L503.8787398728873,254.52418587544008L503.7380250197309,255.11049776359144L504.0194547260436,256.212764113316L504.2539794813042,256.8694334280455L504.5823141386689,257.0336007567279L504.9106487960337,258.1358671064524L504.7699339428774,258.815988896708L505.19207850234636,259.70718296669804L506.6461319849617,260.3873047569536L507.5373260549517,260.997069120631L508.42852012494177,261.5599285332563L508.2409003207334,261.8882631906211L508.9913795375671,262.709099834033L509.5073339991403,264.1162483655962L510.0232884607135,263.8113661837575L510.5392429222867,264.3742255963828L510.8675775796514,264.18660579217436L511.102102334912,265.57030184821156L511.993296404902,266.3676860160974L512.6030607685794,266.8601880021446L513.6349696917258,267.915549400817L514.0102093001426,268.97091079948945L514.0571142511949,269.6979375407971L513.9633043490905,270.518774184209L514.573068712768,271.6210405339336L514.4792588106639,272.7702118347102L514.2447340554032,273.3799761983876L513.9163993980385,274.52914749916425L513.9633043490905,275.279626715998L513.681874642778,276.21772573704015L513.1190152301526,277.41380198886895L512.1340112580583,278.0470188280724L511.6649617475373,279.05547527569274L511.2428171880683,279.6886921148962L510.8675775796514,280.8144109401468L510.35162311807824,281.4710802548763L510.0232884607135,282.4560842269706L509.83566865650505,283.34727829696067L509.9294785586093,283.74597038090354L509.1789993417756,284.2150198914246L507.7249458591602,284.26192484247673L506.5054171318053,284.801331779576L505.895652768128,285.2938337656231L505.09826860024214,285.8566931782484L504.0194547260436,285.2703812900971L503.2220705581578,285.0593090103626L503.45659531341835,284.37918722010704L502.7530210476367,284.61371197536755L501.580397271334,285.5518109964097L500.45467844608334,285.20002386351894L499.75110418030175,285.0124040593105L499.000624963468,284.91859415720626L497.7341912850611,284.5199020732633L496.88990216612314,283.7225179053775L496.65537741086257,282.73751393328325L496.32704275349784,282.0808446185537L495.7172783898204,281.54143768145445L494.45084471141354,281.40072282829817L494.8729892708825,280.7675059890947L494.5446546135177,279.80595449252644L493.93489024984035,280.69714856251653L492.76226647353764,280.93167331777704L493.41893578826716,280.2046465764694L493.6534605435277,279.4541673596356L494.1225100540487,278.8209505204322L494.0287001519445,277.85939902386394L492.9967912287982,278.9616653735885L492.1525021098602,279.4072624085835L491.68345259933915,280.46262380725597L490.6515436761928,279.92321687015675L490.6984486272449,279.2196426043751L489.8541595083069,278.28154358333296L489.1974901935774,277.7890415972858L489.43201494883795,277.4841594154471L487.7434367109621,276.7102277230873L486.852242640972,276.6633227720352L485.585808962565,276.0301059328317L483.24056140995964,276.147368310462L481.55198317208374,276.6164178209831L480.0979296894684,277.06201485597813L478.83149601106146,276.9682049538739M421.04459631486407,225.2085914678724L420.85697651065556,226.54538257285748L420.2941170980303,226.92062218127435L419.16839827277965,227.22550436311303L418.5586339091023,226.19359543996666L418.32410915384173,224.31739739788233L418.93387351751915,222.20667460053747L419.8250675875092,222.93370134184514L420.4348319511866,223.84834788736126L421.04459631486407,225.2085914678724M483.05294160575124,238.6468599443014L484.46009013731447,239.0220995527183L484.92913964783554,240.0305560003386L483.8503257736371,239.49114906323936L482.77151189943856,239.37388668560908L482.02103268260487,239.4676965877133L481.1298386126148,239.42079163666122L481.41126831892745,238.69376489535352L483.05294160575124,238.6468599443014M479.7695950321036,239.9367460982344L478.8784009621136,239.70222134297384L478.64387620685307,239.13936193034854L479.957214836312,239.0690045037704L480.2855494936768,239.51460153876542L479.7695950321036,239.9367460982344M481.1767435636669,232.17397669911048L481.2705534657711,232.8775509648921L482.02103268260487,232.99481334252238L482.16174753576115,233.5342202796216L482.0679376336569,234.65993910487222L481.41126831892745,234.54267672724194L481.22364851471895,235.34006089512778L481.7396029762922,236.02018268538336L481.3643633678753,236.16089753853967L480.8484089063021,235.34006089512778L480.4731692978852,233.67493513277793L480.75459900419787,232.64302620963156L481.1767435636669,232.17397669911048M474.6569553674238,233.86255493698638L476.15791380109124,233.81564998593427L477.4243474794982,232.85409848936604L477.65887223475875,233.15898067120474L476.62696331161237,234.44886682513774L475.64195933951805,234.68339158039828L474.37552566111117,234.44886682513774L472.2178979127142,234.49577177618983L471.0921790874636,234.68339158039828L470.90455928325514,235.66839555249254L472.03027810850574,236.84101932879526L472.7338523742874,236.2547074406439L475.17290982899704,235.80911040564885L475.0790999268928,236.3954222938002L474.5162405142675,236.20780248959178L473.9533811016422,236.98173418195157L472.78075732533944,237.4742361679987L474.04719100374643,239.13936193034854L473.8126662484858,239.60841144086962L474.9852900247886,241.10936987453712L474.93838507373647,241.95365899347505L474.28171575900694,242.35235107741798L473.76576129743376,241.88330156689688L474.37552566111117,240.8044876926984L473.1090919827043,241.3204421542716L472.78075732533944,240.96865502138078L472.92147217849583,240.45270055980757L471.9833731574537,239.70222134297384L472.12408801060997,238.41233518904087L471.2328939406199,238.8110272729838L471.3267038427241,240.3354381821773L471.37360879377627,242.21163622426164L470.5762246258904,242.3992560284701L470.01336521326505,242.00056394452716L470.38860482168195,240.8044876926984L470.20098501747356,239.56150648981753L469.63812560484826,239.53805401429148L469.2159810453793,238.6468599443014L469.7788404580046,237.80257082536346L469.966460262213,236.77066190221709L470.6231295769426,234.80065395802853L470.857654332203,234.2612470209293L471.9833731574537,233.29969552436106L473.01528208060006,233.67493513277793L474.6569553674238,233.86255493698638M471.2328939406199,248.35618481208783L469.49741075169186,247.44153826657174L470.71693947904674,247.20701351131117L471.37360879377627,247.58225311972805L471.8426583042973,247.98094520367098L471.7488484021931,248.33273233656178L471.2328939406199,248.35618481208783M472.5931375211311,246.1281996371127L473.437426640069,246.01093725948243L474.61005041637173,245.54188774896133L474.42243061216334,246.268914490269L472.4524226679747,246.64415409868587L470.71693947904674,246.4799867700035L470.71693947904674,246.01093725948243L471.7488484021931,245.72950755316978L472.5931375211311,246.1281996371127M468.5593117306497,245.89367488185215L469.3566958985356,245.77641250422187L469.6850305559004,246.3392719168472L468.1840721222329,246.5972491476338L467.2928780522428,246.7848689518422L466.5893037864612,246.76141647631616L467.0583532969822,246.01093725948243L467.76192756276396,246.01093725948243L468.0902622201287,245.54188774896133L468.5593117306497,245.89367488185215M455.84806999552836,243.3608075250383L456.0356897997368,243.8298570355594L458.5216522054985,243.9705718887157L458.8030819118112,243.43116495161647L461.19523441546875,244.04092931529388L461.6642839259898,244.88521843423183L463.6342918701784,245.11974318949237L465.2290602059501,245.89367488185215L463.7750067233346,246.40962934342534L462.3209532407193,245.8702224063261L461.14832946441663,245.9171273573782L459.78808588390547,245.82331745527398L458.5685571565507,245.58879270001344L457.0675987228832,245.07283823844026L456.0825947507889,244.95557586080997L455.56664028921574,245.11974318949237L453.17448778555826,244.58033625239312L452.9399630302977,244.01747683976782L451.767339253995,243.9236669376636L452.65853332398507,242.68068573478274L454.25330165975674,242.7510431613609L455.2852105829031,243.2669976229341L455.84806999552836,243.3608075250383M450.4540006245359,236.41887476932627L450.6885253797965,237.3335213148424L451.15757489031756,238.06054805615005L452.09567391135977,238.15435795825428L452.75234322608924,238.99864707719223L452.4240085687245,240.61686788848996L452.37710361767233,242.63378078373063L450.923050135057,242.65723325925669L449.79733130980645,241.55496690953214L448.1556580229826,240.4996055108597L447.59279861035736,239.70222134297384L446.60779463826304,238.6468599443014L445.9511253235335,237.66185597220715L444.96612135143926,235.85601535670096L443.84040252618865,234.75374900697642L443.4182579667197,233.65148265725188L442.94920845619856,232.6195737341055L441.77658467989596,231.7987370906936L441.1199153651664,230.69647074096906L440.1349113930721,229.96944399966137L438.77466781256095,228.51539051704603L438.6339529594046,227.8587212023165L439.4782420783426,227.90562615336862L441.4951549735832,228.1636033841552L442.66777874988594,229.43003706256215L443.65278272198026,230.32123113255219L444.403261938814,230.86063806965143L445.6227906661687,232.26778660121468L446.93612929562784,232.29123907674074L448.0149431698263,233.1824331467308L448.76542238666,234.2612470209293L449.79733130980645,234.8710113846067L449.23447189718115,235.92637278327913L449.98495111401485,236.37196981827415L450.4540006245359,236.41887476932627M471.9364682064015,218.4542785163688L471.2328939406199,217.44582206874847L472.3586127658705,217.49272701980055L472.8276622763916,217.96177653032166L472.4993276190269,219.08749535557226L471.9364682064015,218.4542785163688M474.1879058569027,221.99560232080296L474.5162405142675,221.6203627123861L474.6569553674238,220.82297854450024L475.40743458425754,220.7526211179221L475.17290982899704,221.6203627123861L476.15791380109124,220.37738150950523L476.01719894793496,221.6203627123861L475.5481494374139,222.04250727185507L475.12600487794487,222.86334391526697L474.7507652695281,223.23858352368384L473.9533811016422,222.34738945369378L474.1879058569027,221.99560232080296M479.15983066842625,224.03596769156968L479.2536405705305,224.9037092860337L479.34745047263465,225.63073602734136L478.92530591316563,226.82681227917013L478.4093514515925,225.49002117418505L477.7995870879151,226.1701429644406L478.2217316473841,227.10824198548278L477.8464920389672,227.71800634916016L476.3455336052998,226.96752713232644L475.97029399688284,226.0294281112843L476.3455336052998,225.41966374760688L475.5481494374139,224.7864469084034L475.12600487794487,225.32585384550265L474.5162405142675,225.27894889445056L473.53123654217325,226.00597563575823L473.3436167379648,225.63073602734136L473.859571199538,224.5284696776168L474.6569553674238,224.176682544726L475.3605296332055,223.68418055867886L475.8295791437265,224.27049244683022L476.8145831158208,223.9187053139394L477.04910787108133,223.33239342578804L477.9403019410714,223.28548847473596L477.89339699001926,222.2770320271156L478.92530591316563,222.91024886631908L479.066020766322,223.56691818104858L479.15983066842625,224.03596769156968M457.11450367393525,211.30127348092228L456.0356897997368,210.87912892145332L456.0356897997368,209.77686257172874L456.64545416341423,209.16709820805136L458.09950764602956,208.81531107516054L458.8499868628633,208.8387635506866L459.13141656917594,209.33126553673372L458.5685571565507,209.91757742488508L458.24022249918596,210.6680566417188L457.11450367393525,211.30127348092228M473.15599693375634,203.2101694244336L472.3586127658705,205.29743974625242L471.79575335324523,206.3762536204509L471.1390840385157,205.27398727072637L470.9514642343073,204.31243577415813L471.7488484021931,203.02254962022516L472.78075732533944,202.03754564813087L473.39052168901685,202.4362377320738L473.15599693375634,203.2101694244336M499.3289596208328,183.95568701754314L498.1563358445301,185.26902564700214L498.1563358445301,186.60581675198725L497.68728633400906,187.66117815065968L497.87490613821745,188.29439498986315L497.2182368234879,189.23249401090533L495.57656353666414,189.84225837458274L493.27822093511077,189.91261580116088L491.40202289302647,191.41357423482836L490.5108288230365,190.89761977325517L490.4639238719843,189.93606827668694L488.2124862214831,190.2174979829996L486.66462283676356,190.827262346677L485.16366440309605,190.85071482220303L486.4770030325551,191.81226631877126L485.585808962565,194.01679901822038L484.7415198436271,194.57965843084565L484.13175547994973,194.06370396927247L484.46009013731447,192.89108019296975L483.6158010183765,192.51584058455288L483.09984655680336,191.62464651456284L484.3193752841581,191.2259544306199L485.0229495499397,190.405117787208L486.33628817939876,189.72499599695246L487.27438720044097,188.8338019269624L489.8541595083069,188.45856231854552L491.26130803987013,188.7165395493321L492.6215516203813,186.39474447225277L493.5127456903714,187.0279613114562L495.3889437324557,185.71462268199718L496.1394229492894,185.22212069595005L496.9837120682273,183.62735236017835L496.7491873129668,182.14984640203696L497.2651417745401,181.32900975862506L498.67229030610326,181.09448500336453L499.3758645718849,182.90032561887068L499.3289596208328,183.95568701754314M502.893735900793,177.71732852761272L503.83183492183514,177.17792159051345L504.1132646281478,178.63197507312884L502.1901616350114,178.98376220601963L501.0175378587087,180.29710083547866L499.000624963468,179.40590676548862L498.2970506976865,180.8130552970519L496.8429972150711,180.83650777257793L496.65537741086257,179.54662161864496L497.31204672559215,178.53816517102464L498.67229030610326,178.46780774444647L499.04752991452017,176.6619671289403L499.46967447398913,175.65351068131994L500.97063290765664,177.0137542618311L502.002541830803,177.45935129682613L502.893735900793,177.71732852761272M325.82754567908415,181.72770184256797L326.4842149938137,181.305557283099L327.2815991616995,182.24365630414118L327.0939793574911,183.95568701754314L326.4842149938137,183.885329590965L325.9682605322405,184.30747415043396L325.4992110217194,183.9791394930692L325.4054011196152,182.3843711572975L325.1239714133025,181.65734441598983L325.82754567908415,181.72770184256797M325.87445063013627,179.4762641920668L326.71873974907425,178.9603097304936L326.95326450433475,180.08602855574418L326.5311199448658,181.09448500336453L325.9213555811884,180.83650777257793L325.6399258748757,179.94531370258787L325.87445063013627,179.4762641920668M330.6118506863992,161.91036002305222L331.0339952458682,162.5435768622557L330.23661107798233,163.5989382609281L328.8763674974712,162.87191151962043L328.68874769326277,162.3325045825212L330.6118506863992,161.91036002305222M309.0355732024294,158.7208233515089L310.583436587149,158.6035609738786L309.1762880555857,160.01070950544184L310.53653163609687,159.84654217675944L311.94368016766015,159.84654217675944L311.61534551029536,160.9019035754319L310.44272173399264,162.07452735173462L311.80296531450375,162.16833725383879L313.0693989929107,163.83346301618866L313.9605930629007,164.04453529592314L314.7579772307866,165.52204125406456L315.13321683920344,166.03799571563775L316.68108022392306,166.29597294642434L316.5403653707667,167.11680958983624L315.8836960560372,167.51550167377917L316.3996505176104,168.1721709885087L315.22702674130767,168.85229277876425L313.49154355237965,168.85229277876425L311.2401059018785,169.20407991165507L310.63034153820104,168.94610268086848L309.7860524192631,169.5558670445459L308.5665236919083,169.41515219138955L307.67532962191825,169.9076541774367L306.9717553561366,169.64967694665012L308.8948583492731,168.28943336613895L310.0674821255758,168.00800365982633L308.003664279283,167.77347890456576L307.62842467086614,167.25752444299258L308.98866825137725,166.85883235904964L308.28509398559567,166.15525809326803L308.5196187408562,165.31096897433008L310.48962668504475,165.42823135196036L310.6772464892532,164.67775213512664L309.7860524192631,163.8569154917147L308.19128408349144,163.62239073645418L307.8629494261267,163.2706036035634L308.3319989366478,162.68429171541203L307.9098543771788,162.3325045825212L307.2062801113972,162.94226894619862L307.15937516034506,161.67583526779168L306.50270584561554,161.01916595306216L306.9717553561366,159.68237484807707L307.9567593282309,158.62701344940461L309.0355732024294,158.7208233515089M295.62075720152643,148.42518659557106L295.2924225441617,149.26947571450904L296.74647602677703,150.1606697844991L295.05789778890113,151.14567375659337L291.3055017047324,152.03686782658343L290.1797828794818,152.271392581844L288.4912046416059,152.08377277763552L284.8326184595415,151.6850806936926L286.14595708900055,151.09876880554128L283.28475507482193,150.4655519663378L285.58309767637525,150.20757473555122L285.53619272532313,149.83233512713434L282.81570556430086,149.52745294529564L283.7068996342909,148.6831638263577L285.6769075784795,148.47209154662323L287.6938204737201,149.36328561661327L289.66382841790863,148.65971135083163L291.3055017047324,149.0349509592485L293.41622450207734,148.33137669346686L295.62075720152643,148.42518659557106M500.6892032013439,165.0295392680174L501.1582527118651,166.29597294642434L501.1113477608129,167.56240662483125L501.62730222238605,168.87574525429028L502.94064085184516,171.19754033136968L501.0175378587087,170.77539577190072L500.2201536908228,172.65159381398502L501.4865873692298,173.98838491897013L501.43968241817765,174.90303146448622L500.45467844608334,174.1056472966004L499.6103893271454,175.1141037442207L499.3758645718849,174.01183739449615L499.5165794250412,172.74540371608924L499.3758645718849,171.33825518452602L499.6572942781976,170.35325121243173L499.75110418030175,168.6177680235037L498.95372001241594,167.32788186957075L499.0944348655722,165.56894620511667L500.26705864187494,164.95918184143926L499.75110418030175,164.34941747776185L500.36086854397917,164.16179767355345L500.6892032013439,165.0295392680174M468.8876463880145,222.86334391526697L467.15216319908643,224.10632511814785L467.808832513816,223.19167857263173L468.74693153485816,222.3942944047459L469.49741075169186,221.47964785922977L470.20098501747356,220.1897617052968L470.43550977273406,221.24512310396923L469.5912206537961,221.97214984527693L468.8876463880145,222.86334391526697M473.859571199538,211.25436852987016L473.6719513953296,211.7937754669694L474.0940959547985,212.73187448801156L473.76576129743376,213.81068836221007L473.01528208060006,214.2562853972051L472.78075732533944,215.2881943203515L473.1090919827043,216.34355571902393L473.76576129743376,216.48427057218024L474.37552566111117,216.32010324349787L475.97029399688284,217.04712998480554L475.8764840947786,217.75070425058718L476.29862865424764,218.05558643242586L476.15791380109124,218.66535079610327L475.12600487794487,218.03213395689983L474.6569553674238,217.35201216664424L474.3286207100591,217.82106167716535L473.4843315911212,217.04712998480554L472.3117078148184,217.23474978901396L471.6550385000889,216.95332008270134L471.70194345114095,216.41391314560207L472.12408801060997,216.08557848823733L471.7488484021931,215.78069630639862L471.5612285979847,216.2497458169197L470.90455928325514,215.49926660008597L470.71693947904674,214.93640718746067L470.67003452799463,213.66997350905373L471.1859889895678,214.11557054404878L471.3267038427241,212.07520517328206L471.7488484021931,210.90258139697937L472.5462325700789,210.90258139697937L473.3436167379648,211.25436852987016L473.76576129743376,210.9260338725054L473.859571199538,211.25436852987016M473.4843315911212,220.11940427871863L473.2967117869126,219.50963991504122L474.04719100374643,219.90833199898415L474.89148012268436,219.90833199898415L474.89148012268436,220.4477389360834L474.28171575900694,221.0105983487087L473.437426640069,221.4092904326516L473.39052168901685,220.79952606897422L473.4843315911212,220.11940427871863M477.9872068921235,219.1578527821504L478.36244650054033,220.61190626476576L477.3774425284461,220.26011913187497L477.3774425284461,220.70571616687L477.7057771858109,221.50310033475583L477.09601282213345,221.80798251659454L477.04910787108133,220.8698834955524L476.62696331161237,220.82297854450024L476.439343507404,220.0255943766144L477.18982272423773,220.11940427871863L477.18982272423773,219.6269022926715L476.39243855635186,218.64189832057724L477.65887223475875,218.66535079610327L477.9872068921235,219.1578527821504M213.7247126645453,223.70763303420492L214.3813819792748,223.75453798525703L215.36638595136912,222.8398914397409L215.9292453639944,222.6991765865846L215.9292453639944,222.2770320271156L216.16377011925493,221.17476567739106L216.9142493360887,220.56500131371365L217.7116335039745,220.54154883818762L217.85234835713084,220.26011913187497L218.8373523292251,220.37738150950523L219.86926125237147,219.72071219477573L220.3852157139447,219.41583001293702L221.0418850286742,218.8060656492596L221.46402958814318,218.87642307583778L221.83926919656005,219.2282102087286L221.55783949024737,219.65035476819756L221.51093453919526,219.95523695003627L220.76045532236157,220.11940427871863L221.18259988183053,220.70571616687L221.18259988183053,221.38583795712555L220.61974046920523,222.1363171739593L221.0887899797263,223.19167857263173L221.6516493923516,223.0978686705275L221.93307909866428,222.15976964948536L221.55783949024737,221.69072013896425L221.46402958814318,220.70571616687L223.105702874967,220.1897617052968L222.91808307075854,219.55654486609333L223.38713258127962,219.1578527821504L223.8561820918007,220.07249932766655L224.74737616179075,220.09595180319258L225.5916652807287,220.82297854450024L225.63857023178082,221.24512310396923L226.81119400808353,221.2685755794953L228.21834253964676,221.12786072633898L228.9688217564805,221.71417261449034L229.9538257285748,221.8783399431727L230.70430494540852,221.45619538370372L230.70430494540852,221.12786072633898L232.2990732811802,221.05750329976078L233.89384161695187,221.03405082423475L232.76812279170127,221.43274290817766L233.23717230222235,222.04250727185507L234.26908122536872,222.1363171739593L235.254085197463,222.76953401316277L235.44170500167144,223.8248954118352L236.14527926745308,223.80144293630914L236.66123372902626,224.10632511814785L237.50552284796424,224.57537462866892L238.30290701585005,225.41966374760688L238.34981196690217,226.09978553786246L238.81886147742324,226.12323801338852L239.52243574320488,226.75645485259196L240.03839020477807,227.22550436311303L241.63315854054974,227.48348159389963L241.72696844265397,227.2489568386391L242.80578231685246,227.1551469365349L244.2129308484157,227.50693406942568L244.6350754078847,227.64764892258202L245.62007937997896,227.9525311044207L246.98032296049013,229.05479745414527L247.21484771575064,229.59420439124452L247.6838972262717,229.64110934229663L247.9653269325844,230.25087370597404L248.7158061494181,232.52576383200127L249.3724754641476,232.73683611173576L249.41938041519975,233.62803018172585L248.43437644310546,234.7068440559243L248.85652100257442,235.10553613986724L251.15486360412774,235.31660841960172L251.20176855517985,236.60649457353472L252.18677252727412,235.76220545459677L253.8284458140979,236.23125496511784L255.98607356249488,237.02863913300368L256.6427428772244,237.77911834983743L256.40821812196384,238.5061450911451L257.95608150668346,238.10745300720217L260.4889488634973,238.78757479745772L262.41205185663375,238.74066984640564L264.33515484977016,239.81948372060413L266.02373308764606,241.27353720321946L267.0087370597404,241.64877681163634L268.1344558849909,241.7191342382145L268.60350539551206,242.1178263221574L269.025649954981,243.78295208450726L269.26017471024153,244.55688377686707L268.74422024866834,246.71451152526404L268.0875509339388,247.58225311972805L266.25825784290663,249.3880937352342L265.41396872396865,250.86559969337563L264.4289647518744,251.99131851862623L264.10063009450965,252.0147709941523L263.77229543714486,252.97632249072052L263.8661053392491,255.41537994543012L263.4908657308322,257.4088403651447L263.3501508776759,258.27658195960873L262.92800631820694,258.7925364211819L262.6934815629464,260.52801961010994L261.3801429334873,262.2400503235119L261.1456181782268,263.576841428497L260.11370925508044,264.1397008411223L259.78537459771564,264.9136325334821L258.3782260661524,264.9136325334821L256.3144082198596,265.4295869950553L255.42321414986958,265.9924464076806L253.96916066725422,266.3911384916235L252.42129728253468,267.4230474147699L251.34248340833616,268.71293356870285L251.10795865307566,269.674485065271L251.34248340833616,270.40151180657875L251.10795865307566,271.71485043603775L250.82652894676298,272.34806727524125L249.88842992572083,273.0750940165489L248.43437644310546,275.37343661810223L247.30865761785483,276.4053455412486L246.4174635478648,277.015109904926L245.8076991841874,278.2580911078069L244.96341006524943,278.98511784911454L244.40055065262413,279.80595449252644L242.9464971700088,280.5329812338341L241.9614931979145,280.27500400304757L241.2579189321329,280.41571885620385L240.03839020477807,279.85285944357855L239.19410108584012,279.89976439463067L238.39671691795428,279.172737653323L238.30290701585005,279.85285944357855L239.94458030267384,280.97857826882915L239.75696049846545,281.8697723388192L240.60124961740337,282.43263175144455L240.50743971529914,283.065848590648L239.28791098794431,284.7544268285239L237.3179030437558,285.43454861877944L234.73813073588985,285.7159783250921L233.2840772532745,285.5752634719358L233.56550695958714,286.3726476398216L233.2840772532745,287.3341991363898L233.51860200853503,287.99086845111935L232.76812279170127,288.45991796164043L231.40787921119016,288.6240852903228L230.18835048383534,288.1550357798017L229.67239602226215,288.50682291269254L229.86001582647057,289.7967090666255L230.70430494540852,290.19540115056844L231.45478416224225,289.7732565910995L231.83002377065912,290.45337838135504L230.6104950433043,290.85207046529797L229.57858612015792,291.67290710870986L229.39096631594947,292.9862457381689L229.06263165858473,293.6663675284245L227.8431029312299,293.6663675284245L226.81119400808353,294.34648931868L226.43595439966668,295.3314932907743L227.74929302912568,296.2695923118165L228.9688217564805,296.5275695426031L228.54667719701155,297.7001933189058L226.99881381229196,298.4506725357395L226.154524693354,299.97508344493303L224.9819009170513,300.4910379065062L224.419041504426,301.10080227018364L224.84118606389495,302.4375933751687L225.73238013388504,303.2115250675285L225.16952072125974,303.14116764095036L223.99689694495703,303.1177151654243L223.38713258127962,303.44604982278906L222.2145088049769,303.91509933331014L221.97998404971636,305.13462806066497L221.46402958814318,305.158080536191L219.9630711544757,304.73593597672203L218.46211272080825,303.8212894312059L216.86734438503657,303.09426268989824M213.0211383987637,225.58383107628924L213.583997811389,226.28740534207088L213.7716176155974,227.38967169179543L213.49018790928477,227.71800634916016L213.7716176155974,228.91408260098893L213.53709286033688,229.6645618178227L214.00614237085796,229.99289647518742L213.53709286033688,230.673018265443L212.97423344771158,231.4938549088549L212.31756413298206,231.56421233543307L212.03613442666943,232.0567143214802L212.08303937772152,232.68993116068367L211.61398986720044,232.80719353831392L211.75470472035676,233.20588562225686L210.8635106503667,233.72184008383005L210.15993638458508,234.0032697901427L210.2537462866893,234.51922425171588L209.73779182511612,235.36351337065383L209.50326706985555,236.18435001406573L209.0811225103866,236.37196981827415L209.26874231459502,237.56804607010292L209.03421755933448,237.91983320299374L209.7846967761682,238.5061450911451L210.3006512377414,237.8963807274677L210.58208094405404,238.459240140093L209.8785066782724,239.44424411218728L208.84659775512603,240.26508075559917L208.42445319565707,241.17972730111526L209.0811225103866,242.42270850399615L208.6589779509176,242.98556791662145L209.59707697195978,243.52497485372066L210.58208094405404,244.36926397265862L211.00422550352306,245.33081546922685L211.52017996509622,245.9171273573782L212.73970869245102,248.5203521407702L214.05304732191007,250.91250464442774L215.13186119610856,252.6245353578297L214.94424139190014,252.99977496624658L215.46019585347332,254.07858884044504L216.4921047766197,254.89942548385696L218.8373523292251,256.3065740154202L221.41712463709106,257.6199126448792L221.51093453919526,258.1593195819785L222.82427316865432,258.90979879881223L223.105702874967,260.7390918898444L223.19951277707116,262.87326716271536L222.7773682176022,265.7813741279461L222.35522365813324,268.4784088134423L222.1206989028727,271.01127617025617L221.37021968603895,272.60604450602784L221.51093453919526,274.2008128417995L221.1356949307784,275.279626715998L221.41712463709106,277.2261821846605L220.90117017551788,279.172737653323L219.9630711544757,281.26000797514183L219.1656869865899,283.3707307724867L218.64973252501667,283.4176357235388L218.7435424271209,284.87168920615414L219.11878203553778,286.1381228845611L218.50901767186036,287.0293169545511L218.0868731123914,289.4449219337347L217.6647285529224,291.32111997581904L218.46211272080825,291.4852873045014L218.88425728027724,289.8670664932037L219.7754513502673,290.2188536260945L219.07187708448566,292.9158883115907L217.61782360187027,292.44683880106965L217.1956790424013,294.6279190249927L215.9292453639944,295.77709032576934L217.94615825923506,296.1523299341862L216.53900972767178,297.16078638180653L215.9761503150465,298.4037675846874L216.16377011925493,300.63175275966256L216.82043943398446,301.49949435412657L216.4451998255676,302.27342604648635L216.86734438503657,303.09426268989824M217.24258399345342,303.84474190673194L218.32139786765194,304.10271913751853L220.15069095868415,304.9704607319826L221.83926919656005,305.4395102425036L222.5428434623417,304.8531983543523L222.96498802181065,303.96200428436225L224.13761179811337,303.422597347263L225.07571081915552,303.5633122004193L225.5916652807287,304.17307656409673L226.24833459545823,305.158080536191L227.93691283333413,305.9320122285508L229.76620592436637,306.26034688591557L229.15644156068896,306.9170162006451L227.93691283333413,306.98737362722323L227.2802435186046,306.51832411670216L226.81119400808353,307.03427857827535L225.73238013388504,307.4564231377443L225.07571081915552,307.4095181866922L224.3252316023218,307.29225580906194L223.3402276302275,306.9170162006451L221.97998404971636,306.72939639643664L220.33831076289258,306.002369655129L219.02497213343355,305.29879538934733L217.24258399345342,303.84474190673194M372.9201165354009,130.0149933076186L375.4529838922148,129.78046855235803L377.4698967874554,129.75701607683197L377.7044215427159,130.1088032097228L378.4549007595497,129.8039210278841L379.6744294869045,129.56939627262352L381.644437431093,129.87427845446223L381.1284829695199,130.06189825867068L379.3929997805918,130.22606558735305L378.22037600428916,130.34332796498336L378.0327562000807,130.55440024471784L376.48489281536115,130.76547252445232L375.07774428379787,130.46059034261359L375.8282235006316,130.03844578314462L372.9201165354009,130.0149933076186M384.224209738959,138.92693400751915L387.31993650839814,137.7777627067425L386.9916018510334,137.19145081859114L389.89970881626414,136.4878765528095L394.168059362006,135.66703990939766L398.53021980985204,135.40906267861104L400.78165746035324,134.94001316808996L403.3145248171671,134.7523933638815L404.20571888715716,135.2683478254547L403.3145248171671,135.69049238492366L398.7178396140605,136.32370922412713L394.7309187746313,136.9569260633306L390.69709298415,138.19990726621148L388.7270850399614,139.46634094461842L386.71017214472073,140.70932214749928L386.9446968999813,141.78813602169777L389.4775642567952,142.86694989589625L388.6801800889093,142.9842122735265L384.4118295431674,142.82004494484414L384.0834948858027,142.2337330566928L381.73824733319725,141.88194592380196L381.55062752898885,141.17837165802035L382.86396615844785,140.89694195170773L382.8170612073958,140.1933676859261L385.39683351526173,139.06764886067546L384.224209738959,138.92693400751915M350.2181202261805,130.69511509787415L348.29501723304406,131.3986893636558L344.4957161978233,131.56285669233813L340.64951021155036,131.35178441260365L340.41498545628986,130.9765448041868L338.5387874142055,130.95309232866074L337.1316388826423,130.3667804405094L341.1654646731236,129.9915408320925L343.0416627152079,130.31987548945727L344.3550013446669,129.9211834055144L347.63834791831454,130.2495180628791L350.2181202261805,130.69511509787415M346.70024889727233,133.57976958757882L343.79214193204166,134.095724049152L341.49379933048834,133.81429434283936L342.38499340047844,133.46250720994857L341.6345141836447,133.04036265047958L344.30809639361485,132.78238541969296L344.82405085518803,133.27488740574012L346.70024889727233,133.57976958757882M334.22353191741155,131.21106955944734L334.73948637898474,130.76547252445232L336.6156844210691,130.7185675734002L338.2573577078929,131.16416460839525L342.57261320468683,132.12571610496343L339.28926663103925,132.64167056653662L338.5856923652576,133.60322206310485L337.4130685889549,133.86119929389145L336.8033042252775,134.94001316808996L335.2085358895058,134.98691811914205L332.4411437774314,134.18953395125624L333.61376755373414,133.72048444073516L331.6437596095456,133.3452448323183L329.11089225273173,132.24297848259374L328.12588828063747,131.2345220349734L331.6437596095456,130.76547252445232L332.39423882637936,131.21106955944734L334.22353191741155,131.21106955944734M213.0211383987637,225.58383107628924L212.5989938392947,225.2085914678724L212.31756413298206,224.50501720209076L212.64589879034682,224.15323006919994L212.31756413298206,224.0828726426218L212.08303937772152,223.63727560762675L211.42637006299202,223.28548847473596L210.8635106503667,223.3558459013141L210.58208094405404,223.8248954118352L210.06612648248085,224.15323006919994L209.7846967761682,224.20013502025205L209.6439819230119,224.45811225103867L210.2537462866893,225.16168651682028L209.92541162932454,225.32585384550265L209.73779182511612,225.53692612523716L209.1280274614387,225.58383107628924L208.89350270617817,224.80989938392946L208.70588290196974,225.04442413919003L208.28373834250075,224.9506142370858L208.04921358724022,224.4346597755126L207.48635417461492,224.3408498734084L207.15801951725012,224.20013502025205L206.8765898109375,224.20013502025205L206.59516010462485,224.20013502025205L206.5482551535727,224.4815647265647L206.40754030041643,224.29394492235627L205.7039660346348,223.98906274051757L205.42253632832214,223.73108550973097L205.61015613253056,223.49656075447044L205.56325118147845,223.2151310481578L205.1880115730616,222.88679639079302L204.6720571114884,222.62881916000643L204.20300760096734,222.46465183132406L204.15610264991523,222.08941222290719L203.78086304149832,221.85488746764665L203.87467294360255,222.2301270760635L203.640148188342,222.55846173342826L203.31181353097725,222.1832221250114L202.88966897150829,222.06595974738113L202.70204916729986,221.80798251659454L202.74895411835195,221.4092904326516L202.88966897150829,220.98714587318264L202.70204916729986,220.89333597107844L202.51442936309144,220.79952606897422L202.84276402045617,220.56500131371365L202.3737145099351,220.1428567542447L201.76395014625768,219.6269022926715L201.48252043994506,219.18130525767646L200.91966102731976,218.7591606982075L200.30989666364232,218.17284881005614L200.45061151679866,217.9852290058477L200.63823132100708,218.17284881005614L200.7320412231113,218.0790389079519L200.49751646785074,217.680346824009L200.30989666364232,217.60998939743084L200.1222768594339,217.56308444637875L199.98156200627756,217.86796662821743L199.23108278944383,217.84451415269137L198.76203327892276,217.72725177506112L198.19917386629746,217.46927454427453L197.49559960051585,217.3754646421703L197.12035999209897,217.1174874113837L196.46369067736944,216.88296265612314L195.6663065094836,216.8595101805971L195.0565421458062,216.60153294981052L194.35296788002458,216.06212601271125L192.8520094463571,214.65497748114802L192.19534013162757,214.23283292167906L191.1165262574291,213.90449826431427L190.4129519916475,213.9983081664185L189.38104306850107,214.4673576769396L188.72437375377157,214.6080725300959L187.7862747327294,214.2562853972051L186.80127076063513,214.02176064194455L185.58174203328034,213.41199627826717L184.59673806118604,213.22437647405872L183.1426845785707,212.63806458590736L182.0638707043722,212.0048477467039L181.73553604700743,211.65306061381307L180.9850568301737,211.58270318723493L179.67171820071468,211.16055862776597L179.10885878808938,210.57424673961458L177.70171025652613,209.82376752278086L177.04504094179663,209.002930879369L176.76361123548395,208.36971404016552L177.18575579495294,208.25245166253524L177.04504094179663,207.87721205411836L177.37337559916136,207.54887739675362L177.37337559916136,207.10328036175858L176.9043260886403,206.51696847360722L176.8105161865361,205.97756153650798L176.3883716270671,205.32089222177848L175.2157478507644,204.03100606784548L173.90240922130536,203.02254962022516L173.29264485762795,202.20171297681327L172.16692603237735,201.662306039714L171.93240127711678,201.35742385787532L172.12002108132523,200.56003968998948L171.4633517665957,200.25515750815077L170.66596759870987,199.6219406689473L170.33763294134513,198.70729412343118L169.6809636266156,198.59003174580093L168.88357945872977,197.90990995554534L168.27381509505238,197.27669311634187L168.22691014400024,196.87800103239897L167.52333587821863,195.8929970603047L167.05428636769756,194.88454061268436L167.10119131874964,194.39203862663723L166.1630922977075,193.87608416506404L165.6940427871864,193.92298911611613L164.99046852140478,193.5712019832253L164.75594376614424,194.11060892032458L164.99046852140478,194.720373284002L165.084278423509,195.70537725609626L165.55332793403008,196.2447841931955L166.53833190612434,197.13597826318556L166.7259517103328,197.44086044502427L166.91357151454122,197.5346703471285L167.10119131874964,197.98026738212351L167.33571607401018,197.95681490659746L167.61714578032283,198.8011040255354L167.9923853887397,199.12943868290017L168.27381509505238,199.59848819342125L169.0711992629382,200.25515750815077L169.5402487734593,201.47468623550557L169.91548838187614,202.03754564813087L170.29072799029302,202.6473100118083L170.33763294134513,203.3508842775899L170.94739730502252,203.39778922864204L171.51025671764782,203.98410111679337L171.9793062281689,204.57041300494473L171.93240127711678,204.80493776020526L171.36954186449148,205.27398727072637L171.13501710923094,205.27398727072637L170.8066824518662,204.47660310284053L169.96239333292826,203.72612388600677L169.02429431188608,203.0929070468033L168.36762499715655,202.76457238943857L168.41452994820867,201.8264733683964L168.18000519294813,201.12289910261478L167.57024082927072,200.70075454314582L166.67904675928068,200.1378951305205L166.49142695507223,200.3020624592029L166.1630922977075,199.95027532631207L165.36570812982166,199.64539314447336L164.61522891298793,198.89491392763964L164.70903881509213,198.77765155000935L165.22499327666532,198.84800897658752L165.7409477382385,198.37895946606645L165.78785268929062,197.7926475779151L164.75594376614424,196.8545485568729L164.00546454931052,196.50276142398212L163.53641503878944,195.68192478057023L163.0204605772162,194.83763566163228L162.45760116459093,193.78227426295982L161.89474175196563,192.60965048665713L161.70712194775717,191.9529811719276L160.86283282881925,191.20250195509385L160.25306846514184,191.03833462641148L160.1123536119855,190.66309501799464L159.36187439515177,190.59273759141644L158.8928248846307,190.24095045852565L157.67329615727587,190.12368808089536L157.34496149991114,189.91261580116088L157.2042466467548,189.20904153537927L155.93781296834786,187.89570290592022L154.8589990941494,186.066409814888L154.9059040452015,185.78498010857535L154.29613968152407,185.33938307358034L153.31113570942983,184.26056919938182L153.12351590522138,183.18175532518336L152.41994163943977,182.47818105940172L152.70137134575242,181.39936718520323L152.6544663947003,180.27364835995263L152.27922678628343,179.28864438785834L152.7482762968045,178.04566318497749L152.93589610101296,176.87303940867477L153.07661095416924,175.70041563237206L152.84208619890876,173.941479967918L152.41994163943977,172.83921361819347L152.0447020310229,172.22944925451606L152.23232183523132,171.97147202372946L154.10851987731564,172.41706905872445L154.81209414309726,173.63659778607928L155.14042880046202,173.30826312871454L154.9059040452015,172.22944925451606L154.48375948573252,171.17408785584362L154.29613968152407,171.15063538031754L151.76327232471024,169.88420170191063L150.82517330366807,169.32134228928533L148.47992575106264,168.78193535218608L147.77635148528105,167.63276405140942L147.91706633843734,166.83537988352361L146.27539305161358,166.27252047089831L146.040868296353,165.21715907222585L144.44609996058136,164.27906005118368L144.44609996058136,163.5989382609281L143.7425256947997,163.106436274881L142.569901918497,162.70774419093806L142.19466231008013,161.55857289016143L140.50608407220423,160.50321149148897L139.80250980642262,159.28368276413414L138.58298107906782,159.18987286202997L136.519163232775,159.1664203865039L134.97129984805548,158.791180778087L132.2977176380853,157.43093719757587L131.03128395967835,157.1964124423153L128.73294135812506,156.72736293179423L126.95055321814496,156.84462530942452L124.37078091027897,156.23486094574713L122.8229175255594,155.67200153312183L121.41576899399615,155.95343123943445L121.65029374925672,156.8680777849506L120.94671948347505,156.9384352115287L119.44576104980763,157.2198649178414L118.27313727350489,157.66546195283644L116.86598874194163,157.92343918362303L116.67836893773321,157.17295996678928L117.24122835035851,155.8830738128563L118.64837688192176,155.48438172891338L118.27313727350489,155.15604707154864L116.6314639866811,155.8830738128563L115.74026991669106,156.75081540732032L113.86407187460674,157.68891442836247L114.80217089564891,158.32213126756594L113.58264216829409,159.23677781308206L112.1754936367308,159.79963722570733L110.86215500727178,160.1983293096503L110.53382034990705,160.76118872227556L108.51690745466635,161.44131051253112L108.09476289519736,162.0510748762086L106.59380446152994,162.61393428883386L105.6557054404878,162.49667191120358L104.48308166418505,162.87191151962043L103.12283808367391,163.31750855461547L102.04402420947542,163.73965311408446L99.83949151002633,164.11489272250134L99.6049667547658,163.90382044276686L101.05902023738116,163.29405607908942L102.3254539157881,162.8953639951465L103.68569749629924,162.19178972936487L105.327370783123,162.0276224006825L105.9840400978525,161.48821546358323L107.76642823783266,160.71428377122345L108.04785794414528,160.45630654043688L109.03286191623957,159.98725702991578L109.2673866715001,159.00225305782152L109.92405598622963,158.25177384098777L108.42309755256215,158.62701344940461L108.00095299309316,158.41594116967013L107.29737872731158,158.88499068019127L106.45308960837363,158.22832136546174L106.07784999995678,158.6973708759828L105.60880048943571,158.0407015612533L104.2954618599766,158.55665602282647L103.49807769209079,158.55665602282647L103.35736283893445,157.7827243304667L103.59188759419501,157.31367481994562L102.79450342630918,156.84462530942452L101.05902023738116,157.10260254021114L99.98020636318267,156.49283817653372L99.08901229319261,156.16450351916896L99.08901229319261,155.4374767778613L98.0571033700462,154.87461736523596L98.57305783161945,154.12413814840227L99.65187170581788,153.39711140709454L100.12092121633899,152.74044209236507L101.15283013948536,152.64663219026085L102.04402420947542,152.85770446999533L103.12283808367391,152.22448763079188L104.06093710471609,152.34175000842214L105.04594107681035,151.91960544895315L104.81141632154981,151.3332935608018L104.06093710471609,151.09876880554128L105.04594107681035,150.5828143439681L104.24855690892451,150.60626681949412L102.84140837736129,150.8876965258068L102.46616876894441,151.16912623211942L101.43425984579798,150.8876965258068L99.6049667547658,151.02841137896309L97.68186376162936,150.72352919712438L97.11900434900406,150.20757473555122L95.47733106218027,149.4570955187175L97.30662415321248,148.8942361060922L100.21473111844321,148.26101926688872L101.2935449926417,148.26101926688872L101.10592518843328,148.91768858161822L103.87331730050767,148.8707836305661L102.79450342630918,148.04994698715421L101.1997350905375,147.5574450011071L100.26163606949532,146.90077568637756L99.04210734214053,146.3613687492783L97.25971920216037,145.93922418980935L97.96329346794201,145.25910239955377L100.26163606949532,145.21219744850166L101.90330935631911,144.6258855603503L102.23164401368385,143.99266872114686L103.54498264314287,143.3594518819434L104.85832127260193,143.21873702878707L107.29737872731158,142.6324251406357L108.51690745466635,142.72623504273992L110.4869153988549,142.04611325248436L112.45692334304346,142.30409048327095L113.44192731513775,142.8904023714223L114.00478672776305,142.65587761616177L116.20931942721214,142.72623504273992L116.11550952510794,143.03111722457862L118.13242242034858,143.2421895043131L119.44576104980763,143.12492712668285L122.21315316188199,143.52361921062578L124.69911556764373,143.64088158825604L125.68411953973802,143.82850139246446L127.41960272866604,143.61742911272995L129.3896106728546,143.99266872114686L130.84366415546992,144.1802885253553L133.23581665912747,144.485170707194L135.29963450542022,145.11838754639746L136.65987808593135,145.23564992402774L137.78559691118198,144.6962429869285L139.38036524695363,144.29755090298556L141.30346824009007,144.4382657561419L143.27347618427862,143.8754063435166L145.3841989816235,143.54707168615184L146.32229800266566,144.08647862325108L147.26039702370784,143.78159644141238L147.54182673002046,143.17183207773496L148.47992575106264,143.31254693089127L150.68445845051176,144.485170707194L152.41994163943977,143.59397663720392L152.56065649259608,144.57898060929818L154.15542482836776,144.3679083295637L154.67137928994094,143.99266872114686L156.26614762571265,144.063026147725L158.2361555699012,144.6258855603503L161.28497738828824,145.09493507087137L163.0673655282683,145.30600735060585L164.3807041577274,145.23564992402774L166.11618734665538,145.89231923875724L164.28689425562317,146.54898855348677L166.63214180822857,146.80696578427336L170.1500131371367,146.66625093111702L171.27573196238728,146.43172617585645L172.63597554289845,147.20565786821624L174.0900290255138,146.54898855348677L172.72978544500265,146.0095816163875L173.5740745639406,145.5639845813925L175.16884289971227,145.4936271548143L176.20075182285868,145.37636477718405L177.27956569705717,145.68124695902276L178.5929043265162,146.38482122480437L180.04695780913156,146.29101132270017L182.34530041068484,146.87732321085153L184.3622133059255,146.66625093111702L186.23841134800986,146.68970340664308L186.0976964948535,145.89231923875724L187.2703202711562,145.65779448349673L189.28723316639685,146.10339151849172L189.28723316639685,147.32292024584655L190.0846173342827,146.29101132270017L191.1634312084812,146.33791627375228L191.7262906211065,145.02457764429323L190.31914208954328,144.20374100088134L188.81818365587577,143.68778653930815L188.91199355798,142.25718553221884L190.4598569426996,141.2956340356506L192.19534013162757,141.5067063153851L193.50867876108663,142.09301820353647L195.29106690106676,143.54707168615184L194.11844312476404,144.20374100088134L196.55750057947364,144.46171823166793L196.51059562842156,145.798509336653L198.29298376840168,144.76660041350664L199.84084715312125,145.61088953244462L199.41870259365226,146.5724410290128L200.6851362720592,147.4636350990029L202.04537985257036,146.50208360243465L203.0303838246646,145.3998172527101L203.07728877571674,143.9692162456208L204.95348681780106,144.063026147725L206.8765898109375,144.25064595193345L208.61207299986552,144.90731526666298L208.70588290196974,145.54053210586642L207.72087892987545,146.24410637164806L208.6589779509176,146.9242281619036L208.47135814670918,147.5574450011071L205.93849078989533,148.47209154662323L204.1091976988631,148.6831638263577L202.74895411835195,148.28447174241475L202.3737145099351,148.9411410571443L201.10728083152816,150.04340740686882L200.7320412231113,150.60626681949412L199.23108278944383,151.49746088948416L197.3548847473595,151.56781831606236L196.32297582421313,152.13067772868763L196.2291659221089,152.97496684762558L194.72820748844146,153.13913417630795L193.13343915266975,154.1944955749804L191.7262906211065,155.67200153312183L191.2103361595333,156.68045798074215L191.1634312084812,158.20486888993565L193.03962925056553,158.41594116967013L193.64939361424297,159.63546989702496L194.25915797792035,160.62047386911928L196.08845106895257,160.3624966383327L198.4806035726101,160.92535605095796L199.79394220206913,161.44131051253112L200.7320412231113,162.0510748762086L202.3737145099351,162.40286200909935L203.73395809044624,162.94226894619862L205.8915858388432,163.03607884830282L207.29873437040646,163.1533412259331L207.111114566198,164.27906005118368L207.48635417461492,165.59239868064276L208.47135814670918,167.0464521632581L210.39446113984562,168.28943336613895L211.3794651119399,167.86728880667L212.08303937772152,166.5304977016849L211.42637006299202,164.46667985539213L210.48827104194982,163.78655806513657L212.5989938392947,163.17679370145913L214.05304732191007,162.26214715594307L214.80352653874382,161.34750061042695L214.66281168558746,160.4797590159629L213.7716176155974,159.37749266623837L212.22375423087786,158.3924886941441L213.7247126645453,157.03224511363297L213.16185325192,155.8361688618042L212.73970869245102,153.81925596656353L213.63090276244108,153.51437378472482L215.88234041294228,153.86616091761562L217.24258399345342,153.9834232952459L218.32139786765194,153.65508863788114L219.49402164395462,154.10068567287618L221.1356949307784,154.85116488970993L221.51093453919526,155.3436668757571L223.8561820918007,155.46092925338732L223.80927714074858,156.53974312758584L224.23142170021757,158.18141641440963L225.40404547652028,158.3924886941441L226.38904944861457,159.1664203865039L228.26524749069887,158.43939364519622L229.4847762180537,157.0087926381069L230.37597028804376,156.39902827442953L231.36097426013802,157.54819957520618L233.04955249801392,159.213325337556L234.5036059806293,160.78464119780165L233.9876515190561,161.6054778412135L235.7231347079841,162.3325045825212L236.89575848428683,163.08298379935493L238.95957633057958,163.4113184567197L239.80386544951753,163.83346301618866L240.3198199110907,164.9357293659132L241.3517288342371,165.0998966945956L241.8676832958103,165.59239868064276L241.9614931979145,167.06990463878415L241.02339417687233,167.56240662483125L240.08529515583018,168.00800365982633L237.9276674074332,168.4770531703474L236.28599412060942,169.5558670445459L234.08146142116033,169.76693932428037L231.31406930908594,169.48550961796772L229.34406136489739,169.46205714244167L227.98381778438625,169.5558670445459L226.90500391018776,170.49396606558804L225.26333062336394,171.08027795373943L223.38713258127962,172.79230866714133L221.88617414761217,174.01183739449615L222.96498802181065,173.77731263923565L225.07571081915552,172.06528192583366L227.7961979801778,170.9864680516352L229.76620592436637,170.86920567400495L230.89192474961695,171.5024225132084L229.67239602226215,172.37016410767237L230.0945405817311,173.77731263923565L230.51668514120007,174.7623166113299L232.20526337907597,175.41898592605943L234.36289112747295,175.23136612185098L235.676229756932,173.75386016370956L235.77003965903623,174.69195918475174L236.56742382692204,175.18446117079887L234.97265549115036,176.02875028973682L232.11145347697175,176.80268198209663L230.79811484751275,177.34208891919585L229.34406136489739,178.28018794023805L228.3590573928031,178.16292556260777L228.31215244175098,177.06065921288322L230.56359009225218,176.0052978142108L228.49977224595943,176.02875028973682L227.04571876334407,176.1929176184192L227.2802435186046,176.61506217788818L225.87309498704138,177.24827901709165L224.51285140653022,177.6938760520867L223.15260782601908,178.09256813602957L222.44903356023747,178.86649982838935L222.26141375602901,179.14792953470203L222.2145088049769,179.85150380048367L222.683558315498,180.53162559073922L223.19951277707116,180.57853054179134L223.05879792391488,180.08602855574418L223.43403753233173,180.3909107375829L223.3402276302275,180.7661503459998L222.44903356023747,180.97722262573427L221.83926919656005,180.93031767468213L220.90117017551788,181.1648424299427L220.33831076289258,181.23519985652086L219.54092659500674,181.305557283099L218.46211272080825,181.68079689151585L220.3852157139447,181.42281966072926L220.76045532236157,181.68079689151585L218.93116223132932,182.07948897545882L218.1337780634435,182.07948897545882L218.1337780634435,181.91532164677642L217.7585384550266,182.26710877966724L218.1337780634435,182.3374662062454L217.85234835713084,183.27556522728756L216.9142493360887,184.26056919938182L216.82043943398446,183.93223454201708L216.53900972767178,183.86187711543892L216.11686516820282,183.53354245807415L216.3513899234634,184.2371167238558L216.67972458082812,184.4716414791163L216.72662953188023,184.96414346516346L216.30448497241127,185.48009792673662L215.55400575557755,186.51200684988305L215.46019585347332,186.4651018988309L215.8354354618902,185.57390782884087L215.17876614716067,185.08140584279374L215.03805129400433,184.00259196859523L214.80352653874382,184.56545138122056L215.03805129400433,185.38628802463245L214.19376217506638,185.17521574489794L215.08495624505645,185.59736030436693L215.13186119610856,186.84034150724779L215.5071008045254,186.934151409352L215.64781565768175,187.37974844434706L215.8354354618902,188.69308707380605L215.03805129400433,189.6546385703743L213.67780771349322,190.02987817879114L212.83351859455524,190.80380987115095L212.17684927982572,190.89761977325517L211.52017996509622,191.36666928377625L211.3325601608878,191.81226631877126L209.8785066782724,192.65655543770922L209.1280274614387,193.26631980138663L208.5182630977613,194.04025149374644L208.33064329355284,194.95489803926253L208.5651680488134,195.86954458477865L208.98731260828237,196.99526341002922L209.59707697195978,197.90990995554534L209.59707697195978,198.47276936817065L210.2068413356372,199.9737278018381L210.15993638458508,200.86492187182816L210.11303143353297,201.35742385787532L209.7846967761682,202.15480802576116L209.40945716775133,202.31897535444352L208.75278785302183,202.1782605012872L208.5651680488134,201.59194861313586L208.04921358724022,201.28706643129715L207.34563932145858,200.1848000815726L206.73587495778116,199.17634363395226L206.5482551535727,198.6603891723791L206.8296848598854,197.81610005344115L206.4544452514685,197.08907331213345L205.42253632832214,196.01025943793496L204.95348681780106,195.79918715820048L203.640148188342,196.38549904635184L203.40562343308147,196.31514161977367L202.74895411835195,195.7288297316223L201.95156995046614,195.40049507425755L200.45061151679866,195.56466240293992L199.32489269154806,195.4239475497836L198.33988871945377,195.49430497636178L197.77702930682847,195.70537725609626L198.01155406208903,196.05716438898708L198.01155406208903,196.57311885056026L198.24607881734954,196.83109608134686L198.01155406208903,197.0187158855553L197.54250455156796,196.8076436058208L197.02655008999477,197.0656208366074L196.08845106895257,197.0187158855553L195.15035204791042,196.33859409529973L193.9777282716077,196.50276142398212L193.03962925056553,196.19787924214342L192.2422450826797,196.29168914424764L191.1165262574291,196.59657132608632L189.94390248112643,197.55812282265455L188.6774688027195,198.12098223527983L187.92698958588574,198.7541990744833L187.6455598795731,199.34051096263465L187.6455598795731,200.23170503262472L187.6924648306252,200.86492187182816L187.92698958588574,201.28706643129715L187.45794007536466,202.4362377320738L187.22341532010412,203.37433675311598L187.1296054179999,205.13327241757003L186.9888905648436,205.7664892567735L187.22341532010412,206.4700635225551L187.6455598795731,207.10328036175858L187.88008463483362,208.1117368093789L188.7712787048237,209.0967407814732L189.05270841113634,209.82376752278086L189.56866287270952,210.48043683751038L190.92890645322066,210.80877149487515L191.49176586584596,211.37163090750045L192.61748469109654,210.99639129908357L193.60248866319085,210.85567644592723L194.58749263528512,210.6211516906667L195.43178175422307,210.4100794109322L196.2291659221089,209.87067247383297L196.55750057947364,209.12019325699924L196.65131048157787,208.0179269072747L196.88583523683843,207.64268729885782L197.77702930682847,207.290900165967L199.13727288733963,207.00947045965435L200.30989666364232,207.0329229351804L201.10728083152816,206.9391130330762L201.38871053784084,207.22054273938886L201.34180558678872,207.83030710306625L200.63823132100708,208.60423879542606L200.35680161469446,209.40162296331187L200.591326369955,209.63614771857243L200.40370656574657,210.19900713119773L200.07537190838178,211.20746357881805L199.74703725101705,210.87912892145332L199.46560754470437,210.90258139697937L199.46560754470437,211.0902012011878L199.7001322999649,211.0902012011878L199.7001322999649,211.4419883340786L199.46560754470437,212.0048477467039L199.6063223978607,212.2159200264384L199.46560754470437,212.68496953695947L199.5594174468086,212.80223191458975L199.37179764260017,213.45890122931925L199.13727288733963,213.81068836221007L198.90274813207907,213.85759331326219L198.62131842576645,214.3031903482572L199.09036793628752,214.53771510351774L199.18417783839175,214.35009529930932L199.6063223978607,214.51426262799168L199.7001322999649,214.5611675790438L199.98156200627756,214.32664282378326L200.35680161469446,214.3031903482572L200.49751646785074,214.4204527258875L200.6851362720592,214.35009529930932L201.2949006357366,214.4673576769396L201.90466499941402,214.44390520141354L202.32680955888299,214.3031903482572L202.46752441203932,214.13902301957484L202.88966897150829,214.209380446153L203.17109867782094,214.3031903482572L203.5463382862378,214.27973787273115L203.78086304149832,214.16247549510086L204.39062740517576,214.35009529930932L204.5782472093842,214.37354777483537L205.00039176885315,214.6080725300959L205.37563137727005,214.91295471193462L205.84468088779113,215.10057451614304L206.17301554515586,215.45236164903386L206.07920564305164,215.59307650219017L205.98539574094744,215.87450620850285L206.12611059410375,216.36700819454998L205.84468088779113,216.78915275401894L205.7039660346348,217.3285596911182L205.65706108358268,217.8914191037435L205.7039660346348,218.2432062366343L205.7508709856869,218.82951812478566L205.56325118147845,218.94678050241592L205.42253632832214,219.50963991504122L205.51634623042634,219.86142704793204L205.23491652411371,220.1897617052968L205.3287264262179,220.54154883818762L205.51634623042634,220.7526211179221L205.61015613253056,220.94024092213053L205.84468088779113,221.45619538370372L206.3606353493643,221.97214984527693L206.9703997130417,222.5350092579022M206.9703997130417,222.5350092579022L207.4394492235628,223.0040587684233L207.3925442725107,223.28548847473596L207.90849873408388,223.33239342578804L208.04921358724022,223.23858352368384L208.42445319565707,223.54346570552255L209.03421755933448,223.44965580341832L209.59707697195978,223.12132114605356L210.39446113984562,222.86334391526697L210.8166056993146,222.4881043068501L211.56708491614833,222.55846173342826L211.52017996509622,222.67572411105854L212.22375423087786,222.72262906211063L212.78661364350313,222.9571538173712L213.25566315402423,223.3558459013141L213.7247126645453,223.70763303420492M221.0887899797263,209.30781306120767L221.22950483288264,209.0967407814732L221.51093453919526,209.07328830594713L222.26141375602901,209.0967407814732L223.01189297286277,209.42507543883795L223.38713258127962,209.40162296331187L223.62165733654015,209.87067247383297L224.3252316023218,209.8472199983069L224.27832665126965,210.2224596067238L224.84118606389495,210.2693645577759L225.49785537862448,210.76186654382303L225.0288058681034,211.27782100539622L224.37213655337388,210.99639129908357L223.80927714074858,211.04329625013568L223.38713258127962,210.99639129908357L223.15260782601908,211.2309160543441L222.63665336444592,211.30127348092228L222.44903356023747,210.99639129908357L221.97998404971636,211.184011103292L221.46402958814318,212.07520517328206L221.1356949307784,211.86413289354758L221.0887899797263,211.4888932851307L220.19759590973626,211.27782100539622L219.58783154605885,211.37163090750045L218.790447378173,211.25436852987016L218.18068301449557,211.51234576065679L217.477108748714,211.11365367671385L217.61782360187027,210.69150911724486L218.790447378173,210.85567644592723L219.7754513502673,210.9729388235575L220.24450086078838,210.6680566417188L219.68164144816308,210.1051972290935L219.68164144816308,209.61269524304637L218.8373523292251,209.42507543883795L219.1656869865899,209.04983583042107L219.9630711544757,209.12019325699924L221.0887899797263,209.30781306120767M333.70757745583836,185.31593059805425L334.73948637898474,185.19866822042403L334.27043686846366,186.20712466804434L334.4580566726721,186.6292692275133L334.17662696635944,187.28593854224283L333.1916229942652,186.79343655619567L332.53495367953565,186.65272170303936L330.70566058850346,185.99605238830983L330.89328039271186,185.33938307358034L332.39423882637936,185.4566454512106L333.70757745583836,185.31593059805425M363.3984114718229,176.82613445762266L364.8993699054904,177.31863644366982L366.5410431923142,178.42090279339436M486.9460525430762,191.41357423482836L487.6496268088579,190.6161900669425L488.40010602569157,190.7803573956249L488.9629654383168,190.24095045852565L489.901064459359,190.5223801648383L490.08868426356753,190.96797719983334L489.3382050467337,191.74190889219312L488.82225058516053,191.31976433272413L488.1186763193789,191.62464651456284L487.79034166201416,192.39857820692262L486.9460525430762,192.02333859850575L486.9460525430762,191.41357423482836M293.3224145999731,210.12864970461956L293.1816997468168,209.47198038989006L293.275509648921,208.81531107516054L292.94717499155627,208.20554671148312L292.2905056768267,207.64268729885782L292.33741062787885,207.07982788623252L292.38431557893097,206.4935159980812L292.90027004050415,206.14172886519037L293.3224145999731,205.4616070749348L293.2286046978689,205.01601003993974L293.69765420838996,204.10136349442365L294.4012284741716,203.2570743754857L294.82337303364056,203.04600209575122L295.1986126420574,202.29552287891747L295.1986126420574,201.59194861313586L295.6676621525785,200.79456444525002L296.5588562225686,200.32551493472891L297.40314534150656,198.98872382974383L298.05981465623603,198.47276936817065L299.27934338359086,198.3320545150143L300.31125230673723,197.44086044502427L300.96792162146676,197.08907331213345L302.04673549566525,196.01025943793496L301.7184008383005,194.39203862663723L302.1874503488216,193.26631980138663L302.37507015303004,192.58619801113107L303.21935927196796,191.69500394114098L304.532697901427,191.10869205298965L305.5177018735213,190.5692851158904L306.3619909924592,189.20904153537927L306.78413555192816,188.41165736749343L307.72223457297036,188.41165736749343L308.5196187408562,188.9745167801187L309.739147468211,188.8807068780145L311.09939104872217,189.16213658432716L311.66225046134747,189.1855890598532L312.9286841397544,188.48201479407157L314.33583267131763,188.24749003881104L315.13321683920344,187.7080831017118L316.3996505176104,187.30939101776886L318.60418321705953,187.07486626250832L320.7618109654565,186.98105636040412L321.418480280186,187.16867616461255L322.6380090075408,186.65272170303936L324.0451575391041,186.65272170303936L324.56111200067727,186.934151409352L325.4523060706673,186.86379398277384L326.90635955328264,186.34783952120065L327.79755362327273,186.488554374357L327.75064867222056,187.1452236890865L328.8763674974712,186.67617417856542L328.9701773995754,186.934151409352L328.3135080848459,187.56736824855548L328.3135080848459,188.17713261223287L328.7356526443149,188.48201479407157L328.5949377911586,189.60773361932218L327.7037437211685,190.2644029340517L327.98517342748113,190.99142967535937L328.64184274221066,191.01488215088543L328.9701773995754,191.62464651456284L329.48613186114864,191.83571879429732L330.9870902948161,192.28131582929234L331.5499497074414,192.16405345166208L332.6287635816399,192.37512573139657L334.3642467705679,192.96143761954795L334.9740111342453,194.13406139585064L336.146634910548,194.36858615111117L337.9759280015802,194.93144556373647L339.3830765331435,195.56466240293992L339.9928408968209,195.23632774557518L340.60260526049825,194.62656338189777L340.32117555418563,193.6415594098035L340.7433201136546,193.00834257060004L341.6814191346968,192.39857820692262L342.57261320468683,192.2109584027142L344.30809639361485,192.4689356335008L344.7771459041359,193.05524752165215L345.246195414657,193.05524752165215L345.66833997412596,193.2897722769127L346.981678603585,193.43048713006903L347.26310830989763,193.87608416506404L348.99859149882565,193.852631689538L350.2650251772326,194.2044188224288L351.57836380669164,194.57965843084565L352.18812817036905,194.79073071058014L353.1731321424633,194.36858615111117L353.6890866040365,193.99334654269433L354.8617103803392,193.8995366405901L355.79980940138137,194.06370396927247L356.12814405874616,194.69692080847594L356.4564787161109,194.27477624900695L357.48838763925727,194.57965843084565L358.52029656240364,194.65001585742382L359.13006092608106,194.32168120005906L359.50530053449796,193.8995366405901L359.4114906323937,193.82917921401193L359.7867302408106,193.21941485033452L360.02125499607115,192.23441087824023L360.20887480027955,191.9060762208755L360.25577975133166,191.88262374534943L360.72482926185273,190.827262346677L361.38149857658226,189.91261580116088L361.38149857658226,189.86571085010877L361.28768867447803,188.85725440248845L361.6160233318428,188.34129994091523L361.10006887026964,187.73153557723785L361.6160233318428,187.26248606671678L360.81863916395696,187.356295968821L359.73982528975847,187.07486626250832L358.84863121976844,187.80189300381602L356.83171832452774,187.9660603324984L355.79980940138137,187.26248606671678L354.3926608698181,187.21558111566466L354.11123116350547,187.7549880527639L353.1731321424633,187.91915538144627L351.9536034151085,187.21558111566466L350.49954993249315,187.23903359119072L349.7490707156594,185.94914743725775L348.76406674356514,185.22212069595005L349.4207360582946,184.21366424832974L348.5764469393567,183.58044740912624L350.0305004219721,182.3374662062454L352.0474133172127,182.2905612551933L352.610272729838,181.305557283099L355.0962351355997,181.46972461178137L356.64409852031935,180.62543549284345L358.1450569539868,180.25019588442657L360.3026847023838,180.22674340890052L362.6010273039371,181.1413899544166L364.47722534602144,181.65734441598983L365.9781837796889,181.44627213625535L367.1039026049395,181.5635345138856L368.65176598965905,180.88341272363002L368.8393857938675,180.32055331100474L368.5110511365027,179.45281171654074L367.76057191966896,178.9603097304936L367.01009270283527,178.81959487733727L366.5410431923142,178.42090279339436L364.8993699054904,177.31863644366982L363.3984114718229,176.82613445762266L362.2726926465723,176.0522027652629L363.2107916676145,175.8411304855284L364.289605541813,174.7623166113299L363.58603127603135,174.24636214975672L365.5091342691678,173.70695521265748L365.4622293181157,173.4255255063448L364.289605541813,173.63659778607928L363.2576966186666,173.73040768818353L362.41340749972863,174.1525522476525L361.19387877237386,174.22290967423064L360.0681599471232,174.7154116602778L360.1150648981753,175.53624830368966L360.77173421290485,175.8411304855284L362.0850728423639,175.77077305895023L361.85054808710333,176.21637009394527L360.396494604488,176.45089484920578L358.66101141556,177.20137406603953L357.9105321987263,176.94339683525294L358.1919619050389,176.33363247157553L356.78481337347563,175.95839286315865L357.0193381287362,175.70041563237206L358.238866856091,175.25481859737704L357.8636272476742,174.9733888910644L355.8467143524335,174.64505423369963L355.75290445032925,174.1525522476525L354.58028067402654,174.3167195763349L354.06432621245335,175.0202938421165L353.0793222403591,175.9818453386847L353.0793222403591,176.33363247157553L352.4695578766817,176.61506217788818L352.0474133172127,176.4977998002579L351.7190786598479,178.06911566050354L351.0155043940663,178.60852259760276L350.5464548835452,179.52316914311888L350.9685994430142,180.27364835995263L351.10931429617057,180.7661503459998L352.2819380724732,181.18829490546875L352.0474133172127,181.5166295628335L350.49954993249315,181.58698698941166L349.93669051986785,181.98567907335456L348.8578766456693,182.6892533391362L348.43573208620035,182.07948897545882L348.43573208620035,181.82151174467222L347.63834791831454,181.77460679362008L346.981678603585,181.65734441598983L345.38691026781333,181.98567907335456L346.27810433780337,182.7361582901883L345.62143502307384,182.9472305699228L344.91786075729226,182.9472305699228L344.2142864915106,182.26710877966724L343.97976173625005,182.5485384859799L344.26119144256273,183.32247017833964L344.91786075729226,183.93223454201708L344.4488112467712,184.2371167238558L345.15238551255277,184.82342861200715L345.8090548272823,185.19866822042403L345.8090548272823,185.94914743725775L344.6364310509796,185.59736030436693L345.0116706593965,186.25402961909643L344.1673815404585,186.39474447225277L344.6833360020317,187.54391577302943L343.79214193204166,187.56736824855548L342.7133280578431,187.00450883593018L342.24427854732204,185.94914743725775L342.00975379206153,185.08140584279374L341.49379933048834,184.49509395464239L340.8371300157588,183.74461473780863L340.7433201136546,183.36937512939176L340.5087953583941,183.27556522728756L340.5087953583941,182.9941355209749L339.80522109261244,182.57199096150592L339.6645062394561,181.93877412230245L339.75831614156033,181.0475800523124L339.9459359457688,180.6488879683695L339.75831614156033,180.43781568863503L339.4768864352477,180.3440057865308L339.1016468268308,179.9218612270618L338.5387874142055,179.66388399627522L337.3192586868507,179.1713820102281L336.568779470017,178.702332499707L335.34925074266215,178.32709289129014L334.27043686846366,177.3655413947219L334.55186657477634,177.2717314926177L333.94210221109887,176.70887207999237L333.89519726004676,176.2867275205234L333.09781309216095,176.07565524078893L332.675668532692,176.63851465341423L332.3004289242751,176.1929176184192L332.3004289242751,175.74732058342417L332.34733387532725,175.7238681078981L332.675668532692,175.60660573026786L331.6437596095456,175.41898592605943L330.5649457353471,175.8880354365805L330.6118506863992,176.52125227578398L330.4711358332429,176.89649188420083L330.89328039271186,177.55316119893033L332.1128091200667,178.20983051365988L332.7694784347962,179.28864438785834L334.22353191741155,180.3440057865308L335.2554408405579,180.3440057865308L335.58377549792266,180.62543549284345L335.2085358895058,180.88341272363002L336.3811596658085,181.35246223415112L337.3192586868507,181.75115431809405L338.4449775121013,182.4312761083496L338.5856923652576,182.66580086361017L338.3511676099971,183.13485037413125L337.60068839316335,182.52508601045383L336.47496956791275,182.31401373071932L335.91211015528745,183.15830284965728L336.8502091763296,183.62735236017835L336.7094943231733,184.30747415043396L336.19353986160013,184.40128405253816L335.4899655958185,185.5035504022627L334.9271061831932,185.62081277989296L334.9271061831932,185.22212069595005L335.2085358895058,184.51854643016844L335.4899655958185,184.2371167238558L334.9740111342453,183.48663750702204L334.5987715258284,182.8299681922925L334.03591211320315,182.66580086361017L333.66067250478625,182.10294145098484L332.8163833858483,181.86841669572433L332.25352397322297,181.32900975862506L331.2685200011287,181.2586523320469L330.28351602903444,180.67234044389554L329.0639873016797,179.82805132495758L328.1727932316896,179.07757210812386L327.79755362327273,177.7876859541909L327.1408843085432,177.6235186255085L326.0620704343447,177.20137406603953L325.4992110217194,177.3655413947219L324.74873180488567,177.97530575839932L324.18587239226036,178.06911566050354L323.01324861595765,178.81959487733727L320.4334763080917,178.46780774444647L318.55727826600736,178.88995230391544L318.36965846179896,179.66388399627522L318.46346836390313,180.41436321310894L317.2439396365483,181.28210480757298L315.55536139867246,181.5635345138856L315.46155149656823,182.00913154888065L314.61726237763025,182.7361582901883L314.1482128671092,183.79151968886075L314.66416732868237,184.54199890569447L313.9136881118486,185.10485831831977L313.632258405536,185.94914743725775L312.64725443344173,186.23057714357037L311.7091554123996,187.21558111566466L310.0674821255758,187.23903359119072L308.80104844716885,187.21558111566466L308.003664279283,187.68463062618574L307.4877098177098,188.17713261223287L306.8779454540324,188.0598702346026L306.3619909924592,187.61427319960757L305.98675138404235,186.86379398277384L304.7672226566875,186.67617417856542L304.25126819511433,187.00450883593018L303.59459888038486,186.81688903172173L302.8910246146032,186.95760388487807L303.12554936986373,185.94914743725775L302.9848345167074,185.1517632693719L302.42197510408215,185.03450089174163L302.09364044671736,184.54199890569447L302.1874503488216,183.67425731123046L302.7034048103948,183.2052078007094L302.797214712499,182.6892533391362L303.0786444188116,181.89186917125036L303.0317394677595,181.35246223415112L302.797214712499,180.88341272363002L302.75030976144683,180.43781568863503L302.797214712499,179.49971666759282L302.28126025092575,178.93685725496755L304.11055334195805,177.99875823392537L305.7053216777297,178.2332829891859L307.44080486665774,178.2332829891859L308.84795339822097,178.4443552689204L309.92676727241945,178.39745031786828L312.0374900697643,178.42090279339436L312.69415938449384,177.64697110103458L312.9286841397544,175.04374631764256L311.61534551029536,173.68350273713142L310.63034153820104,173.0268334224019L308.6603335940125,172.53433143635476L308.5196187408562,171.57277993978653L310.2081969787321,171.2913502334739L312.4127296781812,171.61968489083867L311.9905851187122,170.14217893269725L313.21011384606703,170.70503834532252L316.2589356644541,169.6965818977022L316.63417527287095,168.6177680235037L317.75989409812155,168.3597907927171L318.83870797232004,168.1018135619305L319.49537728704956,167.75002642903974L320.6210961123001,165.82692343590327L322.4034842522803,165.287516498804L323.4822981264787,165.3344214498561L323.7637278327914,165.0529917435435L324.8425417069899,164.98263431696532L325.0770664622504,165.26406402327797L325.9682605322405,164.63084718407453L325.68683082592787,164.13834519802737L325.5930209238236,163.3878659811936L325.0770664622504,162.66083923988595L325.03016151119834,161.34750061042695L325.26468626645885,160.99571347753613L325.6399258748757,160.5970213935932L326.7656447001263,160.526663967015L327.2346942106474,160.15142435859818L328.2666031337938,159.79963722570733L328.2196981827417,160.45630654043688L327.84445857432485,160.87845109990585L328.03207837853324,161.25369070832272L328.7356526443149,161.44131051253112L328.4073179869501,161.93381249857828L328.03207837853324,161.79309764542194L327.0939793574911,162.73119666646414L327.42231401485583,163.36441350566759L327.46921896590794,163.88036796724077L328.782557595367,164.18525014907948L328.7356526443149,164.63084718407453L330.095896224826,164.39632242881396L330.79947049060763,164.04453529592314L332.3004289242751,164.56048975749633L332.91019328795255,164.95918184143926L333.8013873579426,164.5839422330224L335.8183002531832,163.974177869345L337.459973540007,163.52858083434995L338.77331216946607,163.7631055896105L338.8671220715703,164.06798777144917L340.1335557499772,164.09144024697525L340.41498545628986,163.52858083434995L342.1973735962699,163.106436274881L341.9159438899573,162.00416992515648L341.9628488410094,161.01916595306216L342.61951815573894,160.1983293096503L343.8390468830938,159.75273227465524L344.87095580624015,160.7377362467495L345.9028647293865,160.71428377122345L346.1842944356992,159.70582732360313L346.3250092888555,158.93189563124335L345.8559597783344,159.09606295992575L345.0116706593965,158.6504659249307L344.91786075729226,157.89998670809695L346.55953404411605,157.5247470996801L348.20120733093984,157.33712729547167L349.60835586250306,157.54819957520618L350.9685994430142,157.5247470996801L352.42265292562956,156.79772035837243L351.0624093451184,156.18795599469502L348.717161792513,156.28176589679924L346.4188191909597,156.75081540732032L344.30809639361485,157.03224511363297L343.5576171767811,156.32867084785136L342.29118349837415,155.8830738128563L342.57261320468683,154.61664013444937L341.9159438899573,153.44401635814665L342.57261320468683,152.67008466578687L343.74523698098955,151.84924802237498L346.70024889727233,150.44209949081176L347.5914429672624,150.18412226002513L347.4507281141061,149.62126284739986L345.62143502307384,149.01149848372245L343.41690232362475,149.3867380921393L342.15046864521787,150.27793216212933L342.33808844942627,151.0753163300152L340.2742706031335,152.13067772868763L337.74140324631963,153.25639655393826L336.8033042252775,155.08568964497044L337.74140324631963,156.00033619048656L338.96093197367446,156.72736293179423L337.7883081973718,158.20486888993565L336.42806461686064,158.5097510717744L335.91211015528745,160.69083129569742L335.2085358895058,161.91036002305222L333.61376755373414,161.79309764542194L332.86328833690044,162.82500656856834L331.36232990323293,162.87191151962043L330.94018534376397,161.65238279226563L329.8613714695655,160.1748768341242L328.8763674974712,158.32213126756594L327.98517342748113,157.5247470996801L325.4054011196152,159.02570553334755L323.6699179306872,159.33058771518625L321.88752979070705,158.67391840045678L321.418480280186,157.2667698688935L320.996335720717,154.26485300155858L322.21586444807184,153.42056388262063L325.6399258748757,152.34175000842214L328.2196981827417,150.981506427911L330.6118506863992,149.17566581240482L333.70757745583836,146.66625093111702L335.91211015528745,145.68124695902276L339.4768864352477,144.03957367219897L342.33808844942627,143.47671425957367L344.4957161978233,143.54707168615184L346.4657241420118,142.46825781195332L348.8578766456693,142.51516276300543L351.2031241982748,142.25718553221884L355.2838549398082,143.21873702878707L353.5952767019323,143.57052416167787L355.00242523349556,144.3913608050898L356.36266881400667,143.92231129456871L358.52029656240364,144.71969546245452L362.0850728423639,145.02457764429323L367.01009270283527,146.50208360243465L367.9950966749295,147.11184796611207L368.08890657703375,147.97958956057607L366.6348530944184,148.65971135083163L364.5241302970735,149.01149848372245L358.7079163666121,148.0264945116282L357.7229123945178,148.19066184031055L359.83363519186264,149.1522133368788L359.9274450939669,149.76197770055614L360.02125499607115,151.0753163300152L361.70983323394705,151.47400841395813L362.74174215709337,151.82579554684895L362.8824570102497,151.19257870764545L362.0850728423639,150.62971929502018L362.9293619613018,150.13721730897305L366.07199368179306,150.9346014768589L367.19771250704366,150.62971929502018L366.3065184370536,149.66816779845198L369.35534025544064,148.40173412004503L370.52796403174335,148.47209154662323L371.7474927590982,148.91768858161822L372.49797197593193,148.0264945116282L371.41915810173344,147.2525628192684L372.02892246541086,146.45517865138254L371.09082344436865,145.65779448349673L374.74940962643313,146.0799390429657L375.49988884326683,146.80696578427336L373.85821555644304,146.97113311295573L373.85821555644304,147.6981598542634L374.8901244795895,148.14375688925844L376.9070373748301,147.86232718294576L377.23537203219485,147.04149053953392L384.50563944527164,145.28255487507982L385.44373846631385,145.35291230165802L384.1773047879069,146.15029646954383L385.8189780747307,146.29101132270017L386.71017214472073,145.84541428770513L389.1492295994304,145.798509336653L391.11923754361896,145.25910239955377L392.5732910262343,146.0564865674396L394.07424945990175,145.18874497297566L392.7140058793906,144.4382657561419L393.37067519412017,143.99266872114686L397.216881180393,144.3913608050898L399.04617427142523,144.81350536455875L403.7366693766361,146.29101132270017L404.6278634466261,145.61088953244462L403.3145248171671,144.93076774218903L403.267619866115,144.64933803587638L401.6728515303433,144.50862318272004L402.14190104086435,143.89885881904263L401.4383267750827,142.8904023714223L401.39142182403066,142.46825781195332L403.7835743276882,141.2956340356506L404.6278634466261,140.09955778382187L405.6128674187204,139.84158055303527L409.0838337965764,140.1933676859261L409.3183585518369,140.92039442723376L408.0988298244821,141.97575582590616L408.89621399236796,142.37444790984912L409.3183585518369,143.28909445536524L409.0369288455243,145.07148259534534L410.49098232813964,145.86886676323118L409.92812291551434,146.76006083322125L407.3483506076484,148.58935392425346L408.84930904131585,148.80042620398794L409.36526350288904,148.33137669346686L410.81931698550443,147.97958956057607L411.14765164286916,147.3463727213726L412.27337046811977,146.71315588216913L411.522891251286,145.98612914086146L412.1326556149635,145.11838754639746L410.67860213234803,145.02457764429323L410.39717242603547,144.29755090298556L411.42908134918184,142.9842122735265L409.7405031113059,141.92885087485408L412.0857506639113,141.037656804864L411.7574160065466,140.1230102593479L412.4140853212761,140.07610530829578L413.1176595870577,140.8031320496035L412.6017051254845,142.06956572801042L413.9619487059957,142.30409048327095L413.39908929337037,141.3659914622288L415.5567170417674,140.85003700065562L418.2772042027897,140.77967957407742L420.66935670644716,141.53015879091117L419.49673293014445,140.45134491671266L419.4029230280402,139.04419638514943L421.6543606785415,138.78621915436284L424.79699239903266,138.85657658094098L427.6112894621592,138.66895677673256L426.53247558796073,137.988834986477L428.08033897268024,137.14454586753905L429.53439245529563,137.09764091648694L432.06725981210946,136.46442407728347L435.53822618996554,136.27680427307502L435.9603707494345,135.92501714018422L439.38443217623836,135.80775476255394L440.46324605043685,136.08918446886662L443.3713530156675,135.40906267861104L445.7635055193251,135.4325151541371L446.1387451277419,134.8696557415118L447.3582738550968,134.3067963288865L450.4540006245359,133.76738939178725L452.7054382750371,134.18953395125624L450.923050135057,134.51786860862097L453.87806205133984,134.72894088835548L454.2063967087046,135.36215772755895L455.37902048500735,135.05727554572022L459.22522647128017,135.05727554572022L462.1333334365109,135.69049238492366L463.2121473107094,136.18299437097082L462.88381265334465,136.8631161612264L461.4297591707293,137.23835576964325L458.00569774392534,137.96538251095092L457.0206937718311,138.36407459489385L458.6623670586549,138.55169439910227L460.5854700517914,138.88002905646704L461.75809382809405,138.62205182568044L462.4147631428235,139.46634094461842L462.9776225554489,139.1145538117276L465.04144040174157,138.92693400751915L469.2628859964314,139.13800628725363L469.54431570274403,139.74777065093105L474.9852900247886,139.9353904551395L475.0790999268928,138.95038648304524L477.8464920389672,139.16145876277972L479.91030988525995,139.16145876277972L482.02103268260487,139.84158055303527L482.6307970462822,140.68586967197322L481.8334128783964,141.22527660907247L483.4750861652202,142.25718553221884L485.53890401151295,142.77313999379203L486.80533768991995,141.4128964132809L488.86915553621265,141.99920830143225L491.12059318671385,141.64742116854143L493.60655559247556,142.04611325248436L494.5915595645699,141.69432611959354L496.70228236191474,141.85849344827594L495.7641833408726,140.66241719644717L497.49966652980055,140.09955778382187L509.27280924387975,140.94384690275982L510.3985280691303,141.71777859511957L513.7756845448821,142.7027825672139L519.0290390627183,142.46825781195332L521.6557163216364,142.6793300916878L522.7345301958349,143.21873702878707L522.5469103916264,144.15683604982922L524.1885836784502,144.53207565824607L525.9240668673782,144.2740984274595L528.2224094689316,144.22719347640742L530.6614669236412,144.485170707194L533.194334280455,144.3679083295637L535.4457719309562,145.51707963034033L537.0405402667278,145.09493507087137L535.9617263925294,144.25064595193345L536.5714907562068,143.68778653930815L540.6991264487924,144.03957367219897L543.4196136098146,143.9692162456208L547.1720096939832,144.57898060929818L549,145.16487493814975M549,150.34874194461568L547.3127245471396,150.9346014768589L545.6241463092637,150.8407915747547L546.7967700855663,151.52091336501024L547.5941542534522,152.5997272392087L548.2039186171297,152.95151437209955L548.344633470286,153.4909213091988L548.0162988129213,153.8427084420896L545.5772413582116,153.5378262602509L541.9186551761471,154.52283023234514L540.7460313998445,154.68699756102757L538.7760234556558,155.6016441065437L536.8998254135715,156.39902827442953L536.3838709519983,156.98534016258083L534.5545778609661,156.0941460925908L531.1305164341622,157.10260254021114L530.5676570215369,156.63355302969006L529.30122334313,157.17295996678928L527.565740154202,157.0087926381069L527.143595594733,157.85308175704486L525.5957322100135,159.11951543545177L525.6426371610655,159.65892237255105L527.0966906436809,159.9403520788637L526.9090708394725,161.84000259647408L525.7364470631697,161.8869075475262L525.1735876505445,162.96572142172465L525.6895421121177,163.52858083434995L523.4381044616165,164.20870262460554L522.9690549510954,165.68620858274696L521.045951957959,166.01454324011172L520.62380739849,167.32788186957075L518.7476093564056,168.54741059692554L518.2785598458845,167.6562165269355L517.7157004332593,165.75656600932513L517.0121261674776,162.8484590440944L517.621890531155,161.04261842858824L518.7007044053536,160.2686867362284L518.7945143074578,159.65892237255105L520.8114272026984,159.37749266623837L523.1566747553038,157.73581937941458L525.361207454753,156.37557579890344L527.7064550073583,155.3436668757571L528.7852688815568,153.51437378472482L527.1905005457852,153.60818368682902L526.3931163778993,154.68699756102757L523.1097698042518,156.11759856811688L522.0309559300532,154.52283023234514L518.6537994543014,154.96842726734022L515.417357831706,157.14950749126322L516.4961717059044,157.94689165914906L513.5880647406736,158.2986787920399L511.57115184543306,158.41594116967013L511.6649617475373,157.47784214862799L509.6480488522966,157.2902223444196L508.0063755654728,157.92343918362303L504.0194547260436,157.68891442836247L499.75110418030175,158.0876065123054L495.529658585612,160.62047386911928L490.55773377408855,163.69274816303238L492.57464666932924,163.8569154917147L493.2313159840587,164.67775213512664L494.4977496624657,164.95918184143926L495.34203878140363,164.32596500223582L496.7491873129668,164.39632242881396L498.6253853550512,165.82692343590327L498.67229030610326,166.95264226115387L497.68728633400906,168.24252841508684L497.54657148085266,169.7903917998064L496.9837120682273,171.87766212162524L495.01370412403884,173.77731263923565L494.5915595645699,174.6685067092257L492.80917142458975,176.1929176184192L491.0267832846097,177.6938760520867L490.1824941656717,178.46780774444647L488.4470109767436,179.2182869612802L487.6496268088579,179.24173943680623L486.852242640972,178.60852259760276L485.0698545009919,179.570074094171L484.8822346967835,179.99221865363995L484.3662802352103,179.9218612270618L483.80342082258494,180.36745826205686L483.42818121416815,180.8130552970519L483.4750861652202,181.72770184256797L482.8184168504906,182.0325840244067L482.58389209523017,182.26710877966724L482.0679376336569,182.6423483880841L481.22364851471895,182.85342066781857L480.6607891020937,183.2052078007094L480.6138841510416,183.76806721333472L480.4731692978852,183.90878206649103L480.9891237594585,184.1198543462255L481.6926980252401,184.70616623437687L482.8184168504906,186.23057714357037L483.1467515078554,187.07486626250832L483.1467515078554,188.5758246961758L482.67770199733434,189.30285143748347L481.5050782210317,189.53737619274403L480.4731692978852,190.07678312984328L479.3005455215826,190.19404550747353L479.15983066842625,189.49047124169192L479.39435542368676,188.50546726959763L478.78459106000935,187.1452236890865L479.7695950321036,186.934151409352L478.8784009621136,185.83188505962747L478.26863659843616,185.57390782884087L478.0810167942277,185.8084325841014L477.7057771858109,185.9256949617317L477.65887223475875,185.69117020647116L477.330537577394,185.55045535331482L476.9552979689771,185.3628355491064L477.330537577394,184.77652366095504L477.65887223475875,184.6358088077987L477.5181573816024,184.3778315770121L477.8464920389672,183.67425731123046L477.752682136863,183.46318503149598L477.0022029200292,183.32247017833964L476.39243855635186,182.97068304544885L474.56314546531956,183.36937512939176L473.6250464442774,183.9791394930692L472.2178979127142,184.33092662596L472.92147217849583,183.7211622622826L472.6400424721832,183.2052078007094L473.6719513953296,182.3374662062454L472.9683771295479,181.65734441598983L471.8426583042973,182.1263939265109L470.34169987062984,183.01758799650096L469.54431570274403,183.86187711543892L468.2778820243371,183.93223454201708L467.62121270960756,184.54199890569447L468.3247869753892,185.4097405001585L469.3566958985356,185.62081277989296L469.40360084958763,186.20712466804434L470.43550977273406,186.5823642764612L471.88956325534946,185.6677177309451L473.0621870316522,186.16021971699223L473.90647615059015,186.20712466804434L474.0940959547985,186.8872464582999L472.26480286376625,187.26248606671678L471.6550385000889,187.9660603324984L470.38860482168195,188.59927717170186L469.7319355069525,189.51392371721795L471.1390840385157,190.24095045852565L471.6550385000889,191.50738413693256L472.4524226679747,192.70346038876133L473.2967117869126,193.71191683638165L473.2967117869126,194.67346833294988L472.4993276190269,195.0252554658407L472.78075732533944,195.7288297316223L473.57814149322536,196.12752181556525L473.3436167379648,197.20633568976373L473.01528208060006,198.2382446129101L472.3117078148184,198.3555069905404L471.3267038427241,199.7626555221036L470.2947949195777,201.47468623550557L469.0752661922229,203.02254962022516L467.2928780522428,204.21862587205393L465.4635849612106,205.32089222177848L464.00953147859525,205.4616070749348L463.2121473107094,206.04791896308615L462.7430978001883,205.62577440361716L462.0395235344067,206.28244371834668L460.2102304433745,206.91566055755015L458.8499868628633,207.12673283728464L458.47474725444647,208.20554671148312L458.38093735234224,208.51042889332183L457.6773630865606,208.5807863199L457.3021234781438,207.61923482333177L457.63045813550855,207.12673283728464L455.89497494658053,206.70458827781567L455.2852105829031,206.91566055755015L453.5497273939751,208.04137938280076L452.4240085687245,209.26090811015555L452.1425788624118,210.17555465567168L453.17448778555826,211.5357982361828L454.34711156186097,213.24782894958477L455.56664028921574,214.0452131174706L456.36402445710166,215.10057451614304L456.92688386972685,217.5161794953266L456.7861690165706,219.79106962135387L455.6604501913199,220.65881121581788L454.2063967087046,221.50310033475583L453.1275828345061,222.58191420895432L451.48590954768235,223.80144293630914L451.0168600371612,222.9571538173712L451.3920996455781,222.08941222290719L450.4070956734838,221.33893300607346L449.3282817992853,221.15131320186504L448.81232733771213,220.47119141160945L448.1556580229826,219.13440030662437L446.9830342466799,218.52463594294696L445.85731542142935,218.54808841847301L446.04493522563774,217.5161794953266L444.9192164003872,217.5396319708527L444.825406498283,218.97023297794198L444.12183223250133,220.8698834955524L443.65278272198026,222.01905479632902L443.7465926240844,222.9571538173712L444.5908817430224,223.0040587684233L445.1537411556477,224.20013502025205L445.3882659109082,225.32585384550265L446.09184017668986,226.07633306233637L446.8892243445757,226.2170479154927L447.5458936593052,226.89716970574827L447.87422831667,227.01443208337855L448.62470753350374,227.8118162512644L449.187566946129,228.6795578457284L449.28137684823326,229.5472994401924L449.1406619950769,230.13361132834376L449.23447189718115,230.60266083886484L449.3282817992853,231.3531400556986L449.79733130980645,231.72837966411544L450.31328577137964,232.8775509648921L450.2663808203275,233.3231479998871L449.3751867503375,233.39350542646528L448.10875307193055,232.43195392989708L446.60779463826304,231.40004500675067L446.42017483405465,230.74337569202117L445.6696956172209,229.87563409755717L445.48207581301244,228.79682022335868L445.01302630249137,228.06979348205098L445.20064610669976,227.13169446100883L444.87231144933503,226.56883504838353L444.35635698776184,226.07633306233637L444.1687371835534,225.44311622313293L443.46516291777186,224.6926370062992L442.8084936030423,224.0828726426218L442.6208737988339,224.85680433498158L442.3863490435733,224.1297775936739L442.5270638967296,223.30894095026198L442.9023035051465,222.06595974738113L442.7615886519901,221.08095577528687L443.1837332114591,220.09595180319258L442.71468370093805,219.3220201108328L442.85539855409434,217.91487157926954L442.2925391414691,217.23474978901396L441.87039458200013,215.66343392876834L441.63586982673957,214.02176064194455L441.07301041411426,212.94294676774607L440.22872129517634,213.5996160824756L438.72776286150884,214.53771510351774L438.0241885957272,214.4204527258875L437.22680442784144,214.11557054404878L437.6489489873104,212.49734973275102L437.3675192809977,211.27782100539622L436.38251530890346,209.77686257172874L436.52323016205975,209.30781306120767L435.772750945226,209.1436457325253L434.83465192418385,208.0648318583268L434.459412315767,207.38471006807123L434.4125073647149,206.72804075334173L434.13107765840226,206.09482391413826L433.6151231968291,205.3443446973045L432.3955944694742,205.29743974625242L432.5363093226306,205.83684668335164L432.1141647631616,206.54042094913328L431.55130535053627,206.28244371834668L431.3636855463278,206.51696847360722L430.988445937911,206.3762536204509L430.4724914763378,206.25899124282063L430.2848716721293,206.7514932288678L429.39367760213935,206.72804075334173L427.7989092663676,206.98601798412832L427.89271916847184,207.9710219562226L427.18914490269026,208.74495364858237L425.31294686060585,209.61269524304637L423.8588933779905,211.16055862776597L422.8738894058962,211.98139527117786L421.56055077643725,212.82568439011578L421.56055077643725,213.4354487537932L420.95078641275984,213.7403309356319L419.731257685405,214.209380446153L419.16839827277965,214.27973787273115L418.7462537133107,215.2881943203515L419.0276834196234,216.9767725582274L419.07458837067543,218.05558643242586L418.5586339091023,219.29856763530674L418.5586339091023,221.50310033475583L417.8550596433207,221.573457761334L417.29220023069536,222.55846173342826L417.66743983911226,223.0040587684233L416.49481606280955,223.3558459013141L416.0257665522884,224.24703997130416L415.50981209071523,224.62227957972104L414.29028336336046,223.4027508523662L413.680518999683,221.573457761334L413.1645645381098,220.26011913187497L412.74241997864084,219.65035476819756L412.03884571285926,218.40737356531668L411.71051105549446,216.7657002784929L411.4759863002339,215.96831611060705L410.30336252393124,214.16247549510086L409.7405031113059,211.65306061381307L409.36526350288904,209.9644823759372L409.36526350288904,208.39316651569158L409.1307387476285,207.17363778833675L407.20763575449206,207.94756948069653L406.316441684502,207.80685462754022L404.6278634466261,206.21208629176851L405.2376278103035,205.74303678124744L404.8623882018867,205.2505347952003L403.3145248171671,204.1248159699497L402.3764257961249,203.79648131258494L401.95428123665596,202.8583822915428L400.9692772645617,201.8733783194485L398.5771247609041,202.1313555502351L396.46640196355924,202.15480802576116L394.63710887252705,202.31897535444352L392.1511464667653,201.94373574602668L390.74399793520206,201.63885356418797L389.2899444525867,201.47468623550557L388.7270850399614,199.8799178997339L388.11732067628395,199.64539314447336L387.08541175313763,199.8799178997339L385.7720731236786,200.4896822634113L384.1773047879069,200.06753770394235L382.86396615844785,199.059081256322L381.59753248004097,198.70729412343118L380.753243361103,197.46431292055033L379.7682393890087,195.7288297316223L379.0646651232271,195.93990201135682L378.2672809553413,195.49430497636178L377.75132649376803,196.01025943793496L377.00084727693434,195.93990201135682L377.28227698324696,196.52621389950815L377.1415621300906,196.83109608134686L377.56370668955964,197.7926475779151L378.0796611511328,198.9183664031657L378.73633046586235,199.2232485850044L378.97085522112286,199.69229809552547L379.8151443400608,200.23170503262472L379.90895424216507,200.77111196972396L379.7682393890087,201.19325652919292L379.9558591932172,201.63885356418797L380.331098801634,202.01409317260482L380.5187186058424,202.4362377320738L380.7063384100509,202.7411199139125L380.61252850794665,201.80302089287034L380.9408631653114,201.12289910261478L381.3161027737283,200.98218424945844L381.6913423821452,201.38087633340137L381.73824733319725,202.15480802576116L381.4568176268846,202.90528724259488L381.6913423821452,203.4212417041681L381.9258671374057,203.3508842775899L381.9727720884578,203.70267141048072L383.0046810116042,203.49159913074624L384.0834948858027,203.53850408179835L384.88087905368855,203.58540903285046L385.7720731236786,202.6942149628604L386.71017214472073,201.84992584392245L387.5544612636587,201.0525416760366L387.92970087207556,200.60694464104157L388.0704157252319,200.72420701867185L387.97660582312767,201.2636139557711L387.7889860189192,201.49813871103163L387.97660582312767,202.530047634178L388.53946523575297,203.4212417041681L389.2899444525867,203.89029121468917L390.2280434736289,204.05445854337154L391.0254276415147,204.28898329863208L391.58828705414004,205.03946251546583L391.9635266625569,205.48505955046085L392.43257617307796,205.6492268791432L392.43257617307796,205.93065658545586L391.9635266625569,206.70458827781567L391.7290019072963,207.07982788623252L391.166142494671,207.50197244570148L390.69709298415,208.39316651569158L390.08732862047253,208.32280908911338L389.85280386521197,208.6276912709521L389.61827910995146,209.2843605856816L389.8058989141599,210.15210218014562L389.6651840610036,210.316269508828L389.05541969732616,210.316269508828L388.25803552944035,210.80877149487515L388.11732067628395,211.4419883340786L387.8358909699714,211.69996556486518L386.9916018510334,211.69996556486518L386.52255234051233,212.02830022222994L386.52255234051233,212.54425468380316L385.8658830257828,212.91949429222L385.16230876000117,212.80223191458975L384.27111469001113,213.22437647405872L383.70825527738583,213.3181863761629L382.7232513052915,213.64652103352768L382.488726550031,214.23283292167906L382.4418215989789,214.67842995667408L381.175387920572,215.24128936929935L379.0646651232271,215.8276012574507L377.9389462979765,216.7657002784929L377.3291819342991,216.83605770507106L376.9539423258822,216.74224780296686L376.20346310904847,217.28165474006607L375.35917399011055,217.5396319708527L374.28036011591206,217.60998939743084L373.95202545854727,217.680346824009L373.67059575223465,218.03213395689983L373.2953561438178,218.12594385900402L373.10773633960935,218.4542785163688L372.4510670248798,218.43082604084273L372.02892246541086,218.59499336952513L371.1377283954208,218.54808841847301L370.80939373805603,217.77415672611323L370.85629868910814,217.0705824603316L370.6217739338476,216.67189037638866L370.38724917858707,215.71033887982045L370.0120095701702,215.1709319427212L370.24653432543073,215.1240269916691L370.1527244233265,214.51426262799168L370.29343927648284,214.27973787273115L370.24653432543073,213.6934259845798L370.0589145212223,213.15401904748055L369.68367491280543,212.75532696353764L369.5898650107012,212.23937250196443L368.88629074491956,211.77032299144335L368.182716479138,210.6680566417188L367.85438182177325,209.61269524304637L366.91628280073104,208.7215011730563L366.35342338810574,208.51042889332183L365.5091342691678,207.26744769044095L365.32151446495936,206.35280114492485L365.4153243670636,205.57886945256507L364.66484515022984,204.14826844547576L364.0550807865524,203.63231398390258L363.35150652077084,203.3508842775899L362.8824570102497,202.62385753628223L362.97626691235394,202.31897535444352L362.6010273039371,201.63885356418797L362.2257876955202,201.35742385787532L361.70983323394705,200.39587236130708L360.9124490660612,199.34051096263465L360.25577975133166,198.44931689264462L359.59911043660213,198.44931689264462L359.83363519186264,197.72229015133692L359.8805401429148,197.27669311634187L360.02125499607115,196.76073865476872L359.97435004501904,196.57311885056026L359.64601538765424,197.08907331213345L359.36458568134157,198.0740772842277L358.9893460729247,198.7541990744833L358.7079163666121,198.98872382974383L358.238866856091,198.56657927027487L357.67600744346566,197.98026738212351L356.7379084224235,196.1040693400392L356.59719356926723,196.22133171766944L357.16005298189253,197.60502777370664L357.95743714977834,198.9183664031657L358.9424411218726,200.93527929840633L359.4114906323937,201.63885356418797L359.83363519186264,202.3893327810217L361.0062589681654,203.819933788111L360.72482926185273,204.05445854337154L360.77173421290485,204.8987476623095L362.3195975976244,206.07137143861218L362.50721740183286,206.3293486693988L362.9293619613018,207.61923482333177L362.6479322549892,207.8537595785923L362.83555205919765,209.19055068357738L363.35150652077084,210.73841406829698L363.8205560312919,211.06674872566174L364.5241302970735,211.55925071170887L365.27460951390725,213.06020914537635L365.6498491223241,214.2562853972051L366.35342338810574,214.88950223640856L368.13581152808587,216.13248343928944L368.88629074491956,216.8595101805971L369.5898650107012,217.60998939743084L369.9651046191181,218.05558643242586L370.6217739338476,218.4542785163688L370.95010859121237,218.85297060031172L370.90320364016026,219.39237753741094L370.1527244233265,219.72071219477573L370.71558383595186,220.07249932766655L371.1377283954208,220.3070240829271L371.37225315068133,220.8464310200263L371.98201751435874,221.38583795712555L372.6386868290883,221.38583795712555L373.85821555644304,221.05750329976078L375.2653640880063,220.91678844660447L376.43798786430904,220.4946438871355L377.04775222798645,220.42428646055734L377.5168017385075,220.1897617052968L378.2672809553413,220.1428567542447L378.68942551481024,220.11940427871863L379.2991898784876,219.90833199898415L379.9558591932172,219.79106962135387L380.61252850794665,219.34547258635885L381.0815780184677,219.34547258635885L381.1284829695199,219.69725971924967L380.98776811636355,220.4477389360834L380.98776811636355,221.12786072633898L380.7063384100509,221.59691023686005L380.37800375268614,223.02751124394936L379.7213344379566,224.4815647265647L378.92395027007075,226.14669048891454L377.7982314448202,228.04634100652495L376.71941757062166,229.5003944891403L375.1715541859021,231.2827826291204L373.85821555644304,232.33814402779285L371.8882076122545,233.62803018172585L370.71558383595186,234.61303415382008L369.26153035333647,236.20780248959178L368.9801006470238,236.88792427984734L368.69867094071117,237.19280646168608L367.76057191966896,237.70876092325923L367.4322372623042,238.2481678603585L366.96318775178315,238.3419777624627L366.7755679475747,239.28007678350488L366.35342338810574,239.79603124507807L366.11889863284523,240.66377283954208L365.5560392202199,241.08591739901107L364.99317980759463,242.70413821030877L365.0400847586467,243.43116495161647L365.88437387758466,243.90021446213754L365.9312788286368,244.25200159502836L365.5560392202199,245.02593328738814L365.6498491223241,245.42462537133108L365.5560392202199,246.05784221053452L366.02508873074095,246.8786788539464L366.5410431923142,248.14511253235335L367.01009270283527,248.44999471419206L367.2446174580958,249.03630660234342L367.19771250704366,250.32619275627638L367.3384273602,251.47536405705304L367.3853323112521,253.4922769522937L367.6198570665127,254.1489462670232L367.2446174580958,255.06359281253933L366.7286629965226,255.97823935805545L365.88437387758466,256.7756235259413L364.71175010128195,257.2681255119884L363.2576966186666,257.9013423511919L361.7567381849991,259.3084908827551L361.28768867447803,259.5430156380157L360.3495896534359,260.4811146590578L359.83363519186264,260.78599684089653L359.69292033870636,261.70064338641265L360.3495896534359,262.6856473585069L360.5841144086964,263.4595790508667L360.5841144086964,263.8348186592836L360.81863916395696,263.7879137082315L360.77173421290485,265.0543473866384L360.5841144086964,265.6641117503158L360.8655441150091,265.87518403005026L360.6779243108006,266.43804344267556L360.16196984922743,266.8836404776706L359.08315597502894,267.32923751266566L357.48838763925727,268.0328117784473L356.92552822663197,268.5253137644944L357.0662430797883,269.06472070159367L357.39457773715304,269.15853060369784L357.2538628839967,269.83865239395345L356.92552822663197,270.7767514149956L356.78481337347563,271.8790177647202L356.4564787161109,272.4653296528715L355.5652846461208,273.12199896760103L355.3307598908603,273.3096187718095L354.767900478235,273.96628808653895L354.3926608698181,274.64640987679456L353.6421816529844,275.5610564223107L352.18812817036905,276.9213000028218L351.25002914932685,277.6952316951816L350.2650251772326,278.28154358333296L348.9047815967214,278.79749804490615L348.24811228199195,278.8678554714843L348.1073974288356,279.2196426043751L347.31001326094975,279.03202280016666L346.6533439462203,279.2665475554272L345.246195414657,279.03202280016666L344.4488112467712,279.196190128849L343.8859518341458,279.1258327022709L342.57261320468683,279.64178716384407L341.44689437943623,279.8294069680525L340.64951021155036,280.3219089540996L340.039745847873,280.36881390515174L339.5237913862998,279.89976439463067L339.05474187577875,279.87631191910464L338.4918824631534,279.29000003095325L338.4449775121013,279.4776198351617L338.2573577078929,279.1258327022709L338.2573577078929,278.3519010099111L337.8352131484239,277.4841594154471L338.2573577078929,277.24963466018653L338.2573577078929,276.24117821256624L337.36616363790284,275.0216494852114L336.7094943231733,273.91938313548684L335.7713953021311,272.23080489761094L334.83329628108896,271.2458009255167L334.3173418195158,270.28424942894844L334.03591211320315,269.01781575054156L333.70757745583836,268.0797167294994L333.2854328963694,266.08625630978474L333.2385279453173,264.51494044953915L333.09781309216095,263.8113661837575L332.58185863058776,263.2719592466583L331.8782843648061,262.1931453724598L331.22161505007665,260.62182951221416L330.94018534376397,259.80099286880227L329.8613714695655,258.5345591903953L329.76756156746126,257.54955521830107L329.67375166535703,256.72871857488917L329.8613714695655,255.5795472741125L330.28351602903444,254.38347102228374L330.37732593113867,253.82061160965847L330.79947049060763,252.64798783335576L331.08090019692025,252.10858089625648L331.831379413754,251.26429177731853L332.25352397322297,250.6779798891672L332.39423882637936,249.71642839259897L332.34733387532725,248.9894016512913L331.92518931585823,248.5203521407702L331.5968546584935,247.72296797288436L331.2685200011287,246.94903628052458L331.36232990323293,246.66760657421193L331.7375695116498,246.15165211263874L331.36232990323293,244.88521843423183L331.08090019692025,244.01747683976782L330.4242308821908,243.19664019635593L330.5649457353471,242.9386629655693L330.37732593113867,242.5399708816264L330.0020863227218,241.55496690953214L328.9701773995754,240.19472332902097L327.6099338190643,238.85793222403592L326.7656447001263,237.80257082536346L325.9682605322405,236.44232724485232L326.0151654832926,236.02018268538336L326.2965951896052,235.59803812591437L326.62492984697,234.65993910487222L326.8594546022305,233.67493513277793L326.62492984697,233.4873153285695L327.0939793574911,232.03326184595414L327.2815991616995,231.00135292280777L326.7656447001263,230.13361132834376L326.15588033644894,229.92253904860928L325.87445063013627,229.33622716045792L325.54611597277153,229.14860735624947L325.5930209238236,228.77336774783262L324.2327773433125,229.2424172583537L323.7168228817393,229.17205983177553L323.2477733712182,229.47694201361423L322.1689594970197,229.4534895380882L321.4653852312381,228.6326528946763L321.0432406717691,227.69455387363413L320.15204660177903,226.82681227917013L319.1670426296848,226.85026475469618L317.99441885338206,226.85026475469618L316.91560497918357,226.9909796078525L315.8836960560372,227.27240931416515L313.81987820974445,228.04634100652495L313.1163039439628,228.49193804151997L311.94368016766015,228.86717764993685L310.77105639135743,228.49193804151997L310.2081969787321,228.51539051704603L309.2700979576899,228.25741328625944L308.425808838752,228.25741328625944L306.8779454540324,228.49193804151997L305.98675138404235,228.86717764993685L304.7203177056354,229.35967963598398L304.4388879993228,229.31277468493187L304.11055334195805,229.33622716045792L302.75030976144683,228.70301032125445L301.57768598514417,227.71800634916016L300.45196715989357,226.9909796078525L299.60767804095565,226.1701429644406L299.23243843253874,226.05288058681032L298.2943394114966,225.53692612523716L297.63767009676707,224.83335185945552L297.40314534150656,224.36430234893444L297.2624304883502,223.4027508523662L296.6526661246728,222.62881916000643L296.18361661415173,222.11286469843324L295.8083770057348,221.94869736975087L295.5269472994222,221.69072013896425L295.33932749521375,221.12786072633898L295.1517076910053,220.82297854450024L294.77646808258845,220.61190626476576L294.07289381680687,220.07249932766655L293.5569393552336,219.9786894255623L293.2286046978689,219.6269022926715L293.275509648921,219.41583001293702L292.85336508945204,219.13440030662437L292.7595551873478,218.87642307583778L292.57193538313936,217.86796662821743L292.7126502362957,217.28165474006607L292.1966957747225,216.27319829244576L291.540026459993,215.80414878192465L292.1028858726183,215.56962402666414L292.7595551873478,214.65497748114802L293.04098489366044,213.97485569089244L292.94717499155627,213.27128142511083L293.3224145999731,212.63806458590736L293.4631294531294,211.41853585855253L293.3224145999731,210.12864970461956M83.18823388652788,146.15029646954383L80,145.1656948281161M80,255.93100871074947L80.28012692129718,255.86097698042516L80.09250711708873,256.4941938196286L80,256.5635741574452M478.5969712558009,245.98748478395638L479.488165325791,245.94057983290426L479.91030988525995,245.77641250422187L480.379359395781,245.94057983290426L479.91030988525995,246.29236696579508L478.55006630474884,246.85522637842035L477.47125243055035,247.23046598683723L476.62696331161237,248.21546995893152L475.50124448636177,248.49689966524417L475.3605296332055,248.33273233656178L475.4543395353097,247.88713530156676L476.01719894793496,247.11320360920695L477.330537577394,246.57379667210773L477.47125243055035,246.268914490269L478.5969712558009,245.98748478395638M80,345.3559492841017L80.09250711708873,345.3790760633739L81.21822594233933,344.6051443710141L83.56347349494476,345.02728893048305L85.11133687966432,344.558239419962L85.43967153702908,344.581691895488L87.31586957911344,345.1210988325873L88.9575428659372,344.581691895488L89.28587752330196,344.51133446890987L93.08517855852273,344.2768097136493L94.35161223692967,344.581691895488L94.96137660060705,344.74585922417043L96.88447959374349,345.1680037836394L100.58997072686006,345.5197909165302L103.54498264314287,345.9184830004731L108.5638124057185,346.2233651823118L112.31620848988715,345.871578049421L117.85099271403595,346.1295552802076L120.99362443452719,346.52824736415056L124.41768586133111,346.15300775573365L128.07627204339553,345.80122062284283L128.35770174970818,345.1680037836394L123.19815713397628,345.1210988325873L119.02361649033864,344.8162166507486L117.89789766508804,344.3002621891754L114.42693128723204,344.01883248286276L114.66145604249255,343.4325205947114L115.13050555301362,342.9165661331382L115.5995550635347,342.42406414709103L115.36503030827419,341.8846572099918L113.20740255987724,341.532870077101L112.1754936367308,341.0638205665799L110.15858074149017,340.665128482637L113.34811741303352,340.73548590921513L116.35003428036845,340.52441362948065L118.2262323224528,340.9700106644757L120.5714798750582,340.57131858053276L122.68220267240306,340.1022690700117L123.76101654660155,339.65667203501664L123.29196703608048,339.1172650979174L121.6033887982046,338.7654779650266L119.68028580506814,338.39023835660976L117.006703595098,338.31988093003156L114.66145604249255,338.1322611258231L112.12858868567872,338.01499874819285L111.28429956674077,337.5224967621457L109.59572132886484,337.10035220267673L108.6107173567706,336.65475516768174L108.18857279730162,335.1772492095403L108.84524211203112,335.2945115871706L110.01786588833383,335.7166561466396L112.12858868567872,335.57594129348325L114.19240653197147,335.3883214892748L115.27122040616999,335.9511809019001L117.33503825246274,335.83391852426985L119.07052144139075,335.55248881795717L120.71219472821457,335.20070168506635L122.21315316188199,334.7551046500713L124.13625615501846,334.63784227244105L124.08935120396634,334.14534028639395L123.66720664449738,333.6528383003468L124.04244625291426,333.20724126535174L125.73102449079013,332.97271651009123L126.48150370762383,333.4183135450862L128.45151165181238,333.1603363142997L129.95247008547986,332.8320016569349L131.8286681275642,332.7850967058828L133.61105626754434,332.6678343282525L135.34653945647236,332.3629521464138L136.75368798803558,332.08152244010114L138.34845632380726,331.8000927337885L139.38036524695363,331.87045016036666L140.27155931694372,331.9877125379969L142.19466231008013,331.8000927337885L143.93014549900812,332.0346174890491L145.71253363898828,332.011165013523L147.44801682791626,331.8235452093146L149.18350001684428,331.9642600624709L151.10660300998072,332.08152244010114L152.93589610101296,332.0346174890491L154.81209414309726,332.0580699645751L156.7821020872858,332.08152244010114L158.56449022726594,332.0346174890491L159.877828856725,331.63592540510615L161.47259719249664,331.4483056008977L163.11427047932045,331.7297353072104L164.66213386404002,331.4952105519498L166.06928239560327,331.02616104142874L166.91357151454122,331.4483056008977L167.33571607401018,331.8939026358927L168.18000519294813,332.3394996708878L169.5402487734593,331.9642600624709L171.08811215817886,332.43330957299196L172.870500298159,332.5974769016744L174.37145873182644,332.94926403456515L176.20075182285868,332.878906607987L177.88933006073455,332.6443818527265L179.81243305387102,332.69128680377855L181.59482119385112,332.878906607987L183.37720933383125,333.11343136324757L184.08078359961286,332.55057195062227L183.2364944806749,332.1049749156272L182.57982516594538,331.63592540510615L180.89124692806948,331.5421155030019L180.18767266228787,331.04961351695476L179.90624295597522,330.5805640064337L179.43719344545414,329.5955600343394L180.4221974175484,329.7831798385479L182.1107756554243,329.853537265126L183.7993538933002,329.7831798385479L185.3472172780198,329.99425211828236L186.66055590747882,330.3694917266992L187.22341532010412,330.8385412372203L189.00580346008422,330.9088986637985L190.69438169796013,330.72127885959003L192.47676983794025,330.4633016288034L194.07153817371193,330.3225867756471L195.38487680317098,330.6274689574858L197.12035999209897,330.5336590553816L198.24607881734954,329.52520260776123L199.32489269154806,330.1115144959126L200.82585112521554,330.3460392511732L202.4206194609872,330.22877687354287L203.4994333351857,330.72127885959003L205.23491652411371,330.76818381064214L206.78277990883328,330.9323511393245L208.37754824460495,331.2137808456372L209.36255221669924,330.72127885959003L209.8785066782724,330.27568182459504L211.19184530773146,330.76818381064214L212.97423344771158,330.65092143301183L214.28757207717058,330.9323511393245L215.17876614716067,331.37794817431956L216.9142493360887,331.2372333211632L218.27449291659983,330.95580361485054L219.63473649711096,330.6274689574858L221.18259988183053,330.43984915327735L223.01189297286277,330.29913430012107L224.70047121073864,330.1115144959126L225.9669048891456,329.83008478959994L226.7173841059793,329.43139270565706L227.04571876334407,328.86853329303176L226.90500391018776,328.3291263559325L226.48285935071877,327.8131718943593L226.0138098401977,327.2972174327861L225.5916652807287,326.804715446739L225.26333062336394,326.3356659362179L225.21642567231186,325.8197114746447L225.31023557441603,325.3272094885976L225.91999993809347,324.83470750255043L226.43595439966668,324.29530056545116L226.6704791549272,323.77934610387797L226.38904944861457,323.2164866912527L226.24833459545823,322.72398470520557L226.90500391018776,322.11422034152815L227.60857817596934,321.73898073311125L228.45286729490732,321.24647874706415L229.34406136489739,320.8477866631212L230.37597028804376,320.47254705470436L230.89192474961695,319.90968764207906L231.59549901539856,319.55790050918824L232.43978813433654,319.2061133762974L233.65931686169134,319.1357559497193L234.5036059806293,318.73706386577635L235.39480005061932,318.47908663498976L236.47361392481784,318.3149193063074L237.41171294586002,317.98658464894265L238.1621921626937,317.5878925649997L239.19410108584012,317.4237252363173L239.94458030267384,317.7520598936821L239.47553079215277,318.19765692867713L238.11528721164163,318.572896537094L237.5993327500684,318.8543262434066L236.61432877797418,318.6432539636721L235.53551490377566,318.78396881682846L234.64432083378563,319.08885099866717L233.70622181274345,319.4171856560319L233.04955249801392,319.79242526444875L232.8619326938055,320.308379726022L232.95574259590973,320.8008817120691L233.56550695958714,321.22302627153806L232.67431288959708,321.52790845337677L231.45478416224225,321.6451708310071L230.75120989646064,322.06731539047604L229.9538257285748,322.489459949945L229.15644156068896,323.0523193625703L228.9688217564805,323.52136887309143L229.39096631594947,324.06077581019065L230.0945405817311,324.4829203696596L231.1733544559296,324.7878025514983L232.15835842802386,325.18649463544125L232.72121784064916,325.70244909701444L233.00264754696184,326.1949510830616L233.3778871553787,326.6874530691087L233.9876515190561,327.13305010410375L234.36289112747295,327.6020996146248L234.5505109316814,328.82162834197965L234.92575054009825,329.2906778525007L235.01956044220248,329.8066323140739L235.44170500167144,330.3225867756471L235.254085197463,331.00270856590265L234.5505109316814,331.5421155030019L233.75312676379556,331.9877125379969L232.01764357486755,332.15187986667934L231.45478416224225,332.6209293772004L230.6573999943564,333.0430739366694L228.68739205016786,333.53557592271653L226.95190886123984,333.746648202451L225.31023557441603,334.0280779087637L223.57475238548807,334.3095076150763L222.5428434623417,334.84891455217553L220.4321206649968,334.8958195032277L218.1337780634435,334.84891455217553L216.0699602171507,334.94272445427976L213.86542751770162,334.94272445427976L214.28757207717058,335.45867891585294L216.25758002135916,335.6697511955874L217.7116335039745,336.0449908040043L218.55592262291248,336.4905878389993L217.10186914029708,336.91273239846834L214.8504314897959,336.772017545312L212.97423344771158,337.10035220267673L212.88042354560736,337.639759139776L212.83351859455524,338.1557136013492L214.3813819792748,338.60131063634424L214.66281168558746,339.0703601468653L216.30448497241127,339.5628621329124L219.07187708448566,339.77393441264695L221.41712463709106,340.1257215455378L223.2933226791754,340.52441362948065L225.63857023178082,340.94655818894967L228.9219168054284,341.13417799315806L232.11145347697175,341.5094176015749L234.31598617642086,341.8846572099918L236.7550436311305,342.3068017694608L238.0214773095374,342.9400186086642L238.63124167321482,343.40906811918535L240.22601000898652,342.96347108419025L242.3836377573835,342.56477900024737L244.6350754078847,342.16608691630444L247.35556256890698,341.8377522589397L249.6539051704603,341.4859651260489L252.89034679305576,341.43906017499677L256.0798834645991,341.6266799792052L258.7065607235172,341.93156216104387L259.55084984245514,341.3687027484186L261.3801429334873,340.9934631400017L264.66348950713495,340.9700106644757L267.2432618150009,340.688580958163L269.6823192697105,340.4071512518504L272.4028064307328,340.21953144764194L275.31091339596355,339.9850066923814L277.32782629120413,339.65667203501664L276.389727270162,339.2110750000216L275.8268678575367,338.7420254895005L275.8268678575367,338.2495235034534L273.29400050072286,338.31988093003156L270.6204182907527,338.50750073424L268.0875509339388,338.50750073424L267.71231132552197,338.03845122371894L267.8999311297304,337.0534472516247L268.4627905423557,336.772017545312L270.33898858444,336.4671353634733L272.5435212838891,336.1622531816346L274.1382896196608,335.78701357321773L275.6861530043804,335.3883214892748L276.85877678068306,334.8958195032277L278.6411649206632,334.66129474796713L280.4235530606433,334.4736749437587L281.31474713063335,334.37986504165445L283.33166002587404,334.33296009060234L285.2547630190105,334.14534028639395L286.84953135478213,333.88736305560735L288.44429969055386,333.58248087376865L289.8514482221171,333.27759869192994L291.6807413131493,332.878906607987L292.8064601383999,332.43330957299196L294.02598886575475,332.0580699645751L294.4481334252237,331.5421155030019L293.04098489366044,331.2372333211632L293.5100344041815,330.697826384064L294.3543235231195,330.29913430012107L295.71456710363066,330.0411570693344L297.168620586246,329.73627488749577L298.481959215705,329.31413032802675L299.5138681388514,328.82162834197965L300.1236325025288,328.21186397830223L301.1086364746231,327.8366243698854L302.65649985934266,327.9304342719896L303.2662642230201,328.3525788314586L304.86103255879175,328.39948378251063L304.90793750984386,327.9304342719896L305.5646068245734,327.4144798104164L306.9717553561366,327.5317421880467L307.30009001350135,328.02424417409384L308.84795339822097,328.0946016006719L310.53653163609687,327.8600768454114L312.17820492292066,327.7193619922551L313.632258405536,327.7897194188333L314.1951178181613,328.3291263559325L315.64917130077663,327.88352932093744L316.9625099302357,327.67245704120296L318.416563412851,327.48483723699457L319.8706168954664,327.2972174327861L321.2308604759776,326.9923352509474L322.6849139585929,326.804715446739L323.8106327838435,326.52328574042633L324.6080169517293,326.05423622990526L325.54611597277153,326.38257088727L326.90635955328264,326.2184035585876L327.84445857432485,326.82816792226504L328.5949377911586,327.2737649572601L330.095896224826,327.0157877264735L330.6587556374513,326.52328574042633L331.97209426691035,326.1480461320095L333.70757745583836,326.24185603411365L334.22353191741155,326.7109055446348L335.2554408405579,326.24185603411365L336.6625893721212,326.0776887054313L338.21045275684077,326.0307837543792L339.5706963373519,326.05423622990526L341.02474981996727,326.2184035585876L342.4318983515305,326.28876098516577L343.0416627152079,326.7109055446348L343.8859518341458,327.10959762857766L345.3400053167612,326.87507287331715L346.84096375042867,326.82816792226504L348.3419221840962,326.82816792226504L349.7959756667115,326.804715446739L351.10931429617057,326.61709564253056L352.4695578766817,326.4763807893742L353.6421816529844,326.10114118095737L354.8617103803392,325.8666164256968L356.1750490097983,325.74935404806655L357.16005298189253,325.39756691517573L357.8636272476742,324.67054017386806L358.61410646450787,324.2483956143991L359.97435004501904,324.4594678941336L360.4903045065922,324.9050649291286L361.6160233318428,325.2099471109673L362.97626691235394,325.11613720886305L363.867460982344,325.5617342438581L364.8524649544383,325.9135213767489L366.1658035838973,325.6086391949102L366.6348530944184,325.04577978228497L367.80747687072113,324.81125502702434L369.16772045123224,324.36565799202936L370.4341541296392,324.201490663347L371.98201751435874,323.9435134325604L373.0139264375051,323.6620837262477L374.0458353606515,323.357201544409L375.07774428379787,323.0757718380964L376.2972730111527,323.2164866912527L377.4698967874554,322.7708896562577L378.3141859063934,322.39565004784083L379.5337146337482,322.4425549988929L380.61252850794665,322.11422034152815L380.8939582142593,321.6686233065331L381.9727720884578,321.3168361736423L383.0515859626563,321.0588589428557L384.3649245921153,320.8477866631212L385.537548368418,320.75397676101704L386.71017214472073,320.8243341875952L387.92970087207556,320.94159656522544L388.96160979522193,321.3168361736423L389.10232464837827,321.8796955862676L390.2280434736289,322.3018401457366L391.0254276415147,322.65362727862737L392.5732910262343,322.8177946073098L393.46448509622434,323.16958174020056L394.5432989704228,323.52136887309143L395.76282769777765,323.61517877519566L396.84164157197614,323.357201544409L397.96736039722674,322.8177946073098L399.18688912458157,323.0992243136224L400.4533228029885,323.23993916677875L401.6728515303433,323.4041064954611L402.9392852087502,323.49791639756535L404.2526238382093,323.49791639756535L405.33143771240776,324.85815997807646L405.28453276135565,325.18649463544125L405.0969129571472,325.7728065235926L403.87738422979237,326.10114118095737L402.845475306646,326.59364316700453L403.03309511085445,327.10959762857766L404.4871485934698,327.08614515305163L404.29952878926133,327.5786471390988L403.64285947453186,328.0711491251459L403.03309511085445,328.6105560622451L404.0180990829487,329.0092481461881L405.51905751661616,329.1499629993444L407.02001595028366,328.9154382440839L407.72359021606525,328.39948378251063L408.1926397265864,327.9304342719896L408.89621399236796,327.5082897125206L409.6935981602538,327.13305010410375L410.02193281761856,326.6640005935826L410.7255070834002,326.0307837543792L411.5697962023382,325.9135213767489L413.0238496849535,325.8431639501708L414.3371883144125,325.70244909701444L415.65052694387157,325.49137681727996L416.30719625860104,324.97542235570677L416.68243586701794,324.5063728451857L417.57362993700804,324.01387085913854L418.840063615415,323.68553620177374L419.9188774896134,323.4275589709872L420.66935670644716,322.98196193599216L421.3729309722288,322.7708896562577L422.35793494432306,322.5598173765232L423.62436862272995,322.67707975415345L424.79699239903266,322.5598173765232L426.1103310284917,322.39565004784083L427.51747956005494,322.489459949945L428.45557858109714,322.11422034152815L429.1122478958266,321.24647874706415L429.6282023573998,321.621718355481L430.23796672107727,322.2314827191584L431.3167805952757,322.489459949945L432.5832142736827,322.5832698520492L433.80274300103747,322.4425549988929L435.1629865815486,322.5363649009971L436.38251530890346,322.5598173765232L437.1798994767893,322.4425549988929L438.3056183020399,322.5129124254711L439.2906222741342,322.79434213178376L440.46324605043685,322.6067223275753L441.87039458200013,322.6067223275753L443.04301835830285,322.4425549988929L444.403261938814,322.6067223275753L445.294456008804,322.18457776810635L445.9511253235335,321.73898073311125L446.84231939352367,321.3871936002205L448.48399268034734,320.42564210365225L449.3282817992853,320.5898094323346L450.31328577137964,320.94159656522544L451.15757489031756,321.4106460757465L452.84615312819346,322.2080302436324L454.1125868066004,322.2314827191584L455.2852105829031,322.2314827191584L456.6923591144663,322.06731539047604L458.09950764602956,321.9031480617937L459.1783215202281,321.52790845337677L460.0695155902181,321.1526688449599L461.52356907283354,321.1057638939078L462.50857304492774,320.8243341875952L463.5404819680742,321.0823114183818L464.19715128280365,321.48100350232465L465.08834535279374,321.9031480617937L466.5423988354091,321.8327906352155L467.4335929053991,322.18457776810635L468.9814562901187,322.5129124254711L470.6231295769426,322.63017480310134L471.9833731574537,322.5363649009971L472.9683771295479,322.11422034152815L473.859571199538,321.7155282575852L475.0321949758407,321.621718355481L476.2048187521434,321.7858856841634L477.5650623326545,321.9266005373197L478.78459106000935,321.7155282575852L479.957214836312,321.7155282575852L481.0829336615627,321.8327906352155L482.30246238891743,321.9735054883718L483.4750861652202,321.73898073311125L484.8822346967835,321.52790845337677L486.1955733262424,321.48100350232465L487.69653175990993,321.48100350232465L488.86915553621265,321.36374112469446L490.04177931251536,321.24647874706415L490.41701892093215,320.6132619078607L490.4639238719843,320.07385497076143L491.26130803987013,320.44909457917834L491.4958327951307,321.03540646732966L491.9648823056518,321.57481340442894L492.480836767225,321.9969579638979L493.55965064142345,322.2314827191584L495.06060907509095,322.16112529258027L496.7491873129668,322.11422034152815L497.9218110892695,322.04386291495L499.6572942781976,322.04386291495L500.8768230055523,322.0204104394239L502.56540124342825,322.06731539047604L504.0194547260436,322.18457776810635L504.95755374708585,322.5832698520492L504.72302899182523,323.0757718380964L505.56731811076315,323.45101144651323L506.97446664232643,323.75589362835194L508.42852012494177,324.0842282857167L510.07019341176556,324.31875304097724L511.85258155174574,324.5298253207117L513.1659201812047,324.7174451249202L514.6668786148722,324.7643500759723L515.5111677338101,324.31875304097724L516.6368865590607,324.67054017386806L517.621890531155,325.092684733337L518.7945143074578,325.39756691517573L520.3892826432294,325.514829292806L521.8902410768969,325.6789966214884L522.5000054405743,326.1949510830616L524.0009638742417,326.4998332649003L524.985967846336,326.9454302998953L526.4400213289514,327.1565025796298L527.9409797626188,327.13305010410375L529.3481282941821,327.2034075306819L530.8959916789016,327.17995505515586L532.4907600146734,327.2737649572601L533.9448134972888,327.4613847614685L535.2581521267477,327.7662669433072L536.6183957072589,328.02424417409384L537.556494728301,328.39948378251063L537.4157798751447,328.9154382440839L536.7122056093631,329.38448775460495L536.1024412456857,329.9707996427563L535.6802966862167,330.4163966777513L535.0236273714872,330.95580361485054L533.3350491336113,331.1668758945851L532.5845699167776,331.61247292958006L530.8959916789016,331.8939026358927L530.2862273152243,332.40985709746593L529.3950332452342,332.90235908351303L528.4569342241921,333.30105116745597L527.9409797626188,333.84045810455524L527.6126451052542,334.33296009060234L527.4719302520978,334.9192719787537L527.4719302520978,335.3883214892748L528.2224094689316,335.904275950848L528.5038391752441,336.39677793689515L529.1136035389216,336.8658274474162L531.5526609936312,337.0299947760986L532.0686154552044,337.5928541887239L529.723367902599,337.80392646845837L527.7064550073583,338.08535617477105L525.2673975526487,338.1322611258231L524.1416787273981,338.88274034265686L523.9071539721376,339.4925047063343L523.3442945595123,339.96155421685535L522.6876252447827,340.4540562029025L524.4231084337107,340.89965323789755L525.0797777484402,341.4156076994707L526.2054965736909,341.90810968551784L527.7533599584104,342.3537067205129L529.5826530494427,342.75239880445577L531.5526609936312,343.1510908883987L534.5545778609661,343.5732354478677L535.2112471756957,344.20645228707116L538.9636432598643,344.48788199338384L539.1981680151248,344.581691895488L540.1831719872191,344.98038397943094L543.7948532182314,344.6520493220662L546.7498651345143,345.05074140600914L549,345.35544716904366M80,145.1656948281161L83.18823388652788,146.15029646954383L86.6122953133318,147.4401826234768L86.47158046017549,148.26101926688872L87.36277453016552,148.58935392425346L87.08134482385287,147.62780242768525L90.59921615276099,147.81542223189368L93.17898846062695,149.0349509592485L91.86564983116793,149.62126284739986L89.70802208277095,149.73852522503014L89.70802208277095,151.02841137896309L89.19206762119774,151.28638860974968L87.97253889384294,151.26293613422365L86.94062997069656,150.79388662370258L85.25205173282069,150.41864701528573L84.9237170754559,149.85578760266037L83.61037844599687,149.6447153229259L82.15632496338151,149.80888265160826L81.40584574654775,149.36328561661327L81.6872754528604,148.8707836305661L80.13941206814081,149.17566581240482L80.74917643181826,149.78543017608223L80,150.34731249994593M80,141.83455242836908L80.18631701919296,141.76468354617168L81.26513089339147,141.78813602169777L83.1413289354758,142.1399231545886L83.04751903337157,142.32754295879704L81.6872754528604,142.6324251406357L80,142.72616266579462M549,142.7263001819907L547.5941542534522,142.7965924693181L547.3596294981917,142.37444790984912L549,141.83546903068353M549,256.56505788482394L548.1570136660775,256.89288590357154L547.3596294981917,257.1743156098842L547.1720096939832,256.68181362383706L547.8286790087127,256.40038391752444L548.2508235681818,256.33002649094624L549,255.9320265115428M234.78503568694194,302.55485575279897L236.33289907166153,301.75747158491316L237.45861789691213,302.0858062422779L238.20909711374583,301.5698517807047L239.2410060368922,302.15616366885604L238.86576642847535,302.62521317937717L237.13028323954734,303.000452787794L236.52051887586995,302.55485575279897L235.44170500167144,303.14116764095036L234.78503568694194,302.55485575279897M404.29952878926133,298.3568626336353L405.1438179081993,298.7555547175782L406.36334663555414,298.9197220462606L406.41025158660625,299.17769927704717L406.08191692924146,299.76401116519855L404.0650040340008,299.8578210673028L404.0180990829487,299.15424680152114L404.20571888715716,298.61483986442187L404.29952878926133,298.3568626336353M546.5622453303058,257.80753244908766L546.8905799876707,257.5964601693532L547.3127245471396,257.97169977777L547.1251047429312,258.65182156802564L546.3277205750453,258.815988896708L545.5772413582116,258.67527404355167L545.4834314561074,258.0889621554003L545.9524809666284,257.6433651204053L546.5622453303058,257.80753244908766M234.12836637221244,220.98714587318264L234.87884558904614,220.82297854450024L235.16027529535882,220.8698834955524L235.1133703443067,221.8314349921206L234.0345564701082,221.97214984527693L233.80003171484765,221.85488746764665L234.17527132326455,221.50310033475583L234.12836637221244,220.98714587318264M112.0347787835745,208.8387635506866L112.269303538835,208.95602592831685L112.50382829409557,209.12019325699924L112.83216295146033,209.58924276752032L112.78525800040825,209.6596001940985L112.269303538835,209.94102990041114L111.84715897936604,210.12864970461956L111.65953917515765,210.3631744598801L111.33120451779286,210.17555465567168L111.37810946884497,209.8003150472548L111.19048966463657,209.33126553673372L111.23739461568866,209.19055068357738L111.4719193709492,208.9794784038429L111.37810946884497,208.7215011730563L111.42501441989705,208.60423879542606L111.56572927305342,208.6276912709521L112.0347787835745,208.8387635506866M111.28429956674077,207.94756948069653L111.14358471358443,208.1117368093789L110.7214401541155,208.20554671148312L110.4869153988549,207.92411700517047L110.34620054569862,207.80685462754022L110.34620054569862,207.73649720096205L110.4869153988549,207.61923482333177L110.9090599583239,207.7599496764881L111.28429956674077,207.94756948069653M110.29929559464651,207.40816254359729L110.2523906435944,207.54887739675362L109.54881637781276,207.52542492122754L109.64262627991698,207.36125759254517L110.29929559464651,207.40816254359729M108.6107173567706,206.70458827781567L108.75143220992689,206.79839817991987L109.12667181834377,207.22054273938886L109.03286191623957,207.290900165967L108.93905201413531,207.290900165967L108.51690745466635,207.2439952149149L108.32928765045796,206.9391130330762L108.28238269940582,206.89220808202407L108.6107173567706,206.70458827781567M106.87523416784259,206.04791896308615L106.9221391188947,206.35280114492485L106.73451931468625,206.4935159980812L106.31237475521729,206.25899124282063L106.3592797062694,206.16518134071643L106.59380446152994,206.0244664875601L106.87523416784259,206.04791896308615M212.64589879034682,202.15480802576116L213.0211383987637,202.20171297681327L213.49018790928477,203.28052685101176L213.49018790928477,204.05445854337154L213.16185325192,204.10136349442365L212.83351859455524,203.3508842775899L212.36446908403417,202.97564466917305L212.64589879034682,202.15480802576116M211.61398986720044,200.0909901794684L212.22375423087786,199.99718027736418L213.0680433498158,200.0440852284163L213.11494830086792,200.37241988578103L211.70779976930464,200.5834921655155L211.61398986720044,200.0909901794684M213.16185325192,199.7626555221036L214.19376217506638,200.348967410255L213.95923741980585,201.28706643129715L213.7247126645453,201.12289910261478L213.7247126645453,200.4427773123592L213.16185325192,199.926822850786L213.16185325192,199.7626555221036M231.07954455382537,173.73040768818353L231.54859406434645,174.363624527387L232.48669308538865,174.52779185606937L233.70622181274345,174.50433938054329L233.04955249801392,175.0202938421165L232.58050298749285,175.1141037442207L230.93882970066903,174.5512443315954L230.6104950433043,174.12909977212644L231.07954455382537,173.73040768818353M375.31226903905844,176.87303940867477L376.6256076685175,175.53624830368966L377.8920413469244,175.32517602395518L378.4549007595497,174.5512443315954L379.6744294869045,174.26981462528275L381.175387920572,173.70695521265748L382.30110674582255,174.0352898700222L383.6144453752816,173.96493244344407L383.84897013054217,174.7623166113299L383.6144453752816,176.02875028973682L382.4418215989789,175.8411304855284L381.3630077247804,176.0522027652629L381.3161027737283,177.0137542618311L380.04966909532135,176.87303940867477L380.09657404637346,177.31863644366982L380.8001483121551,177.64697110103458L381.4099126758325,178.7961424018112L382.91087110949996,179.24173943680623L383.14539586476053,179.7107889473273L382.8170612073958,180.25019588442657L382.91087110949996,180.5550780662653L383.28611071791687,181.39936718520323L383.42682557107315,180.46126816416105L384.50563944527164,180.13293350679632L384.88087905368855,180.859960248104L385.8189780747307,181.65734441598983L384.646354298428,182.05603649993276L383.42682557107315,181.75115431809405L383.14539586476053,182.85342066781857L384.03658993475057,182.92377809439677L383.6613503263337,183.8149721643868L384.6932592494801,184.26056919938182L384.50563944527164,185.62081277989296L384.7401642005322,186.53545932540908L384.646354298428,186.84034150724779L382.58253645213523,187.1921286401386L380.753243361103,186.95760388487807L379.8151443400608,186.30093457014854L378.595615612706,186.04295733936195L378.173471053237,185.08140584279374L378.12656610218494,184.42473652806422L378.6425205637581,184.1198543462255L378.8301403679666,183.67425731123046L379.0646651232271,182.66580086361017L380.1434789974256,182.5485384859799L379.7682393890087,182.19675135308904L379.1584750253313,182.14984640203696L378.5018057106018,181.21174738099478L377.7982314448202,180.53162559073922L376.3910829132569,179.00721468154572L376.48489281536115,178.11602061155565L375.31226903905844,176.87303940867477M230.42287523909587,170.02491655506697L230.89192474961695,169.9076541774367L232.62740793854493,170.23598883480145L233.940746568004,170.79884824742675L233.9876515190561,171.0333730026873L233.33098220432657,171.05682547821334L231.64240396645067,170.63468091874438L230.42287523909587,170.02491655506697M209.8785066782724,154.12413814840227L210.34755618879353,153.72544606445933L210.9104156014188,153.7488985399854L211.23875025878357,154.030328246298L210.72279579721038,154.7104500365536L210.15993638458508,154.59318765892334L209.7846967761682,154.1944955749804L209.8785066782724,154.12413814840227M205.09420167095737,153.6316361623551L206.03230069199955,153.04532427420375L207.81468883197965,153.04532427420375L207.81468883197965,153.30330150499037L206.2668254472601,154.030328246298L205.37563137727005,153.9834232952459L205.09420167095737,153.6316361623551M216.4921047766197,147.13530044163812L215.64781565768175,147.510540050055L214.19376217506638,147.58089747663314L213.86542751770162,146.94768063742964L214.42828693032692,146.220653896122L215.64781565768175,146.03303409191358L216.632819629776,146.40827370033043L216.67972458082812,146.94768063742964L216.4921047766197,147.13530044163812M188.72437375377157,144.22719347640742L189.8969975300743,144.97767269324115L189.09961336218845,145.42326972823616L187.31722522220832,145.02457764429323L186.28531629906195,145.16529249744957L184.50292815908185,144.57898060929818L185.62864698433242,144.1802885253553L186.5198410543225,143.61742911272995L187.92698958588574,143.99266872114686L188.72437375377157,144.22719347640742M175.73170231233757,139.79467560198316L177.18575579495294,140.33408253908243L177.98313996283878,141.60051621748934L178.40528452230774,142.51516276300543L180.60981722175686,143.14837960220888L182.95506477436226,143.78159644141238L182.81434992120595,144.34445585403768L180.65672217280894,144.46171823166793L181.5010112917469,144.95422021771506L181.03196178122582,145.42326972823616L178.6867142286204,145.23564992402774L176.43527657811921,144.8838627911369L174.93431814445174,144.95422021771506L172.4952606897421,145.3998172527101L169.21191411609453,145.58743705691853L166.8666665634891,145.70469943454881L166.1630922977075,145.09493507087137L164.3807041577274,144.74314793798058L163.25498533247676,144.8838627911369L161.61331204565298,143.85195386799052L162.50450611564304,143.71123901483423L164.5214190108837,143.50016673509973L166.35071210191592,143.54707168615184L168.03929033979182,143.33599940641736L165.50642298297797,143.03111722457862L162.73903087090358,143.12492712668285L160.90973777987136,143.10147465115676L160.20616351408975,142.60897266510966L163.20808038142468,142.09301820353647L161.2380724372361,142.11647067906253L158.9397298356828,141.76468354617168L160.0185437098813,140.8031320496035L160.95664273092345,140.2871775880303L164.42760910877948,139.48979342014445L165.78785268929062,139.74777065093105L165.13118337456112,140.35753501460846L167.9923853887397,139.95884293066555L169.82167847977192,140.61551224539505L171.27573196238728,139.95884293066555L172.4952606897421,140.38098749013454L173.5740745639406,141.64742116854143L174.2307438786701,141.10801423144218L173.29264485762795,139.77122312645707L174.41836368287855,139.58360332224868L175.73170231233757,139.79467560198316M210.58208094405404,140.14646273487398L209.1280274614387,139.46634094461842L209.17493241249082,138.99729143409735L209.83160172722032,138.90348153199312L212.78661364350313,139.04419638514943L215.03805129400433,139.77122312645707L215.17876614716067,140.1230102593479L213.7716176155974,140.07610530829578L212.36446908403417,140.05265283276975L210.9573205524709,140.2402726369782L210.58208094405404,140.14646273487398M496.70228236191474,139.4194359935663L497.9687160403216,138.90348153199312L499.56348437609336,138.78621915436284L501.43968241817765,139.27872114040997L501.580397271334,139.6305082733008L499.6103893271454,139.6305082733008L496.93680711717525,139.48979342014445L496.70228236191474,139.4194359935663M507.58423100600385,136.83966368570034L510.8675775796514,137.19145081859114L509.3666191459839,137.70740528016432L507.3028012996912,137.59014290253407L504.8637438449816,137.07418844096088L505.19207850234636,136.6520438814919L507.58423100600385,136.83966368570034M495.3889437324557,135.80775476255394L498.8130051592596,135.8781121891321L503.50350026447046,136.5582339793877L502.47159134132403,137.51978547595593L497.68728633400906,137.49633300042984L495.529658585612,137.80121518226855L492.94988627774603,136.9569260633306L493.6534605435277,136.06573199334053L495.3889437324557,135.80775476255394M186.0976964948535,135.22144287440258L186.19150639695775,135.05727554572022L187.176510369052,135.64358743387157L187.22341532010412,136.32370922412713L186.61365095642674,137.28526072069536L184.4560232080297,137.4259755738517L183.04887467646648,137.21490329411722L183.0957796275186,136.46442407728347L180.9850568301737,136.5582339793877L180.89124692806948,135.54977753176735L182.29839545963273,135.59668248281946L184.22149845276917,135.15108544782447L186.0976964948535,135.22144287440258M448.48399268034734,131.70357154549447L451.767339253995,132.45405076232822L451.3920996455781,132.99345769942744L444.0280223303971,133.4859596854746L446.42017483405465,131.7739289720726L447.4989887082531,131.63321411891633L448.48399268034734,131.70357154549447M436.6639450152161,129.45213389499327L439.4782420783426,129.14725171315456L442.0111094351564,129.8039210278841L445.01302630249137,131.07035470629103L444.6846916451266,132.24297848259374L441.87039458200013,132.40714581127608L438.21180839993565,132.03190620285926L436.05418065153873,131.51595174128602L435.0691766794444,130.60130519576995L433.2867885394643,130.34332796498336L436.6639450152161,129.45213389499327M189.42794801955318,129.9915408320925L190.31914208954328,129.5928487481496L191.6324807190023,129.4990388460454L191.069621306377,129.19415666420667L194.11844312476404,129.14725171315456L195.76011641158783,129.82737350341014L200.1222768594339,130.3667804405094L201.15418578258027,131.21106955944734L202.70204916729986,131.63321411891633L200.91966102731976,132.03190620285926L198.52750852366222,133.01691017495352L196.1822609710568,133.11072007705772L193.50867876108663,132.94655274837532L192.10153022952338,132.40714581127608L192.10153022952338,131.938096300755L193.13343915266975,131.58630916786421L190.78819160006435,131.58630916786421L189.334138117449,131.16416460839525L188.48984899851104,130.57785272024387L189.42794801955318,129.9915408320925M195.19725699896253,128.30296259421664L197.12035999209897,128.0684378389561L198.62131842576645,128.02153288790396L201.20109073363238,127.81046060816946L203.12419372676882,127.31795862212236L204.71896206254053,127.3883160487005L206.12611059410375,127.76355565711737L207.111114566198,127.05998139133577L208.84659775512603,126.84890911160127L211.19184530773146,126.70819425844492L215.17876614716067,126.63783683186679L215.8354354618902,126.7785516850231L219.63473649711096,126.56747940528861L222.44903356023747,126.63783683186679L225.26333062336394,126.731646733971L228.73429700121994,126.82545663607522L231.54859406434645,126.98962396475758L233.940746568004,127.34141109764839L233.84693666589976,127.69319823053924L230.70430494540852,128.25605764316452L227.51476827386514,128.53748734947717L226.34214449756246,128.81891705578983L229.20334651174107,128.81891705578983L226.1076197423019,129.61630122367563L223.99689694495703,129.96808835656648L221.74545929445583,131.04690223076494L219.07187708448566,131.25797451049945L218.22758796554768,131.51595174128602L214.28757207717058,131.65666659444236L216.11686516820282,131.82083392312478L215.17876614716067,132.0553586783853L216.25758002135916,132.68857551758873L215.03805129400433,133.13417255258378L213.0211383987637,133.50941216100065L212.41137403508628,134.02536662257384L210.58208094405404,134.42405870651675L210.7697007482625,134.70548841282942L213.0211383987637,134.6585834617773L213.0211383987637,134.96346564361602L209.55017202090767,135.76084981150183L206.12611059410375,135.38561020308498L202.32680955888299,135.59668248281946L200.35680161469446,135.4325151541371L197.9177441599848,135.36215772755895L197.73012435577638,134.7523933638815L200.169181810486,134.44751118204283L199.51251249575648,133.50941216100065L200.30989666364232,133.4156022588964L203.78086304149832,133.97846167152173L201.99847490151822,133.15762502810983L199.88775210417333,132.8996477973232L200.96656597837188,132.38369333575005L203.26490857992516,132.07881115391135L203.640148188342,131.63321411891633L201.8108550973098,131.11725965734314L201.2479956846845,130.46059034261359L204.81277196464475,130.5074952936657L205.84468088779113,130.64821014682204L207.86159378303176,130.17916063630096L204.95348681780106,130.0149933076186L200.35680161469446,130.1088032097228L198.05845901314115,129.66320617472775L196.97964513894263,129.14725171315456L195.47868670527515,128.74855962921166L195.19725699896253,128.30296259421664M253.5939210588374,127.36486357317447L257.95608150668346,126.56747940528861L262.505861758738,126.63783683186679L264.1944399966138,126.14533484581965L268.79112519972045,126.02807246818936L279.2040243332885,126.19223979687175L287.3654858163554,127.22414872001816L284.9264283616457,127.71665070606527L279.95450355012224,127.78700813264344L272.918760892306,127.9042705102737L273.5754302070355,128.1387952655342L278.2190203611942,127.99808041237792L282.1121312985192,128.44367744737292L284.6449986553331,128.04498536343004L285.7238125295316,128.51403487395112L284.3166639979683,129.26451409078487L287.646915522668,128.79546458026374L293.9790839147026,128.27951011869058L297.87219485202763,128.53748734947717L298.5757691178092,129.10034676210245L293.275509648921,130.0149933076186L292.52503043208725,130.31987548945727L288.39739473950175,130.55440024471784L291.39931160683665,130.60130519576995L289.8983531731692,131.56285669233813L288.8195392989707,132.40714581127608L288.8664442500228,133.86119929389145L290.4143076347424,134.70548841282942L288.39739473950175,134.7523933638815L286.2397669911048,135.1745379233505L288.67882444581437,135.85465971360605L288.960254152127,136.9569260633306L287.55310562056377,137.09764091648694L289.24168385843967,138.19990726621148L286.38048184426106,138.2937171683157L287.88144027792856,138.83312410541492L287.4592957184596,139.302173615936L285.6300026274273,139.48979342014445L283.8007095363951,139.48979342014445L285.4423828232189,140.38098749013454L285.4423828232189,140.96729937828587L282.86261051535297,140.42789244118666L282.20594120062344,140.77967957407742L283.94142438955146,141.08456175591613L285.6769075784795,141.88194592380196L286.14595708900055,142.9373073224744L283.84761448744723,143.195284553261L282.81570556430086,142.6793300916878L281.2209372285292,141.95230335038013L281.68998673905025,142.82004494484414L280.1421233543307,143.50016673509973L283.56618478113455,143.57052416167787L285.3954778721668,143.64088158825604L281.87760654325865,144.76660041350664L278.35973521435056,145.798509336653L274.5604341791298,146.24410637164806L273.1063806965144,146.24410637164806L271.7461371160033,146.76006083322125L269.96374897602317,148.12030441373238L267.14945191289667,149.0349509592485L266.25825784290663,149.10530838582667L264.5227746539786,149.41019056766538L262.64657661189426,149.71507274950406L261.5208577866437,150.53590939291593L261.5208577866437,151.45055593843207L260.8172835208621,152.29484505737003L258.7065607235172,153.3267539805164L259.22251518509034,154.35866290366278L258.6596557724651,155.4374767778613L258.0029864577356,156.7039104562682L256.17369336670333,156.77426788284635L254.25059037356687,155.7189064841739L251.62391311464881,155.7189064841739L250.3574794362419,154.99187974286625L249.51319031730395,153.72544606445933L247.21484771575064,152.1072252531616L246.5581784010211,151.26293613422365L246.4174635478648,150.09031235792094L244.5881704568326,148.8942361060922L245.05721996735366,147.93268460952396L244.2129308484157,147.4636350990029L245.47936452682262,145.93922418980935L247.4493724710112,145.47017467928828L247.9653269325844,144.90731526666298L248.24675663889704,143.89885881904263L246.74579820522956,144.3679083295637L246.04222393944792,144.55552813377216L244.8696001631452,144.74314793798058L243.27483182737353,144.32100337851162L243.1810219252693,143.42980930852156L243.69697638684252,142.72623504273992L244.8696001631452,142.72623504273992L247.5431823731154,143.05456970010468L245.2917447226142,142.2337330566928L244.16602589736362,141.78813602169777L242.85268726790457,141.97575582590616L241.77387339370608,141.64742116854143L243.22792687632142,140.42789244118666L242.4305427084356,139.95884293066555L241.39863378528923,139.04419638514943L239.80386544951753,137.6605003291122L238.1621921626937,137.16799834306508L238.1621921626937,136.62859140596586L234.6912257848377,135.85465971360605L231.92383367276332,135.76084981150183L228.45286729490732,135.80775476255394L225.26333062336394,135.90156466465817L223.7623721896965,135.50287258071523L221.46402958814318,134.68203593730334L224.88809101494707,134.25989137783438L227.51476827386514,134.18953395125624L221.93307909866428,133.86119929389145L219.02497213343355,133.3217923567922L219.1656869865899,132.82929037074507L224.13761179811337,132.1960735315416L228.87501185437628,131.56285669233813L229.39096631594947,131.09380718181706L225.87309498704138,130.62475767129598L226.99881381229196,130.1088032097228L231.54859406434645,129.19415666420667L233.4247921064308,129.05344181105036L232.8619326938055,128.467129922899L235.95765946324462,128.1387952655342L239.99148525372595,127.92772298579976L243.97840609315517,127.9042705102737L245.38555462471842,128.32641506974267L248.85652100257442,127.59938832843497L251.9522477720136,128.09189031448213L253.7815408630458,128.18570021658633L256.5020280240681,128.60784477605532L253.40630125462894,127.9042705102737L253.5939210588374,127.36486357317447M175.63789241023338,139.1145538117276L177.37337559916136,139.06764886067546L178.35837957125563,139.3490785669881L177.23266074600505,140.21682016145215L175.16884289971227,139.302173615936L175.63789241023338,139.1145538117276\" style=\"fill: none; stroke-miterlimit: 2; stroke: rgb(68, 68, 68); stroke-opacity: 1; stroke-width: 1px;\"/></g><g class=\"layer frame\"><path d=\"M80,117.75065139250773L549,117.75065139250773L549,352.24934860749227L80,352.24934860749227Z\" style=\"fill: none; stroke-miterlimit: 2; stroke: rgb(68, 68, 68); stroke-opacity: 1; stroke-width: 1px;\"/></g><g class=\"layer backplot\"><g class=\"choroplethlayer\"/></g><g class=\"layer frontplot\"><g class=\"scatterlayer\"><g class=\"trace scattergeo\" style=\"opacity: 1;\"><path class=\"point\" d=\"M2.91,0A2.91,2.91 0 1,1 0,-2.91A2.91,2.91 0 0,1 2.91,0Z\" transform=\"translate(385.12397568875383,203.902521680676)\" style=\"opacity: 0.7; stroke-width: 1px; fill: rgb(99, 110, 250); fill-opacity: 1; stroke: rgb(255, 255, 255); stroke-opacity: 1;\"/><path class=\"point\" d=\"M1.14,0A1.14,1.14 0 1,1 0,-1.14A1.14,1.14 0 0,1 1.14,0Z\" transform=\"translate(489.5682503791687,268.2991849954722)\" style=\"opacity: 0.7; stroke-width: 1px; fill: rgb(99, 110, 250); fill-opacity: 1; stroke: rgb(255, 255, 255); stroke-opacity: 1;\"/><path class=\"point\" d=\"M0.48,0A0.48,0.48 0 1,1 0,-0.48A0.48,0.48 0 0,1 0.48,0Z\" transform=\"translate(376.6167895377197,182.52381957677542)\" style=\"opacity: 0.7; stroke-width: 1px; fill: rgb(99, 110, 250); fill-opacity: 1; stroke: rgb(255, 255, 255); stroke-opacity: 1;\"/><path class=\"point\" d=\"M12.68,0A12.68,12.68 0 1,1 0,-12.68A12.68,12.68 0 0,1 12.68,0Z\" transform=\"translate(449.8202795571086,187.3050405835588)\" style=\"opacity: 0.7; stroke-width: 1px; fill: rgb(99, 110, 250); fill-opacity: 1; stroke: rgb(255, 255, 255); stroke-opacity: 1;\"/><path class=\"point\" d=\"M0.77,0A0.77,0.77 0 1,1 0,-0.77A0.77,0.77 0 0,1 0.77,0Z\" transform=\"translate(357.54401691120506,189.5197751098617)\" style=\"opacity: 0.7; stroke-width: 1px; fill: rgb(99, 110, 250); fill-opacity: 1; stroke: rgb(255, 255, 255); stroke-opacity: 1;\"/><path class=\"point\" d=\"M3.97,0A3.97,3.97 0 1,1 0,-3.97A3.97,3.97 0 0,1 3.97,0Z\" transform=\"translate(463.04354746415254,235.32569625386807)\" style=\"opacity: 0.7; stroke-width: 1px; fill: rgb(99, 110, 250); fill-opacity: 1; stroke: rgb(255, 255, 255); stroke-opacity: 1;\"/><path class=\"point\" d=\"M2.27,0A2.27,2.27 0 1,1 0,-2.27A2.27,2.27 0 0,1 2.27,0Z\" transform=\"translate(418.188659381441,205.12713959521997)\" style=\"opacity: 0.7; stroke-width: 1px; fill: rgb(99, 110, 250); fill-opacity: 1; stroke: rgb(255, 255, 255); stroke-opacity: 1;\"/><path class=\"point\" d=\"M1,0A1,1 0 1,1 0,-1A1,1 0 0,1 1,0Z\" transform=\"translate(362.4164328690715,194.28796826649037)\" style=\"opacity: 0.7; stroke-width: 1px; fill: rgb(99, 110, 250); fill-opacity: 1; stroke: rgb(255, 255, 255); stroke-opacity: 1;\"/><path class=\"point\" d=\"M8.53,0A8.53,8.53 0 1,1 0,-8.53A8.53,8.53 0 0,1 8.53,0Z\" transform=\"translate(492.82521291784957,188.07368374268745)\" style=\"opacity: 0.7; stroke-width: 1px; fill: rgb(99, 110, 250); fill-opacity: 1; stroke: rgb(255, 255, 255); stroke-opacity: 1;\"/><path class=\"point\" d=\"M0.48,0A0.48,0.48 0 1,1 0,-0.48A0.48,0.48 0 0,1 0.48,0Z\" transform=\"translate(451.1360924227357,218.48068600381114)\" style=\"opacity: 0.7; stroke-width: 1px; fill: rgb(99, 110, 250); fill-opacity: 1; stroke: rgb(255, 255, 255); stroke-opacity: 1;\"/><path class=\"point\" d=\"M7.64,0A7.64,7.64 0 1,1 0,-7.64A7.64,7.64 0 0,1 7.64,0Z\" transform=\"translate(481.0219806776704,187.5395418863438)\" style=\"opacity: 0.7; stroke-width: 1px; fill: rgb(99, 110, 250); fill-opacity: 1; stroke: rgb(255, 255, 255); stroke-opacity: 1;\"/><path class=\"point\" d=\"M2.5,0A2.5,2.5 0 1,1 0,-2.5A2.5,2.5 0 0,1 2.5,0Z\" transform=\"translate(376.51256673648186,196.81537119650665)\" style=\"opacity: 0.7; stroke-width: 1px; fill: rgb(99, 110, 250); fill-opacity: 1; stroke: rgb(255, 255, 255); stroke-opacity: 1;\"/><path class=\"point\" d=\"M0.69,0A0.69,0.69 0 1,1 0,-0.69A0.69,0.69 0 0,1 0.69,0Z\" transform=\"translate(402.1513758409769,172.21879010438948)\" style=\"opacity: 0.7; stroke-width: 1px; fill: rgb(99, 110, 250); fill-opacity: 1; stroke: rgb(255, 255, 255); stroke-opacity: 1;\"/><path class=\"point\" d=\"M1.31,0A1.31,1.31 0 1,1 0,-1.31A1.31,1.31 0 0,1 1.31,0Z\" transform=\"translate(361.23089850499167,190.82256012533404)\" style=\"opacity: 0.7; stroke-width: 1px; fill: rgb(99, 110, 250); fill-opacity: 1; stroke: rgb(255, 255, 255); stroke-opacity: 1;\"/><path class=\"point\" d=\"M3.71,0A3.71,3.71 0 1,1 0,-3.71A3.71,3.71 0 0,1 3.71,0Z\" transform=\"translate(463.90338557436434,230.3751131950733)\" style=\"opacity: 0.7; stroke-width: 1px; fill: rgb(99, 110, 250); fill-opacity: 1; stroke: rgb(255, 255, 255); stroke-opacity: 1;\"/><path class=\"point\" d=\"M1.19,0A1.19,1.19 0 1,1 0,-1.19A1.19,1.19 0 0,1 1.19,0Z\" transform=\"translate(536.6378729881833,292.30951283062683)\" style=\"opacity: 0.7; stroke-width: 1px; fill: rgb(99, 110, 250); fill-opacity: 1; stroke: rgb(255, 255, 255); stroke-opacity: 1;\"/><path class=\"point\" d=\"M0.84,0A0.84,0.84 0 1,1 0,-0.84A0.84,0.84 0 0,1 0.84,0Z\" transform=\"translate(387.5862393679965,208.1886843815799)\" style=\"opacity: 0.7; stroke-width: 1px; fill: rgb(99, 110, 250); fill-opacity: 1; stroke: rgb(255, 255, 255); stroke-opacity: 1;\"/><path class=\"point\" d=\"M4.19,0A4.19,4.19 0 1,1 0,-4.19A4.19,4.19 0 0,1 4.19,0Z\" transform=\"translate(472.8404907805043,214.48113600631115)\" style=\"opacity: 0.7; stroke-width: 1px; fill: rgb(99, 110, 250); fill-opacity: 1; stroke: rgb(255, 255, 255); stroke-opacity: 1;\"/><path class=\"point\" d=\"M1.03,0A1.03,1.03 0 1,1 0,-1.03A1.03,1.03 0 0,1 1.03,0Z\" transform=\"translate(381.1765370918727,202.01348340824114)\" style=\"opacity: 0.7; stroke-width: 1px; fill: rgb(99, 110, 250); fill-opacity: 1; stroke: rgb(255, 255, 255); stroke-opacity: 1;\"/><path class=\"point\" d=\"M2.53,0A2.53,2.53 0 1,1 0,-2.53A2.53,2.53 0 0,1 2.53,0Z\" transform=\"translate(443.7623292351624,154.6311923955133)\" style=\"opacity: 0.7; stroke-width: 1px; fill: rgb(99, 110, 250); fill-opacity: 1; stroke: rgb(255, 255, 255); stroke-opacity: 1;\"/><path class=\"point\" d=\"M2.45,0A2.45,2.45 0 1,1 0,-2.45A2.45,2.45 0 0,1 2.45,0Z\" transform=\"translate(372.49998888882715,203.57682542680791)\" style=\"opacity: 0.7; stroke-width: 1px; fill: rgb(99, 110, 250); fill-opacity: 1; stroke: rgb(255, 255, 255); stroke-opacity: 1;\"/><path class=\"point\" d=\"M4.12,0A4.12,4.12 0 1,1 0,-4.12A4.12,4.12 0 0,1 4.12,0Z\" transform=\"translate(446.09431441285784,215.43216906760594)\" style=\"opacity: 0.7; stroke-width: 1px; fill: rgb(99, 110, 250); fill-opacity: 1; stroke: rgb(255, 255, 255); stroke-opacity: 1;\"/><path class=\"point\" d=\"M4.38,0A4.38,4.38 0 1,1 0,-4.38A4.38,4.38 0 0,1 4.38,0Z\" transform=\"translate(360.605561697565,184.2044122467347)\" style=\"opacity: 0.7; stroke-width: 1px; fill: rgb(99, 110, 250); fill-opacity: 1; stroke: rgb(255, 255, 255); stroke-opacity: 1;\"/><path class=\"point\" d=\"M1.21,0A1.21,1.21 0 1,1 0,-1.21A1.21,1.21 0 0,1 1.21,0Z\" transform=\"translate(452.97301929455165,213.29560164223133)\" style=\"opacity: 0.7; stroke-width: 1px; fill: rgb(99, 110, 250); fill-opacity: 1; stroke: rgb(255, 255, 255); stroke-opacity: 1;\"/><path class=\"point\" d=\"M0,0A0,0 0 1,1 0,-0A0,0 0 0,1 0,0Z\" transform=\"translate(400.6010616725648,190.88769937610766)\" style=\"opacity: 0.7; stroke-width: 1px; fill: rgb(99, 110, 250); fill-opacity: 1; stroke: rgb(255, 255, 255); stroke-opacity: 1;\"/><path class=\"point\" d=\"M0,0A0,0 0 1,1 0,-0A0,0 0 0,1 0,0Z\" transform=\"translate(432.10240334668526,203.94160523114016)\" style=\"opacity: 0.7; stroke-width: 1px; fill: rgb(99, 110, 250); fill-opacity: 1; stroke: rgb(255, 255, 255); stroke-opacity: 1;\"/><path class=\"point\" d=\"M0,0A0,0 0 1,1 0,-0A0,0 0 0,1 0,0Z\" transform=\"translate(373.12532569625387,182.60198667770376)\" style=\"opacity: 0.7; stroke-width: 1px; fill: rgb(99, 110, 250); fill-opacity: 1; stroke: rgb(255, 255, 255); stroke-opacity: 1;\"/><path class=\"point\" d=\"M0,0A0,0 0 1,1 0,-0A0,0 0 0,1 0,0Z\" transform=\"translate(521.7730959616442,245.29200162223123)\" style=\"opacity: 0.7; stroke-width: 1px; fill: rgb(99, 110, 250); fill-opacity: 1; stroke: rgb(255, 255, 255); stroke-opacity: 1;\"/><path class=\"point\" d=\"M0,0A0,0 0 1,1 0,-0A0,0 0 0,1 0,0Z\" transform=\"translate(440.23178184323245,207.61545897477208)\" style=\"opacity: 0.7; stroke-width: 1px; fill: rgb(99, 110, 250); fill-opacity: 1; stroke: rgb(255, 255, 255); stroke-opacity: 1;\"/><path class=\"point\" d=\"M0,0A0,0 0 1,1 0,-0A0,0 0 0,1 0,0Z\" transform=\"translate(419.5956671981511,224.96855538086322)\" style=\"opacity: 0.7; stroke-width: 1px; fill: rgb(99, 110, 250); fill-opacity: 1; stroke: rgb(255, 255, 255); stroke-opacity: 1;\"/><path class=\"point\" d=\"M0,0A0,0 0 1,1 0,-0A0,0 0 0,1 0,0Z\" transform=\"translate(546.3957327540709,258.22865682587127)\" style=\"opacity: 0.7; stroke-width: 1px; fill: rgb(99, 110, 250); fill-opacity: 1; stroke: rgb(255, 255, 255); stroke-opacity: 1;\"/><path class=\"point\" d=\"M0,0A0,0 0 1,1 0,-0A0,0 0 0,1 0,0Z\" transform=\"translate(371.14509247273594,180.07458374768748)\" style=\"opacity: 0.7; stroke-width: 1px; fill: rgb(99, 110, 250); fill-opacity: 1; stroke: rgb(255, 255, 255); stroke-opacity: 1;\"/><path class=\"point\" d=\"M0,0A0,0 0 1,1 0,-0A0,0 0 0,1 0,0Z\" transform=\"translate(371.5098722770682,191.95598308879494)\" style=\"opacity: 0.7; stroke-width: 1px; fill: rgb(99, 110, 250); fill-opacity: 1; stroke: rgb(255, 255, 255); stroke-opacity: 1;\"/><path class=\"point\" d=\"M0,0A0,0 0 1,1 0,-0A0,0 0 0,1 0,0Z\" transform=\"translate(360.0974755415308,193.98832771293172)\" style=\"opacity: 0.7; stroke-width: 1px; fill: rgb(99, 110, 250); fill-opacity: 1; stroke: rgb(255, 255, 255); stroke-opacity: 1;\"/><path class=\"point\" d=\"M0,0A0,0 0 1,1 0,-0A0,0 0 0,1 0,0Z\" transform=\"translate(448.62171734287415,174.00360557558653)\" style=\"opacity: 0.7; stroke-width: 1px; fill: rgb(99, 110, 250); fill-opacity: 1; stroke: rgb(255, 255, 255); stroke-opacity: 1;\"/><path class=\"point\" d=\"M0,0A0,0 0 1,1 0,-0A0,0 0 0,1 0,0Z\" transform=\"translate(423.94696914982865,198.20935116306202)\" style=\"opacity: 0.7; stroke-width: 1px; fill: rgb(99, 110, 250); fill-opacity: 1; stroke: rgb(255, 255, 255); stroke-opacity: 1;\"/><path class=\"point\" d=\"M0,0A0,0 0 1,1 0,-0A0,0 0 0,1 0,0Z\" transform=\"translate(531.9478469324829,254.82838793548854)\" style=\"opacity: 0.7; stroke-width: 1px; fill: rgb(99, 110, 250); fill-opacity: 1; stroke: rgb(255, 255, 255); stroke-opacity: 1;\"/><path class=\"point\" d=\"M0,0A0,0 0 1,1 0,-0A0,0 0 0,1 0,0Z\" transform=\"translate(404.9263079239329,195.95553308629493)\" style=\"opacity: 0.7; stroke-width: 1px; fill: rgb(99, 110, 250); fill-opacity: 1; stroke: rgb(255, 255, 255); stroke-opacity: 1;\"/><path class=\"point\" d=\"M0,0A0,0 0 1,1 0,-0A0,0 0 0,1 0,0Z\" transform=\"translate(502.53096128311824,243.66352035289086)\" style=\"opacity: 0.7; stroke-width: 1px; fill: rgb(99, 110, 250); fill-opacity: 1; stroke: rgb(255, 255, 255); stroke-opacity: 1;\"/><path class=\"point\" d=\"M0,0A0,0 0 1,1 0,-0A0,0 0 0,1 0,0Z\" transform=\"translate(478.61182839904666,246.42542458569216)\" style=\"opacity: 0.7; stroke-width: 1px; fill: rgb(99, 110, 250); fill-opacity: 1; stroke: rgb(255, 255, 255); stroke-opacity: 1;\"/><path class=\"point\" d=\"M0,0A0,0 0 1,1 0,-0A0,0 0 0,1 0,0Z\" transform=\"translate(407.03681964899806,184.73855410307834)\" style=\"opacity: 0.7; stroke-width: 1px; fill: rgb(99, 110, 250); fill-opacity: 1; stroke: rgb(255, 255, 255); stroke-opacity: 1;\"/><path class=\"point\" d=\"M0,0A0,0 0 1,1 0,-0A0,0 0 0,1 0,0Z\" transform=\"translate(396.83601297784986,180.60872560403112)\" style=\"opacity: 0.7; stroke-width: 1px; fill: rgb(99, 110, 250); fill-opacity: 1; stroke: rgb(255, 255, 255); stroke-opacity: 1;\"/></g><g class=\"trace scattergeo\" style=\"opacity: 1;\"><path class=\"point\" d=\"M2.52,0A2.52,2.52 0 1,1 0,-2.52A2.52,2.52 0 0,1 2.52,0Z\" transform=\"translate(229.62355624197912,280.8840882449347)\" style=\"opacity: 0.7; stroke-width: 1px; fill: rgb(239, 85, 59); fill-opacity: 1; stroke: rgb(255, 255, 255); stroke-opacity: 1;\"/><path class=\"point\" d=\"M0.48,0A0.48,0.48 0 1,1 0,-0.48A0.48,0.48 0 0,1 0.48,0Z\" transform=\"translate(230.28797659987,256.7955933088517)\" style=\"opacity: 0.7; stroke-width: 1px; fill: rgb(239, 85, 59); fill-opacity: 1; stroke: rgb(255, 255, 255); stroke-opacity: 1;\"/><path class=\"point\" d=\"M2.45,0A2.45,2.45 0 1,1 0,-2.45A2.45,2.45 0 0,1 2.45,0Z\" transform=\"translate(245.38725492919406,249.08310601725566)\" style=\"opacity: 0.7; stroke-width: 1px; fill: rgb(239, 85, 59); fill-opacity: 1; stroke: rgb(255, 255, 255); stroke-opacity: 1;\"/><path class=\"point\" d=\"M0.77,0A0.77,0.77 0 1,1 0,-0.77A0.77,0.77 0 0,1 0.77,0Z\" transform=\"translate(212.98699159439775,203.06873927077373)\" style=\"opacity: 0.7; stroke-width: 1px; fill: rgb(239, 85, 59); fill-opacity: 1; stroke: rgb(255, 255, 255); stroke-opacity: 1;\"/><path class=\"point\" d=\"M9.29,0A9.29,9.29 0 1,1 0,-9.29A9.29,9.29 0 0,1 9.29,0Z\" transform=\"translate(182.17612597847767,159.76416535647422)\" style=\"opacity: 0.7; stroke-width: 1px; fill: rgb(239, 85, 59); fill-opacity: 1; stroke: rgb(255, 255, 255); stroke-opacity: 1;\"/><path class=\"point\" d=\"M2.38,0A2.38,2.38 0 1,1 0,-2.38A2.38,2.38 0 0,1 2.38,0Z\" transform=\"translate(221.12939794109968,283.645992477736)\" style=\"opacity: 0.7; stroke-width: 1px; fill: rgb(239, 85, 59); fill-opacity: 1; stroke: rgb(255, 255, 255); stroke-opacity: 1;\"/><path class=\"point\" d=\"M0.8,0A0.8,0.8 0 1,1 0,-0.8A0.8,0.8 0 0,1 0.8,0Z\" transform=\"translate(219.29247106928372,229.88005488919381)\" style=\"opacity: 0.7; stroke-width: 1px; fill: rgb(239, 85, 59); fill-opacity: 1; stroke: rgb(255, 255, 255); stroke-opacity: 1;\"/><path class=\"point\" d=\"M0.8,0A0.8,0.8 0 1,1 0,-0.8A0.8,0.8 0 0,1 0.8,0Z\" transform=\"translate(204.83155739754108,222.0112333957411)\" style=\"opacity: 0.7; stroke-width: 1px; fill: rgb(239, 85, 59); fill-opacity: 1; stroke: rgb(255, 255, 255); stroke-opacity: 1;\"/><path class=\"point\" d=\"M0.64,0A0.64,0.64 0 1,1 0,-0.64A0.64,0.64 0 0,1 0.64,0Z\" transform=\"translate(196.7673181517675,214.54627525708477)\" style=\"opacity: 0.7; stroke-width: 1px; fill: rgb(239, 85, 59); fill-opacity: 1; stroke: rgb(255, 255, 255); stroke-opacity: 1;\"/><path class=\"point\" d=\"M5.83,0A5.83,5.83 0 1,1 0,-5.83A5.83,5.83 0 0,1 5.83,0Z\" transform=\"translate(180.8603131128506,203.81132672959293)\" style=\"opacity: 0.7; stroke-width: 1px; fill: rgb(239, 85, 59); fill-opacity: 1; stroke: rgb(255, 255, 255); stroke-opacity: 1;\"/><path class=\"point\" d=\"M0.54,0A0.54,0.54 0 1,1 0,-0.54A0.54,0.54 0 0,1 0.54,0Z\" transform=\"translate(210.1338924105134,223.8872438180212)\" style=\"opacity: 0.7; stroke-width: 1px; fill: rgb(239, 85, 59); fill-opacity: 1; stroke: rgb(255, 255, 255); stroke-opacity: 1;\"/><path class=\"point\" d=\"M2.29,0A2.29,2.29 0 1,1 0,-2.29A2.29,2.29 0 0,1 2.29,0Z\" transform=\"translate(217.58582269901498,246.9725942921905)\" style=\"opacity: 0.7; stroke-width: 1px; fill: rgb(239, 85, 59); fill-opacity: 1; stroke: rgb(255, 255, 255); stroke-opacity: 1;\"/><path class=\"point\" d=\"M1.19,0A1.19,1.19 0 1,1 0,-1.19A1.19,1.19 0 0,1 1.19,0Z\" transform=\"translate(227.89085217140095,211.2372013177851)\" style=\"opacity: 0.7; stroke-width: 1px; fill: rgb(239, 85, 59); fill-opacity: 1; stroke: rgb(255, 255, 255); stroke-opacity: 1;\"/><path class=\"point\" d=\"M0.8,0A0.8,0.8 0 1,1 0,-0.8A0.8,0.8 0 0,1 0.8,0Z\" transform=\"translate(198.72149567497598,217.11276173756522)\" style=\"opacity: 0.7; stroke-width: 1px; fill: rgb(239, 85, 59); fill-opacity: 1; stroke: rgb(255, 255, 255); stroke-opacity: 1;\"/><path class=\"point\" d=\"M0.42,0A0.42,0.42 0 1,1 0,-0.42A0.42,0.42 0 0,1 0.42,0Z\" transform=\"translate(234.60019500108334,221.41195228862384)\" style=\"opacity: 0.7; stroke-width: 1px; fill: rgb(239, 85, 59); fill-opacity: 1; stroke: rgb(255, 255, 255); stroke-opacity: 1;\"/><path class=\"point\" d=\"M28.28,0A28.28,28.28 0 1,1 0,-28.28A28.28,28.28 0 0,1 28.28,0Z\" transform=\"translate(185.44611636731315,183.53999188884382)\" style=\"opacity: 0.7; stroke-width: 1px; fill: rgb(239, 85, 59); fill-opacity: 1; stroke: rgb(255, 255, 255); stroke-opacity: 1;\"/><path class=\"point\" d=\"M0,0A0,0 0 1,1 0,-0A0,0 0 0,1 0,0Z\" transform=\"translate(198.94296912760626,212.5920977338763)\" style=\"opacity: 0.7; stroke-width: 1px; fill: rgb(239, 85, 59); fill-opacity: 1; stroke: rgb(255, 255, 255); stroke-opacity: 1;\"/><path class=\"point\" d=\"M0,0A0,0 0 1,1 0,-0A0,0 0 0,1 0,0Z\" transform=\"translate(222.70576780982117,210.40341890788284)\" style=\"opacity: 0.7; stroke-width: 1px; fill: rgb(239, 85, 59); fill-opacity: 1; stroke: rgb(255, 255, 255); stroke-opacity: 1;\"/><path class=\"point\" d=\"M0,0A0,0 0 1,1 0,-0A0,0 0 0,1 0,0Z\" transform=\"translate(212.3877104872805,236.88903827243485)\" style=\"opacity: 0.7; stroke-width: 1px; fill: rgb(239, 85, 59); fill-opacity: 1; stroke: rgb(255, 255, 255); stroke-opacity: 1;\"/><path class=\"point\" d=\"M0,0A0,0 0 1,1 0,-0A0,0 0 0,1 0,0Z\" transform=\"translate(237.674767637598,228.75965977588766)\" style=\"opacity: 0.7; stroke-width: 1px; fill: rgb(239, 85, 59); fill-opacity: 1; stroke: rgb(255, 255, 255); stroke-opacity: 1;\"/><path class=\"point\" d=\"M0,0A0,0 0 1,1 0,-0A0,0 0 0,1 0,0Z\" transform=\"translate(219.83964077578207,210.37736320757338)\" style=\"opacity: 0.7; stroke-width: 1px; fill: rgb(239, 85, 59); fill-opacity: 1; stroke: rgb(255, 255, 255); stroke-opacity: 1;\"/><path class=\"point\" d=\"M0,0A0,0 0 1,1 0,-0A0,0 0 0,1 0,0Z\" transform=\"translate(201.69184551025282,215.6927260707004)\" style=\"opacity: 0.7; stroke-width: 1px; fill: rgb(239, 85, 59); fill-opacity: 1; stroke: rgb(255, 255, 255); stroke-opacity: 1;\"/><path class=\"point\" d=\"M0,0A0,0 0 1,1 0,-0A0,0 0 0,1 0,0Z\" transform=\"translate(213.76866260368115,211.36747981933232)\" style=\"opacity: 0.7; stroke-width: 1px; fill: rgb(239, 85, 59); fill-opacity: 1; stroke: rgb(255, 255, 255); stroke-opacity: 1;\"/><path class=\"point\" d=\"M0,0A0,0 0 1,1 0,-0A0,0 0 0,1 0,0Z\" transform=\"translate(203.73721798454437,218.25921255118084)\" style=\"opacity: 0.7; stroke-width: 1px; fill: rgb(239, 85, 59); fill-opacity: 1; stroke: rgb(255, 255, 255); stroke-opacity: 1;\"/><path class=\"point\" d=\"M0,0A0,0 0 1,1 0,-0A0,0 0 0,1 0,0Z\" transform=\"translate(238.4303829465719,265.2897516097312)\" style=\"opacity: 0.7; stroke-width: 1px; fill: rgb(239, 85, 59); fill-opacity: 1; stroke: rgb(255, 255, 255); stroke-opacity: 1;\"/><path class=\"point\" d=\"M0,0A0,0 0 1,1 0,-0A0,0 0 0,1 0,0Z\" transform=\"translate(241.66128978494325,229.63252573625408)\" style=\"opacity: 0.7; stroke-width: 1px; fill: rgb(239, 85, 59); fill-opacity: 1; stroke: rgb(255, 255, 255); stroke-opacity: 1;\"/><path class=\"point\" d=\"M0,0A0,0 0 1,1 0,-0A0,0 0 0,1 0,0Z\" transform=\"translate(241.54403913355074,277.7052928071823)\" style=\"opacity: 0.7; stroke-width: 1px; fill: rgb(239, 85, 59); fill-opacity: 1; stroke: rgb(255, 255, 255); stroke-opacity: 1;\"/></g><g class=\"trace scattergeo\" style=\"opacity: 1;\"><path class=\"point\" d=\"M1.03,0A1.03,1.03 0 1,1 0,-1.03A1.03,1.03 0 0,1 1.03,0Z\" transform=\"translate(332.8432130178501,172.9744054133634)\" style=\"opacity: 0.7; stroke-width: 1px; fill: rgb(0, 204, 150); fill-opacity: 1; stroke: rgb(255, 255, 255); stroke-opacity: 1;\"/><path class=\"point\" d=\"M0.48,0A0.48,0.48 0 1,1 0,-0.48A0.48,0.48 0 0,1 0.48,0Z\" transform=\"translate(376.6167895377197,182.52381957677542)\" style=\"opacity: 0.7; stroke-width: 1px; fill: rgb(0, 204, 150); fill-opacity: 1; stroke: rgb(255, 255, 255); stroke-opacity: 1;\"/><path class=\"point\" d=\"M1.06,0A1.06,1.06 0 1,1 0,-1.06A1.06,1.06 0 0,1 1.06,0Z\" transform=\"translate(320.46675537086315,169.0139389663276)\" style=\"opacity: 0.7; stroke-width: 1px; fill: rgb(0, 204, 150); fill-opacity: 1; stroke: rgb(255, 255, 255); stroke-opacity: 1;\"/><path class=\"point\" d=\"M0.54,0A0.54,0.54 0 1,1 0,-0.54A0.54,0.54 0 0,1 0.54,0Z\" transform=\"translate(347.3301823899022,179.30594058855883)\" style=\"opacity: 0.7; stroke-width: 1px; fill: rgb(0, 204, 150); fill-opacity: 1; stroke: rgb(255, 255, 255); stroke-opacity: 1;\"/><path class=\"point\" d=\"M1.89,0A1.89,1.89 0 1,1 0,-1.89A1.89,1.89 0 0,1 1.89,0Z\" transform=\"translate(325.07861432563516,174.0426891260507)\" style=\"opacity: 0.7; stroke-width: 1px; fill: rgb(0, 204, 150); fill-opacity: 1; stroke: rgb(255, 255, 255); stroke-opacity: 1;\"/><path class=\"point\" d=\"M0.77,0A0.77,0.77 0 1,1 0,-0.77A0.77,0.77 0 0,1 0.77,0Z\" transform=\"translate(357.54401691120506,189.5197751098617)\" style=\"opacity: 0.7; stroke-width: 1px; fill: rgb(0, 204, 150); fill-opacity: 1; stroke: rgb(255, 255, 255); stroke-opacity: 1;\"/><path class=\"point\" d=\"M3.07,0A3.07,3.07 0 1,1 0,-3.07A3.07,3.07 0 0,1 3.07,0Z\" transform=\"translate(327.90565780921,168.38860215890088)\" style=\"opacity: 0.7; stroke-width: 1px; fill: rgb(0, 204, 150); fill-opacity: 1; stroke: rgb(255, 255, 255); stroke-opacity: 1;\"/><path class=\"point\" d=\"M1.11,0A1.11,1.11 0 1,1 0,-1.11A1.11,1.11 0 0,1 1.11,0Z\" transform=\"translate(326.6289284940472,161.75742643014684)\" style=\"opacity: 0.7; stroke-width: 1px; fill: rgb(0, 204, 150); fill-opacity: 1; stroke: rgb(255, 255, 255); stroke-opacity: 1;\"/><path class=\"point\" d=\"M1.35,0A1.35,1.35 0 1,1 0,-1.35A1.35,1.35 0 0,1 1.35,0Z\" transform=\"translate(353.37510486169367,200.4631692398291)\" style=\"opacity: 0.7; stroke-width: 1px; fill: rgb(0, 204, 150); fill-opacity: 1; stroke: rgb(255, 255, 255); stroke-opacity: 1;\"/><path class=\"point\" d=\"M2.44,0A2.44,2.44 0 1,1 0,-2.44A2.44,2.44 0 0,1 2.44,0Z\" transform=\"translate(309.78391824399023,182.43262462569237)\" style=\"opacity: 0.7; stroke-width: 1px; fill: rgb(0, 204, 150); fill-opacity: 1; stroke: rgb(255, 255, 255); stroke-opacity: 1;\"/><path class=\"point\" d=\"M0.69,0A0.69,0.69 0 1,1 0,-0.69A0.69,0.69 0 0,1 0.69,0Z\" transform=\"translate(348.6459952555292,150.97036650203614)\" style=\"opacity: 0.7; stroke-width: 1px; fill: rgb(0, 204, 150); fill-opacity: 1; stroke: rgb(255, 255, 255); stroke-opacity: 1;\"/><path class=\"point\" d=\"M2.79,0A2.79,2.79 0 1,1 0,-2.79A2.79,2.79 0 0,1 2.79,0Z\" transform=\"translate(317.5485169362052,174.27719042883572)\" style=\"opacity: 0.7; stroke-width: 1px; fill: rgb(0, 204, 150); fill-opacity: 1; stroke: rgb(255, 255, 255); stroke-opacity: 1;\"/><path class=\"point\" d=\"M7.28,0A7.28,7.28 0 1,1 0,-7.28A7.28,7.28 0 0,1 7.28,0Z\" transform=\"translate(311.03459185884367,164.80594336635204)\" style=\"opacity: 0.7; stroke-width: 1px; fill: rgb(0, 204, 150); fill-opacity: 1; stroke: rgb(255, 255, 255); stroke-opacity: 1;\"/><path class=\"point\" d=\"M1.28,0A1.28,1.28 0 1,1 0,-1.28A1.28,1.28 0 0,1 1.28,0Z\" transform=\"translate(343.8908299490553,183.7484374913194)\" style=\"opacity: 0.7; stroke-width: 1px; fill: rgb(0, 204, 150); fill-opacity: 1; stroke: rgb(255, 255, 255); stroke-opacity: 1;\"/><path class=\"point\" d=\"M0.97,0A0.97,0.97 0 1,1 0,-0.97A0.97,0.97 0 0,1 0.97,0Z\" transform=\"translate(339.7219178995439,173.50854726970704)\" style=\"opacity: 0.7; stroke-width: 1px; fill: rgb(0, 204, 150); fill-opacity: 1; stroke: rgb(255, 255, 255); stroke-opacity: 1;\"/><path class=\"point\" d=\"M2.07,0A2.07,2.07 0 1,1 0,-2.07A2.07,2.07 0 0,1 2.07,0Z\" transform=\"translate(304.06469202606684,165.71789287718263)\" style=\"opacity: 0.7; stroke-width: 1px; fill: rgb(0, 204, 150); fill-opacity: 1; stroke: rgb(255, 255, 255); stroke-opacity: 1;\"/><path class=\"point\" d=\"M0.69,0A0.69,0.69 0 1,1 0,-0.69A0.69,0.69 0 0,1 0.69,0Z\" transform=\"translate(402.1513758409769,172.21879010438948)\" style=\"opacity: 0.7; stroke-width: 1px; fill: rgb(0, 204, 150); fill-opacity: 1; stroke: rgb(255, 255, 255); stroke-opacity: 1;\"/><path class=\"point\" d=\"M0.34,0A0.34,0.34 0 1,1 0,-0.34A0.34,0.34 0 0,1 0.34,0Z\" transform=\"translate(322.27762654236966,170.16038977994322)\" style=\"opacity: 0.7; stroke-width: 1px; fill: rgb(0, 204, 150); fill-opacity: 1; stroke: rgb(255, 255, 255); stroke-opacity: 1;\"/><path class=\"point\" d=\"M0.73,0A0.73,0.73 0 1,1 0,-0.73A0.73,0.73 0 0,1 0.73,0Z\" transform=\"translate(303.53055016972314,196.0597558875327)\" style=\"opacity: 0.7; stroke-width: 1px; fill: rgb(0, 204, 150); fill-opacity: 1; stroke: rgb(255, 255, 255); stroke-opacity: 1;\"/><path class=\"point\" d=\"M1.86,0A1.86,1.86 0 1,1 0,-1.86A1.86,1.86 0 0,1 1.86,0Z\" transform=\"translate(321.6783454352524,166.86434369079828)\" style=\"opacity: 0.7; stroke-width: 1px; fill: rgb(0, 204, 150); fill-opacity: 1; stroke: rgb(255, 255, 255); stroke-opacity: 1;\"/><path class=\"point\" d=\"M1,0A1,1 0 1,1 0,-1A1,1 0 0,1 1,0Z\" transform=\"translate(333.05165862032567,150.91825510141723)\" style=\"opacity: 0.7; stroke-width: 1px; fill: rgb(0, 204, 150); fill-opacity: 1; stroke: rgb(255, 255, 255); stroke-opacity: 1;\"/><path class=\"point\" d=\"M1.77,0A1.77,1.77 0 1,1 0,-1.77A1.77,1.77 0 0,1 1.77,0Z\" transform=\"translate(339.6567786487703,167.05976144311913)\" style=\"opacity: 0.7; stroke-width: 1px; fill: rgb(0, 204, 150); fill-opacity: 1; stroke: rgb(255, 255, 255); stroke-opacity: 1;\"/><path class=\"point\" d=\"M0.8,0A0.8,0.8 0 1,1 0,-0.8A0.8,0.8 0 0,1 0.8,0Z\" transform=\"translate(303.9995527752932,183.37062983683242)\" style=\"opacity: 0.7; stroke-width: 1px; fill: rgb(0, 204, 150); fill-opacity: 1; stroke: rgb(255, 255, 255); stroke-opacity: 1;\"/><path class=\"point\" d=\"M1.26,0A1.26,1.26 0 1,1 0,-1.26A1.26,1.26 0 0,1 1.26,0Z\" transform=\"translate(346.9914582858794,175.25427919043995)\" style=\"opacity: 0.7; stroke-width: 1px; fill: rgb(0, 204, 150); fill-opacity: 1; stroke: rgb(255, 255, 255); stroke-opacity: 1;\"/><path class=\"point\" d=\"M2.53,0A2.53,2.53 0 1,1 0,-2.53A2.53,2.53 0 0,1 2.53,0Z\" transform=\"translate(443.7623292351624,154.6311923955133)\" style=\"opacity: 0.7; stroke-width: 1px; fill: rgb(0, 204, 150); fill-opacity: 1; stroke: rgb(255, 255, 255); stroke-opacity: 1;\"/><path class=\"point\" d=\"M1.03,0A1.03,1.03 0 1,1 0,-1.03A1.03,1.03 0 0,1 1.03,0Z\" transform=\"translate(336.1262312568403,153.17207317818432)\" style=\"opacity: 0.7; stroke-width: 1px; fill: rgb(0, 204, 150); fill-opacity: 1; stroke: rgb(255, 255, 255); stroke-opacity: 1;\"/><path class=\"point\" d=\"M4.38,0A4.38,4.38 0 1,1 0,-4.38A4.38,4.38 0 0,1 4.38,0Z\" transform=\"translate(360.605561697565,184.2044122467347)\" style=\"opacity: 0.7; stroke-width: 1px; fill: rgb(0, 204, 150); fill-opacity: 1; stroke: rgb(255, 255, 255); stroke-opacity: 1;\"/><path class=\"point\" d=\"M0.42,0A0.42,0.42 0 1,1 0,-0.42A0.42,0.42 0 0,1 0.42,0Z\" transform=\"translate(347.2259595886644,272.72865404807806)\" style=\"opacity: 0.7; stroke-width: 1px; fill: rgb(0, 204, 150); fill-opacity: 1; stroke: rgb(255, 255, 255); stroke-opacity: 1;\"/><path class=\"point\" d=\"M0,0A0,0 0 1,1 0,-0A0,0 0 0,1 0,0Z\" transform=\"translate(340.5947838599103,181.40342446346924)\" style=\"opacity: 0.7; stroke-width: 1px; fill: rgb(0, 204, 150); fill-opacity: 1; stroke: rgb(255, 255, 255); stroke-opacity: 1;\"/><path class=\"point\" d=\"M0,0A0,0 0 1,1 0,-0A0,0 0 0,1 0,0Z\" transform=\"translate(317.887241040228,198.27449041383562)\" style=\"opacity: 0.7; stroke-width: 1px; fill: rgb(0, 204, 150); fill-opacity: 1; stroke: rgb(255, 255, 255); stroke-opacity: 1;\"/><path class=\"point\" d=\"M0,0A0,0 0 1,1 0,-0A0,0 0 0,1 0,0Z\" transform=\"translate(337.2987377707654,251.01122784015467)\" style=\"opacity: 0.7; stroke-width: 1px; fill: rgb(0, 204, 150); fill-opacity: 1; stroke: rgb(255, 255, 255); stroke-opacity: 1;\"/><path class=\"point\" d=\"M0,0A0,0 0 1,1 0,-0A0,0 0 0,1 0,0Z\" transform=\"translate(373.12532569625387,182.60198667770376)\" style=\"opacity: 0.7; stroke-width: 1px; fill: rgb(0, 204, 150); fill-opacity: 1; stroke: rgb(255, 255, 255); stroke-opacity: 1;\"/><path class=\"point\" d=\"M0,0A0,0 0 1,1 0,-0A0,0 0 0,1 0,0Z\" transform=\"translate(337.7156289757165,177.4429580164334)\" style=\"opacity: 0.7; stroke-width: 1px; fill: rgb(0, 204, 150); fill-opacity: 1; stroke: rgb(255, 255, 255); stroke-opacity: 1;\"/><path class=\"point\" d=\"M0,0A0,0 0 1,1 0,-0A0,0 0 0,1 0,0Z\" transform=\"translate(345.46719981777676,263.79154884193804)\" style=\"opacity: 0.7; stroke-width: 1px; fill: rgb(0, 204, 150); fill-opacity: 1; stroke: rgb(255, 255, 255); stroke-opacity: 1;\"/><path class=\"point\" d=\"M0,0A0,0 0 1,1 0,-0A0,0 0 0,1 0,0Z\" transform=\"translate(353.46629981277675,239.4034133522964)\" style=\"opacity: 0.7; stroke-width: 1px; fill: rgb(0, 204, 150); fill-opacity: 1; stroke: rgb(255, 255, 255); stroke-opacity: 1;\"/><path class=\"point\" d=\"M0,0A0,0 0 1,1 0,-0A0,0 0 0,1 0,0Z\" transform=\"translate(350.9519247329152,165.2879738220768)\" style=\"opacity: 0.7; stroke-width: 1px; fill: rgb(0, 204, 150); fill-opacity: 1; stroke: rgb(255, 255, 255); stroke-opacity: 1;\"/><path class=\"point\" d=\"M0,0A0,0 0 1,1 0,-0A0,0 0 0,1 0,0Z\" transform=\"translate(330.9281190451058,227.62623681242673)\" style=\"opacity: 0.7; stroke-width: 1px; fill: rgb(0, 204, 150); fill-opacity: 1; stroke: rgb(255, 255, 255); stroke-opacity: 1;\"/><path class=\"point\" d=\"M0,0A0,0 0 1,1 0,-0A0,0 0 0,1 0,0Z\" transform=\"translate(341.0377307651709,226.4797859988111)\" style=\"opacity: 0.7; stroke-width: 1px; fill: rgb(0, 204, 150); fill-opacity: 1; stroke: rgb(255, 255, 255); stroke-opacity: 1;\"/><path class=\"point\" d=\"M0,0A0,0 0 1,1 0,-0A0,0 0 0,1 0,0Z\" transform=\"translate(338.70574558747546,215.02830571280953)\" style=\"opacity: 0.7; stroke-width: 1px; fill: rgb(0, 204, 150); fill-opacity: 1; stroke: rgb(255, 255, 255); stroke-opacity: 1;\"/><path class=\"point\" d=\"M0,0A0,0 0 1,1 0,-0A0,0 0 0,1 0,0Z\" transform=\"translate(334.211137284096,236.09433941299673)\" style=\"opacity: 0.7; stroke-width: 1px; fill: rgb(0, 204, 150); fill-opacity: 1; stroke: rgb(255, 255, 255); stroke-opacity: 1;\"/><path class=\"point\" d=\"M0,0A0,0 0 1,1 0,-0A0,0 0 0,1 0,0Z\" transform=\"translate(334.211137284096,236.09433941299673)\" style=\"opacity: 0.7; stroke-width: 1px; fill: rgb(0, 204, 150); fill-opacity: 1; stroke: rgb(255, 255, 255); stroke-opacity: 1;\"/><path class=\"point\" d=\"M0,0A0,0 0 1,1 0,-0A0,0 0 0,1 0,0Z\" transform=\"translate(336.08714770637613,176.34861860343668)\" style=\"opacity: 0.7; stroke-width: 1px; fill: rgb(0, 204, 150); fill-opacity: 1; stroke: rgb(255, 255, 255); stroke-opacity: 1;\"/><path class=\"point\" d=\"M0,0A0,0 0 1,1 0,-0A0,0 0 0,1 0,0Z\" transform=\"translate(317.5485169362052,222.42812460069223)\" style=\"opacity: 0.7; stroke-width: 1px; fill: rgb(0, 204, 150); fill-opacity: 1; stroke: rgb(255, 255, 255); stroke-opacity: 1;\"/><path class=\"point\" d=\"M0,0A0,0 0 1,1 0,-0A0,0 0 0,1 0,0Z\" transform=\"translate(328.00988061044785,232.85040472447068)\" style=\"opacity: 0.7; stroke-width: 1px; fill: rgb(0, 204, 150); fill-opacity: 1; stroke: rgb(255, 255, 255); stroke-opacity: 1;\"/><path class=\"point\" d=\"M0,0A0,0 0 1,1 0,-0A0,0 0 0,1 0,0Z\" transform=\"translate(366.0251473619298,223.73090961616452)\" style=\"opacity: 0.7; stroke-width: 1px; fill: rgb(0, 204, 150); fill-opacity: 1; stroke: rgb(255, 255, 255); stroke-opacity: 1;\"/><path class=\"point\" d=\"M0,0A0,0 0 1,1 0,-0A0,0 0 0,1 0,0Z\" transform=\"translate(348.137909099495,158.60468669270384)\" style=\"opacity: 0.7; stroke-width: 1px; fill: rgb(0, 204, 150); fill-opacity: 1; stroke: rgb(255, 255, 255); stroke-opacity: 1;\"/><path class=\"point\" d=\"M0,0A0,0 0 1,1 0,-0A0,0 0 0,1 0,0Z\" transform=\"translate(369.86836315757307,219.66622036789093)\" style=\"opacity: 0.7; stroke-width: 1px; fill: rgb(0, 204, 150); fill-opacity: 1; stroke: rgb(255, 255, 255); stroke-opacity: 1;\"/><path class=\"point\" d=\"M0,0A0,0 0 1,1 0,-0A0,0 0 0,1 0,0Z\" transform=\"translate(329.7295568308713,235.846810260057)\" style=\"opacity: 0.7; stroke-width: 1px; fill: rgb(0, 204, 150); fill-opacity: 1; stroke: rgb(255, 255, 255); stroke-opacity: 1;\"/><path class=\"point\" d=\"M0,0A0,0 0 1,1 0,-0A0,0 0 0,1 0,0Z\" transform=\"translate(371.14509247273594,180.07458374768748)\" style=\"opacity: 0.7; stroke-width: 1px; fill: rgb(0, 204, 150); fill-opacity: 1; stroke: rgb(255, 255, 255); stroke-opacity: 1;\"/><path class=\"point\" d=\"M0,0A0,0 0 1,1 0,-0A0,0 0 0,1 0,0Z\" transform=\"translate(294.3980272112623,217.4384579914333)\" style=\"opacity: 0.7; stroke-width: 1px; fill: rgb(0, 204, 150); fill-opacity: 1; stroke: rgb(255, 255, 255); stroke-opacity: 1;\"/><path class=\"point\" d=\"M0,0A0,0 0 1,1 0,-0A0,0 0 0,1 0,0Z\" transform=\"translate(312.88454658081434,224.6689148273046)\" style=\"opacity: 0.7; stroke-width: 1px; fill: rgb(0, 204, 150); fill-opacity: 1; stroke: rgb(255, 255, 255); stroke-opacity: 1;\"/><path class=\"point\" d=\"M0,0A0,0 0 1,1 0,-0A0,0 0 0,1 0,0Z\" transform=\"translate(300.0911977288763,221.38589658831438)\" style=\"opacity: 0.7; stroke-width: 1px; fill: rgb(0, 204, 150); fill-opacity: 1; stroke: rgb(255, 255, 255); stroke-opacity: 1;\"/><path class=\"point\" d=\"M0,0A0,0 0 1,1 0,-0A0,0 0 0,1 0,0Z\" transform=\"translate(290.0597531097395,150.2277790432169)\" style=\"opacity: 0.7; stroke-width: 1px; fill: rgb(0, 204, 150); fill-opacity: 1; stroke: rgb(255, 255, 255); stroke-opacity: 1;\"/><path class=\"point\" d=\"M0,0A0,0 0 1,1 0,-0A0,0 0 0,1 0,0Z\" transform=\"translate(330.4200328890716,178.36793537741877)\" style=\"opacity: 0.7; stroke-width: 1px; fill: rgb(0, 204, 150); fill-opacity: 1; stroke: rgb(255, 255, 255); stroke-opacity: 1;\"/><path class=\"point\" d=\"M0,0A0,0 0 1,1 0,-0A0,0 0 0,1 0,0Z\" transform=\"translate(363.7322457346985,234.21832899071663)\" style=\"opacity: 0.7; stroke-width: 1px; fill: rgb(0, 204, 150); fill-opacity: 1; stroke: rgb(255, 255, 255); stroke-opacity: 1;\"/><path class=\"point\" d=\"M0,0A0,0 0 1,1 0,-0A0,0 0 0,1 0,0Z\" transform=\"translate(351.19945388585495,273.6015200084445)\" style=\"opacity: 0.7; stroke-width: 1px; fill: rgb(0, 204, 150); fill-opacity: 1; stroke: rgb(255, 255, 255); stroke-opacity: 1;\"/><path class=\"point\" d=\"M0,0A0,0 0 1,1 0,-0A0,0 0 0,1 0,0Z\" transform=\"translate(346.8481519341774,160.98878327101818)\" style=\"opacity: 0.7; stroke-width: 1px; fill: rgb(0, 204, 150); fill-opacity: 1; stroke: rgb(255, 255, 255); stroke-opacity: 1;\"/><path class=\"point\" d=\"M0,0A0,0 0 1,1 0,-0A0,0 0 0,1 0,0Z\" transform=\"translate(302.2407930044056,226.62309235051305)\" style=\"opacity: 0.7; stroke-width: 1px; fill: rgb(0, 204, 150); fill-opacity: 1; stroke: rgb(255, 255, 255); stroke-opacity: 1;\"/><path class=\"point\" d=\"M0,0A0,0 0 1,1 0,-0A0,0 0 0,1 0,0Z\" transform=\"translate(345.6105061694787,162.9820443446908)\" style=\"opacity: 0.7; stroke-width: 1px; fill: rgb(0, 204, 150); fill-opacity: 1; stroke: rgb(255, 255, 255); stroke-opacity: 1;\"/><path class=\"point\" d=\"M0,0A0,0 0 1,1 0,-0A0,0 0 0,1 0,0Z\" transform=\"translate(375.3270323724021,260.2219178995439)\" style=\"opacity: 0.7; stroke-width: 1px; fill: rgb(0, 204, 150); fill-opacity: 1; stroke: rgb(255, 255, 255); stroke-opacity: 1;\"/><path class=\"point\" d=\"M0,0A0,0 0 1,1 0,-0A0,0 0 0,1 0,0Z\" transform=\"translate(359.0422196789982,252.1576786537703)\" style=\"opacity: 0.7; stroke-width: 1px; fill: rgb(0, 204, 150); fill-opacity: 1; stroke: rgb(255, 255, 255); stroke-opacity: 1;\"/><path class=\"point\" d=\"M0,0A0,0 0 1,1 0,-0A0,0 0 0,1 0,0Z\" transform=\"translate(309.88814104522805,212.50090278279325)\" style=\"opacity: 0.7; stroke-width: 1px; fill: rgb(0, 204, 150); fill-opacity: 1; stroke: rgb(255, 255, 255); stroke-opacity: 1;\"/><path class=\"point\" d=\"M0,0A0,0 0 1,1 0,-0A0,0 0 0,1 0,0Z\" transform=\"translate(301.04223079017106,208.67071483730464)\" style=\"opacity: 0.7; stroke-width: 1px; fill: rgb(0, 204, 150); fill-opacity: 1; stroke: rgb(255, 255, 255); stroke-opacity: 1;\"/><path class=\"point\" d=\"M0,0A0,0 0 1,1 0,-0A0,0 0 0,1 0,0Z\" transform=\"translate(351.51212228956825,173.50854726970704)\" style=\"opacity: 0.7; stroke-width: 1px; fill: rgb(0, 204, 150); fill-opacity: 1; stroke: rgb(255, 255, 255); stroke-opacity: 1;\"/><path class=\"point\" d=\"M0,0A0,0 0 1,1 0,-0A0,0 0 0,1 0,0Z\" transform=\"translate(339.6307229484608,179.25382918793994)\" style=\"opacity: 0.7; stroke-width: 1px; fill: rgb(0, 204, 150); fill-opacity: 1; stroke: rgb(255, 255, 255); stroke-opacity: 1;\"/><path class=\"point\" d=\"M0,0A0,0 0 1,1 0,-0A0,0 0 0,1 0,0Z\" transform=\"translate(360.7097844988028,257.44698581658787)\" style=\"opacity: 0.7; stroke-width: 1px; fill: rgb(0, 204, 150); fill-opacity: 1; stroke: rgb(255, 255, 255); stroke-opacity: 1;\"/><path class=\"point\" d=\"M0,0A0,0 0 1,1 0,-0A0,0 0 0,1 0,0Z\" transform=\"translate(336.8557908655048,263.79154884193804)\" style=\"opacity: 0.7; stroke-width: 1px; fill: rgb(0, 204, 150); fill-opacity: 1; stroke: rgb(255, 255, 255); stroke-opacity: 1;\"/><path class=\"point\" d=\"M0,0A0,0 0 1,1 0,-0A0,0 0 0,1 0,0Z\" transform=\"translate(326.6419563442019,212.39667998155545)\" style=\"opacity: 0.7; stroke-width: 1px; fill: rgb(0, 204, 150); fill-opacity: 1; stroke: rgb(255, 255, 255); stroke-opacity: 1;\"/><path class=\"point\" d=\"M0,0A0,0 0 1,1 0,-0A0,0 0 0,1 0,0Z\" transform=\"translate(324.9222801237785,222.55840310223945)\" style=\"opacity: 0.7; stroke-width: 1px; fill: rgb(0, 204, 150); fill-opacity: 1; stroke: rgb(255, 255, 255); stroke-opacity: 1;\"/><path class=\"point\" d=\"M0,0A0,0 0 1,1 0,-0A0,0 0 0,1 0,0Z\" transform=\"translate(294.8149184162134,219.34052411402286)\" style=\"opacity: 0.7; stroke-width: 1px; fill: rgb(0, 204, 150); fill-opacity: 1; stroke: rgb(255, 255, 255); stroke-opacity: 1;\"/><path class=\"point\" d=\"M0,0A0,0 0 1,1 0,-0A0,0 0 0,1 0,0Z\" transform=\"translate(353.4793276629315,237.61859788109933)\" style=\"opacity: 0.7; stroke-width: 1px; fill: rgb(0, 204, 150); fill-opacity: 1; stroke: rgb(255, 255, 255); stroke-opacity: 1;\"/><path class=\"point\" d=\"M0,0A0,0 0 1,1 0,-0A0,0 0 0,1 0,0Z\" transform=\"translate(295.5965894254968,216.30503502797237)\" style=\"opacity: 0.7; stroke-width: 1px; fill: rgb(0, 204, 150); fill-opacity: 1; stroke: rgb(255, 255, 255); stroke-opacity: 1;\"/><path class=\"point\" d=\"M0,0A0,0 0 1,1 0,-0A0,0 0 0,1 0,0Z\" transform=\"translate(341.62398402213347,177.3778187656598)\" style=\"opacity: 0.7; stroke-width: 1px; fill: rgb(0, 204, 150); fill-opacity: 1; stroke: rgb(255, 255, 255); stroke-opacity: 1;\"/><path class=\"point\" d=\"M0,0A0,0 0 1,1 0,-0A0,0 0 0,1 0,0Z\" transform=\"translate(299.1271368174268,223.8872438180212)\" style=\"opacity: 0.7; stroke-width: 1px; fill: rgb(0, 204, 150); fill-opacity: 1; stroke: rgb(255, 255, 255); stroke-opacity: 1;\"/><path class=\"point\" d=\"M0,0A0,0 0 1,1 0,-0A0,0 0 0,1 0,0Z\" transform=\"translate(333.96360813115626,174.90252723626242)\" style=\"opacity: 0.7; stroke-width: 1px; fill: rgb(0, 204, 150); fill-opacity: 1; stroke: rgb(255, 255, 255); stroke-opacity: 1;\"/><path class=\"point\" d=\"M0,0A0,0 0 1,1 0,-0A0,0 0 0,1 0,0Z\" transform=\"translate(353.3099656109201,259.63566464258133)\" style=\"opacity: 0.7; stroke-width: 1px; fill: rgb(0, 204, 150); fill-opacity: 1; stroke: rgb(255, 255, 255); stroke-opacity: 1;\"/><path class=\"point\" d=\"M0,0A0,0 0 1,1 0,-0A0,0 0 0,1 0,0Z\" transform=\"translate(353.4011605620031,214.1684676025978)\" style=\"opacity: 0.7; stroke-width: 1px; fill: rgb(0, 204, 150); fill-opacity: 1; stroke: rgb(255, 255, 255); stroke-opacity: 1;\"/><path class=\"point\" d=\"M0,0A0,0 0 1,1 0,-0A0,0 0 0,1 0,0Z\" transform=\"translate(315.8027850154723,224.00449446941371)\" style=\"opacity: 0.7; stroke-width: 1px; fill: rgb(0, 204, 150); fill-opacity: 1; stroke: rgb(255, 255, 255); stroke-opacity: 1;\"/><path class=\"point\" d=\"M0,0A0,0 0 1,1 0,-0A0,0 0 0,1 0,0Z\" transform=\"translate(326.9155411974511,190.48383602131122)\" style=\"opacity: 0.7; stroke-width: 1px; fill: rgb(0, 204, 150); fill-opacity: 1; stroke: rgb(255, 255, 255); stroke-opacity: 1;\"/><path class=\"point\" d=\"M0,0A0,0 0 1,1 0,-0A0,0 0 0,1 0,0Z\" transform=\"translate(356.6581231006839,233.306379479886)\" style=\"opacity: 0.7; stroke-width: 1px; fill: rgb(0, 204, 150); fill-opacity: 1; stroke: rgb(255, 255, 255); stroke-opacity: 1;\"/><path class=\"point\" d=\"M0,0A0,0 0 1,1 0,-0A0,0 0 0,1 0,0Z\" transform=\"translate(355.1859760332002,170.96811648953604)\" style=\"opacity: 0.7; stroke-width: 1px; fill: rgb(0, 204, 150); fill-opacity: 1; stroke: rgb(255, 255, 255); stroke-opacity: 1;\"/><path class=\"point\" d=\"M0,0A0,0 0 1,1 0,-0A0,0 0 0,1 0,0Z\" transform=\"translate(359.7717792876627,243.15543419685665)\" style=\"opacity: 0.7; stroke-width: 1px; fill: rgb(0, 204, 150); fill-opacity: 1; stroke: rgb(255, 255, 255); stroke-opacity: 1;\"/><path class=\"point\" d=\"M0,0A0,0 0 1,1 0,-0A0,0 0 0,1 0,0Z\" transform=\"translate(312.1810426724593,218.9627164595359)\" style=\"opacity: 0.7; stroke-width: 1px; fill: rgb(0, 204, 150); fill-opacity: 1; stroke: rgb(255, 255, 255); stroke-opacity: 1;\"/><path class=\"point\" d=\"M0,0A0,0 0 1,1 0,-0A0,0 0 0,1 0,0Z\" transform=\"translate(350.6262284790471,252.45731920732894)\" style=\"opacity: 0.7; stroke-width: 1px; fill: rgb(0, 204, 150); fill-opacity: 1; stroke: rgb(255, 255, 255); stroke-opacity: 1;\"/></g></g></g></g></g><g class=\"funnelarealayer\"/><g class=\"pielayer\"/><g class=\"treemaplayer\"/><g class=\"sunburstlayer\"/><g class=\"glimages\"/><defs id=\"topdefs-98a020\"><g class=\"clips\"/><clipPath id=\"legend98a020\"><rect width=\"130\" height=\"83\" x=\"0\" y=\"0\"/></clipPath></defs><g class=\"layer-above\"><g class=\"imagelayer\"/><g class=\"shapelayer\"/></g><g class=\"infolayer\"><g class=\"legend\" pointer-events=\"all\" transform=\"translate(558.38, 100)\"><rect class=\"bg\" shape-rendering=\"crispEdges\" style=\"stroke: rgb(68, 68, 68); stroke-opacity: 1; fill: rgb(255, 255, 255); fill-opacity: 1; stroke-width: 0px;\" width=\"130\" height=\"83\" x=\"0\" y=\"0\"/><g class=\"scrollbox\" transform=\"translate(0, 0)\" clip-path=\"url('#legend98a020')\"><text class=\"legendtitletext user-select-none\" text-anchor=\"start\" x=\"2\" y=\"15.600000000000001\" style=\"font-family: 'Open Sans', verdana, arial, sans-serif; font-size: 12px; fill: rgb(42, 63, 95); fill-opacity: 1; white-space: pre;\">region</text><g class=\"groups\" transform=\"translate(0, 0)\"><g class=\"traces\" transform=\"translate(0, 30.1)\" style=\"opacity: 1;\"><text class=\"legendtext user-select-none\" text-anchor=\"start\" x=\"40\" y=\"4.680000000000001\" style=\"font-family: 'Open Sans', verdana, arial, sans-serif; font-size: 12px; fill: rgb(42, 63, 95); fill-opacity: 1; white-space: pre;\">Asia_Oceania</text><g class=\"layers\" style=\"opacity: 1;\"><g class=\"legendfill\"/><g class=\"legendlines\"/><g class=\"legendsymbols\"><g class=\"legendpoints\"><path class=\"scatterpts\" transform=\"translate(20,0)\" d=\"M6,0A6,6 0 1,1 0,-6A6,6 0 0,1 6,0Z\" style=\"opacity: 0.7; stroke-width: 2px; fill: rgb(99, 110, 250); fill-opacity: 1; stroke: rgb(255, 255, 255); stroke-opacity: 1;\"/></g></g></g><rect class=\"legendtoggle\" pointer-events=\"all\" x=\"0\" y=\"-9.5\" width=\"124.140625\" height=\"19\" style=\"cursor: pointer; fill: rgb(0, 0, 0); fill-opacity: 0;\"/></g></g><g class=\"groups\" transform=\"translate(0, 0)\"><g class=\"traces\" transform=\"translate(0, 49.1)\" style=\"opacity: 1;\"><text class=\"legendtext user-select-none\" text-anchor=\"start\" x=\"40\" y=\"4.680000000000001\" style=\"font-family: 'Open Sans', verdana, arial, sans-serif; font-size: 12px; fill: rgb(42, 63, 95); fill-opacity: 1; white-space: pre;\">Americas</text><g class=\"layers\" style=\"opacity: 1;\"><g class=\"legendfill\"/><g class=\"legendlines\"/><g class=\"legendsymbols\"><g class=\"legendpoints\"><path class=\"scatterpts\" transform=\"translate(20,0)\" d=\"M6,0A6,6 0 1,1 0,-6A6,6 0 0,1 6,0Z\" style=\"opacity: 0.7; stroke-width: 2px; fill: rgb(239, 85, 59); fill-opacity: 1; stroke: rgb(255, 255, 255); stroke-opacity: 1;\"/></g></g></g><rect class=\"legendtoggle\" pointer-events=\"all\" x=\"0\" y=\"-9.5\" width=\"124.140625\" height=\"19\" style=\"cursor: pointer; fill: rgb(0, 0, 0); fill-opacity: 0;\"/></g></g><g class=\"groups\" transform=\"translate(0, 0)\"><g class=\"traces\" transform=\"translate(0, 68.1)\" style=\"opacity: 1;\"><text class=\"legendtext user-select-none\" text-anchor=\"start\" x=\"40\" y=\"4.680000000000001\" style=\"font-family: 'Open Sans', verdana, arial, sans-serif; font-size: 12px; fill: rgb(42, 63, 95); fill-opacity: 1; white-space: pre;\">Europe_Africa</text><g class=\"layers\" style=\"opacity: 1;\"><g class=\"legendfill\"/><g class=\"legendlines\"/><g class=\"legendsymbols\"><g class=\"legendpoints\"><path class=\"scatterpts\" transform=\"translate(20,0)\" d=\"M6,0A6,6 0 1,1 0,-6A6,6 0 0,1 6,0Z\" style=\"opacity: 0.7; stroke-width: 2px; fill: rgb(0, 204, 150); fill-opacity: 1; stroke: rgb(255, 255, 255); stroke-opacity: 1;\"/></g></g></g><rect class=\"legendtoggle\" pointer-events=\"all\" x=\"0\" y=\"-9.5\" width=\"124.140625\" height=\"19\" style=\"cursor: pointer; fill: rgb(0, 0, 0); fill-opacity: 0;\"/></g></g></g><rect class=\"scrollbar\" rx=\"20\" ry=\"3\" width=\"0\" height=\"0\" style=\"fill: rgb(128, 139, 164); fill-opacity: 1;\" x=\"0\" y=\"0\"/></g><g class=\"g-gtitle\"><text class=\"gtitle\" x=\"350\" y=\"50\" text-anchor=\"middle\" dy=\"0em\" style=\"font-family: 'Open Sans', verdana, arial, sans-serif; font-size: 17px; fill: rgb(42, 63, 95); opacity: 1; font-weight: normal; white-space: pre;\">Countries With Starbucks Locations</text></g></g></svg>"
      ]
     },
     "metadata": {},
     "output_type": "display_data"
    }
   ],
   "source": [
    "# Graphing Starbucks presence store per country\n",
    "fig = px.scatter_geo(starbucks4, locations=\"country\",\n",
    "                     locationmode='country names',\n",
    "                     size=\"store_count\",\n",
    "                     color= 'region',\n",
    "                     size_max= 40,\n",
    "                    title='Countries With Starbucks Locations')\n",
    "\n",
    "fig.update(layout=dict(title=dict(x=0.5)))\n",
    "fig.show('svg')"
   ]
  },
  {
   "cell_type": "code",
   "execution_count": 53,
   "metadata": {},
   "outputs": [
    {
     "data": {
      "image/svg+xml": [
       "<svg class=\"main-svg\" xmlns=\"http://www.w3.org/2000/svg\" xmlns:xlink=\"http://www.w3.org/1999/xlink\" width=\"700\" height=\"450\" style=\"\" viewBox=\"0 0 700 450\"><rect x=\"0\" y=\"0\" width=\"700\" height=\"450\" style=\"fill: rgb(255, 255, 255); fill-opacity: 1;\"/><defs id=\"defs-a80376\"><g class=\"clips\"><clipPath id=\"clipa80376xyplot\" class=\"plotclip\"><rect width=\"483\" height=\"270\"/></clipPath><clipPath class=\"axesclip\" id=\"clipa80376x\"><rect x=\"137\" y=\"0\" width=\"483\" height=\"450\"/></clipPath><clipPath class=\"axesclip\" id=\"clipa80376y\"><rect x=\"0\" y=\"100\" width=\"700\" height=\"270\"/></clipPath><clipPath class=\"axesclip\" id=\"clipa80376xy\"><rect x=\"137\" y=\"100\" width=\"483\" height=\"270\"/></clipPath></g><g class=\"gradients\"/></defs><g class=\"bglayer\"><rect class=\"bg\" x=\"137\" y=\"100\" width=\"483\" height=\"270\" style=\"fill: rgb(229, 236, 246); fill-opacity: 1; stroke-width: 0;\"/></g><g class=\"layer-below\"><g class=\"imagelayer\"/><g class=\"shapelayer\"/></g><g class=\"cartesianlayer\"><g class=\"subplot xy\"><g class=\"layer-subplot\"><g class=\"shapelayer\"/><g class=\"imagelayer\"/></g><g class=\"gridlayer\"><g class=\"x\"><path class=\"xgrid crisp\" transform=\"translate(165.37,0)\" d=\"M0,100v270\" style=\"stroke: rgb(255, 255, 255); stroke-opacity: 1; stroke-width: 1px;\"/><path class=\"xgrid crisp\" transform=\"translate(197.82999999999998,0)\" d=\"M0,100v270\" style=\"stroke: rgb(255, 255, 255); stroke-opacity: 1; stroke-width: 1px;\"/><path class=\"xgrid crisp\" transform=\"translate(223.01,0)\" d=\"M0,100v270\" style=\"stroke: rgb(255, 255, 255); stroke-opacity: 1; stroke-width: 1px;\"/><path class=\"xgrid crisp\" transform=\"translate(243.59,0)\" d=\"M0,100v270\" style=\"stroke: rgb(255, 255, 255); stroke-opacity: 1; stroke-width: 1px;\"/><path class=\"xgrid crisp\" transform=\"translate(260.98,0)\" d=\"M0,100v270\" style=\"stroke: rgb(255, 255, 255); stroke-opacity: 1; stroke-width: 1px;\"/><path class=\"xgrid crisp\" transform=\"translate(276.05,0)\" d=\"M0,100v270\" style=\"stroke: rgb(255, 255, 255); stroke-opacity: 1; stroke-width: 1px;\"/><path class=\"xgrid crisp\" transform=\"translate(289.34000000000003,0)\" d=\"M0,100v270\" style=\"stroke: rgb(255, 255, 255); stroke-opacity: 1; stroke-width: 1px;\"/><path class=\"xgrid crisp\" transform=\"translate(301.24,0)\" d=\"M0,100v270\" style=\"stroke: rgb(255, 255, 255); stroke-opacity: 1; stroke-width: 1px;\"/><path class=\"xgrid crisp\" transform=\"translate(379.46000000000004,0)\" d=\"M0,100v270\" style=\"stroke: rgb(255, 255, 255); stroke-opacity: 1; stroke-width: 1px;\"/><path class=\"xgrid crisp\" transform=\"translate(425.21,0)\" d=\"M0,100v270\" style=\"stroke: rgb(255, 255, 255); stroke-opacity: 1; stroke-width: 1px;\"/><path class=\"xgrid crisp\" transform=\"translate(457.68,0)\" d=\"M0,100v270\" style=\"stroke: rgb(255, 255, 255); stroke-opacity: 1; stroke-width: 1px;\"/><path class=\"xgrid crisp\" transform=\"translate(482.86,0)\" d=\"M0,100v270\" style=\"stroke: rgb(255, 255, 255); stroke-opacity: 1; stroke-width: 1px;\"/><path class=\"xgrid crisp\" transform=\"translate(503.44,0)\" d=\"M0,100v270\" style=\"stroke: rgb(255, 255, 255); stroke-opacity: 1; stroke-width: 1px;\"/><path class=\"xgrid crisp\" transform=\"translate(520.8299999999999,0)\" d=\"M0,100v270\" style=\"stroke: rgb(255, 255, 255); stroke-opacity: 1; stroke-width: 1px;\"/><path class=\"xgrid crisp\" transform=\"translate(535.9,0)\" d=\"M0,100v270\" style=\"stroke: rgb(255, 255, 255); stroke-opacity: 1; stroke-width: 1px;\"/><path class=\"xgrid crisp\" transform=\"translate(549.19,0)\" d=\"M0,100v270\" style=\"stroke: rgb(255, 255, 255); stroke-opacity: 1; stroke-width: 1px;\"/><path class=\"xgrid crisp\" transform=\"translate(561.0799999999999,0)\" d=\"M0,100v270\" style=\"stroke: rgb(255, 255, 255); stroke-opacity: 1; stroke-width: 1px;\"/></g><g class=\"y\"><path class=\"ygrid crisp\" transform=\"translate(0,356.5)\" d=\"M137,0h483\" style=\"stroke: rgb(255, 255, 255); stroke-opacity: 1; stroke-width: 1px;\"/><path class=\"ygrid crisp\" transform=\"translate(0,329.5)\" d=\"M137,0h483\" style=\"stroke: rgb(255, 255, 255); stroke-opacity: 1; stroke-width: 1px;\"/><path class=\"ygrid crisp\" transform=\"translate(0,302.5)\" d=\"M137,0h483\" style=\"stroke: rgb(255, 255, 255); stroke-opacity: 1; stroke-width: 1px;\"/><path class=\"ygrid crisp\" transform=\"translate(0,275.5)\" d=\"M137,0h483\" style=\"stroke: rgb(255, 255, 255); stroke-opacity: 1; stroke-width: 1px;\"/><path class=\"ygrid crisp\" transform=\"translate(0,248.5)\" d=\"M137,0h483\" style=\"stroke: rgb(255, 255, 255); stroke-opacity: 1; stroke-width: 1px;\"/><path class=\"ygrid crisp\" transform=\"translate(0,221.5)\" d=\"M137,0h483\" style=\"stroke: rgb(255, 255, 255); stroke-opacity: 1; stroke-width: 1px;\"/><path class=\"ygrid crisp\" transform=\"translate(0,194.5)\" d=\"M137,0h483\" style=\"stroke: rgb(255, 255, 255); stroke-opacity: 1; stroke-width: 1px;\"/><path class=\"ygrid crisp\" transform=\"translate(0,167.5)\" d=\"M137,0h483\" style=\"stroke: rgb(255, 255, 255); stroke-opacity: 1; stroke-width: 1px;\"/><path class=\"ygrid crisp\" transform=\"translate(0,140.5)\" d=\"M137,0h483\" style=\"stroke: rgb(255, 255, 255); stroke-opacity: 1; stroke-width: 1px;\"/><path class=\"ygrid crisp\" transform=\"translate(0,113.5)\" d=\"M137,0h483\" style=\"stroke: rgb(255, 255, 255); stroke-opacity: 1; stroke-width: 1px;\"/></g></g><g class=\"zerolinelayer\"/><path class=\"xlines-below\"/><path class=\"ylines-below\"/><g class=\"overlines-below\"/><g class=\"xaxislayer-below\"/><g class=\"yaxislayer-below\"/><g class=\"overaxes-below\"/><g class=\"plot\" transform=\"translate(137, 100)\" clip-path=\"url('#clipa80376xyplot')\"><g class=\"barlayer mlayer\"><g class=\"trace bars\" style=\"opacity: 1;\"><g class=\"points\"><g class=\"point\"><path d=\"M-4588.5,267.3V245.7H24.15V267.3Z\" style=\"vector-effect: non-scaling-stroke; opacity: 1; stroke-width: 0.5px; fill: rgb(99, 110, 250); fill-opacity: 1; stroke: rgb(229, 236, 246); stroke-opacity: 1;\"/><text class=\"bartext bartext-outside\" text-anchor=\"middle\" data-notex=\"1\" x=\"0\" y=\"0\" style=\"font-family: 'Open Sans', verdana, arial, sans-serif; font-size: 12px; fill: rgb(42, 63, 95); fill-opacity: 1; white-space: pre;\" transform=\"translate(38.603125,261.296875)\">289</text></g><g class=\"point\"><path d=\"M-4588.5,240.3V218.7H27.61V240.3Z\" style=\"vector-effect: non-scaling-stroke; opacity: 1; stroke-width: 0.5px; fill: rgb(99, 110, 250); fill-opacity: 1; stroke: rgb(229, 236, 246); stroke-opacity: 1;\"/><text class=\"bartext bartext-outside\" text-anchor=\"middle\" data-notex=\"1\" x=\"0\" y=\"0\" style=\"font-family: 'Open Sans', verdana, arial, sans-serif; font-size: 12px; fill: rgb(42, 63, 95); fill-opacity: 1; white-space: pre;\" transform=\"translate(42.063125,234.296875)\">298</text></g><g class=\"point\"><path d=\"M-4588.5,213.3V191.7H37.75V213.3Z\" style=\"vector-effect: non-scaling-stroke; opacity: 1; stroke-width: 0.5px; fill: rgb(99, 110, 250); fill-opacity: 1; stroke: rgb(229, 236, 246); stroke-opacity: 1;\"/><text class=\"bartext bartext-inside\" text-anchor=\"middle\" data-notex=\"1\" x=\"0\" y=\"0\" style=\"font-family: 'Open Sans', verdana, arial, sans-serif; font-size: 12px; fill: rgb(255, 255, 255); fill-opacity: 1; white-space: pre;\" transform=\"translate(23.296875,207.296875)\">326</text></g><g class=\"point\"><path d=\"M-4588.5,186.3V164.7H102.57V186.3Z\" style=\"vector-effect: non-scaling-stroke; opacity: 1; stroke-width: 0.5px; fill: rgb(99, 110, 250); fill-opacity: 1; stroke: rgb(229, 236, 246); stroke-opacity: 1;\"/><text class=\"bartext bartext-inside\" text-anchor=\"middle\" data-notex=\"1\" x=\"0\" y=\"0\" style=\"font-family: 'Open Sans', verdana, arial, sans-serif; font-size: 12px; fill: rgb(255, 255, 255); fill-opacity: 1; white-space: pre;\" transform=\"translate(88.116875,180.296875)\">579</text></g><g class=\"point\"><path d=\"M-4588.5,159.3V137.7H152.47V159.3Z\" style=\"vector-effect: non-scaling-stroke; opacity: 1; stroke-width: 0.5px; fill: rgb(99, 110, 250); fill-opacity: 1; stroke: rgb(229, 236, 246); stroke-opacity: 1;\"/><text class=\"bartext bartext-inside\" text-anchor=\"middle\" data-notex=\"1\" x=\"0\" y=\"0\" style=\"font-family: 'Open Sans', verdana, arial, sans-serif; font-size: 12px; fill: rgb(255, 255, 255); fill-opacity: 1; white-space: pre;\" transform=\"translate(138.016875,153.296875)\">901</text></g><g class=\"point\"><path d=\"M-4588.5,132.3V110.7H163.44V132.3Z\" style=\"vector-effect: non-scaling-stroke; opacity: 1; stroke-width: 0.5px; fill: rgb(99, 110, 250); fill-opacity: 1; stroke: rgb(229, 236, 246); stroke-opacity: 1;\"/><text class=\"bartext bartext-inside\" text-anchor=\"middle\" data-notex=\"1\" x=\"0\" y=\"0\" style=\"font-family: 'Open Sans', verdana, arial, sans-serif; font-size: 12px; fill: rgb(255, 255, 255); fill-opacity: 1; white-space: pre;\" transform=\"translate(148.986875,126.296875)\">993</text></g><g class=\"point\"><path d=\"M-4588.5,105.3V83.7H188.24V105.3Z\" style=\"vector-effect: non-scaling-stroke; opacity: 1; stroke-width: 0.5px; fill: rgb(99, 110, 250); fill-opacity: 1; stroke: rgb(229, 236, 246); stroke-opacity: 1;\"/><text class=\"bartext bartext-inside\" text-anchor=\"middle\" data-notex=\"1\" x=\"0\" y=\"0\" style=\"font-family: 'Open Sans', verdana, arial, sans-serif; font-size: 12px; fill: rgb(255, 255, 255); fill-opacity: 1; white-space: pre;\" transform=\"translate(169.974375,99.296875)\">1237</text></g><g class=\"point\"><path d=\"M-4588.5,78.3V56.7H207.56V78.3Z\" style=\"vector-effect: non-scaling-stroke; opacity: 1; stroke-width: 0.5px; fill: rgb(99, 110, 250); fill-opacity: 1; stroke: rgb(229, 236, 246); stroke-opacity: 1;\"/><text class=\"bartext bartext-inside\" text-anchor=\"middle\" data-notex=\"1\" x=\"0\" y=\"0\" style=\"font-family: 'Open Sans', verdana, arial, sans-serif; font-size: 12px; fill: rgb(255, 255, 255); fill-opacity: 1; white-space: pre;\" transform=\"translate(189.294375,72.296875)\">1468</text></g><g class=\"point\"><path d=\"M-4588.5,51.3V29.7H277.74V51.3Z\" style=\"vector-effect: non-scaling-stroke; opacity: 1; stroke-width: 0.5px; fill: rgb(99, 110, 250); fill-opacity: 1; stroke: rgb(229, 236, 246); stroke-opacity: 1;\"/><text class=\"bartext bartext-inside\" text-anchor=\"middle\" data-notex=\"1\" x=\"0\" y=\"0\" style=\"font-family: 'Open Sans', verdana, arial, sans-serif; font-size: 12px; fill: rgb(255, 255, 255); fill-opacity: 1; white-space: pre;\" transform=\"translate(259.474375,45.296875)\">2734</text></g><g class=\"point\"><path d=\"M-4588.5,24.3V2.7H458.85V24.3Z\" style=\"vector-effect: non-scaling-stroke; opacity: 1; stroke-width: 0.5px; fill: rgb(99, 110, 250); fill-opacity: 1; stroke: rgb(229, 236, 246); stroke-opacity: 1;\"/><text class=\"bartext bartext-inside\" text-anchor=\"middle\" data-notex=\"1\" x=\"0\" y=\"0\" style=\"font-family: 'Open Sans', verdana, arial, sans-serif; font-size: 12px; fill: rgb(255, 255, 255); fill-opacity: 1; white-space: pre;\" transform=\"translate(436.771875,18.296875)\">13608</text></g></g></g></g></g><g class=\"overplot\"/><path class=\"xlines-above crisp\" d=\"M136,370.5H620\" style=\"fill: none; stroke-width: 1px; stroke: rgb(255, 255, 255); stroke-opacity: 1;\"/><path class=\"ylines-above crisp\" d=\"M136.5,100V370\" style=\"fill: none; stroke-width: 1px; stroke: rgb(255, 255, 255); stroke-opacity: 1;\"/><g class=\"overlines-above\"/><g class=\"xaxislayer-above\"><g class=\"xtick\"><text text-anchor=\"middle\" x=\"0\" y=\"382.4\" transform=\"translate(165.37,0)\" style=\"font-family: 'Open Sans', verdana, arial, sans-serif; font-size: 9px; fill: rgb(42, 63, 95); fill-opacity: 1; white-space: pre;\">3</text></g><g class=\"xtick\"><text text-anchor=\"middle\" x=\"0\" y=\"382.4\" transform=\"translate(197.82999999999998,0)\" style=\"font-family: 'Open Sans', verdana, arial, sans-serif; font-size: 9px; fill: rgb(42, 63, 95); fill-opacity: 1; white-space: pre;\">4</text></g><g class=\"xtick\"><text text-anchor=\"middle\" x=\"0\" y=\"382.4\" transform=\"translate(223.01,0)\" style=\"font-family: 'Open Sans', verdana, arial, sans-serif; font-size: 9px; fill: rgb(42, 63, 95); fill-opacity: 1; white-space: pre;\">5</text></g><g class=\"xtick\"><text text-anchor=\"middle\" x=\"0\" y=\"382.4\" transform=\"translate(243.59,0)\" style=\"font-family: 'Open Sans', verdana, arial, sans-serif; font-size: 9px; fill: rgb(42, 63, 95); fill-opacity: 1; white-space: pre;\">6</text></g><g class=\"xtick\"><text text-anchor=\"middle\" x=\"0\" y=\"382.4\" transform=\"translate(260.98,0)\" style=\"font-family: 'Open Sans', verdana, arial, sans-serif; font-size: 9px; fill: rgb(42, 63, 95); fill-opacity: 1; white-space: pre;\">7</text></g><g class=\"xtick\"><text text-anchor=\"middle\" x=\"0\" y=\"382.4\" transform=\"translate(276.05,0)\" style=\"font-family: 'Open Sans', verdana, arial, sans-serif; font-size: 9px; fill: rgb(42, 63, 95); fill-opacity: 1; white-space: pre;\">8</text></g><g class=\"xtick\"><text text-anchor=\"middle\" x=\"0\" y=\"382.4\" transform=\"translate(289.34000000000003,0)\" style=\"font-family: 'Open Sans', verdana, arial, sans-serif; font-size: 9px; fill: rgb(42, 63, 95); fill-opacity: 1; white-space: pre;\">9</text></g><g class=\"xtick\"><text text-anchor=\"middle\" x=\"3\" y=\"391.4\" transform=\"translate(301.24,0)\" style=\"font-family: 'Open Sans', verdana, arial, sans-serif; font-size: 12px; fill: rgb(42, 63, 95); fill-opacity: 1; white-space: pre;\">1000</text></g><g class=\"xtick\"><text text-anchor=\"middle\" x=\"0\" y=\"382.4\" transform=\"translate(379.46000000000004,0)\" style=\"font-family: 'Open Sans', verdana, arial, sans-serif; font-size: 9px; fill: rgb(42, 63, 95); fill-opacity: 1; white-space: pre;\">2</text></g><g class=\"xtick\"><text text-anchor=\"middle\" x=\"0\" y=\"382.4\" transform=\"translate(425.21,0)\" style=\"font-family: 'Open Sans', verdana, arial, sans-serif; font-size: 9px; fill: rgb(42, 63, 95); fill-opacity: 1; white-space: pre;\">3</text></g><g class=\"xtick\"><text text-anchor=\"middle\" x=\"0\" y=\"382.4\" transform=\"translate(457.68,0)\" style=\"font-family: 'Open Sans', verdana, arial, sans-serif; font-size: 9px; fill: rgb(42, 63, 95); fill-opacity: 1; white-space: pre;\">4</text></g><g class=\"xtick\"><text text-anchor=\"middle\" x=\"0\" y=\"382.4\" transform=\"translate(482.86,0)\" style=\"font-family: 'Open Sans', verdana, arial, sans-serif; font-size: 9px; fill: rgb(42, 63, 95); fill-opacity: 1; white-space: pre;\">5</text></g><g class=\"xtick\"><text text-anchor=\"middle\" x=\"0\" y=\"382.4\" transform=\"translate(503.44,0)\" style=\"font-family: 'Open Sans', verdana, arial, sans-serif; font-size: 9px; fill: rgb(42, 63, 95); fill-opacity: 1; white-space: pre;\">6</text></g><g class=\"xtick\"><text text-anchor=\"middle\" x=\"0\" y=\"382.4\" transform=\"translate(520.8299999999999,0)\" style=\"font-family: 'Open Sans', verdana, arial, sans-serif; font-size: 9px; fill: rgb(42, 63, 95); fill-opacity: 1; white-space: pre;\">7</text></g><g class=\"xtick\"><text text-anchor=\"middle\" x=\"0\" y=\"382.4\" transform=\"translate(535.9,0)\" style=\"font-family: 'Open Sans', verdana, arial, sans-serif; font-size: 9px; fill: rgb(42, 63, 95); fill-opacity: 1; white-space: pre;\">8</text></g><g class=\"xtick\"><text text-anchor=\"middle\" x=\"0\" y=\"382.4\" transform=\"translate(549.19,0)\" style=\"font-family: 'Open Sans', verdana, arial, sans-serif; font-size: 9px; fill: rgb(42, 63, 95); fill-opacity: 1; white-space: pre;\">9</text></g><g class=\"xtick\"><text text-anchor=\"middle\" x=\"3\" y=\"391.4\" transform=\"translate(561.0799999999999,0)\" style=\"font-family: 'Open Sans', verdana, arial, sans-serif; font-size: 12px; fill: rgb(42, 63, 95); fill-opacity: 1; white-space: pre;\">10k</text></g></g><g class=\"yaxislayer-above\"><g class=\"ytick\"><text text-anchor=\"end\" x=\"133.6\" y=\"4.199999999999999\" transform=\"translate(0,356.5)\" style=\"font-family: 'Open Sans', verdana, arial, sans-serif; font-size: 12px; fill: rgb(42, 63, 95); fill-opacity: 1; white-space: pre;\">Thailand</text></g><g class=\"ytick\"><text text-anchor=\"end\" x=\"133.6\" y=\"4.199999999999999\" transform=\"translate(0,329.5)\" style=\"font-family: 'Open Sans', verdana, arial, sans-serif; font-size: 12px; fill: rgb(42, 63, 95); fill-opacity: 1; white-space: pre;\">Philippines</text></g><g class=\"ytick\"><text text-anchor=\"end\" x=\"133.6\" y=\"4.199999999999999\" transform=\"translate(0,302.5)\" style=\"font-family: 'Open Sans', verdana, arial, sans-serif; font-size: 12px; fill: rgb(42, 63, 95); fill-opacity: 1; white-space: pre;\">Turkey</text></g><g class=\"ytick\"><text text-anchor=\"end\" x=\"133.6\" y=\"4.199999999999999\" transform=\"translate(0,275.5)\" style=\"font-family: 'Open Sans', verdana, arial, sans-serif; font-size: 12px; fill: rgb(42, 63, 95); fill-opacity: 1; white-space: pre;\">Mexico</text></g><g class=\"ytick\"><text text-anchor=\"end\" x=\"133.6\" y=\"4.199999999999999\" transform=\"translate(0,248.5)\" style=\"font-family: 'Open Sans', verdana, arial, sans-serif; font-size: 12px; fill: rgb(42, 63, 95); fill-opacity: 1; white-space: pre;\">United Kingdom</text></g><g class=\"ytick\"><text text-anchor=\"end\" x=\"133.6\" y=\"4.199999999999999\" transform=\"translate(0,221.5)\" style=\"font-family: 'Open Sans', verdana, arial, sans-serif; font-size: 12px; fill: rgb(42, 63, 95); fill-opacity: 1; white-space: pre;\">South Korea</text></g><g class=\"ytick\"><text text-anchor=\"end\" x=\"133.6\" y=\"4.199999999999999\" transform=\"translate(0,194.5)\" style=\"font-family: 'Open Sans', verdana, arial, sans-serif; font-size: 12px; fill: rgb(42, 63, 95); fill-opacity: 1; white-space: pre;\">Japan</text></g><g class=\"ytick\"><text text-anchor=\"end\" x=\"133.6\" y=\"4.199999999999999\" transform=\"translate(0,167.5)\" style=\"font-family: 'Open Sans', verdana, arial, sans-serif; font-size: 12px; fill: rgb(42, 63, 95); fill-opacity: 1; white-space: pre;\">Canada</text></g><g class=\"ytick\"><text text-anchor=\"end\" x=\"133.6\" y=\"4.199999999999999\" transform=\"translate(0,140.5)\" style=\"font-family: 'Open Sans', verdana, arial, sans-serif; font-size: 12px; fill: rgb(42, 63, 95); fill-opacity: 1; white-space: pre;\">China</text></g><g class=\"ytick\"><text text-anchor=\"end\" x=\"133.6\" y=\"4.199999999999999\" transform=\"translate(0,113.5)\" style=\"font-family: 'Open Sans', verdana, arial, sans-serif; font-size: 12px; fill: rgb(42, 63, 95); fill-opacity: 1; white-space: pre;\">United States</text></g></g><g class=\"overaxes-above\"/></g></g><g class=\"polarlayer\"/><g class=\"ternarylayer\"/><g class=\"geolayer\"/><g class=\"funnelarealayer\"/><g class=\"pielayer\"/><g class=\"treemaplayer\"/><g class=\"sunburstlayer\"/><g class=\"glimages\"/><defs id=\"topdefs-a80376\"><g class=\"clips\"/></defs><g class=\"layer-above\"><g class=\"imagelayer\"/><g class=\"shapelayer\"/></g><g class=\"infolayer\"><g class=\"g-gtitle\"><text class=\"gtitle\" x=\"350\" y=\"50\" text-anchor=\"middle\" dy=\"0em\" style=\"font-family: 'Open Sans', verdana, arial, sans-serif; font-size: 17px; fill: rgb(42, 63, 95); opacity: 1; font-weight: normal; white-space: pre;\">Top 10 Countries With Starbucks Locations</text></g><g class=\"g-xtitle\"><text class=\"xtitle\" x=\"378.5\" y=\"418.6125\" text-anchor=\"middle\" style=\"font-family: 'Open Sans', verdana, arial, sans-serif; font-size: 14px; fill: rgb(42, 63, 95); opacity: 1; font-weight: normal; white-space: pre;\">number of stores</text></g><g class=\"g-ytitle\" transform=\"translate(1.5654296875,0)\"><text class=\"ytitle\" transform=\"rotate(-90,12.434375000000003,235)\" x=\"12.434375000000003\" y=\"235\" text-anchor=\"middle\" style=\"font-family: 'Open Sans', verdana, arial, sans-serif; font-size: 14px; fill: rgb(42, 63, 95); opacity: 1; font-weight: normal; white-space: pre;\">country</text></g></g></svg>"
      ]
     },
     "metadata": {},
     "output_type": "display_data"
    }
   ],
   "source": [
    "#Make a new data frame for the bar graph\n",
    "star_bar = starbucks5[['country',  'store_count']]\n",
    "star_bar = star_bar.sort_values(by='store_count').tail(10)\n",
    "\n",
    "#Display the top 15 countries with starbucks locations\n",
    "fig = px.bar(star_bar, y='country' , x='store_count', \n",
    "             orientation='h', log_x=True,\n",
    "            title=\"Top 10 Countries With Starbucks Locations\",\n",
    "            labels= {'store_count': 'number of stores'},\n",
    "            text='store_count')\n",
    "\n",
    "fig.update(layout=dict(title=dict(x=0.5)))\n",
    "\n",
    "fig.show('svg')\n"
   ]
  },
  {
   "cell_type": "code",
   "execution_count": 14,
   "metadata": {},
   "outputs": [
    {
     "data": {
      "application/vnd.plotly.v1+json": {
       "config": {
        "plotlyServerURL": "https://plot.ly"
       },
       "data": [
        {
         "hovertemplate": "region=americas<br>year=%{x}<br>number of stores=%{y}<extra></extra>",
         "legendgroup": "americas",
         "line": {
          "color": "#636efa",
          "dash": "solid",
          "shape": "spline"
         },
         "mode": "lines",
         "name": "americas",
         "orientation": "v",
         "showlegend": true,
         "type": "scatter",
         "x": [
          "9/30/2012",
          "9/29/2013",
          "9/28/2014",
          "9/27/2015",
          "10/29/2016"
         ],
         "xaxis": "x",
         "y": [
          508,
          680,
          698,
          612,
          804
         ],
         "yaxis": "y"
        },
        {
         "hovertemplate": "region=asia_oceania<br>year=%{x}<br>number of stores=%{y}<extra></extra>",
         "legendgroup": "asia_oceania",
         "line": {
          "color": "#EF553B",
          "dash": "solid",
          "shape": "spline"
         },
         "mode": "lines",
         "name": "asia_oceania",
         "orientation": "v",
         "showlegend": true,
         "type": "scatter",
         "x": [
          "9/30/2012",
          "9/29/2013",
          "9/28/2014",
          "9/27/2015",
          "10/29/2016"
         ],
         "xaxis": "x",
         "y": [
          448,
          588,
          742,
          838,
          981
         ],
         "yaxis": "y"
        },
        {
         "hovertemplate": "region=europe_africa<br>year=%{x}<br>number of stores=%{y}<extra></extra>",
         "legendgroup": "europe_africa",
         "line": {
          "color": "#00cc96",
          "dash": "solid",
          "shape": "spline"
         },
         "mode": "lines",
         "name": "europe_africa",
         "orientation": "v",
         "showlegend": true,
         "type": "scatter",
         "x": [
          "9/30/2012",
          "9/29/2013",
          "9/28/2014",
          "9/27/2015",
          "10/29/2016"
         ],
         "xaxis": "x",
         "y": [
          91,
          100,
          171,
          222,
          280
         ],
         "yaxis": "y"
        }
       ],
       "layout": {
        "legend": {
         "title": {
          "text": "region"
         },
         "tracegroupgap": 0
        },
        "template": {
         "data": {
          "bar": [
           {
            "error_x": {
             "color": "#2a3f5f"
            },
            "error_y": {
             "color": "#2a3f5f"
            },
            "marker": {
             "line": {
              "color": "#E5ECF6",
              "width": 0.5
             }
            },
            "type": "bar"
           }
          ],
          "barpolar": [
           {
            "marker": {
             "line": {
              "color": "#E5ECF6",
              "width": 0.5
             }
            },
            "type": "barpolar"
           }
          ],
          "carpet": [
           {
            "aaxis": {
             "endlinecolor": "#2a3f5f",
             "gridcolor": "white",
             "linecolor": "white",
             "minorgridcolor": "white",
             "startlinecolor": "#2a3f5f"
            },
            "baxis": {
             "endlinecolor": "#2a3f5f",
             "gridcolor": "white",
             "linecolor": "white",
             "minorgridcolor": "white",
             "startlinecolor": "#2a3f5f"
            },
            "type": "carpet"
           }
          ],
          "choropleth": [
           {
            "colorbar": {
             "outlinewidth": 0,
             "ticks": ""
            },
            "type": "choropleth"
           }
          ],
          "contour": [
           {
            "colorbar": {
             "outlinewidth": 0,
             "ticks": ""
            },
            "colorscale": [
             [
              0,
              "#0d0887"
             ],
             [
              0.1111111111111111,
              "#46039f"
             ],
             [
              0.2222222222222222,
              "#7201a8"
             ],
             [
              0.3333333333333333,
              "#9c179e"
             ],
             [
              0.4444444444444444,
              "#bd3786"
             ],
             [
              0.5555555555555556,
              "#d8576b"
             ],
             [
              0.6666666666666666,
              "#ed7953"
             ],
             [
              0.7777777777777778,
              "#fb9f3a"
             ],
             [
              0.8888888888888888,
              "#fdca26"
             ],
             [
              1,
              "#f0f921"
             ]
            ],
            "type": "contour"
           }
          ],
          "contourcarpet": [
           {
            "colorbar": {
             "outlinewidth": 0,
             "ticks": ""
            },
            "type": "contourcarpet"
           }
          ],
          "heatmap": [
           {
            "colorbar": {
             "outlinewidth": 0,
             "ticks": ""
            },
            "colorscale": [
             [
              0,
              "#0d0887"
             ],
             [
              0.1111111111111111,
              "#46039f"
             ],
             [
              0.2222222222222222,
              "#7201a8"
             ],
             [
              0.3333333333333333,
              "#9c179e"
             ],
             [
              0.4444444444444444,
              "#bd3786"
             ],
             [
              0.5555555555555556,
              "#d8576b"
             ],
             [
              0.6666666666666666,
              "#ed7953"
             ],
             [
              0.7777777777777778,
              "#fb9f3a"
             ],
             [
              0.8888888888888888,
              "#fdca26"
             ],
             [
              1,
              "#f0f921"
             ]
            ],
            "type": "heatmap"
           }
          ],
          "heatmapgl": [
           {
            "colorbar": {
             "outlinewidth": 0,
             "ticks": ""
            },
            "colorscale": [
             [
              0,
              "#0d0887"
             ],
             [
              0.1111111111111111,
              "#46039f"
             ],
             [
              0.2222222222222222,
              "#7201a8"
             ],
             [
              0.3333333333333333,
              "#9c179e"
             ],
             [
              0.4444444444444444,
              "#bd3786"
             ],
             [
              0.5555555555555556,
              "#d8576b"
             ],
             [
              0.6666666666666666,
              "#ed7953"
             ],
             [
              0.7777777777777778,
              "#fb9f3a"
             ],
             [
              0.8888888888888888,
              "#fdca26"
             ],
             [
              1,
              "#f0f921"
             ]
            ],
            "type": "heatmapgl"
           }
          ],
          "histogram": [
           {
            "marker": {
             "colorbar": {
              "outlinewidth": 0,
              "ticks": ""
             }
            },
            "type": "histogram"
           }
          ],
          "histogram2d": [
           {
            "colorbar": {
             "outlinewidth": 0,
             "ticks": ""
            },
            "colorscale": [
             [
              0,
              "#0d0887"
             ],
             [
              0.1111111111111111,
              "#46039f"
             ],
             [
              0.2222222222222222,
              "#7201a8"
             ],
             [
              0.3333333333333333,
              "#9c179e"
             ],
             [
              0.4444444444444444,
              "#bd3786"
             ],
             [
              0.5555555555555556,
              "#d8576b"
             ],
             [
              0.6666666666666666,
              "#ed7953"
             ],
             [
              0.7777777777777778,
              "#fb9f3a"
             ],
             [
              0.8888888888888888,
              "#fdca26"
             ],
             [
              1,
              "#f0f921"
             ]
            ],
            "type": "histogram2d"
           }
          ],
          "histogram2dcontour": [
           {
            "colorbar": {
             "outlinewidth": 0,
             "ticks": ""
            },
            "colorscale": [
             [
              0,
              "#0d0887"
             ],
             [
              0.1111111111111111,
              "#46039f"
             ],
             [
              0.2222222222222222,
              "#7201a8"
             ],
             [
              0.3333333333333333,
              "#9c179e"
             ],
             [
              0.4444444444444444,
              "#bd3786"
             ],
             [
              0.5555555555555556,
              "#d8576b"
             ],
             [
              0.6666666666666666,
              "#ed7953"
             ],
             [
              0.7777777777777778,
              "#fb9f3a"
             ],
             [
              0.8888888888888888,
              "#fdca26"
             ],
             [
              1,
              "#f0f921"
             ]
            ],
            "type": "histogram2dcontour"
           }
          ],
          "mesh3d": [
           {
            "colorbar": {
             "outlinewidth": 0,
             "ticks": ""
            },
            "type": "mesh3d"
           }
          ],
          "parcoords": [
           {
            "line": {
             "colorbar": {
              "outlinewidth": 0,
              "ticks": ""
             }
            },
            "type": "parcoords"
           }
          ],
          "pie": [
           {
            "automargin": true,
            "type": "pie"
           }
          ],
          "scatter": [
           {
            "marker": {
             "colorbar": {
              "outlinewidth": 0,
              "ticks": ""
             }
            },
            "type": "scatter"
           }
          ],
          "scatter3d": [
           {
            "line": {
             "colorbar": {
              "outlinewidth": 0,
              "ticks": ""
             }
            },
            "marker": {
             "colorbar": {
              "outlinewidth": 0,
              "ticks": ""
             }
            },
            "type": "scatter3d"
           }
          ],
          "scattercarpet": [
           {
            "marker": {
             "colorbar": {
              "outlinewidth": 0,
              "ticks": ""
             }
            },
            "type": "scattercarpet"
           }
          ],
          "scattergeo": [
           {
            "marker": {
             "colorbar": {
              "outlinewidth": 0,
              "ticks": ""
             }
            },
            "type": "scattergeo"
           }
          ],
          "scattergl": [
           {
            "marker": {
             "colorbar": {
              "outlinewidth": 0,
              "ticks": ""
             }
            },
            "type": "scattergl"
           }
          ],
          "scattermapbox": [
           {
            "marker": {
             "colorbar": {
              "outlinewidth": 0,
              "ticks": ""
             }
            },
            "type": "scattermapbox"
           }
          ],
          "scatterpolar": [
           {
            "marker": {
             "colorbar": {
              "outlinewidth": 0,
              "ticks": ""
             }
            },
            "type": "scatterpolar"
           }
          ],
          "scatterpolargl": [
           {
            "marker": {
             "colorbar": {
              "outlinewidth": 0,
              "ticks": ""
             }
            },
            "type": "scatterpolargl"
           }
          ],
          "scatterternary": [
           {
            "marker": {
             "colorbar": {
              "outlinewidth": 0,
              "ticks": ""
             }
            },
            "type": "scatterternary"
           }
          ],
          "surface": [
           {
            "colorbar": {
             "outlinewidth": 0,
             "ticks": ""
            },
            "colorscale": [
             [
              0,
              "#0d0887"
             ],
             [
              0.1111111111111111,
              "#46039f"
             ],
             [
              0.2222222222222222,
              "#7201a8"
             ],
             [
              0.3333333333333333,
              "#9c179e"
             ],
             [
              0.4444444444444444,
              "#bd3786"
             ],
             [
              0.5555555555555556,
              "#d8576b"
             ],
             [
              0.6666666666666666,
              "#ed7953"
             ],
             [
              0.7777777777777778,
              "#fb9f3a"
             ],
             [
              0.8888888888888888,
              "#fdca26"
             ],
             [
              1,
              "#f0f921"
             ]
            ],
            "type": "surface"
           }
          ],
          "table": [
           {
            "cells": {
             "fill": {
              "color": "#EBF0F8"
             },
             "line": {
              "color": "white"
             }
            },
            "header": {
             "fill": {
              "color": "#C8D4E3"
             },
             "line": {
              "color": "white"
             }
            },
            "type": "table"
           }
          ]
         },
         "layout": {
          "annotationdefaults": {
           "arrowcolor": "#2a3f5f",
           "arrowhead": 0,
           "arrowwidth": 1
          },
          "coloraxis": {
           "colorbar": {
            "outlinewidth": 0,
            "ticks": ""
           }
          },
          "colorscale": {
           "diverging": [
            [
             0,
             "#8e0152"
            ],
            [
             0.1,
             "#c51b7d"
            ],
            [
             0.2,
             "#de77ae"
            ],
            [
             0.3,
             "#f1b6da"
            ],
            [
             0.4,
             "#fde0ef"
            ],
            [
             0.5,
             "#f7f7f7"
            ],
            [
             0.6,
             "#e6f5d0"
            ],
            [
             0.7,
             "#b8e186"
            ],
            [
             0.8,
             "#7fbc41"
            ],
            [
             0.9,
             "#4d9221"
            ],
            [
             1,
             "#276419"
            ]
           ],
           "sequential": [
            [
             0,
             "#0d0887"
            ],
            [
             0.1111111111111111,
             "#46039f"
            ],
            [
             0.2222222222222222,
             "#7201a8"
            ],
            [
             0.3333333333333333,
             "#9c179e"
            ],
            [
             0.4444444444444444,
             "#bd3786"
            ],
            [
             0.5555555555555556,
             "#d8576b"
            ],
            [
             0.6666666666666666,
             "#ed7953"
            ],
            [
             0.7777777777777778,
             "#fb9f3a"
            ],
            [
             0.8888888888888888,
             "#fdca26"
            ],
            [
             1,
             "#f0f921"
            ]
           ],
           "sequentialminus": [
            [
             0,
             "#0d0887"
            ],
            [
             0.1111111111111111,
             "#46039f"
            ],
            [
             0.2222222222222222,
             "#7201a8"
            ],
            [
             0.3333333333333333,
             "#9c179e"
            ],
            [
             0.4444444444444444,
             "#bd3786"
            ],
            [
             0.5555555555555556,
             "#d8576b"
            ],
            [
             0.6666666666666666,
             "#ed7953"
            ],
            [
             0.7777777777777778,
             "#fb9f3a"
            ],
            [
             0.8888888888888888,
             "#fdca26"
            ],
            [
             1,
             "#f0f921"
            ]
           ]
          },
          "colorway": [
           "#636efa",
           "#EF553B",
           "#00cc96",
           "#ab63fa",
           "#FFA15A",
           "#19d3f3",
           "#FF6692",
           "#B6E880",
           "#FF97FF",
           "#FECB52"
          ],
          "font": {
           "color": "#2a3f5f"
          },
          "geo": {
           "bgcolor": "white",
           "lakecolor": "white",
           "landcolor": "#E5ECF6",
           "showlakes": true,
           "showland": true,
           "subunitcolor": "white"
          },
          "hoverlabel": {
           "align": "left"
          },
          "hovermode": "closest",
          "mapbox": {
           "style": "light"
          },
          "paper_bgcolor": "white",
          "plot_bgcolor": "#E5ECF6",
          "polar": {
           "angularaxis": {
            "gridcolor": "white",
            "linecolor": "white",
            "ticks": ""
           },
           "bgcolor": "#E5ECF6",
           "radialaxis": {
            "gridcolor": "white",
            "linecolor": "white",
            "ticks": ""
           }
          },
          "scene": {
           "xaxis": {
            "backgroundcolor": "#E5ECF6",
            "gridcolor": "white",
            "gridwidth": 2,
            "linecolor": "white",
            "showbackground": true,
            "ticks": "",
            "zerolinecolor": "white"
           },
           "yaxis": {
            "backgroundcolor": "#E5ECF6",
            "gridcolor": "white",
            "gridwidth": 2,
            "linecolor": "white",
            "showbackground": true,
            "ticks": "",
            "zerolinecolor": "white"
           },
           "zaxis": {
            "backgroundcolor": "#E5ECF6",
            "gridcolor": "white",
            "gridwidth": 2,
            "linecolor": "white",
            "showbackground": true,
            "ticks": "",
            "zerolinecolor": "white"
           }
          },
          "shapedefaults": {
           "line": {
            "color": "#2a3f5f"
           }
          },
          "ternary": {
           "aaxis": {
            "gridcolor": "white",
            "linecolor": "white",
            "ticks": ""
           },
           "baxis": {
            "gridcolor": "white",
            "linecolor": "white",
            "ticks": ""
           },
           "bgcolor": "#E5ECF6",
           "caxis": {
            "gridcolor": "white",
            "linecolor": "white",
            "ticks": ""
           }
          },
          "title": {
           "x": 0.05
          },
          "xaxis": {
           "automargin": true,
           "gridcolor": "white",
           "linecolor": "white",
           "ticks": "",
           "title": {
            "standoff": 15
           },
           "zerolinecolor": "white",
           "zerolinewidth": 2
          },
          "yaxis": {
           "automargin": true,
           "gridcolor": "white",
           "linecolor": "white",
           "ticks": "",
           "title": {
            "standoff": 15
           },
           "zerolinecolor": "white",
           "zerolinewidth": 2
          }
         }
        },
        "title": {
         "text": "Stores Open Per Year",
         "x": 0.5
        },
        "xaxis": {
         "anchor": "y",
         "domain": [
          0,
          1
         ],
         "title": {
          "text": "year"
         }
        },
        "yaxis": {
         "anchor": "x",
         "domain": [
          0,
          1
         ],
         "title": {
          "text": "number of stores"
         }
        }
       }
      },
      "text/html": [
       "<div>\n",
       "        \n",
       "        \n",
       "            <div id=\"3328dda0-cca6-4756-8b66-3aa42fd06d7f\" class=\"plotly-graph-div\" style=\"height:525px; width:100%;\"></div>\n",
       "            <script type=\"text/javascript\">\n",
       "                require([\"plotly\"], function(Plotly) {\n",
       "                    window.PLOTLYENV=window.PLOTLYENV || {};\n",
       "                    \n",
       "                if (document.getElementById(\"3328dda0-cca6-4756-8b66-3aa42fd06d7f\")) {\n",
       "                    Plotly.newPlot(\n",
       "                        '3328dda0-cca6-4756-8b66-3aa42fd06d7f',\n",
       "                        [{\"hovertemplate\": \"region=americas<br>year=%{x}<br>number of stores=%{y}<extra></extra>\", \"legendgroup\": \"americas\", \"line\": {\"color\": \"#636efa\", \"dash\": \"solid\", \"shape\": \"spline\"}, \"mode\": \"lines\", \"name\": \"americas\", \"orientation\": \"v\", \"showlegend\": true, \"type\": \"scatter\", \"x\": [\"9/30/2012\", \"9/29/2013\", \"9/28/2014\", \"9/27/2015\", \"10/29/2016\"], \"xaxis\": \"x\", \"y\": [508, 680, 698, 612, 804], \"yaxis\": \"y\"}, {\"hovertemplate\": \"region=asia_oceania<br>year=%{x}<br>number of stores=%{y}<extra></extra>\", \"legendgroup\": \"asia_oceania\", \"line\": {\"color\": \"#EF553B\", \"dash\": \"solid\", \"shape\": \"spline\"}, \"mode\": \"lines\", \"name\": \"asia_oceania\", \"orientation\": \"v\", \"showlegend\": true, \"type\": \"scatter\", \"x\": [\"9/30/2012\", \"9/29/2013\", \"9/28/2014\", \"9/27/2015\", \"10/29/2016\"], \"xaxis\": \"x\", \"y\": [448, 588, 742, 838, 981], \"yaxis\": \"y\"}, {\"hovertemplate\": \"region=europe_africa<br>year=%{x}<br>number of stores=%{y}<extra></extra>\", \"legendgroup\": \"europe_africa\", \"line\": {\"color\": \"#00cc96\", \"dash\": \"solid\", \"shape\": \"spline\"}, \"mode\": \"lines\", \"name\": \"europe_africa\", \"orientation\": \"v\", \"showlegend\": true, \"type\": \"scatter\", \"x\": [\"9/30/2012\", \"9/29/2013\", \"9/28/2014\", \"9/27/2015\", \"10/29/2016\"], \"xaxis\": \"x\", \"y\": [91, 100, 171, 222, 280], \"yaxis\": \"y\"}],\n",
       "                        {\"legend\": {\"title\": {\"text\": \"region\"}, \"tracegroupgap\": 0}, \"template\": {\"data\": {\"bar\": [{\"error_x\": {\"color\": \"#2a3f5f\"}, \"error_y\": {\"color\": \"#2a3f5f\"}, \"marker\": {\"line\": {\"color\": \"#E5ECF6\", \"width\": 0.5}}, \"type\": \"bar\"}], \"barpolar\": [{\"marker\": {\"line\": {\"color\": \"#E5ECF6\", \"width\": 0.5}}, \"type\": \"barpolar\"}], \"carpet\": [{\"aaxis\": {\"endlinecolor\": \"#2a3f5f\", \"gridcolor\": \"white\", \"linecolor\": \"white\", \"minorgridcolor\": \"white\", \"startlinecolor\": \"#2a3f5f\"}, \"baxis\": {\"endlinecolor\": \"#2a3f5f\", \"gridcolor\": \"white\", \"linecolor\": \"white\", \"minorgridcolor\": \"white\", \"startlinecolor\": \"#2a3f5f\"}, \"type\": \"carpet\"}], \"choropleth\": [{\"colorbar\": {\"outlinewidth\": 0, \"ticks\": \"\"}, \"type\": \"choropleth\"}], \"contour\": [{\"colorbar\": {\"outlinewidth\": 0, \"ticks\": \"\"}, \"colorscale\": [[0.0, \"#0d0887\"], [0.1111111111111111, \"#46039f\"], [0.2222222222222222, \"#7201a8\"], [0.3333333333333333, \"#9c179e\"], [0.4444444444444444, \"#bd3786\"], [0.5555555555555556, \"#d8576b\"], [0.6666666666666666, \"#ed7953\"], [0.7777777777777778, \"#fb9f3a\"], [0.8888888888888888, \"#fdca26\"], [1.0, \"#f0f921\"]], \"type\": \"contour\"}], \"contourcarpet\": [{\"colorbar\": {\"outlinewidth\": 0, \"ticks\": \"\"}, \"type\": \"contourcarpet\"}], \"heatmap\": [{\"colorbar\": {\"outlinewidth\": 0, \"ticks\": \"\"}, \"colorscale\": [[0.0, \"#0d0887\"], [0.1111111111111111, \"#46039f\"], [0.2222222222222222, \"#7201a8\"], [0.3333333333333333, \"#9c179e\"], [0.4444444444444444, \"#bd3786\"], [0.5555555555555556, \"#d8576b\"], [0.6666666666666666, \"#ed7953\"], [0.7777777777777778, \"#fb9f3a\"], [0.8888888888888888, \"#fdca26\"], [1.0, \"#f0f921\"]], \"type\": \"heatmap\"}], \"heatmapgl\": [{\"colorbar\": {\"outlinewidth\": 0, \"ticks\": \"\"}, \"colorscale\": [[0.0, \"#0d0887\"], [0.1111111111111111, \"#46039f\"], [0.2222222222222222, \"#7201a8\"], [0.3333333333333333, \"#9c179e\"], [0.4444444444444444, \"#bd3786\"], [0.5555555555555556, \"#d8576b\"], [0.6666666666666666, \"#ed7953\"], [0.7777777777777778, \"#fb9f3a\"], [0.8888888888888888, \"#fdca26\"], [1.0, \"#f0f921\"]], \"type\": \"heatmapgl\"}], \"histogram\": [{\"marker\": {\"colorbar\": {\"outlinewidth\": 0, \"ticks\": \"\"}}, \"type\": \"histogram\"}], \"histogram2d\": [{\"colorbar\": {\"outlinewidth\": 0, \"ticks\": \"\"}, \"colorscale\": [[0.0, \"#0d0887\"], [0.1111111111111111, \"#46039f\"], [0.2222222222222222, \"#7201a8\"], [0.3333333333333333, \"#9c179e\"], [0.4444444444444444, \"#bd3786\"], [0.5555555555555556, \"#d8576b\"], [0.6666666666666666, \"#ed7953\"], [0.7777777777777778, \"#fb9f3a\"], [0.8888888888888888, \"#fdca26\"], [1.0, \"#f0f921\"]], \"type\": \"histogram2d\"}], \"histogram2dcontour\": [{\"colorbar\": {\"outlinewidth\": 0, \"ticks\": \"\"}, \"colorscale\": [[0.0, \"#0d0887\"], [0.1111111111111111, \"#46039f\"], [0.2222222222222222, \"#7201a8\"], [0.3333333333333333, \"#9c179e\"], [0.4444444444444444, \"#bd3786\"], [0.5555555555555556, \"#d8576b\"], [0.6666666666666666, \"#ed7953\"], [0.7777777777777778, \"#fb9f3a\"], [0.8888888888888888, \"#fdca26\"], [1.0, \"#f0f921\"]], \"type\": \"histogram2dcontour\"}], \"mesh3d\": [{\"colorbar\": {\"outlinewidth\": 0, \"ticks\": \"\"}, \"type\": \"mesh3d\"}], \"parcoords\": [{\"line\": {\"colorbar\": {\"outlinewidth\": 0, \"ticks\": \"\"}}, \"type\": \"parcoords\"}], \"pie\": [{\"automargin\": true, \"type\": \"pie\"}], \"scatter\": [{\"marker\": {\"colorbar\": {\"outlinewidth\": 0, \"ticks\": \"\"}}, \"type\": \"scatter\"}], \"scatter3d\": [{\"line\": {\"colorbar\": {\"outlinewidth\": 0, \"ticks\": \"\"}}, \"marker\": {\"colorbar\": {\"outlinewidth\": 0, \"ticks\": \"\"}}, \"type\": \"scatter3d\"}], \"scattercarpet\": [{\"marker\": {\"colorbar\": {\"outlinewidth\": 0, \"ticks\": \"\"}}, \"type\": \"scattercarpet\"}], \"scattergeo\": [{\"marker\": {\"colorbar\": {\"outlinewidth\": 0, \"ticks\": \"\"}}, \"type\": \"scattergeo\"}], \"scattergl\": [{\"marker\": {\"colorbar\": {\"outlinewidth\": 0, \"ticks\": \"\"}}, \"type\": \"scattergl\"}], \"scattermapbox\": [{\"marker\": {\"colorbar\": {\"outlinewidth\": 0, \"ticks\": \"\"}}, \"type\": \"scattermapbox\"}], \"scatterpolar\": [{\"marker\": {\"colorbar\": {\"outlinewidth\": 0, \"ticks\": \"\"}}, \"type\": \"scatterpolar\"}], \"scatterpolargl\": [{\"marker\": {\"colorbar\": {\"outlinewidth\": 0, \"ticks\": \"\"}}, \"type\": \"scatterpolargl\"}], \"scatterternary\": [{\"marker\": {\"colorbar\": {\"outlinewidth\": 0, \"ticks\": \"\"}}, \"type\": \"scatterternary\"}], \"surface\": [{\"colorbar\": {\"outlinewidth\": 0, \"ticks\": \"\"}, \"colorscale\": [[0.0, \"#0d0887\"], [0.1111111111111111, \"#46039f\"], [0.2222222222222222, \"#7201a8\"], [0.3333333333333333, \"#9c179e\"], [0.4444444444444444, \"#bd3786\"], [0.5555555555555556, \"#d8576b\"], [0.6666666666666666, \"#ed7953\"], [0.7777777777777778, \"#fb9f3a\"], [0.8888888888888888, \"#fdca26\"], [1.0, \"#f0f921\"]], \"type\": \"surface\"}], \"table\": [{\"cells\": {\"fill\": {\"color\": \"#EBF0F8\"}, \"line\": {\"color\": \"white\"}}, \"header\": {\"fill\": {\"color\": \"#C8D4E3\"}, \"line\": {\"color\": \"white\"}}, \"type\": \"table\"}]}, \"layout\": {\"annotationdefaults\": {\"arrowcolor\": \"#2a3f5f\", \"arrowhead\": 0, \"arrowwidth\": 1}, \"coloraxis\": {\"colorbar\": {\"outlinewidth\": 0, \"ticks\": \"\"}}, \"colorscale\": {\"diverging\": [[0, \"#8e0152\"], [0.1, \"#c51b7d\"], [0.2, \"#de77ae\"], [0.3, \"#f1b6da\"], [0.4, \"#fde0ef\"], [0.5, \"#f7f7f7\"], [0.6, \"#e6f5d0\"], [0.7, \"#b8e186\"], [0.8, \"#7fbc41\"], [0.9, \"#4d9221\"], [1, \"#276419\"]], \"sequential\": [[0.0, \"#0d0887\"], [0.1111111111111111, \"#46039f\"], [0.2222222222222222, \"#7201a8\"], [0.3333333333333333, \"#9c179e\"], [0.4444444444444444, \"#bd3786\"], [0.5555555555555556, \"#d8576b\"], [0.6666666666666666, \"#ed7953\"], [0.7777777777777778, \"#fb9f3a\"], [0.8888888888888888, \"#fdca26\"], [1.0, \"#f0f921\"]], \"sequentialminus\": [[0.0, \"#0d0887\"], [0.1111111111111111, \"#46039f\"], [0.2222222222222222, \"#7201a8\"], [0.3333333333333333, \"#9c179e\"], [0.4444444444444444, \"#bd3786\"], [0.5555555555555556, \"#d8576b\"], [0.6666666666666666, \"#ed7953\"], [0.7777777777777778, \"#fb9f3a\"], [0.8888888888888888, \"#fdca26\"], [1.0, \"#f0f921\"]]}, \"colorway\": [\"#636efa\", \"#EF553B\", \"#00cc96\", \"#ab63fa\", \"#FFA15A\", \"#19d3f3\", \"#FF6692\", \"#B6E880\", \"#FF97FF\", \"#FECB52\"], \"font\": {\"color\": \"#2a3f5f\"}, \"geo\": {\"bgcolor\": \"white\", \"lakecolor\": \"white\", \"landcolor\": \"#E5ECF6\", \"showlakes\": true, \"showland\": true, \"subunitcolor\": \"white\"}, \"hoverlabel\": {\"align\": \"left\"}, \"hovermode\": \"closest\", \"mapbox\": {\"style\": \"light\"}, \"paper_bgcolor\": \"white\", \"plot_bgcolor\": \"#E5ECF6\", \"polar\": {\"angularaxis\": {\"gridcolor\": \"white\", \"linecolor\": \"white\", \"ticks\": \"\"}, \"bgcolor\": \"#E5ECF6\", \"radialaxis\": {\"gridcolor\": \"white\", \"linecolor\": \"white\", \"ticks\": \"\"}}, \"scene\": {\"xaxis\": {\"backgroundcolor\": \"#E5ECF6\", \"gridcolor\": \"white\", \"gridwidth\": 2, \"linecolor\": \"white\", \"showbackground\": true, \"ticks\": \"\", \"zerolinecolor\": \"white\"}, \"yaxis\": {\"backgroundcolor\": \"#E5ECF6\", \"gridcolor\": \"white\", \"gridwidth\": 2, \"linecolor\": \"white\", \"showbackground\": true, \"ticks\": \"\", \"zerolinecolor\": \"white\"}, \"zaxis\": {\"backgroundcolor\": \"#E5ECF6\", \"gridcolor\": \"white\", \"gridwidth\": 2, \"linecolor\": \"white\", \"showbackground\": true, \"ticks\": \"\", \"zerolinecolor\": \"white\"}}, \"shapedefaults\": {\"line\": {\"color\": \"#2a3f5f\"}}, \"ternary\": {\"aaxis\": {\"gridcolor\": \"white\", \"linecolor\": \"white\", \"ticks\": \"\"}, \"baxis\": {\"gridcolor\": \"white\", \"linecolor\": \"white\", \"ticks\": \"\"}, \"bgcolor\": \"#E5ECF6\", \"caxis\": {\"gridcolor\": \"white\", \"linecolor\": \"white\", \"ticks\": \"\"}}, \"title\": {\"x\": 0.05}, \"xaxis\": {\"automargin\": true, \"gridcolor\": \"white\", \"linecolor\": \"white\", \"ticks\": \"\", \"title\": {\"standoff\": 15}, \"zerolinecolor\": \"white\", \"zerolinewidth\": 2}, \"yaxis\": {\"automargin\": true, \"gridcolor\": \"white\", \"linecolor\": \"white\", \"ticks\": \"\", \"title\": {\"standoff\": 15}, \"zerolinecolor\": \"white\", \"zerolinewidth\": 2}}}, \"title\": {\"text\": \"Stores Open Per Year\", \"x\": 0.5}, \"xaxis\": {\"anchor\": \"y\", \"domain\": [0.0, 1.0], \"title\": {\"text\": \"year\"}}, \"yaxis\": {\"anchor\": \"x\", \"domain\": [0.0, 1.0], \"title\": {\"text\": \"number of stores\"}}},\n",
       "                        {\"responsive\": true}\n",
       "                    ).then(function(){\n",
       "                            \n",
       "var gd = document.getElementById('3328dda0-cca6-4756-8b66-3aa42fd06d7f');\n",
       "var x = new MutationObserver(function (mutations, observer) {{\n",
       "        var display = window.getComputedStyle(gd).display;\n",
       "        if (!display || display === 'none') {{\n",
       "            console.log([gd, 'removed!']);\n",
       "            Plotly.purge(gd);\n",
       "            observer.disconnect();\n",
       "        }}\n",
       "}});\n",
       "\n",
       "// Listen for the removal of the full notebook cells\n",
       "var notebookContainer = gd.closest('#notebook-container');\n",
       "if (notebookContainer) {{\n",
       "    x.observe(notebookContainer, {childList: true});\n",
       "}}\n",
       "\n",
       "// Listen for the clearing of the current output cell\n",
       "var outputEl = gd.closest('.output');\n",
       "if (outputEl) {{\n",
       "    x.observe(outputEl, {childList: true});\n",
       "}}\n",
       "\n",
       "                        })\n",
       "                };\n",
       "                });\n",
       "            </script>\n",
       "        </div>"
      ]
     },
     "metadata": {},
     "output_type": "display_data"
    }
   ],
   "source": [
    "starbucks_10k = pd.read_csv('starbucks_10k.csv')\n",
    "starbucks_10k = pd.DataFrame(starbucks_10k)\n",
    "\n",
    "#Display the number of stores open per year by region\n",
    "fig = px.line(starbucks_10k, x=\"year\", y=\"num_stores\",\n",
    "              title='Stores Open Per Year',\n",
    "             color= 'region',\n",
    "             labels={'num_stores':'number of stores'},\n",
    "              line_shape='spline'\n",
    "             )\n",
    "\n",
    "fig.update(layout=dict(title=dict(x=0.5)))\n",
    "\n",
    "fig.show('svg')\n",
    "    "
   ]
  },
  {
   "cell_type": "code",
   "execution_count": 54,
   "metadata": {},
   "outputs": [],
   "source": [
    "def condition2(x):\n",
    "    \"\"\"\n",
    "    This function rename continents into regions\n",
    "    x :  is a string value from a data frame column\n",
    "    returns a string\n",
    "    \"\"\"\n",
    "    \n",
    "    if (x=='Europe' or x=='Africa'):\n",
    "        return f'Europe_Africa'\n",
    "    elif (x =='Asia' or x =='Oceania'):\n",
    "        return f'Asia_Oceania'\n",
    "    else :\n",
    "        return f'Americas'"
   ]
  },
  {
   "cell_type": "code",
   "execution_count": 58,
   "metadata": {},
   "outputs": [
    {
     "data": {
      "text/html": [
       "<div>\n",
       "<style scoped>\n",
       "    .dataframe tbody tr th:only-of-type {\n",
       "        vertical-align: middle;\n",
       "    }\n",
       "\n",
       "    .dataframe tbody tr th {\n",
       "        vertical-align: top;\n",
       "    }\n",
       "\n",
       "    .dataframe thead th {\n",
       "        text-align: right;\n",
       "    }\n",
       "</style>\n",
       "<table border=\"1\" class=\"dataframe\">\n",
       "  <thead>\n",
       "    <tr style=\"text-align: right;\">\n",
       "      <th></th>\n",
       "      <th>Country</th>\n",
       "      <th>Ownership_Type</th>\n",
       "      <th>store_count</th>\n",
       "      <th>Continent_Name</th>\n",
       "      <th>Two_Letter_Country_Code</th>\n",
       "      <th>region</th>\n",
       "    </tr>\n",
       "  </thead>\n",
       "  <tbody>\n",
       "    <tr>\n",
       "      <th>64</th>\n",
       "      <td>MY</td>\n",
       "      <td>Licensed</td>\n",
       "      <td>228.0</td>\n",
       "      <td>Asia</td>\n",
       "      <td>MY</td>\n",
       "      <td>Asia_Oceania</td>\n",
       "    </tr>\n",
       "    <tr>\n",
       "      <th>69</th>\n",
       "      <td>OM</td>\n",
       "      <td>Licensed</td>\n",
       "      <td>12.0</td>\n",
       "      <td>Asia</td>\n",
       "      <td>OM</td>\n",
       "      <td>Asia_Oceania</td>\n",
       "    </tr>\n",
       "    <tr>\n",
       "      <th>91</th>\n",
       "      <td>TT</td>\n",
       "      <td>Licensed</td>\n",
       "      <td>3.0</td>\n",
       "      <td>North America</td>\n",
       "      <td>TT</td>\n",
       "      <td>Americas</td>\n",
       "    </tr>\n",
       "  </tbody>\n",
       "</table>\n",
       "</div>"
      ],
      "text/plain": [
       "   Country Ownership_Type  store_count Continent_Name Two_Letter_Country_Code  \\\n",
       "64      MY       Licensed        228.0           Asia                      MY   \n",
       "69      OM       Licensed         12.0           Asia                      OM   \n",
       "91      TT       Licensed          3.0  North America                      TT   \n",
       "\n",
       "          region  \n",
       "64  Asia_Oceania  \n",
       "69  Asia_Oceania  \n",
       "91      Americas  "
      ]
     },
     "execution_count": 58,
     "metadata": {},
     "output_type": "execute_result"
    }
   ],
   "source": [
    "\n",
    "#Creating a new data frame for the type of ownershp\n",
    "star_own = pd.read_csv('directory.csv')\n",
    "star_own['store_count']= np.ones(star_own.shape[0])\n",
    "star_own =star_own[['Country', 'store_count', 'Ownership_Type']]\n",
    "star_own =star_own.groupby(['Country', 'Ownership_Type']).agg({'store_count':'sum'})\n",
    "star_own.reset_index(inplace=True)\n",
    "star_own.sample(3)\n",
    "country_code = country_code[['Continent_Name', 'Two_Letter_Country_Code']]\n",
    "star_own2 = pd.merge(star_own, country_code, left_on='Country', right_on='Two_Letter_Country_Code')\n",
    "\n",
    "star_own2['region']= star_own2['Continent_Name'].apply(lambda x : condition(x))\n",
    "\n",
    "star_own2 = star_own2.loc[star_own2.region !='Europe_Africa']\n",
    "\n",
    "star_own2.sample(3)\n",
    "\n"
   ]
  },
  {
   "cell_type": "code",
   "execution_count": 60,
   "metadata": {},
   "outputs": [
    {
     "data": {
      "image/svg+xml": [
       "<svg class=\"main-svg\" xmlns=\"http://www.w3.org/2000/svg\" xmlns:xlink=\"http://www.w3.org/1999/xlink\" width=\"700\" height=\"450\" style=\"\" viewBox=\"0 0 700 450\"><rect x=\"0\" y=\"0\" width=\"700\" height=\"450\" style=\"fill: rgb(255, 255, 255); fill-opacity: 1;\"/><defs id=\"defs-0ba525\"><g class=\"clips\"><clipPath id=\"clip0ba525xyplot\" class=\"plotclip\"><rect width=\"231.76999999999998\" height=\"245\"/></clipPath><clipPath id=\"clip0ba525x2y2plot\" class=\"plotclip\"><rect width=\"231.76999999999998\" height=\"245\"/></clipPath><clipPath class=\"axesclip\" id=\"clip0ba525x\"><rect x=\"80\" y=\"0\" width=\"231.76999999999998\" height=\"450\"/></clipPath><clipPath class=\"axesclip\" id=\"clip0ba525y\"><rect x=\"0\" y=\"100\" width=\"700\" height=\"245\"/></clipPath><clipPath class=\"axesclip\" id=\"clip0ba525xy\"><rect x=\"80\" y=\"100\" width=\"231.76999999999998\" height=\"245\"/></clipPath><clipPath class=\"axesclip\" id=\"clip0ba525y2\"><rect x=\"0\" y=\"100\" width=\"700\" height=\"245\"/></clipPath><clipPath class=\"axesclip\" id=\"clip0ba525xy2\"><rect x=\"80\" y=\"100\" width=\"231.76999999999998\" height=\"245\"/></clipPath><clipPath class=\"axesclip\" id=\"clip0ba525x2\"><rect x=\"321.23\" y=\"0\" width=\"231.76999999999998\" height=\"450\"/></clipPath><clipPath class=\"axesclip\" id=\"clip0ba525x2y\"><rect x=\"321.23\" y=\"100\" width=\"231.76999999999998\" height=\"245\"/></clipPath><clipPath class=\"axesclip\" id=\"clip0ba525x2y2\"><rect x=\"321.23\" y=\"100\" width=\"231.76999999999998\" height=\"245\"/></clipPath></g><g class=\"gradients\"/></defs><g class=\"bglayer\"><rect class=\"bg\" x=\"80\" y=\"100\" width=\"231.76999999999998\" height=\"245\" style=\"fill: rgb(229, 236, 246); fill-opacity: 1; stroke-width: 0;\"/><rect class=\"bg\" x=\"321.23\" y=\"100\" width=\"231.76999999999998\" height=\"245\" style=\"fill: rgb(229, 236, 246); fill-opacity: 1; stroke-width: 0;\"/></g><g class=\"layer-below\"><g class=\"imagelayer\"/><g class=\"shapelayer\"/></g><g class=\"cartesianlayer\"><g class=\"subplot xy\"><g class=\"layer-subplot\"><g class=\"shapelayer\"/><g class=\"imagelayer\"/></g><g class=\"gridlayer\"><g class=\"x\"><path class=\"xgrid crisp\" transform=\"translate(118.63,0)\" d=\"M0,100v245\" style=\"stroke: rgb(255, 255, 255); stroke-opacity: 1; stroke-width: 1px;\"/><path class=\"xgrid crisp\" transform=\"translate(195.89,0)\" d=\"M0,100v245\" style=\"stroke: rgb(255, 255, 255); stroke-opacity: 1; stroke-width: 1px;\"/><path class=\"xgrid crisp\" transform=\"translate(273.14,0)\" d=\"M0,100v245\" style=\"stroke: rgb(255, 255, 255); stroke-opacity: 1; stroke-width: 1px;\"/></g><g class=\"y\"><path class=\"ygrid crisp\" transform=\"translate(0,295.62)\" d=\"M80,0h231.76999999999998\" style=\"stroke: rgb(255, 255, 255); stroke-opacity: 1; stroke-width: 1px;\"/><path class=\"ygrid crisp\" transform=\"translate(0,246.23)\" d=\"M80,0h231.76999999999998\" style=\"stroke: rgb(255, 255, 255); stroke-opacity: 1; stroke-width: 1px;\"/><path class=\"ygrid crisp\" transform=\"translate(0,196.85)\" d=\"M80,0h231.76999999999998\" style=\"stroke: rgb(255, 255, 255); stroke-opacity: 1; stroke-width: 1px;\"/><path class=\"ygrid crisp\" transform=\"translate(0,147.46)\" d=\"M80,0h231.76999999999998\" style=\"stroke: rgb(255, 255, 255); stroke-opacity: 1; stroke-width: 1px;\"/></g></g><g class=\"zerolinelayer\"><path class=\"yzl zl crisp\" transform=\"translate(0,345)\" d=\"M80,0h231.76999999999998\" style=\"stroke: rgb(255, 255, 255); stroke-opacity: 1; stroke-width: 2px;\"/></g><path class=\"xlines-below\"/><path class=\"ylines-below\"/><g class=\"overlines-below\"/><g class=\"xaxislayer-below\"/><g class=\"yaxislayer-below\"/><g class=\"overaxes-below\"/><g class=\"plot\" transform=\"translate(80, 100)\" clip-path=\"url('#clip0ba525xyplot')\"><g class=\"barlayer mlayer\"><g class=\"trace bars\" style=\"opacity: 1;\"><g class=\"points\"><g class=\"point\"><path d=\"M7.73,245V241.44H69.53V245Z\" style=\"vector-effect: non-scaling-stroke; opacity: 1; stroke-width: 0.5px; fill: rgb(99, 110, 250); fill-opacity: 1; stroke: rgb(229, 236, 246); stroke-opacity: 1;\"/></g><g class=\"point\"><path d=\"M7.73,241.44V240.9H69.53V241.44Z\" style=\"vector-effect: non-scaling-stroke; opacity: 1; stroke-width: 0.5px; fill: rgb(99, 110, 250); fill-opacity: 1; stroke: rgb(229, 236, 246); stroke-opacity: 1;\"/></g><g class=\"point\"><path d=\"M7.73,240.9V240.8H69.53V240.9Z\" style=\"vector-effect: non-scaling-stroke; opacity: 1; stroke-width: 0.5px; fill: rgb(99, 110, 250); fill-opacity: 1; stroke: rgb(229, 236, 246); stroke-opacity: 1;\"/></g><g class=\"point\"><path d=\"M7.73,240.8V240.28H69.53V240.8Z\" style=\"vector-effect: non-scaling-stroke; opacity: 1; stroke-width: 0.5px; fill: rgb(99, 110, 250); fill-opacity: 1; stroke: rgb(229, 236, 246); stroke-opacity: 1;\"/></g><g class=\"point\"><path d=\"M7.73,240.28V240.16H69.53V240.28Z\" style=\"vector-effect: non-scaling-stroke; opacity: 1; stroke-width: 0.5px; fill: rgb(99, 110, 250); fill-opacity: 1; stroke: rgb(229, 236, 246); stroke-opacity: 1;\"/></g><g class=\"point\"><path d=\"M84.98,245V211.94H146.79V245Z\" style=\"vector-effect: non-scaling-stroke; opacity: 1; stroke-width: 0.5px; fill: rgb(99, 110, 250); fill-opacity: 1; stroke: rgb(229, 236, 246); stroke-opacity: 1;\"/></g><g class=\"point\"><path d=\"M162.24,245V214.88H224.04V245Z\" style=\"vector-effect: non-scaling-stroke; opacity: 1; stroke-width: 0.5px; fill: rgb(99, 110, 250); fill-opacity: 1; stroke: rgb(229, 236, 246); stroke-opacity: 1;\"/></g><g class=\"point\"><path d=\"M7.73,240.16V235.84H69.53V240.16Z\" style=\"vector-effect: non-scaling-stroke; opacity: 1; stroke-width: 0.5px; fill: rgb(99, 110, 250); fill-opacity: 1; stroke: rgb(229, 236, 246); stroke-opacity: 1;\"/></g><g class=\"point\"><path d=\"M7.73,235.84V235.59H69.53V235.84Z\" style=\"vector-effect: non-scaling-stroke; opacity: 1; stroke-width: 0.5px; fill: rgb(99, 110, 250); fill-opacity: 1; stroke: rgb(229, 236, 246); stroke-opacity: 1;\"/></g><g class=\"point\"><path d=\"M7.73,235.59V228.97H69.53V235.59Z\" style=\"vector-effect: non-scaling-stroke; opacity: 1; stroke-width: 0.5px; fill: rgb(99, 110, 250); fill-opacity: 1; stroke: rgb(229, 236, 246); stroke-opacity: 1;\"/></g><g class=\"point\"><path d=\"M162.24,214.88V212.7H224.04V214.88Z\" style=\"vector-effect: non-scaling-stroke; opacity: 1; stroke-width: 0.5px; fill: rgb(99, 110, 250); fill-opacity: 1; stroke: rgb(229, 236, 246); stroke-opacity: 1;\"/></g><g class=\"point\"><path d=\"M7.73,228.97V228.55H69.53V228.97Z\" style=\"vector-effect: non-scaling-stroke; opacity: 1; stroke-width: 0.5px; fill: rgb(99, 110, 250); fill-opacity: 1; stroke: rgb(229, 236, 246); stroke-opacity: 1;\"/></g><g class=\"point\"><path d=\"M84.98,211.94V209.44H146.79V211.94Z\" style=\"vector-effect: non-scaling-stroke; opacity: 1; stroke-width: 0.5px; fill: rgb(99, 110, 250); fill-opacity: 1; stroke: rgb(229, 236, 246); stroke-opacity: 1;\"/></g><g class=\"point\"><path d=\"M162.24,212.7V186.28H224.04V212.7Z\" style=\"vector-effect: non-scaling-stroke; opacity: 1; stroke-width: 0.5px; fill: rgb(99, 110, 250); fill-opacity: 1; stroke: rgb(229, 236, 246); stroke-opacity: 1;\"/></g><g class=\"point\"><path d=\"M7.73,228.55V226.93H69.53V228.55Z\" style=\"vector-effect: non-scaling-stroke; opacity: 1; stroke-width: 0.5px; fill: rgb(99, 110, 250); fill-opacity: 1; stroke: rgb(229, 236, 246); stroke-opacity: 1;\"/></g><g class=\"point\"><path d=\"M7.73,226.93V226.83H69.53V226.93Z\" style=\"vector-effect: non-scaling-stroke; opacity: 1; stroke-width: 0.5px; fill: rgb(99, 110, 250); fill-opacity: 1; stroke: rgb(229, 236, 246); stroke-opacity: 1;\"/></g><g class=\"point\"><path d=\"M162.24,186.28V161.76H224.04V186.28Z\" style=\"vector-effect: non-scaling-stroke; opacity: 1; stroke-width: 0.5px; fill: rgb(99, 110, 250); fill-opacity: 1; stroke: rgb(229, 236, 246); stroke-opacity: 1;\"/></g><g class=\"point\"><path d=\"M7.73,226.83V224.21H69.53V226.83Z\" style=\"vector-effect: non-scaling-stroke; opacity: 1; stroke-width: 0.5px; fill: rgb(99, 110, 250); fill-opacity: 1; stroke: rgb(229, 236, 246); stroke-opacity: 1;\"/></g><g class=\"point\"><path d=\"M7.73,224.21V224.01H69.53V224.21Z\" style=\"vector-effect: non-scaling-stroke; opacity: 1; stroke-width: 0.5px; fill: rgb(99, 110, 250); fill-opacity: 1; stroke: rgb(229, 236, 246); stroke-opacity: 1;\"/></g><g class=\"point\"><path d=\"M7.73,224.01V223.3H69.53V224.01Z\" style=\"vector-effect: non-scaling-stroke; opacity: 1; stroke-width: 0.5px; fill: rgb(99, 110, 250); fill-opacity: 1; stroke: rgb(229, 236, 246); stroke-opacity: 1;\"/></g><g class=\"point\"><path d=\"M162.24,161.76V161.61H224.04V161.76Z\" style=\"vector-effect: non-scaling-stroke; opacity: 1; stroke-width: 0.5px; fill: rgb(99, 110, 250); fill-opacity: 1; stroke: rgb(229, 236, 246); stroke-opacity: 1;\"/></g><g class=\"point\"><path d=\"M7.73,223.3V217.67H69.53V223.3Z\" style=\"vector-effect: non-scaling-stroke; opacity: 1; stroke-width: 0.5px; fill: rgb(99, 110, 250); fill-opacity: 1; stroke: rgb(229, 236, 246); stroke-opacity: 1;\"/></g><g class=\"point\"><path d=\"M7.73,217.67V217.07H69.53V217.67Z\" style=\"vector-effect: non-scaling-stroke; opacity: 1; stroke-width: 0.5px; fill: rgb(99, 110, 250); fill-opacity: 1; stroke: rgb(229, 236, 246); stroke-opacity: 1;\"/></g><g class=\"point\"><path d=\"M7.73,217.07V216.78H69.53V217.07Z\" style=\"vector-effect: non-scaling-stroke; opacity: 1; stroke-width: 0.5px; fill: rgb(99, 110, 250); fill-opacity: 1; stroke: rgb(229, 236, 246); stroke-opacity: 1;\"/></g><g class=\"point\"><path d=\"M7.73,216.78V209.42H69.53V216.78Z\" style=\"vector-effect: non-scaling-stroke; opacity: 1; stroke-width: 0.5px; fill: rgb(99, 110, 250); fill-opacity: 1; stroke: rgb(229, 236, 246); stroke-opacity: 1;\"/></g><g class=\"point\"><path d=\"M7.73,209.42V208.97H69.53V209.42Z\" style=\"vector-effect: non-scaling-stroke; opacity: 1; stroke-width: 0.5px; fill: rgb(99, 110, 250); fill-opacity: 1; stroke: rgb(229, 236, 246); stroke-opacity: 1;\"/></g><g class=\"point\"><path d=\"M162.24,161.61V158.97H224.04V161.61Z\" style=\"vector-effect: non-scaling-stroke; opacity: 1; stroke-width: 0.5px; fill: rgb(99, 110, 250); fill-opacity: 1; stroke: rgb(229, 236, 246); stroke-opacity: 1;\"/></g><g class=\"point\"><path d=\"M7.73,208.97V208.92H69.53V208.97Z\" style=\"vector-effect: non-scaling-stroke; opacity: 1; stroke-width: 0.5px; fill: rgb(99, 110, 250); fill-opacity: 1; stroke: rgb(229, 236, 246); stroke-opacity: 1;\"/></g><g class=\"point\"><path d=\"M7.73,208.92V206.41H69.53V208.92Z\" style=\"vector-effect: non-scaling-stroke; opacity: 1; stroke-width: 0.5px; fill: rgb(99, 110, 250); fill-opacity: 1; stroke: rgb(229, 236, 246); stroke-opacity: 1;\"/></g><g class=\"point\"><path d=\"M84.98,209.44V206.23H146.79V209.44Z\" style=\"vector-effect: non-scaling-stroke; opacity: 1; stroke-width: 0.5px; fill: rgb(99, 110, 250); fill-opacity: 1; stroke: rgb(229, 236, 246); stroke-opacity: 1;\"/></g><g class=\"point\"><path d=\"M84.98,206.23V199.1H146.79V206.23Z\" style=\"vector-effect: non-scaling-stroke; opacity: 1; stroke-width: 0.5px; fill: rgb(99, 110, 250); fill-opacity: 1; stroke: rgb(229, 236, 246); stroke-opacity: 1;\"/></g><g class=\"point\"><path d=\"M7.73,206.41V198.36H69.53V206.41Z\" style=\"vector-effect: non-scaling-stroke; opacity: 1; stroke-width: 0.5px; fill: rgb(99, 110, 250); fill-opacity: 1; stroke: rgb(229, 236, 246); stroke-opacity: 1;\"/></g><g class=\"point\"><path d=\"M162.24,158.97V149.24H224.04V158.97Z\" style=\"vector-effect: non-scaling-stroke; opacity: 1; stroke-width: 0.5px; fill: rgb(99, 110, 250); fill-opacity: 1; stroke: rgb(229, 236, 246); stroke-opacity: 1;\"/></g><g class=\"point\"><path d=\"M7.73,198.36V197.74H69.53V198.36Z\" style=\"vector-effect: non-scaling-stroke; opacity: 1; stroke-width: 0.5px; fill: rgb(99, 110, 250); fill-opacity: 1; stroke: rgb(229, 236, 246); stroke-opacity: 1;\"/></g></g></g></g></g><g class=\"overplot\"/><path class=\"xlines-above crisp\" d=\"M79,345.5H311.77\" style=\"fill: none; stroke-width: 1px; stroke: rgb(255, 255, 255); stroke-opacity: 1;\"/><path class=\"ylines-above crisp\" d=\"M79.5,100V345\" style=\"fill: none; stroke-width: 1px; stroke: rgb(255, 255, 255); stroke-opacity: 1;\"/><g class=\"overlines-above\"/><g class=\"xaxislayer-above\"><g class=\"xtick\"><text text-anchor=\"start\" x=\"0\" y=\"360.4\" transform=\"translate(118.63,0) rotate(30,0,354.4)\" style=\"font-family: 'Open Sans', verdana, arial, sans-serif; font-size: 12px; fill: rgb(42, 63, 95); fill-opacity: 1; white-space: pre;\">Licensed</text></g><g class=\"xtick\"><text text-anchor=\"start\" x=\"0\" y=\"360.4\" transform=\"translate(195.89,0) rotate(30,0,354.4)\" style=\"font-family: 'Open Sans', verdana, arial, sans-serif; font-size: 12px; fill: rgb(42, 63, 95); fill-opacity: 1; white-space: pre;\">Company Owned</text></g><g class=\"xtick\"><text text-anchor=\"start\" x=\"0\" y=\"360.4\" transform=\"translate(273.14,0) rotate(30,0,354.4)\" style=\"font-family: 'Open Sans', verdana, arial, sans-serif; font-size: 12px; fill: rgb(42, 63, 95); fill-opacity: 1; white-space: pre;\">Joint Venture</text></g></g><g class=\"yaxislayer-above\"><g class=\"ytick\"><text text-anchor=\"end\" x=\"76.6\" y=\"4.199999999999999\" transform=\"translate(0,345)\" style=\"font-family: 'Open Sans', verdana, arial, sans-serif; font-size: 12px; fill: rgb(42, 63, 95); fill-opacity: 1; white-space: pre;\">0</text></g><g class=\"ytick\"><text text-anchor=\"end\" x=\"76.6\" y=\"4.199999999999999\" transform=\"translate(0,295.62)\" style=\"font-family: 'Open Sans', verdana, arial, sans-serif; font-size: 12px; fill: rgb(42, 63, 95); fill-opacity: 1; white-space: pre;\">2k</text></g><g class=\"ytick\"><text text-anchor=\"end\" x=\"76.6\" y=\"4.199999999999999\" transform=\"translate(0,246.23)\" style=\"font-family: 'Open Sans', verdana, arial, sans-serif; font-size: 12px; fill: rgb(42, 63, 95); fill-opacity: 1; white-space: pre;\">4k</text></g><g class=\"ytick\"><text text-anchor=\"end\" x=\"76.6\" y=\"4.199999999999999\" transform=\"translate(0,196.85)\" style=\"font-family: 'Open Sans', verdana, arial, sans-serif; font-size: 12px; fill: rgb(42, 63, 95); fill-opacity: 1; white-space: pre;\">6k</text></g><g class=\"ytick\"><text text-anchor=\"end\" x=\"76.6\" y=\"4.199999999999999\" transform=\"translate(0,147.46)\" style=\"font-family: 'Open Sans', verdana, arial, sans-serif; font-size: 12px; fill: rgb(42, 63, 95); fill-opacity: 1; white-space: pre;\">8k</text></g></g><g class=\"overaxes-above\"/></g><g class=\"subplot x2y2\"><g class=\"layer-subplot\"><g class=\"shapelayer\"/><g class=\"imagelayer\"/></g><g class=\"gridlayer\"><g class=\"x2\"><path class=\"x2grid crisp\" transform=\"translate(359.86,0)\" d=\"M0,100v245\" style=\"stroke: rgb(255, 255, 255); stroke-opacity: 1; stroke-width: 1px;\"/><path class=\"x2grid crisp\" transform=\"translate(437.12,0)\" d=\"M0,100v245\" style=\"stroke: rgb(255, 255, 255); stroke-opacity: 1; stroke-width: 1px;\"/><path class=\"x2grid crisp\" transform=\"translate(514.37,0)\" d=\"M0,100v245\" style=\"stroke: rgb(255, 255, 255); stroke-opacity: 1; stroke-width: 1px;\"/></g><g class=\"y2\"><path class=\"y2grid crisp\" transform=\"translate(0,295.62)\" d=\"M321.23,0h231.76999999999998\" style=\"stroke: rgb(255, 255, 255); stroke-opacity: 1; stroke-width: 1px;\"/><path class=\"y2grid crisp\" transform=\"translate(0,246.23)\" d=\"M321.23,0h231.76999999999998\" style=\"stroke: rgb(255, 255, 255); stroke-opacity: 1; stroke-width: 1px;\"/><path class=\"y2grid crisp\" transform=\"translate(0,196.85)\" d=\"M321.23,0h231.76999999999998\" style=\"stroke: rgb(255, 255, 255); stroke-opacity: 1; stroke-width: 1px;\"/><path class=\"y2grid crisp\" transform=\"translate(0,147.46)\" d=\"M321.23,0h231.76999999999998\" style=\"stroke: rgb(255, 255, 255); stroke-opacity: 1; stroke-width: 1px;\"/></g></g><g class=\"zerolinelayer\"><path class=\"y2zl zl crisp\" transform=\"translate(0,345)\" d=\"M321.23,0h231.76999999999998\" style=\"stroke: rgb(255, 255, 255); stroke-opacity: 1; stroke-width: 2px;\"/></g><path class=\"xlines-below\"/><path class=\"ylines-below\"/><g class=\"overlines-below\"/><g class=\"xaxislayer-below\"/><g class=\"yaxislayer-below\"/><g class=\"overaxes-below\"/><g class=\"plot\" transform=\"translate(321.23, 100)\" clip-path=\"url('#clip0ba525x2y2plot')\"><g class=\"barlayer mlayer\"><g class=\"trace bars\" style=\"opacity: 1;\"><g class=\"points\"><g class=\"point\"><path d=\"M162.24,245V244.98H224.04V245Z\" style=\"vector-effect: non-scaling-stroke; opacity: 1; stroke-width: 0.5px; fill: rgb(239, 85, 59); fill-opacity: 1; stroke: rgb(229, 236, 246); stroke-opacity: 1;\"/></g><g class=\"point\"><path d=\"M7.73,245V242.36H69.53V245Z\" style=\"vector-effect: non-scaling-stroke; opacity: 1; stroke-width: 0.5px; fill: rgb(239, 85, 59); fill-opacity: 1; stroke: rgb(229, 236, 246); stroke-opacity: 1;\"/></g><g class=\"point\"><path d=\"M7.73,242.36V242.28H69.53V242.36Z\" style=\"vector-effect: non-scaling-stroke; opacity: 1; stroke-width: 0.5px; fill: rgb(239, 85, 59); fill-opacity: 1; stroke: rgb(229, 236, 246); stroke-opacity: 1;\"/></g><g class=\"point\"><path d=\"M7.73,242.28V242.19H69.53V242.28Z\" style=\"vector-effect: non-scaling-stroke; opacity: 1; stroke-width: 0.5px; fill: rgb(239, 85, 59); fill-opacity: 1; stroke: rgb(229, 236, 246); stroke-opacity: 1;\"/></g><g class=\"point\"><path d=\"M84.98,245V242.48H146.79V245Z\" style=\"vector-effect: non-scaling-stroke; opacity: 1; stroke-width: 0.5px; fill: rgb(239, 85, 59); fill-opacity: 1; stroke: rgb(229, 236, 246); stroke-opacity: 1;\"/></g><g class=\"point\"><path d=\"M7.73,242.19V241.94H69.53V242.19Z\" style=\"vector-effect: non-scaling-stroke; opacity: 1; stroke-width: 0.5px; fill: rgb(239, 85, 59); fill-opacity: 1; stroke: rgb(229, 236, 246); stroke-opacity: 1;\"/></g><g class=\"point\"><path d=\"M84.98,242.48V215.39H146.79V242.48Z\" style=\"vector-effect: non-scaling-stroke; opacity: 1; stroke-width: 0.5px; fill: rgb(239, 85, 59); fill-opacity: 1; stroke: rgb(229, 236, 246); stroke-opacity: 1;\"/></g><g class=\"point\"><path d=\"M7.73,241.94V232.78H69.53V241.94Z\" style=\"vector-effect: non-scaling-stroke; opacity: 1; stroke-width: 0.5px; fill: rgb(239, 85, 59); fill-opacity: 1; stroke: rgb(229, 236, 246); stroke-opacity: 1;\"/></g><g class=\"point\"><path d=\"M7.73,232.78V230.41H69.53V232.78Z\" style=\"vector-effect: non-scaling-stroke; opacity: 1; stroke-width: 0.5px; fill: rgb(239, 85, 59); fill-opacity: 1; stroke: rgb(229, 236, 246); stroke-opacity: 1;\"/></g><g class=\"point\"><path d=\"M7.73,230.41V230.14H69.53V230.41Z\" style=\"vector-effect: non-scaling-stroke; opacity: 1; stroke-width: 0.5px; fill: rgb(239, 85, 59); fill-opacity: 1; stroke: rgb(229, 236, 246); stroke-opacity: 1;\"/></g><g class=\"point\"><path d=\"M7.73,230.14V229.86H69.53V230.14Z\" style=\"vector-effect: non-scaling-stroke; opacity: 1; stroke-width: 0.5px; fill: rgb(239, 85, 59); fill-opacity: 1; stroke: rgb(229, 236, 246); stroke-opacity: 1;\"/></g><g class=\"point\"><path d=\"M7.73,229.86V229.79H69.53V229.86Z\" style=\"vector-effect: non-scaling-stroke; opacity: 1; stroke-width: 0.5px; fill: rgb(239, 85, 59); fill-opacity: 1; stroke: rgb(229, 236, 246); stroke-opacity: 1;\"/></g><g class=\"point\"><path d=\"M7.73,229.79V229.62H69.53V229.79Z\" style=\"vector-effect: non-scaling-stroke; opacity: 1; stroke-width: 0.5px; fill: rgb(239, 85, 59); fill-opacity: 1; stroke: rgb(229, 236, 246); stroke-opacity: 1;\"/></g><g class=\"point\"><path d=\"M7.73,229.62V215.32H69.53V229.62Z\" style=\"vector-effect: non-scaling-stroke; opacity: 1; stroke-width: 0.5px; fill: rgb(239, 85, 59); fill-opacity: 1; stroke: rgb(229, 236, 246); stroke-opacity: 1;\"/></g><g class=\"point\"><path d=\"M7.73,215.32V215.2H69.53V215.32Z\" style=\"vector-effect: non-scaling-stroke; opacity: 1; stroke-width: 0.5px; fill: rgb(239, 85, 59); fill-opacity: 1; stroke: rgb(229, 236, 246); stroke-opacity: 1;\"/></g><g class=\"point\"><path d=\"M7.73,215.2V213H69.53V215.2Z\" style=\"vector-effect: non-scaling-stroke; opacity: 1; stroke-width: 0.5px; fill: rgb(239, 85, 59); fill-opacity: 1; stroke: rgb(229, 236, 246); stroke-opacity: 1;\"/></g><g class=\"point\"><path d=\"M84.98,215.39V215.37H146.79V215.39Z\" style=\"vector-effect: non-scaling-stroke; opacity: 1; stroke-width: 0.5px; fill: rgb(239, 85, 59); fill-opacity: 1; stroke: rgb(229, 236, 246); stroke-opacity: 1;\"/></g><g class=\"point\"><path d=\"M7.73,213V212.43H69.53V213Z\" style=\"vector-effect: non-scaling-stroke; opacity: 1; stroke-width: 0.5px; fill: rgb(239, 85, 59); fill-opacity: 1; stroke: rgb(229, 236, 246); stroke-opacity: 1;\"/></g><g class=\"point\"><path d=\"M7.73,212.43V212.16H69.53V212.43Z\" style=\"vector-effect: non-scaling-stroke; opacity: 1; stroke-width: 0.5px; fill: rgb(239, 85, 59); fill-opacity: 1; stroke: rgb(229, 236, 246); stroke-opacity: 1;\"/></g><g class=\"point\"><path d=\"M7.73,212.16V212.09H69.53V212.16Z\" style=\"vector-effect: non-scaling-stroke; opacity: 1; stroke-width: 0.5px; fill: rgb(239, 85, 59); fill-opacity: 1; stroke: rgb(229, 236, 246); stroke-opacity: 1;\"/></g><g class=\"point\"><path d=\"M84.98,215.37V12.25H146.79V215.37Z\" style=\"vector-effect: non-scaling-stroke; opacity: 1; stroke-width: 0.5px; fill: rgb(239, 85, 59); fill-opacity: 1; stroke: rgb(229, 236, 246); stroke-opacity: 1;\"/></g><g class=\"point\"><path d=\"M7.73,212.09V79.19H69.53V212.09Z\" style=\"vector-effect: non-scaling-stroke; opacity: 1; stroke-width: 0.5px; fill: rgb(239, 85, 59); fill-opacity: 1; stroke: rgb(229, 236, 246); stroke-opacity: 1;\"/></g></g></g></g></g><g class=\"overplot\"/><path class=\"xlines-above crisp\" d=\"M320.23,345.5H553\" style=\"fill: none; stroke-width: 1px; stroke: rgb(255, 255, 255); stroke-opacity: 1;\"/><path class=\"ylines-above crisp\" d=\"M320.73,100V345\" style=\"fill: none; stroke-width: 1px; stroke: rgb(255, 255, 255); stroke-opacity: 1;\"/><g class=\"overlines-above\"/><g class=\"xaxislayer-above\"><g class=\"x2tick\"><text text-anchor=\"start\" x=\"0\" y=\"360.4\" transform=\"translate(359.86,0) rotate(30,0,354.4)\" style=\"font-family: 'Open Sans', verdana, arial, sans-serif; font-size: 12px; fill: rgb(42, 63, 95); fill-opacity: 1; white-space: pre;\">Licensed</text></g><g class=\"x2tick\"><text text-anchor=\"start\" x=\"0\" y=\"360.4\" transform=\"translate(437.12,0) rotate(30,0,354.4)\" style=\"font-family: 'Open Sans', verdana, arial, sans-serif; font-size: 12px; fill: rgb(42, 63, 95); fill-opacity: 1; white-space: pre;\">Company Owned</text></g><g class=\"x2tick\"><text text-anchor=\"start\" x=\"0\" y=\"360.4\" transform=\"translate(514.37,0) rotate(30,0,354.4)\" style=\"font-family: 'Open Sans', verdana, arial, sans-serif; font-size: 12px; fill: rgb(42, 63, 95); fill-opacity: 1; white-space: pre;\">Joint Venture</text></g></g><g class=\"yaxislayer-above\"/><g class=\"overaxes-above\"/></g></g><g class=\"polarlayer\"/><g class=\"ternarylayer\"/><g class=\"geolayer\"/><g class=\"funnelarealayer\"/><g class=\"pielayer\"/><g class=\"treemaplayer\"/><g class=\"sunburstlayer\"/><g class=\"glimages\"/><defs id=\"topdefs-0ba525\"><g class=\"clips\"/><clipPath id=\"legend0ba525\"><rect width=\"126\" height=\"64\" x=\"0\" y=\"0\"/></clipPath></defs><g class=\"layer-above\"><g class=\"imagelayer\"/><g class=\"shapelayer\"/></g><g class=\"infolayer\"><g class=\"legend\" pointer-events=\"all\" transform=\"translate(562.46, 100)\"><rect class=\"bg\" shape-rendering=\"crispEdges\" width=\"126\" height=\"64\" x=\"0\" y=\"0\" style=\"stroke: rgb(68, 68, 68); stroke-opacity: 1; fill: rgb(255, 255, 255); fill-opacity: 1; stroke-width: 0px;\"/><g class=\"scrollbox\" transform=\"translate(0, 0)\" clip-path=\"url('#legend0ba525')\"><text class=\"legendtitletext user-select-none\" text-anchor=\"start\" x=\"2\" y=\"15.600000000000001\" style=\"font-family: 'Open Sans', verdana, arial, sans-serif; font-size: 12px; fill: rgb(42, 63, 95); fill-opacity: 1; white-space: pre;\">region</text><g class=\"groups\" transform=\"translate(0, 0)\"><g class=\"traces\" transform=\"translate(0, 30.1)\" style=\"opacity: 1;\"><text class=\"legendtext user-select-none\" text-anchor=\"start\" x=\"40\" y=\"4.680000000000001\" style=\"font-family: 'Open Sans', verdana, arial, sans-serif; font-size: 12px; fill: rgb(42, 63, 95); fill-opacity: 1; white-space: pre;\">Asia_Oceania</text><g class=\"layers\" style=\"opacity: 1;\"><g class=\"legendfill\"/><g class=\"legendlines\"/><g class=\"legendsymbols\"><g class=\"legendpoints\"><path class=\"legendundefined\" d=\"M6,6H-6V-6H6Z\" transform=\"translate(20,0)\" style=\"stroke-width: 0.5px; fill: rgb(99, 110, 250); fill-opacity: 1; stroke: rgb(229, 236, 246); stroke-opacity: 1;\"/></g></g></g><rect class=\"legendtoggle\" pointer-events=\"all\" x=\"0\" y=\"-9.5\" width=\"120.734375\" height=\"19\" style=\"cursor: pointer; fill: rgb(0, 0, 0); fill-opacity: 0;\"/></g></g><g class=\"groups\" transform=\"translate(0, 0)\"><g class=\"traces\" transform=\"translate(0, 49.1)\" style=\"opacity: 1;\"><text class=\"legendtext user-select-none\" text-anchor=\"start\" x=\"40\" y=\"4.680000000000001\" style=\"font-family: 'Open Sans', verdana, arial, sans-serif; font-size: 12px; fill: rgb(42, 63, 95); fill-opacity: 1; white-space: pre;\">Americas</text><g class=\"layers\" style=\"opacity: 1;\"><g class=\"legendfill\"/><g class=\"legendlines\"/><g class=\"legendsymbols\"><g class=\"legendpoints\"><path class=\"legendundefined\" d=\"M6,6H-6V-6H6Z\" transform=\"translate(20,0)\" style=\"stroke-width: 0.5px; fill: rgb(239, 85, 59); fill-opacity: 1; stroke: rgb(229, 236, 246); stroke-opacity: 1;\"/></g></g></g><rect class=\"legendtoggle\" pointer-events=\"all\" x=\"0\" y=\"-9.5\" width=\"120.734375\" height=\"19\" style=\"cursor: pointer; fill: rgb(0, 0, 0); fill-opacity: 0;\"/></g></g></g><rect class=\"scrollbar\" rx=\"20\" ry=\"3\" width=\"0\" height=\"0\" x=\"0\" y=\"0\" style=\"fill: rgb(128, 139, 164); fill-opacity: 1;\"/></g><g class=\"g-gtitle\"><text class=\"gtitle\" x=\"350\" y=\"50\" text-anchor=\"middle\" dy=\"0em\" style=\"font-family: 'Open Sans', verdana, arial, sans-serif; font-size: 17px; fill: rgb(42, 63, 95); opacity: 1; font-weight: normal; white-space: pre;\">Ownership Type Per in Asia and Americas</text></g><g class=\"g-xtitle\"><text class=\"xtitle\" x=\"195.885\" y=\"437.64160232543946\" text-anchor=\"middle\" style=\"font-family: 'Open Sans', verdana, arial, sans-serif; font-size: 14px; fill: rgb(42, 63, 95); opacity: 1; font-weight: normal; white-space: pre;\">Ownership Type</text></g><g class=\"g-x2title\"><text class=\"x2title\" x=\"437.115\" y=\"437.64160232543946\" text-anchor=\"middle\" style=\"font-family: 'Open Sans', verdana, arial, sans-serif; font-size: 14px; fill: rgb(42, 63, 95); opacity: 1; font-weight: normal; white-space: pre;\">Ownership Type</text></g><g class=\"g-ytitle\"><text class=\"ytitle\" transform=\"rotate(-90,37.059375,222.5)\" x=\"37.059375\" y=\"222.5\" text-anchor=\"middle\" style=\"font-family: 'Open Sans', verdana, arial, sans-serif; font-size: 14px; fill: rgb(42, 63, 95); opacity: 1; font-weight: normal; white-space: pre;\">count</text></g><g class=\"g-y2title\"/><g class=\"annotation\" data-index=\"0\" style=\"opacity: 1;\"><g class=\"annotation-text-g\" transform=\"rotate(0,195.885,91)\"><g class=\"cursor-pointer\" transform=\"translate(130, 82)\"><rect class=\"bg\" x=\"0.5\" y=\"0.5\" width=\"131\" height=\"17\" style=\"stroke-width: 1px; stroke: rgb(0, 0, 0); stroke-opacity: 0; fill: rgb(0, 0, 0); fill-opacity: 0;\"/><text class=\"annotation-text\" text-anchor=\"middle\" x=\"66.234375\" y=\"14\" style=\"font-family: 'Open Sans', verdana, arial, sans-serif; font-size: 12px; fill: rgb(42, 63, 95); fill-opacity: 1; white-space: pre;\">region=Asia_Oceania</text></g></g></g><g class=\"annotation\" data-index=\"1\" style=\"opacity: 1;\"><g class=\"annotation-text-g\" transform=\"rotate(0,437.115,91)\"><g class=\"cursor-pointer\" transform=\"translate(384, 82)\"><rect class=\"bg\" x=\"0.5\" y=\"0.5\" width=\"106\" height=\"17\" style=\"stroke-width: 1px; stroke: rgb(0, 0, 0); stroke-opacity: 0; fill: rgb(0, 0, 0); fill-opacity: 0;\"/><text class=\"annotation-text\" text-anchor=\"middle\" x=\"53.453125\" y=\"14\" style=\"font-family: 'Open Sans', verdana, arial, sans-serif; font-size: 12px; fill: rgb(42, 63, 95); fill-opacity: 1; white-space: pre;\">region=Americas</text></g></g></g></g></svg>"
      ]
     },
     "metadata": {},
     "output_type": "display_data"
    }
   ],
   "source": [
    "fig = px.bar(star_own2, x= 'Ownership_Type',y='store_count',\n",
    "            facet_col='region',\n",
    "            labels={'store_count':'count', 'Ownership_Type': 'Ownership Type'},\n",
    "            title='Ownership Type Per in Asia and Americas',\n",
    "            color='region'\n",
    "          \n",
    "           )\n",
    "\n",
    "\n",
    "fig.update(layout=dict(title=dict(x=0.5)))\n",
    "\n",
    "fig.show('svg')"
   ]
  },
  {
   "cell_type": "markdown",
   "metadata": {},
   "source": [
    "## Research Question 2\n",
    "### What these countries tell us about how strabucks choose a location to operate?\n",
    "\n",
    "\n",
    "Gross Domestic Product(GDP) using Purchaisng Power Parity(PPP)\n",
    "\n",
    "Accroding to wikipidea:\n",
    "\n",
    "GDP comparisons using PPP are arguably more useful than those using nominal GDP when assessing a nation's domestic market because PPP takes into account the relative cost of local goods, services and inflation rates of the country, rather than using international market exchange rates, which may distort the real differences in per capita income.\n",
    "\n",
    "\n",
    "Population- data from worldometer\n",
    "\n",
    "Coffee consumption - data from International Coffee Organization\n",
    "\n",
    "According to world bank:\n",
    "\n",
    "Doing Business 2020, a World Bank Group flagship publication, is the 17th in a series of annual studies measuring the regulations that enhance business activity and those that constrain it. Doing Business presents quantitative indicators on business regulations and the protection of property rights that can be compared across 190 economies—from Afghanistan to Zimbabwe—and over time.\n",
    "\n",
    "Doing Business covers 12 areas of business regulation. Ten of these areas—starting a business, dealing with construction permits, getting electricity, registering property, getting credit, protecting minority investors, paying taxes, trading across borders, enforcing contracts, and resolving insolvency—are included in the ease of doing business score and ease of doing business ranking. Doing Business also measures regulation on employing workers and contracting with the government, which are not included in the ease of doing business score and ranking.\n",
    "\n",
    "* Results and observations\n",
    "\n",
    "\n",
    "Countries with  Starbucks stores  has a median GDP per capita of 30000, a median of 17 million people, a median score of 75 on ease of doing business and a median of 610 kg of coffee consumption.\n"
   ]
  },
  {
   "cell_type": "code",
   "execution_count": null,
   "metadata": {},
   "outputs": [],
   "source": [
    "\n",
    "gdp_df = starbucks4[['store_presence', 'gdp_per_capita', 'country']]\n",
    "\n",
    "#Display the box plot with gdp per capita and store presence\n",
    "fig = px.box(gdp_df, x='store_presence', y='gdp_per_capita', color='store_presence',\n",
    "             points=False, log_y=True, title = \"Gross Domestic Product Per Capita\",\n",
    "            labels={'gdp_per_capita': 'GDP per capita', 'store_presence':'store presence'})\n",
    "             \n",
    "fig.update(layout=dict(title=dict(x=0.5)))\n",
    "fig.show()\n"
   ]
  },
  {
   "cell_type": "code",
   "execution_count": null,
   "metadata": {},
   "outputs": [],
   "source": [
    "pop_df = starbucks4[['store_presence', 'population','region']].dropna()\n",
    "\n",
    "#Display the box plot for population and store presence\n",
    "fig = px.box(pop_df , x='store_presence', y='population', color='store_presence',\n",
    "             points=False,log_y=True, title = \"Population\",\n",
    "            labels={ 'store_presence':'store presence'})\n",
    "fig.update(layout=dict(title=dict(x=0.5)))\n",
    "\n",
    "fig.show()"
   ]
  },
  {
   "cell_type": "code",
   "execution_count": null,
   "metadata": {},
   "outputs": [],
   "source": [
    "business_df = starbucks4[['store_presence', 'bus_perf','region']]\n",
    "\n",
    "#Display the box plot for ease of business score and store presence\n",
    "fig = px.box(business_df , x='store_presence', y='bus_perf', color='store_presence',\n",
    "             points=False,log_y=True, title = \"Ease Of Doing Business Score\",\n",
    "            labels={'bus_perf': 'Ease of Doing Business Score', 'store_presence':'store presence'})\n",
    "\n",
    "\n",
    "fig.update(layout=dict(title=dict(x=0.5)))\n",
    "\n",
    "fig.show()"
   ]
  },
  {
   "cell_type": "code",
   "execution_count": null,
   "metadata": {},
   "outputs": [],
   "source": [
    "coffee_df = starbucks4[['store_presence', 'coffee_consumption','region']]\n",
    "\n",
    "#Display the box plot for coffee consumption and store presence\n",
    "fig = px.box(coffee_df , x='store_presence', y='coffee_consumption', color='store_presence',\n",
    "             points=False,log_y=True, title = \"Coffee Consumption And Store Presence\",\n",
    "            labels={'coffee_consumption': 'Coffee Consumption', 'store_presence':'store presence'})\n",
    "\n",
    "fig.update(layout=dict(title=dict(x=0.5)))\n",
    "fig.show()"
   ]
  },
  {
   "cell_type": "code",
   "execution_count": null,
   "metadata": {},
   "outputs": [],
   "source": [
    "fig = px.choropleth(starbucks4, locations=\"country\",\n",
    "                    locationmode='country names',\n",
    "                    color=\"store_per_10k\", \n",
    "                    hover_name=\"country\", \n",
    "                    title= 'Stores Per 10K Capita ',\n",
    "                    color_continuous_scale=px.colors.sequential.OrRd)\n",
    "fig.update(layout=dict(title=dict(x=0.5)))\n",
    "fig.show()"
   ]
  },
  {
   "cell_type": "code",
   "execution_count": null,
   "metadata": {},
   "outputs": [],
   "source": [
    "store_capita.sample(5)"
   ]
  },
  {
   "cell_type": "code",
   "execution_count": null,
   "metadata": {},
   "outputs": [],
   "source": [
    "starbucks4.sample(4)"
   ]
  },
  {
   "cell_type": "code",
   "execution_count": null,
   "metadata": {},
   "outputs": [],
   "source": [
    "store_capita= starbucks4.loc[(starbucks4.country !='United States') & \n",
    "                             (starbucks4.country !='Canada') &\n",
    "                            (starbucks4.store_count >0) &\n",
    "                            ((starbucks4.gdp_per_capita>3e4) | (starbucks4.population >16e6)),]\n",
    "\n",
    "\n",
    "\n",
    "fig = px.scatter(store_capita, x='population', y='gdp_per_capita', \n",
    "                 size='people_store', hover_name='country',\n",
    "                facet_col ='region', log_y=True, log_x=True, color = 'region',\n",
    "                size_max=40)\n",
    "fig.show()"
   ]
  },
  {
   "cell_type": "markdown",
   "metadata": {},
   "source": [
    "## Research Question 3\n",
    "\n",
    "### What country currently without Starbucks could be a potential for a new location?\n",
    "\n",
    "* Conclusion:\n",
    "\n",
    "Italy and Israel aare potential countries to open a new Starbucks locations beause of similar GDP per capita, population, coffe consumption and ease of doing business score to countries that currentaly have Starbucks stores."
   ]
  },
  {
   "cell_type": "code",
   "execution_count": 49,
   "metadata": {},
   "outputs": [
    {
     "data": {
      "application/vnd.plotly.v1+json": {
       "config": {
        "plotlyServerURL": "https://plot.ly"
       },
       "data": [
        {
         "hovertemplate": "country=United Arab Emirates<br>gdp_ppp=%{x}<br>population=%{y}<extra></extra>",
         "legendgroup": "United Arab Emirates",
         "marker": {
          "color": "#636efa",
          "symbol": "circle"
         },
         "mode": "markers",
         "name": "United Arab Emirates",
         "orientation": "v",
         "showlegend": true,
         "type": "scatter",
         "x": [
          683000000000
         ],
         "xaxis": "x",
         "y": [
          9890402
         ],
         "yaxis": "y"
        },
        {
         "hovertemplate": "country=Argentina<br>gdp_ppp=%{x}<br>population=%{y}<extra></extra>",
         "legendgroup": "Argentina",
         "marker": {
          "color": "#EF553B",
          "symbol": "circle"
         },
         "mode": "markers",
         "name": "Argentina",
         "orientation": "v",
         "showlegend": true,
         "type": "scatter",
         "x": [
          1030000000000
         ],
         "xaxis": "x",
         "y": [
          45195774
         ],
         "yaxis": "y"
        },
        {
         "hovertemplate": "country=Austria<br>gdp_ppp=%{x}<br>population=%{y}<extra></extra>",
         "legendgroup": "Austria",
         "marker": {
          "color": "#00cc96",
          "symbol": "circle"
         },
         "mode": "markers",
         "name": "Austria",
         "orientation": "v",
         "showlegend": true,
         "type": "scatter",
         "x": [
          525000000000
         ],
         "xaxis": "x",
         "y": [
          9006398
         ],
         "yaxis": "y"
        },
        {
         "hovertemplate": "country=Australia<br>gdp_ppp=%{x}<br>population=%{y}<extra></extra>",
         "legendgroup": "Australia",
         "marker": {
          "color": "#ab63fa",
          "symbol": "circle"
         },
         "mode": "markers",
         "name": "Australia",
         "orientation": "v",
         "showlegend": true,
         "type": "scatter",
         "x": [
          1350000000000
         ],
         "xaxis": "x",
         "y": [
          25499884
         ],
         "yaxis": "y"
        },
        {
         "hovertemplate": "country=Azerbaijan<br>gdp_ppp=%{x}<br>population=%{y}<extra></extra>",
         "legendgroup": "Azerbaijan",
         "marker": {
          "color": "#FFA15A",
          "symbol": "circle"
         },
         "mode": "markers",
         "name": "Azerbaijan",
         "orientation": "v",
         "showlegend": true,
         "type": "scatter",
         "x": [
          150000000000,
          150000000000
         ],
         "xaxis": "x",
         "y": [
          10139177,
          10139177
         ],
         "yaxis": "y"
        },
        {
         "hovertemplate": "country=Belgium<br>gdp_ppp=%{x}<br>population=%{y}<extra></extra>",
         "legendgroup": "Belgium",
         "marker": {
          "color": "#19d3f3",
          "symbol": "circle"
         },
         "mode": "markers",
         "name": "Belgium",
         "orientation": "v",
         "showlegend": true,
         "type": "scatter",
         "x": [
          626000000000
         ],
         "xaxis": "x",
         "y": [
          11589623
         ],
         "yaxis": "y"
        },
        {
         "hovertemplate": "country=Bulgaria<br>gdp_ppp=%{x}<br>population=%{y}<extra></extra>",
         "legendgroup": "Bulgaria",
         "marker": {
          "color": "#FF6692",
          "symbol": "circle"
         },
         "mode": "markers",
         "name": "Bulgaria",
         "orientation": "v",
         "showlegend": true,
         "type": "scatter",
         "x": [
          171000000000
         ],
         "xaxis": "x",
         "y": [
          6948445
         ],
         "yaxis": "y"
        },
        {
         "hovertemplate": "country=Bahrain<br>gdp_ppp=%{x}<br>population=%{y}<extra></extra>",
         "legendgroup": "Bahrain",
         "marker": {
          "color": "#B6E880",
          "symbol": "circle"
         },
         "mode": "markers",
         "name": "Bahrain",
         "orientation": "v",
         "showlegend": true,
         "type": "scatter",
         "x": [
          76957607395
         ],
         "xaxis": "x",
         "y": [
          1701575
         ],
         "yaxis": "y"
        },
        {
         "hovertemplate": "country=Bolivia<br>gdp_ppp=%{x}<br>population=%{y}<extra></extra>",
         "legendgroup": "Bolivia",
         "marker": {
          "color": "#FF97FF",
          "symbol": "circle"
         },
         "mode": "markers",
         "name": "Bolivia",
         "orientation": "v",
         "showlegend": true,
         "type": "scatter",
         "x": [
          105000000000
         ],
         "xaxis": "x",
         "y": [
          11673021
         ],
         "yaxis": "y"
        },
        {
         "hovertemplate": "country=Brazil<br>gdp_ppp=%{x}<br>population=%{y}<extra></extra>",
         "legendgroup": "Brazil",
         "marker": {
          "color": "#FECB52",
          "symbol": "circle"
         },
         "mode": "markers",
         "name": "Brazil",
         "orientation": "v",
         "showlegend": true,
         "type": "scatter",
         "x": [
          3220000000000
         ],
         "xaxis": "x",
         "y": [
          212559417
         ],
         "yaxis": "y"
        },
        {
         "hovertemplate": "country=Bahamas<br>gdp_ppp=%{x}<br>population=%{y}<extra></extra>",
         "legendgroup": "Bahamas",
         "marker": {
          "color": "#636efa",
          "symbol": "circle"
         },
         "mode": "markers",
         "name": "Bahamas",
         "orientation": "v",
         "showlegend": true,
         "type": "scatter",
         "x": [
          14514363029
         ],
         "xaxis": "x",
         "y": [
          393244
         ],
         "yaxis": "y"
        },
        {
         "hovertemplate": "country=Canada<br>gdp_ppp=%{x}<br>population=%{y}<extra></extra>",
         "legendgroup": "Canada",
         "marker": {
          "color": "#EF553B",
          "symbol": "circle"
         },
         "mode": "markers",
         "name": "Canada",
         "orientation": "v",
         "showlegend": true,
         "type": "scatter",
         "x": [
          1930000000000
         ],
         "xaxis": "x",
         "y": [
          37742154
         ],
         "yaxis": "y"
        },
        {
         "hovertemplate": "country=Switzerland<br>gdp_ppp=%{x}<br>population=%{y}<extra></extra>",
         "legendgroup": "Switzerland",
         "marker": {
          "color": "#00cc96",
          "symbol": "circle"
         },
         "mode": "markers",
         "name": "Switzerland",
         "orientation": "v",
         "showlegend": true,
         "type": "scatter",
         "x": [
          609000000000
         ],
         "xaxis": "x",
         "y": [
          8654622
         ],
         "yaxis": "y"
        },
        {
         "hovertemplate": "country=Chile<br>gdp_ppp=%{x}<br>population=%{y}<extra></extra>",
         "legendgroup": "Chile",
         "marker": {
          "color": "#ab63fa",
          "symbol": "circle"
         },
         "mode": "markers",
         "name": "Chile",
         "orientation": "v",
         "showlegend": true,
         "type": "scatter",
         "x": [
          477000000000
         ],
         "xaxis": "x",
         "y": [
          19116201
         ],
         "yaxis": "y"
        },
        {
         "hovertemplate": "country=China<br>gdp_ppp=%{x}<br>population=%{y}<extra></extra>",
         "legendgroup": "China",
         "marker": {
          "color": "#FFA15A",
          "symbol": "circle"
         },
         "mode": "markers",
         "name": "China",
         "orientation": "v",
         "showlegend": true,
         "type": "scatter",
         "x": [
          23500000000000
         ],
         "xaxis": "x",
         "y": [
          1439323776
         ],
         "yaxis": "y"
        },
        {
         "hovertemplate": "country=Colombia<br>gdp_ppp=%{x}<br>population=%{y}<extra></extra>",
         "legendgroup": "Colombia",
         "marker": {
          "color": "#19d3f3",
          "symbol": "circle"
         },
         "mode": "markers",
         "name": "Colombia",
         "orientation": "v",
         "showlegend": true,
         "type": "scatter",
         "x": [
          787000000000
         ],
         "xaxis": "x",
         "y": [
          50882891
         ],
         "yaxis": "y"
        },
        {
         "hovertemplate": "country=Costa Rica<br>gdp_ppp=%{x}<br>population=%{y}<extra></extra>",
         "legendgroup": "Costa Rica",
         "marker": {
          "color": "#FF6692",
          "symbol": "circle"
         },
         "mode": "markers",
         "name": "Costa Rica",
         "orientation": "v",
         "showlegend": true,
         "type": "scatter",
         "x": [
          103000000000
         ],
         "xaxis": "x",
         "y": [
          5094118
         ],
         "yaxis": "y"
        },
        {
         "hovertemplate": "country=Cyprus<br>gdp_ppp=%{x}<br>population=%{y}<extra></extra>",
         "legendgroup": "Cyprus",
         "marker": {
          "color": "#B6E880",
          "symbol": "circle"
         },
         "mode": "markers",
         "name": "Cyprus",
         "orientation": "v",
         "showlegend": true,
         "type": "scatter",
         "x": [
          36376855079,
          36376855079
         ],
         "xaxis": "x",
         "y": [
          1207359,
          1207359
         ],
         "yaxis": "y"
        },
        {
         "hovertemplate": "country=Germany<br>gdp_ppp=%{x}<br>population=%{y}<extra></extra>",
         "legendgroup": "Germany",
         "marker": {
          "color": "#FF97FF",
          "symbol": "circle"
         },
         "mode": "markers",
         "name": "Germany",
         "orientation": "v",
         "showlegend": true,
         "type": "scatter",
         "x": [
          4660000000000
         ],
         "xaxis": "x",
         "y": [
          83783942
         ],
         "yaxis": "y"
        },
        {
         "hovertemplate": "country=Denmark<br>gdp_ppp=%{x}<br>population=%{y}<extra></extra>",
         "legendgroup": "Denmark",
         "marker": {
          "color": "#FECB52",
          "symbol": "circle"
         },
         "mode": "markers",
         "name": "Denmark",
         "orientation": "v",
         "showlegend": true,
         "type": "scatter",
         "x": [
          348000000000
         ],
         "xaxis": "x",
         "y": [
          5792202
         ],
         "yaxis": "y"
        },
        {
         "hovertemplate": "country=Egypt<br>gdp_ppp=%{x}<br>population=%{y}<extra></extra>",
         "legendgroup": "Egypt",
         "marker": {
          "color": "#636efa",
          "symbol": "circle"
         },
         "mode": "markers",
         "name": "Egypt",
         "orientation": "v",
         "showlegend": true,
         "type": "scatter",
         "x": [
          1230000000000
         ],
         "xaxis": "x",
         "y": [
          102334404
         ],
         "yaxis": "y"
        },
        {
         "hovertemplate": "country=Spain<br>gdp_ppp=%{x}<br>population=%{y}<extra></extra>",
         "legendgroup": "Spain",
         "marker": {
          "color": "#EF553B",
          "symbol": "circle"
         },
         "mode": "markers",
         "name": "Spain",
         "orientation": "v",
         "showlegend": true,
         "type": "scatter",
         "x": [
          1990000000000
         ],
         "xaxis": "x",
         "y": [
          46754778
         ],
         "yaxis": "y"
        },
        {
         "hovertemplate": "country=Finland<br>gdp_ppp=%{x}<br>population=%{y}<extra></extra>",
         "legendgroup": "Finland",
         "marker": {
          "color": "#00cc96",
          "symbol": "circle"
         },
         "mode": "markers",
         "name": "Finland",
         "orientation": "v",
         "showlegend": true,
         "type": "scatter",
         "x": [
          283000000000
         ],
         "xaxis": "x",
         "y": [
          5540720
         ],
         "yaxis": "y"
        },
        {
         "hovertemplate": "country=France<br>gdp_ppp=%{x}<br>population=%{y}<extra></extra>",
         "legendgroup": "France",
         "marker": {
          "color": "#ab63fa",
          "symbol": "circle"
         },
         "mode": "markers",
         "name": "France",
         "orientation": "v",
         "showlegend": true,
         "type": "scatter",
         "x": [
          3320000000000
         ],
         "xaxis": "x",
         "y": [
          65273511
         ],
         "yaxis": "y"
        },
        {
         "hovertemplate": "country=United Kingdom<br>gdp_ppp=%{x}<br>population=%{y}<extra></extra>",
         "legendgroup": "United Kingdom",
         "marker": {
          "color": "#FFA15A",
          "symbol": "circle"
         },
         "mode": "markers",
         "name": "United Kingdom",
         "orientation": "v",
         "showlegend": true,
         "type": "scatter",
         "x": [
          3260000000000
         ],
         "xaxis": "x",
         "y": [
          67886011
         ],
         "yaxis": "y"
        },
        {
         "hovertemplate": "country=Greece<br>gdp_ppp=%{x}<br>population=%{y}<extra></extra>",
         "legendgroup": "Greece",
         "marker": {
          "color": "#19d3f3",
          "symbol": "circle"
         },
         "mode": "markers",
         "name": "Greece",
         "orientation": "v",
         "showlegend": true,
         "type": "scatter",
         "x": [
          336000000000
         ],
         "xaxis": "x",
         "y": [
          10423054
         ],
         "yaxis": "y"
        },
        {
         "hovertemplate": "country=Guatemala<br>gdp_ppp=%{x}<br>population=%{y}<extra></extra>",
         "legendgroup": "Guatemala",
         "marker": {
          "color": "#FF6692",
          "symbol": "circle"
         },
         "mode": "markers",
         "name": "Guatemala",
         "orientation": "v",
         "showlegend": true,
         "type": "scatter",
         "x": [
          149000000000
         ],
         "xaxis": "x",
         "y": [
          17915568
         ],
         "yaxis": "y"
        },
        {
         "hovertemplate": "country=Hungary<br>gdp_ppp=%{x}<br>population=%{y}<extra></extra>",
         "legendgroup": "Hungary",
         "marker": {
          "color": "#B6E880",
          "symbol": "circle"
         },
         "mode": "markers",
         "name": "Hungary",
         "orientation": "v",
         "showlegend": true,
         "type": "scatter",
         "x": [
          332000000000
         ],
         "xaxis": "x",
         "y": [
          9660351
         ],
         "yaxis": "y"
        },
        {
         "hovertemplate": "country=Indonesia<br>gdp_ppp=%{x}<br>population=%{y}<extra></extra>",
         "legendgroup": "Indonesia",
         "marker": {
          "color": "#FF97FF",
          "symbol": "circle"
         },
         "mode": "markers",
         "name": "Indonesia",
         "orientation": "v",
         "showlegend": true,
         "type": "scatter",
         "x": [
          3330000000000
         ],
         "xaxis": "x",
         "y": [
          273523615
         ],
         "yaxis": "y"
        },
        {
         "hovertemplate": "country=Ireland<br>gdp_ppp=%{x}<br>population=%{y}<extra></extra>",
         "legendgroup": "Ireland",
         "marker": {
          "color": "#FECB52",
          "symbol": "circle"
         },
         "mode": "markers",
         "name": "Ireland",
         "orientation": "v",
         "showlegend": true,
         "type": "scatter",
         "x": [
          436000000000
         ],
         "xaxis": "x",
         "y": [
          4937786
         ],
         "yaxis": "y"
        },
        {
         "hovertemplate": "country=India<br>gdp_ppp=%{x}<br>population=%{y}<extra></extra>",
         "legendgroup": "India",
         "marker": {
          "color": "#636efa",
          "symbol": "circle"
         },
         "mode": "markers",
         "name": "India",
         "orientation": "v",
         "showlegend": true,
         "type": "scatter",
         "x": [
          9610000000000
         ],
         "xaxis": "x",
         "y": [
          1380004385
         ],
         "yaxis": "y"
        },
        {
         "hovertemplate": "country=Jordan<br>gdp_ppp=%{x}<br>population=%{y}<extra></extra>",
         "legendgroup": "Jordan",
         "marker": {
          "color": "#EF553B",
          "symbol": "circle"
         },
         "mode": "markers",
         "name": "Jordan",
         "orientation": "v",
         "showlegend": true,
         "type": "scatter",
         "x": [
          104000000000
         ],
         "xaxis": "x",
         "y": [
          10203134
         ],
         "yaxis": "y"
        },
        {
         "hovertemplate": "country=Japan<br>gdp_ppp=%{x}<br>population=%{y}<extra></extra>",
         "legendgroup": "Japan",
         "marker": {
          "color": "#00cc96",
          "symbol": "circle"
         },
         "mode": "markers",
         "name": "Japan",
         "orientation": "v",
         "showlegend": true,
         "type": "scatter",
         "x": [
          5460000000000
         ],
         "xaxis": "x",
         "y": [
          126476461
         ],
         "yaxis": "y"
        },
        {
         "hovertemplate": "country=Cambodia<br>gdp_ppp=%{x}<br>population=%{y}<extra></extra>",
         "legendgroup": "Cambodia",
         "marker": {
          "color": "#ab63fa",
          "symbol": "circle"
         },
         "mode": "markers",
         "name": "Cambodia",
         "orientation": "v",
         "showlegend": true,
         "type": "scatter",
         "x": [
          75354943361
         ],
         "xaxis": "x",
         "y": [
          16718965
         ],
         "yaxis": "y"
        },
        {
         "hovertemplate": "country=South Korea<br>gdp_ppp=%{x}<br>population=%{y}<extra></extra>",
         "legendgroup": "South Korea",
         "marker": {
          "color": "#FFA15A",
          "symbol": "circle"
         },
         "mode": "markers",
         "name": "South Korea",
         "orientation": "v",
         "showlegend": true,
         "type": "scatter",
         "x": [
          2220000000000
         ],
         "xaxis": "x",
         "y": [
          51269185
         ],
         "yaxis": "y"
        },
        {
         "hovertemplate": "country=Kuwait<br>gdp_ppp=%{x}<br>population=%{y}<extra></extra>",
         "legendgroup": "Kuwait",
         "marker": {
          "color": "#19d3f3",
          "symbol": "circle"
         },
         "mode": "markers",
         "name": "Kuwait",
         "orientation": "v",
         "showlegend": true,
         "type": "scatter",
         "x": [
          218000000000
         ],
         "xaxis": "x",
         "y": [
          4270571
         ],
         "yaxis": "y"
        },
        {
         "hovertemplate": "country=Kazakhstan<br>gdp_ppp=%{x}<br>population=%{y}<extra></extra>",
         "legendgroup": "Kazakhstan",
         "marker": {
          "color": "#FF6692",
          "symbol": "circle"
         },
         "mode": "markers",
         "name": "Kazakhstan",
         "orientation": "v",
         "showlegend": true,
         "type": "scatter",
         "x": [
          508000000000,
          508000000000
         ],
         "xaxis": "x",
         "y": [
          18776707,
          18776707
         ],
         "yaxis": "y"
        },
        {
         "hovertemplate": "country=Lebanon<br>gdp_ppp=%{x}<br>population=%{y}<extra></extra>",
         "legendgroup": "Lebanon",
         "marker": {
          "color": "#B6E880",
          "symbol": "circle"
         },
         "mode": "markers",
         "name": "Lebanon",
         "orientation": "v",
         "showlegend": true,
         "type": "scatter",
         "x": [
          105000000000
         ],
         "xaxis": "x",
         "y": [
          6825445
         ],
         "yaxis": "y"
        },
        {
         "hovertemplate": "country=Luxembourg<br>gdp_ppp=%{x}<br>population=%{y}<extra></extra>",
         "legendgroup": "Luxembourg",
         "marker": {
          "color": "#FF97FF",
          "symbol": "circle"
         },
         "mode": "markers",
         "name": "Luxembourg",
         "orientation": "v",
         "showlegend": true,
         "type": "scatter",
         "x": [
          75188883904
         ],
         "xaxis": "x",
         "y": [
          625978
         ],
         "yaxis": "y"
        },
        {
         "hovertemplate": "country=Morocco<br>gdp_ppp=%{x}<br>population=%{y}<extra></extra>",
         "legendgroup": "Morocco",
         "marker": {
          "color": "#FECB52",
          "symbol": "circle"
         },
         "mode": "markers",
         "name": "Morocco",
         "orientation": "v",
         "showlegend": true,
         "type": "scatter",
         "x": [
          290000000000
         ],
         "xaxis": "x",
         "y": [
          36910560
         ],
         "yaxis": "y"
        },
        {
         "hovertemplate": "country=Mexico<br>gdp_ppp=%{x}<br>population=%{y}<extra></extra>",
         "legendgroup": "Mexico",
         "marker": {
          "color": "#636efa",
          "symbol": "circle"
         },
         "mode": "markers",
         "name": "Mexico",
         "orientation": "v",
         "showlegend": true,
         "type": "scatter",
         "x": [
          2600000000000
         ],
         "xaxis": "x",
         "y": [
          128932753
         ],
         "yaxis": "y"
        },
        {
         "hovertemplate": "country=Malaysia<br>gdp_ppp=%{x}<br>population=%{y}<extra></extra>",
         "legendgroup": "Malaysia",
         "marker": {
          "color": "#EF553B",
          "symbol": "circle"
         },
         "mode": "markers",
         "name": "Malaysia",
         "orientation": "v",
         "showlegend": true,
         "type": "scatter",
         "x": [
          943000000000
         ],
         "xaxis": "x",
         "y": [
          32365999
         ],
         "yaxis": "y"
        },
        {
         "hovertemplate": "country=Netherlands<br>gdp_ppp=%{x}<br>population=%{y}<extra></extra>",
         "legendgroup": "Netherlands",
         "marker": {
          "color": "#00cc96",
          "symbol": "circle"
         },
         "mode": "markers",
         "name": "Netherlands",
         "orientation": "v",
         "showlegend": true,
         "type": "scatter",
         "x": [
          1030000000000
         ],
         "xaxis": "x",
         "y": [
          17134872
         ],
         "yaxis": "y"
        },
        {
         "hovertemplate": "country=Norway<br>gdp_ppp=%{x}<br>population=%{y}<extra></extra>",
         "legendgroup": "Norway",
         "marker": {
          "color": "#ab63fa",
          "symbol": "circle"
         },
         "mode": "markers",
         "name": "Norway",
         "orientation": "v",
         "showlegend": true,
         "type": "scatter",
         "x": [
          357000000000
         ],
         "xaxis": "x",
         "y": [
          5421241
         ],
         "yaxis": "y"
        },
        {
         "hovertemplate": "country=New Zealand<br>gdp_ppp=%{x}<br>population=%{y}<extra></extra>",
         "legendgroup": "New Zealand",
         "marker": {
          "color": "#FFA15A",
          "symbol": "circle"
         },
         "mode": "markers",
         "name": "New Zealand",
         "orientation": "v",
         "showlegend": true,
         "type": "scatter",
         "x": [
          216000000000
         ],
         "xaxis": "x",
         "y": [
          4822233
         ],
         "yaxis": "y"
        },
        {
         "hovertemplate": "country=Oman<br>gdp_ppp=%{x}<br>population=%{y}<extra></extra>",
         "legendgroup": "Oman",
         "marker": {
          "color": "#19d3f3",
          "symbol": "circle"
         },
         "mode": "markers",
         "name": "Oman",
         "orientation": "v",
         "showlegend": true,
         "type": "scatter",
         "x": [
          145000000000
         ],
         "xaxis": "x",
         "y": [
          5106626
         ],
         "yaxis": "y"
        },
        {
         "hovertemplate": "country=Panama<br>gdp_ppp=%{x}<br>population=%{y}<extra></extra>",
         "legendgroup": "Panama",
         "marker": {
          "color": "#FF6692",
          "symbol": "circle"
         },
         "mode": "markers",
         "name": "Panama",
         "orientation": "v",
         "showlegend": true,
         "type": "scatter",
         "x": [
          139000000000
         ],
         "xaxis": "x",
         "y": [
          4314767
         ],
         "yaxis": "y"
        },
        {
         "hovertemplate": "country=Peru<br>gdp_ppp=%{x}<br>population=%{y}<extra></extra>",
         "legendgroup": "Peru",
         "marker": {
          "color": "#B6E880",
          "symbol": "circle"
         },
         "mode": "markers",
         "name": "Peru",
         "orientation": "v",
         "showlegend": true,
         "type": "scatter",
         "x": [
          435000000000
         ],
         "xaxis": "x",
         "y": [
          32971854
         ],
         "yaxis": "y"
        },
        {
         "hovertemplate": "country=Philippines<br>gdp_ppp=%{x}<br>population=%{y}<extra></extra>",
         "legendgroup": "Philippines",
         "marker": {
          "color": "#FF97FF",
          "symbol": "circle"
         },
         "mode": "markers",
         "name": "Philippines",
         "orientation": "v",
         "showlegend": true,
         "type": "scatter",
         "x": [
          1000000000000
         ],
         "xaxis": "x",
         "y": [
          109581078
         ],
         "yaxis": "y"
        },
        {
         "hovertemplate": "country=Poland<br>gdp_ppp=%{x}<br>population=%{y}<extra></extra>",
         "legendgroup": "Poland",
         "marker": {
          "color": "#FECB52",
          "symbol": "circle"
         },
         "mode": "markers",
         "name": "Poland",
         "orientation": "v",
         "showlegend": true,
         "type": "scatter",
         "x": [
          1300000000000
         ],
         "xaxis": "x",
         "y": [
          37846611
         ],
         "yaxis": "y"
        },
        {
         "hovertemplate": "country=Puerto Rico<br>gdp_ppp=%{x}<br>population=%{y}<extra></extra>",
         "legendgroup": "Puerto Rico",
         "marker": {
          "color": "#636efa",
          "symbol": "circle"
         },
         "mode": "markers",
         "name": "Puerto Rico",
         "orientation": "v",
         "showlegend": true,
         "type": "scatter",
         "x": [
          115000000000
         ],
         "xaxis": "x",
         "y": [
          2860853
         ],
         "yaxis": "y"
        },
        {
         "hovertemplate": "country=Portugal<br>gdp_ppp=%{x}<br>population=%{y}<extra></extra>",
         "legendgroup": "Portugal",
         "marker": {
          "color": "#EF553B",
          "symbol": "circle"
         },
         "mode": "markers",
         "name": "Portugal",
         "orientation": "v",
         "showlegend": true,
         "type": "scatter",
         "x": [
          375000000000
         ],
         "xaxis": "x",
         "y": [
          10196709
         ],
         "yaxis": "y"
        },
        {
         "hovertemplate": "country=Qatar<br>gdp_ppp=%{x}<br>population=%{y}<extra></extra>",
         "legendgroup": "Qatar",
         "marker": {
          "color": "#00cc96",
          "symbol": "circle"
         },
         "mode": "markers",
         "name": "Qatar",
         "orientation": "v",
         "showlegend": true,
         "type": "scatter",
         "x": [
          273000000000
         ],
         "xaxis": "x",
         "y": [
          2881053
         ],
         "yaxis": "y"
        },
        {
         "hovertemplate": "country=Romania<br>gdp_ppp=%{x}<br>population=%{y}<extra></extra>",
         "legendgroup": "Romania",
         "marker": {
          "color": "#ab63fa",
          "symbol": "circle"
         },
         "mode": "markers",
         "name": "Romania",
         "orientation": "v",
         "showlegend": true,
         "type": "scatter",
         "x": [
          625000000000
         ],
         "xaxis": "x",
         "y": [
          19237691
         ],
         "yaxis": "y"
        },
        {
         "hovertemplate": "country=Russia<br>gdp_ppp=%{x}<br>population=%{y}<extra></extra>",
         "legendgroup": "Russia",
         "marker": {
          "color": "#FFA15A",
          "symbol": "circle"
         },
         "mode": "markers",
         "name": "Russia",
         "orientation": "v",
         "showlegend": true,
         "type": "scatter",
         "x": [
          4280000000000,
          4280000000000
         ],
         "xaxis": "x",
         "y": [
          145934462,
          145934462
         ],
         "yaxis": "y"
        },
        {
         "hovertemplate": "country=Saudi Arabia<br>gdp_ppp=%{x}<br>population=%{y}<extra></extra>",
         "legendgroup": "Saudi Arabia",
         "marker": {
          "color": "#19d3f3",
          "symbol": "circle"
         },
         "mode": "markers",
         "name": "Saudi Arabia",
         "orientation": "v",
         "showlegend": true,
         "type": "scatter",
         "x": [
          1680000000000
         ],
         "xaxis": "x",
         "y": [
          34813871
         ],
         "yaxis": "y"
        },
        {
         "hovertemplate": "country=Sweden<br>gdp_ppp=%{x}<br>population=%{y}<extra></extra>",
         "legendgroup": "Sweden",
         "marker": {
          "color": "#FF6692",
          "symbol": "circle"
         },
         "mode": "markers",
         "name": "Sweden",
         "orientation": "v",
         "showlegend": true,
         "type": "scatter",
         "x": [
          574000000000
         ],
         "xaxis": "x",
         "y": [
          10099265
         ],
         "yaxis": "y"
        },
        {
         "hovertemplate": "country=Singapore<br>gdp_ppp=%{x}<br>population=%{y}<extra></extra>",
         "legendgroup": "Singapore",
         "marker": {
          "color": "#B6E880",
          "symbol": "circle"
         },
         "mode": "markers",
         "name": "Singapore",
         "orientation": "v",
         "showlegend": true,
         "type": "scatter",
         "x": [
          578000000000
         ],
         "xaxis": "x",
         "y": [
          5850342
         ],
         "yaxis": "y"
        },
        {
         "hovertemplate": "country=El Salvador<br>gdp_ppp=%{x}<br>population=%{y}<extra></extra>",
         "legendgroup": "El Salvador",
         "marker": {
          "color": "#FF97FF",
          "symbol": "circle"
         },
         "mode": "markers",
         "name": "El Salvador",
         "orientation": "v",
         "showlegend": true,
         "type": "scatter",
         "x": [
          58983579232
         ],
         "xaxis": "x",
         "y": [
          6486205
         ],
         "yaxis": "y"
        },
        {
         "hovertemplate": "country=Thailand<br>gdp_ppp=%{x}<br>population=%{y}<extra></extra>",
         "legendgroup": "Thailand",
         "marker": {
          "color": "#FECB52",
          "symbol": "circle"
         },
         "mode": "markers",
         "name": "Thailand",
         "orientation": "v",
         "showlegend": true,
         "type": "scatter",
         "x": [
          1340000000000
         ],
         "xaxis": "x",
         "y": [
          69799978
         ],
         "yaxis": "y"
        },
        {
         "hovertemplate": "country=Turkey<br>gdp_ppp=%{x}<br>population=%{y}<extra></extra>",
         "legendgroup": "Turkey",
         "marker": {
          "color": "#636efa",
          "symbol": "circle"
         },
         "mode": "markers",
         "name": "Turkey",
         "orientation": "v",
         "showlegend": true,
         "type": "scatter",
         "x": [
          2330000000000,
          2330000000000
         ],
         "xaxis": "x",
         "y": [
          84339067,
          84339067
         ],
         "yaxis": "y"
        },
        {
         "hovertemplate": "country=Trinidad and Tobago<br>gdp_ppp=%{x}<br>population=%{y}<extra></extra>",
         "legendgroup": "Trinidad and Tobago",
         "marker": {
          "color": "#EF553B",
          "symbol": "circle"
         },
         "mode": "markers",
         "name": "Trinidad and Tobago",
         "orientation": "v",
         "showlegend": true,
         "type": "scatter",
         "x": [
          38028095615
         ],
         "xaxis": "x",
         "y": [
          1399488
         ],
         "yaxis": "y"
        },
        {
         "hovertemplate": "country=United States<br>gdp_ppp=%{x}<br>population=%{y}<extra></extra>",
         "legendgroup": "United States",
         "marker": {
          "color": "#00cc96",
          "symbol": "circle"
         },
         "mode": "markers",
         "name": "United States",
         "orientation": "v",
         "showlegend": true,
         "type": "scatter",
         "x": [
          21400000000000
         ],
         "xaxis": "x",
         "y": [
          331002651
         ],
         "yaxis": "y"
        },
        {
         "hovertemplate": "country=Vietnam<br>gdp_ppp=%{x}<br>population=%{y}<extra></extra>",
         "legendgroup": "Vietnam",
         "marker": {
          "color": "#ab63fa",
          "symbol": "circle"
         },
         "mode": "markers",
         "name": "Vietnam",
         "orientation": "v",
         "showlegend": true,
         "type": "scatter",
         "x": [
          808000000000
         ],
         "xaxis": "x",
         "y": [
          97338579
         ],
         "yaxis": "y"
        },
        {
         "hovertemplate": "country=South Africa<br>gdp_ppp=%{x}<br>population=%{y}<extra></extra>",
         "legendgroup": "South Africa",
         "marker": {
          "color": "#FFA15A",
          "symbol": "circle"
         },
         "mode": "markers",
         "name": "South Africa",
         "orientation": "v",
         "showlegend": true,
         "type": "scatter",
         "x": [
          761000000000
         ],
         "xaxis": "x",
         "y": [
          59308690
         ],
         "yaxis": "y"
        },
        {
         "hovertemplate": "country=Afghanistan<br>gdp_ppp=%{x}<br>population=%{y}<extra></extra>",
         "legendgroup": "Afghanistan",
         "marker": {
          "color": "#19d3f3",
          "symbol": "circle"
         },
         "mode": "markers",
         "name": "Afghanistan",
         "orientation": "v",
         "showlegend": true,
         "type": "scatter",
         "x": [
          87250728944
         ],
         "xaxis": "x",
         "y": [
          38928346
         ],
         "yaxis": "y"
        },
        {
         "hovertemplate": "country=Albania<br>gdp_ppp=%{x}<br>population=%{y}<extra></extra>",
         "legendgroup": "Albania",
         "marker": {
          "color": "#FF6692",
          "symbol": "circle"
         },
         "mode": "markers",
         "name": "Albania",
         "orientation": "v",
         "showlegend": true,
         "type": "scatter",
         "x": [
          41371722639
         ],
         "xaxis": "x",
         "y": [
          2877797
         ],
         "yaxis": "y"
        },
        {
         "hovertemplate": "country=Algeria<br>gdp_ppp=%{x}<br>population=%{y}<extra></extra>",
         "legendgroup": "Algeria",
         "marker": {
          "color": "#B6E880",
          "symbol": "circle"
         },
         "mode": "markers",
         "name": "Algeria",
         "orientation": "v",
         "showlegend": true,
         "type": "scatter",
         "x": [
          509000000000
         ],
         "xaxis": "x",
         "y": [
          43851044
         ],
         "yaxis": "y"
        },
        {
         "hovertemplate": "country=Angola<br>gdp_ppp=%{x}<br>population=%{y}<extra></extra>",
         "legendgroup": "Angola",
         "marker": {
          "color": "#FF97FF",
          "symbol": "circle"
         },
         "mode": "markers",
         "name": "Angola",
         "orientation": "v",
         "showlegend": true,
         "type": "scatter",
         "x": [
          221000000000
         ],
         "xaxis": "x",
         "y": [
          32866272
         ],
         "yaxis": "y"
        },
        {
         "hovertemplate": "country=Antigua and Barbuda<br>gdp_ppp=%{x}<br>population=%{y}<extra></extra>",
         "legendgroup": "Antigua and Barbuda",
         "marker": {
          "color": "#FECB52",
          "symbol": "circle"
         },
         "mode": "markers",
         "name": "Antigua and Barbuda",
         "orientation": "v",
         "showlegend": true,
         "type": "scatter",
         "x": [
          2215888205
         ],
         "xaxis": "x",
         "y": [
          97929
         ],
         "yaxis": "y"
        },
        {
         "hovertemplate": "country=Bangladesh<br>gdp_ppp=%{x}<br>population=%{y}<extra></extra>",
         "legendgroup": "Bangladesh",
         "marker": {
          "color": "#636efa",
          "symbol": "circle"
         },
         "mode": "markers",
         "name": "Bangladesh",
         "orientation": "v",
         "showlegend": true,
         "type": "scatter",
         "x": [
          807000000000
         ],
         "xaxis": "x",
         "y": [
          164689383
         ],
         "yaxis": "y"
        },
        {
         "hovertemplate": "country=Armenia<br>gdp_ppp=%{x}<br>population=%{y}<extra></extra>",
         "legendgroup": "Armenia",
         "marker": {
          "color": "#EF553B",
          "symbol": "circle"
         },
         "mode": "markers",
         "name": "Armenia",
         "orientation": "v",
         "showlegend": true,
         "type": "scatter",
         "x": [
          42057833683,
          42057833683
         ],
         "xaxis": "x",
         "y": [
          2963243,
          2963243
         ],
         "yaxis": "y"
        },
        {
         "hovertemplate": "country=Barbados<br>gdp_ppp=%{x}<br>population=%{y}<extra></extra>",
         "legendgroup": "Barbados",
         "marker": {
          "color": "#00cc96",
          "symbol": "circle"
         },
         "mode": "markers",
         "name": "Barbados",
         "orientation": "v",
         "showlegend": true,
         "type": "scatter",
         "x": [
          4674770295
         ],
         "xaxis": "x",
         "y": [
          287375
         ],
         "yaxis": "y"
        },
        {
         "hovertemplate": "country=Bosnia and Herzegovina<br>gdp_ppp=%{x}<br>population=%{y}<extra></extra>",
         "legendgroup": "Bosnia and Herzegovina",
         "marker": {
          "color": "#ab63fa",
          "symbol": "circle"
         },
         "mode": "markers",
         "name": "Bosnia and Herzegovina",
         "orientation": "v",
         "showlegend": true,
         "type": "scatter",
         "x": [
          52128318315
         ],
         "xaxis": "x",
         "y": [
          3280819
         ],
         "yaxis": "y"
        },
        {
         "hovertemplate": "country=Botswana<br>gdp_ppp=%{x}<br>population=%{y}<extra></extra>",
         "legendgroup": "Botswana",
         "marker": {
          "color": "#FFA15A",
          "symbol": "circle"
         },
         "mode": "markers",
         "name": "Botswana",
         "orientation": "v",
         "showlegend": true,
         "type": "scatter",
         "x": [
          42624886832
         ],
         "xaxis": "x",
         "y": [
          2351627
         ],
         "yaxis": "y"
        },
        {
         "hovertemplate": "country=Belize<br>gdp_ppp=%{x}<br>population=%{y}<extra></extra>",
         "legendgroup": "Belize",
         "marker": {
          "color": "#19d3f3",
          "symbol": "circle"
         },
         "mode": "markers",
         "name": "Belize",
         "orientation": "v",
         "showlegend": true,
         "type": "scatter",
         "x": [
          2847714969
         ],
         "xaxis": "x",
         "y": [
          397628
         ],
         "yaxis": "y"
        },
        {
         "hovertemplate": "country=Solomon Islands<br>gdp_ppp=%{x}<br>population=%{y}<extra></extra>",
         "legendgroup": "Solomon Islands",
         "marker": {
          "color": "#FF6692",
          "symbol": "circle"
         },
         "mode": "markers",
         "name": "Solomon Islands",
         "orientation": "v",
         "showlegend": true,
         "type": "scatter",
         "x": [
          1651462433
         ],
         "xaxis": "x",
         "y": [
          686884
         ],
         "yaxis": "y"
        },
        {
         "hovertemplate": "country=Myanmar<br>gdp_ppp=%{x}<br>population=%{y}<extra></extra>",
         "legendgroup": "Myanmar",
         "marker": {
          "color": "#B6E880",
          "symbol": "circle"
         },
         "mode": "markers",
         "name": "Myanmar",
         "orientation": "v",
         "showlegend": true,
         "type": "scatter",
         "x": [
          289000000000
         ],
         "xaxis": "x",
         "y": [
          54409800
         ],
         "yaxis": "y"
        },
        {
         "hovertemplate": "country=Burundi<br>gdp_ppp=%{x}<br>population=%{y}<extra></extra>",
         "legendgroup": "Burundi",
         "marker": {
          "color": "#FF97FF",
          "symbol": "circle"
         },
         "mode": "markers",
         "name": "Burundi",
         "orientation": "v",
         "showlegend": true,
         "type": "scatter",
         "x": [
          9026329302
         ],
         "xaxis": "x",
         "y": [
          11890784
         ],
         "yaxis": "y"
        },
        {
         "hovertemplate": "country=Belarus<br>gdp_ppp=%{x}<br>population=%{y}<extra></extra>",
         "legendgroup": "Belarus",
         "marker": {
          "color": "#FECB52",
          "symbol": "circle"
         },
         "mode": "markers",
         "name": "Belarus",
         "orientation": "v",
         "showlegend": true,
         "type": "scatter",
         "x": [
          189000000000
         ],
         "xaxis": "x",
         "y": [
          9449323
         ],
         "yaxis": "y"
        },
        {
         "hovertemplate": "country=Cameroon<br>gdp_ppp=%{x}<br>population=%{y}<extra></extra>",
         "legendgroup": "Cameroon",
         "marker": {
          "color": "#636efa",
          "symbol": "circle"
         },
         "mode": "markers",
         "name": "Cameroon",
         "orientation": "v",
         "showlegend": true,
         "type": "scatter",
         "x": [
          98435605135
         ],
         "xaxis": "x",
         "y": [
          26545863
         ],
         "yaxis": "y"
        },
        {
         "hovertemplate": "country=Central African Republic<br>gdp_ppp=%{x}<br>population=%{y}<extra></extra>",
         "legendgroup": "Central African Republic",
         "marker": {
          "color": "#EF553B",
          "symbol": "circle"
         },
         "mode": "markers",
         "name": "Central African Republic",
         "orientation": "v",
         "showlegend": true,
         "type": "scatter",
         "x": [
          4669395141
         ],
         "xaxis": "x",
         "y": [
          4829767
         ],
         "yaxis": "y"
        },
        {
         "hovertemplate": "country=Sri Lanka<br>gdp_ppp=%{x}<br>population=%{y}<extra></extra>",
         "legendgroup": "Sri Lanka",
         "marker": {
          "color": "#00cc96",
          "symbol": "circle"
         },
         "mode": "markers",
         "name": "Sri Lanka",
         "orientation": "v",
         "showlegend": true,
         "type": "scatter",
         "x": [
          297000000000
         ],
         "xaxis": "x",
         "y": [
          21413249
         ],
         "yaxis": "y"
        },
        {
         "hovertemplate": "country=Chad<br>gdp_ppp=%{x}<br>population=%{y}<extra></extra>",
         "legendgroup": "Chad",
         "marker": {
          "color": "#ab63fa",
          "symbol": "circle"
         },
         "mode": "markers",
         "name": "Chad",
         "orientation": "v",
         "showlegend": true,
         "type": "scatter",
         "x": [
          26234112465
         ],
         "xaxis": "x",
         "y": [
          16425864
         ],
         "yaxis": "y"
        },
        {
         "hovertemplate": "country=Comoros<br>gdp_ppp=%{x}<br>population=%{y}<extra></extra>",
         "legendgroup": "Comoros",
         "marker": {
          "color": "#FFA15A",
          "symbol": "circle"
         },
         "mode": "markers",
         "name": "Comoros",
         "orientation": "v",
         "showlegend": true,
         "type": "scatter",
         "x": [
          2730570852
         ],
         "xaxis": "x",
         "y": [
          869601
         ],
         "yaxis": "y"
        },
        {
         "hovertemplate": "country=Congo<br>gdp_ppp=%{x}<br>population=%{y}<extra></extra>",
         "legendgroup": "Congo",
         "marker": {
          "color": "#19d3f3",
          "symbol": "circle"
         },
         "mode": "markers",
         "name": "Congo",
         "orientation": "v",
         "showlegend": true,
         "type": "scatter",
         "x": [
          99240953693,
          99240953693
         ],
         "xaxis": "x",
         "y": [
          5518087,
          5518087
         ],
         "yaxis": "y"
        },
        {
         "hovertemplate": "country=Croatia<br>gdp_ppp=%{x}<br>population=%{y}<extra></extra>",
         "legendgroup": "Croatia",
         "marker": {
          "color": "#FF6692",
          "symbol": "circle"
         },
         "mode": "markers",
         "name": "Croatia",
         "orientation": "v",
         "showlegend": true,
         "type": "scatter",
         "x": [
          122000000000
         ],
         "xaxis": "x",
         "y": [
          4105267
         ],
         "yaxis": "y"
        },
        {
         "hovertemplate": "country=Benin<br>gdp_ppp=%{x}<br>population=%{y}<extra></extra>",
         "legendgroup": "Benin",
         "marker": {
          "color": "#B6E880",
          "symbol": "circle"
         },
         "mode": "markers",
         "name": "Benin",
         "orientation": "v",
         "showlegend": true,
         "type": "scatter",
         "x": [
          40401850886
         ],
         "xaxis": "x",
         "y": [
          12123200
         ],
         "yaxis": "y"
        },
        {
         "hovertemplate": "country=Dominica<br>gdp_ppp=%{x}<br>population=%{y}<extra></extra>",
         "legendgroup": "Dominica",
         "marker": {
          "color": "#FF97FF",
          "symbol": "circle"
         },
         "mode": "markers",
         "name": "Dominica",
         "orientation": "v",
         "showlegend": true,
         "type": "scatter",
         "x": [
          909042210.9
         ],
         "xaxis": "x",
         "y": [
          71986
         ],
         "yaxis": "y"
        },
        {
         "hovertemplate": "country=Dominican Republic<br>gdp_ppp=%{x}<br>population=%{y}<extra></extra>",
         "legendgroup": "Dominican Republic",
         "marker": {
          "color": "#FECB52",
          "symbol": "circle"
         },
         "mode": "markers",
         "name": "Dominican Republic",
         "orientation": "v",
         "showlegend": true,
         "type": "scatter",
         "x": [
          206000000000
         ],
         "xaxis": "x",
         "y": [
          10847910
         ],
         "yaxis": "y"
        },
        {
         "hovertemplate": "country=Ecuador<br>gdp_ppp=%{x}<br>population=%{y}<extra></extra>",
         "legendgroup": "Ecuador",
         "marker": {
          "color": "#636efa",
          "symbol": "circle"
         },
         "mode": "markers",
         "name": "Ecuador",
         "orientation": "v",
         "showlegend": true,
         "type": "scatter",
         "x": [
          206000000000
         ],
         "xaxis": "x",
         "y": [
          17643054
         ],
         "yaxis": "y"
        },
        {
         "hovertemplate": "country=Equatorial Guinea<br>gdp_ppp=%{x}<br>population=%{y}<extra></extra>",
         "legendgroup": "Equatorial Guinea",
         "marker": {
          "color": "#EF553B",
          "symbol": "circle"
         },
         "mode": "markers",
         "name": "Equatorial Guinea",
         "orientation": "v",
         "showlegend": true,
         "type": "scatter",
         "x": [
          26207328980
         ],
         "xaxis": "x",
         "y": [
          1402985
         ],
         "yaxis": "y"
        },
        {
         "hovertemplate": "country=Ethiopia<br>gdp_ppp=%{x}<br>population=%{y}<extra></extra>",
         "legendgroup": "Ethiopia",
         "marker": {
          "color": "#00cc96",
          "symbol": "circle"
         },
         "mode": "markers",
         "name": "Ethiopia",
         "orientation": "v",
         "showlegend": true,
         "type": "scatter",
         "x": [
          259000000000
         ],
         "xaxis": "x",
         "y": [
          114963588
         ],
         "yaxis": "y"
        },
        {
         "hovertemplate": "country=Estonia<br>gdp_ppp=%{x}<br>population=%{y}<extra></extra>",
         "legendgroup": "Estonia",
         "marker": {
          "color": "#ab63fa",
          "symbol": "circle"
         },
         "mode": "markers",
         "name": "Estonia",
         "orientation": "v",
         "showlegend": true,
         "type": "scatter",
         "x": [
          51486474644
         ],
         "xaxis": "x",
         "y": [
          1326535
         ],
         "yaxis": "y"
        },
        {
         "hovertemplate": "country=Fiji<br>gdp_ppp=%{x}<br>population=%{y}<extra></extra>",
         "legendgroup": "Fiji",
         "marker": {
          "color": "#FFA15A",
          "symbol": "circle"
         },
         "mode": "markers",
         "name": "Fiji",
         "orientation": "v",
         "showlegend": true,
         "type": "scatter",
         "x": [
          12839870256
         ],
         "xaxis": "x",
         "y": [
          896445
         ],
         "yaxis": "y"
        },
        {
         "hovertemplate": "country=Djibouti<br>gdp_ppp=%{x}<br>population=%{y}<extra></extra>",
         "legendgroup": "Djibouti",
         "marker": {
          "color": "#19d3f3",
          "symbol": "circle"
         },
         "mode": "markers",
         "name": "Djibouti",
         "orientation": "v",
         "showlegend": true,
         "type": "scatter",
         "x": [
          5596101782
         ],
         "xaxis": "x",
         "y": [
          988000
         ],
         "yaxis": "y"
        },
        {
         "hovertemplate": "country=Gabon<br>gdp_ppp=%{x}<br>population=%{y}<extra></extra>",
         "legendgroup": "Gabon",
         "marker": {
          "color": "#FF6692",
          "symbol": "circle"
         },
         "mode": "markers",
         "name": "Gabon",
         "orientation": "v",
         "showlegend": true,
         "type": "scatter",
         "x": [
          33644706827
         ],
         "xaxis": "x",
         "y": [
          2225734
         ],
         "yaxis": "y"
        },
        {
         "hovertemplate": "country=Georgia<br>gdp_ppp=%{x}<br>population=%{y}<extra></extra>",
         "legendgroup": "Georgia",
         "marker": {
          "color": "#B6E880",
          "symbol": "circle"
         },
         "mode": "markers",
         "name": "Georgia",
         "orientation": "v",
         "showlegend": true,
         "type": "scatter",
         "x": [
          58173953153,
          58173953153
         ],
         "xaxis": "x",
         "y": [
          3989167,
          3989167
         ],
         "yaxis": "y"
        },
        {
         "hovertemplate": "country=Gambia<br>gdp_ppp=%{x}<br>population=%{y}<extra></extra>",
         "legendgroup": "Gambia",
         "marker": {
          "color": "#FF97FF",
          "symbol": "circle"
         },
         "mode": "markers",
         "name": "Gambia",
         "orientation": "v",
         "showlegend": true,
         "type": "scatter",
         "x": [
          5395916227
         ],
         "xaxis": "x",
         "y": [
          2416668
         ],
         "yaxis": "y"
        },
        {
         "hovertemplate": "country=Ghana<br>gdp_ppp=%{x}<br>population=%{y}<extra></extra>",
         "legendgroup": "Ghana",
         "marker": {
          "color": "#FECB52",
          "symbol": "circle"
         },
         "mode": "markers",
         "name": "Ghana",
         "orientation": "v",
         "showlegend": true,
         "type": "scatter",
         "x": [
          171000000000
         ],
         "xaxis": "x",
         "y": [
          31072940
         ],
         "yaxis": "y"
        },
        {
         "hovertemplate": "country=Kiribati<br>gdp_ppp=%{x}<br>population=%{y}<extra></extra>",
         "legendgroup": "Kiribati",
         "marker": {
          "color": "#636efa",
          "symbol": "circle"
         },
         "mode": "markers",
         "name": "Kiribati",
         "orientation": "v",
         "showlegend": true,
         "type": "scatter",
         "x": [
          278663362.8
         ],
         "xaxis": "x",
         "y": [
          119449
         ],
         "yaxis": "y"
        },
        {
         "hovertemplate": "country=Grenada<br>gdp_ppp=%{x}<br>population=%{y}<extra></extra>",
         "legendgroup": "Grenada",
         "marker": {
          "color": "#EF553B",
          "symbol": "circle"
         },
         "mode": "markers",
         "name": "Grenada",
         "orientation": "v",
         "showlegend": true,
         "type": "scatter",
         "x": [
          2011137673
         ],
         "xaxis": "x",
         "y": [
          112523
         ],
         "yaxis": "y"
        },
        {
         "hovertemplate": "country=Guinea<br>gdp_ppp=%{x}<br>population=%{y}<extra></extra>",
         "legendgroup": "Guinea",
         "marker": {
          "color": "#00cc96",
          "symbol": "circle"
         },
         "mode": "markers",
         "name": "Guinea",
         "orientation": "v",
         "showlegend": true,
         "type": "scatter",
         "x": [
          34103172455
         ],
         "xaxis": "x",
         "y": [
          13132795
         ],
         "yaxis": "y"
        },
        {
         "hovertemplate": "country=Guyana<br>gdp_ppp=%{x}<br>population=%{y}<extra></extra>",
         "legendgroup": "Guyana",
         "marker": {
          "color": "#ab63fa",
          "symbol": "circle"
         },
         "mode": "markers",
         "name": "Guyana",
         "orientation": "v",
         "showlegend": true,
         "type": "scatter",
         "x": [
          7909616533
         ],
         "xaxis": "x",
         "y": [
          786552
         ],
         "yaxis": "y"
        },
        {
         "hovertemplate": "country=Haiti<br>gdp_ppp=%{x}<br>population=%{y}<extra></extra>",
         "legendgroup": "Haiti",
         "marker": {
          "color": "#FFA15A",
          "symbol": "circle"
         },
         "mode": "markers",
         "name": "Haiti",
         "orientation": "v",
         "showlegend": true,
         "type": "scatter",
         "x": [
          20279897297
         ],
         "xaxis": "x",
         "y": [
          11402528
         ],
         "yaxis": "y"
        },
        {
         "hovertemplate": "country=Honduras<br>gdp_ppp=%{x}<br>population=%{y}<extra></extra>",
         "legendgroup": "Honduras",
         "marker": {
          "color": "#19d3f3",
          "symbol": "circle"
         },
         "mode": "markers",
         "name": "Honduras",
         "orientation": "v",
         "showlegend": true,
         "type": "scatter",
         "x": [
          58139182458
         ],
         "xaxis": "x",
         "y": [
          9904607
         ],
         "yaxis": "y"
        },
        {
         "hovertemplate": "country=Iceland<br>gdp_ppp=%{x}<br>population=%{y}<extra></extra>",
         "legendgroup": "Iceland",
         "marker": {
          "color": "#FF6692",
          "symbol": "circle"
         },
         "mode": "markers",
         "name": "Iceland",
         "orientation": "v",
         "showlegend": true,
         "type": "scatter",
         "x": [
          21700953992
         ],
         "xaxis": "x",
         "y": [
          341243
         ],
         "yaxis": "y"
        },
        {
         "hovertemplate": "country=Iraq<br>gdp_ppp=%{x}<br>population=%{y}<extra></extra>",
         "legendgroup": "Iraq",
         "marker": {
          "color": "#B6E880",
          "symbol": "circle"
         },
         "mode": "markers",
         "name": "Iraq",
         "orientation": "v",
         "showlegend": true,
         "type": "scatter",
         "x": [
          445000000000
         ],
         "xaxis": "x",
         "y": [
          40222493
         ],
         "yaxis": "y"
        },
        {
         "hovertemplate": "country=Israel<br>gdp_ppp=%{x}<br>population=%{y}<extra></extra>",
         "legendgroup": "Israel",
         "marker": {
          "color": "#FF97FF",
          "symbol": "circle"
         },
         "mode": "markers",
         "name": "Israel",
         "orientation": "v",
         "showlegend": true,
         "type": "scatter",
         "x": [
          382000000000
         ],
         "xaxis": "x",
         "y": [
          8655535
         ],
         "yaxis": "y"
        },
        {
         "hovertemplate": "country=Italy<br>gdp_ppp=%{x}<br>population=%{y}<extra></extra>",
         "legendgroup": "Italy",
         "marker": {
          "color": "#FECB52",
          "symbol": "circle"
         },
         "mode": "markers",
         "name": "Italy",
         "orientation": "v",
         "showlegend": true,
         "type": "scatter",
         "x": [
          2660000000000
         ],
         "xaxis": "x",
         "y": [
          60461826
         ],
         "yaxis": "y"
        },
        {
         "hovertemplate": "country=Jamaica<br>gdp_ppp=%{x}<br>population=%{y}<extra></extra>",
         "legendgroup": "Jamaica",
         "marker": {
          "color": "#636efa",
          "symbol": "circle"
         },
         "mode": "markers",
         "name": "Jamaica",
         "orientation": "v",
         "showlegend": true,
         "type": "scatter",
         "x": [
          29972389393
         ],
         "xaxis": "x",
         "y": [
          2961167
         ],
         "yaxis": "y"
        },
        {
         "hovertemplate": "country=Kenya<br>gdp_ppp=%{x}<br>population=%{y}<extra></extra>",
         "legendgroup": "Kenya",
         "marker": {
          "color": "#EF553B",
          "symbol": "circle"
         },
         "mode": "markers",
         "name": "Kenya",
         "orientation": "v",
         "showlegend": true,
         "type": "scatter",
         "x": [
          237000000000
         ],
         "xaxis": "x",
         "y": [
          53771296
         ],
         "yaxis": "y"
        },
        {
         "hovertemplate": "country=Lesotho<br>gdp_ppp=%{x}<br>population=%{y}<extra></extra>",
         "legendgroup": "Lesotho",
         "marker": {
          "color": "#00cc96",
          "symbol": "circle"
         },
         "mode": "markers",
         "name": "Lesotho",
         "orientation": "v",
         "showlegend": true,
         "type": "scatter",
         "x": [
          6125919028
         ],
         "xaxis": "x",
         "y": [
          2142249
         ],
         "yaxis": "y"
        },
        {
         "hovertemplate": "country=Latvia<br>gdp_ppp=%{x}<br>population=%{y}<extra></extra>",
         "legendgroup": "Latvia",
         "marker": {
          "color": "#ab63fa",
          "symbol": "circle"
         },
         "mode": "markers",
         "name": "Latvia",
         "orientation": "v",
         "showlegend": true,
         "type": "scatter",
         "x": [
          61600332701
         ],
         "xaxis": "x",
         "y": [
          1886198
         ],
         "yaxis": "y"
        },
        {
         "hovertemplate": "country=Liberia<br>gdp_ppp=%{x}<br>population=%{y}<extra></extra>",
         "legendgroup": "Liberia",
         "marker": {
          "color": "#FFA15A",
          "symbol": "circle"
         },
         "mode": "markers",
         "name": "Liberia",
         "orientation": "v",
         "showlegend": true,
         "type": "scatter",
         "x": [
          7341849948
         ],
         "xaxis": "x",
         "y": [
          5057681
         ],
         "yaxis": "y"
        },
        {
         "hovertemplate": "country=Lithuania<br>gdp_ppp=%{x}<br>population=%{y}<extra></extra>",
         "legendgroup": "Lithuania",
         "marker": {
          "color": "#19d3f3",
          "symbol": "circle"
         },
         "mode": "markers",
         "name": "Lithuania",
         "orientation": "v",
         "showlegend": true,
         "type": "scatter",
         "x": [
          106000000000
         ],
         "xaxis": "x",
         "y": [
          2722289
         ],
         "yaxis": "y"
        },
        {
         "hovertemplate": "country=Madagascar<br>gdp_ppp=%{x}<br>population=%{y}<extra></extra>",
         "legendgroup": "Madagascar",
         "marker": {
          "color": "#FF6692",
          "symbol": "circle"
         },
         "mode": "markers",
         "name": "Madagascar",
         "orientation": "v",
         "showlegend": true,
         "type": "scatter",
         "x": [
          46237459719
         ],
         "xaxis": "x",
         "y": [
          27691018
         ],
         "yaxis": "y"
        },
        {
         "hovertemplate": "country=Malawi<br>gdp_ppp=%{x}<br>population=%{y}<extra></extra>",
         "legendgroup": "Malawi",
         "marker": {
          "color": "#B6E880",
          "symbol": "circle"
         },
         "mode": "markers",
         "name": "Malawi",
         "orientation": "v",
         "showlegend": true,
         "type": "scatter",
         "x": [
          20559497697
         ],
         "xaxis": "x",
         "y": [
          19129952
         ],
         "yaxis": "y"
        },
        {
         "hovertemplate": "country=Maldives<br>gdp_ppp=%{x}<br>population=%{y}<extra></extra>",
         "legendgroup": "Maldives",
         "marker": {
          "color": "#FF97FF",
          "symbol": "circle"
         },
         "mode": "markers",
         "name": "Maldives",
         "orientation": "v",
         "showlegend": true,
         "type": "scatter",
         "x": [
          10458837368
         ],
         "xaxis": "x",
         "y": [
          540544
         ],
         "yaxis": "y"
        },
        {
         "hovertemplate": "country=Mali<br>gdp_ppp=%{x}<br>population=%{y}<extra></extra>",
         "legendgroup": "Mali",
         "marker": {
          "color": "#FECB52",
          "symbol": "circle"
         },
         "mode": "markers",
         "name": "Mali",
         "orientation": "v",
         "showlegend": true,
         "type": "scatter",
         "x": [
          47647700993
         ],
         "xaxis": "x",
         "y": [
          20250833
         ],
         "yaxis": "y"
        },
        {
         "hovertemplate": "country=Malta<br>gdp_ppp=%{x}<br>population=%{y}<extra></extra>",
         "legendgroup": "Malta",
         "marker": {
          "color": "#636efa",
          "symbol": "circle"
         },
         "mode": "markers",
         "name": "Malta",
         "orientation": "v",
         "showlegend": true,
         "type": "scatter",
         "x": [
          22946901130
         ],
         "xaxis": "x",
         "y": [
          441543
         ],
         "yaxis": "y"
        },
        {
         "hovertemplate": "country=Mauritania<br>gdp_ppp=%{x}<br>population=%{y}<extra></extra>",
         "legendgroup": "Mauritania",
         "marker": {
          "color": "#EF553B",
          "symbol": "circle"
         },
         "mode": "markers",
         "name": "Mauritania",
         "orientation": "v",
         "showlegend": true,
         "type": "scatter",
         "x": [
          24494963750
         ],
         "xaxis": "x",
         "y": [
          4649658
         ],
         "yaxis": "y"
        },
        {
         "hovertemplate": "country=Mauritius<br>gdp_ppp=%{x}<br>population=%{y}<extra></extra>",
         "legendgroup": "Mauritius",
         "marker": {
          "color": "#00cc96",
          "symbol": "circle"
         },
         "mode": "markers",
         "name": "Mauritius",
         "orientation": "v",
         "showlegend": true,
         "type": "scatter",
         "x": [
          30303820357
         ],
         "xaxis": "x",
         "y": [
          1271768
         ],
         "yaxis": "y"
        },
        {
         "hovertemplate": "country=Mongolia<br>gdp_ppp=%{x}<br>population=%{y}<extra></extra>",
         "legendgroup": "Mongolia",
         "marker": {
          "color": "#ab63fa",
          "symbol": "circle"
         },
         "mode": "markers",
         "name": "Mongolia",
         "orientation": "v",
         "showlegend": true,
         "type": "scatter",
         "x": [
          41346475102
         ],
         "xaxis": "x",
         "y": [
          3278290
         ],
         "yaxis": "y"
        },
        {
         "hovertemplate": "country=Moldova<br>gdp_ppp=%{x}<br>population=%{y}<extra></extra>",
         "legendgroup": "Moldova",
         "marker": {
          "color": "#FFA15A",
          "symbol": "circle"
         },
         "mode": "markers",
         "name": "Moldova",
         "orientation": "v",
         "showlegend": true,
         "type": "scatter",
         "x": [
          36074901315
         ],
         "xaxis": "x",
         "y": [
          4033963
         ],
         "yaxis": "y"
        },
        {
         "hovertemplate": "country=Montenegro<br>gdp_ppp=%{x}<br>population=%{y}<extra></extra>",
         "legendgroup": "Montenegro",
         "marker": {
          "color": "#19d3f3",
          "symbol": "circle"
         },
         "mode": "markers",
         "name": "Montenegro",
         "orientation": "v",
         "showlegend": true,
         "type": "scatter",
         "x": [
          14302108533
         ],
         "xaxis": "x",
         "y": [
          628066
         ],
         "yaxis": "y"
        },
        {
         "hovertemplate": "country=Mozambique<br>gdp_ppp=%{x}<br>population=%{y}<extra></extra>",
         "legendgroup": "Mozambique",
         "marker": {
          "color": "#FF6692",
          "symbol": "circle"
         },
         "mode": "markers",
         "name": "Mozambique",
         "orientation": "v",
         "showlegend": true,
         "type": "scatter",
         "x": [
          40493660661
         ],
         "xaxis": "x",
         "y": [
          31255435
         ],
         "yaxis": "y"
        },
        {
         "hovertemplate": "country=Namibia<br>gdp_ppp=%{x}<br>population=%{y}<extra></extra>",
         "legendgroup": "Namibia",
         "marker": {
          "color": "#B6E880",
          "symbol": "circle"
         },
         "mode": "markers",
         "name": "Namibia",
         "orientation": "v",
         "showlegend": true,
         "type": "scatter",
         "x": [
          25036580984
         ],
         "xaxis": "x",
         "y": [
          2540905
         ],
         "yaxis": "y"
        },
        {
         "hovertemplate": "country=Nauru<br>gdp_ppp=%{x}<br>population=%{y}<extra></extra>",
         "legendgroup": "Nauru",
         "marker": {
          "color": "#FF97FF",
          "symbol": "circle"
         },
         "mode": "markers",
         "name": "Nauru",
         "orientation": "v",
         "showlegend": true,
         "type": "scatter",
         "x": [
          151979418.5
         ],
         "xaxis": "x",
         "y": [
          10824
         ],
         "yaxis": "y"
        },
        {
         "hovertemplate": "country=Nepal<br>gdp_ppp=%{x}<br>population=%{y}<extra></extra>",
         "legendgroup": "Nepal",
         "marker": {
          "color": "#FECB52",
          "symbol": "circle"
         },
         "mode": "markers",
         "name": "Nepal",
         "orientation": "v",
         "showlegend": true,
         "type": "scatter",
         "x": [
          102000000000
         ],
         "xaxis": "x",
         "y": [
          29136808
         ],
         "yaxis": "y"
        },
        {
         "hovertemplate": "country=Vanuatu<br>gdp_ppp=%{x}<br>population=%{y}<extra></extra>",
         "legendgroup": "Vanuatu",
         "marker": {
          "color": "#636efa",
          "symbol": "circle"
         },
         "mode": "markers",
         "name": "Vanuatu",
         "orientation": "v",
         "showlegend": true,
         "type": "scatter",
         "x": [
          981788161.3
         ],
         "xaxis": "x",
         "y": [
          307145
         ],
         "yaxis": "y"
        },
        {
         "hovertemplate": "country=Nicaragua<br>gdp_ppp=%{x}<br>population=%{y}<extra></extra>",
         "legendgroup": "Nicaragua",
         "marker": {
          "color": "#EF553B",
          "symbol": "circle"
         },
         "mode": "markers",
         "name": "Nicaragua",
         "orientation": "v",
         "showlegend": true,
         "type": "scatter",
         "x": [
          36859041159
         ],
         "xaxis": "x",
         "y": [
          6624554
         ],
         "yaxis": "y"
        },
        {
         "hovertemplate": "country=Niger<br>gdp_ppp=%{x}<br>population=%{y}<extra></extra>",
         "legendgroup": "Niger",
         "marker": {
          "color": "#00cc96",
          "symbol": "circle"
         },
         "mode": "markers",
         "name": "Niger",
         "orientation": "v",
         "showlegend": true,
         "type": "scatter",
         "x": [
          29595316384
         ],
         "xaxis": "x",
         "y": [
          24206644
         ],
         "yaxis": "y"
        },
        {
         "hovertemplate": "country=Nigeria<br>gdp_ppp=%{x}<br>population=%{y}<extra></extra>",
         "legendgroup": "Nigeria",
         "marker": {
          "color": "#ab63fa",
          "symbol": "circle"
         },
         "mode": "markers",
         "name": "Nigeria",
         "orientation": "v",
         "showlegend": true,
         "type": "scatter",
         "x": [
          1070000000000
         ],
         "xaxis": "x",
         "y": [
          206139589
         ],
         "yaxis": "y"
        },
        {
         "hovertemplate": "country=Pakistan<br>gdp_ppp=%{x}<br>population=%{y}<extra></extra>",
         "legendgroup": "Pakistan",
         "marker": {
          "color": "#FFA15A",
          "symbol": "circle"
         },
         "mode": "markers",
         "name": "Pakistan",
         "orientation": "v",
         "showlegend": true,
         "type": "scatter",
         "x": [
          1060000000000
         ],
         "xaxis": "x",
         "y": [
          220892340
         ],
         "yaxis": "y"
        },
        {
         "hovertemplate": "country=Papua New Guinea<br>gdp_ppp=%{x}<br>population=%{y}<extra></extra>",
         "legendgroup": "Papua New Guinea",
         "marker": {
          "color": "#19d3f3",
          "symbol": "circle"
         },
         "mode": "markers",
         "name": "Papua New Guinea",
         "orientation": "v",
         "showlegend": true,
         "type": "scatter",
         "x": [
          40101957741
         ],
         "xaxis": "x",
         "y": [
          8947024
         ],
         "yaxis": "y"
        },
        {
         "hovertemplate": "country=Paraguay<br>gdp_ppp=%{x}<br>population=%{y}<extra></extra>",
         "legendgroup": "Paraguay",
         "marker": {
          "color": "#FF6692",
          "symbol": "circle"
         },
         "mode": "markers",
         "name": "Paraguay",
         "orientation": "v",
         "showlegend": true,
         "type": "scatter",
         "x": [
          93061810685
         ],
         "xaxis": "x",
         "y": [
          7132538
         ],
         "yaxis": "y"
        },
        {
         "hovertemplate": "country=Guinea-Bissau<br>gdp_ppp=%{x}<br>population=%{y}<extra></extra>",
         "legendgroup": "Guinea-Bissau",
         "marker": {
          "color": "#B6E880",
          "symbol": "circle"
         },
         "mode": "markers",
         "name": "Guinea-Bissau",
         "orientation": "v",
         "showlegend": true,
         "type": "scatter",
         "x": [
          3979797410
         ],
         "xaxis": "x",
         "y": [
          1968001
         ],
         "yaxis": "y"
        },
        {
         "hovertemplate": "country=Timor-Leste<br>gdp_ppp=%{x}<br>population=%{y}<extra></extra>",
         "legendgroup": "Timor-Leste",
         "marker": {
          "color": "#FF97FF",
          "symbol": "circle"
         },
         "mode": "markers",
         "name": "Timor-Leste",
         "orientation": "v",
         "showlegend": true,
         "type": "scatter",
         "x": [
          4205929511
         ],
         "xaxis": "x",
         "y": [
          1318445
         ],
         "yaxis": "y"
        },
        {
         "hovertemplate": "country=Rwanda<br>gdp_ppp=%{x}<br>population=%{y}<extra></extra>",
         "legendgroup": "Rwanda",
         "marker": {
          "color": "#FECB52",
          "symbol": "circle"
         },
         "mode": "markers",
         "name": "Rwanda",
         "orientation": "v",
         "showlegend": true,
         "type": "scatter",
         "x": [
          29275409706
         ],
         "xaxis": "x",
         "y": [
          12952218
         ],
         "yaxis": "y"
        },
        {
         "hovertemplate": "country=Senegal<br>gdp_ppp=%{x}<br>population=%{y}<extra></extra>",
         "legendgroup": "Senegal",
         "marker": {
          "color": "#636efa",
          "symbol": "circle"
         },
         "mode": "markers",
         "name": "Senegal",
         "orientation": "v",
         "showlegend": true,
         "type": "scatter",
         "x": [
          57616915772
         ],
         "xaxis": "x",
         "y": [
          16743927
         ],
         "yaxis": "y"
        },
        {
         "hovertemplate": "country=Serbia<br>gdp_ppp=%{x}<br>population=%{y}<extra></extra>",
         "legendgroup": "Serbia",
         "marker": {
          "color": "#EF553B",
          "symbol": "circle"
         },
         "mode": "markers",
         "name": "Serbia",
         "orientation": "v",
         "showlegend": true,
         "type": "scatter",
         "x": [
          132000000000
         ],
         "xaxis": "x",
         "y": [
          8737371
         ],
         "yaxis": "y"
        },
        {
         "hovertemplate": "country=Seychelles<br>gdp_ppp=%{x}<br>population=%{y}<extra></extra>",
         "legendgroup": "Seychelles",
         "marker": {
          "color": "#00cc96",
          "symbol": "circle"
         },
         "mode": "markers",
         "name": "Seychelles",
         "orientation": "v",
         "showlegend": true,
         "type": "scatter",
         "x": [
          2954128696
         ],
         "xaxis": "x",
         "y": [
          98347
         ],
         "yaxis": "y"
        },
        {
         "hovertemplate": "country=Sierra Leone<br>gdp_ppp=%{x}<br>population=%{y}<extra></extra>",
         "legendgroup": "Sierra Leone",
         "marker": {
          "color": "#ab63fa",
          "symbol": "circle"
         },
         "mode": "markers",
         "name": "Sierra Leone",
         "orientation": "v",
         "showlegend": true,
         "type": "scatter",
         "x": [
          13982439173
         ],
         "xaxis": "x",
         "y": [
          7976983
         ],
         "yaxis": "y"
        },
        {
         "hovertemplate": "country=Slovenia<br>gdp_ppp=%{x}<br>population=%{y}<extra></extra>",
         "legendgroup": "Slovenia",
         "marker": {
          "color": "#FFA15A",
          "symbol": "circle"
         },
         "mode": "markers",
         "name": "Slovenia",
         "orientation": "v",
         "showlegend": true,
         "type": "scatter",
         "x": [
          84888696324
         ],
         "xaxis": "x",
         "y": [
          2078938
         ],
         "yaxis": "y"
        },
        {
         "hovertemplate": "country=Zimbabwe<br>gdp_ppp=%{x}<br>population=%{y}<extra></extra>",
         "legendgroup": "Zimbabwe",
         "marker": {
          "color": "#19d3f3",
          "symbol": "circle"
         },
         "mode": "markers",
         "name": "Zimbabwe",
         "orientation": "v",
         "showlegend": true,
         "type": "scatter",
         "x": [
          43255157063
         ],
         "xaxis": "x",
         "y": [
          14862924
         ],
         "yaxis": "y"
        },
        {
         "hovertemplate": "country=Sudan<br>gdp_ppp=%{x}<br>population=%{y}<extra></extra>",
         "legendgroup": "Sudan",
         "marker": {
          "color": "#FF6692",
          "symbol": "circle"
         },
         "mode": "markers",
         "name": "Sudan",
         "orientation": "v",
         "showlegend": true,
         "type": "scatter",
         "x": [
          176000000000
         ],
         "xaxis": "x",
         "y": [
          43849260
         ],
         "yaxis": "y"
        },
        {
         "hovertemplate": "country=Suriname<br>gdp_ppp=%{x}<br>population=%{y}<extra></extra>",
         "legendgroup": "Suriname",
         "marker": {
          "color": "#B6E880",
          "symbol": "circle"
         },
         "mode": "markers",
         "name": "Suriname",
         "orientation": "v",
         "showlegend": true,
         "type": "scatter",
         "x": [
          9886478960
         ],
         "xaxis": "x",
         "y": [
          586632
         ],
         "yaxis": "y"
        },
        {
         "hovertemplate": "country=Tajikistan<br>gdp_ppp=%{x}<br>population=%{y}<extra></extra>",
         "legendgroup": "Tajikistan",
         "marker": {
          "color": "#FF97FF",
          "symbol": "circle"
         },
         "mode": "markers",
         "name": "Tajikistan",
         "orientation": "v",
         "showlegend": true,
         "type": "scatter",
         "x": [
          32808324374
         ],
         "xaxis": "x",
         "y": [
          9537645
         ],
         "yaxis": "y"
        },
        {
         "hovertemplate": "country=Togo<br>gdp_ppp=%{x}<br>population=%{y}<extra></extra>",
         "legendgroup": "Togo",
         "marker": {
          "color": "#FECB52",
          "symbol": "circle"
         },
         "mode": "markers",
         "name": "Togo",
         "orientation": "v",
         "showlegend": true,
         "type": "scatter",
         "x": [
          13433477010
         ],
         "xaxis": "x",
         "y": [
          8278724
         ],
         "yaxis": "y"
        },
        {
         "hovertemplate": "country=Tunisia<br>gdp_ppp=%{x}<br>population=%{y}<extra></extra>",
         "legendgroup": "Tunisia",
         "marker": {
          "color": "#636efa",
          "symbol": "circle"
         },
         "mode": "markers",
         "name": "Tunisia",
         "orientation": "v",
         "showlegend": true,
         "type": "scatter",
         "x": [
          131000000000
         ],
         "xaxis": "x",
         "y": [
          11818619
         ],
         "yaxis": "y"
        },
        {
         "hovertemplate": "country=Tuvalu<br>gdp_ppp=%{x}<br>population=%{y}<extra></extra>",
         "legendgroup": "Tuvalu",
         "marker": {
          "color": "#EF553B",
          "symbol": "circle"
         },
         "mode": "markers",
         "name": "Tuvalu",
         "orientation": "v",
         "showlegend": true,
         "type": "scatter",
         "x": [
          52002079.42
         ],
         "xaxis": "x",
         "y": [
          11792
         ],
         "yaxis": "y"
        },
        {
         "hovertemplate": "country=Uganda<br>gdp_ppp=%{x}<br>population=%{y}<extra></extra>",
         "legendgroup": "Uganda",
         "marker": {
          "color": "#00cc96",
          "symbol": "circle"
         },
         "mode": "markers",
         "name": "Uganda",
         "orientation": "v",
         "showlegend": true,
         "type": "scatter",
         "x": [
          101000000000
         ],
         "xaxis": "x",
         "y": [
          45741007
         ],
         "yaxis": "y"
        },
        {
         "hovertemplate": "country=Ukraine<br>gdp_ppp=%{x}<br>population=%{y}<extra></extra>",
         "legendgroup": "Ukraine",
         "marker": {
          "color": "#ab63fa",
          "symbol": "circle"
         },
         "mode": "markers",
         "name": "Ukraine",
         "orientation": "v",
         "showlegend": true,
         "type": "scatter",
         "x": [
          561000000000
         ],
         "xaxis": "x",
         "y": [
          43733762
         ],
         "yaxis": "y"
        },
        {
         "hovertemplate": "country=Tanzania<br>gdp_ppp=%{x}<br>population=%{y}<extra></extra>",
         "legendgroup": "Tanzania",
         "marker": {
          "color": "#FFA15A",
          "symbol": "circle"
         },
         "mode": "markers",
         "name": "Tanzania",
         "orientation": "v",
         "showlegend": true,
         "type": "scatter",
         "x": [
          156000000000
         ],
         "xaxis": "x",
         "y": [
          59734218
         ],
         "yaxis": "y"
        },
        {
         "hovertemplate": "country=Burkina Faso<br>gdp_ppp=%{x}<br>population=%{y}<extra></extra>",
         "legendgroup": "Burkina Faso",
         "marker": {
          "color": "#19d3f3",
          "symbol": "circle"
         },
         "mode": "markers",
         "name": "Burkina Faso",
         "orientation": "v",
         "showlegend": true,
         "type": "scatter",
         "x": [
          46340464706
         ],
         "xaxis": "x",
         "y": [
          20903273
         ],
         "yaxis": "y"
        },
        {
         "hovertemplate": "country=Uruguay<br>gdp_ppp=%{x}<br>population=%{y}<extra></extra>",
         "legendgroup": "Uruguay",
         "marker": {
          "color": "#FF6692",
          "symbol": "circle"
         },
         "mode": "markers",
         "name": "Uruguay",
         "orientation": "v",
         "showlegend": true,
         "type": "scatter",
         "x": [
          77732052861
         ],
         "xaxis": "x",
         "y": [
          3473730
         ],
         "yaxis": "y"
        },
        {
         "hovertemplate": "country=Uzbekistan<br>gdp_ppp=%{x}<br>population=%{y}<extra></extra>",
         "legendgroup": "Uzbekistan",
         "marker": {
          "color": "#B6E880",
          "symbol": "circle"
         },
         "mode": "markers",
         "name": "Uzbekistan",
         "orientation": "v",
         "showlegend": true,
         "type": "scatter",
         "x": [
          245000000000
         ],
         "xaxis": "x",
         "y": [
          33469203
         ],
         "yaxis": "y"
        },
        {
         "hovertemplate": "country=Samoa<br>gdp_ppp=%{x}<br>population=%{y}<extra></extra>",
         "legendgroup": "Samoa",
         "marker": {
          "color": "#FF97FF",
          "symbol": "circle"
         },
         "mode": "markers",
         "name": "Samoa",
         "orientation": "v",
         "showlegend": true,
         "type": "scatter",
         "x": [
          1337723243
         ],
         "xaxis": "x",
         "y": [
          198414
         ],
         "yaxis": "y"
        },
        {
         "hovertemplate": "country=Zambia<br>gdp_ppp=%{x}<br>population=%{y}<extra></extra>",
         "legendgroup": "Zambia",
         "marker": {
          "color": "#FECB52",
          "symbol": "circle"
         },
         "mode": "markers",
         "name": "Zambia",
         "orientation": "v",
         "showlegend": true,
         "type": "scatter",
         "x": [
          64723003601
         ],
         "xaxis": "x",
         "y": [
          18383955
         ],
         "yaxis": "y"
        }
       ],
       "layout": {
        "legend": {
         "title": {
          "text": "country"
         },
         "tracegroupgap": 0
        },
        "template": {
         "data": {
          "bar": [
           {
            "error_x": {
             "color": "#2a3f5f"
            },
            "error_y": {
             "color": "#2a3f5f"
            },
            "marker": {
             "line": {
              "color": "#E5ECF6",
              "width": 0.5
             }
            },
            "type": "bar"
           }
          ],
          "barpolar": [
           {
            "marker": {
             "line": {
              "color": "#E5ECF6",
              "width": 0.5
             }
            },
            "type": "barpolar"
           }
          ],
          "carpet": [
           {
            "aaxis": {
             "endlinecolor": "#2a3f5f",
             "gridcolor": "white",
             "linecolor": "white",
             "minorgridcolor": "white",
             "startlinecolor": "#2a3f5f"
            },
            "baxis": {
             "endlinecolor": "#2a3f5f",
             "gridcolor": "white",
             "linecolor": "white",
             "minorgridcolor": "white",
             "startlinecolor": "#2a3f5f"
            },
            "type": "carpet"
           }
          ],
          "choropleth": [
           {
            "colorbar": {
             "outlinewidth": 0,
             "ticks": ""
            },
            "type": "choropleth"
           }
          ],
          "contour": [
           {
            "colorbar": {
             "outlinewidth": 0,
             "ticks": ""
            },
            "colorscale": [
             [
              0,
              "#0d0887"
             ],
             [
              0.1111111111111111,
              "#46039f"
             ],
             [
              0.2222222222222222,
              "#7201a8"
             ],
             [
              0.3333333333333333,
              "#9c179e"
             ],
             [
              0.4444444444444444,
              "#bd3786"
             ],
             [
              0.5555555555555556,
              "#d8576b"
             ],
             [
              0.6666666666666666,
              "#ed7953"
             ],
             [
              0.7777777777777778,
              "#fb9f3a"
             ],
             [
              0.8888888888888888,
              "#fdca26"
             ],
             [
              1,
              "#f0f921"
             ]
            ],
            "type": "contour"
           }
          ],
          "contourcarpet": [
           {
            "colorbar": {
             "outlinewidth": 0,
             "ticks": ""
            },
            "type": "contourcarpet"
           }
          ],
          "heatmap": [
           {
            "colorbar": {
             "outlinewidth": 0,
             "ticks": ""
            },
            "colorscale": [
             [
              0,
              "#0d0887"
             ],
             [
              0.1111111111111111,
              "#46039f"
             ],
             [
              0.2222222222222222,
              "#7201a8"
             ],
             [
              0.3333333333333333,
              "#9c179e"
             ],
             [
              0.4444444444444444,
              "#bd3786"
             ],
             [
              0.5555555555555556,
              "#d8576b"
             ],
             [
              0.6666666666666666,
              "#ed7953"
             ],
             [
              0.7777777777777778,
              "#fb9f3a"
             ],
             [
              0.8888888888888888,
              "#fdca26"
             ],
             [
              1,
              "#f0f921"
             ]
            ],
            "type": "heatmap"
           }
          ],
          "heatmapgl": [
           {
            "colorbar": {
             "outlinewidth": 0,
             "ticks": ""
            },
            "colorscale": [
             [
              0,
              "#0d0887"
             ],
             [
              0.1111111111111111,
              "#46039f"
             ],
             [
              0.2222222222222222,
              "#7201a8"
             ],
             [
              0.3333333333333333,
              "#9c179e"
             ],
             [
              0.4444444444444444,
              "#bd3786"
             ],
             [
              0.5555555555555556,
              "#d8576b"
             ],
             [
              0.6666666666666666,
              "#ed7953"
             ],
             [
              0.7777777777777778,
              "#fb9f3a"
             ],
             [
              0.8888888888888888,
              "#fdca26"
             ],
             [
              1,
              "#f0f921"
             ]
            ],
            "type": "heatmapgl"
           }
          ],
          "histogram": [
           {
            "marker": {
             "colorbar": {
              "outlinewidth": 0,
              "ticks": ""
             }
            },
            "type": "histogram"
           }
          ],
          "histogram2d": [
           {
            "colorbar": {
             "outlinewidth": 0,
             "ticks": ""
            },
            "colorscale": [
             [
              0,
              "#0d0887"
             ],
             [
              0.1111111111111111,
              "#46039f"
             ],
             [
              0.2222222222222222,
              "#7201a8"
             ],
             [
              0.3333333333333333,
              "#9c179e"
             ],
             [
              0.4444444444444444,
              "#bd3786"
             ],
             [
              0.5555555555555556,
              "#d8576b"
             ],
             [
              0.6666666666666666,
              "#ed7953"
             ],
             [
              0.7777777777777778,
              "#fb9f3a"
             ],
             [
              0.8888888888888888,
              "#fdca26"
             ],
             [
              1,
              "#f0f921"
             ]
            ],
            "type": "histogram2d"
           }
          ],
          "histogram2dcontour": [
           {
            "colorbar": {
             "outlinewidth": 0,
             "ticks": ""
            },
            "colorscale": [
             [
              0,
              "#0d0887"
             ],
             [
              0.1111111111111111,
              "#46039f"
             ],
             [
              0.2222222222222222,
              "#7201a8"
             ],
             [
              0.3333333333333333,
              "#9c179e"
             ],
             [
              0.4444444444444444,
              "#bd3786"
             ],
             [
              0.5555555555555556,
              "#d8576b"
             ],
             [
              0.6666666666666666,
              "#ed7953"
             ],
             [
              0.7777777777777778,
              "#fb9f3a"
             ],
             [
              0.8888888888888888,
              "#fdca26"
             ],
             [
              1,
              "#f0f921"
             ]
            ],
            "type": "histogram2dcontour"
           }
          ],
          "mesh3d": [
           {
            "colorbar": {
             "outlinewidth": 0,
             "ticks": ""
            },
            "type": "mesh3d"
           }
          ],
          "parcoords": [
           {
            "line": {
             "colorbar": {
              "outlinewidth": 0,
              "ticks": ""
             }
            },
            "type": "parcoords"
           }
          ],
          "pie": [
           {
            "automargin": true,
            "type": "pie"
           }
          ],
          "scatter": [
           {
            "marker": {
             "colorbar": {
              "outlinewidth": 0,
              "ticks": ""
             }
            },
            "type": "scatter"
           }
          ],
          "scatter3d": [
           {
            "line": {
             "colorbar": {
              "outlinewidth": 0,
              "ticks": ""
             }
            },
            "marker": {
             "colorbar": {
              "outlinewidth": 0,
              "ticks": ""
             }
            },
            "type": "scatter3d"
           }
          ],
          "scattercarpet": [
           {
            "marker": {
             "colorbar": {
              "outlinewidth": 0,
              "ticks": ""
             }
            },
            "type": "scattercarpet"
           }
          ],
          "scattergeo": [
           {
            "marker": {
             "colorbar": {
              "outlinewidth": 0,
              "ticks": ""
             }
            },
            "type": "scattergeo"
           }
          ],
          "scattergl": [
           {
            "marker": {
             "colorbar": {
              "outlinewidth": 0,
              "ticks": ""
             }
            },
            "type": "scattergl"
           }
          ],
          "scattermapbox": [
           {
            "marker": {
             "colorbar": {
              "outlinewidth": 0,
              "ticks": ""
             }
            },
            "type": "scattermapbox"
           }
          ],
          "scatterpolar": [
           {
            "marker": {
             "colorbar": {
              "outlinewidth": 0,
              "ticks": ""
             }
            },
            "type": "scatterpolar"
           }
          ],
          "scatterpolargl": [
           {
            "marker": {
             "colorbar": {
              "outlinewidth": 0,
              "ticks": ""
             }
            },
            "type": "scatterpolargl"
           }
          ],
          "scatterternary": [
           {
            "marker": {
             "colorbar": {
              "outlinewidth": 0,
              "ticks": ""
             }
            },
            "type": "scatterternary"
           }
          ],
          "surface": [
           {
            "colorbar": {
             "outlinewidth": 0,
             "ticks": ""
            },
            "colorscale": [
             [
              0,
              "#0d0887"
             ],
             [
              0.1111111111111111,
              "#46039f"
             ],
             [
              0.2222222222222222,
              "#7201a8"
             ],
             [
              0.3333333333333333,
              "#9c179e"
             ],
             [
              0.4444444444444444,
              "#bd3786"
             ],
             [
              0.5555555555555556,
              "#d8576b"
             ],
             [
              0.6666666666666666,
              "#ed7953"
             ],
             [
              0.7777777777777778,
              "#fb9f3a"
             ],
             [
              0.8888888888888888,
              "#fdca26"
             ],
             [
              1,
              "#f0f921"
             ]
            ],
            "type": "surface"
           }
          ],
          "table": [
           {
            "cells": {
             "fill": {
              "color": "#EBF0F8"
             },
             "line": {
              "color": "white"
             }
            },
            "header": {
             "fill": {
              "color": "#C8D4E3"
             },
             "line": {
              "color": "white"
             }
            },
            "type": "table"
           }
          ]
         },
         "layout": {
          "annotationdefaults": {
           "arrowcolor": "#2a3f5f",
           "arrowhead": 0,
           "arrowwidth": 1
          },
          "coloraxis": {
           "colorbar": {
            "outlinewidth": 0,
            "ticks": ""
           }
          },
          "colorscale": {
           "diverging": [
            [
             0,
             "#8e0152"
            ],
            [
             0.1,
             "#c51b7d"
            ],
            [
             0.2,
             "#de77ae"
            ],
            [
             0.3,
             "#f1b6da"
            ],
            [
             0.4,
             "#fde0ef"
            ],
            [
             0.5,
             "#f7f7f7"
            ],
            [
             0.6,
             "#e6f5d0"
            ],
            [
             0.7,
             "#b8e186"
            ],
            [
             0.8,
             "#7fbc41"
            ],
            [
             0.9,
             "#4d9221"
            ],
            [
             1,
             "#276419"
            ]
           ],
           "sequential": [
            [
             0,
             "#0d0887"
            ],
            [
             0.1111111111111111,
             "#46039f"
            ],
            [
             0.2222222222222222,
             "#7201a8"
            ],
            [
             0.3333333333333333,
             "#9c179e"
            ],
            [
             0.4444444444444444,
             "#bd3786"
            ],
            [
             0.5555555555555556,
             "#d8576b"
            ],
            [
             0.6666666666666666,
             "#ed7953"
            ],
            [
             0.7777777777777778,
             "#fb9f3a"
            ],
            [
             0.8888888888888888,
             "#fdca26"
            ],
            [
             1,
             "#f0f921"
            ]
           ],
           "sequentialminus": [
            [
             0,
             "#0d0887"
            ],
            [
             0.1111111111111111,
             "#46039f"
            ],
            [
             0.2222222222222222,
             "#7201a8"
            ],
            [
             0.3333333333333333,
             "#9c179e"
            ],
            [
             0.4444444444444444,
             "#bd3786"
            ],
            [
             0.5555555555555556,
             "#d8576b"
            ],
            [
             0.6666666666666666,
             "#ed7953"
            ],
            [
             0.7777777777777778,
             "#fb9f3a"
            ],
            [
             0.8888888888888888,
             "#fdca26"
            ],
            [
             1,
             "#f0f921"
            ]
           ]
          },
          "colorway": [
           "#636efa",
           "#EF553B",
           "#00cc96",
           "#ab63fa",
           "#FFA15A",
           "#19d3f3",
           "#FF6692",
           "#B6E880",
           "#FF97FF",
           "#FECB52"
          ],
          "font": {
           "color": "#2a3f5f"
          },
          "geo": {
           "bgcolor": "white",
           "lakecolor": "white",
           "landcolor": "#E5ECF6",
           "showlakes": true,
           "showland": true,
           "subunitcolor": "white"
          },
          "hoverlabel": {
           "align": "left"
          },
          "hovermode": "closest",
          "mapbox": {
           "style": "light"
          },
          "paper_bgcolor": "white",
          "plot_bgcolor": "#E5ECF6",
          "polar": {
           "angularaxis": {
            "gridcolor": "white",
            "linecolor": "white",
            "ticks": ""
           },
           "bgcolor": "#E5ECF6",
           "radialaxis": {
            "gridcolor": "white",
            "linecolor": "white",
            "ticks": ""
           }
          },
          "scene": {
           "xaxis": {
            "backgroundcolor": "#E5ECF6",
            "gridcolor": "white",
            "gridwidth": 2,
            "linecolor": "white",
            "showbackground": true,
            "ticks": "",
            "zerolinecolor": "white"
           },
           "yaxis": {
            "backgroundcolor": "#E5ECF6",
            "gridcolor": "white",
            "gridwidth": 2,
            "linecolor": "white",
            "showbackground": true,
            "ticks": "",
            "zerolinecolor": "white"
           },
           "zaxis": {
            "backgroundcolor": "#E5ECF6",
            "gridcolor": "white",
            "gridwidth": 2,
            "linecolor": "white",
            "showbackground": true,
            "ticks": "",
            "zerolinecolor": "white"
           }
          },
          "shapedefaults": {
           "line": {
            "color": "#2a3f5f"
           }
          },
          "ternary": {
           "aaxis": {
            "gridcolor": "white",
            "linecolor": "white",
            "ticks": ""
           },
           "baxis": {
            "gridcolor": "white",
            "linecolor": "white",
            "ticks": ""
           },
           "bgcolor": "#E5ECF6",
           "caxis": {
            "gridcolor": "white",
            "linecolor": "white",
            "ticks": ""
           }
          },
          "title": {
           "x": 0.05
          },
          "xaxis": {
           "automargin": true,
           "gridcolor": "white",
           "linecolor": "white",
           "ticks": "",
           "title": {
            "standoff": 15
           },
           "zerolinecolor": "white",
           "zerolinewidth": 2
          },
          "yaxis": {
           "automargin": true,
           "gridcolor": "white",
           "linecolor": "white",
           "ticks": "",
           "title": {
            "standoff": 15
           },
           "zerolinecolor": "white",
           "zerolinewidth": 2
          }
         }
        },
        "title": {
         "text": "fig.3 Potential Countries For A New Location",
         "x": 0.5
        },
        "xaxis": {
         "anchor": "y",
         "domain": [
          0,
          1
         ],
         "title": {
          "text": "gdp_ppp"
         },
         "type": "log"
        },
        "yaxis": {
         "anchor": "x",
         "domain": [
          0,
          1
         ],
         "title": {
          "text": "population"
         },
         "type": "log"
        }
       }
      },
      "text/html": [
       "<div>\n",
       "        \n",
       "        \n",
       "            <div id=\"e6a04a85-f21e-4af2-b2de-a04453c5130a\" class=\"plotly-graph-div\" style=\"height:525px; width:100%;\"></div>\n",
       "            <script type=\"text/javascript\">\n",
       "                require([\"plotly\"], function(Plotly) {\n",
       "                    window.PLOTLYENV=window.PLOTLYENV || {};\n",
       "                    \n",
       "                if (document.getElementById(\"e6a04a85-f21e-4af2-b2de-a04453c5130a\")) {\n",
       "                    Plotly.newPlot(\n",
       "                        'e6a04a85-f21e-4af2-b2de-a04453c5130a',\n",
       "                        [{\"hovertemplate\": \"country=United Arab Emirates<br>gdp_ppp=%{x}<br>population=%{y}<extra></extra>\", \"legendgroup\": \"United Arab Emirates\", \"marker\": {\"color\": \"#636efa\", \"symbol\": \"circle\"}, \"mode\": \"markers\", \"name\": \"United Arab Emirates\", \"orientation\": \"v\", \"showlegend\": true, \"type\": \"scatter\", \"x\": [683000000000.0], \"xaxis\": \"x\", \"y\": [9890402.0], \"yaxis\": \"y\"}, {\"hovertemplate\": \"country=Argentina<br>gdp_ppp=%{x}<br>population=%{y}<extra></extra>\", \"legendgroup\": \"Argentina\", \"marker\": {\"color\": \"#EF553B\", \"symbol\": \"circle\"}, \"mode\": \"markers\", \"name\": \"Argentina\", \"orientation\": \"v\", \"showlegend\": true, \"type\": \"scatter\", \"x\": [1030000000000.0], \"xaxis\": \"x\", \"y\": [45195774.0], \"yaxis\": \"y\"}, {\"hovertemplate\": \"country=Austria<br>gdp_ppp=%{x}<br>population=%{y}<extra></extra>\", \"legendgroup\": \"Austria\", \"marker\": {\"color\": \"#00cc96\", \"symbol\": \"circle\"}, \"mode\": \"markers\", \"name\": \"Austria\", \"orientation\": \"v\", \"showlegend\": true, \"type\": \"scatter\", \"x\": [525000000000.0], \"xaxis\": \"x\", \"y\": [9006398.0], \"yaxis\": \"y\"}, {\"hovertemplate\": \"country=Australia<br>gdp_ppp=%{x}<br>population=%{y}<extra></extra>\", \"legendgroup\": \"Australia\", \"marker\": {\"color\": \"#ab63fa\", \"symbol\": \"circle\"}, \"mode\": \"markers\", \"name\": \"Australia\", \"orientation\": \"v\", \"showlegend\": true, \"type\": \"scatter\", \"x\": [1350000000000.0], \"xaxis\": \"x\", \"y\": [25499884.0], \"yaxis\": \"y\"}, {\"hovertemplate\": \"country=Azerbaijan<br>gdp_ppp=%{x}<br>population=%{y}<extra></extra>\", \"legendgroup\": \"Azerbaijan\", \"marker\": {\"color\": \"#FFA15A\", \"symbol\": \"circle\"}, \"mode\": \"markers\", \"name\": \"Azerbaijan\", \"orientation\": \"v\", \"showlegend\": true, \"type\": \"scatter\", \"x\": [150000000000.0, 150000000000.0], \"xaxis\": \"x\", \"y\": [10139177.0, 10139177.0], \"yaxis\": \"y\"}, {\"hovertemplate\": \"country=Belgium<br>gdp_ppp=%{x}<br>population=%{y}<extra></extra>\", \"legendgroup\": \"Belgium\", \"marker\": {\"color\": \"#19d3f3\", \"symbol\": \"circle\"}, \"mode\": \"markers\", \"name\": \"Belgium\", \"orientation\": \"v\", \"showlegend\": true, \"type\": \"scatter\", \"x\": [626000000000.0], \"xaxis\": \"x\", \"y\": [11589623.0], \"yaxis\": \"y\"}, {\"hovertemplate\": \"country=Bulgaria<br>gdp_ppp=%{x}<br>population=%{y}<extra></extra>\", \"legendgroup\": \"Bulgaria\", \"marker\": {\"color\": \"#FF6692\", \"symbol\": \"circle\"}, \"mode\": \"markers\", \"name\": \"Bulgaria\", \"orientation\": \"v\", \"showlegend\": true, \"type\": \"scatter\", \"x\": [171000000000.0], \"xaxis\": \"x\", \"y\": [6948445.0], \"yaxis\": \"y\"}, {\"hovertemplate\": \"country=Bahrain<br>gdp_ppp=%{x}<br>population=%{y}<extra></extra>\", \"legendgroup\": \"Bahrain\", \"marker\": {\"color\": \"#B6E880\", \"symbol\": \"circle\"}, \"mode\": \"markers\", \"name\": \"Bahrain\", \"orientation\": \"v\", \"showlegend\": true, \"type\": \"scatter\", \"x\": [76957607395.0], \"xaxis\": \"x\", \"y\": [1701575.0], \"yaxis\": \"y\"}, {\"hovertemplate\": \"country=Bolivia<br>gdp_ppp=%{x}<br>population=%{y}<extra></extra>\", \"legendgroup\": \"Bolivia\", \"marker\": {\"color\": \"#FF97FF\", \"symbol\": \"circle\"}, \"mode\": \"markers\", \"name\": \"Bolivia\", \"orientation\": \"v\", \"showlegend\": true, \"type\": \"scatter\", \"x\": [105000000000.0], \"xaxis\": \"x\", \"y\": [11673021.0], \"yaxis\": \"y\"}, {\"hovertemplate\": \"country=Brazil<br>gdp_ppp=%{x}<br>population=%{y}<extra></extra>\", \"legendgroup\": \"Brazil\", \"marker\": {\"color\": \"#FECB52\", \"symbol\": \"circle\"}, \"mode\": \"markers\", \"name\": \"Brazil\", \"orientation\": \"v\", \"showlegend\": true, \"type\": \"scatter\", \"x\": [3220000000000.0], \"xaxis\": \"x\", \"y\": [212559417.0], \"yaxis\": \"y\"}, {\"hovertemplate\": \"country=Bahamas<br>gdp_ppp=%{x}<br>population=%{y}<extra></extra>\", \"legendgroup\": \"Bahamas\", \"marker\": {\"color\": \"#636efa\", \"symbol\": \"circle\"}, \"mode\": \"markers\", \"name\": \"Bahamas\", \"orientation\": \"v\", \"showlegend\": true, \"type\": \"scatter\", \"x\": [14514363029.0], \"xaxis\": \"x\", \"y\": [393244.0], \"yaxis\": \"y\"}, {\"hovertemplate\": \"country=Canada<br>gdp_ppp=%{x}<br>population=%{y}<extra></extra>\", \"legendgroup\": \"Canada\", \"marker\": {\"color\": \"#EF553B\", \"symbol\": \"circle\"}, \"mode\": \"markers\", \"name\": \"Canada\", \"orientation\": \"v\", \"showlegend\": true, \"type\": \"scatter\", \"x\": [1930000000000.0], \"xaxis\": \"x\", \"y\": [37742154.0], \"yaxis\": \"y\"}, {\"hovertemplate\": \"country=Switzerland<br>gdp_ppp=%{x}<br>population=%{y}<extra></extra>\", \"legendgroup\": \"Switzerland\", \"marker\": {\"color\": \"#00cc96\", \"symbol\": \"circle\"}, \"mode\": \"markers\", \"name\": \"Switzerland\", \"orientation\": \"v\", \"showlegend\": true, \"type\": \"scatter\", \"x\": [609000000000.0], \"xaxis\": \"x\", \"y\": [8654622.0], \"yaxis\": \"y\"}, {\"hovertemplate\": \"country=Chile<br>gdp_ppp=%{x}<br>population=%{y}<extra></extra>\", \"legendgroup\": \"Chile\", \"marker\": {\"color\": \"#ab63fa\", \"symbol\": \"circle\"}, \"mode\": \"markers\", \"name\": \"Chile\", \"orientation\": \"v\", \"showlegend\": true, \"type\": \"scatter\", \"x\": [477000000000.0], \"xaxis\": \"x\", \"y\": [19116201.0], \"yaxis\": \"y\"}, {\"hovertemplate\": \"country=China<br>gdp_ppp=%{x}<br>population=%{y}<extra></extra>\", \"legendgroup\": \"China\", \"marker\": {\"color\": \"#FFA15A\", \"symbol\": \"circle\"}, \"mode\": \"markers\", \"name\": \"China\", \"orientation\": \"v\", \"showlegend\": true, \"type\": \"scatter\", \"x\": [23500000000000.0], \"xaxis\": \"x\", \"y\": [1439323776.0], \"yaxis\": \"y\"}, {\"hovertemplate\": \"country=Colombia<br>gdp_ppp=%{x}<br>population=%{y}<extra></extra>\", \"legendgroup\": \"Colombia\", \"marker\": {\"color\": \"#19d3f3\", \"symbol\": \"circle\"}, \"mode\": \"markers\", \"name\": \"Colombia\", \"orientation\": \"v\", \"showlegend\": true, \"type\": \"scatter\", \"x\": [787000000000.0], \"xaxis\": \"x\", \"y\": [50882891.0], \"yaxis\": \"y\"}, {\"hovertemplate\": \"country=Costa Rica<br>gdp_ppp=%{x}<br>population=%{y}<extra></extra>\", \"legendgroup\": \"Costa Rica\", \"marker\": {\"color\": \"#FF6692\", \"symbol\": \"circle\"}, \"mode\": \"markers\", \"name\": \"Costa Rica\", \"orientation\": \"v\", \"showlegend\": true, \"type\": \"scatter\", \"x\": [103000000000.0], \"xaxis\": \"x\", \"y\": [5094118.0], \"yaxis\": \"y\"}, {\"hovertemplate\": \"country=Cyprus<br>gdp_ppp=%{x}<br>population=%{y}<extra></extra>\", \"legendgroup\": \"Cyprus\", \"marker\": {\"color\": \"#B6E880\", \"symbol\": \"circle\"}, \"mode\": \"markers\", \"name\": \"Cyprus\", \"orientation\": \"v\", \"showlegend\": true, \"type\": \"scatter\", \"x\": [36376855079.0, 36376855079.0], \"xaxis\": \"x\", \"y\": [1207359.0, 1207359.0], \"yaxis\": \"y\"}, {\"hovertemplate\": \"country=Germany<br>gdp_ppp=%{x}<br>population=%{y}<extra></extra>\", \"legendgroup\": \"Germany\", \"marker\": {\"color\": \"#FF97FF\", \"symbol\": \"circle\"}, \"mode\": \"markers\", \"name\": \"Germany\", \"orientation\": \"v\", \"showlegend\": true, \"type\": \"scatter\", \"x\": [4660000000000.0], \"xaxis\": \"x\", \"y\": [83783942.0], \"yaxis\": \"y\"}, {\"hovertemplate\": \"country=Denmark<br>gdp_ppp=%{x}<br>population=%{y}<extra></extra>\", \"legendgroup\": \"Denmark\", \"marker\": {\"color\": \"#FECB52\", \"symbol\": \"circle\"}, \"mode\": \"markers\", \"name\": \"Denmark\", \"orientation\": \"v\", \"showlegend\": true, \"type\": \"scatter\", \"x\": [348000000000.0], \"xaxis\": \"x\", \"y\": [5792202.0], \"yaxis\": \"y\"}, {\"hovertemplate\": \"country=Egypt<br>gdp_ppp=%{x}<br>population=%{y}<extra></extra>\", \"legendgroup\": \"Egypt\", \"marker\": {\"color\": \"#636efa\", \"symbol\": \"circle\"}, \"mode\": \"markers\", \"name\": \"Egypt\", \"orientation\": \"v\", \"showlegend\": true, \"type\": \"scatter\", \"x\": [1230000000000.0], \"xaxis\": \"x\", \"y\": [102334404.0], \"yaxis\": \"y\"}, {\"hovertemplate\": \"country=Spain<br>gdp_ppp=%{x}<br>population=%{y}<extra></extra>\", \"legendgroup\": \"Spain\", \"marker\": {\"color\": \"#EF553B\", \"symbol\": \"circle\"}, \"mode\": \"markers\", \"name\": \"Spain\", \"orientation\": \"v\", \"showlegend\": true, \"type\": \"scatter\", \"x\": [1990000000000.0], \"xaxis\": \"x\", \"y\": [46754778.0], \"yaxis\": \"y\"}, {\"hovertemplate\": \"country=Finland<br>gdp_ppp=%{x}<br>population=%{y}<extra></extra>\", \"legendgroup\": \"Finland\", \"marker\": {\"color\": \"#00cc96\", \"symbol\": \"circle\"}, \"mode\": \"markers\", \"name\": \"Finland\", \"orientation\": \"v\", \"showlegend\": true, \"type\": \"scatter\", \"x\": [283000000000.0], \"xaxis\": \"x\", \"y\": [5540720.0], \"yaxis\": \"y\"}, {\"hovertemplate\": \"country=France<br>gdp_ppp=%{x}<br>population=%{y}<extra></extra>\", \"legendgroup\": \"France\", \"marker\": {\"color\": \"#ab63fa\", \"symbol\": \"circle\"}, \"mode\": \"markers\", \"name\": \"France\", \"orientation\": \"v\", \"showlegend\": true, \"type\": \"scatter\", \"x\": [3320000000000.0], \"xaxis\": \"x\", \"y\": [65273511.0], \"yaxis\": \"y\"}, {\"hovertemplate\": \"country=United Kingdom<br>gdp_ppp=%{x}<br>population=%{y}<extra></extra>\", \"legendgroup\": \"United Kingdom\", \"marker\": {\"color\": \"#FFA15A\", \"symbol\": \"circle\"}, \"mode\": \"markers\", \"name\": \"United Kingdom\", \"orientation\": \"v\", \"showlegend\": true, \"type\": \"scatter\", \"x\": [3260000000000.0], \"xaxis\": \"x\", \"y\": [67886011.0], \"yaxis\": \"y\"}, {\"hovertemplate\": \"country=Greece<br>gdp_ppp=%{x}<br>population=%{y}<extra></extra>\", \"legendgroup\": \"Greece\", \"marker\": {\"color\": \"#19d3f3\", \"symbol\": \"circle\"}, \"mode\": \"markers\", \"name\": \"Greece\", \"orientation\": \"v\", \"showlegend\": true, \"type\": \"scatter\", \"x\": [336000000000.0], \"xaxis\": \"x\", \"y\": [10423054.0], \"yaxis\": \"y\"}, {\"hovertemplate\": \"country=Guatemala<br>gdp_ppp=%{x}<br>population=%{y}<extra></extra>\", \"legendgroup\": \"Guatemala\", \"marker\": {\"color\": \"#FF6692\", \"symbol\": \"circle\"}, \"mode\": \"markers\", \"name\": \"Guatemala\", \"orientation\": \"v\", \"showlegend\": true, \"type\": \"scatter\", \"x\": [149000000000.0], \"xaxis\": \"x\", \"y\": [17915568.0], \"yaxis\": \"y\"}, {\"hovertemplate\": \"country=Hungary<br>gdp_ppp=%{x}<br>population=%{y}<extra></extra>\", \"legendgroup\": \"Hungary\", \"marker\": {\"color\": \"#B6E880\", \"symbol\": \"circle\"}, \"mode\": \"markers\", \"name\": \"Hungary\", \"orientation\": \"v\", \"showlegend\": true, \"type\": \"scatter\", \"x\": [332000000000.0], \"xaxis\": \"x\", \"y\": [9660351.0], \"yaxis\": \"y\"}, {\"hovertemplate\": \"country=Indonesia<br>gdp_ppp=%{x}<br>population=%{y}<extra></extra>\", \"legendgroup\": \"Indonesia\", \"marker\": {\"color\": \"#FF97FF\", \"symbol\": \"circle\"}, \"mode\": \"markers\", \"name\": \"Indonesia\", \"orientation\": \"v\", \"showlegend\": true, \"type\": \"scatter\", \"x\": [3330000000000.0], \"xaxis\": \"x\", \"y\": [273523615.0], \"yaxis\": \"y\"}, {\"hovertemplate\": \"country=Ireland<br>gdp_ppp=%{x}<br>population=%{y}<extra></extra>\", \"legendgroup\": \"Ireland\", \"marker\": {\"color\": \"#FECB52\", \"symbol\": \"circle\"}, \"mode\": \"markers\", \"name\": \"Ireland\", \"orientation\": \"v\", \"showlegend\": true, \"type\": \"scatter\", \"x\": [436000000000.0], \"xaxis\": \"x\", \"y\": [4937786.0], \"yaxis\": \"y\"}, {\"hovertemplate\": \"country=India<br>gdp_ppp=%{x}<br>population=%{y}<extra></extra>\", \"legendgroup\": \"India\", \"marker\": {\"color\": \"#636efa\", \"symbol\": \"circle\"}, \"mode\": \"markers\", \"name\": \"India\", \"orientation\": \"v\", \"showlegend\": true, \"type\": \"scatter\", \"x\": [9610000000000.0], \"xaxis\": \"x\", \"y\": [1380004385.0], \"yaxis\": \"y\"}, {\"hovertemplate\": \"country=Jordan<br>gdp_ppp=%{x}<br>population=%{y}<extra></extra>\", \"legendgroup\": \"Jordan\", \"marker\": {\"color\": \"#EF553B\", \"symbol\": \"circle\"}, \"mode\": \"markers\", \"name\": \"Jordan\", \"orientation\": \"v\", \"showlegend\": true, \"type\": \"scatter\", \"x\": [104000000000.0], \"xaxis\": \"x\", \"y\": [10203134.0], \"yaxis\": \"y\"}, {\"hovertemplate\": \"country=Japan<br>gdp_ppp=%{x}<br>population=%{y}<extra></extra>\", \"legendgroup\": \"Japan\", \"marker\": {\"color\": \"#00cc96\", \"symbol\": \"circle\"}, \"mode\": \"markers\", \"name\": \"Japan\", \"orientation\": \"v\", \"showlegend\": true, \"type\": \"scatter\", \"x\": [5460000000000.0], \"xaxis\": \"x\", \"y\": [126476461.0], \"yaxis\": \"y\"}, {\"hovertemplate\": \"country=Cambodia<br>gdp_ppp=%{x}<br>population=%{y}<extra></extra>\", \"legendgroup\": \"Cambodia\", \"marker\": {\"color\": \"#ab63fa\", \"symbol\": \"circle\"}, \"mode\": \"markers\", \"name\": \"Cambodia\", \"orientation\": \"v\", \"showlegend\": true, \"type\": \"scatter\", \"x\": [75354943361.0], \"xaxis\": \"x\", \"y\": [16718965.0], \"yaxis\": \"y\"}, {\"hovertemplate\": \"country=South Korea<br>gdp_ppp=%{x}<br>population=%{y}<extra></extra>\", \"legendgroup\": \"South Korea\", \"marker\": {\"color\": \"#FFA15A\", \"symbol\": \"circle\"}, \"mode\": \"markers\", \"name\": \"South Korea\", \"orientation\": \"v\", \"showlegend\": true, \"type\": \"scatter\", \"x\": [2220000000000.0], \"xaxis\": \"x\", \"y\": [51269185.0], \"yaxis\": \"y\"}, {\"hovertemplate\": \"country=Kuwait<br>gdp_ppp=%{x}<br>population=%{y}<extra></extra>\", \"legendgroup\": \"Kuwait\", \"marker\": {\"color\": \"#19d3f3\", \"symbol\": \"circle\"}, \"mode\": \"markers\", \"name\": \"Kuwait\", \"orientation\": \"v\", \"showlegend\": true, \"type\": \"scatter\", \"x\": [218000000000.0], \"xaxis\": \"x\", \"y\": [4270571.0], \"yaxis\": \"y\"}, {\"hovertemplate\": \"country=Kazakhstan<br>gdp_ppp=%{x}<br>population=%{y}<extra></extra>\", \"legendgroup\": \"Kazakhstan\", \"marker\": {\"color\": \"#FF6692\", \"symbol\": \"circle\"}, \"mode\": \"markers\", \"name\": \"Kazakhstan\", \"orientation\": \"v\", \"showlegend\": true, \"type\": \"scatter\", \"x\": [508000000000.0, 508000000000.0], \"xaxis\": \"x\", \"y\": [18776707.0, 18776707.0], \"yaxis\": \"y\"}, {\"hovertemplate\": \"country=Lebanon<br>gdp_ppp=%{x}<br>population=%{y}<extra></extra>\", \"legendgroup\": \"Lebanon\", \"marker\": {\"color\": \"#B6E880\", \"symbol\": \"circle\"}, \"mode\": \"markers\", \"name\": \"Lebanon\", \"orientation\": \"v\", \"showlegend\": true, \"type\": \"scatter\", \"x\": [105000000000.0], \"xaxis\": \"x\", \"y\": [6825445.0], \"yaxis\": \"y\"}, {\"hovertemplate\": \"country=Luxembourg<br>gdp_ppp=%{x}<br>population=%{y}<extra></extra>\", \"legendgroup\": \"Luxembourg\", \"marker\": {\"color\": \"#FF97FF\", \"symbol\": \"circle\"}, \"mode\": \"markers\", \"name\": \"Luxembourg\", \"orientation\": \"v\", \"showlegend\": true, \"type\": \"scatter\", \"x\": [75188883904.0], \"xaxis\": \"x\", \"y\": [625978.0], \"yaxis\": \"y\"}, {\"hovertemplate\": \"country=Morocco<br>gdp_ppp=%{x}<br>population=%{y}<extra></extra>\", \"legendgroup\": \"Morocco\", \"marker\": {\"color\": \"#FECB52\", \"symbol\": \"circle\"}, \"mode\": \"markers\", \"name\": \"Morocco\", \"orientation\": \"v\", \"showlegend\": true, \"type\": \"scatter\", \"x\": [290000000000.0], \"xaxis\": \"x\", \"y\": [36910560.0], \"yaxis\": \"y\"}, {\"hovertemplate\": \"country=Mexico<br>gdp_ppp=%{x}<br>population=%{y}<extra></extra>\", \"legendgroup\": \"Mexico\", \"marker\": {\"color\": \"#636efa\", \"symbol\": \"circle\"}, \"mode\": \"markers\", \"name\": \"Mexico\", \"orientation\": \"v\", \"showlegend\": true, \"type\": \"scatter\", \"x\": [2600000000000.0], \"xaxis\": \"x\", \"y\": [128932753.0], \"yaxis\": \"y\"}, {\"hovertemplate\": \"country=Malaysia<br>gdp_ppp=%{x}<br>population=%{y}<extra></extra>\", \"legendgroup\": \"Malaysia\", \"marker\": {\"color\": \"#EF553B\", \"symbol\": \"circle\"}, \"mode\": \"markers\", \"name\": \"Malaysia\", \"orientation\": \"v\", \"showlegend\": true, \"type\": \"scatter\", \"x\": [943000000000.0], \"xaxis\": \"x\", \"y\": [32365999.0], \"yaxis\": \"y\"}, {\"hovertemplate\": \"country=Netherlands<br>gdp_ppp=%{x}<br>population=%{y}<extra></extra>\", \"legendgroup\": \"Netherlands\", \"marker\": {\"color\": \"#00cc96\", \"symbol\": \"circle\"}, \"mode\": \"markers\", \"name\": \"Netherlands\", \"orientation\": \"v\", \"showlegend\": true, \"type\": \"scatter\", \"x\": [1030000000000.0], \"xaxis\": \"x\", \"y\": [17134872.0], \"yaxis\": \"y\"}, {\"hovertemplate\": \"country=Norway<br>gdp_ppp=%{x}<br>population=%{y}<extra></extra>\", \"legendgroup\": \"Norway\", \"marker\": {\"color\": \"#ab63fa\", \"symbol\": \"circle\"}, \"mode\": \"markers\", \"name\": \"Norway\", \"orientation\": \"v\", \"showlegend\": true, \"type\": \"scatter\", \"x\": [357000000000.0], \"xaxis\": \"x\", \"y\": [5421241.0], \"yaxis\": \"y\"}, {\"hovertemplate\": \"country=New Zealand<br>gdp_ppp=%{x}<br>population=%{y}<extra></extra>\", \"legendgroup\": \"New Zealand\", \"marker\": {\"color\": \"#FFA15A\", \"symbol\": \"circle\"}, \"mode\": \"markers\", \"name\": \"New Zealand\", \"orientation\": \"v\", \"showlegend\": true, \"type\": \"scatter\", \"x\": [216000000000.0], \"xaxis\": \"x\", \"y\": [4822233.0], \"yaxis\": \"y\"}, {\"hovertemplate\": \"country=Oman<br>gdp_ppp=%{x}<br>population=%{y}<extra></extra>\", \"legendgroup\": \"Oman\", \"marker\": {\"color\": \"#19d3f3\", \"symbol\": \"circle\"}, \"mode\": \"markers\", \"name\": \"Oman\", \"orientation\": \"v\", \"showlegend\": true, \"type\": \"scatter\", \"x\": [145000000000.0], \"xaxis\": \"x\", \"y\": [5106626.0], \"yaxis\": \"y\"}, {\"hovertemplate\": \"country=Panama<br>gdp_ppp=%{x}<br>population=%{y}<extra></extra>\", \"legendgroup\": \"Panama\", \"marker\": {\"color\": \"#FF6692\", \"symbol\": \"circle\"}, \"mode\": \"markers\", \"name\": \"Panama\", \"orientation\": \"v\", \"showlegend\": true, \"type\": \"scatter\", \"x\": [139000000000.0], \"xaxis\": \"x\", \"y\": [4314767.0], \"yaxis\": \"y\"}, {\"hovertemplate\": \"country=Peru<br>gdp_ppp=%{x}<br>population=%{y}<extra></extra>\", \"legendgroup\": \"Peru\", \"marker\": {\"color\": \"#B6E880\", \"symbol\": \"circle\"}, \"mode\": \"markers\", \"name\": \"Peru\", \"orientation\": \"v\", \"showlegend\": true, \"type\": \"scatter\", \"x\": [435000000000.0], \"xaxis\": \"x\", \"y\": [32971854.0], \"yaxis\": \"y\"}, {\"hovertemplate\": \"country=Philippines<br>gdp_ppp=%{x}<br>population=%{y}<extra></extra>\", \"legendgroup\": \"Philippines\", \"marker\": {\"color\": \"#FF97FF\", \"symbol\": \"circle\"}, \"mode\": \"markers\", \"name\": \"Philippines\", \"orientation\": \"v\", \"showlegend\": true, \"type\": \"scatter\", \"x\": [1000000000000.0], \"xaxis\": \"x\", \"y\": [109581078.0], \"yaxis\": \"y\"}, {\"hovertemplate\": \"country=Poland<br>gdp_ppp=%{x}<br>population=%{y}<extra></extra>\", \"legendgroup\": \"Poland\", \"marker\": {\"color\": \"#FECB52\", \"symbol\": \"circle\"}, \"mode\": \"markers\", \"name\": \"Poland\", \"orientation\": \"v\", \"showlegend\": true, \"type\": \"scatter\", \"x\": [1300000000000.0], \"xaxis\": \"x\", \"y\": [37846611.0], \"yaxis\": \"y\"}, {\"hovertemplate\": \"country=Puerto Rico<br>gdp_ppp=%{x}<br>population=%{y}<extra></extra>\", \"legendgroup\": \"Puerto Rico\", \"marker\": {\"color\": \"#636efa\", \"symbol\": \"circle\"}, \"mode\": \"markers\", \"name\": \"Puerto Rico\", \"orientation\": \"v\", \"showlegend\": true, \"type\": \"scatter\", \"x\": [115000000000.0], \"xaxis\": \"x\", \"y\": [2860853.0], \"yaxis\": \"y\"}, {\"hovertemplate\": \"country=Portugal<br>gdp_ppp=%{x}<br>population=%{y}<extra></extra>\", \"legendgroup\": \"Portugal\", \"marker\": {\"color\": \"#EF553B\", \"symbol\": \"circle\"}, \"mode\": \"markers\", \"name\": \"Portugal\", \"orientation\": \"v\", \"showlegend\": true, \"type\": \"scatter\", \"x\": [375000000000.0], \"xaxis\": \"x\", \"y\": [10196709.0], \"yaxis\": \"y\"}, {\"hovertemplate\": \"country=Qatar<br>gdp_ppp=%{x}<br>population=%{y}<extra></extra>\", \"legendgroup\": \"Qatar\", \"marker\": {\"color\": \"#00cc96\", \"symbol\": \"circle\"}, \"mode\": \"markers\", \"name\": \"Qatar\", \"orientation\": \"v\", \"showlegend\": true, \"type\": \"scatter\", \"x\": [273000000000.0], \"xaxis\": \"x\", \"y\": [2881053.0], \"yaxis\": \"y\"}, {\"hovertemplate\": \"country=Romania<br>gdp_ppp=%{x}<br>population=%{y}<extra></extra>\", \"legendgroup\": \"Romania\", \"marker\": {\"color\": \"#ab63fa\", \"symbol\": \"circle\"}, \"mode\": \"markers\", \"name\": \"Romania\", \"orientation\": \"v\", \"showlegend\": true, \"type\": \"scatter\", \"x\": [625000000000.0], \"xaxis\": \"x\", \"y\": [19237691.0], \"yaxis\": \"y\"}, {\"hovertemplate\": \"country=Russia<br>gdp_ppp=%{x}<br>population=%{y}<extra></extra>\", \"legendgroup\": \"Russia\", \"marker\": {\"color\": \"#FFA15A\", \"symbol\": \"circle\"}, \"mode\": \"markers\", \"name\": \"Russia\", \"orientation\": \"v\", \"showlegend\": true, \"type\": \"scatter\", \"x\": [4280000000000.0, 4280000000000.0], \"xaxis\": \"x\", \"y\": [145934462.0, 145934462.0], \"yaxis\": \"y\"}, {\"hovertemplate\": \"country=Saudi Arabia<br>gdp_ppp=%{x}<br>population=%{y}<extra></extra>\", \"legendgroup\": \"Saudi Arabia\", \"marker\": {\"color\": \"#19d3f3\", \"symbol\": \"circle\"}, \"mode\": \"markers\", \"name\": \"Saudi Arabia\", \"orientation\": \"v\", \"showlegend\": true, \"type\": \"scatter\", \"x\": [1680000000000.0], \"xaxis\": \"x\", \"y\": [34813871.0], \"yaxis\": \"y\"}, {\"hovertemplate\": \"country=Sweden<br>gdp_ppp=%{x}<br>population=%{y}<extra></extra>\", \"legendgroup\": \"Sweden\", \"marker\": {\"color\": \"#FF6692\", \"symbol\": \"circle\"}, \"mode\": \"markers\", \"name\": \"Sweden\", \"orientation\": \"v\", \"showlegend\": true, \"type\": \"scatter\", \"x\": [574000000000.0], \"xaxis\": \"x\", \"y\": [10099265.0], \"yaxis\": \"y\"}, {\"hovertemplate\": \"country=Singapore<br>gdp_ppp=%{x}<br>population=%{y}<extra></extra>\", \"legendgroup\": \"Singapore\", \"marker\": {\"color\": \"#B6E880\", \"symbol\": \"circle\"}, \"mode\": \"markers\", \"name\": \"Singapore\", \"orientation\": \"v\", \"showlegend\": true, \"type\": \"scatter\", \"x\": [578000000000.0], \"xaxis\": \"x\", \"y\": [5850342.0], \"yaxis\": \"y\"}, {\"hovertemplate\": \"country=El Salvador<br>gdp_ppp=%{x}<br>population=%{y}<extra></extra>\", \"legendgroup\": \"El Salvador\", \"marker\": {\"color\": \"#FF97FF\", \"symbol\": \"circle\"}, \"mode\": \"markers\", \"name\": \"El Salvador\", \"orientation\": \"v\", \"showlegend\": true, \"type\": \"scatter\", \"x\": [58983579232.0], \"xaxis\": \"x\", \"y\": [6486205.0], \"yaxis\": \"y\"}, {\"hovertemplate\": \"country=Thailand<br>gdp_ppp=%{x}<br>population=%{y}<extra></extra>\", \"legendgroup\": \"Thailand\", \"marker\": {\"color\": \"#FECB52\", \"symbol\": \"circle\"}, \"mode\": \"markers\", \"name\": \"Thailand\", \"orientation\": \"v\", \"showlegend\": true, \"type\": \"scatter\", \"x\": [1340000000000.0], \"xaxis\": \"x\", \"y\": [69799978.0], \"yaxis\": \"y\"}, {\"hovertemplate\": \"country=Turkey<br>gdp_ppp=%{x}<br>population=%{y}<extra></extra>\", \"legendgroup\": \"Turkey\", \"marker\": {\"color\": \"#636efa\", \"symbol\": \"circle\"}, \"mode\": \"markers\", \"name\": \"Turkey\", \"orientation\": \"v\", \"showlegend\": true, \"type\": \"scatter\", \"x\": [2330000000000.0, 2330000000000.0], \"xaxis\": \"x\", \"y\": [84339067.0, 84339067.0], \"yaxis\": \"y\"}, {\"hovertemplate\": \"country=Trinidad and Tobago<br>gdp_ppp=%{x}<br>population=%{y}<extra></extra>\", \"legendgroup\": \"Trinidad and Tobago\", \"marker\": {\"color\": \"#EF553B\", \"symbol\": \"circle\"}, \"mode\": \"markers\", \"name\": \"Trinidad and Tobago\", \"orientation\": \"v\", \"showlegend\": true, \"type\": \"scatter\", \"x\": [38028095615.0], \"xaxis\": \"x\", \"y\": [1399488.0], \"yaxis\": \"y\"}, {\"hovertemplate\": \"country=United States<br>gdp_ppp=%{x}<br>population=%{y}<extra></extra>\", \"legendgroup\": \"United States\", \"marker\": {\"color\": \"#00cc96\", \"symbol\": \"circle\"}, \"mode\": \"markers\", \"name\": \"United States\", \"orientation\": \"v\", \"showlegend\": true, \"type\": \"scatter\", \"x\": [21400000000000.0], \"xaxis\": \"x\", \"y\": [331002651.0], \"yaxis\": \"y\"}, {\"hovertemplate\": \"country=Vietnam<br>gdp_ppp=%{x}<br>population=%{y}<extra></extra>\", \"legendgroup\": \"Vietnam\", \"marker\": {\"color\": \"#ab63fa\", \"symbol\": \"circle\"}, \"mode\": \"markers\", \"name\": \"Vietnam\", \"orientation\": \"v\", \"showlegend\": true, \"type\": \"scatter\", \"x\": [808000000000.0], \"xaxis\": \"x\", \"y\": [97338579.0], \"yaxis\": \"y\"}, {\"hovertemplate\": \"country=South Africa<br>gdp_ppp=%{x}<br>population=%{y}<extra></extra>\", \"legendgroup\": \"South Africa\", \"marker\": {\"color\": \"#FFA15A\", \"symbol\": \"circle\"}, \"mode\": \"markers\", \"name\": \"South Africa\", \"orientation\": \"v\", \"showlegend\": true, \"type\": \"scatter\", \"x\": [761000000000.0], \"xaxis\": \"x\", \"y\": [59308690.0], \"yaxis\": \"y\"}, {\"hovertemplate\": \"country=Afghanistan<br>gdp_ppp=%{x}<br>population=%{y}<extra></extra>\", \"legendgroup\": \"Afghanistan\", \"marker\": {\"color\": \"#19d3f3\", \"symbol\": \"circle\"}, \"mode\": \"markers\", \"name\": \"Afghanistan\", \"orientation\": \"v\", \"showlegend\": true, \"type\": \"scatter\", \"x\": [87250728944.0], \"xaxis\": \"x\", \"y\": [38928346.0], \"yaxis\": \"y\"}, {\"hovertemplate\": \"country=Albania<br>gdp_ppp=%{x}<br>population=%{y}<extra></extra>\", \"legendgroup\": \"Albania\", \"marker\": {\"color\": \"#FF6692\", \"symbol\": \"circle\"}, \"mode\": \"markers\", \"name\": \"Albania\", \"orientation\": \"v\", \"showlegend\": true, \"type\": \"scatter\", \"x\": [41371722639.0], \"xaxis\": \"x\", \"y\": [2877797.0], \"yaxis\": \"y\"}, {\"hovertemplate\": \"country=Algeria<br>gdp_ppp=%{x}<br>population=%{y}<extra></extra>\", \"legendgroup\": \"Algeria\", \"marker\": {\"color\": \"#B6E880\", \"symbol\": \"circle\"}, \"mode\": \"markers\", \"name\": \"Algeria\", \"orientation\": \"v\", \"showlegend\": true, \"type\": \"scatter\", \"x\": [509000000000.0], \"xaxis\": \"x\", \"y\": [43851044.0], \"yaxis\": \"y\"}, {\"hovertemplate\": \"country=Angola<br>gdp_ppp=%{x}<br>population=%{y}<extra></extra>\", \"legendgroup\": \"Angola\", \"marker\": {\"color\": \"#FF97FF\", \"symbol\": \"circle\"}, \"mode\": \"markers\", \"name\": \"Angola\", \"orientation\": \"v\", \"showlegend\": true, \"type\": \"scatter\", \"x\": [221000000000.0], \"xaxis\": \"x\", \"y\": [32866272.0], \"yaxis\": \"y\"}, {\"hovertemplate\": \"country=Antigua and Barbuda<br>gdp_ppp=%{x}<br>population=%{y}<extra></extra>\", \"legendgroup\": \"Antigua and Barbuda\", \"marker\": {\"color\": \"#FECB52\", \"symbol\": \"circle\"}, \"mode\": \"markers\", \"name\": \"Antigua and Barbuda\", \"orientation\": \"v\", \"showlegend\": true, \"type\": \"scatter\", \"x\": [2215888205.0], \"xaxis\": \"x\", \"y\": [97929.0], \"yaxis\": \"y\"}, {\"hovertemplate\": \"country=Bangladesh<br>gdp_ppp=%{x}<br>population=%{y}<extra></extra>\", \"legendgroup\": \"Bangladesh\", \"marker\": {\"color\": \"#636efa\", \"symbol\": \"circle\"}, \"mode\": \"markers\", \"name\": \"Bangladesh\", \"orientation\": \"v\", \"showlegend\": true, \"type\": \"scatter\", \"x\": [807000000000.0], \"xaxis\": \"x\", \"y\": [164689383.0], \"yaxis\": \"y\"}, {\"hovertemplate\": \"country=Armenia<br>gdp_ppp=%{x}<br>population=%{y}<extra></extra>\", \"legendgroup\": \"Armenia\", \"marker\": {\"color\": \"#EF553B\", \"symbol\": \"circle\"}, \"mode\": \"markers\", \"name\": \"Armenia\", \"orientation\": \"v\", \"showlegend\": true, \"type\": \"scatter\", \"x\": [42057833683.0, 42057833683.0], \"xaxis\": \"x\", \"y\": [2963243.0, 2963243.0], \"yaxis\": \"y\"}, {\"hovertemplate\": \"country=Barbados<br>gdp_ppp=%{x}<br>population=%{y}<extra></extra>\", \"legendgroup\": \"Barbados\", \"marker\": {\"color\": \"#00cc96\", \"symbol\": \"circle\"}, \"mode\": \"markers\", \"name\": \"Barbados\", \"orientation\": \"v\", \"showlegend\": true, \"type\": \"scatter\", \"x\": [4674770295.0], \"xaxis\": \"x\", \"y\": [287375.0], \"yaxis\": \"y\"}, {\"hovertemplate\": \"country=Bosnia and Herzegovina<br>gdp_ppp=%{x}<br>population=%{y}<extra></extra>\", \"legendgroup\": \"Bosnia and Herzegovina\", \"marker\": {\"color\": \"#ab63fa\", \"symbol\": \"circle\"}, \"mode\": \"markers\", \"name\": \"Bosnia and Herzegovina\", \"orientation\": \"v\", \"showlegend\": true, \"type\": \"scatter\", \"x\": [52128318315.0], \"xaxis\": \"x\", \"y\": [3280819.0], \"yaxis\": \"y\"}, {\"hovertemplate\": \"country=Botswana<br>gdp_ppp=%{x}<br>population=%{y}<extra></extra>\", \"legendgroup\": \"Botswana\", \"marker\": {\"color\": \"#FFA15A\", \"symbol\": \"circle\"}, \"mode\": \"markers\", \"name\": \"Botswana\", \"orientation\": \"v\", \"showlegend\": true, \"type\": \"scatter\", \"x\": [42624886832.0], \"xaxis\": \"x\", \"y\": [2351627.0], \"yaxis\": \"y\"}, {\"hovertemplate\": \"country=Belize<br>gdp_ppp=%{x}<br>population=%{y}<extra></extra>\", \"legendgroup\": \"Belize\", \"marker\": {\"color\": \"#19d3f3\", \"symbol\": \"circle\"}, \"mode\": \"markers\", \"name\": \"Belize\", \"orientation\": \"v\", \"showlegend\": true, \"type\": \"scatter\", \"x\": [2847714969.0], \"xaxis\": \"x\", \"y\": [397628.0], \"yaxis\": \"y\"}, {\"hovertemplate\": \"country=Solomon Islands<br>gdp_ppp=%{x}<br>population=%{y}<extra></extra>\", \"legendgroup\": \"Solomon Islands\", \"marker\": {\"color\": \"#FF6692\", \"symbol\": \"circle\"}, \"mode\": \"markers\", \"name\": \"Solomon Islands\", \"orientation\": \"v\", \"showlegend\": true, \"type\": \"scatter\", \"x\": [1651462433.0], \"xaxis\": \"x\", \"y\": [686884.0], \"yaxis\": \"y\"}, {\"hovertemplate\": \"country=Myanmar<br>gdp_ppp=%{x}<br>population=%{y}<extra></extra>\", \"legendgroup\": \"Myanmar\", \"marker\": {\"color\": \"#B6E880\", \"symbol\": \"circle\"}, \"mode\": \"markers\", \"name\": \"Myanmar\", \"orientation\": \"v\", \"showlegend\": true, \"type\": \"scatter\", \"x\": [289000000000.0], \"xaxis\": \"x\", \"y\": [54409800.0], \"yaxis\": \"y\"}, {\"hovertemplate\": \"country=Burundi<br>gdp_ppp=%{x}<br>population=%{y}<extra></extra>\", \"legendgroup\": \"Burundi\", \"marker\": {\"color\": \"#FF97FF\", \"symbol\": \"circle\"}, \"mode\": \"markers\", \"name\": \"Burundi\", \"orientation\": \"v\", \"showlegend\": true, \"type\": \"scatter\", \"x\": [9026329302.0], \"xaxis\": \"x\", \"y\": [11890784.0], \"yaxis\": \"y\"}, {\"hovertemplate\": \"country=Belarus<br>gdp_ppp=%{x}<br>population=%{y}<extra></extra>\", \"legendgroup\": \"Belarus\", \"marker\": {\"color\": \"#FECB52\", \"symbol\": \"circle\"}, \"mode\": \"markers\", \"name\": \"Belarus\", \"orientation\": \"v\", \"showlegend\": true, \"type\": \"scatter\", \"x\": [189000000000.0], \"xaxis\": \"x\", \"y\": [9449323.0], \"yaxis\": \"y\"}, {\"hovertemplate\": \"country=Cameroon<br>gdp_ppp=%{x}<br>population=%{y}<extra></extra>\", \"legendgroup\": \"Cameroon\", \"marker\": {\"color\": \"#636efa\", \"symbol\": \"circle\"}, \"mode\": \"markers\", \"name\": \"Cameroon\", \"orientation\": \"v\", \"showlegend\": true, \"type\": \"scatter\", \"x\": [98435605135.0], \"xaxis\": \"x\", \"y\": [26545863.0], \"yaxis\": \"y\"}, {\"hovertemplate\": \"country=Central African Republic<br>gdp_ppp=%{x}<br>population=%{y}<extra></extra>\", \"legendgroup\": \"Central African Republic\", \"marker\": {\"color\": \"#EF553B\", \"symbol\": \"circle\"}, \"mode\": \"markers\", \"name\": \"Central African Republic\", \"orientation\": \"v\", \"showlegend\": true, \"type\": \"scatter\", \"x\": [4669395141.0], \"xaxis\": \"x\", \"y\": [4829767.0], \"yaxis\": \"y\"}, {\"hovertemplate\": \"country=Sri Lanka<br>gdp_ppp=%{x}<br>population=%{y}<extra></extra>\", \"legendgroup\": \"Sri Lanka\", \"marker\": {\"color\": \"#00cc96\", \"symbol\": \"circle\"}, \"mode\": \"markers\", \"name\": \"Sri Lanka\", \"orientation\": \"v\", \"showlegend\": true, \"type\": \"scatter\", \"x\": [297000000000.0], \"xaxis\": \"x\", \"y\": [21413249.0], \"yaxis\": \"y\"}, {\"hovertemplate\": \"country=Chad<br>gdp_ppp=%{x}<br>population=%{y}<extra></extra>\", \"legendgroup\": \"Chad\", \"marker\": {\"color\": \"#ab63fa\", \"symbol\": \"circle\"}, \"mode\": \"markers\", \"name\": \"Chad\", \"orientation\": \"v\", \"showlegend\": true, \"type\": \"scatter\", \"x\": [26234112465.0], \"xaxis\": \"x\", \"y\": [16425864.0], \"yaxis\": \"y\"}, {\"hovertemplate\": \"country=Comoros<br>gdp_ppp=%{x}<br>population=%{y}<extra></extra>\", \"legendgroup\": \"Comoros\", \"marker\": {\"color\": \"#FFA15A\", \"symbol\": \"circle\"}, \"mode\": \"markers\", \"name\": \"Comoros\", \"orientation\": \"v\", \"showlegend\": true, \"type\": \"scatter\", \"x\": [2730570852.0], \"xaxis\": \"x\", \"y\": [869601.0], \"yaxis\": \"y\"}, {\"hovertemplate\": \"country=Congo<br>gdp_ppp=%{x}<br>population=%{y}<extra></extra>\", \"legendgroup\": \"Congo\", \"marker\": {\"color\": \"#19d3f3\", \"symbol\": \"circle\"}, \"mode\": \"markers\", \"name\": \"Congo\", \"orientation\": \"v\", \"showlegend\": true, \"type\": \"scatter\", \"x\": [99240953693.0, 99240953693.0], \"xaxis\": \"x\", \"y\": [5518087.0, 5518087.0], \"yaxis\": \"y\"}, {\"hovertemplate\": \"country=Croatia<br>gdp_ppp=%{x}<br>population=%{y}<extra></extra>\", \"legendgroup\": \"Croatia\", \"marker\": {\"color\": \"#FF6692\", \"symbol\": \"circle\"}, \"mode\": \"markers\", \"name\": \"Croatia\", \"orientation\": \"v\", \"showlegend\": true, \"type\": \"scatter\", \"x\": [122000000000.0], \"xaxis\": \"x\", \"y\": [4105267.0], \"yaxis\": \"y\"}, {\"hovertemplate\": \"country=Benin<br>gdp_ppp=%{x}<br>population=%{y}<extra></extra>\", \"legendgroup\": \"Benin\", \"marker\": {\"color\": \"#B6E880\", \"symbol\": \"circle\"}, \"mode\": \"markers\", \"name\": \"Benin\", \"orientation\": \"v\", \"showlegend\": true, \"type\": \"scatter\", \"x\": [40401850886.0], \"xaxis\": \"x\", \"y\": [12123200.0], \"yaxis\": \"y\"}, {\"hovertemplate\": \"country=Dominica<br>gdp_ppp=%{x}<br>population=%{y}<extra></extra>\", \"legendgroup\": \"Dominica\", \"marker\": {\"color\": \"#FF97FF\", \"symbol\": \"circle\"}, \"mode\": \"markers\", \"name\": \"Dominica\", \"orientation\": \"v\", \"showlegend\": true, \"type\": \"scatter\", \"x\": [909042210.9], \"xaxis\": \"x\", \"y\": [71986.0], \"yaxis\": \"y\"}, {\"hovertemplate\": \"country=Dominican Republic<br>gdp_ppp=%{x}<br>population=%{y}<extra></extra>\", \"legendgroup\": \"Dominican Republic\", \"marker\": {\"color\": \"#FECB52\", \"symbol\": \"circle\"}, \"mode\": \"markers\", \"name\": \"Dominican Republic\", \"orientation\": \"v\", \"showlegend\": true, \"type\": \"scatter\", \"x\": [206000000000.0], \"xaxis\": \"x\", \"y\": [10847910.0], \"yaxis\": \"y\"}, {\"hovertemplate\": \"country=Ecuador<br>gdp_ppp=%{x}<br>population=%{y}<extra></extra>\", \"legendgroup\": \"Ecuador\", \"marker\": {\"color\": \"#636efa\", \"symbol\": \"circle\"}, \"mode\": \"markers\", \"name\": \"Ecuador\", \"orientation\": \"v\", \"showlegend\": true, \"type\": \"scatter\", \"x\": [206000000000.0], \"xaxis\": \"x\", \"y\": [17643054.0], \"yaxis\": \"y\"}, {\"hovertemplate\": \"country=Equatorial Guinea<br>gdp_ppp=%{x}<br>population=%{y}<extra></extra>\", \"legendgroup\": \"Equatorial Guinea\", \"marker\": {\"color\": \"#EF553B\", \"symbol\": \"circle\"}, \"mode\": \"markers\", \"name\": \"Equatorial Guinea\", \"orientation\": \"v\", \"showlegend\": true, \"type\": \"scatter\", \"x\": [26207328980.0], \"xaxis\": \"x\", \"y\": [1402985.0], \"yaxis\": \"y\"}, {\"hovertemplate\": \"country=Ethiopia<br>gdp_ppp=%{x}<br>population=%{y}<extra></extra>\", \"legendgroup\": \"Ethiopia\", \"marker\": {\"color\": \"#00cc96\", \"symbol\": \"circle\"}, \"mode\": \"markers\", \"name\": \"Ethiopia\", \"orientation\": \"v\", \"showlegend\": true, \"type\": \"scatter\", \"x\": [259000000000.0], \"xaxis\": \"x\", \"y\": [114963588.0], \"yaxis\": \"y\"}, {\"hovertemplate\": \"country=Estonia<br>gdp_ppp=%{x}<br>population=%{y}<extra></extra>\", \"legendgroup\": \"Estonia\", \"marker\": {\"color\": \"#ab63fa\", \"symbol\": \"circle\"}, \"mode\": \"markers\", \"name\": \"Estonia\", \"orientation\": \"v\", \"showlegend\": true, \"type\": \"scatter\", \"x\": [51486474644.0], \"xaxis\": \"x\", \"y\": [1326535.0], \"yaxis\": \"y\"}, {\"hovertemplate\": \"country=Fiji<br>gdp_ppp=%{x}<br>population=%{y}<extra></extra>\", \"legendgroup\": \"Fiji\", \"marker\": {\"color\": \"#FFA15A\", \"symbol\": \"circle\"}, \"mode\": \"markers\", \"name\": \"Fiji\", \"orientation\": \"v\", \"showlegend\": true, \"type\": \"scatter\", \"x\": [12839870256.0], \"xaxis\": \"x\", \"y\": [896445.0], \"yaxis\": \"y\"}, {\"hovertemplate\": \"country=Djibouti<br>gdp_ppp=%{x}<br>population=%{y}<extra></extra>\", \"legendgroup\": \"Djibouti\", \"marker\": {\"color\": \"#19d3f3\", \"symbol\": \"circle\"}, \"mode\": \"markers\", \"name\": \"Djibouti\", \"orientation\": \"v\", \"showlegend\": true, \"type\": \"scatter\", \"x\": [5596101782.0], \"xaxis\": \"x\", \"y\": [988000.0], \"yaxis\": \"y\"}, {\"hovertemplate\": \"country=Gabon<br>gdp_ppp=%{x}<br>population=%{y}<extra></extra>\", \"legendgroup\": \"Gabon\", \"marker\": {\"color\": \"#FF6692\", \"symbol\": \"circle\"}, \"mode\": \"markers\", \"name\": \"Gabon\", \"orientation\": \"v\", \"showlegend\": true, \"type\": \"scatter\", \"x\": [33644706827.0], \"xaxis\": \"x\", \"y\": [2225734.0], \"yaxis\": \"y\"}, {\"hovertemplate\": \"country=Georgia<br>gdp_ppp=%{x}<br>population=%{y}<extra></extra>\", \"legendgroup\": \"Georgia\", \"marker\": {\"color\": \"#B6E880\", \"symbol\": \"circle\"}, \"mode\": \"markers\", \"name\": \"Georgia\", \"orientation\": \"v\", \"showlegend\": true, \"type\": \"scatter\", \"x\": [58173953153.0, 58173953153.0], \"xaxis\": \"x\", \"y\": [3989167.0, 3989167.0], \"yaxis\": \"y\"}, {\"hovertemplate\": \"country=Gambia<br>gdp_ppp=%{x}<br>population=%{y}<extra></extra>\", \"legendgroup\": \"Gambia\", \"marker\": {\"color\": \"#FF97FF\", \"symbol\": \"circle\"}, \"mode\": \"markers\", \"name\": \"Gambia\", \"orientation\": \"v\", \"showlegend\": true, \"type\": \"scatter\", \"x\": [5395916227.0], \"xaxis\": \"x\", \"y\": [2416668.0], \"yaxis\": \"y\"}, {\"hovertemplate\": \"country=Ghana<br>gdp_ppp=%{x}<br>population=%{y}<extra></extra>\", \"legendgroup\": \"Ghana\", \"marker\": {\"color\": \"#FECB52\", \"symbol\": \"circle\"}, \"mode\": \"markers\", \"name\": \"Ghana\", \"orientation\": \"v\", \"showlegend\": true, \"type\": \"scatter\", \"x\": [171000000000.0], \"xaxis\": \"x\", \"y\": [31072940.0], \"yaxis\": \"y\"}, {\"hovertemplate\": \"country=Kiribati<br>gdp_ppp=%{x}<br>population=%{y}<extra></extra>\", \"legendgroup\": \"Kiribati\", \"marker\": {\"color\": \"#636efa\", \"symbol\": \"circle\"}, \"mode\": \"markers\", \"name\": \"Kiribati\", \"orientation\": \"v\", \"showlegend\": true, \"type\": \"scatter\", \"x\": [278663362.8], \"xaxis\": \"x\", \"y\": [119449.0], \"yaxis\": \"y\"}, {\"hovertemplate\": \"country=Grenada<br>gdp_ppp=%{x}<br>population=%{y}<extra></extra>\", \"legendgroup\": \"Grenada\", \"marker\": {\"color\": \"#EF553B\", \"symbol\": \"circle\"}, \"mode\": \"markers\", \"name\": \"Grenada\", \"orientation\": \"v\", \"showlegend\": true, \"type\": \"scatter\", \"x\": [2011137673.0], \"xaxis\": \"x\", \"y\": [112523.0], \"yaxis\": \"y\"}, {\"hovertemplate\": \"country=Guinea<br>gdp_ppp=%{x}<br>population=%{y}<extra></extra>\", \"legendgroup\": \"Guinea\", \"marker\": {\"color\": \"#00cc96\", \"symbol\": \"circle\"}, \"mode\": \"markers\", \"name\": \"Guinea\", \"orientation\": \"v\", \"showlegend\": true, \"type\": \"scatter\", \"x\": [34103172455.0], \"xaxis\": \"x\", \"y\": [13132795.0], \"yaxis\": \"y\"}, {\"hovertemplate\": \"country=Guyana<br>gdp_ppp=%{x}<br>population=%{y}<extra></extra>\", \"legendgroup\": \"Guyana\", \"marker\": {\"color\": \"#ab63fa\", \"symbol\": \"circle\"}, \"mode\": \"markers\", \"name\": \"Guyana\", \"orientation\": \"v\", \"showlegend\": true, \"type\": \"scatter\", \"x\": [7909616533.0], \"xaxis\": \"x\", \"y\": [786552.0], \"yaxis\": \"y\"}, {\"hovertemplate\": \"country=Haiti<br>gdp_ppp=%{x}<br>population=%{y}<extra></extra>\", \"legendgroup\": \"Haiti\", \"marker\": {\"color\": \"#FFA15A\", \"symbol\": \"circle\"}, \"mode\": \"markers\", \"name\": \"Haiti\", \"orientation\": \"v\", \"showlegend\": true, \"type\": \"scatter\", \"x\": [20279897297.0], \"xaxis\": \"x\", \"y\": [11402528.0], \"yaxis\": \"y\"}, {\"hovertemplate\": \"country=Honduras<br>gdp_ppp=%{x}<br>population=%{y}<extra></extra>\", \"legendgroup\": \"Honduras\", \"marker\": {\"color\": \"#19d3f3\", \"symbol\": \"circle\"}, \"mode\": \"markers\", \"name\": \"Honduras\", \"orientation\": \"v\", \"showlegend\": true, \"type\": \"scatter\", \"x\": [58139182458.0], \"xaxis\": \"x\", \"y\": [9904607.0], \"yaxis\": \"y\"}, {\"hovertemplate\": \"country=Iceland<br>gdp_ppp=%{x}<br>population=%{y}<extra></extra>\", \"legendgroup\": \"Iceland\", \"marker\": {\"color\": \"#FF6692\", \"symbol\": \"circle\"}, \"mode\": \"markers\", \"name\": \"Iceland\", \"orientation\": \"v\", \"showlegend\": true, \"type\": \"scatter\", \"x\": [21700953992.0], \"xaxis\": \"x\", \"y\": [341243.0], \"yaxis\": \"y\"}, {\"hovertemplate\": \"country=Iraq<br>gdp_ppp=%{x}<br>population=%{y}<extra></extra>\", \"legendgroup\": \"Iraq\", \"marker\": {\"color\": \"#B6E880\", \"symbol\": \"circle\"}, \"mode\": \"markers\", \"name\": \"Iraq\", \"orientation\": \"v\", \"showlegend\": true, \"type\": \"scatter\", \"x\": [445000000000.0], \"xaxis\": \"x\", \"y\": [40222493.0], \"yaxis\": \"y\"}, {\"hovertemplate\": \"country=Israel<br>gdp_ppp=%{x}<br>population=%{y}<extra></extra>\", \"legendgroup\": \"Israel\", \"marker\": {\"color\": \"#FF97FF\", \"symbol\": \"circle\"}, \"mode\": \"markers\", \"name\": \"Israel\", \"orientation\": \"v\", \"showlegend\": true, \"type\": \"scatter\", \"x\": [382000000000.0], \"xaxis\": \"x\", \"y\": [8655535.0], \"yaxis\": \"y\"}, {\"hovertemplate\": \"country=Italy<br>gdp_ppp=%{x}<br>population=%{y}<extra></extra>\", \"legendgroup\": \"Italy\", \"marker\": {\"color\": \"#FECB52\", \"symbol\": \"circle\"}, \"mode\": \"markers\", \"name\": \"Italy\", \"orientation\": \"v\", \"showlegend\": true, \"type\": \"scatter\", \"x\": [2660000000000.0], \"xaxis\": \"x\", \"y\": [60461826.0], \"yaxis\": \"y\"}, {\"hovertemplate\": \"country=Jamaica<br>gdp_ppp=%{x}<br>population=%{y}<extra></extra>\", \"legendgroup\": \"Jamaica\", \"marker\": {\"color\": \"#636efa\", \"symbol\": \"circle\"}, \"mode\": \"markers\", \"name\": \"Jamaica\", \"orientation\": \"v\", \"showlegend\": true, \"type\": \"scatter\", \"x\": [29972389393.0], \"xaxis\": \"x\", \"y\": [2961167.0], \"yaxis\": \"y\"}, {\"hovertemplate\": \"country=Kenya<br>gdp_ppp=%{x}<br>population=%{y}<extra></extra>\", \"legendgroup\": \"Kenya\", \"marker\": {\"color\": \"#EF553B\", \"symbol\": \"circle\"}, \"mode\": \"markers\", \"name\": \"Kenya\", \"orientation\": \"v\", \"showlegend\": true, \"type\": \"scatter\", \"x\": [237000000000.0], \"xaxis\": \"x\", \"y\": [53771296.0], \"yaxis\": \"y\"}, {\"hovertemplate\": \"country=Lesotho<br>gdp_ppp=%{x}<br>population=%{y}<extra></extra>\", \"legendgroup\": \"Lesotho\", \"marker\": {\"color\": \"#00cc96\", \"symbol\": \"circle\"}, \"mode\": \"markers\", \"name\": \"Lesotho\", \"orientation\": \"v\", \"showlegend\": true, \"type\": \"scatter\", \"x\": [6125919028.0], \"xaxis\": \"x\", \"y\": [2142249.0], \"yaxis\": \"y\"}, {\"hovertemplate\": \"country=Latvia<br>gdp_ppp=%{x}<br>population=%{y}<extra></extra>\", \"legendgroup\": \"Latvia\", \"marker\": {\"color\": \"#ab63fa\", \"symbol\": \"circle\"}, \"mode\": \"markers\", \"name\": \"Latvia\", \"orientation\": \"v\", \"showlegend\": true, \"type\": \"scatter\", \"x\": [61600332701.0], \"xaxis\": \"x\", \"y\": [1886198.0], \"yaxis\": \"y\"}, {\"hovertemplate\": \"country=Liberia<br>gdp_ppp=%{x}<br>population=%{y}<extra></extra>\", \"legendgroup\": \"Liberia\", \"marker\": {\"color\": \"#FFA15A\", \"symbol\": \"circle\"}, \"mode\": \"markers\", \"name\": \"Liberia\", \"orientation\": \"v\", \"showlegend\": true, \"type\": \"scatter\", \"x\": [7341849948.0], \"xaxis\": \"x\", \"y\": [5057681.0], \"yaxis\": \"y\"}, {\"hovertemplate\": \"country=Lithuania<br>gdp_ppp=%{x}<br>population=%{y}<extra></extra>\", \"legendgroup\": \"Lithuania\", \"marker\": {\"color\": \"#19d3f3\", \"symbol\": \"circle\"}, \"mode\": \"markers\", \"name\": \"Lithuania\", \"orientation\": \"v\", \"showlegend\": true, \"type\": \"scatter\", \"x\": [106000000000.0], \"xaxis\": \"x\", \"y\": [2722289.0], \"yaxis\": \"y\"}, {\"hovertemplate\": \"country=Madagascar<br>gdp_ppp=%{x}<br>population=%{y}<extra></extra>\", \"legendgroup\": \"Madagascar\", \"marker\": {\"color\": \"#FF6692\", \"symbol\": \"circle\"}, \"mode\": \"markers\", \"name\": \"Madagascar\", \"orientation\": \"v\", \"showlegend\": true, \"type\": \"scatter\", \"x\": [46237459719.0], \"xaxis\": \"x\", \"y\": [27691018.0], \"yaxis\": \"y\"}, {\"hovertemplate\": \"country=Malawi<br>gdp_ppp=%{x}<br>population=%{y}<extra></extra>\", \"legendgroup\": \"Malawi\", \"marker\": {\"color\": \"#B6E880\", \"symbol\": \"circle\"}, \"mode\": \"markers\", \"name\": \"Malawi\", \"orientation\": \"v\", \"showlegend\": true, \"type\": \"scatter\", \"x\": [20559497697.0], \"xaxis\": \"x\", \"y\": [19129952.0], \"yaxis\": \"y\"}, {\"hovertemplate\": \"country=Maldives<br>gdp_ppp=%{x}<br>population=%{y}<extra></extra>\", \"legendgroup\": \"Maldives\", \"marker\": {\"color\": \"#FF97FF\", \"symbol\": \"circle\"}, \"mode\": \"markers\", \"name\": \"Maldives\", \"orientation\": \"v\", \"showlegend\": true, \"type\": \"scatter\", \"x\": [10458837368.0], \"xaxis\": \"x\", \"y\": [540544.0], \"yaxis\": \"y\"}, {\"hovertemplate\": \"country=Mali<br>gdp_ppp=%{x}<br>population=%{y}<extra></extra>\", \"legendgroup\": \"Mali\", \"marker\": {\"color\": \"#FECB52\", \"symbol\": \"circle\"}, \"mode\": \"markers\", \"name\": \"Mali\", \"orientation\": \"v\", \"showlegend\": true, \"type\": \"scatter\", \"x\": [47647700993.0], \"xaxis\": \"x\", \"y\": [20250833.0], \"yaxis\": \"y\"}, {\"hovertemplate\": \"country=Malta<br>gdp_ppp=%{x}<br>population=%{y}<extra></extra>\", \"legendgroup\": \"Malta\", \"marker\": {\"color\": \"#636efa\", \"symbol\": \"circle\"}, \"mode\": \"markers\", \"name\": \"Malta\", \"orientation\": \"v\", \"showlegend\": true, \"type\": \"scatter\", \"x\": [22946901130.0], \"xaxis\": \"x\", \"y\": [441543.0], \"yaxis\": \"y\"}, {\"hovertemplate\": \"country=Mauritania<br>gdp_ppp=%{x}<br>population=%{y}<extra></extra>\", \"legendgroup\": \"Mauritania\", \"marker\": {\"color\": \"#EF553B\", \"symbol\": \"circle\"}, \"mode\": \"markers\", \"name\": \"Mauritania\", \"orientation\": \"v\", \"showlegend\": true, \"type\": \"scatter\", \"x\": [24494963750.0], \"xaxis\": \"x\", \"y\": [4649658.0], \"yaxis\": \"y\"}, {\"hovertemplate\": \"country=Mauritius<br>gdp_ppp=%{x}<br>population=%{y}<extra></extra>\", \"legendgroup\": \"Mauritius\", \"marker\": {\"color\": \"#00cc96\", \"symbol\": \"circle\"}, \"mode\": \"markers\", \"name\": \"Mauritius\", \"orientation\": \"v\", \"showlegend\": true, \"type\": \"scatter\", \"x\": [30303820357.0], \"xaxis\": \"x\", \"y\": [1271768.0], \"yaxis\": \"y\"}, {\"hovertemplate\": \"country=Mongolia<br>gdp_ppp=%{x}<br>population=%{y}<extra></extra>\", \"legendgroup\": \"Mongolia\", \"marker\": {\"color\": \"#ab63fa\", \"symbol\": \"circle\"}, \"mode\": \"markers\", \"name\": \"Mongolia\", \"orientation\": \"v\", \"showlegend\": true, \"type\": \"scatter\", \"x\": [41346475102.0], \"xaxis\": \"x\", \"y\": [3278290.0], \"yaxis\": \"y\"}, {\"hovertemplate\": \"country=Moldova<br>gdp_ppp=%{x}<br>population=%{y}<extra></extra>\", \"legendgroup\": \"Moldova\", \"marker\": {\"color\": \"#FFA15A\", \"symbol\": \"circle\"}, \"mode\": \"markers\", \"name\": \"Moldova\", \"orientation\": \"v\", \"showlegend\": true, \"type\": \"scatter\", \"x\": [36074901315.0], \"xaxis\": \"x\", \"y\": [4033963.0], \"yaxis\": \"y\"}, {\"hovertemplate\": \"country=Montenegro<br>gdp_ppp=%{x}<br>population=%{y}<extra></extra>\", \"legendgroup\": \"Montenegro\", \"marker\": {\"color\": \"#19d3f3\", \"symbol\": \"circle\"}, \"mode\": \"markers\", \"name\": \"Montenegro\", \"orientation\": \"v\", \"showlegend\": true, \"type\": \"scatter\", \"x\": [14302108533.0], \"xaxis\": \"x\", \"y\": [628066.0], \"yaxis\": \"y\"}, {\"hovertemplate\": \"country=Mozambique<br>gdp_ppp=%{x}<br>population=%{y}<extra></extra>\", \"legendgroup\": \"Mozambique\", \"marker\": {\"color\": \"#FF6692\", \"symbol\": \"circle\"}, \"mode\": \"markers\", \"name\": \"Mozambique\", \"orientation\": \"v\", \"showlegend\": true, \"type\": \"scatter\", \"x\": [40493660661.0], \"xaxis\": \"x\", \"y\": [31255435.0], \"yaxis\": \"y\"}, {\"hovertemplate\": \"country=Namibia<br>gdp_ppp=%{x}<br>population=%{y}<extra></extra>\", \"legendgroup\": \"Namibia\", \"marker\": {\"color\": \"#B6E880\", \"symbol\": \"circle\"}, \"mode\": \"markers\", \"name\": \"Namibia\", \"orientation\": \"v\", \"showlegend\": true, \"type\": \"scatter\", \"x\": [25036580984.0], \"xaxis\": \"x\", \"y\": [2540905.0], \"yaxis\": \"y\"}, {\"hovertemplate\": \"country=Nauru<br>gdp_ppp=%{x}<br>population=%{y}<extra></extra>\", \"legendgroup\": \"Nauru\", \"marker\": {\"color\": \"#FF97FF\", \"symbol\": \"circle\"}, \"mode\": \"markers\", \"name\": \"Nauru\", \"orientation\": \"v\", \"showlegend\": true, \"type\": \"scatter\", \"x\": [151979418.5], \"xaxis\": \"x\", \"y\": [10824.0], \"yaxis\": \"y\"}, {\"hovertemplate\": \"country=Nepal<br>gdp_ppp=%{x}<br>population=%{y}<extra></extra>\", \"legendgroup\": \"Nepal\", \"marker\": {\"color\": \"#FECB52\", \"symbol\": \"circle\"}, \"mode\": \"markers\", \"name\": \"Nepal\", \"orientation\": \"v\", \"showlegend\": true, \"type\": \"scatter\", \"x\": [102000000000.0], \"xaxis\": \"x\", \"y\": [29136808.0], \"yaxis\": \"y\"}, {\"hovertemplate\": \"country=Vanuatu<br>gdp_ppp=%{x}<br>population=%{y}<extra></extra>\", \"legendgroup\": \"Vanuatu\", \"marker\": {\"color\": \"#636efa\", \"symbol\": \"circle\"}, \"mode\": \"markers\", \"name\": \"Vanuatu\", \"orientation\": \"v\", \"showlegend\": true, \"type\": \"scatter\", \"x\": [981788161.3], \"xaxis\": \"x\", \"y\": [307145.0], \"yaxis\": \"y\"}, {\"hovertemplate\": \"country=Nicaragua<br>gdp_ppp=%{x}<br>population=%{y}<extra></extra>\", \"legendgroup\": \"Nicaragua\", \"marker\": {\"color\": \"#EF553B\", \"symbol\": \"circle\"}, \"mode\": \"markers\", \"name\": \"Nicaragua\", \"orientation\": \"v\", \"showlegend\": true, \"type\": \"scatter\", \"x\": [36859041159.0], \"xaxis\": \"x\", \"y\": [6624554.0], \"yaxis\": \"y\"}, {\"hovertemplate\": \"country=Niger<br>gdp_ppp=%{x}<br>population=%{y}<extra></extra>\", \"legendgroup\": \"Niger\", \"marker\": {\"color\": \"#00cc96\", \"symbol\": \"circle\"}, \"mode\": \"markers\", \"name\": \"Niger\", \"orientation\": \"v\", \"showlegend\": true, \"type\": \"scatter\", \"x\": [29595316384.0], \"xaxis\": \"x\", \"y\": [24206644.0], \"yaxis\": \"y\"}, {\"hovertemplate\": \"country=Nigeria<br>gdp_ppp=%{x}<br>population=%{y}<extra></extra>\", \"legendgroup\": \"Nigeria\", \"marker\": {\"color\": \"#ab63fa\", \"symbol\": \"circle\"}, \"mode\": \"markers\", \"name\": \"Nigeria\", \"orientation\": \"v\", \"showlegend\": true, \"type\": \"scatter\", \"x\": [1070000000000.0], \"xaxis\": \"x\", \"y\": [206139589.0], \"yaxis\": \"y\"}, {\"hovertemplate\": \"country=Pakistan<br>gdp_ppp=%{x}<br>population=%{y}<extra></extra>\", \"legendgroup\": \"Pakistan\", \"marker\": {\"color\": \"#FFA15A\", \"symbol\": \"circle\"}, \"mode\": \"markers\", \"name\": \"Pakistan\", \"orientation\": \"v\", \"showlegend\": true, \"type\": \"scatter\", \"x\": [1060000000000.0], \"xaxis\": \"x\", \"y\": [220892340.0], \"yaxis\": \"y\"}, {\"hovertemplate\": \"country=Papua New Guinea<br>gdp_ppp=%{x}<br>population=%{y}<extra></extra>\", \"legendgroup\": \"Papua New Guinea\", \"marker\": {\"color\": \"#19d3f3\", \"symbol\": \"circle\"}, \"mode\": \"markers\", \"name\": \"Papua New Guinea\", \"orientation\": \"v\", \"showlegend\": true, \"type\": \"scatter\", \"x\": [40101957741.0], \"xaxis\": \"x\", \"y\": [8947024.0], \"yaxis\": \"y\"}, {\"hovertemplate\": \"country=Paraguay<br>gdp_ppp=%{x}<br>population=%{y}<extra></extra>\", \"legendgroup\": \"Paraguay\", \"marker\": {\"color\": \"#FF6692\", \"symbol\": \"circle\"}, \"mode\": \"markers\", \"name\": \"Paraguay\", \"orientation\": \"v\", \"showlegend\": true, \"type\": \"scatter\", \"x\": [93061810685.0], \"xaxis\": \"x\", \"y\": [7132538.0], \"yaxis\": \"y\"}, {\"hovertemplate\": \"country=Guinea-Bissau<br>gdp_ppp=%{x}<br>population=%{y}<extra></extra>\", \"legendgroup\": \"Guinea-Bissau\", \"marker\": {\"color\": \"#B6E880\", \"symbol\": \"circle\"}, \"mode\": \"markers\", \"name\": \"Guinea-Bissau\", \"orientation\": \"v\", \"showlegend\": true, \"type\": \"scatter\", \"x\": [3979797410.0], \"xaxis\": \"x\", \"y\": [1968001.0], \"yaxis\": \"y\"}, {\"hovertemplate\": \"country=Timor-Leste<br>gdp_ppp=%{x}<br>population=%{y}<extra></extra>\", \"legendgroup\": \"Timor-Leste\", \"marker\": {\"color\": \"#FF97FF\", \"symbol\": \"circle\"}, \"mode\": \"markers\", \"name\": \"Timor-Leste\", \"orientation\": \"v\", \"showlegend\": true, \"type\": \"scatter\", \"x\": [4205929511.0], \"xaxis\": \"x\", \"y\": [1318445.0], \"yaxis\": \"y\"}, {\"hovertemplate\": \"country=Rwanda<br>gdp_ppp=%{x}<br>population=%{y}<extra></extra>\", \"legendgroup\": \"Rwanda\", \"marker\": {\"color\": \"#FECB52\", \"symbol\": \"circle\"}, \"mode\": \"markers\", \"name\": \"Rwanda\", \"orientation\": \"v\", \"showlegend\": true, \"type\": \"scatter\", \"x\": [29275409706.0], \"xaxis\": \"x\", \"y\": [12952218.0], \"yaxis\": \"y\"}, {\"hovertemplate\": \"country=Senegal<br>gdp_ppp=%{x}<br>population=%{y}<extra></extra>\", \"legendgroup\": \"Senegal\", \"marker\": {\"color\": \"#636efa\", \"symbol\": \"circle\"}, \"mode\": \"markers\", \"name\": \"Senegal\", \"orientation\": \"v\", \"showlegend\": true, \"type\": \"scatter\", \"x\": [57616915772.0], \"xaxis\": \"x\", \"y\": [16743927.0], \"yaxis\": \"y\"}, {\"hovertemplate\": \"country=Serbia<br>gdp_ppp=%{x}<br>population=%{y}<extra></extra>\", \"legendgroup\": \"Serbia\", \"marker\": {\"color\": \"#EF553B\", \"symbol\": \"circle\"}, \"mode\": \"markers\", \"name\": \"Serbia\", \"orientation\": \"v\", \"showlegend\": true, \"type\": \"scatter\", \"x\": [132000000000.0], \"xaxis\": \"x\", \"y\": [8737371.0], \"yaxis\": \"y\"}, {\"hovertemplate\": \"country=Seychelles<br>gdp_ppp=%{x}<br>population=%{y}<extra></extra>\", \"legendgroup\": \"Seychelles\", \"marker\": {\"color\": \"#00cc96\", \"symbol\": \"circle\"}, \"mode\": \"markers\", \"name\": \"Seychelles\", \"orientation\": \"v\", \"showlegend\": true, \"type\": \"scatter\", \"x\": [2954128696.0], \"xaxis\": \"x\", \"y\": [98347.0], \"yaxis\": \"y\"}, {\"hovertemplate\": \"country=Sierra Leone<br>gdp_ppp=%{x}<br>population=%{y}<extra></extra>\", \"legendgroup\": \"Sierra Leone\", \"marker\": {\"color\": \"#ab63fa\", \"symbol\": \"circle\"}, \"mode\": \"markers\", \"name\": \"Sierra Leone\", \"orientation\": \"v\", \"showlegend\": true, \"type\": \"scatter\", \"x\": [13982439173.0], \"xaxis\": \"x\", \"y\": [7976983.0], \"yaxis\": \"y\"}, {\"hovertemplate\": \"country=Slovenia<br>gdp_ppp=%{x}<br>population=%{y}<extra></extra>\", \"legendgroup\": \"Slovenia\", \"marker\": {\"color\": \"#FFA15A\", \"symbol\": \"circle\"}, \"mode\": \"markers\", \"name\": \"Slovenia\", \"orientation\": \"v\", \"showlegend\": true, \"type\": \"scatter\", \"x\": [84888696324.0], \"xaxis\": \"x\", \"y\": [2078938.0], \"yaxis\": \"y\"}, {\"hovertemplate\": \"country=Zimbabwe<br>gdp_ppp=%{x}<br>population=%{y}<extra></extra>\", \"legendgroup\": \"Zimbabwe\", \"marker\": {\"color\": \"#19d3f3\", \"symbol\": \"circle\"}, \"mode\": \"markers\", \"name\": \"Zimbabwe\", \"orientation\": \"v\", \"showlegend\": true, \"type\": \"scatter\", \"x\": [43255157063.0], \"xaxis\": \"x\", \"y\": [14862924.0], \"yaxis\": \"y\"}, {\"hovertemplate\": \"country=Sudan<br>gdp_ppp=%{x}<br>population=%{y}<extra></extra>\", \"legendgroup\": \"Sudan\", \"marker\": {\"color\": \"#FF6692\", \"symbol\": \"circle\"}, \"mode\": \"markers\", \"name\": \"Sudan\", \"orientation\": \"v\", \"showlegend\": true, \"type\": \"scatter\", \"x\": [176000000000.0], \"xaxis\": \"x\", \"y\": [43849260.0], \"yaxis\": \"y\"}, {\"hovertemplate\": \"country=Suriname<br>gdp_ppp=%{x}<br>population=%{y}<extra></extra>\", \"legendgroup\": \"Suriname\", \"marker\": {\"color\": \"#B6E880\", \"symbol\": \"circle\"}, \"mode\": \"markers\", \"name\": \"Suriname\", \"orientation\": \"v\", \"showlegend\": true, \"type\": \"scatter\", \"x\": [9886478960.0], \"xaxis\": \"x\", \"y\": [586632.0], \"yaxis\": \"y\"}, {\"hovertemplate\": \"country=Tajikistan<br>gdp_ppp=%{x}<br>population=%{y}<extra></extra>\", \"legendgroup\": \"Tajikistan\", \"marker\": {\"color\": \"#FF97FF\", \"symbol\": \"circle\"}, \"mode\": \"markers\", \"name\": \"Tajikistan\", \"orientation\": \"v\", \"showlegend\": true, \"type\": \"scatter\", \"x\": [32808324374.0], \"xaxis\": \"x\", \"y\": [9537645.0], \"yaxis\": \"y\"}, {\"hovertemplate\": \"country=Togo<br>gdp_ppp=%{x}<br>population=%{y}<extra></extra>\", \"legendgroup\": \"Togo\", \"marker\": {\"color\": \"#FECB52\", \"symbol\": \"circle\"}, \"mode\": \"markers\", \"name\": \"Togo\", \"orientation\": \"v\", \"showlegend\": true, \"type\": \"scatter\", \"x\": [13433477010.0], \"xaxis\": \"x\", \"y\": [8278724.0], \"yaxis\": \"y\"}, {\"hovertemplate\": \"country=Tunisia<br>gdp_ppp=%{x}<br>population=%{y}<extra></extra>\", \"legendgroup\": \"Tunisia\", \"marker\": {\"color\": \"#636efa\", \"symbol\": \"circle\"}, \"mode\": \"markers\", \"name\": \"Tunisia\", \"orientation\": \"v\", \"showlegend\": true, \"type\": \"scatter\", \"x\": [131000000000.0], \"xaxis\": \"x\", \"y\": [11818619.0], \"yaxis\": \"y\"}, {\"hovertemplate\": \"country=Tuvalu<br>gdp_ppp=%{x}<br>population=%{y}<extra></extra>\", \"legendgroup\": \"Tuvalu\", \"marker\": {\"color\": \"#EF553B\", \"symbol\": \"circle\"}, \"mode\": \"markers\", \"name\": \"Tuvalu\", \"orientation\": \"v\", \"showlegend\": true, \"type\": \"scatter\", \"x\": [52002079.42], \"xaxis\": \"x\", \"y\": [11792.0], \"yaxis\": \"y\"}, {\"hovertemplate\": \"country=Uganda<br>gdp_ppp=%{x}<br>population=%{y}<extra></extra>\", \"legendgroup\": \"Uganda\", \"marker\": {\"color\": \"#00cc96\", \"symbol\": \"circle\"}, \"mode\": \"markers\", \"name\": \"Uganda\", \"orientation\": \"v\", \"showlegend\": true, \"type\": \"scatter\", \"x\": [101000000000.0], \"xaxis\": \"x\", \"y\": [45741007.0], \"yaxis\": \"y\"}, {\"hovertemplate\": \"country=Ukraine<br>gdp_ppp=%{x}<br>population=%{y}<extra></extra>\", \"legendgroup\": \"Ukraine\", \"marker\": {\"color\": \"#ab63fa\", \"symbol\": \"circle\"}, \"mode\": \"markers\", \"name\": \"Ukraine\", \"orientation\": \"v\", \"showlegend\": true, \"type\": \"scatter\", \"x\": [561000000000.0], \"xaxis\": \"x\", \"y\": [43733762.0], \"yaxis\": \"y\"}, {\"hovertemplate\": \"country=Tanzania<br>gdp_ppp=%{x}<br>population=%{y}<extra></extra>\", \"legendgroup\": \"Tanzania\", \"marker\": {\"color\": \"#FFA15A\", \"symbol\": \"circle\"}, \"mode\": \"markers\", \"name\": \"Tanzania\", \"orientation\": \"v\", \"showlegend\": true, \"type\": \"scatter\", \"x\": [156000000000.0], \"xaxis\": \"x\", \"y\": [59734218.0], \"yaxis\": \"y\"}, {\"hovertemplate\": \"country=Burkina Faso<br>gdp_ppp=%{x}<br>population=%{y}<extra></extra>\", \"legendgroup\": \"Burkina Faso\", \"marker\": {\"color\": \"#19d3f3\", \"symbol\": \"circle\"}, \"mode\": \"markers\", \"name\": \"Burkina Faso\", \"orientation\": \"v\", \"showlegend\": true, \"type\": \"scatter\", \"x\": [46340464706.0], \"xaxis\": \"x\", \"y\": [20903273.0], \"yaxis\": \"y\"}, {\"hovertemplate\": \"country=Uruguay<br>gdp_ppp=%{x}<br>population=%{y}<extra></extra>\", \"legendgroup\": \"Uruguay\", \"marker\": {\"color\": \"#FF6692\", \"symbol\": \"circle\"}, \"mode\": \"markers\", \"name\": \"Uruguay\", \"orientation\": \"v\", \"showlegend\": true, \"type\": \"scatter\", \"x\": [77732052861.0], \"xaxis\": \"x\", \"y\": [3473730.0], \"yaxis\": \"y\"}, {\"hovertemplate\": \"country=Uzbekistan<br>gdp_ppp=%{x}<br>population=%{y}<extra></extra>\", \"legendgroup\": \"Uzbekistan\", \"marker\": {\"color\": \"#B6E880\", \"symbol\": \"circle\"}, \"mode\": \"markers\", \"name\": \"Uzbekistan\", \"orientation\": \"v\", \"showlegend\": true, \"type\": \"scatter\", \"x\": [245000000000.0], \"xaxis\": \"x\", \"y\": [33469203.0], \"yaxis\": \"y\"}, {\"hovertemplate\": \"country=Samoa<br>gdp_ppp=%{x}<br>population=%{y}<extra></extra>\", \"legendgroup\": \"Samoa\", \"marker\": {\"color\": \"#FF97FF\", \"symbol\": \"circle\"}, \"mode\": \"markers\", \"name\": \"Samoa\", \"orientation\": \"v\", \"showlegend\": true, \"type\": \"scatter\", \"x\": [1337723243.0], \"xaxis\": \"x\", \"y\": [198414.0], \"yaxis\": \"y\"}, {\"hovertemplate\": \"country=Zambia<br>gdp_ppp=%{x}<br>population=%{y}<extra></extra>\", \"legendgroup\": \"Zambia\", \"marker\": {\"color\": \"#FECB52\", \"symbol\": \"circle\"}, \"mode\": \"markers\", \"name\": \"Zambia\", \"orientation\": \"v\", \"showlegend\": true, \"type\": \"scatter\", \"x\": [64723003601.0], \"xaxis\": \"x\", \"y\": [18383955.0], \"yaxis\": \"y\"}],\n",
       "                        {\"legend\": {\"title\": {\"text\": \"country\"}, \"tracegroupgap\": 0}, \"template\": {\"data\": {\"bar\": [{\"error_x\": {\"color\": \"#2a3f5f\"}, \"error_y\": {\"color\": \"#2a3f5f\"}, \"marker\": {\"line\": {\"color\": \"#E5ECF6\", \"width\": 0.5}}, \"type\": \"bar\"}], \"barpolar\": [{\"marker\": {\"line\": {\"color\": \"#E5ECF6\", \"width\": 0.5}}, \"type\": \"barpolar\"}], \"carpet\": [{\"aaxis\": {\"endlinecolor\": \"#2a3f5f\", \"gridcolor\": \"white\", \"linecolor\": \"white\", \"minorgridcolor\": \"white\", \"startlinecolor\": \"#2a3f5f\"}, \"baxis\": {\"endlinecolor\": \"#2a3f5f\", \"gridcolor\": \"white\", \"linecolor\": \"white\", \"minorgridcolor\": \"white\", \"startlinecolor\": \"#2a3f5f\"}, \"type\": \"carpet\"}], \"choropleth\": [{\"colorbar\": {\"outlinewidth\": 0, \"ticks\": \"\"}, \"type\": \"choropleth\"}], \"contour\": [{\"colorbar\": {\"outlinewidth\": 0, \"ticks\": \"\"}, \"colorscale\": [[0.0, \"#0d0887\"], [0.1111111111111111, \"#46039f\"], [0.2222222222222222, \"#7201a8\"], [0.3333333333333333, \"#9c179e\"], [0.4444444444444444, \"#bd3786\"], [0.5555555555555556, \"#d8576b\"], [0.6666666666666666, \"#ed7953\"], [0.7777777777777778, \"#fb9f3a\"], [0.8888888888888888, \"#fdca26\"], [1.0, \"#f0f921\"]], \"type\": \"contour\"}], \"contourcarpet\": [{\"colorbar\": {\"outlinewidth\": 0, \"ticks\": \"\"}, \"type\": \"contourcarpet\"}], \"heatmap\": [{\"colorbar\": {\"outlinewidth\": 0, \"ticks\": \"\"}, \"colorscale\": [[0.0, \"#0d0887\"], [0.1111111111111111, \"#46039f\"], [0.2222222222222222, \"#7201a8\"], [0.3333333333333333, \"#9c179e\"], [0.4444444444444444, \"#bd3786\"], [0.5555555555555556, \"#d8576b\"], [0.6666666666666666, \"#ed7953\"], [0.7777777777777778, \"#fb9f3a\"], [0.8888888888888888, \"#fdca26\"], [1.0, \"#f0f921\"]], \"type\": \"heatmap\"}], \"heatmapgl\": [{\"colorbar\": {\"outlinewidth\": 0, \"ticks\": \"\"}, \"colorscale\": [[0.0, \"#0d0887\"], [0.1111111111111111, \"#46039f\"], [0.2222222222222222, \"#7201a8\"], [0.3333333333333333, \"#9c179e\"], [0.4444444444444444, \"#bd3786\"], [0.5555555555555556, \"#d8576b\"], [0.6666666666666666, \"#ed7953\"], [0.7777777777777778, \"#fb9f3a\"], [0.8888888888888888, \"#fdca26\"], [1.0, \"#f0f921\"]], \"type\": \"heatmapgl\"}], \"histogram\": [{\"marker\": {\"colorbar\": {\"outlinewidth\": 0, \"ticks\": \"\"}}, \"type\": \"histogram\"}], \"histogram2d\": [{\"colorbar\": {\"outlinewidth\": 0, \"ticks\": \"\"}, \"colorscale\": [[0.0, \"#0d0887\"], [0.1111111111111111, \"#46039f\"], [0.2222222222222222, \"#7201a8\"], [0.3333333333333333, \"#9c179e\"], [0.4444444444444444, \"#bd3786\"], [0.5555555555555556, \"#d8576b\"], [0.6666666666666666, \"#ed7953\"], [0.7777777777777778, \"#fb9f3a\"], [0.8888888888888888, \"#fdca26\"], [1.0, \"#f0f921\"]], \"type\": \"histogram2d\"}], \"histogram2dcontour\": [{\"colorbar\": {\"outlinewidth\": 0, \"ticks\": \"\"}, \"colorscale\": [[0.0, \"#0d0887\"], [0.1111111111111111, \"#46039f\"], [0.2222222222222222, \"#7201a8\"], [0.3333333333333333, \"#9c179e\"], [0.4444444444444444, \"#bd3786\"], [0.5555555555555556, \"#d8576b\"], [0.6666666666666666, \"#ed7953\"], [0.7777777777777778, \"#fb9f3a\"], [0.8888888888888888, \"#fdca26\"], [1.0, \"#f0f921\"]], \"type\": \"histogram2dcontour\"}], \"mesh3d\": [{\"colorbar\": {\"outlinewidth\": 0, \"ticks\": \"\"}, \"type\": \"mesh3d\"}], \"parcoords\": [{\"line\": {\"colorbar\": {\"outlinewidth\": 0, \"ticks\": \"\"}}, \"type\": \"parcoords\"}], \"pie\": [{\"automargin\": true, \"type\": \"pie\"}], \"scatter\": [{\"marker\": {\"colorbar\": {\"outlinewidth\": 0, \"ticks\": \"\"}}, \"type\": \"scatter\"}], \"scatter3d\": [{\"line\": {\"colorbar\": {\"outlinewidth\": 0, \"ticks\": \"\"}}, \"marker\": {\"colorbar\": {\"outlinewidth\": 0, \"ticks\": \"\"}}, \"type\": \"scatter3d\"}], \"scattercarpet\": [{\"marker\": {\"colorbar\": {\"outlinewidth\": 0, \"ticks\": \"\"}}, \"type\": \"scattercarpet\"}], \"scattergeo\": [{\"marker\": {\"colorbar\": {\"outlinewidth\": 0, \"ticks\": \"\"}}, \"type\": \"scattergeo\"}], \"scattergl\": [{\"marker\": {\"colorbar\": {\"outlinewidth\": 0, \"ticks\": \"\"}}, \"type\": \"scattergl\"}], \"scattermapbox\": [{\"marker\": {\"colorbar\": {\"outlinewidth\": 0, \"ticks\": \"\"}}, \"type\": \"scattermapbox\"}], \"scatterpolar\": [{\"marker\": {\"colorbar\": {\"outlinewidth\": 0, \"ticks\": \"\"}}, \"type\": \"scatterpolar\"}], \"scatterpolargl\": [{\"marker\": {\"colorbar\": {\"outlinewidth\": 0, \"ticks\": \"\"}}, \"type\": \"scatterpolargl\"}], \"scatterternary\": [{\"marker\": {\"colorbar\": {\"outlinewidth\": 0, \"ticks\": \"\"}}, \"type\": \"scatterternary\"}], \"surface\": [{\"colorbar\": {\"outlinewidth\": 0, \"ticks\": \"\"}, \"colorscale\": [[0.0, \"#0d0887\"], [0.1111111111111111, \"#46039f\"], [0.2222222222222222, \"#7201a8\"], [0.3333333333333333, \"#9c179e\"], [0.4444444444444444, \"#bd3786\"], [0.5555555555555556, \"#d8576b\"], [0.6666666666666666, \"#ed7953\"], [0.7777777777777778, \"#fb9f3a\"], [0.8888888888888888, \"#fdca26\"], [1.0, \"#f0f921\"]], \"type\": \"surface\"}], \"table\": [{\"cells\": {\"fill\": {\"color\": \"#EBF0F8\"}, \"line\": {\"color\": \"white\"}}, \"header\": {\"fill\": {\"color\": \"#C8D4E3\"}, \"line\": {\"color\": \"white\"}}, \"type\": \"table\"}]}, \"layout\": {\"annotationdefaults\": {\"arrowcolor\": \"#2a3f5f\", \"arrowhead\": 0, \"arrowwidth\": 1}, \"coloraxis\": {\"colorbar\": {\"outlinewidth\": 0, \"ticks\": \"\"}}, \"colorscale\": {\"diverging\": [[0, \"#8e0152\"], [0.1, \"#c51b7d\"], [0.2, \"#de77ae\"], [0.3, \"#f1b6da\"], [0.4, \"#fde0ef\"], [0.5, \"#f7f7f7\"], [0.6, \"#e6f5d0\"], [0.7, \"#b8e186\"], [0.8, \"#7fbc41\"], [0.9, \"#4d9221\"], [1, \"#276419\"]], \"sequential\": [[0.0, \"#0d0887\"], [0.1111111111111111, \"#46039f\"], [0.2222222222222222, \"#7201a8\"], [0.3333333333333333, \"#9c179e\"], [0.4444444444444444, \"#bd3786\"], [0.5555555555555556, \"#d8576b\"], [0.6666666666666666, \"#ed7953\"], [0.7777777777777778, \"#fb9f3a\"], [0.8888888888888888, \"#fdca26\"], [1.0, \"#f0f921\"]], \"sequentialminus\": [[0.0, \"#0d0887\"], [0.1111111111111111, \"#46039f\"], [0.2222222222222222, \"#7201a8\"], [0.3333333333333333, \"#9c179e\"], [0.4444444444444444, \"#bd3786\"], [0.5555555555555556, \"#d8576b\"], [0.6666666666666666, \"#ed7953\"], [0.7777777777777778, \"#fb9f3a\"], [0.8888888888888888, \"#fdca26\"], [1.0, \"#f0f921\"]]}, \"colorway\": [\"#636efa\", \"#EF553B\", \"#00cc96\", \"#ab63fa\", \"#FFA15A\", \"#19d3f3\", \"#FF6692\", \"#B6E880\", \"#FF97FF\", \"#FECB52\"], \"font\": {\"color\": \"#2a3f5f\"}, \"geo\": {\"bgcolor\": \"white\", \"lakecolor\": \"white\", \"landcolor\": \"#E5ECF6\", \"showlakes\": true, \"showland\": true, \"subunitcolor\": \"white\"}, \"hoverlabel\": {\"align\": \"left\"}, \"hovermode\": \"closest\", \"mapbox\": {\"style\": \"light\"}, \"paper_bgcolor\": \"white\", \"plot_bgcolor\": \"#E5ECF6\", \"polar\": {\"angularaxis\": {\"gridcolor\": \"white\", \"linecolor\": \"white\", \"ticks\": \"\"}, \"bgcolor\": \"#E5ECF6\", \"radialaxis\": {\"gridcolor\": \"white\", \"linecolor\": \"white\", \"ticks\": \"\"}}, \"scene\": {\"xaxis\": {\"backgroundcolor\": \"#E5ECF6\", \"gridcolor\": \"white\", \"gridwidth\": 2, \"linecolor\": \"white\", \"showbackground\": true, \"ticks\": \"\", \"zerolinecolor\": \"white\"}, \"yaxis\": {\"backgroundcolor\": \"#E5ECF6\", \"gridcolor\": \"white\", \"gridwidth\": 2, \"linecolor\": \"white\", \"showbackground\": true, \"ticks\": \"\", \"zerolinecolor\": \"white\"}, \"zaxis\": {\"backgroundcolor\": \"#E5ECF6\", \"gridcolor\": \"white\", \"gridwidth\": 2, \"linecolor\": \"white\", \"showbackground\": true, \"ticks\": \"\", \"zerolinecolor\": \"white\"}}, \"shapedefaults\": {\"line\": {\"color\": \"#2a3f5f\"}}, \"ternary\": {\"aaxis\": {\"gridcolor\": \"white\", \"linecolor\": \"white\", \"ticks\": \"\"}, \"baxis\": {\"gridcolor\": \"white\", \"linecolor\": \"white\", \"ticks\": \"\"}, \"bgcolor\": \"#E5ECF6\", \"caxis\": {\"gridcolor\": \"white\", \"linecolor\": \"white\", \"ticks\": \"\"}}, \"title\": {\"x\": 0.05}, \"xaxis\": {\"automargin\": true, \"gridcolor\": \"white\", \"linecolor\": \"white\", \"ticks\": \"\", \"title\": {\"standoff\": 15}, \"zerolinecolor\": \"white\", \"zerolinewidth\": 2}, \"yaxis\": {\"automargin\": true, \"gridcolor\": \"white\", \"linecolor\": \"white\", \"ticks\": \"\", \"title\": {\"standoff\": 15}, \"zerolinecolor\": \"white\", \"zerolinewidth\": 2}}}, \"title\": {\"text\": \"fig.3 Potential Countries For A New Location\", \"x\": 0.5}, \"xaxis\": {\"anchor\": \"y\", \"domain\": [0.0, 1.0], \"title\": {\"text\": \"gdp_ppp\"}, \"type\": \"log\"}, \"yaxis\": {\"anchor\": \"x\", \"domain\": [0.0, 1.0], \"title\": {\"text\": \"population\"}, \"type\": \"log\"}},\n",
       "                        {\"responsive\": true}\n",
       "                    ).then(function(){\n",
       "                            \n",
       "var gd = document.getElementById('e6a04a85-f21e-4af2-b2de-a04453c5130a');\n",
       "var x = new MutationObserver(function (mutations, observer) {{\n",
       "        var display = window.getComputedStyle(gd).display;\n",
       "        if (!display || display === 'none') {{\n",
       "            console.log([gd, 'removed!']);\n",
       "            Plotly.purge(gd);\n",
       "            observer.disconnect();\n",
       "        }}\n",
       "}});\n",
       "\n",
       "// Listen for the removal of the full notebook cells\n",
       "var notebookContainer = gd.closest('#notebook-container');\n",
       "if (notebookContainer) {{\n",
       "    x.observe(notebookContainer, {childList: true});\n",
       "}}\n",
       "\n",
       "// Listen for the clearing of the current output cell\n",
       "var outputEl = gd.closest('.output');\n",
       "if (outputEl) {{\n",
       "    x.observe(outputEl, {childList: true});\n",
       "}}\n",
       "\n",
       "                        })\n",
       "                };\n",
       "                });\n",
       "            </script>\n",
       "        </div>"
      ]
     },
     "metadata": {},
     "output_type": "display_data"
    }
   ],
   "source": [
    "# Create a new datafarme that has countries with no Starbucks stores and higher gdp\n",
    "expand_df=starbucks4\n",
    "\n",
    "\n",
    "#Display the graph\n",
    "fig = px.scatter(expand_df, x='gdp_ppp', y='population', color='country' \n",
    "                 , size_max=20, log_y=True, log_x=True, title='fig.3 Potential Countries For A New Location')\n",
    "\n",
    "fig.update(layout=dict(title=dict(x=0.5)))\n",
    "fig.show()\n"
   ]
  },
  {
   "cell_type": "code",
   "execution_count": null,
   "metadata": {},
   "outputs": [],
   "source": [
    "corr_df =starbucks4[['store_count','population', 'bus_perf', 'coffee_consumption', 'country']]\n",
    "corr_df.corr(method='pearson')"
   ]
  },
  {
   "cell_type": "code",
   "execution_count": 46,
   "metadata": {},
   "outputs": [
    {
     "data": {
      "application/vnd.plotly.v1+json": {
       "config": {
        "plotlyServerURL": "https://plot.ly"
       },
       "data": [
        {
         "hovertemplate": "country=Afghanistan<br>gdp_per_capita=%{x}<br>population=%{y}<br>coffee_consumption=%{marker.size}<extra></extra>",
         "legendgroup": "Afghanistan",
         "marker": {
          "color": "#636efa",
          "size": [
           31
          ],
          "sizemode": "area",
          "sizeref": 1.5802777777777777,
          "symbol": "circle"
         },
         "mode": "markers",
         "name": "Afghanistan",
         "orientation": "v",
         "showlegend": true,
         "type": "scatter",
         "x": [
          2241.31610790759
         ],
         "xaxis": "x",
         "y": [
          38928346
         ],
         "yaxis": "y"
        },
        {
         "hovertemplate": "country=Albania<br>gdp_per_capita=%{x}<br>population=%{y}<br>coffee_consumption=%{marker.size}<extra></extra>",
         "legendgroup": "Albania",
         "marker": {
          "color": "#EF553B",
          "size": [
           101
          ],
          "sizemode": "area",
          "sizeref": 1.5802777777777777,
          "symbol": "circle"
         },
         "mode": "markers",
         "name": "Albania",
         "orientation": "v",
         "showlegend": true,
         "type": "scatter",
         "x": [
          14376.178249890454
         ],
         "xaxis": "x",
         "y": [
          2877797
         ],
         "yaxis": "y"
        },
        {
         "hovertemplate": "country=Algeria<br>gdp_per_capita=%{x}<br>population=%{y}<br>coffee_consumption=%{marker.size}<extra></extra>",
         "legendgroup": "Algeria",
         "marker": {
          "color": "#00cc96",
          "size": [
           1789
          ],
          "sizemode": "area",
          "sizeref": 1.5802777777777777,
          "symbol": "circle"
         },
         "mode": "markers",
         "name": "Algeria",
         "orientation": "v",
         "showlegend": true,
         "type": "scatter",
         "x": [
          11607.477349912126
         ],
         "xaxis": "x",
         "y": [
          43851044
         ],
         "yaxis": "y"
        },
        {
         "hovertemplate": "country=Angola<br>gdp_per_capita=%{x}<br>population=%{y}<br>coffee_consumption=%{marker.size}<extra></extra>",
         "legendgroup": "Angola",
         "marker": {
          "color": "#ab63fa",
          "size": [
           30
          ],
          "sizemode": "area",
          "sizeref": 1.5802777777777777,
          "symbol": "circle"
         },
         "mode": "markers",
         "name": "Angola",
         "orientation": "v",
         "showlegend": true,
         "type": "scatter",
         "x": [
          6724.218676216153
         ],
         "xaxis": "x",
         "y": [
          32866272
         ],
         "yaxis": "y"
        },
        {
         "hovertemplate": "country=Antigua and Barbuda<br>gdp_per_capita=%{x}<br>population=%{y}<br>coffee_consumption=%{marker.size}<extra></extra>",
         "legendgroup": "Antigua and Barbuda",
         "marker": {
          "color": "#FFA15A",
          "size": [
           1
          ],
          "sizemode": "area",
          "sizeref": 1.5802777777777777,
          "symbol": "circle"
         },
         "mode": "markers",
         "name": "Antigua and Barbuda",
         "orientation": "v",
         "showlegend": true,
         "type": "scatter",
         "x": [
          22627.497523716163
         ],
         "xaxis": "x",
         "y": [
          97929
         ],
         "yaxis": "y"
        },
        {
         "hovertemplate": "country=Bangladesh<br>gdp_per_capita=%{x}<br>population=%{y}<br>coffee_consumption=%{marker.size}<extra></extra>",
         "legendgroup": "Bangladesh",
         "marker": {
          "color": "#19d3f3",
          "size": [
           141
          ],
          "sizemode": "area",
          "sizeref": 1.5802777777777777,
          "symbol": "circle"
         },
         "mode": "markers",
         "name": "Bangladesh",
         "orientation": "v",
         "showlegend": true,
         "type": "scatter",
         "x": [
          4900.13372628884
         ],
         "xaxis": "x",
         "y": [
          164689383
         ],
         "yaxis": "y"
        },
        {
         "hovertemplate": "country=Armenia<br>gdp_per_capita=%{x}<br>population=%{y}<br>coffee_consumption=%{marker.size}<extra></extra>",
         "legendgroup": "Armenia",
         "marker": {
          "color": "#FF6692",
          "size": [
           91,
           91
          ],
          "sizemode": "area",
          "sizeref": 1.5802777777777777,
          "symbol": "circle"
         },
         "mode": "markers",
         "name": "Armenia",
         "orientation": "v",
         "showlegend": true,
         "type": "scatter",
         "x": [
          14193.177435330143,
          14193.177435330143
         ],
         "xaxis": "x",
         "y": [
          2963243,
          2963243
         ],
         "yaxis": "y"
        },
        {
         "hovertemplate": "country=Barbados<br>gdp_per_capita=%{x}<br>population=%{y}<br>coffee_consumption=%{marker.size}<extra></extra>",
         "legendgroup": "Barbados",
         "marker": {
          "color": "#B6E880",
          "size": [
           11
          ],
          "sizemode": "area",
          "sizeref": 1.5802777777777777,
          "symbol": "circle"
         },
         "mode": "markers",
         "name": "Barbados",
         "orientation": "v",
         "showlegend": true,
         "type": "scatter",
         "x": [
          16267.143262287951
         ],
         "xaxis": "x",
         "y": [
          287375
         ],
         "yaxis": "y"
        },
        {
         "hovertemplate": "country=Bosnia and Herzegovina<br>gdp_per_capita=%{x}<br>population=%{y}<br>coffee_consumption=%{marker.size}<extra></extra>",
         "legendgroup": "Bosnia and Herzegovina",
         "marker": {
          "color": "#FF97FF",
          "size": [
           357
          ],
          "sizemode": "area",
          "sizeref": 1.5802777777777777,
          "symbol": "circle"
         },
         "mode": "markers",
         "name": "Bosnia and Herzegovina",
         "orientation": "v",
         "showlegend": true,
         "type": "scatter",
         "x": [
          15888.812615081782
         ],
         "xaxis": "x",
         "y": [
          3280819
         ],
         "yaxis": "y"
        },
        {
         "hovertemplate": "country=Botswana<br>gdp_per_capita=%{x}<br>population=%{y}<br>coffee_consumption=%{marker.size}<extra></extra>",
         "legendgroup": "Botswana",
         "marker": {
          "color": "#FECB52",
          "size": [
           31
          ],
          "sizemode": "area",
          "sizeref": 1.5802777777777777,
          "symbol": "circle"
         },
         "mode": "markers",
         "name": "Botswana",
         "orientation": "v",
         "showlegend": true,
         "type": "scatter",
         "x": [
          18125.700560505556
         ],
         "xaxis": "x",
         "y": [
          2351627
         ],
         "yaxis": "y"
        },
        {
         "hovertemplate": "country=Belize<br>gdp_per_capita=%{x}<br>population=%{y}<br>coffee_consumption=%{marker.size}<extra></extra>",
         "legendgroup": "Belize",
         "marker": {
          "color": "#636efa",
          "size": [
           4
          ],
          "sizemode": "area",
          "sizeref": 1.5802777777777777,
          "symbol": "circle"
         },
         "mode": "markers",
         "name": "Belize",
         "orientation": "v",
         "showlegend": true,
         "type": "scatter",
         "x": [
          7161.756639371473
         ],
         "xaxis": "x",
         "y": [
          397628
         ],
         "yaxis": "y"
        },
        {
         "hovertemplate": "country=Myanmar<br>gdp_per_capita=%{x}<br>population=%{y}<br>coffee_consumption=%{marker.size}<extra></extra>",
         "legendgroup": "Myanmar",
         "marker": {
          "color": "#EF553B",
          "size": [
           250
          ],
          "sizemode": "area",
          "sizeref": 1.5802777777777777,
          "symbol": "circle"
         },
         "mode": "markers",
         "name": "Myanmar",
         "orientation": "v",
         "showlegend": true,
         "type": "scatter",
         "x": [
          5311.543141125312
         ],
         "xaxis": "x",
         "y": [
          54409800
         ],
         "yaxis": "y"
        },
        {
         "hovertemplate": "country=Burundi<br>gdp_per_capita=%{x}<br>population=%{y}<br>coffee_consumption=%{marker.size}<extra></extra>",
         "legendgroup": "Burundi",
         "marker": {
          "color": "#00cc96",
          "size": [
           2
          ],
          "sizemode": "area",
          "sizeref": 1.5802777777777777,
          "symbol": "circle"
         },
         "mode": "markers",
         "name": "Burundi",
         "orientation": "v",
         "showlegend": true,
         "type": "scatter",
         "x": [
          759.1029575509907
         ],
         "xaxis": "x",
         "y": [
          11890784
         ],
         "yaxis": "y"
        },
        {
         "hovertemplate": "country=Belarus<br>gdp_per_capita=%{x}<br>population=%{y}<br>coffee_consumption=%{marker.size}<extra></extra>",
         "legendgroup": "Belarus",
         "marker": {
          "color": "#ab63fa",
          "size": [
           153
          ],
          "sizemode": "area",
          "sizeref": 1.5802777777777777,
          "symbol": "circle"
         },
         "mode": "markers",
         "name": "Belarus",
         "orientation": "v",
         "showlegend": true,
         "type": "scatter",
         "x": [
          20001.432906886555
         ],
         "xaxis": "x",
         "y": [
          9449323
         ],
         "yaxis": "y"
        },
        {
         "hovertemplate": "country=Cameroon<br>gdp_per_capita=%{x}<br>population=%{y}<br>coffee_consumption=%{marker.size}<extra></extra>",
         "legendgroup": "Cameroon",
         "marker": {
          "color": "#FFA15A",
          "size": [
           69
          ],
          "sizemode": "area",
          "sizeref": 1.5802777777777777,
          "symbol": "circle"
         },
         "mode": "markers",
         "name": "Cameroon",
         "orientation": "v",
         "showlegend": true,
         "type": "scatter",
         "x": [
          3708.1335474005873
         ],
         "xaxis": "x",
         "y": [
          26545863
         ],
         "yaxis": "y"
        },
        {
         "hovertemplate": "country=Central African Republic<br>gdp_per_capita=%{x}<br>population=%{y}<br>coffee_consumption=%{marker.size}<extra></extra>",
         "legendgroup": "Central African Republic",
         "marker": {
          "color": "#19d3f3",
          "size": [
           9
          ],
          "sizemode": "area",
          "sizeref": 1.5802777777777777,
          "symbol": "circle"
         },
         "mode": "markers",
         "name": "Central African Republic",
         "orientation": "v",
         "showlegend": true,
         "type": "scatter",
         "x": [
          966.795114753983
         ],
         "xaxis": "x",
         "y": [
          4829767
         ],
         "yaxis": "y"
        },
        {
         "hovertemplate": "country=Sri Lanka<br>gdp_per_capita=%{x}<br>population=%{y}<br>coffee_consumption=%{marker.size}<extra></extra>",
         "legendgroup": "Sri Lanka",
         "marker": {
          "color": "#FF6692",
          "size": [
           31
          ],
          "sizemode": "area",
          "sizeref": 1.5802777777777777,
          "symbol": "circle"
         },
         "mode": "markers",
         "name": "Sri Lanka",
         "orientation": "v",
         "showlegend": true,
         "type": "scatter",
         "x": [
          13869.917638374262
         ],
         "xaxis": "x",
         "y": [
          21413249
         ],
         "yaxis": "y"
        },
        {
         "hovertemplate": "country=Chad<br>gdp_per_capita=%{x}<br>population=%{y}<br>coffee_consumption=%{marker.size}<extra></extra>",
         "legendgroup": "Chad",
         "marker": {
          "color": "#B6E880",
          "size": [
           21
          ],
          "sizemode": "area",
          "sizeref": 1.5802777777777777,
          "symbol": "circle"
         },
         "mode": "markers",
         "name": "Chad",
         "orientation": "v",
         "showlegend": true,
         "type": "scatter",
         "x": [
          1597.1222253514336
         ],
         "xaxis": "x",
         "y": [
          16425864
         ],
         "yaxis": "y"
        },
        {
         "hovertemplate": "country=Comoros<br>gdp_per_capita=%{x}<br>population=%{y}<br>coffee_consumption=%{marker.size}<extra></extra>",
         "legendgroup": "Comoros",
         "marker": {
          "color": "#FF97FF",
          "size": [
           7
          ],
          "sizemode": "area",
          "sizeref": 1.5802777777777777,
          "symbol": "circle"
         },
         "mode": "markers",
         "name": "Comoros",
         "orientation": "v",
         "showlegend": true,
         "type": "scatter",
         "x": [
          3140.027267677935
         ],
         "xaxis": "x",
         "y": [
          869601
         ],
         "yaxis": "y"
        },
        {
         "hovertemplate": "country=Croatia<br>gdp_per_capita=%{x}<br>population=%{y}<br>coffee_consumption=%{marker.size}<extra></extra>",
         "legendgroup": "Croatia",
         "marker": {
          "color": "#FECB52",
          "size": [
           367
          ],
          "sizemode": "area",
          "sizeref": 1.5802777777777777,
          "symbol": "circle"
         },
         "mode": "markers",
         "name": "Croatia",
         "orientation": "v",
         "showlegend": true,
         "type": "scatter",
         "x": [
          29717.920905022744
         ],
         "xaxis": "x",
         "y": [
          4105267
         ],
         "yaxis": "y"
        },
        {
         "hovertemplate": "country=Benin<br>gdp_per_capita=%{x}<br>population=%{y}<br>coffee_consumption=%{marker.size}<extra></extra>",
         "legendgroup": "Benin",
         "marker": {
          "color": "#636efa",
          "size": [
           3
          ],
          "sizemode": "area",
          "sizeref": 1.5802777777777777,
          "symbol": "circle"
         },
         "mode": "markers",
         "name": "Benin",
         "orientation": "v",
         "showlegend": true,
         "type": "scatter",
         "x": [
          3332.6061506862875
         ],
         "xaxis": "x",
         "y": [
          12123200
         ],
         "yaxis": "y"
        },
        {
         "hovertemplate": "country=Dominica<br>gdp_per_capita=%{x}<br>population=%{y}<br>coffee_consumption=%{marker.size}<extra></extra>",
         "legendgroup": "Dominica",
         "marker": {
          "color": "#EF553B",
          "size": [
           2
          ],
          "sizemode": "area",
          "sizeref": 1.5802777777777777,
          "symbol": "circle"
         },
         "mode": "markers",
         "name": "Dominica",
         "orientation": "v",
         "showlegend": true,
         "type": "scatter",
         "x": [
          12628.041715055704
         ],
         "xaxis": "x",
         "y": [
          71986
         ],
         "yaxis": "y"
        },
        {
         "hovertemplate": "country=Dominican Republic<br>gdp_per_capita=%{x}<br>population=%{y}<br>coffee_consumption=%{marker.size}<extra></extra>",
         "legendgroup": "Dominican Republic",
         "marker": {
          "color": "#00cc96",
          "size": [
           378
          ],
          "sizemode": "area",
          "sizeref": 1.5802777777777777,
          "symbol": "circle"
         },
         "mode": "markers",
         "name": "Dominican Republic",
         "orientation": "v",
         "showlegend": true,
         "type": "scatter",
         "x": [
          18989.83306461798
         ],
         "xaxis": "x",
         "y": [
          10847910
         ],
         "yaxis": "y"
        },
        {
         "hovertemplate": "country=Ecuador<br>gdp_per_capita=%{x}<br>population=%{y}<br>coffee_consumption=%{marker.size}<extra></extra>",
         "legendgroup": "Ecuador",
         "marker": {
          "color": "#ab63fa",
          "size": [
           150
          ],
          "sizemode": "area",
          "sizeref": 1.5802777777777777,
          "symbol": "circle"
         },
         "mode": "markers",
         "name": "Ecuador",
         "orientation": "v",
         "showlegend": true,
         "type": "scatter",
         "x": [
          11675.98308093372
         ],
         "xaxis": "x",
         "y": [
          17643054
         ],
         "yaxis": "y"
        },
        {
         "hovertemplate": "country=Equatorial Guinea<br>gdp_per_capita=%{x}<br>population=%{y}<br>coffee_consumption=%{marker.size}<extra></extra>",
         "legendgroup": "Equatorial Guinea",
         "marker": {
          "color": "#FFA15A",
          "size": [
           2
          ],
          "sizemode": "area",
          "sizeref": 1.5802777777777777,
          "symbol": "circle"
         },
         "mode": "markers",
         "name": "Equatorial Guinea",
         "orientation": "v",
         "showlegend": true,
         "type": "scatter",
         "x": [
          18679.69292615388
         ],
         "xaxis": "x",
         "y": [
          1402985
         ],
         "yaxis": "y"
        },
        {
         "hovertemplate": "country=Ethiopia<br>gdp_per_capita=%{x}<br>population=%{y}<br>coffee_consumption=%{marker.size}<extra></extra>",
         "legendgroup": "Ethiopia",
         "marker": {
          "color": "#19d3f3",
          "size": [
           3383
          ],
          "sizemode": "area",
          "sizeref": 1.5802777777777777,
          "symbol": "circle"
         },
         "mode": "markers",
         "name": "Ethiopia",
         "orientation": "v",
         "showlegend": true,
         "type": "scatter",
         "x": [
          2252.8872359133397
         ],
         "xaxis": "x",
         "y": [
          114963588
         ],
         "yaxis": "y"
        },
        {
         "hovertemplate": "country=Estonia<br>gdp_per_capita=%{x}<br>population=%{y}<br>coffee_consumption=%{marker.size}<extra></extra>",
         "legendgroup": "Estonia",
         "marker": {
          "color": "#FF6692",
          "size": [
           67
          ],
          "sizemode": "area",
          "sizeref": 1.5802777777777777,
          "symbol": "circle"
         },
         "mode": "markers",
         "name": "Estonia",
         "orientation": "v",
         "showlegend": true,
         "type": "scatter",
         "x": [
          38812.752504834025
         ],
         "xaxis": "x",
         "y": [
          1326535
         ],
         "yaxis": "y"
        },
        {
         "hovertemplate": "country=Fiji<br>gdp_per_capita=%{x}<br>population=%{y}<br>coffee_consumption=%{marker.size}<extra></extra>",
         "legendgroup": "Fiji",
         "marker": {
          "color": "#B6E880",
          "size": [
           7
          ],
          "sizemode": "area",
          "sizeref": 1.5802777777777777,
          "symbol": "circle"
         },
         "mode": "markers",
         "name": "Fiji",
         "orientation": "v",
         "showlegend": true,
         "type": "scatter",
         "x": [
          14323.098746716196
         ],
         "xaxis": "x",
         "y": [
          896445
         ],
         "yaxis": "y"
        },
        {
         "hovertemplate": "country=Djibouti<br>gdp_per_capita=%{x}<br>population=%{y}<br>coffee_consumption=%{marker.size}<extra></extra>",
         "legendgroup": "Djibouti",
         "marker": {
          "color": "#FF97FF",
          "size": [
           41
          ],
          "sizemode": "area",
          "sizeref": 1.5802777777777777,
          "symbol": "circle"
         },
         "mode": "markers",
         "name": "Djibouti",
         "orientation": "v",
         "showlegend": true,
         "type": "scatter",
         "x": [
          5664.070629554656
         ],
         "xaxis": "x",
         "y": [
          988000
         ],
         "yaxis": "y"
        },
        {
         "hovertemplate": "country=Gabon<br>gdp_per_capita=%{x}<br>population=%{y}<br>coffee_consumption=%{marker.size}<extra></extra>",
         "legendgroup": "Gabon",
         "marker": {
          "color": "#FECB52",
          "size": [
           0
          ],
          "sizemode": "area",
          "sizeref": 1.5802777777777777,
          "symbol": "circle"
         },
         "mode": "markers",
         "name": "Gabon",
         "orientation": "v",
         "showlegend": true,
         "type": "scatter",
         "x": [
          15116.229894048436
         ],
         "xaxis": "x",
         "y": [
          2225734
         ],
         "yaxis": "y"
        },
        {
         "hovertemplate": "country=Georgia<br>gdp_per_capita=%{x}<br>population=%{y}<br>coffee_consumption=%{marker.size}<extra></extra>",
         "legendgroup": "Georgia",
         "marker": {
          "color": "#636efa",
          "size": [
           101,
           101
          ],
          "sizemode": "area",
          "sizeref": 1.5802777777777777,
          "symbol": "circle"
         },
         "mode": "markers",
         "name": "Georgia",
         "orientation": "v",
         "showlegend": true,
         "type": "scatter",
         "x": [
          14582.98265101461,
          14582.98265101461
         ],
         "xaxis": "x",
         "y": [
          3989167,
          3989167
         ],
         "yaxis": "y"
        },
        {
         "hovertemplate": "country=Ghana<br>gdp_per_capita=%{x}<br>population=%{y}<br>coffee_consumption=%{marker.size}<extra></extra>",
         "legendgroup": "Ghana",
         "marker": {
          "color": "#EF553B",
          "size": [
           2
          ],
          "sizemode": "area",
          "sizeref": 1.5802777777777777,
          "symbol": "circle"
         },
         "mode": "markers",
         "name": "Ghana",
         "orientation": "v",
         "showlegend": true,
         "type": "scatter",
         "x": [
          5503.180580917029
         ],
         "xaxis": "x",
         "y": [
          31072940
         ],
         "yaxis": "y"
        },
        {
         "hovertemplate": "country=Grenada<br>gdp_per_capita=%{x}<br>population=%{y}<br>coffee_consumption=%{marker.size}<extra></extra>",
         "legendgroup": "Grenada",
         "marker": {
          "color": "#00cc96",
          "size": [
           2
          ],
          "sizemode": "area",
          "sizeref": 1.5802777777777777,
          "symbol": "circle"
         },
         "mode": "markers",
         "name": "Grenada",
         "orientation": "v",
         "showlegend": true,
         "type": "scatter",
         "x": [
          17873.125254392435
         ],
         "xaxis": "x",
         "y": [
          112523
         ],
         "yaxis": "y"
        },
        {
         "hovertemplate": "country=Guinea<br>gdp_per_capita=%{x}<br>population=%{y}<br>coffee_consumption=%{marker.size}<extra></extra>",
         "legendgroup": "Guinea",
         "marker": {
          "color": "#ab63fa",
          "size": [
           50
          ],
          "sizemode": "area",
          "sizeref": 1.5802777777777777,
          "symbol": "circle"
         },
         "mode": "markers",
         "name": "Guinea",
         "orientation": "v",
         "showlegend": true,
         "type": "scatter",
         "x": [
          2596.7947002142346
         ],
         "xaxis": "x",
         "y": [
          13132795
         ],
         "yaxis": "y"
        },
        {
         "hovertemplate": "country=Guyana<br>gdp_per_capita=%{x}<br>population=%{y}<br>coffee_consumption=%{marker.size}<extra></extra>",
         "legendgroup": "Guyana",
         "marker": {
          "color": "#FFA15A",
          "size": [
           17
          ],
          "sizemode": "area",
          "sizeref": 1.5802777777777777,
          "symbol": "circle"
         },
         "mode": "markers",
         "name": "Guyana",
         "orientation": "v",
         "showlegend": true,
         "type": "scatter",
         "x": [
          10056.063086738068
         ],
         "xaxis": "x",
         "y": [
          786552
         ],
         "yaxis": "y"
        },
        {
         "hovertemplate": "country=Haiti<br>gdp_per_capita=%{x}<br>population=%{y}<br>coffee_consumption=%{marker.size}<extra></extra>",
         "legendgroup": "Haiti",
         "marker": {
          "color": "#19d3f3",
          "size": [
           31
          ],
          "sizemode": "area",
          "sizeref": 1.5802777777777777,
          "symbol": "circle"
         },
         "mode": "markers",
         "name": "Haiti",
         "orientation": "v",
         "showlegend": true,
         "type": "scatter",
         "x": [
          1778.5439594623228
         ],
         "xaxis": "x",
         "y": [
          11402528
         ],
         "yaxis": "y"
        },
        {
         "hovertemplate": "country=Honduras<br>gdp_per_capita=%{x}<br>population=%{y}<br>coffee_consumption=%{marker.size}<extra></extra>",
         "legendgroup": "Honduras",
         "marker": {
          "color": "#FF6692",
          "size": [
           460
          ],
          "sizemode": "area",
          "sizeref": 1.5802777777777777,
          "symbol": "circle"
         },
         "mode": "markers",
         "name": "Honduras",
         "orientation": "v",
         "showlegend": true,
         "type": "scatter",
         "x": [
          5869.913107910289
         ],
         "xaxis": "x",
         "y": [
          9904607
         ],
         "yaxis": "y"
        },
        {
         "hovertemplate": "country=Iceland<br>gdp_per_capita=%{x}<br>population=%{y}<br>coffee_consumption=%{marker.size}<extra></extra>",
         "legendgroup": "Iceland",
         "marker": {
          "color": "#B6E880",
          "size": [
           42
          ],
          "sizemode": "area",
          "sizeref": 1.5802777777777777,
          "symbol": "circle"
         },
         "mode": "markers",
         "name": "Iceland",
         "orientation": "v",
         "showlegend": true,
         "type": "scatter",
         "x": [
          63593.84365979669
         ],
         "xaxis": "x",
         "y": [
          341243
         ],
         "yaxis": "y"
        },
        {
         "hovertemplate": "country=Iraq<br>gdp_per_capita=%{x}<br>population=%{y}<br>coffee_consumption=%{marker.size}<extra></extra>",
         "legendgroup": "Iraq",
         "marker": {
          "color": "#FF97FF",
          "size": [
           491
          ],
          "sizemode": "area",
          "sizeref": 1.5802777777777777,
          "symbol": "circle"
         },
         "mode": "markers",
         "name": "Iraq",
         "orientation": "v",
         "showlegend": true,
         "type": "scatter",
         "x": [
          11063.461431890857
         ],
         "xaxis": "x",
         "y": [
          40222493
         ],
         "yaxis": "y"
        },
        {
         "hovertemplate": "country=Israel<br>gdp_per_capita=%{x}<br>population=%{y}<br>coffee_consumption=%{marker.size}<extra></extra>",
         "legendgroup": "Israel",
         "marker": {
          "color": "#FECB52",
          "size": [
           439
          ],
          "sizemode": "area",
          "sizeref": 1.5802777777777777,
          "symbol": "circle"
         },
         "mode": "markers",
         "name": "Israel",
         "orientation": "v",
         "showlegend": true,
         "type": "scatter",
         "x": [
          44133.60930317999
         ],
         "xaxis": "x",
         "y": [
          8655535
         ],
         "yaxis": "y"
        },
        {
         "hovertemplate": "country=Italy<br>gdp_per_capita=%{x}<br>population=%{y}<br>coffee_consumption=%{marker.size}<extra></extra>",
         "legendgroup": "Italy",
         "marker": {
          "color": "#636efa",
          "size": [
           5689
          ],
          "sizemode": "area",
          "sizeref": 1.5802777777777777,
          "symbol": "circle"
         },
         "mode": "markers",
         "name": "Italy",
         "orientation": "v",
         "showlegend": true,
         "type": "scatter",
         "x": [
          43994.70171476462
         ],
         "xaxis": "x",
         "y": [
          60461826
         ],
         "yaxis": "y"
        },
        {
         "hovertemplate": "country=Jamaica<br>gdp_per_capita=%{x}<br>population=%{y}<br>coffee_consumption=%{marker.size}<extra></extra>",
         "legendgroup": "Jamaica",
         "marker": {
          "color": "#EF553B",
          "size": [
           9
          ],
          "sizemode": "area",
          "sizeref": 1.5802777777777777,
          "symbol": "circle"
         },
         "mode": "markers",
         "name": "Jamaica",
         "orientation": "v",
         "showlegend": true,
         "type": "scatter",
         "x": [
          10121.816632766744
         ],
         "xaxis": "x",
         "y": [
          2961167
         ],
         "yaxis": "y"
        },
        {
         "hovertemplate": "country=Kenya<br>gdp_per_capita=%{x}<br>population=%{y}<br>coffee_consumption=%{marker.size}<extra></extra>",
         "legendgroup": "Kenya",
         "marker": {
          "color": "#00cc96",
          "size": [
           50
          ],
          "sizemode": "area",
          "sizeref": 1.5802777777777777,
          "symbol": "circle"
         },
         "mode": "markers",
         "name": "Kenya",
         "orientation": "v",
         "showlegend": true,
         "type": "scatter",
         "x": [
          4407.556031381501
         ],
         "xaxis": "x",
         "y": [
          53771296
         ],
         "yaxis": "y"
        },
        {
         "hovertemplate": "country=Lesotho<br>gdp_per_capita=%{x}<br>population=%{y}<br>coffee_consumption=%{marker.size}<extra></extra>",
         "legendgroup": "Lesotho",
         "marker": {
          "color": "#ab63fa",
          "size": [
           6
          ],
          "sizemode": "area",
          "sizeref": 1.5802777777777777,
          "symbol": "circle"
         },
         "mode": "markers",
         "name": "Lesotho",
         "orientation": "v",
         "showlegend": true,
         "type": "scatter",
         "x": [
          2859.573760099783
         ],
         "xaxis": "x",
         "y": [
          2142249
         ],
         "yaxis": "y"
        },
        {
         "hovertemplate": "country=Latvia<br>gdp_per_capita=%{x}<br>population=%{y}<br>coffee_consumption=%{marker.size}<extra></extra>",
         "legendgroup": "Latvia",
         "marker": {
          "color": "#FFA15A",
          "size": [
           101
          ],
          "sizemode": "area",
          "sizeref": 1.5802777777777777,
          "symbol": "circle"
         },
         "mode": "markers",
         "name": "Latvia",
         "orientation": "v",
         "showlegend": true,
         "type": "scatter",
         "x": [
          32658.46570773588
         ],
         "xaxis": "x",
         "y": [
          1886198
         ],
         "yaxis": "y"
        },
        {
         "hovertemplate": "country=Liberia<br>gdp_per_capita=%{x}<br>population=%{y}<br>coffee_consumption=%{marker.size}<extra></extra>",
         "legendgroup": "Liberia",
         "marker": {
          "color": "#19d3f3",
          "size": [
           5
          ],
          "sizemode": "area",
          "sizeref": 1.5802777777777777,
          "symbol": "circle"
         },
         "mode": "markers",
         "name": "Liberia",
         "orientation": "v",
         "showlegend": true,
         "type": "scatter",
         "x": [
          1451.623767493442
         ],
         "xaxis": "x",
         "y": [
          5057681
         ],
         "yaxis": "y"
        },
        {
         "hovertemplate": "country=Lithuania<br>gdp_per_capita=%{x}<br>population=%{y}<br>coffee_consumption=%{marker.size}<extra></extra>",
         "legendgroup": "Lithuania",
         "marker": {
          "color": "#FF6692",
          "size": [
           180
          ],
          "sizemode": "area",
          "sizeref": 1.5802777777777777,
          "symbol": "circle"
         },
         "mode": "markers",
         "name": "Lithuania",
         "orientation": "v",
         "showlegend": true,
         "type": "scatter",
         "x": [
          38937.82034163162
         ],
         "xaxis": "x",
         "y": [
          2722289
         ],
         "yaxis": "y"
        },
        {
         "hovertemplate": "country=Madagascar<br>gdp_per_capita=%{x}<br>population=%{y}<br>coffee_consumption=%{marker.size}<extra></extra>",
         "legendgroup": "Madagascar",
         "marker": {
          "color": "#B6E880",
          "size": [
           467
          ],
          "sizemode": "area",
          "sizeref": 1.5802777777777777,
          "symbol": "circle"
         },
         "mode": "markers",
         "name": "Madagascar",
         "orientation": "v",
         "showlegend": true,
         "type": "scatter",
         "x": [
          1669.7638100195522
         ],
         "xaxis": "x",
         "y": [
          27691018
         ],
         "yaxis": "y"
        },
        {
         "hovertemplate": "country=Malawi<br>gdp_per_capita=%{x}<br>population=%{y}<br>coffee_consumption=%{marker.size}<extra></extra>",
         "legendgroup": "Malawi",
         "marker": {
          "color": "#FF97FF",
          "size": [
           1
          ],
          "sizemode": "area",
          "sizeref": 1.5802777777777777,
          "symbol": "circle"
         },
         "mode": "markers",
         "name": "Malawi",
         "orientation": "v",
         "showlegend": true,
         "type": "scatter",
         "x": [
          1074.7281382096514
         ],
         "xaxis": "x",
         "y": [
          19129952
         ],
         "yaxis": "y"
        },
        {
         "hovertemplate": "country=Maldives<br>gdp_per_capita=%{x}<br>population=%{y}<br>coffee_consumption=%{marker.size}<extra></extra>",
         "legendgroup": "Maldives",
         "marker": {
          "color": "#FECB52",
          "size": [
           8
          ],
          "sizemode": "area",
          "sizeref": 1.5802777777777777,
          "symbol": "circle"
         },
         "mode": "markers",
         "name": "Maldives",
         "orientation": "v",
         "showlegend": true,
         "type": "scatter",
         "x": [
          19348.72529895809
         ],
         "xaxis": "x",
         "y": [
          540544
         ],
         "yaxis": "y"
        },
        {
         "hovertemplate": "country=Mali<br>gdp_per_capita=%{x}<br>population=%{y}<br>coffee_consumption=%{marker.size}<extra></extra>",
         "legendgroup": "Mali",
         "marker": {
          "color": "#636efa",
          "size": [
           31
          ],
          "sizemode": "area",
          "sizeref": 1.5802777777777777,
          "symbol": "circle"
         },
         "mode": "markers",
         "name": "Mali",
         "orientation": "v",
         "showlegend": true,
         "type": "scatter",
         "x": [
          2352.876101096681
         ],
         "xaxis": "x",
         "y": [
          20250833
         ],
         "yaxis": "y"
        },
        {
         "hovertemplate": "country=Malta<br>gdp_per_capita=%{x}<br>population=%{y}<br>coffee_consumption=%{marker.size}<extra></extra>",
         "legendgroup": "Malta",
         "marker": {
          "color": "#EF553B",
          "size": [
           21
          ],
          "sizemode": "area",
          "sizeref": 1.5802777777777777,
          "symbol": "circle"
         },
         "mode": "markers",
         "name": "Malta",
         "orientation": "v",
         "showlegend": true,
         "type": "scatter",
         "x": [
          51969.79938533733
         ],
         "xaxis": "x",
         "y": [
          441543
         ],
         "yaxis": "y"
        },
        {
         "hovertemplate": "country=Mauritania<br>gdp_per_capita=%{x}<br>population=%{y}<br>coffee_consumption=%{marker.size}<extra></extra>",
         "legendgroup": "Mauritania",
         "marker": {
          "color": "#00cc96",
          "size": [
           9
          ],
          "sizemode": "area",
          "sizeref": 1.5802777777777777,
          "symbol": "circle"
         },
         "mode": "markers",
         "name": "Mauritania",
         "orientation": "v",
         "showlegend": true,
         "type": "scatter",
         "x": [
          5268.121601631776
         ],
         "xaxis": "x",
         "y": [
          4649658
         ],
         "yaxis": "y"
        },
        {
         "hovertemplate": "country=Mauritius<br>gdp_per_capita=%{x}<br>population=%{y}<br>coffee_consumption=%{marker.size}<extra></extra>",
         "legendgroup": "Mauritius",
         "marker": {
          "color": "#ab63fa",
          "size": [
           11
          ],
          "sizemode": "area",
          "sizeref": 1.5802777777777777,
          "symbol": "circle"
         },
         "mode": "markers",
         "name": "Mauritius",
         "orientation": "v",
         "showlegend": true,
         "type": "scatter",
         "x": [
          23828.104148712657
         ],
         "xaxis": "x",
         "y": [
          1271768
         ],
         "yaxis": "y"
        },
        {
         "hovertemplate": "country=Mongolia<br>gdp_per_capita=%{x}<br>population=%{y}<br>coffee_consumption=%{marker.size}<extra></extra>",
         "legendgroup": "Mongolia",
         "marker": {
          "color": "#FFA15A",
          "size": [
           16
          ],
          "sizemode": "area",
          "sizeref": 1.5802777777777777,
          "symbol": "circle"
         },
         "mode": "markers",
         "name": "Mongolia",
         "orientation": "v",
         "showlegend": true,
         "type": "scatter",
         "x": [
          12612.207919982673
         ],
         "xaxis": "x",
         "y": [
          3278290
         ],
         "yaxis": "y"
        },
        {
         "hovertemplate": "country=Moldova<br>gdp_per_capita=%{x}<br>population=%{y}<br>coffee_consumption=%{marker.size}<extra></extra>",
         "legendgroup": "Moldova",
         "marker": {
          "color": "#19d3f3",
          "size": [
           111
          ],
          "sizemode": "area",
          "sizeref": 1.5802777777777777,
          "symbol": "circle"
         },
         "mode": "markers",
         "name": "Moldova",
         "orientation": "v",
         "showlegend": true,
         "type": "scatter",
         "x": [
          8942.794298063716
         ],
         "xaxis": "x",
         "y": [
          4033963
         ],
         "yaxis": "y"
        },
        {
         "hovertemplate": "country=Montenegro<br>gdp_per_capita=%{x}<br>population=%{y}<br>coffee_consumption=%{marker.size}<extra></extra>",
         "legendgroup": "Montenegro",
         "marker": {
          "color": "#FF6692",
          "size": [
           21
          ],
          "sizemode": "area",
          "sizeref": 1.5802777777777777,
          "symbol": "circle"
         },
         "mode": "markers",
         "name": "Montenegro",
         "orientation": "v",
         "showlegend": true,
         "type": "scatter",
         "x": [
          22771.664973107923
         ],
         "xaxis": "x",
         "y": [
          628066
         ],
         "yaxis": "y"
        },
        {
         "hovertemplate": "country=Mozambique<br>gdp_per_capita=%{x}<br>population=%{y}<br>coffee_consumption=%{marker.size}<extra></extra>",
         "legendgroup": "Mozambique",
         "marker": {
          "color": "#B6E880",
          "size": [
           161
          ],
          "sizemode": "area",
          "sizeref": 1.5802777777777777,
          "symbol": "circle"
         },
         "mode": "markers",
         "name": "Mozambique",
         "orientation": "v",
         "showlegend": true,
         "type": "scatter",
         "x": [
          1295.5718153018827
         ],
         "xaxis": "x",
         "y": [
          31255435
         ],
         "yaxis": "y"
        },
        {
         "hovertemplate": "country=Namibia<br>gdp_per_capita=%{x}<br>population=%{y}<br>coffee_consumption=%{marker.size}<extra></extra>",
         "legendgroup": "Namibia",
         "marker": {
          "color": "#FF97FF",
          "size": [
           21
          ],
          "sizemode": "area",
          "sizeref": 1.5802777777777777,
          "symbol": "circle"
         },
         "mode": "markers",
         "name": "Namibia",
         "orientation": "v",
         "showlegend": true,
         "type": "scatter",
         "x": [
          9853.410884704466
         ],
         "xaxis": "x",
         "y": [
          2540905
         ],
         "yaxis": "y"
        },
        {
         "hovertemplate": "country=Nepal<br>gdp_per_capita=%{x}<br>population=%{y}<br>coffee_consumption=%{marker.size}<extra></extra>",
         "legendgroup": "Nepal",
         "marker": {
          "color": "#FECB52",
          "size": [
           16
          ],
          "sizemode": "area",
          "sizeref": 1.5802777777777777,
          "symbol": "circle"
         },
         "mode": "markers",
         "name": "Nepal",
         "orientation": "v",
         "showlegend": true,
         "type": "scatter",
         "x": [
          3500.7266410239586
         ],
         "xaxis": "x",
         "y": [
          29136808
         ],
         "yaxis": "y"
        },
        {
         "hovertemplate": "country=Nicaragua<br>gdp_per_capita=%{x}<br>population=%{y}<br>coffee_consumption=%{marker.size}<extra></extra>",
         "legendgroup": "Nicaragua",
         "marker": {
          "color": "#636efa",
          "size": [
           200
          ],
          "sizemode": "area",
          "sizeref": 1.5802777777777777,
          "symbol": "circle"
         },
         "mode": "markers",
         "name": "Nicaragua",
         "orientation": "v",
         "showlegend": true,
         "type": "scatter",
         "x": [
          5564.00342709864
         ],
         "xaxis": "x",
         "y": [
          6624554
         ],
         "yaxis": "y"
        },
        {
         "hovertemplate": "country=Niger<br>gdp_per_capita=%{x}<br>population=%{y}<br>coffee_consumption=%{marker.size}<extra></extra>",
         "legendgroup": "Niger",
         "marker": {
          "color": "#EF553B",
          "size": [
           11
          ],
          "sizemode": "area",
          "sizeref": 1.5802777777777777,
          "symbol": "circle"
         },
         "mode": "markers",
         "name": "Niger",
         "orientation": "v",
         "showlegend": true,
         "type": "scatter",
         "x": [
          1222.6112956426343
         ],
         "xaxis": "x",
         "y": [
          24206644
         ],
         "yaxis": "y"
        },
        {
         "hovertemplate": "country=Nigeria<br>gdp_per_capita=%{x}<br>population=%{y}<br>coffee_consumption=%{marker.size}<extra></extra>",
         "legendgroup": "Nigeria",
         "marker": {
          "color": "#00cc96",
          "size": [
           41
          ],
          "sizemode": "area",
          "sizeref": 1.5802777777777777,
          "symbol": "circle"
         },
         "mode": "markers",
         "name": "Nigeria",
         "orientation": "v",
         "showlegend": true,
         "type": "scatter",
         "x": [
          5190.657482100636
         ],
         "xaxis": "x",
         "y": [
          206139589
         ],
         "yaxis": "y"
        },
        {
         "hovertemplate": "country=Pakistan<br>gdp_per_capita=%{x}<br>population=%{y}<br>coffee_consumption=%{marker.size}<extra></extra>",
         "legendgroup": "Pakistan",
         "marker": {
          "color": "#ab63fa",
          "size": [
           311
          ],
          "sizemode": "area",
          "sizeref": 1.5802777777777777,
          "symbol": "circle"
         },
         "mode": "markers",
         "name": "Pakistan",
         "orientation": "v",
         "showlegend": true,
         "type": "scatter",
         "x": [
          4798.717782608487
         ],
         "xaxis": "x",
         "y": [
          220892340
         ],
         "yaxis": "y"
        },
        {
         "hovertemplate": "country=Papua New Guinea<br>gdp_per_capita=%{x}<br>population=%{y}<br>coffee_consumption=%{marker.size}<extra></extra>",
         "legendgroup": "Papua New Guinea",
         "marker": {
          "color": "#FFA15A",
          "size": [
           2
          ],
          "sizemode": "area",
          "sizeref": 1.5802777777777777,
          "symbol": "circle"
         },
         "mode": "markers",
         "name": "Papua New Guinea",
         "orientation": "v",
         "showlegend": true,
         "type": "scatter",
         "x": [
          4482.15604887167
         ],
         "xaxis": "x",
         "y": [
          8947024
         ],
         "yaxis": "y"
        },
        {
         "hovertemplate": "country=Paraguay<br>gdp_per_capita=%{x}<br>population=%{y}<br>coffee_consumption=%{marker.size}<extra></extra>",
         "legendgroup": "Paraguay",
         "marker": {
          "color": "#19d3f3",
          "size": [
           20
          ],
          "sizemode": "area",
          "sizeref": 1.5802777777777777,
          "symbol": "circle"
         },
         "mode": "markers",
         "name": "Paraguay",
         "orientation": "v",
         "showlegend": true,
         "type": "scatter",
         "x": [
          13047.502962479835
         ],
         "xaxis": "x",
         "y": [
          7132538
         ],
         "yaxis": "y"
        },
        {
         "hovertemplate": "country=Rwanda<br>gdp_per_capita=%{x}<br>population=%{y}<br>coffee_consumption=%{marker.size}<extra></extra>",
         "legendgroup": "Rwanda",
         "marker": {
          "color": "#FF6692",
          "size": [
           1
          ],
          "sizemode": "area",
          "sizeref": 1.5802777777777777,
          "symbol": "circle"
         },
         "mode": "markers",
         "name": "Rwanda",
         "orientation": "v",
         "showlegend": true,
         "type": "scatter",
         "x": [
          2260.2622736893404
         ],
         "xaxis": "x",
         "y": [
          12952218
         ],
         "yaxis": "y"
        },
        {
         "hovertemplate": "country=Senegal<br>gdp_per_capita=%{x}<br>population=%{y}<br>coffee_consumption=%{marker.size}<extra></extra>",
         "legendgroup": "Senegal",
         "marker": {
          "color": "#B6E880",
          "size": [
           11
          ],
          "sizemode": "area",
          "sizeref": 1.5802777777777777,
          "symbol": "circle"
         },
         "mode": "markers",
         "name": "Senegal",
         "orientation": "v",
         "showlegend": true,
         "type": "scatter",
         "x": [
          3441.063483614089
         ],
         "xaxis": "x",
         "y": [
          16743927
         ],
         "yaxis": "y"
        },
        {
         "hovertemplate": "country=Serbia<br>gdp_per_capita=%{x}<br>population=%{y}<br>coffee_consumption=%{marker.size}<extra></extra>",
         "legendgroup": "Serbia",
         "marker": {
          "color": "#FF97FF",
          "size": [
           545
          ],
          "sizemode": "area",
          "sizeref": 1.5802777777777777,
          "symbol": "circle"
         },
         "mode": "markers",
         "name": "Serbia",
         "orientation": "v",
         "showlegend": true,
         "type": "scatter",
         "x": [
          15107.519183974218
         ],
         "xaxis": "x",
         "y": [
          8737371
         ],
         "yaxis": "y"
        },
        {
         "hovertemplate": "country=Seychelles<br>gdp_per_capita=%{x}<br>population=%{y}<br>coffee_consumption=%{marker.size}<extra></extra>",
         "legendgroup": "Seychelles",
         "marker": {
          "color": "#FECB52",
          "size": [
           2
          ],
          "sizemode": "area",
          "sizeref": 1.5802777777777777,
          "symbol": "circle"
         },
         "mode": "markers",
         "name": "Seychelles",
         "orientation": "v",
         "showlegend": true,
         "type": "scatter",
         "x": [
          30037.81199223159
         ],
         "xaxis": "x",
         "y": [
          98347
         ],
         "yaxis": "y"
        },
        {
         "hovertemplate": "country=Sierra Leone<br>gdp_per_capita=%{x}<br>population=%{y}<br>coffee_consumption=%{marker.size}<extra></extra>",
         "legendgroup": "Sierra Leone",
         "marker": {
          "color": "#636efa",
          "size": [
           5
          ],
          "sizemode": "area",
          "sizeref": 1.5802777777777777,
          "symbol": "circle"
         },
         "mode": "markers",
         "name": "Sierra Leone",
         "orientation": "v",
         "showlegend": true,
         "type": "scatter",
         "x": [
          1752.8480595984722
         ],
         "xaxis": "x",
         "y": [
          7976983
         ],
         "yaxis": "y"
        },
        {
         "hovertemplate": "country=Slovenia<br>gdp_per_capita=%{x}<br>population=%{y}<br>coffee_consumption=%{marker.size}<extra></extra>",
         "legendgroup": "Slovenia",
         "marker": {
          "color": "#EF553B",
          "size": [
           208
          ],
          "sizemode": "area",
          "sizeref": 1.5802777777777777,
          "symbol": "circle"
         },
         "mode": "markers",
         "name": "Slovenia",
         "orientation": "v",
         "showlegend": true,
         "type": "scatter",
         "x": [
          40832.7214779854
         ],
         "xaxis": "x",
         "y": [
          2078938
         ],
         "yaxis": "y"
        },
        {
         "hovertemplate": "country=Zimbabwe<br>gdp_per_capita=%{x}<br>population=%{y}<br>coffee_consumption=%{marker.size}<extra></extra>",
         "legendgroup": "Zimbabwe",
         "marker": {
          "color": "#00cc96",
          "size": [
           4
          ],
          "sizemode": "area",
          "sizeref": 1.5802777777777777,
          "symbol": "circle"
         },
         "mode": "markers",
         "name": "Zimbabwe",
         "orientation": "v",
         "showlegend": true,
         "type": "scatter",
         "x": [
          2910.2723705645
         ],
         "xaxis": "x",
         "y": [
          14862924
         ],
         "yaxis": "y"
        },
        {
         "hovertemplate": "country=Sudan<br>gdp_per_capita=%{x}<br>population=%{y}<br>coffee_consumption=%{marker.size}<extra></extra>",
         "legendgroup": "Sudan",
         "marker": {
          "color": "#ab63fa",
          "size": [
           71
          ],
          "sizemode": "area",
          "sizeref": 1.5802777777777777,
          "symbol": "circle"
         },
         "mode": "markers",
         "name": "Sudan",
         "orientation": "v",
         "showlegend": true,
         "type": "scatter",
         "x": [
          4013.750745166509
         ],
         "xaxis": "x",
         "y": [
          43849260
         ],
         "yaxis": "y"
        },
        {
         "hovertemplate": "country=Suriname<br>gdp_per_capita=%{x}<br>population=%{y}<br>coffee_consumption=%{marker.size}<extra></extra>",
         "legendgroup": "Suriname",
         "marker": {
          "color": "#FFA15A",
          "size": [
           7
          ],
          "sizemode": "area",
          "sizeref": 1.5802777777777777,
          "symbol": "circle"
         },
         "mode": "markers",
         "name": "Suriname",
         "orientation": "v",
         "showlegend": true,
         "type": "scatter",
         "x": [
          16852.94862878261
         ],
         "xaxis": "x",
         "y": [
          586632
         ],
         "yaxis": "y"
        },
        {
         "hovertemplate": "country=Tajikistan<br>gdp_per_capita=%{x}<br>population=%{y}<br>coffee_consumption=%{marker.size}<extra></extra>",
         "legendgroup": "Tajikistan",
         "marker": {
          "color": "#19d3f3",
          "size": [
           51
          ],
          "sizemode": "area",
          "sizeref": 1.5802777777777777,
          "symbol": "circle"
         },
         "mode": "markers",
         "name": "Tajikistan",
         "orientation": "v",
         "showlegend": true,
         "type": "scatter",
         "x": [
          3439.876864152524
         ],
         "xaxis": "x",
         "y": [
          9537645
         ],
         "yaxis": "y"
        },
        {
         "hovertemplate": "country=Togo<br>gdp_per_capita=%{x}<br>population=%{y}<br>coffee_consumption=%{marker.size}<extra></extra>",
         "legendgroup": "Togo",
         "marker": {
          "color": "#FF6692",
          "size": [
           4
          ],
          "sizemode": "area",
          "sizeref": 1.5802777777777777,
          "symbol": "circle"
         },
         "mode": "markers",
         "name": "Togo",
         "orientation": "v",
         "showlegend": true,
         "type": "scatter",
         "x": [
          1622.6506657306127
         ],
         "xaxis": "x",
         "y": [
          8278724
         ],
         "yaxis": "y"
        },
        {
         "hovertemplate": "country=Tunisia<br>gdp_per_capita=%{x}<br>population=%{y}<br>coffee_consumption=%{marker.size}<extra></extra>",
         "legendgroup": "Tunisia",
         "marker": {
          "color": "#B6E880",
          "size": [
           340
          ],
          "sizemode": "area",
          "sizeref": 1.5802777777777777,
          "symbol": "circle"
         },
         "mode": "markers",
         "name": "Tunisia",
         "orientation": "v",
         "showlegend": true,
         "type": "scatter",
         "x": [
          11084.205354280395
         ],
         "xaxis": "x",
         "y": [
          11818619
         ],
         "yaxis": "y"
        },
        {
         "hovertemplate": "country=Uganda<br>gdp_per_capita=%{x}<br>population=%{y}<br>coffee_consumption=%{marker.size}<extra></extra>",
         "legendgroup": "Uganda",
         "marker": {
          "color": "#FF97FF",
          "size": [
           140
          ],
          "sizemode": "area",
          "sizeref": 1.5802777777777777,
          "symbol": "circle"
         },
         "mode": "markers",
         "name": "Uganda",
         "orientation": "v",
         "showlegend": true,
         "type": "scatter",
         "x": [
          2208.0843126169043
         ],
         "xaxis": "x",
         "y": [
          45741007
         ],
         "yaxis": "y"
        },
        {
         "hovertemplate": "country=Ukraine<br>gdp_per_capita=%{x}<br>population=%{y}<br>coffee_consumption=%{marker.size}<extra></extra>",
         "legendgroup": "Ukraine",
         "marker": {
          "color": "#FECB52",
          "size": [
           1324
          ],
          "sizemode": "area",
          "sizeref": 1.5802777777777777,
          "symbol": "circle"
         },
         "mode": "markers",
         "name": "Ukraine",
         "orientation": "v",
         "showlegend": true,
         "type": "scatter",
         "x": [
          12827.61816831582
         ],
         "xaxis": "x",
         "y": [
          43733762
         ],
         "yaxis": "y"
        },
        {
         "hovertemplate": "country=Tanzania<br>gdp_per_capita=%{x}<br>population=%{y}<br>coffee_consumption=%{marker.size}<extra></extra>",
         "legendgroup": "Tanzania",
         "marker": {
          "color": "#636efa",
          "size": [
           47
          ],
          "sizemode": "area",
          "sizeref": 1.5802777777777777,
          "symbol": "circle"
         },
         "mode": "markers",
         "name": "Tanzania",
         "orientation": "v",
         "showlegend": true,
         "type": "scatter",
         "x": [
          2611.5684648286515
         ],
         "xaxis": "x",
         "y": [
          59734218
         ],
         "yaxis": "y"
        },
        {
         "hovertemplate": "country=Burkina Faso<br>gdp_per_capita=%{x}<br>population=%{y}<br>coffee_consumption=%{marker.size}<extra></extra>",
         "legendgroup": "Burkina Faso",
         "marker": {
          "color": "#EF553B",
          "size": [
           11
          ],
          "sizemode": "area",
          "sizeref": 1.5802777777777777,
          "symbol": "circle"
         },
         "mode": "markers",
         "name": "Burkina Faso",
         "orientation": "v",
         "showlegend": true,
         "type": "scatter",
         "x": [
          2216.8999422243587
         ],
         "xaxis": "x",
         "y": [
          20903273
         ],
         "yaxis": "y"
        },
        {
         "hovertemplate": "country=Uruguay<br>gdp_per_capita=%{x}<br>population=%{y}<br>coffee_consumption=%{marker.size}<extra></extra>",
         "legendgroup": "Uruguay",
         "marker": {
          "color": "#00cc96",
          "size": [
           63
          ],
          "sizemode": "area",
          "sizeref": 1.5802777777777777,
          "symbol": "circle"
         },
         "mode": "markers",
         "name": "Uruguay",
         "orientation": "v",
         "showlegend": true,
         "type": "scatter",
         "x": [
          22377.114185903913
         ],
         "xaxis": "x",
         "y": [
          3473730
         ],
         "yaxis": "y"
        },
        {
         "hovertemplate": "country=Uzbekistan<br>gdp_per_capita=%{x}<br>population=%{y}<br>coffee_consumption=%{marker.size}<extra></extra>",
         "legendgroup": "Uzbekistan",
         "marker": {
          "color": "#ab63fa",
          "size": [
           151
          ],
          "sizemode": "area",
          "sizeref": 1.5802777777777777,
          "symbol": "circle"
         },
         "mode": "markers",
         "name": "Uzbekistan",
         "orientation": "v",
         "showlegend": true,
         "type": "scatter",
         "x": [
          7320.1623594084385
         ],
         "xaxis": "x",
         "y": [
          33469203
         ],
         "yaxis": "y"
        },
        {
         "hovertemplate": "country=Samoa<br>gdp_per_capita=%{x}<br>population=%{y}<br>coffee_consumption=%{marker.size}<extra></extra>",
         "legendgroup": "Samoa",
         "marker": {
          "color": "#FFA15A",
          "size": [
           1
          ],
          "sizemode": "area",
          "sizeref": 1.5802777777777777,
          "symbol": "circle"
         },
         "mode": "markers",
         "name": "Samoa",
         "orientation": "v",
         "showlegend": true,
         "type": "scatter",
         "x": [
          6742.080916669187
         ],
         "xaxis": "x",
         "y": [
          198414
         ],
         "yaxis": "y"
        },
        {
         "hovertemplate": "country=Zambia<br>gdp_per_capita=%{x}<br>population=%{y}<br>coffee_consumption=%{marker.size}<extra></extra>",
         "legendgroup": "Zambia",
         "marker": {
          "color": "#19d3f3",
          "size": [
           1
          ],
          "sizemode": "area",
          "sizeref": 1.5802777777777777,
          "symbol": "circle"
         },
         "mode": "markers",
         "name": "Zambia",
         "orientation": "v",
         "showlegend": true,
         "type": "scatter",
         "x": [
          3520.6245664221874
         ],
         "xaxis": "x",
         "y": [
          18383955
         ],
         "yaxis": "y"
        }
       ],
       "layout": {
        "legend": {
         "itemsizing": "constant",
         "title": {
          "text": "country"
         },
         "tracegroupgap": 0
        },
        "template": {
         "data": {
          "bar": [
           {
            "error_x": {
             "color": "#2a3f5f"
            },
            "error_y": {
             "color": "#2a3f5f"
            },
            "marker": {
             "line": {
              "color": "#E5ECF6",
              "width": 0.5
             }
            },
            "type": "bar"
           }
          ],
          "barpolar": [
           {
            "marker": {
             "line": {
              "color": "#E5ECF6",
              "width": 0.5
             }
            },
            "type": "barpolar"
           }
          ],
          "carpet": [
           {
            "aaxis": {
             "endlinecolor": "#2a3f5f",
             "gridcolor": "white",
             "linecolor": "white",
             "minorgridcolor": "white",
             "startlinecolor": "#2a3f5f"
            },
            "baxis": {
             "endlinecolor": "#2a3f5f",
             "gridcolor": "white",
             "linecolor": "white",
             "minorgridcolor": "white",
             "startlinecolor": "#2a3f5f"
            },
            "type": "carpet"
           }
          ],
          "choropleth": [
           {
            "colorbar": {
             "outlinewidth": 0,
             "ticks": ""
            },
            "type": "choropleth"
           }
          ],
          "contour": [
           {
            "colorbar": {
             "outlinewidth": 0,
             "ticks": ""
            },
            "colorscale": [
             [
              0,
              "#0d0887"
             ],
             [
              0.1111111111111111,
              "#46039f"
             ],
             [
              0.2222222222222222,
              "#7201a8"
             ],
             [
              0.3333333333333333,
              "#9c179e"
             ],
             [
              0.4444444444444444,
              "#bd3786"
             ],
             [
              0.5555555555555556,
              "#d8576b"
             ],
             [
              0.6666666666666666,
              "#ed7953"
             ],
             [
              0.7777777777777778,
              "#fb9f3a"
             ],
             [
              0.8888888888888888,
              "#fdca26"
             ],
             [
              1,
              "#f0f921"
             ]
            ],
            "type": "contour"
           }
          ],
          "contourcarpet": [
           {
            "colorbar": {
             "outlinewidth": 0,
             "ticks": ""
            },
            "type": "contourcarpet"
           }
          ],
          "heatmap": [
           {
            "colorbar": {
             "outlinewidth": 0,
             "ticks": ""
            },
            "colorscale": [
             [
              0,
              "#0d0887"
             ],
             [
              0.1111111111111111,
              "#46039f"
             ],
             [
              0.2222222222222222,
              "#7201a8"
             ],
             [
              0.3333333333333333,
              "#9c179e"
             ],
             [
              0.4444444444444444,
              "#bd3786"
             ],
             [
              0.5555555555555556,
              "#d8576b"
             ],
             [
              0.6666666666666666,
              "#ed7953"
             ],
             [
              0.7777777777777778,
              "#fb9f3a"
             ],
             [
              0.8888888888888888,
              "#fdca26"
             ],
             [
              1,
              "#f0f921"
             ]
            ],
            "type": "heatmap"
           }
          ],
          "heatmapgl": [
           {
            "colorbar": {
             "outlinewidth": 0,
             "ticks": ""
            },
            "colorscale": [
             [
              0,
              "#0d0887"
             ],
             [
              0.1111111111111111,
              "#46039f"
             ],
             [
              0.2222222222222222,
              "#7201a8"
             ],
             [
              0.3333333333333333,
              "#9c179e"
             ],
             [
              0.4444444444444444,
              "#bd3786"
             ],
             [
              0.5555555555555556,
              "#d8576b"
             ],
             [
              0.6666666666666666,
              "#ed7953"
             ],
             [
              0.7777777777777778,
              "#fb9f3a"
             ],
             [
              0.8888888888888888,
              "#fdca26"
             ],
             [
              1,
              "#f0f921"
             ]
            ],
            "type": "heatmapgl"
           }
          ],
          "histogram": [
           {
            "marker": {
             "colorbar": {
              "outlinewidth": 0,
              "ticks": ""
             }
            },
            "type": "histogram"
           }
          ],
          "histogram2d": [
           {
            "colorbar": {
             "outlinewidth": 0,
             "ticks": ""
            },
            "colorscale": [
             [
              0,
              "#0d0887"
             ],
             [
              0.1111111111111111,
              "#46039f"
             ],
             [
              0.2222222222222222,
              "#7201a8"
             ],
             [
              0.3333333333333333,
              "#9c179e"
             ],
             [
              0.4444444444444444,
              "#bd3786"
             ],
             [
              0.5555555555555556,
              "#d8576b"
             ],
             [
              0.6666666666666666,
              "#ed7953"
             ],
             [
              0.7777777777777778,
              "#fb9f3a"
             ],
             [
              0.8888888888888888,
              "#fdca26"
             ],
             [
              1,
              "#f0f921"
             ]
            ],
            "type": "histogram2d"
           }
          ],
          "histogram2dcontour": [
           {
            "colorbar": {
             "outlinewidth": 0,
             "ticks": ""
            },
            "colorscale": [
             [
              0,
              "#0d0887"
             ],
             [
              0.1111111111111111,
              "#46039f"
             ],
             [
              0.2222222222222222,
              "#7201a8"
             ],
             [
              0.3333333333333333,
              "#9c179e"
             ],
             [
              0.4444444444444444,
              "#bd3786"
             ],
             [
              0.5555555555555556,
              "#d8576b"
             ],
             [
              0.6666666666666666,
              "#ed7953"
             ],
             [
              0.7777777777777778,
              "#fb9f3a"
             ],
             [
              0.8888888888888888,
              "#fdca26"
             ],
             [
              1,
              "#f0f921"
             ]
            ],
            "type": "histogram2dcontour"
           }
          ],
          "mesh3d": [
           {
            "colorbar": {
             "outlinewidth": 0,
             "ticks": ""
            },
            "type": "mesh3d"
           }
          ],
          "parcoords": [
           {
            "line": {
             "colorbar": {
              "outlinewidth": 0,
              "ticks": ""
             }
            },
            "type": "parcoords"
           }
          ],
          "pie": [
           {
            "automargin": true,
            "type": "pie"
           }
          ],
          "scatter": [
           {
            "marker": {
             "colorbar": {
              "outlinewidth": 0,
              "ticks": ""
             }
            },
            "type": "scatter"
           }
          ],
          "scatter3d": [
           {
            "line": {
             "colorbar": {
              "outlinewidth": 0,
              "ticks": ""
             }
            },
            "marker": {
             "colorbar": {
              "outlinewidth": 0,
              "ticks": ""
             }
            },
            "type": "scatter3d"
           }
          ],
          "scattercarpet": [
           {
            "marker": {
             "colorbar": {
              "outlinewidth": 0,
              "ticks": ""
             }
            },
            "type": "scattercarpet"
           }
          ],
          "scattergeo": [
           {
            "marker": {
             "colorbar": {
              "outlinewidth": 0,
              "ticks": ""
             }
            },
            "type": "scattergeo"
           }
          ],
          "scattergl": [
           {
            "marker": {
             "colorbar": {
              "outlinewidth": 0,
              "ticks": ""
             }
            },
            "type": "scattergl"
           }
          ],
          "scattermapbox": [
           {
            "marker": {
             "colorbar": {
              "outlinewidth": 0,
              "ticks": ""
             }
            },
            "type": "scattermapbox"
           }
          ],
          "scatterpolar": [
           {
            "marker": {
             "colorbar": {
              "outlinewidth": 0,
              "ticks": ""
             }
            },
            "type": "scatterpolar"
           }
          ],
          "scatterpolargl": [
           {
            "marker": {
             "colorbar": {
              "outlinewidth": 0,
              "ticks": ""
             }
            },
            "type": "scatterpolargl"
           }
          ],
          "scatterternary": [
           {
            "marker": {
             "colorbar": {
              "outlinewidth": 0,
              "ticks": ""
             }
            },
            "type": "scatterternary"
           }
          ],
          "surface": [
           {
            "colorbar": {
             "outlinewidth": 0,
             "ticks": ""
            },
            "colorscale": [
             [
              0,
              "#0d0887"
             ],
             [
              0.1111111111111111,
              "#46039f"
             ],
             [
              0.2222222222222222,
              "#7201a8"
             ],
             [
              0.3333333333333333,
              "#9c179e"
             ],
             [
              0.4444444444444444,
              "#bd3786"
             ],
             [
              0.5555555555555556,
              "#d8576b"
             ],
             [
              0.6666666666666666,
              "#ed7953"
             ],
             [
              0.7777777777777778,
              "#fb9f3a"
             ],
             [
              0.8888888888888888,
              "#fdca26"
             ],
             [
              1,
              "#f0f921"
             ]
            ],
            "type": "surface"
           }
          ],
          "table": [
           {
            "cells": {
             "fill": {
              "color": "#EBF0F8"
             },
             "line": {
              "color": "white"
             }
            },
            "header": {
             "fill": {
              "color": "#C8D4E3"
             },
             "line": {
              "color": "white"
             }
            },
            "type": "table"
           }
          ]
         },
         "layout": {
          "annotationdefaults": {
           "arrowcolor": "#2a3f5f",
           "arrowhead": 0,
           "arrowwidth": 1
          },
          "coloraxis": {
           "colorbar": {
            "outlinewidth": 0,
            "ticks": ""
           }
          },
          "colorscale": {
           "diverging": [
            [
             0,
             "#8e0152"
            ],
            [
             0.1,
             "#c51b7d"
            ],
            [
             0.2,
             "#de77ae"
            ],
            [
             0.3,
             "#f1b6da"
            ],
            [
             0.4,
             "#fde0ef"
            ],
            [
             0.5,
             "#f7f7f7"
            ],
            [
             0.6,
             "#e6f5d0"
            ],
            [
             0.7,
             "#b8e186"
            ],
            [
             0.8,
             "#7fbc41"
            ],
            [
             0.9,
             "#4d9221"
            ],
            [
             1,
             "#276419"
            ]
           ],
           "sequential": [
            [
             0,
             "#0d0887"
            ],
            [
             0.1111111111111111,
             "#46039f"
            ],
            [
             0.2222222222222222,
             "#7201a8"
            ],
            [
             0.3333333333333333,
             "#9c179e"
            ],
            [
             0.4444444444444444,
             "#bd3786"
            ],
            [
             0.5555555555555556,
             "#d8576b"
            ],
            [
             0.6666666666666666,
             "#ed7953"
            ],
            [
             0.7777777777777778,
             "#fb9f3a"
            ],
            [
             0.8888888888888888,
             "#fdca26"
            ],
            [
             1,
             "#f0f921"
            ]
           ],
           "sequentialminus": [
            [
             0,
             "#0d0887"
            ],
            [
             0.1111111111111111,
             "#46039f"
            ],
            [
             0.2222222222222222,
             "#7201a8"
            ],
            [
             0.3333333333333333,
             "#9c179e"
            ],
            [
             0.4444444444444444,
             "#bd3786"
            ],
            [
             0.5555555555555556,
             "#d8576b"
            ],
            [
             0.6666666666666666,
             "#ed7953"
            ],
            [
             0.7777777777777778,
             "#fb9f3a"
            ],
            [
             0.8888888888888888,
             "#fdca26"
            ],
            [
             1,
             "#f0f921"
            ]
           ]
          },
          "colorway": [
           "#636efa",
           "#EF553B",
           "#00cc96",
           "#ab63fa",
           "#FFA15A",
           "#19d3f3",
           "#FF6692",
           "#B6E880",
           "#FF97FF",
           "#FECB52"
          ],
          "font": {
           "color": "#2a3f5f"
          },
          "geo": {
           "bgcolor": "white",
           "lakecolor": "white",
           "landcolor": "#E5ECF6",
           "showlakes": true,
           "showland": true,
           "subunitcolor": "white"
          },
          "hoverlabel": {
           "align": "left"
          },
          "hovermode": "closest",
          "mapbox": {
           "style": "light"
          },
          "paper_bgcolor": "white",
          "plot_bgcolor": "#E5ECF6",
          "polar": {
           "angularaxis": {
            "gridcolor": "white",
            "linecolor": "white",
            "ticks": ""
           },
           "bgcolor": "#E5ECF6",
           "radialaxis": {
            "gridcolor": "white",
            "linecolor": "white",
            "ticks": ""
           }
          },
          "scene": {
           "xaxis": {
            "backgroundcolor": "#E5ECF6",
            "gridcolor": "white",
            "gridwidth": 2,
            "linecolor": "white",
            "showbackground": true,
            "ticks": "",
            "zerolinecolor": "white"
           },
           "yaxis": {
            "backgroundcolor": "#E5ECF6",
            "gridcolor": "white",
            "gridwidth": 2,
            "linecolor": "white",
            "showbackground": true,
            "ticks": "",
            "zerolinecolor": "white"
           },
           "zaxis": {
            "backgroundcolor": "#E5ECF6",
            "gridcolor": "white",
            "gridwidth": 2,
            "linecolor": "white",
            "showbackground": true,
            "ticks": "",
            "zerolinecolor": "white"
           }
          },
          "shapedefaults": {
           "line": {
            "color": "#2a3f5f"
           }
          },
          "ternary": {
           "aaxis": {
            "gridcolor": "white",
            "linecolor": "white",
            "ticks": ""
           },
           "baxis": {
            "gridcolor": "white",
            "linecolor": "white",
            "ticks": ""
           },
           "bgcolor": "#E5ECF6",
           "caxis": {
            "gridcolor": "white",
            "linecolor": "white",
            "ticks": ""
           }
          },
          "title": {
           "x": 0.05
          },
          "xaxis": {
           "automargin": true,
           "gridcolor": "white",
           "linecolor": "white",
           "ticks": "",
           "title": {
            "standoff": 15
           },
           "zerolinecolor": "white",
           "zerolinewidth": 2
          },
          "yaxis": {
           "automargin": true,
           "gridcolor": "white",
           "linecolor": "white",
           "ticks": "",
           "title": {
            "standoff": 15
           },
           "zerolinecolor": "white",
           "zerolinewidth": 2
          }
         }
        },
        "title": {
         "text": "fig.3 Potential Countries For A New Location",
         "x": 0.5
        },
        "xaxis": {
         "anchor": "y",
         "domain": [
          0,
          1
         ],
         "title": {
          "text": "gdp_per_capita"
         },
         "type": "log"
        },
        "yaxis": {
         "anchor": "x",
         "domain": [
          0,
          1
         ],
         "title": {
          "text": "population"
         },
         "type": "log"
        }
       }
      },
      "text/html": [
       "<div>\n",
       "        \n",
       "        \n",
       "            <div id=\"3eff411a-f6f8-4957-a9f3-28f8f6d75036\" class=\"plotly-graph-div\" style=\"height:525px; width:100%;\"></div>\n",
       "            <script type=\"text/javascript\">\n",
       "                require([\"plotly\"], function(Plotly) {\n",
       "                    window.PLOTLYENV=window.PLOTLYENV || {};\n",
       "                    \n",
       "                if (document.getElementById(\"3eff411a-f6f8-4957-a9f3-28f8f6d75036\")) {\n",
       "                    Plotly.newPlot(\n",
       "                        '3eff411a-f6f8-4957-a9f3-28f8f6d75036',\n",
       "                        [{\"hovertemplate\": \"country=Afghanistan<br>gdp_per_capita=%{x}<br>population=%{y}<br>coffee_consumption=%{marker.size}<extra></extra>\", \"legendgroup\": \"Afghanistan\", \"marker\": {\"color\": \"#636efa\", \"size\": [31.0], \"sizemode\": \"area\", \"sizeref\": 1.5802777777777777, \"symbol\": \"circle\"}, \"mode\": \"markers\", \"name\": \"Afghanistan\", \"orientation\": \"v\", \"showlegend\": true, \"type\": \"scatter\", \"x\": [2241.31610790759], \"xaxis\": \"x\", \"y\": [38928346.0], \"yaxis\": \"y\"}, {\"hovertemplate\": \"country=Albania<br>gdp_per_capita=%{x}<br>population=%{y}<br>coffee_consumption=%{marker.size}<extra></extra>\", \"legendgroup\": \"Albania\", \"marker\": {\"color\": \"#EF553B\", \"size\": [101.0], \"sizemode\": \"area\", \"sizeref\": 1.5802777777777777, \"symbol\": \"circle\"}, \"mode\": \"markers\", \"name\": \"Albania\", \"orientation\": \"v\", \"showlegend\": true, \"type\": \"scatter\", \"x\": [14376.178249890454], \"xaxis\": \"x\", \"y\": [2877797.0], \"yaxis\": \"y\"}, {\"hovertemplate\": \"country=Algeria<br>gdp_per_capita=%{x}<br>population=%{y}<br>coffee_consumption=%{marker.size}<extra></extra>\", \"legendgroup\": \"Algeria\", \"marker\": {\"color\": \"#00cc96\", \"size\": [1789.0], \"sizemode\": \"area\", \"sizeref\": 1.5802777777777777, \"symbol\": \"circle\"}, \"mode\": \"markers\", \"name\": \"Algeria\", \"orientation\": \"v\", \"showlegend\": true, \"type\": \"scatter\", \"x\": [11607.477349912126], \"xaxis\": \"x\", \"y\": [43851044.0], \"yaxis\": \"y\"}, {\"hovertemplate\": \"country=Angola<br>gdp_per_capita=%{x}<br>population=%{y}<br>coffee_consumption=%{marker.size}<extra></extra>\", \"legendgroup\": \"Angola\", \"marker\": {\"color\": \"#ab63fa\", \"size\": [30.0], \"sizemode\": \"area\", \"sizeref\": 1.5802777777777777, \"symbol\": \"circle\"}, \"mode\": \"markers\", \"name\": \"Angola\", \"orientation\": \"v\", \"showlegend\": true, \"type\": \"scatter\", \"x\": [6724.218676216153], \"xaxis\": \"x\", \"y\": [32866272.0], \"yaxis\": \"y\"}, {\"hovertemplate\": \"country=Antigua and Barbuda<br>gdp_per_capita=%{x}<br>population=%{y}<br>coffee_consumption=%{marker.size}<extra></extra>\", \"legendgroup\": \"Antigua and Barbuda\", \"marker\": {\"color\": \"#FFA15A\", \"size\": [1.0], \"sizemode\": \"area\", \"sizeref\": 1.5802777777777777, \"symbol\": \"circle\"}, \"mode\": \"markers\", \"name\": \"Antigua and Barbuda\", \"orientation\": \"v\", \"showlegend\": true, \"type\": \"scatter\", \"x\": [22627.497523716163], \"xaxis\": \"x\", \"y\": [97929.0], \"yaxis\": \"y\"}, {\"hovertemplate\": \"country=Bangladesh<br>gdp_per_capita=%{x}<br>population=%{y}<br>coffee_consumption=%{marker.size}<extra></extra>\", \"legendgroup\": \"Bangladesh\", \"marker\": {\"color\": \"#19d3f3\", \"size\": [141.0], \"sizemode\": \"area\", \"sizeref\": 1.5802777777777777, \"symbol\": \"circle\"}, \"mode\": \"markers\", \"name\": \"Bangladesh\", \"orientation\": \"v\", \"showlegend\": true, \"type\": \"scatter\", \"x\": [4900.13372628884], \"xaxis\": \"x\", \"y\": [164689383.0], \"yaxis\": \"y\"}, {\"hovertemplate\": \"country=Armenia<br>gdp_per_capita=%{x}<br>population=%{y}<br>coffee_consumption=%{marker.size}<extra></extra>\", \"legendgroup\": \"Armenia\", \"marker\": {\"color\": \"#FF6692\", \"size\": [91.0, 91.0], \"sizemode\": \"area\", \"sizeref\": 1.5802777777777777, \"symbol\": \"circle\"}, \"mode\": \"markers\", \"name\": \"Armenia\", \"orientation\": \"v\", \"showlegend\": true, \"type\": \"scatter\", \"x\": [14193.177435330143, 14193.177435330143], \"xaxis\": \"x\", \"y\": [2963243.0, 2963243.0], \"yaxis\": \"y\"}, {\"hovertemplate\": \"country=Barbados<br>gdp_per_capita=%{x}<br>population=%{y}<br>coffee_consumption=%{marker.size}<extra></extra>\", \"legendgroup\": \"Barbados\", \"marker\": {\"color\": \"#B6E880\", \"size\": [11.0], \"sizemode\": \"area\", \"sizeref\": 1.5802777777777777, \"symbol\": \"circle\"}, \"mode\": \"markers\", \"name\": \"Barbados\", \"orientation\": \"v\", \"showlegend\": true, \"type\": \"scatter\", \"x\": [16267.143262287951], \"xaxis\": \"x\", \"y\": [287375.0], \"yaxis\": \"y\"}, {\"hovertemplate\": \"country=Bosnia and Herzegovina<br>gdp_per_capita=%{x}<br>population=%{y}<br>coffee_consumption=%{marker.size}<extra></extra>\", \"legendgroup\": \"Bosnia and Herzegovina\", \"marker\": {\"color\": \"#FF97FF\", \"size\": [357.0], \"sizemode\": \"area\", \"sizeref\": 1.5802777777777777, \"symbol\": \"circle\"}, \"mode\": \"markers\", \"name\": \"Bosnia and Herzegovina\", \"orientation\": \"v\", \"showlegend\": true, \"type\": \"scatter\", \"x\": [15888.812615081782], \"xaxis\": \"x\", \"y\": [3280819.0], \"yaxis\": \"y\"}, {\"hovertemplate\": \"country=Botswana<br>gdp_per_capita=%{x}<br>population=%{y}<br>coffee_consumption=%{marker.size}<extra></extra>\", \"legendgroup\": \"Botswana\", \"marker\": {\"color\": \"#FECB52\", \"size\": [31.0], \"sizemode\": \"area\", \"sizeref\": 1.5802777777777777, \"symbol\": \"circle\"}, \"mode\": \"markers\", \"name\": \"Botswana\", \"orientation\": \"v\", \"showlegend\": true, \"type\": \"scatter\", \"x\": [18125.700560505556], \"xaxis\": \"x\", \"y\": [2351627.0], \"yaxis\": \"y\"}, {\"hovertemplate\": \"country=Belize<br>gdp_per_capita=%{x}<br>population=%{y}<br>coffee_consumption=%{marker.size}<extra></extra>\", \"legendgroup\": \"Belize\", \"marker\": {\"color\": \"#636efa\", \"size\": [4.0], \"sizemode\": \"area\", \"sizeref\": 1.5802777777777777, \"symbol\": \"circle\"}, \"mode\": \"markers\", \"name\": \"Belize\", \"orientation\": \"v\", \"showlegend\": true, \"type\": \"scatter\", \"x\": [7161.756639371473], \"xaxis\": \"x\", \"y\": [397628.0], \"yaxis\": \"y\"}, {\"hovertemplate\": \"country=Myanmar<br>gdp_per_capita=%{x}<br>population=%{y}<br>coffee_consumption=%{marker.size}<extra></extra>\", \"legendgroup\": \"Myanmar\", \"marker\": {\"color\": \"#EF553B\", \"size\": [250.0], \"sizemode\": \"area\", \"sizeref\": 1.5802777777777777, \"symbol\": \"circle\"}, \"mode\": \"markers\", \"name\": \"Myanmar\", \"orientation\": \"v\", \"showlegend\": true, \"type\": \"scatter\", \"x\": [5311.543141125312], \"xaxis\": \"x\", \"y\": [54409800.0], \"yaxis\": \"y\"}, {\"hovertemplate\": \"country=Burundi<br>gdp_per_capita=%{x}<br>population=%{y}<br>coffee_consumption=%{marker.size}<extra></extra>\", \"legendgroup\": \"Burundi\", \"marker\": {\"color\": \"#00cc96\", \"size\": [2.0], \"sizemode\": \"area\", \"sizeref\": 1.5802777777777777, \"symbol\": \"circle\"}, \"mode\": \"markers\", \"name\": \"Burundi\", \"orientation\": \"v\", \"showlegend\": true, \"type\": \"scatter\", \"x\": [759.1029575509907], \"xaxis\": \"x\", \"y\": [11890784.0], \"yaxis\": \"y\"}, {\"hovertemplate\": \"country=Belarus<br>gdp_per_capita=%{x}<br>population=%{y}<br>coffee_consumption=%{marker.size}<extra></extra>\", \"legendgroup\": \"Belarus\", \"marker\": {\"color\": \"#ab63fa\", \"size\": [153.0], \"sizemode\": \"area\", \"sizeref\": 1.5802777777777777, \"symbol\": \"circle\"}, \"mode\": \"markers\", \"name\": \"Belarus\", \"orientation\": \"v\", \"showlegend\": true, \"type\": \"scatter\", \"x\": [20001.432906886555], \"xaxis\": \"x\", \"y\": [9449323.0], \"yaxis\": \"y\"}, {\"hovertemplate\": \"country=Cameroon<br>gdp_per_capita=%{x}<br>population=%{y}<br>coffee_consumption=%{marker.size}<extra></extra>\", \"legendgroup\": \"Cameroon\", \"marker\": {\"color\": \"#FFA15A\", \"size\": [69.0], \"sizemode\": \"area\", \"sizeref\": 1.5802777777777777, \"symbol\": \"circle\"}, \"mode\": \"markers\", \"name\": \"Cameroon\", \"orientation\": \"v\", \"showlegend\": true, \"type\": \"scatter\", \"x\": [3708.1335474005873], \"xaxis\": \"x\", \"y\": [26545863.0], \"yaxis\": \"y\"}, {\"hovertemplate\": \"country=Central African Republic<br>gdp_per_capita=%{x}<br>population=%{y}<br>coffee_consumption=%{marker.size}<extra></extra>\", \"legendgroup\": \"Central African Republic\", \"marker\": {\"color\": \"#19d3f3\", \"size\": [9.0], \"sizemode\": \"area\", \"sizeref\": 1.5802777777777777, \"symbol\": \"circle\"}, \"mode\": \"markers\", \"name\": \"Central African Republic\", \"orientation\": \"v\", \"showlegend\": true, \"type\": \"scatter\", \"x\": [966.795114753983], \"xaxis\": \"x\", \"y\": [4829767.0], \"yaxis\": \"y\"}, {\"hovertemplate\": \"country=Sri Lanka<br>gdp_per_capita=%{x}<br>population=%{y}<br>coffee_consumption=%{marker.size}<extra></extra>\", \"legendgroup\": \"Sri Lanka\", \"marker\": {\"color\": \"#FF6692\", \"size\": [31.0], \"sizemode\": \"area\", \"sizeref\": 1.5802777777777777, \"symbol\": \"circle\"}, \"mode\": \"markers\", \"name\": \"Sri Lanka\", \"orientation\": \"v\", \"showlegend\": true, \"type\": \"scatter\", \"x\": [13869.917638374262], \"xaxis\": \"x\", \"y\": [21413249.0], \"yaxis\": \"y\"}, {\"hovertemplate\": \"country=Chad<br>gdp_per_capita=%{x}<br>population=%{y}<br>coffee_consumption=%{marker.size}<extra></extra>\", \"legendgroup\": \"Chad\", \"marker\": {\"color\": \"#B6E880\", \"size\": [21.0], \"sizemode\": \"area\", \"sizeref\": 1.5802777777777777, \"symbol\": \"circle\"}, \"mode\": \"markers\", \"name\": \"Chad\", \"orientation\": \"v\", \"showlegend\": true, \"type\": \"scatter\", \"x\": [1597.1222253514336], \"xaxis\": \"x\", \"y\": [16425864.0], \"yaxis\": \"y\"}, {\"hovertemplate\": \"country=Comoros<br>gdp_per_capita=%{x}<br>population=%{y}<br>coffee_consumption=%{marker.size}<extra></extra>\", \"legendgroup\": \"Comoros\", \"marker\": {\"color\": \"#FF97FF\", \"size\": [7.0], \"sizemode\": \"area\", \"sizeref\": 1.5802777777777777, \"symbol\": \"circle\"}, \"mode\": \"markers\", \"name\": \"Comoros\", \"orientation\": \"v\", \"showlegend\": true, \"type\": \"scatter\", \"x\": [3140.027267677935], \"xaxis\": \"x\", \"y\": [869601.0], \"yaxis\": \"y\"}, {\"hovertemplate\": \"country=Croatia<br>gdp_per_capita=%{x}<br>population=%{y}<br>coffee_consumption=%{marker.size}<extra></extra>\", \"legendgroup\": \"Croatia\", \"marker\": {\"color\": \"#FECB52\", \"size\": [367.0], \"sizemode\": \"area\", \"sizeref\": 1.5802777777777777, \"symbol\": \"circle\"}, \"mode\": \"markers\", \"name\": \"Croatia\", \"orientation\": \"v\", \"showlegend\": true, \"type\": \"scatter\", \"x\": [29717.920905022744], \"xaxis\": \"x\", \"y\": [4105267.0], \"yaxis\": \"y\"}, {\"hovertemplate\": \"country=Benin<br>gdp_per_capita=%{x}<br>population=%{y}<br>coffee_consumption=%{marker.size}<extra></extra>\", \"legendgroup\": \"Benin\", \"marker\": {\"color\": \"#636efa\", \"size\": [3.0], \"sizemode\": \"area\", \"sizeref\": 1.5802777777777777, \"symbol\": \"circle\"}, \"mode\": \"markers\", \"name\": \"Benin\", \"orientation\": \"v\", \"showlegend\": true, \"type\": \"scatter\", \"x\": [3332.6061506862875], \"xaxis\": \"x\", \"y\": [12123200.0], \"yaxis\": \"y\"}, {\"hovertemplate\": \"country=Dominica<br>gdp_per_capita=%{x}<br>population=%{y}<br>coffee_consumption=%{marker.size}<extra></extra>\", \"legendgroup\": \"Dominica\", \"marker\": {\"color\": \"#EF553B\", \"size\": [2.0], \"sizemode\": \"area\", \"sizeref\": 1.5802777777777777, \"symbol\": \"circle\"}, \"mode\": \"markers\", \"name\": \"Dominica\", \"orientation\": \"v\", \"showlegend\": true, \"type\": \"scatter\", \"x\": [12628.041715055704], \"xaxis\": \"x\", \"y\": [71986.0], \"yaxis\": \"y\"}, {\"hovertemplate\": \"country=Dominican Republic<br>gdp_per_capita=%{x}<br>population=%{y}<br>coffee_consumption=%{marker.size}<extra></extra>\", \"legendgroup\": \"Dominican Republic\", \"marker\": {\"color\": \"#00cc96\", \"size\": [378.0], \"sizemode\": \"area\", \"sizeref\": 1.5802777777777777, \"symbol\": \"circle\"}, \"mode\": \"markers\", \"name\": \"Dominican Republic\", \"orientation\": \"v\", \"showlegend\": true, \"type\": \"scatter\", \"x\": [18989.83306461798], \"xaxis\": \"x\", \"y\": [10847910.0], \"yaxis\": \"y\"}, {\"hovertemplate\": \"country=Ecuador<br>gdp_per_capita=%{x}<br>population=%{y}<br>coffee_consumption=%{marker.size}<extra></extra>\", \"legendgroup\": \"Ecuador\", \"marker\": {\"color\": \"#ab63fa\", \"size\": [150.0], \"sizemode\": \"area\", \"sizeref\": 1.5802777777777777, \"symbol\": \"circle\"}, \"mode\": \"markers\", \"name\": \"Ecuador\", \"orientation\": \"v\", \"showlegend\": true, \"type\": \"scatter\", \"x\": [11675.98308093372], \"xaxis\": \"x\", \"y\": [17643054.0], \"yaxis\": \"y\"}, {\"hovertemplate\": \"country=Equatorial Guinea<br>gdp_per_capita=%{x}<br>population=%{y}<br>coffee_consumption=%{marker.size}<extra></extra>\", \"legendgroup\": \"Equatorial Guinea\", \"marker\": {\"color\": \"#FFA15A\", \"size\": [2.0], \"sizemode\": \"area\", \"sizeref\": 1.5802777777777777, \"symbol\": \"circle\"}, \"mode\": \"markers\", \"name\": \"Equatorial Guinea\", \"orientation\": \"v\", \"showlegend\": true, \"type\": \"scatter\", \"x\": [18679.69292615388], \"xaxis\": \"x\", \"y\": [1402985.0], \"yaxis\": \"y\"}, {\"hovertemplate\": \"country=Ethiopia<br>gdp_per_capita=%{x}<br>population=%{y}<br>coffee_consumption=%{marker.size}<extra></extra>\", \"legendgroup\": \"Ethiopia\", \"marker\": {\"color\": \"#19d3f3\", \"size\": [3383.0], \"sizemode\": \"area\", \"sizeref\": 1.5802777777777777, \"symbol\": \"circle\"}, \"mode\": \"markers\", \"name\": \"Ethiopia\", \"orientation\": \"v\", \"showlegend\": true, \"type\": \"scatter\", \"x\": [2252.8872359133397], \"xaxis\": \"x\", \"y\": [114963588.0], \"yaxis\": \"y\"}, {\"hovertemplate\": \"country=Estonia<br>gdp_per_capita=%{x}<br>population=%{y}<br>coffee_consumption=%{marker.size}<extra></extra>\", \"legendgroup\": \"Estonia\", \"marker\": {\"color\": \"#FF6692\", \"size\": [67.0], \"sizemode\": \"area\", \"sizeref\": 1.5802777777777777, \"symbol\": \"circle\"}, \"mode\": \"markers\", \"name\": \"Estonia\", \"orientation\": \"v\", \"showlegend\": true, \"type\": \"scatter\", \"x\": [38812.752504834025], \"xaxis\": \"x\", \"y\": [1326535.0], \"yaxis\": \"y\"}, {\"hovertemplate\": \"country=Fiji<br>gdp_per_capita=%{x}<br>population=%{y}<br>coffee_consumption=%{marker.size}<extra></extra>\", \"legendgroup\": \"Fiji\", \"marker\": {\"color\": \"#B6E880\", \"size\": [7.0], \"sizemode\": \"area\", \"sizeref\": 1.5802777777777777, \"symbol\": \"circle\"}, \"mode\": \"markers\", \"name\": \"Fiji\", \"orientation\": \"v\", \"showlegend\": true, \"type\": \"scatter\", \"x\": [14323.098746716196], \"xaxis\": \"x\", \"y\": [896445.0], \"yaxis\": \"y\"}, {\"hovertemplate\": \"country=Djibouti<br>gdp_per_capita=%{x}<br>population=%{y}<br>coffee_consumption=%{marker.size}<extra></extra>\", \"legendgroup\": \"Djibouti\", \"marker\": {\"color\": \"#FF97FF\", \"size\": [41.0], \"sizemode\": \"area\", \"sizeref\": 1.5802777777777777, \"symbol\": \"circle\"}, \"mode\": \"markers\", \"name\": \"Djibouti\", \"orientation\": \"v\", \"showlegend\": true, \"type\": \"scatter\", \"x\": [5664.070629554656], \"xaxis\": \"x\", \"y\": [988000.0], \"yaxis\": \"y\"}, {\"hovertemplate\": \"country=Gabon<br>gdp_per_capita=%{x}<br>population=%{y}<br>coffee_consumption=%{marker.size}<extra></extra>\", \"legendgroup\": \"Gabon\", \"marker\": {\"color\": \"#FECB52\", \"size\": [0.0], \"sizemode\": \"area\", \"sizeref\": 1.5802777777777777, \"symbol\": \"circle\"}, \"mode\": \"markers\", \"name\": \"Gabon\", \"orientation\": \"v\", \"showlegend\": true, \"type\": \"scatter\", \"x\": [15116.229894048436], \"xaxis\": \"x\", \"y\": [2225734.0], \"yaxis\": \"y\"}, {\"hovertemplate\": \"country=Georgia<br>gdp_per_capita=%{x}<br>population=%{y}<br>coffee_consumption=%{marker.size}<extra></extra>\", \"legendgroup\": \"Georgia\", \"marker\": {\"color\": \"#636efa\", \"size\": [101.0, 101.0], \"sizemode\": \"area\", \"sizeref\": 1.5802777777777777, \"symbol\": \"circle\"}, \"mode\": \"markers\", \"name\": \"Georgia\", \"orientation\": \"v\", \"showlegend\": true, \"type\": \"scatter\", \"x\": [14582.98265101461, 14582.98265101461], \"xaxis\": \"x\", \"y\": [3989167.0, 3989167.0], \"yaxis\": \"y\"}, {\"hovertemplate\": \"country=Ghana<br>gdp_per_capita=%{x}<br>population=%{y}<br>coffee_consumption=%{marker.size}<extra></extra>\", \"legendgroup\": \"Ghana\", \"marker\": {\"color\": \"#EF553B\", \"size\": [2.0], \"sizemode\": \"area\", \"sizeref\": 1.5802777777777777, \"symbol\": \"circle\"}, \"mode\": \"markers\", \"name\": \"Ghana\", \"orientation\": \"v\", \"showlegend\": true, \"type\": \"scatter\", \"x\": [5503.180580917029], \"xaxis\": \"x\", \"y\": [31072940.0], \"yaxis\": \"y\"}, {\"hovertemplate\": \"country=Grenada<br>gdp_per_capita=%{x}<br>population=%{y}<br>coffee_consumption=%{marker.size}<extra></extra>\", \"legendgroup\": \"Grenada\", \"marker\": {\"color\": \"#00cc96\", \"size\": [2.0], \"sizemode\": \"area\", \"sizeref\": 1.5802777777777777, \"symbol\": \"circle\"}, \"mode\": \"markers\", \"name\": \"Grenada\", \"orientation\": \"v\", \"showlegend\": true, \"type\": \"scatter\", \"x\": [17873.125254392435], \"xaxis\": \"x\", \"y\": [112523.0], \"yaxis\": \"y\"}, {\"hovertemplate\": \"country=Guinea<br>gdp_per_capita=%{x}<br>population=%{y}<br>coffee_consumption=%{marker.size}<extra></extra>\", \"legendgroup\": \"Guinea\", \"marker\": {\"color\": \"#ab63fa\", \"size\": [50.0], \"sizemode\": \"area\", \"sizeref\": 1.5802777777777777, \"symbol\": \"circle\"}, \"mode\": \"markers\", \"name\": \"Guinea\", \"orientation\": \"v\", \"showlegend\": true, \"type\": \"scatter\", \"x\": [2596.7947002142346], \"xaxis\": \"x\", \"y\": [13132795.0], \"yaxis\": \"y\"}, {\"hovertemplate\": \"country=Guyana<br>gdp_per_capita=%{x}<br>population=%{y}<br>coffee_consumption=%{marker.size}<extra></extra>\", \"legendgroup\": \"Guyana\", \"marker\": {\"color\": \"#FFA15A\", \"size\": [17.0], \"sizemode\": \"area\", \"sizeref\": 1.5802777777777777, \"symbol\": \"circle\"}, \"mode\": \"markers\", \"name\": \"Guyana\", \"orientation\": \"v\", \"showlegend\": true, \"type\": \"scatter\", \"x\": [10056.063086738068], \"xaxis\": \"x\", \"y\": [786552.0], \"yaxis\": \"y\"}, {\"hovertemplate\": \"country=Haiti<br>gdp_per_capita=%{x}<br>population=%{y}<br>coffee_consumption=%{marker.size}<extra></extra>\", \"legendgroup\": \"Haiti\", \"marker\": {\"color\": \"#19d3f3\", \"size\": [31.0], \"sizemode\": \"area\", \"sizeref\": 1.5802777777777777, \"symbol\": \"circle\"}, \"mode\": \"markers\", \"name\": \"Haiti\", \"orientation\": \"v\", \"showlegend\": true, \"type\": \"scatter\", \"x\": [1778.5439594623228], \"xaxis\": \"x\", \"y\": [11402528.0], \"yaxis\": \"y\"}, {\"hovertemplate\": \"country=Honduras<br>gdp_per_capita=%{x}<br>population=%{y}<br>coffee_consumption=%{marker.size}<extra></extra>\", \"legendgroup\": \"Honduras\", \"marker\": {\"color\": \"#FF6692\", \"size\": [460.0], \"sizemode\": \"area\", \"sizeref\": 1.5802777777777777, \"symbol\": \"circle\"}, \"mode\": \"markers\", \"name\": \"Honduras\", \"orientation\": \"v\", \"showlegend\": true, \"type\": \"scatter\", \"x\": [5869.913107910289], \"xaxis\": \"x\", \"y\": [9904607.0], \"yaxis\": \"y\"}, {\"hovertemplate\": \"country=Iceland<br>gdp_per_capita=%{x}<br>population=%{y}<br>coffee_consumption=%{marker.size}<extra></extra>\", \"legendgroup\": \"Iceland\", \"marker\": {\"color\": \"#B6E880\", \"size\": [42.0], \"sizemode\": \"area\", \"sizeref\": 1.5802777777777777, \"symbol\": \"circle\"}, \"mode\": \"markers\", \"name\": \"Iceland\", \"orientation\": \"v\", \"showlegend\": true, \"type\": \"scatter\", \"x\": [63593.84365979669], \"xaxis\": \"x\", \"y\": [341243.0], \"yaxis\": \"y\"}, {\"hovertemplate\": \"country=Iraq<br>gdp_per_capita=%{x}<br>population=%{y}<br>coffee_consumption=%{marker.size}<extra></extra>\", \"legendgroup\": \"Iraq\", \"marker\": {\"color\": \"#FF97FF\", \"size\": [491.0], \"sizemode\": \"area\", \"sizeref\": 1.5802777777777777, \"symbol\": \"circle\"}, \"mode\": \"markers\", \"name\": \"Iraq\", \"orientation\": \"v\", \"showlegend\": true, \"type\": \"scatter\", \"x\": [11063.461431890857], \"xaxis\": \"x\", \"y\": [40222493.0], \"yaxis\": \"y\"}, {\"hovertemplate\": \"country=Israel<br>gdp_per_capita=%{x}<br>population=%{y}<br>coffee_consumption=%{marker.size}<extra></extra>\", \"legendgroup\": \"Israel\", \"marker\": {\"color\": \"#FECB52\", \"size\": [439.0], \"sizemode\": \"area\", \"sizeref\": 1.5802777777777777, \"symbol\": \"circle\"}, \"mode\": \"markers\", \"name\": \"Israel\", \"orientation\": \"v\", \"showlegend\": true, \"type\": \"scatter\", \"x\": [44133.60930317999], \"xaxis\": \"x\", \"y\": [8655535.0], \"yaxis\": \"y\"}, {\"hovertemplate\": \"country=Italy<br>gdp_per_capita=%{x}<br>population=%{y}<br>coffee_consumption=%{marker.size}<extra></extra>\", \"legendgroup\": \"Italy\", \"marker\": {\"color\": \"#636efa\", \"size\": [5689.0], \"sizemode\": \"area\", \"sizeref\": 1.5802777777777777, \"symbol\": \"circle\"}, \"mode\": \"markers\", \"name\": \"Italy\", \"orientation\": \"v\", \"showlegend\": true, \"type\": \"scatter\", \"x\": [43994.70171476462], \"xaxis\": \"x\", \"y\": [60461826.0], \"yaxis\": \"y\"}, {\"hovertemplate\": \"country=Jamaica<br>gdp_per_capita=%{x}<br>population=%{y}<br>coffee_consumption=%{marker.size}<extra></extra>\", \"legendgroup\": \"Jamaica\", \"marker\": {\"color\": \"#EF553B\", \"size\": [9.0], \"sizemode\": \"area\", \"sizeref\": 1.5802777777777777, \"symbol\": \"circle\"}, \"mode\": \"markers\", \"name\": \"Jamaica\", \"orientation\": \"v\", \"showlegend\": true, \"type\": \"scatter\", \"x\": [10121.816632766744], \"xaxis\": \"x\", \"y\": [2961167.0], \"yaxis\": \"y\"}, {\"hovertemplate\": \"country=Kenya<br>gdp_per_capita=%{x}<br>population=%{y}<br>coffee_consumption=%{marker.size}<extra></extra>\", \"legendgroup\": \"Kenya\", \"marker\": {\"color\": \"#00cc96\", \"size\": [50.0], \"sizemode\": \"area\", \"sizeref\": 1.5802777777777777, \"symbol\": \"circle\"}, \"mode\": \"markers\", \"name\": \"Kenya\", \"orientation\": \"v\", \"showlegend\": true, \"type\": \"scatter\", \"x\": [4407.556031381501], \"xaxis\": \"x\", \"y\": [53771296.0], \"yaxis\": \"y\"}, {\"hovertemplate\": \"country=Lesotho<br>gdp_per_capita=%{x}<br>population=%{y}<br>coffee_consumption=%{marker.size}<extra></extra>\", \"legendgroup\": \"Lesotho\", \"marker\": {\"color\": \"#ab63fa\", \"size\": [6.0], \"sizemode\": \"area\", \"sizeref\": 1.5802777777777777, \"symbol\": \"circle\"}, \"mode\": \"markers\", \"name\": \"Lesotho\", \"orientation\": \"v\", \"showlegend\": true, \"type\": \"scatter\", \"x\": [2859.573760099783], \"xaxis\": \"x\", \"y\": [2142249.0], \"yaxis\": \"y\"}, {\"hovertemplate\": \"country=Latvia<br>gdp_per_capita=%{x}<br>population=%{y}<br>coffee_consumption=%{marker.size}<extra></extra>\", \"legendgroup\": \"Latvia\", \"marker\": {\"color\": \"#FFA15A\", \"size\": [101.0], \"sizemode\": \"area\", \"sizeref\": 1.5802777777777777, \"symbol\": \"circle\"}, \"mode\": \"markers\", \"name\": \"Latvia\", \"orientation\": \"v\", \"showlegend\": true, \"type\": \"scatter\", \"x\": [32658.46570773588], \"xaxis\": \"x\", \"y\": [1886198.0], \"yaxis\": \"y\"}, {\"hovertemplate\": \"country=Liberia<br>gdp_per_capita=%{x}<br>population=%{y}<br>coffee_consumption=%{marker.size}<extra></extra>\", \"legendgroup\": \"Liberia\", \"marker\": {\"color\": \"#19d3f3\", \"size\": [5.0], \"sizemode\": \"area\", \"sizeref\": 1.5802777777777777, \"symbol\": \"circle\"}, \"mode\": \"markers\", \"name\": \"Liberia\", \"orientation\": \"v\", \"showlegend\": true, \"type\": \"scatter\", \"x\": [1451.623767493442], \"xaxis\": \"x\", \"y\": [5057681.0], \"yaxis\": \"y\"}, {\"hovertemplate\": \"country=Lithuania<br>gdp_per_capita=%{x}<br>population=%{y}<br>coffee_consumption=%{marker.size}<extra></extra>\", \"legendgroup\": \"Lithuania\", \"marker\": {\"color\": \"#FF6692\", \"size\": [180.0], \"sizemode\": \"area\", \"sizeref\": 1.5802777777777777, \"symbol\": \"circle\"}, \"mode\": \"markers\", \"name\": \"Lithuania\", \"orientation\": \"v\", \"showlegend\": true, \"type\": \"scatter\", \"x\": [38937.82034163162], \"xaxis\": \"x\", \"y\": [2722289.0], \"yaxis\": \"y\"}, {\"hovertemplate\": \"country=Madagascar<br>gdp_per_capita=%{x}<br>population=%{y}<br>coffee_consumption=%{marker.size}<extra></extra>\", \"legendgroup\": \"Madagascar\", \"marker\": {\"color\": \"#B6E880\", \"size\": [467.0], \"sizemode\": \"area\", \"sizeref\": 1.5802777777777777, \"symbol\": \"circle\"}, \"mode\": \"markers\", \"name\": \"Madagascar\", \"orientation\": \"v\", \"showlegend\": true, \"type\": \"scatter\", \"x\": [1669.7638100195522], \"xaxis\": \"x\", \"y\": [27691018.0], \"yaxis\": \"y\"}, {\"hovertemplate\": \"country=Malawi<br>gdp_per_capita=%{x}<br>population=%{y}<br>coffee_consumption=%{marker.size}<extra></extra>\", \"legendgroup\": \"Malawi\", \"marker\": {\"color\": \"#FF97FF\", \"size\": [1.0], \"sizemode\": \"area\", \"sizeref\": 1.5802777777777777, \"symbol\": \"circle\"}, \"mode\": \"markers\", \"name\": \"Malawi\", \"orientation\": \"v\", \"showlegend\": true, \"type\": \"scatter\", \"x\": [1074.7281382096514], \"xaxis\": \"x\", \"y\": [19129952.0], \"yaxis\": \"y\"}, {\"hovertemplate\": \"country=Maldives<br>gdp_per_capita=%{x}<br>population=%{y}<br>coffee_consumption=%{marker.size}<extra></extra>\", \"legendgroup\": \"Maldives\", \"marker\": {\"color\": \"#FECB52\", \"size\": [8.0], \"sizemode\": \"area\", \"sizeref\": 1.5802777777777777, \"symbol\": \"circle\"}, \"mode\": \"markers\", \"name\": \"Maldives\", \"orientation\": \"v\", \"showlegend\": true, \"type\": \"scatter\", \"x\": [19348.72529895809], \"xaxis\": \"x\", \"y\": [540544.0], \"yaxis\": \"y\"}, {\"hovertemplate\": \"country=Mali<br>gdp_per_capita=%{x}<br>population=%{y}<br>coffee_consumption=%{marker.size}<extra></extra>\", \"legendgroup\": \"Mali\", \"marker\": {\"color\": \"#636efa\", \"size\": [31.0], \"sizemode\": \"area\", \"sizeref\": 1.5802777777777777, \"symbol\": \"circle\"}, \"mode\": \"markers\", \"name\": \"Mali\", \"orientation\": \"v\", \"showlegend\": true, \"type\": \"scatter\", \"x\": [2352.876101096681], \"xaxis\": \"x\", \"y\": [20250833.0], \"yaxis\": \"y\"}, {\"hovertemplate\": \"country=Malta<br>gdp_per_capita=%{x}<br>population=%{y}<br>coffee_consumption=%{marker.size}<extra></extra>\", \"legendgroup\": \"Malta\", \"marker\": {\"color\": \"#EF553B\", \"size\": [21.0], \"sizemode\": \"area\", \"sizeref\": 1.5802777777777777, \"symbol\": \"circle\"}, \"mode\": \"markers\", \"name\": \"Malta\", \"orientation\": \"v\", \"showlegend\": true, \"type\": \"scatter\", \"x\": [51969.79938533733], \"xaxis\": \"x\", \"y\": [441543.0], \"yaxis\": \"y\"}, {\"hovertemplate\": \"country=Mauritania<br>gdp_per_capita=%{x}<br>population=%{y}<br>coffee_consumption=%{marker.size}<extra></extra>\", \"legendgroup\": \"Mauritania\", \"marker\": {\"color\": \"#00cc96\", \"size\": [9.0], \"sizemode\": \"area\", \"sizeref\": 1.5802777777777777, \"symbol\": \"circle\"}, \"mode\": \"markers\", \"name\": \"Mauritania\", \"orientation\": \"v\", \"showlegend\": true, \"type\": \"scatter\", \"x\": [5268.121601631776], \"xaxis\": \"x\", \"y\": [4649658.0], \"yaxis\": \"y\"}, {\"hovertemplate\": \"country=Mauritius<br>gdp_per_capita=%{x}<br>population=%{y}<br>coffee_consumption=%{marker.size}<extra></extra>\", \"legendgroup\": \"Mauritius\", \"marker\": {\"color\": \"#ab63fa\", \"size\": [11.0], \"sizemode\": \"area\", \"sizeref\": 1.5802777777777777, \"symbol\": \"circle\"}, \"mode\": \"markers\", \"name\": \"Mauritius\", \"orientation\": \"v\", \"showlegend\": true, \"type\": \"scatter\", \"x\": [23828.104148712657], \"xaxis\": \"x\", \"y\": [1271768.0], \"yaxis\": \"y\"}, {\"hovertemplate\": \"country=Mongolia<br>gdp_per_capita=%{x}<br>population=%{y}<br>coffee_consumption=%{marker.size}<extra></extra>\", \"legendgroup\": \"Mongolia\", \"marker\": {\"color\": \"#FFA15A\", \"size\": [16.0], \"sizemode\": \"area\", \"sizeref\": 1.5802777777777777, \"symbol\": \"circle\"}, \"mode\": \"markers\", \"name\": \"Mongolia\", \"orientation\": \"v\", \"showlegend\": true, \"type\": \"scatter\", \"x\": [12612.207919982673], \"xaxis\": \"x\", \"y\": [3278290.0], \"yaxis\": \"y\"}, {\"hovertemplate\": \"country=Moldova<br>gdp_per_capita=%{x}<br>population=%{y}<br>coffee_consumption=%{marker.size}<extra></extra>\", \"legendgroup\": \"Moldova\", \"marker\": {\"color\": \"#19d3f3\", \"size\": [111.0], \"sizemode\": \"area\", \"sizeref\": 1.5802777777777777, \"symbol\": \"circle\"}, \"mode\": \"markers\", \"name\": \"Moldova\", \"orientation\": \"v\", \"showlegend\": true, \"type\": \"scatter\", \"x\": [8942.794298063716], \"xaxis\": \"x\", \"y\": [4033963.0], \"yaxis\": \"y\"}, {\"hovertemplate\": \"country=Montenegro<br>gdp_per_capita=%{x}<br>population=%{y}<br>coffee_consumption=%{marker.size}<extra></extra>\", \"legendgroup\": \"Montenegro\", \"marker\": {\"color\": \"#FF6692\", \"size\": [21.0], \"sizemode\": \"area\", \"sizeref\": 1.5802777777777777, \"symbol\": \"circle\"}, \"mode\": \"markers\", \"name\": \"Montenegro\", \"orientation\": \"v\", \"showlegend\": true, \"type\": \"scatter\", \"x\": [22771.664973107923], \"xaxis\": \"x\", \"y\": [628066.0], \"yaxis\": \"y\"}, {\"hovertemplate\": \"country=Mozambique<br>gdp_per_capita=%{x}<br>population=%{y}<br>coffee_consumption=%{marker.size}<extra></extra>\", \"legendgroup\": \"Mozambique\", \"marker\": {\"color\": \"#B6E880\", \"size\": [161.0], \"sizemode\": \"area\", \"sizeref\": 1.5802777777777777, \"symbol\": \"circle\"}, \"mode\": \"markers\", \"name\": \"Mozambique\", \"orientation\": \"v\", \"showlegend\": true, \"type\": \"scatter\", \"x\": [1295.5718153018827], \"xaxis\": \"x\", \"y\": [31255435.0], \"yaxis\": \"y\"}, {\"hovertemplate\": \"country=Namibia<br>gdp_per_capita=%{x}<br>population=%{y}<br>coffee_consumption=%{marker.size}<extra></extra>\", \"legendgroup\": \"Namibia\", \"marker\": {\"color\": \"#FF97FF\", \"size\": [21.0], \"sizemode\": \"area\", \"sizeref\": 1.5802777777777777, \"symbol\": \"circle\"}, \"mode\": \"markers\", \"name\": \"Namibia\", \"orientation\": \"v\", \"showlegend\": true, \"type\": \"scatter\", \"x\": [9853.410884704466], \"xaxis\": \"x\", \"y\": [2540905.0], \"yaxis\": \"y\"}, {\"hovertemplate\": \"country=Nepal<br>gdp_per_capita=%{x}<br>population=%{y}<br>coffee_consumption=%{marker.size}<extra></extra>\", \"legendgroup\": \"Nepal\", \"marker\": {\"color\": \"#FECB52\", \"size\": [16.0], \"sizemode\": \"area\", \"sizeref\": 1.5802777777777777, \"symbol\": \"circle\"}, \"mode\": \"markers\", \"name\": \"Nepal\", \"orientation\": \"v\", \"showlegend\": true, \"type\": \"scatter\", \"x\": [3500.7266410239586], \"xaxis\": \"x\", \"y\": [29136808.0], \"yaxis\": \"y\"}, {\"hovertemplate\": \"country=Nicaragua<br>gdp_per_capita=%{x}<br>population=%{y}<br>coffee_consumption=%{marker.size}<extra></extra>\", \"legendgroup\": \"Nicaragua\", \"marker\": {\"color\": \"#636efa\", \"size\": [200.0], \"sizemode\": \"area\", \"sizeref\": 1.5802777777777777, \"symbol\": \"circle\"}, \"mode\": \"markers\", \"name\": \"Nicaragua\", \"orientation\": \"v\", \"showlegend\": true, \"type\": \"scatter\", \"x\": [5564.00342709864], \"xaxis\": \"x\", \"y\": [6624554.0], \"yaxis\": \"y\"}, {\"hovertemplate\": \"country=Niger<br>gdp_per_capita=%{x}<br>population=%{y}<br>coffee_consumption=%{marker.size}<extra></extra>\", \"legendgroup\": \"Niger\", \"marker\": {\"color\": \"#EF553B\", \"size\": [11.0], \"sizemode\": \"area\", \"sizeref\": 1.5802777777777777, \"symbol\": \"circle\"}, \"mode\": \"markers\", \"name\": \"Niger\", \"orientation\": \"v\", \"showlegend\": true, \"type\": \"scatter\", \"x\": [1222.6112956426343], \"xaxis\": \"x\", \"y\": [24206644.0], \"yaxis\": \"y\"}, {\"hovertemplate\": \"country=Nigeria<br>gdp_per_capita=%{x}<br>population=%{y}<br>coffee_consumption=%{marker.size}<extra></extra>\", \"legendgroup\": \"Nigeria\", \"marker\": {\"color\": \"#00cc96\", \"size\": [41.0], \"sizemode\": \"area\", \"sizeref\": 1.5802777777777777, \"symbol\": \"circle\"}, \"mode\": \"markers\", \"name\": \"Nigeria\", \"orientation\": \"v\", \"showlegend\": true, \"type\": \"scatter\", \"x\": [5190.657482100636], \"xaxis\": \"x\", \"y\": [206139589.0], \"yaxis\": \"y\"}, {\"hovertemplate\": \"country=Pakistan<br>gdp_per_capita=%{x}<br>population=%{y}<br>coffee_consumption=%{marker.size}<extra></extra>\", \"legendgroup\": \"Pakistan\", \"marker\": {\"color\": \"#ab63fa\", \"size\": [311.0], \"sizemode\": \"area\", \"sizeref\": 1.5802777777777777, \"symbol\": \"circle\"}, \"mode\": \"markers\", \"name\": \"Pakistan\", \"orientation\": \"v\", \"showlegend\": true, \"type\": \"scatter\", \"x\": [4798.717782608487], \"xaxis\": \"x\", \"y\": [220892340.0], \"yaxis\": \"y\"}, {\"hovertemplate\": \"country=Papua New Guinea<br>gdp_per_capita=%{x}<br>population=%{y}<br>coffee_consumption=%{marker.size}<extra></extra>\", \"legendgroup\": \"Papua New Guinea\", \"marker\": {\"color\": \"#FFA15A\", \"size\": [2.0], \"sizemode\": \"area\", \"sizeref\": 1.5802777777777777, \"symbol\": \"circle\"}, \"mode\": \"markers\", \"name\": \"Papua New Guinea\", \"orientation\": \"v\", \"showlegend\": true, \"type\": \"scatter\", \"x\": [4482.15604887167], \"xaxis\": \"x\", \"y\": [8947024.0], \"yaxis\": \"y\"}, {\"hovertemplate\": \"country=Paraguay<br>gdp_per_capita=%{x}<br>population=%{y}<br>coffee_consumption=%{marker.size}<extra></extra>\", \"legendgroup\": \"Paraguay\", \"marker\": {\"color\": \"#19d3f3\", \"size\": [20.0], \"sizemode\": \"area\", \"sizeref\": 1.5802777777777777, \"symbol\": \"circle\"}, \"mode\": \"markers\", \"name\": \"Paraguay\", \"orientation\": \"v\", \"showlegend\": true, \"type\": \"scatter\", \"x\": [13047.502962479835], \"xaxis\": \"x\", \"y\": [7132538.0], \"yaxis\": \"y\"}, {\"hovertemplate\": \"country=Rwanda<br>gdp_per_capita=%{x}<br>population=%{y}<br>coffee_consumption=%{marker.size}<extra></extra>\", \"legendgroup\": \"Rwanda\", \"marker\": {\"color\": \"#FF6692\", \"size\": [1.0], \"sizemode\": \"area\", \"sizeref\": 1.5802777777777777, \"symbol\": \"circle\"}, \"mode\": \"markers\", \"name\": \"Rwanda\", \"orientation\": \"v\", \"showlegend\": true, \"type\": \"scatter\", \"x\": [2260.2622736893404], \"xaxis\": \"x\", \"y\": [12952218.0], \"yaxis\": \"y\"}, {\"hovertemplate\": \"country=Senegal<br>gdp_per_capita=%{x}<br>population=%{y}<br>coffee_consumption=%{marker.size}<extra></extra>\", \"legendgroup\": \"Senegal\", \"marker\": {\"color\": \"#B6E880\", \"size\": [11.0], \"sizemode\": \"area\", \"sizeref\": 1.5802777777777777, \"symbol\": \"circle\"}, \"mode\": \"markers\", \"name\": \"Senegal\", \"orientation\": \"v\", \"showlegend\": true, \"type\": \"scatter\", \"x\": [3441.063483614089], \"xaxis\": \"x\", \"y\": [16743927.0], \"yaxis\": \"y\"}, {\"hovertemplate\": \"country=Serbia<br>gdp_per_capita=%{x}<br>population=%{y}<br>coffee_consumption=%{marker.size}<extra></extra>\", \"legendgroup\": \"Serbia\", \"marker\": {\"color\": \"#FF97FF\", \"size\": [545.0], \"sizemode\": \"area\", \"sizeref\": 1.5802777777777777, \"symbol\": \"circle\"}, \"mode\": \"markers\", \"name\": \"Serbia\", \"orientation\": \"v\", \"showlegend\": true, \"type\": \"scatter\", \"x\": [15107.519183974218], \"xaxis\": \"x\", \"y\": [8737371.0], \"yaxis\": \"y\"}, {\"hovertemplate\": \"country=Seychelles<br>gdp_per_capita=%{x}<br>population=%{y}<br>coffee_consumption=%{marker.size}<extra></extra>\", \"legendgroup\": \"Seychelles\", \"marker\": {\"color\": \"#FECB52\", \"size\": [2.0], \"sizemode\": \"area\", \"sizeref\": 1.5802777777777777, \"symbol\": \"circle\"}, \"mode\": \"markers\", \"name\": \"Seychelles\", \"orientation\": \"v\", \"showlegend\": true, \"type\": \"scatter\", \"x\": [30037.81199223159], \"xaxis\": \"x\", \"y\": [98347.0], \"yaxis\": \"y\"}, {\"hovertemplate\": \"country=Sierra Leone<br>gdp_per_capita=%{x}<br>population=%{y}<br>coffee_consumption=%{marker.size}<extra></extra>\", \"legendgroup\": \"Sierra Leone\", \"marker\": {\"color\": \"#636efa\", \"size\": [5.0], \"sizemode\": \"area\", \"sizeref\": 1.5802777777777777, \"symbol\": \"circle\"}, \"mode\": \"markers\", \"name\": \"Sierra Leone\", \"orientation\": \"v\", \"showlegend\": true, \"type\": \"scatter\", \"x\": [1752.8480595984722], \"xaxis\": \"x\", \"y\": [7976983.0], \"yaxis\": \"y\"}, {\"hovertemplate\": \"country=Slovenia<br>gdp_per_capita=%{x}<br>population=%{y}<br>coffee_consumption=%{marker.size}<extra></extra>\", \"legendgroup\": \"Slovenia\", \"marker\": {\"color\": \"#EF553B\", \"size\": [208.0], \"sizemode\": \"area\", \"sizeref\": 1.5802777777777777, \"symbol\": \"circle\"}, \"mode\": \"markers\", \"name\": \"Slovenia\", \"orientation\": \"v\", \"showlegend\": true, \"type\": \"scatter\", \"x\": [40832.7214779854], \"xaxis\": \"x\", \"y\": [2078938.0], \"yaxis\": \"y\"}, {\"hovertemplate\": \"country=Zimbabwe<br>gdp_per_capita=%{x}<br>population=%{y}<br>coffee_consumption=%{marker.size}<extra></extra>\", \"legendgroup\": \"Zimbabwe\", \"marker\": {\"color\": \"#00cc96\", \"size\": [4.0], \"sizemode\": \"area\", \"sizeref\": 1.5802777777777777, \"symbol\": \"circle\"}, \"mode\": \"markers\", \"name\": \"Zimbabwe\", \"orientation\": \"v\", \"showlegend\": true, \"type\": \"scatter\", \"x\": [2910.2723705645], \"xaxis\": \"x\", \"y\": [14862924.0], \"yaxis\": \"y\"}, {\"hovertemplate\": \"country=Sudan<br>gdp_per_capita=%{x}<br>population=%{y}<br>coffee_consumption=%{marker.size}<extra></extra>\", \"legendgroup\": \"Sudan\", \"marker\": {\"color\": \"#ab63fa\", \"size\": [71.0], \"sizemode\": \"area\", \"sizeref\": 1.5802777777777777, \"symbol\": \"circle\"}, \"mode\": \"markers\", \"name\": \"Sudan\", \"orientation\": \"v\", \"showlegend\": true, \"type\": \"scatter\", \"x\": [4013.750745166509], \"xaxis\": \"x\", \"y\": [43849260.0], \"yaxis\": \"y\"}, {\"hovertemplate\": \"country=Suriname<br>gdp_per_capita=%{x}<br>population=%{y}<br>coffee_consumption=%{marker.size}<extra></extra>\", \"legendgroup\": \"Suriname\", \"marker\": {\"color\": \"#FFA15A\", \"size\": [7.0], \"sizemode\": \"area\", \"sizeref\": 1.5802777777777777, \"symbol\": \"circle\"}, \"mode\": \"markers\", \"name\": \"Suriname\", \"orientation\": \"v\", \"showlegend\": true, \"type\": \"scatter\", \"x\": [16852.94862878261], \"xaxis\": \"x\", \"y\": [586632.0], \"yaxis\": \"y\"}, {\"hovertemplate\": \"country=Tajikistan<br>gdp_per_capita=%{x}<br>population=%{y}<br>coffee_consumption=%{marker.size}<extra></extra>\", \"legendgroup\": \"Tajikistan\", \"marker\": {\"color\": \"#19d3f3\", \"size\": [51.0], \"sizemode\": \"area\", \"sizeref\": 1.5802777777777777, \"symbol\": \"circle\"}, \"mode\": \"markers\", \"name\": \"Tajikistan\", \"orientation\": \"v\", \"showlegend\": true, \"type\": \"scatter\", \"x\": [3439.876864152524], \"xaxis\": \"x\", \"y\": [9537645.0], \"yaxis\": \"y\"}, {\"hovertemplate\": \"country=Togo<br>gdp_per_capita=%{x}<br>population=%{y}<br>coffee_consumption=%{marker.size}<extra></extra>\", \"legendgroup\": \"Togo\", \"marker\": {\"color\": \"#FF6692\", \"size\": [4.0], \"sizemode\": \"area\", \"sizeref\": 1.5802777777777777, \"symbol\": \"circle\"}, \"mode\": \"markers\", \"name\": \"Togo\", \"orientation\": \"v\", \"showlegend\": true, \"type\": \"scatter\", \"x\": [1622.6506657306127], \"xaxis\": \"x\", \"y\": [8278724.0], \"yaxis\": \"y\"}, {\"hovertemplate\": \"country=Tunisia<br>gdp_per_capita=%{x}<br>population=%{y}<br>coffee_consumption=%{marker.size}<extra></extra>\", \"legendgroup\": \"Tunisia\", \"marker\": {\"color\": \"#B6E880\", \"size\": [340.0], \"sizemode\": \"area\", \"sizeref\": 1.5802777777777777, \"symbol\": \"circle\"}, \"mode\": \"markers\", \"name\": \"Tunisia\", \"orientation\": \"v\", \"showlegend\": true, \"type\": \"scatter\", \"x\": [11084.205354280395], \"xaxis\": \"x\", \"y\": [11818619.0], \"yaxis\": \"y\"}, {\"hovertemplate\": \"country=Uganda<br>gdp_per_capita=%{x}<br>population=%{y}<br>coffee_consumption=%{marker.size}<extra></extra>\", \"legendgroup\": \"Uganda\", \"marker\": {\"color\": \"#FF97FF\", \"size\": [140.0], \"sizemode\": \"area\", \"sizeref\": 1.5802777777777777, \"symbol\": \"circle\"}, \"mode\": \"markers\", \"name\": \"Uganda\", \"orientation\": \"v\", \"showlegend\": true, \"type\": \"scatter\", \"x\": [2208.0843126169043], \"xaxis\": \"x\", \"y\": [45741007.0], \"yaxis\": \"y\"}, {\"hovertemplate\": \"country=Ukraine<br>gdp_per_capita=%{x}<br>population=%{y}<br>coffee_consumption=%{marker.size}<extra></extra>\", \"legendgroup\": \"Ukraine\", \"marker\": {\"color\": \"#FECB52\", \"size\": [1324.0], \"sizemode\": \"area\", \"sizeref\": 1.5802777777777777, \"symbol\": \"circle\"}, \"mode\": \"markers\", \"name\": \"Ukraine\", \"orientation\": \"v\", \"showlegend\": true, \"type\": \"scatter\", \"x\": [12827.61816831582], \"xaxis\": \"x\", \"y\": [43733762.0], \"yaxis\": \"y\"}, {\"hovertemplate\": \"country=Tanzania<br>gdp_per_capita=%{x}<br>population=%{y}<br>coffee_consumption=%{marker.size}<extra></extra>\", \"legendgroup\": \"Tanzania\", \"marker\": {\"color\": \"#636efa\", \"size\": [47.0], \"sizemode\": \"area\", \"sizeref\": 1.5802777777777777, \"symbol\": \"circle\"}, \"mode\": \"markers\", \"name\": \"Tanzania\", \"orientation\": \"v\", \"showlegend\": true, \"type\": \"scatter\", \"x\": [2611.5684648286515], \"xaxis\": \"x\", \"y\": [59734218.0], \"yaxis\": \"y\"}, {\"hovertemplate\": \"country=Burkina Faso<br>gdp_per_capita=%{x}<br>population=%{y}<br>coffee_consumption=%{marker.size}<extra></extra>\", \"legendgroup\": \"Burkina Faso\", \"marker\": {\"color\": \"#EF553B\", \"size\": [11.0], \"sizemode\": \"area\", \"sizeref\": 1.5802777777777777, \"symbol\": \"circle\"}, \"mode\": \"markers\", \"name\": \"Burkina Faso\", \"orientation\": \"v\", \"showlegend\": true, \"type\": \"scatter\", \"x\": [2216.8999422243587], \"xaxis\": \"x\", \"y\": [20903273.0], \"yaxis\": \"y\"}, {\"hovertemplate\": \"country=Uruguay<br>gdp_per_capita=%{x}<br>population=%{y}<br>coffee_consumption=%{marker.size}<extra></extra>\", \"legendgroup\": \"Uruguay\", \"marker\": {\"color\": \"#00cc96\", \"size\": [63.0], \"sizemode\": \"area\", \"sizeref\": 1.5802777777777777, \"symbol\": \"circle\"}, \"mode\": \"markers\", \"name\": \"Uruguay\", \"orientation\": \"v\", \"showlegend\": true, \"type\": \"scatter\", \"x\": [22377.114185903913], \"xaxis\": \"x\", \"y\": [3473730.0], \"yaxis\": \"y\"}, {\"hovertemplate\": \"country=Uzbekistan<br>gdp_per_capita=%{x}<br>population=%{y}<br>coffee_consumption=%{marker.size}<extra></extra>\", \"legendgroup\": \"Uzbekistan\", \"marker\": {\"color\": \"#ab63fa\", \"size\": [151.0], \"sizemode\": \"area\", \"sizeref\": 1.5802777777777777, \"symbol\": \"circle\"}, \"mode\": \"markers\", \"name\": \"Uzbekistan\", \"orientation\": \"v\", \"showlegend\": true, \"type\": \"scatter\", \"x\": [7320.1623594084385], \"xaxis\": \"x\", \"y\": [33469203.0], \"yaxis\": \"y\"}, {\"hovertemplate\": \"country=Samoa<br>gdp_per_capita=%{x}<br>population=%{y}<br>coffee_consumption=%{marker.size}<extra></extra>\", \"legendgroup\": \"Samoa\", \"marker\": {\"color\": \"#FFA15A\", \"size\": [1.0], \"sizemode\": \"area\", \"sizeref\": 1.5802777777777777, \"symbol\": \"circle\"}, \"mode\": \"markers\", \"name\": \"Samoa\", \"orientation\": \"v\", \"showlegend\": true, \"type\": \"scatter\", \"x\": [6742.080916669187], \"xaxis\": \"x\", \"y\": [198414.0], \"yaxis\": \"y\"}, {\"hovertemplate\": \"country=Zambia<br>gdp_per_capita=%{x}<br>population=%{y}<br>coffee_consumption=%{marker.size}<extra></extra>\", \"legendgroup\": \"Zambia\", \"marker\": {\"color\": \"#19d3f3\", \"size\": [1.0], \"sizemode\": \"area\", \"sizeref\": 1.5802777777777777, \"symbol\": \"circle\"}, \"mode\": \"markers\", \"name\": \"Zambia\", \"orientation\": \"v\", \"showlegend\": true, \"type\": \"scatter\", \"x\": [3520.6245664221874], \"xaxis\": \"x\", \"y\": [18383955.0], \"yaxis\": \"y\"}],\n",
       "                        {\"legend\": {\"itemsizing\": \"constant\", \"title\": {\"text\": \"country\"}, \"tracegroupgap\": 0}, \"template\": {\"data\": {\"bar\": [{\"error_x\": {\"color\": \"#2a3f5f\"}, \"error_y\": {\"color\": \"#2a3f5f\"}, \"marker\": {\"line\": {\"color\": \"#E5ECF6\", \"width\": 0.5}}, \"type\": \"bar\"}], \"barpolar\": [{\"marker\": {\"line\": {\"color\": \"#E5ECF6\", \"width\": 0.5}}, \"type\": \"barpolar\"}], \"carpet\": [{\"aaxis\": {\"endlinecolor\": \"#2a3f5f\", \"gridcolor\": \"white\", \"linecolor\": \"white\", \"minorgridcolor\": \"white\", \"startlinecolor\": \"#2a3f5f\"}, \"baxis\": {\"endlinecolor\": \"#2a3f5f\", \"gridcolor\": \"white\", \"linecolor\": \"white\", \"minorgridcolor\": \"white\", \"startlinecolor\": \"#2a3f5f\"}, \"type\": \"carpet\"}], \"choropleth\": [{\"colorbar\": {\"outlinewidth\": 0, \"ticks\": \"\"}, \"type\": \"choropleth\"}], \"contour\": [{\"colorbar\": {\"outlinewidth\": 0, \"ticks\": \"\"}, \"colorscale\": [[0.0, \"#0d0887\"], [0.1111111111111111, \"#46039f\"], [0.2222222222222222, \"#7201a8\"], [0.3333333333333333, \"#9c179e\"], [0.4444444444444444, \"#bd3786\"], [0.5555555555555556, \"#d8576b\"], [0.6666666666666666, \"#ed7953\"], [0.7777777777777778, \"#fb9f3a\"], [0.8888888888888888, \"#fdca26\"], [1.0, \"#f0f921\"]], \"type\": \"contour\"}], \"contourcarpet\": [{\"colorbar\": {\"outlinewidth\": 0, \"ticks\": \"\"}, \"type\": \"contourcarpet\"}], \"heatmap\": [{\"colorbar\": {\"outlinewidth\": 0, \"ticks\": \"\"}, \"colorscale\": [[0.0, \"#0d0887\"], [0.1111111111111111, \"#46039f\"], [0.2222222222222222, \"#7201a8\"], [0.3333333333333333, \"#9c179e\"], [0.4444444444444444, \"#bd3786\"], [0.5555555555555556, \"#d8576b\"], [0.6666666666666666, \"#ed7953\"], [0.7777777777777778, \"#fb9f3a\"], [0.8888888888888888, \"#fdca26\"], [1.0, \"#f0f921\"]], \"type\": \"heatmap\"}], \"heatmapgl\": [{\"colorbar\": {\"outlinewidth\": 0, \"ticks\": \"\"}, \"colorscale\": [[0.0, \"#0d0887\"], [0.1111111111111111, \"#46039f\"], [0.2222222222222222, \"#7201a8\"], [0.3333333333333333, \"#9c179e\"], [0.4444444444444444, \"#bd3786\"], [0.5555555555555556, \"#d8576b\"], [0.6666666666666666, \"#ed7953\"], [0.7777777777777778, \"#fb9f3a\"], [0.8888888888888888, \"#fdca26\"], [1.0, \"#f0f921\"]], \"type\": \"heatmapgl\"}], \"histogram\": [{\"marker\": {\"colorbar\": {\"outlinewidth\": 0, \"ticks\": \"\"}}, \"type\": \"histogram\"}], \"histogram2d\": [{\"colorbar\": {\"outlinewidth\": 0, \"ticks\": \"\"}, \"colorscale\": [[0.0, \"#0d0887\"], [0.1111111111111111, \"#46039f\"], [0.2222222222222222, \"#7201a8\"], [0.3333333333333333, \"#9c179e\"], [0.4444444444444444, \"#bd3786\"], [0.5555555555555556, \"#d8576b\"], [0.6666666666666666, \"#ed7953\"], [0.7777777777777778, \"#fb9f3a\"], [0.8888888888888888, \"#fdca26\"], [1.0, \"#f0f921\"]], \"type\": \"histogram2d\"}], \"histogram2dcontour\": [{\"colorbar\": {\"outlinewidth\": 0, \"ticks\": \"\"}, \"colorscale\": [[0.0, \"#0d0887\"], [0.1111111111111111, \"#46039f\"], [0.2222222222222222, \"#7201a8\"], [0.3333333333333333, \"#9c179e\"], [0.4444444444444444, \"#bd3786\"], [0.5555555555555556, \"#d8576b\"], [0.6666666666666666, \"#ed7953\"], [0.7777777777777778, \"#fb9f3a\"], [0.8888888888888888, \"#fdca26\"], [1.0, \"#f0f921\"]], \"type\": \"histogram2dcontour\"}], \"mesh3d\": [{\"colorbar\": {\"outlinewidth\": 0, \"ticks\": \"\"}, \"type\": \"mesh3d\"}], \"parcoords\": [{\"line\": {\"colorbar\": {\"outlinewidth\": 0, \"ticks\": \"\"}}, \"type\": \"parcoords\"}], \"pie\": [{\"automargin\": true, \"type\": \"pie\"}], \"scatter\": [{\"marker\": {\"colorbar\": {\"outlinewidth\": 0, \"ticks\": \"\"}}, \"type\": \"scatter\"}], \"scatter3d\": [{\"line\": {\"colorbar\": {\"outlinewidth\": 0, \"ticks\": \"\"}}, \"marker\": {\"colorbar\": {\"outlinewidth\": 0, \"ticks\": \"\"}}, \"type\": \"scatter3d\"}], \"scattercarpet\": [{\"marker\": {\"colorbar\": {\"outlinewidth\": 0, \"ticks\": \"\"}}, \"type\": \"scattercarpet\"}], \"scattergeo\": [{\"marker\": {\"colorbar\": {\"outlinewidth\": 0, \"ticks\": \"\"}}, \"type\": \"scattergeo\"}], \"scattergl\": [{\"marker\": {\"colorbar\": {\"outlinewidth\": 0, \"ticks\": \"\"}}, \"type\": \"scattergl\"}], \"scattermapbox\": [{\"marker\": {\"colorbar\": {\"outlinewidth\": 0, \"ticks\": \"\"}}, \"type\": \"scattermapbox\"}], \"scatterpolar\": [{\"marker\": {\"colorbar\": {\"outlinewidth\": 0, \"ticks\": \"\"}}, \"type\": \"scatterpolar\"}], \"scatterpolargl\": [{\"marker\": {\"colorbar\": {\"outlinewidth\": 0, \"ticks\": \"\"}}, \"type\": \"scatterpolargl\"}], \"scatterternary\": [{\"marker\": {\"colorbar\": {\"outlinewidth\": 0, \"ticks\": \"\"}}, \"type\": \"scatterternary\"}], \"surface\": [{\"colorbar\": {\"outlinewidth\": 0, \"ticks\": \"\"}, \"colorscale\": [[0.0, \"#0d0887\"], [0.1111111111111111, \"#46039f\"], [0.2222222222222222, \"#7201a8\"], [0.3333333333333333, \"#9c179e\"], [0.4444444444444444, \"#bd3786\"], [0.5555555555555556, \"#d8576b\"], [0.6666666666666666, \"#ed7953\"], [0.7777777777777778, \"#fb9f3a\"], [0.8888888888888888, \"#fdca26\"], [1.0, \"#f0f921\"]], \"type\": \"surface\"}], \"table\": [{\"cells\": {\"fill\": {\"color\": \"#EBF0F8\"}, \"line\": {\"color\": \"white\"}}, \"header\": {\"fill\": {\"color\": \"#C8D4E3\"}, \"line\": {\"color\": \"white\"}}, \"type\": \"table\"}]}, \"layout\": {\"annotationdefaults\": {\"arrowcolor\": \"#2a3f5f\", \"arrowhead\": 0, \"arrowwidth\": 1}, \"coloraxis\": {\"colorbar\": {\"outlinewidth\": 0, \"ticks\": \"\"}}, \"colorscale\": {\"diverging\": [[0, \"#8e0152\"], [0.1, \"#c51b7d\"], [0.2, \"#de77ae\"], [0.3, \"#f1b6da\"], [0.4, \"#fde0ef\"], [0.5, \"#f7f7f7\"], [0.6, \"#e6f5d0\"], [0.7, \"#b8e186\"], [0.8, \"#7fbc41\"], [0.9, \"#4d9221\"], [1, \"#276419\"]], \"sequential\": [[0.0, \"#0d0887\"], [0.1111111111111111, \"#46039f\"], [0.2222222222222222, \"#7201a8\"], [0.3333333333333333, \"#9c179e\"], [0.4444444444444444, \"#bd3786\"], [0.5555555555555556, \"#d8576b\"], [0.6666666666666666, \"#ed7953\"], [0.7777777777777778, \"#fb9f3a\"], [0.8888888888888888, \"#fdca26\"], [1.0, \"#f0f921\"]], \"sequentialminus\": [[0.0, \"#0d0887\"], [0.1111111111111111, \"#46039f\"], [0.2222222222222222, \"#7201a8\"], [0.3333333333333333, \"#9c179e\"], [0.4444444444444444, \"#bd3786\"], [0.5555555555555556, \"#d8576b\"], [0.6666666666666666, \"#ed7953\"], [0.7777777777777778, \"#fb9f3a\"], [0.8888888888888888, \"#fdca26\"], [1.0, \"#f0f921\"]]}, \"colorway\": [\"#636efa\", \"#EF553B\", \"#00cc96\", \"#ab63fa\", \"#FFA15A\", \"#19d3f3\", \"#FF6692\", \"#B6E880\", \"#FF97FF\", \"#FECB52\"], \"font\": {\"color\": \"#2a3f5f\"}, \"geo\": {\"bgcolor\": \"white\", \"lakecolor\": \"white\", \"landcolor\": \"#E5ECF6\", \"showlakes\": true, \"showland\": true, \"subunitcolor\": \"white\"}, \"hoverlabel\": {\"align\": \"left\"}, \"hovermode\": \"closest\", \"mapbox\": {\"style\": \"light\"}, \"paper_bgcolor\": \"white\", \"plot_bgcolor\": \"#E5ECF6\", \"polar\": {\"angularaxis\": {\"gridcolor\": \"white\", \"linecolor\": \"white\", \"ticks\": \"\"}, \"bgcolor\": \"#E5ECF6\", \"radialaxis\": {\"gridcolor\": \"white\", \"linecolor\": \"white\", \"ticks\": \"\"}}, \"scene\": {\"xaxis\": {\"backgroundcolor\": \"#E5ECF6\", \"gridcolor\": \"white\", \"gridwidth\": 2, \"linecolor\": \"white\", \"showbackground\": true, \"ticks\": \"\", \"zerolinecolor\": \"white\"}, \"yaxis\": {\"backgroundcolor\": \"#E5ECF6\", \"gridcolor\": \"white\", \"gridwidth\": 2, \"linecolor\": \"white\", \"showbackground\": true, \"ticks\": \"\", \"zerolinecolor\": \"white\"}, \"zaxis\": {\"backgroundcolor\": \"#E5ECF6\", \"gridcolor\": \"white\", \"gridwidth\": 2, \"linecolor\": \"white\", \"showbackground\": true, \"ticks\": \"\", \"zerolinecolor\": \"white\"}}, \"shapedefaults\": {\"line\": {\"color\": \"#2a3f5f\"}}, \"ternary\": {\"aaxis\": {\"gridcolor\": \"white\", \"linecolor\": \"white\", \"ticks\": \"\"}, \"baxis\": {\"gridcolor\": \"white\", \"linecolor\": \"white\", \"ticks\": \"\"}, \"bgcolor\": \"#E5ECF6\", \"caxis\": {\"gridcolor\": \"white\", \"linecolor\": \"white\", \"ticks\": \"\"}}, \"title\": {\"x\": 0.05}, \"xaxis\": {\"automargin\": true, \"gridcolor\": \"white\", \"linecolor\": \"white\", \"ticks\": \"\", \"title\": {\"standoff\": 15}, \"zerolinecolor\": \"white\", \"zerolinewidth\": 2}, \"yaxis\": {\"automargin\": true, \"gridcolor\": \"white\", \"linecolor\": \"white\", \"ticks\": \"\", \"title\": {\"standoff\": 15}, \"zerolinecolor\": \"white\", \"zerolinewidth\": 2}}}, \"title\": {\"text\": \"fig.3 Potential Countries For A New Location\", \"x\": 0.5}, \"xaxis\": {\"anchor\": \"y\", \"domain\": [0.0, 1.0], \"title\": {\"text\": \"gdp_per_capita\"}, \"type\": \"log\"}, \"yaxis\": {\"anchor\": \"x\", \"domain\": [0.0, 1.0], \"title\": {\"text\": \"population\"}, \"type\": \"log\"}},\n",
       "                        {\"responsive\": true}\n",
       "                    ).then(function(){\n",
       "                            \n",
       "var gd = document.getElementById('3eff411a-f6f8-4957-a9f3-28f8f6d75036');\n",
       "var x = new MutationObserver(function (mutations, observer) {{\n",
       "        var display = window.getComputedStyle(gd).display;\n",
       "        if (!display || display === 'none') {{\n",
       "            console.log([gd, 'removed!']);\n",
       "            Plotly.purge(gd);\n",
       "            observer.disconnect();\n",
       "        }}\n",
       "}});\n",
       "\n",
       "// Listen for the removal of the full notebook cells\n",
       "var notebookContainer = gd.closest('#notebook-container');\n",
       "if (notebookContainer) {{\n",
       "    x.observe(notebookContainer, {childList: true});\n",
       "}}\n",
       "\n",
       "// Listen for the clearing of the current output cell\n",
       "var outputEl = gd.closest('.output');\n",
       "if (outputEl) {{\n",
       "    x.observe(outputEl, {childList: true});\n",
       "}}\n",
       "\n",
       "                        })\n",
       "                };\n",
       "                });\n",
       "            </script>\n",
       "        </div>"
      ]
     },
     "metadata": {},
     "output_type": "display_data"
    }
   ],
   "source": [
    "# Create a new datafarme that has countries with no Starbucks stores and higher gdp\n",
    "open_df=starbucks4.loc[starbucks4.store_count==0].dropna()\n",
    "\n",
    "#Display the graph\n",
    "fig = px.scatter(open_df, x='gdp_per_capita', y='population', color='country' \n",
    "                 , size_max=60, log_y=True, log_x=True, size= 'coffee_consumption', title='fig.3 Potential Countries For A New Location')\n",
    "\n",
    "fig.update(layout=dict(title=dict(x=0.5)))\n",
    "fig.show()\n",
    "\n",
    "                        "
   ]
  }
 ],
 "metadata": {
  "kernelspec": {
   "display_name": "Python 3",
   "language": "python",
   "name": "python3"
  },
  "language_info": {
   "codemirror_mode": {
    "name": "ipython",
    "version": 3
   },
   "file_extension": ".py",
   "mimetype": "text/x-python",
   "name": "python",
   "nbconvert_exporter": "python",
   "pygments_lexer": "ipython3",
   "version": "3.7.6"
  }
 },
 "nbformat": 4,
 "nbformat_minor": 4
}
