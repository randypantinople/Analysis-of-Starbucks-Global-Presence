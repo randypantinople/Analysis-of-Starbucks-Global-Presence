{
 "cells": [
  {
   "cell_type": "code",
   "execution_count": 1,
   "metadata": {},
   "outputs": [],
   "source": [
    "%matplotlib inline"
   ]
  },
  {
   "cell_type": "code",
   "execution_count": 2,
   "metadata": {},
   "outputs": [],
   "source": [
    "import pandas as pd\n",
    "import numpy as np\n",
    "from matplotlib import pyplot as plt\n",
    "plt.style.use('ggplot')\n",
    "\n",
    "from sklearn.neighbors import DistanceMetric\n",
    "from math import radians\n",
    "import re\n",
    "from googletrans import Translator\n",
    "import plotly.express as px"
   ]
  },
  {
   "cell_type": "code",
   "execution_count": 79,
   "metadata": {},
   "outputs": [
    {
     "data": {
      "text/html": [
       "<div>\n",
       "<style scoped>\n",
       "    .dataframe tbody tr th:only-of-type {\n",
       "        vertical-align: middle;\n",
       "    }\n",
       "\n",
       "    .dataframe tbody tr th {\n",
       "        vertical-align: top;\n",
       "    }\n",
       "\n",
       "    .dataframe thead th {\n",
       "        text-align: right;\n",
       "    }\n",
       "</style>\n",
       "<table border=\"1\" class=\"dataframe\">\n",
       "  <thead>\n",
       "    <tr style=\"text-align: right;\">\n",
       "      <th></th>\n",
       "      <th>Brand</th>\n",
       "      <th>Store Number</th>\n",
       "      <th>store_name</th>\n",
       "      <th>Ownership_Type</th>\n",
       "      <th>Street Address</th>\n",
       "      <th>City</th>\n",
       "      <th>State/Province</th>\n",
       "      <th>Country</th>\n",
       "      <th>Postcode</th>\n",
       "      <th>Phone Number</th>\n",
       "      <th>Timezone</th>\n",
       "      <th>Longitude</th>\n",
       "      <th>Latitude</th>\n",
       "      <th>store_count</th>\n",
       "    </tr>\n",
       "  </thead>\n",
       "  <tbody>\n",
       "    <tr>\n",
       "      <th>21970</th>\n",
       "      <td>Starbucks</td>\n",
       "      <td>49585-269685</td>\n",
       "      <td>Albertsons - Baker City #3211</td>\n",
       "      <td>Licensed</td>\n",
       "      <td>1120 Campbell St.</td>\n",
       "      <td>Baker City</td>\n",
       "      <td>OR</td>\n",
       "      <td>US</td>\n",
       "      <td>97814</td>\n",
       "      <td>5415192449</td>\n",
       "      <td>GMT-08:00 America/Los_Angeles</td>\n",
       "      <td>-117.82</td>\n",
       "      <td>44.78</td>\n",
       "      <td>1</td>\n",
       "    </tr>\n",
       "    <tr>\n",
       "      <th>21081</th>\n",
       "      <td>Starbucks</td>\n",
       "      <td>23901-233644</td>\n",
       "      <td>Latham Plaza</td>\n",
       "      <td>Company Owned</td>\n",
       "      <td>1210 Troy Schenectady Road</td>\n",
       "      <td>Latham</td>\n",
       "      <td>NY</td>\n",
       "      <td>US</td>\n",
       "      <td>12110</td>\n",
       "      <td>518 7647116</td>\n",
       "      <td>GMT-05:00 America/New_York</td>\n",
       "      <td>-73.82</td>\n",
       "      <td>42.77</td>\n",
       "      <td>1</td>\n",
       "    </tr>\n",
       "    <tr>\n",
       "      <th>8075</th>\n",
       "      <td>Starbucks</td>\n",
       "      <td>22029-217025</td>\n",
       "      <td>Yeongdeungpo Singil DT</td>\n",
       "      <td>Joint Venture</td>\n",
       "      <td>252-9.Singil-dong Yeongdeungpo-gu</td>\n",
       "      <td>Seoul</td>\n",
       "      <td>11</td>\n",
       "      <td>KR</td>\n",
       "      <td>150-841</td>\n",
       "      <td>NaN</td>\n",
       "      <td>GMT+09:00 Asia/Seoul</td>\n",
       "      <td>126.91</td>\n",
       "      <td>37.50</td>\n",
       "      <td>1</td>\n",
       "    </tr>\n",
       "    <tr>\n",
       "      <th>14601</th>\n",
       "      <td>Starbucks</td>\n",
       "      <td>10012-98199</td>\n",
       "      <td>Hwy 905 &amp; La Media, San Diego</td>\n",
       "      <td>Company Owned</td>\n",
       "      <td>8299 Otay Mesa Road, D</td>\n",
       "      <td>San Diego</td>\n",
       "      <td>CA</td>\n",
       "      <td>US</td>\n",
       "      <td>921547701</td>\n",
       "      <td>619-710-0082</td>\n",
       "      <td>GMT-08:00 America/Tijuana</td>\n",
       "      <td>-116.97</td>\n",
       "      <td>32.57</td>\n",
       "      <td>1</td>\n",
       "    </tr>\n",
       "    <tr>\n",
       "      <th>24653</th>\n",
       "      <td>Starbucks</td>\n",
       "      <td>72918-92406</td>\n",
       "      <td>Fred Meyer - Bellevue #23</td>\n",
       "      <td>Licensed</td>\n",
       "      <td>2041 148th NE</td>\n",
       "      <td>Bellevue</td>\n",
       "      <td>WA</td>\n",
       "      <td>US</td>\n",
       "      <td>980073788</td>\n",
       "      <td>425-865-8560</td>\n",
       "      <td>GMT-08:00 America/Los_Angeles</td>\n",
       "      <td>-122.14</td>\n",
       "      <td>47.63</td>\n",
       "      <td>1</td>\n",
       "    </tr>\n",
       "  </tbody>\n",
       "</table>\n",
       "</div>"
      ],
      "text/plain": [
       "           Brand  Store Number                     store_name Ownership_Type  \\\n",
       "21970  Starbucks  49585-269685  Albertsons - Baker City #3211       Licensed   \n",
       "21081  Starbucks  23901-233644                   Latham Plaza  Company Owned   \n",
       "8075   Starbucks  22029-217025         Yeongdeungpo Singil DT  Joint Venture   \n",
       "14601  Starbucks   10012-98199  Hwy 905 & La Media, San Diego  Company Owned   \n",
       "24653  Starbucks   72918-92406      Fred Meyer - Bellevue #23       Licensed   \n",
       "\n",
       "                          Street Address        City State/Province Country  \\\n",
       "21970                  1120 Campbell St.  Baker City             OR      US   \n",
       "21081         1210 Troy Schenectady Road      Latham             NY      US   \n",
       "8075   252-9.Singil-dong Yeongdeungpo-gu       Seoul             11      KR   \n",
       "14601             8299 Otay Mesa Road, D   San Diego             CA      US   \n",
       "24653                      2041 148th NE    Bellevue             WA      US   \n",
       "\n",
       "        Postcode  Phone Number                       Timezone  Longitude  \\\n",
       "21970      97814    5415192449  GMT-08:00 America/Los_Angeles    -117.82   \n",
       "21081      12110   518 7647116     GMT-05:00 America/New_York     -73.82   \n",
       "8075     150-841           NaN           GMT+09:00 Asia/Seoul     126.91   \n",
       "14601  921547701  619-710-0082      GMT-08:00 America/Tijuana    -116.97   \n",
       "24653  980073788  425-865-8560  GMT-08:00 America/Los_Angeles    -122.14   \n",
       "\n",
       "       Latitude  store_count  \n",
       "21970     44.78            1  \n",
       "21081     42.77            1  \n",
       "8075      37.50            1  \n",
       "14601     32.57            1  \n",
       "24653     47.63            1  "
      ]
     },
     "execution_count": 79,
     "metadata": {},
     "output_type": "execute_result"
    }
   ],
   "source": [
    "# Data frame for the starbucks locations\n",
    "starbucks = pd.read_csv('directory.csv')\n",
    "\n",
    "#Create a new column for store count\n",
    "starbucks['store_count'] = np.ones(starbucks.shape[0]).astype(int).tolist()\n",
    "\n",
    "#Read the country code file into the dateframe.\n",
    "country_code = pd.read_csv('country_code.csv')\n",
    "\n",
    "\n",
    "#Dataframe for the world population\n",
    "world_population = pd.read_csv('world_population.csv')\n",
    "world_population = world_population[['country', 'population']]\n",
    "world_population['population']= world_population['population'].str.replace(',', '').astype(float)\n",
    "\n",
    "\n",
    "#DataFrame for the gdp\n",
    "gdp=pd.read_csv('gdp.csv')\n",
    "\n",
    "#DataFrame for city population\n",
    "city_pop= pd.read_csv('urban.csv')\n",
    "city_pop['area_km2'] = city_pop['area_km2'].str.replace(',', '').astype(float)\n",
    "city_pop['area_mi2'] = city_pop.area_km2.apply(lambda x :  x*0.39)\n",
    "city_pop['city_pop'] = city_pop['city_pop'].str.replace(',', '').astype(float)\n",
    "\n",
    "\n",
    "starbucks.sample(5)\n",
    "\n"
   ]
  },
  {
   "cell_type": "code",
   "execution_count": 80,
   "metadata": {},
   "outputs": [
    {
     "data": {
      "text/html": [
       "<div>\n",
       "<style scoped>\n",
       "    .dataframe tbody tr th:only-of-type {\n",
       "        vertical-align: middle;\n",
       "    }\n",
       "\n",
       "    .dataframe tbody tr th {\n",
       "        vertical-align: top;\n",
       "    }\n",
       "\n",
       "    .dataframe thead th {\n",
       "        text-align: right;\n",
       "    }\n",
       "</style>\n",
       "<table border=\"1\" class=\"dataframe\">\n",
       "  <thead>\n",
       "    <tr style=\"text-align: right;\">\n",
       "      <th></th>\n",
       "      <th>Brand</th>\n",
       "      <th>Store Number</th>\n",
       "      <th>store_name</th>\n",
       "      <th>Ownership_Type</th>\n",
       "      <th>Street Address</th>\n",
       "      <th>City</th>\n",
       "      <th>State/Province</th>\n",
       "      <th>Country</th>\n",
       "      <th>Postcode</th>\n",
       "      <th>Phone Number</th>\n",
       "      <th>Timezone</th>\n",
       "      <th>Longitude</th>\n",
       "      <th>Latitude</th>\n",
       "      <th>store_count</th>\n",
       "      <th>Continent_Name</th>\n",
       "      <th>Country_Name</th>\n",
       "    </tr>\n",
       "  </thead>\n",
       "  <tbody>\n",
       "    <tr>\n",
       "      <th>11665</th>\n",
       "      <td>Starbucks</td>\n",
       "      <td>30872-101240</td>\n",
       "      <td>Starbucks</td>\n",
       "      <td>Licensed</td>\n",
       "      <td>Incirli Cad. Town Center, No:11 K:Giris D:208</td>\n",
       "      <td>Istanbul</td>\n",
       "      <td>34</td>\n",
       "      <td>TR</td>\n",
       "      <td>34147</td>\n",
       "      <td>9.02E+11</td>\n",
       "      <td>GMT+2:00 Europe/Istanbul</td>\n",
       "      <td>28.87</td>\n",
       "      <td>40.98</td>\n",
       "      <td>1</td>\n",
       "      <td>Asia</td>\n",
       "      <td>Turkey</td>\n",
       "    </tr>\n",
       "    <tr>\n",
       "      <th>11977</th>\n",
       "      <td>Starbucks</td>\n",
       "      <td>32370-133125</td>\n",
       "      <td>Starbucks</td>\n",
       "      <td>Licensed</td>\n",
       "      <td>Eski Golcuk Yolu Outlet Center, Izmit D:B501</td>\n",
       "      <td>Izmit</td>\n",
       "      <td>41</td>\n",
       "      <td>TR</td>\n",
       "      <td>41000</td>\n",
       "      <td>0 262 335 32 30</td>\n",
       "      <td>GMT+2:00 Asia/Istanbul</td>\n",
       "      <td>29.95</td>\n",
       "      <td>40.75</td>\n",
       "      <td>1</td>\n",
       "      <td>Asia</td>\n",
       "      <td>Turkey</td>\n",
       "    </tr>\n",
       "    <tr>\n",
       "      <th>1452</th>\n",
       "      <td>Starbucks</td>\n",
       "      <td>75525-35359</td>\n",
       "      <td>Marriott Niagara Falls View</td>\n",
       "      <td>Licensed</td>\n",
       "      <td>6740 Fallsview Blvd</td>\n",
       "      <td>Niagara Falls</td>\n",
       "      <td>ON</td>\n",
       "      <td>CA</td>\n",
       "      <td>L2G 3W6</td>\n",
       "      <td>905-357-7300</td>\n",
       "      <td>GMT-05:00 America/New_York</td>\n",
       "      <td>-79.08</td>\n",
       "      <td>43.08</td>\n",
       "      <td>1</td>\n",
       "      <td>North America</td>\n",
       "      <td>Canada</td>\n",
       "    </tr>\n",
       "    <tr>\n",
       "      <th>22063</th>\n",
       "      <td>Starbucks</td>\n",
       "      <td>2307-1291</td>\n",
       "      <td>200 Public Square</td>\n",
       "      <td>Company Owned</td>\n",
       "      <td>200 Public Square, Suite 130</td>\n",
       "      <td>Cleveland</td>\n",
       "      <td>OH</td>\n",
       "      <td>US</td>\n",
       "      <td>441142316</td>\n",
       "      <td>(216) 621-4883</td>\n",
       "      <td>GMT-05:00 America/New_York</td>\n",
       "      <td>-81.69</td>\n",
       "      <td>41.50</td>\n",
       "      <td>1</td>\n",
       "      <td>North America</td>\n",
       "      <td>United States</td>\n",
       "    </tr>\n",
       "    <tr>\n",
       "      <th>23452</th>\n",
       "      <td>Starbucks</td>\n",
       "      <td>3572-86323</td>\n",
       "      <td>MTSU - James Walker Library</td>\n",
       "      <td>Licensed</td>\n",
       "      <td>1611 Alumni Dr</td>\n",
       "      <td>Murfreesboro</td>\n",
       "      <td>TN</td>\n",
       "      <td>US</td>\n",
       "      <td>37132</td>\n",
       "      <td>615-294-0738</td>\n",
       "      <td>GMT-06:00 America/Chicago</td>\n",
       "      <td>-86.36</td>\n",
       "      <td>35.85</td>\n",
       "      <td>1</td>\n",
       "      <td>North America</td>\n",
       "      <td>United States</td>\n",
       "    </tr>\n",
       "  </tbody>\n",
       "</table>\n",
       "</div>"
      ],
      "text/plain": [
       "           Brand  Store Number                   store_name Ownership_Type  \\\n",
       "11665  Starbucks  30872-101240                    Starbucks       Licensed   \n",
       "11977  Starbucks  32370-133125                    Starbucks       Licensed   \n",
       "1452   Starbucks   75525-35359  Marriott Niagara Falls View       Licensed   \n",
       "22063  Starbucks     2307-1291            200 Public Square  Company Owned   \n",
       "23452  Starbucks    3572-86323  MTSU - James Walker Library       Licensed   \n",
       "\n",
       "                                      Street Address           City  \\\n",
       "11665  Incirli Cad. Town Center, No:11 K:Giris D:208       Istanbul   \n",
       "11977   Eski Golcuk Yolu Outlet Center, Izmit D:B501          Izmit   \n",
       "1452                             6740 Fallsview Blvd  Niagara Falls   \n",
       "22063                   200 Public Square, Suite 130      Cleveland   \n",
       "23452                                 1611 Alumni Dr   Murfreesboro   \n",
       "\n",
       "      State/Province Country   Postcode     Phone Number  \\\n",
       "11665             34      TR      34147         9.02E+11   \n",
       "11977             41      TR      41000  0 262 335 32 30   \n",
       "1452              ON      CA    L2G 3W6     905-357-7300   \n",
       "22063             OH      US  441142316   (216) 621-4883   \n",
       "23452             TN      US      37132     615-294-0738   \n",
       "\n",
       "                         Timezone  Longitude  Latitude  store_count  \\\n",
       "11665    GMT+2:00 Europe/Istanbul      28.87     40.98            1   \n",
       "11977      GMT+2:00 Asia/Istanbul      29.95     40.75            1   \n",
       "1452   GMT-05:00 America/New_York     -79.08     43.08            1   \n",
       "22063  GMT-05:00 America/New_York     -81.69     41.50            1   \n",
       "23452   GMT-06:00 America/Chicago     -86.36     35.85            1   \n",
       "\n",
       "      Continent_Name   Country_Name  \n",
       "11665           Asia         Turkey  \n",
       "11977           Asia         Turkey  \n",
       "1452   North America         Canada  \n",
       "22063  North America  United States  \n",
       "23452  North America  United States  "
      ]
     },
     "execution_count": 80,
     "metadata": {},
     "output_type": "execute_result"
    }
   ],
   "source": [
    "#Merge the starbucks data frame and the country code\n",
    "starbucks1= pd.merge(starbucks,country_code, left_on='Country', how='left',right_on='Two_Letter_Country_Code').drop('Two_Letter_Country_Code', axis=1)\n",
    "starbucks1.sample(2)\n",
    "\n",
    "\n",
    "#Modify the name of some countries, removing 'the, republic of'\n",
    "country_name = starbucks1['Country_Name'].tolist()\n",
    "\n",
    "country_name = [country.split(',')[0] for country in country_name]\n",
    "\n",
    "#Assign the modified values in the country_name column\n",
    "starbucks1['Country_Name'] = country_name\n",
    "\n",
    "\n",
    "#Change united states of america to united states\n",
    "starbucks1['Country_Name']= starbucks1['Country_Name'].apply(lambda x : 'United States' if x=='United States of America' else x)\n",
    "\n",
    "#Change Russian Federation to Russia\n",
    "starbucks1['Country_Name']= starbucks1['Country_Name'].apply(lambda x : 'Russia' if x=='Russian Federation' else x)\n",
    "\n",
    "\n",
    "starbucks1['Country_Name']= starbucks1['Country_Name'].apply(lambda x : 'South Korea' if x=='Korea' else x)\n",
    "\n",
    "#Change Russian Federation to Russia\n",
    "starbucks1['Country_Name']= starbucks1['Country_Name'].apply(lambda x : 'Czech Republic' if x=='Czech Republic (Czechia)' else x)\n",
    "\n",
    "starbucks1.sample(5)\n",
    "\n"
   ]
  },
  {
   "cell_type": "code",
   "execution_count": 81,
   "metadata": {},
   "outputs": [
    {
     "data": {
      "text/html": [
       "<div>\n",
       "<style scoped>\n",
       "    .dataframe tbody tr th:only-of-type {\n",
       "        vertical-align: middle;\n",
       "    }\n",
       "\n",
       "    .dataframe tbody tr th {\n",
       "        vertical-align: top;\n",
       "    }\n",
       "\n",
       "    .dataframe thead th {\n",
       "        text-align: right;\n",
       "    }\n",
       "</style>\n",
       "<table border=\"1\" class=\"dataframe\">\n",
       "  <thead>\n",
       "    <tr style=\"text-align: right;\">\n",
       "      <th></th>\n",
       "      <th>city</th>\n",
       "      <th>ownership_type</th>\n",
       "      <th>code2</th>\n",
       "      <th>longitude</th>\n",
       "      <th>latitude</th>\n",
       "      <th>store_count</th>\n",
       "      <th>continent</th>\n",
       "      <th>country</th>\n",
       "      <th>population</th>\n",
       "      <th>code3</th>\n",
       "      <th>gdp_ppp</th>\n",
       "      <th>area_km2</th>\n",
       "      <th>city_pop</th>\n",
       "      <th>area_mi2</th>\n",
       "    </tr>\n",
       "  </thead>\n",
       "  <tbody>\n",
       "    <tr>\n",
       "      <th>22131</th>\n",
       "      <td>Dayton</td>\n",
       "      <td>Licensed</td>\n",
       "      <td>US</td>\n",
       "      <td>-84.10</td>\n",
       "      <td>39.66</td>\n",
       "      <td>1</td>\n",
       "      <td>North America</td>\n",
       "      <td>United States</td>\n",
       "      <td>3.310027e+08</td>\n",
       "      <td>USA</td>\n",
       "      <td>2.140000e+13</td>\n",
       "      <td>NaN</td>\n",
       "      <td>NaN</td>\n",
       "      <td>NaN</td>\n",
       "    </tr>\n",
       "    <tr>\n",
       "      <th>4596</th>\n",
       "      <td>昆明市</td>\n",
       "      <td>Company Owned</td>\n",
       "      <td>CN</td>\n",
       "      <td>102.73</td>\n",
       "      <td>25.05</td>\n",
       "      <td>1</td>\n",
       "      <td>Asia</td>\n",
       "      <td>China</td>\n",
       "      <td>1.439324e+09</td>\n",
       "      <td>CHN</td>\n",
       "      <td>2.350000e+13</td>\n",
       "      <td>NaN</td>\n",
       "      <td>NaN</td>\n",
       "      <td>NaN</td>\n",
       "    </tr>\n",
       "    <tr>\n",
       "      <th>7784</th>\n",
       "      <td>Kobe</td>\n",
       "      <td>Company Owned</td>\n",
       "      <td>JP</td>\n",
       "      <td>135.18</td>\n",
       "      <td>34.68</td>\n",
       "      <td>1</td>\n",
       "      <td>Asia</td>\n",
       "      <td>Japan</td>\n",
       "      <td>1.264765e+08</td>\n",
       "      <td>JPN</td>\n",
       "      <td>5.460000e+12</td>\n",
       "      <td>NaN</td>\n",
       "      <td>NaN</td>\n",
       "      <td>NaN</td>\n",
       "    </tr>\n",
       "    <tr>\n",
       "      <th>1651</th>\n",
       "      <td>Toronto</td>\n",
       "      <td>Company Owned</td>\n",
       "      <td>CA</td>\n",
       "      <td>-79.39</td>\n",
       "      <td>43.65</td>\n",
       "      <td>1</td>\n",
       "      <td>North America</td>\n",
       "      <td>Canada</td>\n",
       "      <td>3.774215e+07</td>\n",
       "      <td>CAN</td>\n",
       "      <td>1.930000e+12</td>\n",
       "      <td>630.0</td>\n",
       "      <td>2731571.0</td>\n",
       "      <td>245.7</td>\n",
       "    </tr>\n",
       "    <tr>\n",
       "      <th>17861</th>\n",
       "      <td>Boise</td>\n",
       "      <td>Company Owned</td>\n",
       "      <td>US</td>\n",
       "      <td>-116.21</td>\n",
       "      <td>43.60</td>\n",
       "      <td>1</td>\n",
       "      <td>North America</td>\n",
       "      <td>United States</td>\n",
       "      <td>3.310027e+08</td>\n",
       "      <td>USA</td>\n",
       "      <td>2.140000e+13</td>\n",
       "      <td>NaN</td>\n",
       "      <td>NaN</td>\n",
       "      <td>NaN</td>\n",
       "    </tr>\n",
       "  </tbody>\n",
       "</table>\n",
       "</div>"
      ],
      "text/plain": [
       "          city ownership_type code2  longitude  latitude  store_count  \\\n",
       "22131   Dayton       Licensed    US     -84.10     39.66            1   \n",
       "4596       昆明市  Company Owned    CN     102.73     25.05            1   \n",
       "7784      Kobe  Company Owned    JP     135.18     34.68            1   \n",
       "1651   Toronto  Company Owned    CA     -79.39     43.65            1   \n",
       "17861    Boise  Company Owned    US    -116.21     43.60            1   \n",
       "\n",
       "           continent        country    population code3       gdp_ppp  \\\n",
       "22131  North America  United States  3.310027e+08   USA  2.140000e+13   \n",
       "4596            Asia          China  1.439324e+09   CHN  2.350000e+13   \n",
       "7784            Asia          Japan  1.264765e+08   JPN  5.460000e+12   \n",
       "1651   North America         Canada  3.774215e+07   CAN  1.930000e+12   \n",
       "17861  North America  United States  3.310027e+08   USA  2.140000e+13   \n",
       "\n",
       "       area_km2   city_pop  area_mi2  \n",
       "22131       NaN        NaN       NaN  \n",
       "4596        NaN        NaN       NaN  \n",
       "7784        NaN        NaN       NaN  \n",
       "1651      630.0  2731571.0     245.7  \n",
       "17861       NaN        NaN       NaN  "
      ]
     },
     "execution_count": 81,
     "metadata": {},
     "output_type": "execute_result"
    }
   ],
   "source": [
    "#Merge world population data with starbucks data \n",
    "starbucks2= pd.merge(starbucks1, world_population, how='left', left_on='Country_Name', right_on='country')\n",
    "starbucks2.sample(5)\n",
    "\n",
    "\n",
    "#Merge gdp data with starbucks data \n",
    "starbucks3= pd.merge(starbucks2, gdp, how='left', left_on='Country_Name', right_on='country')\n",
    "starbucks3.shape\n",
    "\n",
    "#merge starbucks3 and city_population\n",
    "starbucks3.set_index('City', inplace=True)\n",
    "starbucks3.rename(index={'上海市':'Shanghai', '北京市':'Beijing','서울':'Seoul', '杭州市':'Hangzhou', '深圳市':'Shenzhen',\n",
    "                            '广州市' : 'Guangzhou','成都市':'Chengdu', '苏州市':'Suzhou','مدينة الكويت':'Kuwait City',\n",
    "                         '南京市':'Nanjing', '武汉市':'Wuhan'}, inplace=True)\n",
    "\n",
    "\n",
    "starbucks3.reset_index(inplace=True)\n",
    "\n",
    "#Merge starbucks data with city population\n",
    "starbucks4 = pd.merge(starbucks3, city_pop, how='left', left_on='City', right_on='city2')\n",
    "starbucks4.shape\n",
    "\n",
    "\n",
    "#Change column names to lower case\n",
    "starbucks4.columns = [x.lower()  for x in starbucks4.columns]\n",
    "starbucks4.sample(4)\n",
    "\n",
    "\n",
    "#Drop duplicate columns\n",
    "starbucks4.drop([\"country_x\",\"country_y\", \"country2\", \"brand\",\"store number\", \"store_name\" ,\"street address\", \"state/province\",\n",
    "                  \"timezone\", \"city2\", 'phone number', 'postcode'], axis=1, inplace=True)\n",
    "starbucks4.sample(5)\n",
    "\n",
    "\n",
    "\n",
    "#Rename some columns\n",
    "starbucks4.rename(columns={'country':'code2', 'continent_name':'continent', 'country_name':'country', 'code':'code3'}, inplace=True)\n",
    "starbucks4.set_index('city', inplace=True)\n",
    "\n",
    "starbucks4.reset_index(inplace=True)\n",
    "starbucks4.sample(5)\n",
    "\n"
   ]
  },
  {
   "cell_type": "code",
   "execution_count": 82,
   "metadata": {},
   "outputs": [
    {
     "data": {
      "text/html": [
       "<div>\n",
       "<style scoped>\n",
       "    .dataframe tbody tr th:only-of-type {\n",
       "        vertical-align: middle;\n",
       "    }\n",
       "\n",
       "    .dataframe tbody tr th {\n",
       "        vertical-align: top;\n",
       "    }\n",
       "\n",
       "    .dataframe thead th {\n",
       "        text-align: right;\n",
       "    }\n",
       "</style>\n",
       "<table border=\"1\" class=\"dataframe\">\n",
       "  <thead>\n",
       "    <tr style=\"text-align: right;\">\n",
       "      <th></th>\n",
       "      <th>city</th>\n",
       "      <th>ownership_type</th>\n",
       "      <th>code2</th>\n",
       "      <th>longitude</th>\n",
       "      <th>latitude</th>\n",
       "      <th>store_count</th>\n",
       "      <th>continent</th>\n",
       "      <th>country</th>\n",
       "      <th>population</th>\n",
       "      <th>code3</th>\n",
       "      <th>gdp_ppp</th>\n",
       "      <th>area_km2</th>\n",
       "      <th>city_pop</th>\n",
       "      <th>area_mi2</th>\n",
       "      <th>region</th>\n",
       "    </tr>\n",
       "  </thead>\n",
       "  <tbody>\n",
       "    <tr>\n",
       "      <th>3459</th>\n",
       "      <td>嘉兴市</td>\n",
       "      <td>Joint Venture</td>\n",
       "      <td>CN</td>\n",
       "      <td>120.93</td>\n",
       "      <td>30.84</td>\n",
       "      <td>1</td>\n",
       "      <td>Asia</td>\n",
       "      <td>China</td>\n",
       "      <td>1.439324e+09</td>\n",
       "      <td>CHN</td>\n",
       "      <td>2.350000e+13</td>\n",
       "      <td>NaN</td>\n",
       "      <td>NaN</td>\n",
       "      <td>NaN</td>\n",
       "      <td>Asia_Oceania</td>\n",
       "    </tr>\n",
       "    <tr>\n",
       "      <th>9696</th>\n",
       "      <td>Hermosillo</td>\n",
       "      <td>Licensed</td>\n",
       "      <td>MX</td>\n",
       "      <td>-110.95</td>\n",
       "      <td>29.10</td>\n",
       "      <td>1</td>\n",
       "      <td>North America</td>\n",
       "      <td>Mexico</td>\n",
       "      <td>1.289328e+08</td>\n",
       "      <td>MEX</td>\n",
       "      <td>2.600000e+12</td>\n",
       "      <td>NaN</td>\n",
       "      <td>NaN</td>\n",
       "      <td>NaN</td>\n",
       "      <td>Americas</td>\n",
       "    </tr>\n",
       "    <tr>\n",
       "      <th>25750</th>\n",
       "      <td>Tacoma</td>\n",
       "      <td>Company Owned</td>\n",
       "      <td>US</td>\n",
       "      <td>-122.44</td>\n",
       "      <td>47.25</td>\n",
       "      <td>1</td>\n",
       "      <td>North America</td>\n",
       "      <td>United States</td>\n",
       "      <td>3.310027e+08</td>\n",
       "      <td>USA</td>\n",
       "      <td>2.140000e+13</td>\n",
       "      <td>NaN</td>\n",
       "      <td>NaN</td>\n",
       "      <td>NaN</td>\n",
       "      <td>Americas</td>\n",
       "    </tr>\n",
       "    <tr>\n",
       "      <th>2712</th>\n",
       "      <td>Shanghai</td>\n",
       "      <td>Joint Venture</td>\n",
       "      <td>CN</td>\n",
       "      <td>121.54</td>\n",
       "      <td>31.23</td>\n",
       "      <td>1</td>\n",
       "      <td>Asia</td>\n",
       "      <td>China</td>\n",
       "      <td>1.439324e+09</td>\n",
       "      <td>CHN</td>\n",
       "      <td>2.350000e+13</td>\n",
       "      <td>6341.0</td>\n",
       "      <td>24183000.0</td>\n",
       "      <td>2472.99</td>\n",
       "      <td>Asia_Oceania</td>\n",
       "    </tr>\n",
       "  </tbody>\n",
       "</table>\n",
       "</div>"
      ],
      "text/plain": [
       "             city ownership_type code2  longitude  latitude  store_count  \\\n",
       "3459          嘉兴市  Joint Venture    CN     120.93     30.84            1   \n",
       "9696   Hermosillo       Licensed    MX    -110.95     29.10            1   \n",
       "25750      Tacoma  Company Owned    US    -122.44     47.25            1   \n",
       "2712     Shanghai  Joint Venture    CN     121.54     31.23            1   \n",
       "\n",
       "           continent        country    population code3       gdp_ppp  \\\n",
       "3459            Asia          China  1.439324e+09   CHN  2.350000e+13   \n",
       "9696   North America         Mexico  1.289328e+08   MEX  2.600000e+12   \n",
       "25750  North America  United States  3.310027e+08   USA  2.140000e+13   \n",
       "2712            Asia          China  1.439324e+09   CHN  2.350000e+13   \n",
       "\n",
       "       area_km2    city_pop  area_mi2        region  \n",
       "3459        NaN         NaN       NaN  Asia_Oceania  \n",
       "9696        NaN         NaN       NaN      Americas  \n",
       "25750       NaN         NaN       NaN      Americas  \n",
       "2712     6341.0  24183000.0   2472.99  Asia_Oceania  "
      ]
     },
     "execution_count": 82,
     "metadata": {},
     "output_type": "execute_result"
    }
   ],
   "source": [
    "def condition(x):\n",
    "    \"\"\"\n",
    "    This function rename continents into regions\n",
    "    x :  is a string value from a data frame column\n",
    "    returns a string\n",
    "    \"\"\"\n",
    "    \n",
    "    if (x=='Europe' or x=='Africa'):\n",
    "        return f'Europe_Africa'\n",
    "    elif (x =='Asia' or x =='Oceania'):\n",
    "        return f'Asia_Oceania'\n",
    "    else:\n",
    "        return f'Americas'\n",
    "    \n",
    "\n",
    "#Create a new column 'region'  \n",
    "starbucks4['region']= starbucks4['continent'].apply(lambda x : condition(x))\n",
    "starbucks4.sample(4)\n",
    "\n"
   ]
  },
  {
   "cell_type": "code",
   "execution_count": 83,
   "metadata": {
    "scrolled": true
   },
   "outputs": [
    {
     "data": {
      "image/svg+xml": [
       "<svg class=\"main-svg\" xmlns=\"http://www.w3.org/2000/svg\" xmlns:xlink=\"http://www.w3.org/1999/xlink\" width=\"700\" height=\"450\" style=\"\" viewBox=\"0 0 700 450\"><rect x=\"0\" y=\"0\" width=\"700\" height=\"450\" style=\"fill: rgb(255, 255, 255); fill-opacity: 1;\"/><defs id=\"defs-be115f\"><g class=\"clips\"><clipPath id=\"clipbe115fxyplot\" class=\"plotclip\"><rect width=\"469\" height=\"71.09333333333332\"/></clipPath><clipPath id=\"clipbe115fx2y2plot\" class=\"plotclip\"><rect width=\"469\" height=\"71.09333333333333\"/></clipPath><clipPath id=\"clipbe115fx3y3plot\" class=\"plotclip\"><rect width=\"469\" height=\"71.09333333333332\"/></clipPath><clipPath class=\"axesclip\" id=\"clipbe115fx\"><rect x=\"80\" y=\"0\" width=\"469\" height=\"450\"/></clipPath><clipPath class=\"axesclip\" id=\"clipbe115fy\"><rect x=\"0\" y=\"276.90666666666664\" width=\"700\" height=\"71.09333333333332\"/></clipPath><clipPath class=\"axesclip\" id=\"clipbe115fxy\"><rect x=\"80\" y=\"276.90666666666664\" width=\"469\" height=\"71.09333333333332\"/></clipPath><clipPath class=\"axesclip\" id=\"clipbe115fy2\"><rect x=\"0\" y=\"188.45333333333332\" width=\"700\" height=\"71.09333333333333\"/></clipPath><clipPath class=\"axesclip\" id=\"clipbe115fxy2\"><rect x=\"80\" y=\"188.45333333333332\" width=\"469\" height=\"71.09333333333333\"/></clipPath><clipPath class=\"axesclip\" id=\"clipbe115fy3\"><rect x=\"0\" y=\"100.00000000000003\" width=\"700\" height=\"71.09333333333332\"/></clipPath><clipPath class=\"axesclip\" id=\"clipbe115fxy3\"><rect x=\"80\" y=\"100.00000000000003\" width=\"469\" height=\"71.09333333333332\"/></clipPath><clipPath class=\"axesclip\" id=\"clipbe115fx2\"><rect x=\"80\" y=\"0\" width=\"469\" height=\"450\"/></clipPath><clipPath class=\"axesclip\" id=\"clipbe115fx2y\"><rect x=\"80\" y=\"276.90666666666664\" width=\"469\" height=\"71.09333333333332\"/></clipPath><clipPath class=\"axesclip\" id=\"clipbe115fx2y2\"><rect x=\"80\" y=\"188.45333333333332\" width=\"469\" height=\"71.09333333333333\"/></clipPath><clipPath class=\"axesclip\" id=\"clipbe115fx2y3\"><rect x=\"80\" y=\"100.00000000000003\" width=\"469\" height=\"71.09333333333332\"/></clipPath><clipPath class=\"axesclip\" id=\"clipbe115fx3\"><rect x=\"80\" y=\"0\" width=\"469\" height=\"450\"/></clipPath><clipPath class=\"axesclip\" id=\"clipbe115fx3y\"><rect x=\"80\" y=\"276.90666666666664\" width=\"469\" height=\"71.09333333333332\"/></clipPath><clipPath class=\"axesclip\" id=\"clipbe115fx3y2\"><rect x=\"80\" y=\"188.45333333333332\" width=\"469\" height=\"71.09333333333333\"/></clipPath><clipPath class=\"axesclip\" id=\"clipbe115fx3y3\"><rect x=\"80\" y=\"100.00000000000003\" width=\"469\" height=\"71.09333333333332\"/></clipPath></g><g class=\"gradients\"/></defs><g class=\"bglayer\"><rect class=\"bg\" x=\"80\" y=\"276.90666666666664\" width=\"469\" height=\"71.09333333333332\" style=\"fill: rgb(229, 236, 246); fill-opacity: 1; stroke-width: 0;\"/><rect class=\"bg\" x=\"80\" y=\"188.45333333333332\" width=\"469\" height=\"71.09333333333333\" style=\"fill: rgb(229, 236, 246); fill-opacity: 1; stroke-width: 0;\"/><rect class=\"bg\" x=\"80\" y=\"100.00000000000003\" width=\"469\" height=\"71.09333333333332\" style=\"fill: rgb(229, 236, 246); fill-opacity: 1; stroke-width: 0;\"/></g><g class=\"layer-below\"><g class=\"imagelayer\"/><g class=\"shapelayer\"/></g><g class=\"cartesianlayer\"><g class=\"subplot xy\"><g class=\"layer-subplot\"><g class=\"shapelayer\"/><g class=\"imagelayer\"/></g><g class=\"gridlayer\"><g class=\"x\"><path class=\"xgrid crisp\" transform=\"translate(96.75,0)\" d=\"M0,276.90666666666664v71.09333333333332\" style=\"stroke: rgb(255, 255, 255); stroke-opacity: 1; stroke-width: 1px;\"/><path class=\"xgrid crisp\" transform=\"translate(130.25,0)\" d=\"M0,276.90666666666664v71.09333333333332\" style=\"stroke: rgb(255, 255, 255); stroke-opacity: 1; stroke-width: 1px;\"/><path class=\"xgrid crisp\" transform=\"translate(163.75,0)\" d=\"M0,276.90666666666664v71.09333333333332\" style=\"stroke: rgb(255, 255, 255); stroke-opacity: 1; stroke-width: 1px;\"/><path class=\"xgrid crisp\" transform=\"translate(197.25,0)\" d=\"M0,276.90666666666664v71.09333333333332\" style=\"stroke: rgb(255, 255, 255); stroke-opacity: 1; stroke-width: 1px;\"/><path class=\"xgrid crisp\" transform=\"translate(230.75,0)\" d=\"M0,276.90666666666664v71.09333333333332\" style=\"stroke: rgb(255, 255, 255); stroke-opacity: 1; stroke-width: 1px;\"/><path class=\"xgrid crisp\" transform=\"translate(264.25,0)\" d=\"M0,276.90666666666664v71.09333333333332\" style=\"stroke: rgb(255, 255, 255); stroke-opacity: 1; stroke-width: 1px;\"/><path class=\"xgrid crisp\" transform=\"translate(297.75,0)\" d=\"M0,276.90666666666664v71.09333333333332\" style=\"stroke: rgb(255, 255, 255); stroke-opacity: 1; stroke-width: 1px;\"/><path class=\"xgrid crisp\" transform=\"translate(331.25,0)\" d=\"M0,276.90666666666664v71.09333333333332\" style=\"stroke: rgb(255, 255, 255); stroke-opacity: 1; stroke-width: 1px;\"/><path class=\"xgrid crisp\" transform=\"translate(364.75,0)\" d=\"M0,276.90666666666664v71.09333333333332\" style=\"stroke: rgb(255, 255, 255); stroke-opacity: 1; stroke-width: 1px;\"/><path class=\"xgrid crisp\" transform=\"translate(398.25,0)\" d=\"M0,276.90666666666664v71.09333333333332\" style=\"stroke: rgb(255, 255, 255); stroke-opacity: 1; stroke-width: 1px;\"/><path class=\"xgrid crisp\" transform=\"translate(431.75,0)\" d=\"M0,276.90666666666664v71.09333333333332\" style=\"stroke: rgb(255, 255, 255); stroke-opacity: 1; stroke-width: 1px;\"/><path class=\"xgrid crisp\" transform=\"translate(465.25,0)\" d=\"M0,276.90666666666664v71.09333333333332\" style=\"stroke: rgb(255, 255, 255); stroke-opacity: 1; stroke-width: 1px;\"/><path class=\"xgrid crisp\" transform=\"translate(498.75,0)\" d=\"M0,276.90666666666664v71.09333333333332\" style=\"stroke: rgb(255, 255, 255); stroke-opacity: 1; stroke-width: 1px;\"/><path class=\"xgrid crisp\" transform=\"translate(532.25,0)\" d=\"M0,276.90666666666664v71.09333333333332\" style=\"stroke: rgb(255, 255, 255); stroke-opacity: 1; stroke-width: 1px;\"/></g><g class=\"y\"><path class=\"ygrid crisp\" transform=\"translate(0,343.1866666666666)\" d=\"M80,0h469\" style=\"stroke: rgb(255, 255, 255); stroke-opacity: 1; stroke-width: 1px;\"/><path class=\"ygrid crisp\" transform=\"translate(0,329.3666666666666)\" d=\"M80,0h469\" style=\"stroke: rgb(255, 255, 255); stroke-opacity: 1; stroke-width: 1px;\"/><path class=\"ygrid crisp\" transform=\"translate(0,318.91666666666663)\" d=\"M80,0h469\" style=\"stroke: rgb(255, 255, 255); stroke-opacity: 1; stroke-width: 1px;\"/><path class=\"ygrid crisp\" transform=\"translate(0,308.46666666666664)\" d=\"M80,0h469\" style=\"stroke: rgb(255, 255, 255); stroke-opacity: 1; stroke-width: 1px;\"/><path class=\"ygrid crisp\" transform=\"translate(0,294.64666666666665)\" d=\"M80,0h469\" style=\"stroke: rgb(255, 255, 255); stroke-opacity: 1; stroke-width: 1px;\"/><path class=\"ygrid crisp\" transform=\"translate(0,284.19666666666666)\" d=\"M80,0h469\" style=\"stroke: rgb(255, 255, 255); stroke-opacity: 1; stroke-width: 1px;\"/></g></g><g class=\"zerolinelayer\"/><path class=\"xlines-below\"/><path class=\"ylines-below\"/><g class=\"overlines-below\"/><g class=\"xaxislayer-below\"/><g class=\"yaxislayer-below\"/><g class=\"overaxes-below\"/><g class=\"plot\" transform=\"translate(80, 276.90666666666664)\" clip-path=\"url('#clipbe115fxyplot')\"><g class=\"barlayer mlayer\"><g class=\"trace bars\" style=\"opacity: 1;\"><g class=\"points\"><g class=\"point\"><path d=\"M405.35,746.48V43.58H432.15V746.48Z\" style=\"vector-effect: non-scaling-stroke; opacity: 1; stroke-width: 0.5px; fill: rgb(0, 204, 150); fill-opacity: 1; stroke: rgb(229, 236, 246); stroke-opacity: 1;\"/></g><g class=\"point\"><path d=\"M237.85,746.48V58.91H264.65V746.48Z\" style=\"vector-effect: non-scaling-stroke; opacity: 1; stroke-width: 0.5px; fill: rgb(0, 204, 150); fill-opacity: 1; stroke: rgb(229, 236, 246); stroke-opacity: 1;\"/></g><g class=\"point\"><path d=\"M438.85,746.48V69.65H465.65V746.48Z\" style=\"vector-effect: non-scaling-stroke; opacity: 1; stroke-width: 0.5px; fill: rgb(0, 204, 150); fill-opacity: 1; stroke: rgb(229, 236, 246); stroke-opacity: 1;\"/></g></g></g></g></g><g class=\"overplot\"/><path class=\"xlines-above crisp\" style=\"fill: none; stroke-width: 1px; stroke: rgb(255, 255, 255); stroke-opacity: 1;\" d=\"M79,348.49999999999994H549\"/><path class=\"ylines-above crisp\" style=\"fill: none; stroke-width: 1px; stroke: rgb(255, 255, 255); stroke-opacity: 1;\" d=\"M79.5,276.90666666666664V347.99999999999994\"/><g class=\"overlines-above\"/><g class=\"xaxislayer-above\"><g class=\"xtick\"><text text-anchor=\"start\" x=\"0\" y=\"363.3999999999999\" transform=\"translate(96.75,0) rotate(30,0,357.3999999999999)\" style=\"font-family: 'Open Sans', verdana, arial, sans-serif; font-size: 12px; fill: rgb(42, 63, 95); fill-opacity: 1; white-space: pre;\">United States</text></g><g class=\"xtick\"><text text-anchor=\"start\" x=\"0\" y=\"363.3999999999999\" transform=\"translate(130.25,0) rotate(30,0,357.3999999999999)\" style=\"font-family: 'Open Sans', verdana, arial, sans-serif; font-size: 12px; fill: rgb(42, 63, 95); fill-opacity: 1; white-space: pre;\">Canada</text></g><g class=\"xtick\"><text text-anchor=\"start\" x=\"0\" y=\"363.3999999999999\" transform=\"translate(163.75,0) rotate(30,0,357.3999999999999)\" style=\"font-family: 'Open Sans', verdana, arial, sans-serif; font-size: 12px; fill: rgb(42, 63, 95); fill-opacity: 1; white-space: pre;\">Mexico</text></g><g class=\"xtick\"><text text-anchor=\"start\" x=\"0\" y=\"363.3999999999999\" transform=\"translate(197.25,0) rotate(30,0,357.3999999999999)\" style=\"font-family: 'Open Sans', verdana, arial, sans-serif; font-size: 12px; fill: rgb(42, 63, 95); fill-opacity: 1; white-space: pre;\">China</text></g><g class=\"xtick\"><text text-anchor=\"start\" x=\"0\" y=\"363.3999999999999\" transform=\"translate(230.75,0) rotate(30,0,357.3999999999999)\" style=\"font-family: 'Open Sans', verdana, arial, sans-serif; font-size: 12px; fill: rgb(42, 63, 95); fill-opacity: 1; white-space: pre;\">Japan</text></g><g class=\"xtick\"><text text-anchor=\"start\" x=\"0\" y=\"363.3999999999999\" transform=\"translate(264.25,0) rotate(30,0,357.3999999999999)\" style=\"font-family: 'Open Sans', verdana, arial, sans-serif; font-size: 12px; fill: rgb(42, 63, 95); fill-opacity: 1; white-space: pre;\">South Korea</text></g><g class=\"xtick\"><text text-anchor=\"start\" x=\"0\" y=\"363.3999999999999\" transform=\"translate(297.75,0) rotate(30,0,357.3999999999999)\" style=\"font-family: 'Open Sans', verdana, arial, sans-serif; font-size: 12px; fill: rgb(42, 63, 95); fill-opacity: 1; white-space: pre;\">Taiwan</text></g><g class=\"xtick\"><text text-anchor=\"start\" x=\"0\" y=\"363.3999999999999\" transform=\"translate(331.25,0) rotate(30,0,357.3999999999999)\" style=\"font-family: 'Open Sans', verdana, arial, sans-serif; font-size: 12px; fill: rgb(42, 63, 95); fill-opacity: 1; white-space: pre;\">Turkey</text></g><g class=\"xtick\"><text text-anchor=\"start\" x=\"0\" y=\"363.3999999999999\" transform=\"translate(364.75,0) rotate(30,0,357.3999999999999)\" style=\"font-family: 'Open Sans', verdana, arial, sans-serif; font-size: 12px; fill: rgb(42, 63, 95); fill-opacity: 1; white-space: pre;\">Philippines</text></g><g class=\"xtick\"><text text-anchor=\"start\" x=\"0\" y=\"363.3999999999999\" transform=\"translate(398.25,0) rotate(30,0,357.3999999999999)\" style=\"font-family: 'Open Sans', verdana, arial, sans-serif; font-size: 12px; fill: rgb(42, 63, 95); fill-opacity: 1; white-space: pre;\">Thailand</text></g><g class=\"xtick\"><text text-anchor=\"start\" x=\"0\" y=\"363.3999999999999\" transform=\"translate(431.75,0) rotate(30,0,357.3999999999999)\" style=\"font-family: 'Open Sans', verdana, arial, sans-serif; font-size: 12px; fill: rgb(42, 63, 95); fill-opacity: 1; white-space: pre;\">Indonesia</text></g><g class=\"xtick\"><text text-anchor=\"start\" x=\"0\" y=\"363.3999999999999\" transform=\"translate(465.25,0) rotate(30,0,357.3999999999999)\" style=\"font-family: 'Open Sans', verdana, arial, sans-serif; font-size: 12px; fill: rgb(42, 63, 95); fill-opacity: 1; white-space: pre;\">Malaysia</text></g><g class=\"xtick\"><text text-anchor=\"start\" x=\"0\" y=\"363.3999999999999\" transform=\"translate(498.75,0) rotate(30,0,357.3999999999999)\" style=\"font-family: 'Open Sans', verdana, arial, sans-serif; font-size: 12px; fill: rgb(42, 63, 95); fill-opacity: 1; white-space: pre;\">United Kingdom</text></g><g class=\"xtick\"><text text-anchor=\"start\" x=\"0\" y=\"363.3999999999999\" transform=\"translate(532.25,0) rotate(30,0,357.3999999999999)\" style=\"font-family: 'Open Sans', verdana, arial, sans-serif; font-size: 12px; fill: rgb(42, 63, 95); fill-opacity: 1; white-space: pre;\">Germany</text></g></g><g class=\"yaxislayer-above\"><g class=\"ytick\"><text text-anchor=\"end\" x=\"76.6\" y=\"3.15\" transform=\"translate(0,343.1866666666666)\" style=\"font-family: 'Open Sans', verdana, arial, sans-serif; font-size: 9px; fill: rgb(42, 63, 95); fill-opacity: 1; white-space: pre;\">2</text></g><g class=\"ytick\"><text text-anchor=\"end\" x=\"76.6\" y=\"3.15\" transform=\"translate(0,329.3666666666666)\" style=\"font-family: 'Open Sans', verdana, arial, sans-serif; font-size: 9px; fill: rgb(42, 63, 95); fill-opacity: 1; white-space: pre;\">5</text></g><g class=\"ytick\"><text text-anchor=\"end\" x=\"76.6\" y=\"4.199999999999999\" transform=\"translate(0,318.91666666666663)\" style=\"font-family: 'Open Sans', verdana, arial, sans-serif; font-size: 12px; fill: rgb(42, 63, 95); fill-opacity: 1; white-space: pre;\">1000</text></g><g class=\"ytick\"><text text-anchor=\"end\" x=\"76.6\" y=\"3.15\" transform=\"translate(0,308.46666666666664)\" style=\"font-family: 'Open Sans', verdana, arial, sans-serif; font-size: 9px; fill: rgb(42, 63, 95); fill-opacity: 1; white-space: pre;\">2</text></g><g class=\"ytick\"><text text-anchor=\"end\" x=\"76.6\" y=\"3.15\" transform=\"translate(0,294.64666666666665)\" style=\"font-family: 'Open Sans', verdana, arial, sans-serif; font-size: 9px; fill: rgb(42, 63, 95); fill-opacity: 1; white-space: pre;\">5</text></g><g class=\"ytick\"><text text-anchor=\"end\" x=\"76.6\" y=\"4.199999999999999\" transform=\"translate(0,284.19666666666666)\" style=\"font-family: 'Open Sans', verdana, arial, sans-serif; font-size: 12px; fill: rgb(42, 63, 95); fill-opacity: 1; white-space: pre;\">10k</text></g></g><g class=\"overaxes-above\"/></g><g class=\"subplot x2y2\"><g class=\"layer-subplot\"><g class=\"shapelayer\"/><g class=\"imagelayer\"/></g><g class=\"gridlayer\"><g class=\"x2\"><path class=\"x2grid crisp\" transform=\"translate(96.75,0)\" d=\"M0,188.45333333333332v71.09333333333333\" style=\"stroke: rgb(255, 255, 255); stroke-opacity: 1; stroke-width: 1px;\"/><path class=\"x2grid crisp\" transform=\"translate(130.25,0)\" d=\"M0,188.45333333333332v71.09333333333333\" style=\"stroke: rgb(255, 255, 255); stroke-opacity: 1; stroke-width: 1px;\"/><path class=\"x2grid crisp\" transform=\"translate(163.75,0)\" d=\"M0,188.45333333333332v71.09333333333333\" style=\"stroke: rgb(255, 255, 255); stroke-opacity: 1; stroke-width: 1px;\"/><path class=\"x2grid crisp\" transform=\"translate(197.25,0)\" d=\"M0,188.45333333333332v71.09333333333333\" style=\"stroke: rgb(255, 255, 255); stroke-opacity: 1; stroke-width: 1px;\"/><path class=\"x2grid crisp\" transform=\"translate(230.75,0)\" d=\"M0,188.45333333333332v71.09333333333333\" style=\"stroke: rgb(255, 255, 255); stroke-opacity: 1; stroke-width: 1px;\"/><path class=\"x2grid crisp\" transform=\"translate(264.25,0)\" d=\"M0,188.45333333333332v71.09333333333333\" style=\"stroke: rgb(255, 255, 255); stroke-opacity: 1; stroke-width: 1px;\"/><path class=\"x2grid crisp\" transform=\"translate(297.75,0)\" d=\"M0,188.45333333333332v71.09333333333333\" style=\"stroke: rgb(255, 255, 255); stroke-opacity: 1; stroke-width: 1px;\"/><path class=\"x2grid crisp\" transform=\"translate(331.25,0)\" d=\"M0,188.45333333333332v71.09333333333333\" style=\"stroke: rgb(255, 255, 255); stroke-opacity: 1; stroke-width: 1px;\"/><path class=\"x2grid crisp\" transform=\"translate(364.75,0)\" d=\"M0,188.45333333333332v71.09333333333333\" style=\"stroke: rgb(255, 255, 255); stroke-opacity: 1; stroke-width: 1px;\"/><path class=\"x2grid crisp\" transform=\"translate(398.25,0)\" d=\"M0,188.45333333333332v71.09333333333333\" style=\"stroke: rgb(255, 255, 255); stroke-opacity: 1; stroke-width: 1px;\"/><path class=\"x2grid crisp\" transform=\"translate(431.75,0)\" d=\"M0,188.45333333333332v71.09333333333333\" style=\"stroke: rgb(255, 255, 255); stroke-opacity: 1; stroke-width: 1px;\"/><path class=\"x2grid crisp\" transform=\"translate(465.25,0)\" d=\"M0,188.45333333333332v71.09333333333333\" style=\"stroke: rgb(255, 255, 255); stroke-opacity: 1; stroke-width: 1px;\"/><path class=\"x2grid crisp\" transform=\"translate(498.75,0)\" d=\"M0,188.45333333333332v71.09333333333333\" style=\"stroke: rgb(255, 255, 255); stroke-opacity: 1; stroke-width: 1px;\"/><path class=\"x2grid crisp\" transform=\"translate(532.25,0)\" d=\"M0,188.45333333333332v71.09333333333333\" style=\"stroke: rgb(255, 255, 255); stroke-opacity: 1; stroke-width: 1px;\"/></g><g class=\"y2\"><path class=\"y2grid crisp\" transform=\"translate(0,254.73333333333332)\" d=\"M80,0h469\" style=\"stroke: rgb(255, 255, 255); stroke-opacity: 1; stroke-width: 1px;\"/><path class=\"y2grid crisp\" transform=\"translate(0,240.91333333333333)\" d=\"M80,0h469\" style=\"stroke: rgb(255, 255, 255); stroke-opacity: 1; stroke-width: 1px;\"/><path class=\"y2grid crisp\" transform=\"translate(0,230.4633333333333)\" d=\"M80,0h469\" style=\"stroke: rgb(255, 255, 255); stroke-opacity: 1; stroke-width: 1px;\"/><path class=\"y2grid crisp\" transform=\"translate(0,220.01333333333332)\" d=\"M80,0h469\" style=\"stroke: rgb(255, 255, 255); stroke-opacity: 1; stroke-width: 1px;\"/><path class=\"y2grid crisp\" transform=\"translate(0,206.19333333333333)\" d=\"M80,0h469\" style=\"stroke: rgb(255, 255, 255); stroke-opacity: 1; stroke-width: 1px;\"/><path class=\"y2grid crisp\" transform=\"translate(0,195.7433333333333)\" d=\"M80,0h469\" style=\"stroke: rgb(255, 255, 255); stroke-opacity: 1; stroke-width: 1px;\"/></g></g><g class=\"zerolinelayer\"/><path class=\"xlines-below\"/><path class=\"ylines-below\"/><g class=\"overlines-below\"/><g class=\"xaxislayer-below\"/><g class=\"yaxislayer-below\"/><g class=\"overaxes-below\"/><g class=\"plot\" transform=\"translate(80, 188.45333333333332)\" clip-path=\"url('#clipbe115fx2y2plot')\"><g class=\"barlayer mlayer\"><g class=\"trace bars\" style=\"opacity: 1;\"><g class=\"points\"><g class=\"point\"><path d=\"M103.85,746.48V26.85H130.65V746.48Z\" style=\"vector-effect: non-scaling-stroke; opacity: 1; stroke-width: 0.5px; fill: rgb(239, 85, 59); fill-opacity: 1; stroke: rgb(229, 236, 246); stroke-opacity: 1;\"/></g><g class=\"point\"><path d=\"M137.35,746.48V38.8H164.15V746.48Z\" style=\"vector-effect: non-scaling-stroke; opacity: 1; stroke-width: 0.5px; fill: rgb(239, 85, 59); fill-opacity: 1; stroke: rgb(229, 236, 246); stroke-opacity: 1;\"/></g><g class=\"point\"><path d=\"M170.85,746.48V42.12H197.65V746.48Z\" style=\"vector-effect: non-scaling-stroke; opacity: 1; stroke-width: 0.5px; fill: rgb(239, 85, 59); fill-opacity: 1; stroke: rgb(229, 236, 246); stroke-opacity: 1;\"/></g><g class=\"point\"><path d=\"M204.35,746.48V56.06H231.15V746.48Z\" style=\"vector-effect: non-scaling-stroke; opacity: 1; stroke-width: 0.5px; fill: rgb(239, 85, 59); fill-opacity: 1; stroke: rgb(229, 236, 246); stroke-opacity: 1;\"/></g><g class=\"point\"><path d=\"M237.85,746.48V58.91H264.65V746.48Z\" style=\"vector-effect: non-scaling-stroke; opacity: 1; stroke-width: 0.5px; fill: rgb(239, 85, 59); fill-opacity: 1; stroke: rgb(229, 236, 246); stroke-opacity: 1;\"/></g><g class=\"point\"><path d=\"M271.35,746.48V60.27H298.15V746.48Z\" style=\"vector-effect: non-scaling-stroke; opacity: 1; stroke-width: 0.5px; fill: rgb(239, 85, 59); fill-opacity: 1; stroke: rgb(229, 236, 246); stroke-opacity: 1;\"/></g><g class=\"point\"><path d=\"M304.85,746.48V60.73H331.65V746.48Z\" style=\"vector-effect: non-scaling-stroke; opacity: 1; stroke-width: 0.5px; fill: rgb(239, 85, 59); fill-opacity: 1; stroke: rgb(229, 236, 246); stroke-opacity: 1;\"/></g><g class=\"point\"><path d=\"M338.35,746.48V61.87H365.15V746.48Z\" style=\"vector-effect: non-scaling-stroke; opacity: 1; stroke-width: 0.5px; fill: rgb(239, 85, 59); fill-opacity: 1; stroke: rgb(229, 236, 246); stroke-opacity: 1;\"/></g><g class=\"point\"><path d=\"M371.85,746.48V63.91H398.65V746.48Z\" style=\"vector-effect: non-scaling-stroke; opacity: 1; stroke-width: 0.5px; fill: rgb(239, 85, 59); fill-opacity: 1; stroke: rgb(229, 236, 246); stroke-opacity: 1;\"/></g></g></g></g></g><g class=\"overplot\"/><path class=\"xlines-above crisp\" style=\"fill: none; stroke-width: 1px; stroke: rgb(255, 255, 255); stroke-opacity: 1;\" d=\"M79,260.0466666666666H549\"/><path class=\"ylines-above crisp\" style=\"fill: none; stroke-width: 1px; stroke: rgb(255, 255, 255); stroke-opacity: 1;\" d=\"M79.5,188.45333333333332V259.5466666666666\"/><g class=\"overlines-above\"/><g class=\"xaxislayer-above\"/><g class=\"yaxislayer-above\"><g class=\"y2tick\"><text text-anchor=\"end\" x=\"76.6\" y=\"3.15\" transform=\"translate(0,254.73333333333332)\" style=\"font-family: 'Open Sans', verdana, arial, sans-serif; font-size: 9px; fill: rgb(42, 63, 95); fill-opacity: 1; white-space: pre;\">2</text></g><g class=\"y2tick\"><text text-anchor=\"end\" x=\"76.6\" y=\"3.15\" transform=\"translate(0,240.91333333333333)\" style=\"font-family: 'Open Sans', verdana, arial, sans-serif; font-size: 9px; fill: rgb(42, 63, 95); fill-opacity: 1; white-space: pre;\">5</text></g><g class=\"y2tick\"><text text-anchor=\"end\" x=\"76.6\" y=\"4.199999999999999\" transform=\"translate(0,230.4633333333333)\" style=\"font-family: 'Open Sans', verdana, arial, sans-serif; font-size: 12px; fill: rgb(42, 63, 95); fill-opacity: 1; white-space: pre;\">1000</text></g><g class=\"y2tick\"><text text-anchor=\"end\" x=\"76.6\" y=\"3.15\" transform=\"translate(0,220.01333333333332)\" style=\"font-family: 'Open Sans', verdana, arial, sans-serif; font-size: 9px; fill: rgb(42, 63, 95); fill-opacity: 1; white-space: pre;\">2</text></g><g class=\"y2tick\"><text text-anchor=\"end\" x=\"76.6\" y=\"3.15\" transform=\"translate(0,206.19333333333333)\" style=\"font-family: 'Open Sans', verdana, arial, sans-serif; font-size: 9px; fill: rgb(42, 63, 95); fill-opacity: 1; white-space: pre;\">5</text></g><g class=\"y2tick\"><text text-anchor=\"end\" x=\"76.6\" y=\"4.199999999999999\" transform=\"translate(0,195.7433333333333)\" style=\"font-family: 'Open Sans', verdana, arial, sans-serif; font-size: 12px; fill: rgb(42, 63, 95); fill-opacity: 1; white-space: pre;\">10k</text></g></g><g class=\"overaxes-above\"/></g><g class=\"subplot x3y3\"><g class=\"layer-subplot\"><g class=\"shapelayer\"/><g class=\"imagelayer\"/></g><g class=\"gridlayer\"><g class=\"x3\"><path class=\"x3grid crisp\" transform=\"translate(96.75,0)\" d=\"M0,100.00000000000003v71.09333333333332\" style=\"stroke: rgb(255, 255, 255); stroke-opacity: 1; stroke-width: 1px;\"/><path class=\"x3grid crisp\" transform=\"translate(130.25,0)\" d=\"M0,100.00000000000003v71.09333333333332\" style=\"stroke: rgb(255, 255, 255); stroke-opacity: 1; stroke-width: 1px;\"/><path class=\"x3grid crisp\" transform=\"translate(163.75,0)\" d=\"M0,100.00000000000003v71.09333333333332\" style=\"stroke: rgb(255, 255, 255); stroke-opacity: 1; stroke-width: 1px;\"/><path class=\"x3grid crisp\" transform=\"translate(197.25,0)\" d=\"M0,100.00000000000003v71.09333333333332\" style=\"stroke: rgb(255, 255, 255); stroke-opacity: 1; stroke-width: 1px;\"/><path class=\"x3grid crisp\" transform=\"translate(230.75,0)\" d=\"M0,100.00000000000003v71.09333333333332\" style=\"stroke: rgb(255, 255, 255); stroke-opacity: 1; stroke-width: 1px;\"/><path class=\"x3grid crisp\" transform=\"translate(264.25,0)\" d=\"M0,100.00000000000003v71.09333333333332\" style=\"stroke: rgb(255, 255, 255); stroke-opacity: 1; stroke-width: 1px;\"/><path class=\"x3grid crisp\" transform=\"translate(297.75,0)\" d=\"M0,100.00000000000003v71.09333333333332\" style=\"stroke: rgb(255, 255, 255); stroke-opacity: 1; stroke-width: 1px;\"/><path class=\"x3grid crisp\" transform=\"translate(331.25,0)\" d=\"M0,100.00000000000003v71.09333333333332\" style=\"stroke: rgb(255, 255, 255); stroke-opacity: 1; stroke-width: 1px;\"/><path class=\"x3grid crisp\" transform=\"translate(364.75,0)\" d=\"M0,100.00000000000003v71.09333333333332\" style=\"stroke: rgb(255, 255, 255); stroke-opacity: 1; stroke-width: 1px;\"/><path class=\"x3grid crisp\" transform=\"translate(398.25,0)\" d=\"M0,100.00000000000003v71.09333333333332\" style=\"stroke: rgb(255, 255, 255); stroke-opacity: 1; stroke-width: 1px;\"/><path class=\"x3grid crisp\" transform=\"translate(431.75,0)\" d=\"M0,100.00000000000003v71.09333333333332\" style=\"stroke: rgb(255, 255, 255); stroke-opacity: 1; stroke-width: 1px;\"/><path class=\"x3grid crisp\" transform=\"translate(465.25,0)\" d=\"M0,100.00000000000003v71.09333333333332\" style=\"stroke: rgb(255, 255, 255); stroke-opacity: 1; stroke-width: 1px;\"/><path class=\"x3grid crisp\" transform=\"translate(498.75,0)\" d=\"M0,100.00000000000003v71.09333333333332\" style=\"stroke: rgb(255, 255, 255); stroke-opacity: 1; stroke-width: 1px;\"/><path class=\"x3grid crisp\" transform=\"translate(532.25,0)\" d=\"M0,100.00000000000003v71.09333333333332\" style=\"stroke: rgb(255, 255, 255); stroke-opacity: 1; stroke-width: 1px;\"/></g><g class=\"y3\"><path class=\"y3grid crisp\" transform=\"translate(0,166.28000000000003)\" d=\"M80,0h469\" style=\"stroke: rgb(255, 255, 255); stroke-opacity: 1; stroke-width: 1px;\"/><path class=\"y3grid crisp\" transform=\"translate(0,152.46000000000004)\" d=\"M80,0h469\" style=\"stroke: rgb(255, 255, 255); stroke-opacity: 1; stroke-width: 1px;\"/><path class=\"y3grid crisp\" transform=\"translate(0,142.01000000000002)\" d=\"M80,0h469\" style=\"stroke: rgb(255, 255, 255); stroke-opacity: 1; stroke-width: 1px;\"/><path class=\"y3grid crisp\" transform=\"translate(0,131.56000000000003)\" d=\"M80,0h469\" style=\"stroke: rgb(255, 255, 255); stroke-opacity: 1; stroke-width: 1px;\"/><path class=\"y3grid crisp\" transform=\"translate(0,117.74000000000002)\" d=\"M80,0h469\" style=\"stroke: rgb(255, 255, 255); stroke-opacity: 1; stroke-width: 1px;\"/><path class=\"y3grid crisp\" transform=\"translate(0,107.29000000000003)\" d=\"M80,0h469\" style=\"stroke: rgb(255, 255, 255); stroke-opacity: 1; stroke-width: 1px;\"/></g></g><g class=\"zerolinelayer\"/><path class=\"xlines-below\"/><path class=\"ylines-below\"/><g class=\"overlines-below\"/><g class=\"xaxislayer-below\"/><g class=\"yaxislayer-below\"/><g class=\"overaxes-below\"/><g class=\"plot\" transform=\"translate(80, 100.00000000000003)\" clip-path=\"url('#clipbe115fx3y3plot')\"><g class=\"barlayer mlayer\"><g class=\"trace bars\" style=\"opacity: 1;\"><g class=\"points\"><g class=\"point\"><path d=\"M3.35,746.48V2.64H30.15V746.48Z\" style=\"vector-effect: non-scaling-stroke; opacity: 1; stroke-width: 0.5px; fill: rgb(99, 110, 250); fill-opacity: 1; stroke: rgb(229, 236, 246); stroke-opacity: 1;\"/></g><g class=\"point\"><path d=\"M36.85,746.48V36.22H63.65V746.48Z\" style=\"vector-effect: non-scaling-stroke; opacity: 1; stroke-width: 0.5px; fill: rgb(99, 110, 250); fill-opacity: 1; stroke: rgb(229, 236, 246); stroke-opacity: 1;\"/></g><g class=\"point\"><path d=\"M70.35,746.48V50.25H97.15V746.48Z\" style=\"vector-effect: non-scaling-stroke; opacity: 1; stroke-width: 0.5px; fill: rgb(99, 110, 250); fill-opacity: 1; stroke: rgb(229, 236, 246); stroke-opacity: 1;\"/></g></g></g></g></g><g class=\"overplot\"/><path class=\"xlines-above crisp\" style=\"fill: none; stroke-width: 1px; stroke: rgb(255, 255, 255); stroke-opacity: 1;\" d=\"M79,171.59333333333336H549\"/><path class=\"ylines-above crisp\" style=\"fill: none; stroke-width: 1px; stroke: rgb(255, 255, 255); stroke-opacity: 1;\" d=\"M79.5,100.00000000000003V171.09333333333336\"/><g class=\"overlines-above\"/><g class=\"xaxislayer-above\"/><g class=\"yaxislayer-above\"><g class=\"y3tick\"><text text-anchor=\"end\" x=\"76.6\" y=\"3.15\" transform=\"translate(0,166.28000000000003)\" style=\"font-family: 'Open Sans', verdana, arial, sans-serif; font-size: 9px; fill: rgb(42, 63, 95); fill-opacity: 1; white-space: pre;\">2</text></g><g class=\"y3tick\"><text text-anchor=\"end\" x=\"76.6\" y=\"3.15\" transform=\"translate(0,152.46000000000004)\" style=\"font-family: 'Open Sans', verdana, arial, sans-serif; font-size: 9px; fill: rgb(42, 63, 95); fill-opacity: 1; white-space: pre;\">5</text></g><g class=\"y3tick\"><text text-anchor=\"end\" x=\"76.6\" y=\"4.199999999999999\" transform=\"translate(0,142.01000000000002)\" style=\"font-family: 'Open Sans', verdana, arial, sans-serif; font-size: 12px; fill: rgb(42, 63, 95); fill-opacity: 1; white-space: pre;\">1000</text></g><g class=\"y3tick\"><text text-anchor=\"end\" x=\"76.6\" y=\"3.15\" transform=\"translate(0,131.56000000000003)\" style=\"font-family: 'Open Sans', verdana, arial, sans-serif; font-size: 9px; fill: rgb(42, 63, 95); fill-opacity: 1; white-space: pre;\">2</text></g><g class=\"y3tick\"><text text-anchor=\"end\" x=\"76.6\" y=\"3.15\" transform=\"translate(0,117.74000000000002)\" style=\"font-family: 'Open Sans', verdana, arial, sans-serif; font-size: 9px; fill: rgb(42, 63, 95); fill-opacity: 1; white-space: pre;\">5</text></g><g class=\"y3tick\"><text text-anchor=\"end\" x=\"76.6\" y=\"4.199999999999999\" transform=\"translate(0,107.29000000000003)\" style=\"font-family: 'Open Sans', verdana, arial, sans-serif; font-size: 12px; fill: rgb(42, 63, 95); fill-opacity: 1; white-space: pre;\">10k</text></g></g><g class=\"overaxes-above\"/></g></g><g class=\"polarlayer\"/><g class=\"ternarylayer\"/><g class=\"geolayer\"/><g class=\"funnelarealayer\"/><g class=\"pielayer\"/><g class=\"treemaplayer\"/><g class=\"sunburstlayer\"/><g class=\"glimages\"/><defs id=\"topdefs-be115f\"><g class=\"clips\"/><clipPath id=\"legendbe115f\"><rect width=\"130\" height=\"83\" x=\"0\" y=\"0\"/></clipPath></defs><g class=\"layer-above\"><g class=\"imagelayer\"/><g class=\"shapelayer\"/></g><g class=\"infolayer\"><g class=\"legend\" pointer-events=\"all\" transform=\"translate(558.38, 100)\"><rect class=\"bg\" shape-rendering=\"crispEdges\" style=\"stroke: rgb(68, 68, 68); stroke-opacity: 1; fill: rgb(255, 255, 255); fill-opacity: 1; stroke-width: 0px;\" width=\"130\" height=\"83\" x=\"0\" y=\"0\"/><g class=\"scrollbox\" transform=\"translate(0, 0)\" clip-path=\"url('#legendbe115f')\"><text class=\"legendtitletext user-select-none\" text-anchor=\"start\" x=\"2\" y=\"15.600000000000001\" style=\"font-family: 'Open Sans', verdana, arial, sans-serif; font-size: 12px; fill: rgb(42, 63, 95); fill-opacity: 1; white-space: pre;\">region</text><g class=\"groups\" transform=\"translate(0, 0)\"><g class=\"traces\" transform=\"translate(0, 30.1)\" style=\"opacity: 1;\"><text class=\"legendtext user-select-none\" text-anchor=\"start\" x=\"40\" y=\"4.680000000000001\" style=\"font-family: 'Open Sans', verdana, arial, sans-serif; font-size: 12px; fill: rgb(42, 63, 95); fill-opacity: 1; white-space: pre;\">Americas</text><g class=\"layers\" style=\"opacity: 1;\"><g class=\"legendfill\"/><g class=\"legendlines\"/><g class=\"legendsymbols\"><g class=\"legendpoints\"><path class=\"legendundefined\" d=\"M6,6H-6V-6H6Z\" transform=\"translate(20,0)\" style=\"stroke-width: 0.5px; fill: rgb(99, 110, 250); fill-opacity: 1; stroke: rgb(229, 236, 246); stroke-opacity: 1;\"/></g></g></g><rect class=\"legendtoggle\" pointer-events=\"all\" x=\"0\" y=\"-9.5\" width=\"124.140625\" height=\"19\" style=\"cursor: pointer; fill: rgb(0, 0, 0); fill-opacity: 0;\"/></g></g><g class=\"groups\" transform=\"translate(0, 0)\"><g class=\"traces\" transform=\"translate(0, 49.1)\" style=\"opacity: 1;\"><text class=\"legendtext user-select-none\" text-anchor=\"start\" x=\"40\" y=\"4.680000000000001\" style=\"font-family: 'Open Sans', verdana, arial, sans-serif; font-size: 12px; fill: rgb(42, 63, 95); fill-opacity: 1; white-space: pre;\">Asia_Oceania</text><g class=\"layers\" style=\"opacity: 1;\"><g class=\"legendfill\"/><g class=\"legendlines\"/><g class=\"legendsymbols\"><g class=\"legendpoints\"><path class=\"legendundefined\" d=\"M6,6H-6V-6H6Z\" transform=\"translate(20,0)\" style=\"stroke-width: 0.5px; fill: rgb(239, 85, 59); fill-opacity: 1; stroke: rgb(229, 236, 246); stroke-opacity: 1;\"/></g></g></g><rect class=\"legendtoggle\" pointer-events=\"all\" x=\"0\" y=\"-9.5\" width=\"124.140625\" height=\"19\" style=\"cursor: pointer; fill: rgb(0, 0, 0); fill-opacity: 0;\"/></g></g><g class=\"groups\" transform=\"translate(0, 0)\"><g class=\"traces\" transform=\"translate(0, 68.1)\" style=\"opacity: 1;\"><text class=\"legendtext user-select-none\" text-anchor=\"start\" x=\"40\" y=\"4.680000000000001\" style=\"font-family: 'Open Sans', verdana, arial, sans-serif; font-size: 12px; fill: rgb(42, 63, 95); fill-opacity: 1; white-space: pre;\">Europe_Africa</text><g class=\"layers\" style=\"opacity: 1;\"><g class=\"legendfill\"/><g class=\"legendlines\"/><g class=\"legendsymbols\"><g class=\"legendpoints\"><path class=\"legendundefined\" d=\"M6,6H-6V-6H6Z\" transform=\"translate(20,0)\" style=\"stroke-width: 0.5px; fill: rgb(0, 204, 150); fill-opacity: 1; stroke: rgb(229, 236, 246); stroke-opacity: 1;\"/></g></g></g><rect class=\"legendtoggle\" pointer-events=\"all\" x=\"0\" y=\"-9.5\" width=\"124.140625\" height=\"19\" style=\"cursor: pointer; fill: rgb(0, 0, 0); fill-opacity: 0;\"/></g></g></g><rect class=\"scrollbar\" rx=\"20\" ry=\"3\" width=\"0\" height=\"0\" style=\"fill: rgb(128, 139, 164); fill-opacity: 1;\" x=\"0\" y=\"0\"/></g><g class=\"g-gtitle\"><text class=\"gtitle\" x=\"35\" y=\"50\" text-anchor=\"start\" dy=\"0em\" style=\"font-family: 'Open Sans', verdana, arial, sans-serif; font-size: 17px; fill: rgb(42, 63, 95); opacity: 1; font-weight: normal; white-space: pre;\">Countries With Most Starbucks Locations</text></g><g class=\"g-xtitle\"><text class=\"xtitle\" x=\"314.5\" y=\"437.66503982543946\" text-anchor=\"middle\" style=\"font-family: 'Open Sans', verdana, arial, sans-serif; font-size: 14px; fill: rgb(42, 63, 95); opacity: 1; font-weight: normal; white-space: pre;\">country</text></g><g class=\"g-x2title\"/><g class=\"g-x3title\"/><g class=\"g-ytitle\"><text class=\"ytitle\" transform=\"rotate(-90,21.278125000000003,312.4533333333333)\" x=\"21.278125000000003\" y=\"312.4533333333333\" text-anchor=\"middle\" style=\"font-family: 'Open Sans', verdana, arial, sans-serif; font-size: 14px; fill: rgb(42, 63, 95); opacity: 1; font-weight: normal; white-space: pre;\">store_count</text></g><g class=\"g-y2title\"><text class=\"y2title\" transform=\"rotate(-90,21.278125000000003,224)\" x=\"21.278125000000003\" y=\"224\" text-anchor=\"middle\" style=\"font-family: 'Open Sans', verdana, arial, sans-serif; font-size: 14px; fill: rgb(42, 63, 95); opacity: 1; font-weight: normal; white-space: pre;\">store_count</text></g><g class=\"g-y3title\"><text class=\"y3title\" transform=\"rotate(-90,21.278125000000003,135.54666666666668)\" x=\"21.278125000000003\" y=\"135.54666666666668\" text-anchor=\"middle\" style=\"font-family: 'Open Sans', verdana, arial, sans-serif; font-size: 14px; fill: rgb(42, 63, 95); opacity: 1; font-weight: normal; white-space: pre;\">store_count</text></g><g class=\"annotation\" data-index=\"0\" style=\"opacity: 1;\"><g class=\"annotation-text-g\" transform=\"rotate(0,314.5,267.90666666666664)\"><g class=\"cursor-pointer\" transform=\"translate(247, 259)\"><rect class=\"bg\" x=\"0.5\" y=\"0.5\" width=\"135\" height=\"17\" style=\"stroke-width: 1px; stroke: rgb(0, 0, 0); stroke-opacity: 0; fill: rgb(0, 0, 0); fill-opacity: 0;\"/><text class=\"annotation-text\" text-anchor=\"middle\" x=\"67.9375\" y=\"14\" style=\"font-family: 'Open Sans', verdana, arial, sans-serif; font-size: 12px; fill: rgb(42, 63, 95); fill-opacity: 1; white-space: pre;\">region=Europe_Africa</text></g></g></g><g class=\"annotation\" data-index=\"1\" style=\"opacity: 1;\"><g class=\"annotation-text-g\" transform=\"rotate(0,314.5,179.45333333333332)\"><g class=\"cursor-pointer\" transform=\"translate(249, 170)\"><rect class=\"bg\" x=\"0.5\" y=\"0.5\" width=\"131\" height=\"17\" style=\"stroke-width: 1px; stroke: rgb(0, 0, 0); stroke-opacity: 0; fill: rgb(0, 0, 0); fill-opacity: 0;\"/><text class=\"annotation-text\" text-anchor=\"middle\" x=\"66.234375\" y=\"14\" style=\"font-family: 'Open Sans', verdana, arial, sans-serif; font-size: 12px; fill: rgb(42, 63, 95); fill-opacity: 1; white-space: pre;\">region=Asia_Oceania</text></g></g></g><g class=\"annotation\" data-index=\"2\" style=\"opacity: 1;\"><g class=\"annotation-text-g\" transform=\"rotate(0,314.5,91.00000000000003)\"><g class=\"cursor-pointer\" transform=\"translate(261, 82)\"><rect class=\"bg\" x=\"0.5\" y=\"0.5\" width=\"106\" height=\"17\" style=\"stroke-width: 1px; stroke: rgb(0, 0, 0); stroke-opacity: 0; fill: rgb(0, 0, 0); fill-opacity: 0;\"/><text class=\"annotation-text\" text-anchor=\"middle\" x=\"53.453125\" y=\"14\" style=\"font-family: 'Open Sans', verdana, arial, sans-serif; font-size: 12px; fill: rgb(42, 63, 95); fill-opacity: 1; white-space: pre;\">region=Americas</text></g></g></g></g></svg>"
      ]
     },
     "metadata": {},
     "output_type": "display_data"
    }
   ],
   "source": [
    "#Create a dataframe with the most starbucks store in the world\n",
    "store_df = starbucks4[['country','region','store_count']].groupby(['country', 'region']).agg({'store_count':'sum'}).sort_values(ascending=False, by='store_count').head(15)\n",
    "\n",
    "store_df.reset_index(inplace=True)\n",
    "store_df\n",
    "\n",
    "#Display a bar graph\n",
    "fig= px.bar(store_df, x='country', y='store_count',title='Countries With Most Starbucks Locations', facet_col='region' , color='region',\n",
    "                 facet_col_wrap=1, log_y=True)\n",
    "fig.show('svg')"
   ]
  },
  {
   "cell_type": "code",
   "execution_count": 84,
   "metadata": {},
   "outputs": [
    {
     "data": {
      "text/html": [
       "<div>\n",
       "<style scoped>\n",
       "    .dataframe tbody tr th:only-of-type {\n",
       "        vertical-align: middle;\n",
       "    }\n",
       "\n",
       "    .dataframe tbody tr th {\n",
       "        vertical-align: top;\n",
       "    }\n",
       "\n",
       "    .dataframe thead th {\n",
       "        text-align: right;\n",
       "    }\n",
       "</style>\n",
       "<table border=\"1\" class=\"dataframe\">\n",
       "  <thead>\n",
       "    <tr style=\"text-align: right;\">\n",
       "      <th></th>\n",
       "      <th>country</th>\n",
       "      <th>population</th>\n",
       "      <th>region</th>\n",
       "      <th>gdp_ppp</th>\n",
       "      <th>code2</th>\n",
       "      <th>store_count</th>\n",
       "    </tr>\n",
       "  </thead>\n",
       "  <tbody>\n",
       "    <tr>\n",
       "      <th>42</th>\n",
       "      <td>Norway</td>\n",
       "      <td>5421241.0</td>\n",
       "      <td>Europe_Africa</td>\n",
       "      <td>3.570000e+11</td>\n",
       "      <td>NO</td>\n",
       "      <td>17</td>\n",
       "    </tr>\n",
       "    <tr>\n",
       "      <th>12</th>\n",
       "      <td>Canada</td>\n",
       "      <td>37742154.0</td>\n",
       "      <td>Americas</td>\n",
       "      <td>1.930000e+12</td>\n",
       "      <td>CA</td>\n",
       "      <td>1468</td>\n",
       "    </tr>\n",
       "    <tr>\n",
       "      <th>57</th>\n",
       "      <td>South Korea</td>\n",
       "      <td>51269185.0</td>\n",
       "      <td>Asia_Oceania</td>\n",
       "      <td>2.220000e+12</td>\n",
       "      <td>KR</td>\n",
       "      <td>993</td>\n",
       "    </tr>\n",
       "    <tr>\n",
       "      <th>43</th>\n",
       "      <td>Oman</td>\n",
       "      <td>5106626.0</td>\n",
       "      <td>Asia_Oceania</td>\n",
       "      <td>1.450000e+11</td>\n",
       "      <td>OM</td>\n",
       "      <td>12</td>\n",
       "    </tr>\n",
       "    <tr>\n",
       "      <th>6</th>\n",
       "      <td>Bahrain</td>\n",
       "      <td>1701575.0</td>\n",
       "      <td>Asia_Oceania</td>\n",
       "      <td>7.695761e+10</td>\n",
       "      <td>BH</td>\n",
       "      <td>21</td>\n",
       "    </tr>\n",
       "  </tbody>\n",
       "</table>\n",
       "</div>"
      ],
      "text/plain": [
       "        country  population         region       gdp_ppp code2  store_count\n",
       "42       Norway   5421241.0  Europe_Africa  3.570000e+11    NO           17\n",
       "12       Canada  37742154.0       Americas  1.930000e+12    CA         1468\n",
       "57  South Korea  51269185.0   Asia_Oceania  2.220000e+12    KR          993\n",
       "43         Oman   5106626.0   Asia_Oceania  1.450000e+11    OM           12\n",
       "6       Bahrain   1701575.0   Asia_Oceania  7.695761e+10    BH           21"
      ]
     },
     "execution_count": 84,
     "metadata": {},
     "output_type": "execute_result"
    }
   ],
   "source": [
    "#Create a new data frame to include modified population values\n",
    "df_scatter= starbucks4.groupby(['country', 'population', 'region', 'gdp_ppp', 'code2']).agg({'store_count':'sum'}).reset_index()\n",
    "df_scatter.sample(5)"
   ]
  },
  {
   "cell_type": "code",
   "execution_count": 85,
   "metadata": {},
   "outputs": [
    {
     "data": {
      "image/svg+xml": [
       "<svg class=\"main-svg\" xmlns=\"http://www.w3.org/2000/svg\" xmlns:xlink=\"http://www.w3.org/1999/xlink\" width=\"700\" height=\"450\" style=\"\" viewBox=\"0 0 700 450\"><rect x=\"0\" y=\"0\" width=\"700\" height=\"450\" style=\"fill: rgb(255, 255, 255); fill-opacity: 1;\"/><defs id=\"defs-213266\"><g class=\"clips\"><clipPath id=\"clip213266xyplot\" class=\"plotclip\"><rect width=\"150.07999999999998\" height=\"310\"/></clipPath><clipPath id=\"clip213266x2y2plot\" class=\"plotclip\"><rect width=\"150.07999999999998\" height=\"310\"/></clipPath><clipPath id=\"clip213266x3y3plot\" class=\"plotclip\"><rect width=\"150.07999999999998\" height=\"310\"/></clipPath><clipPath class=\"axesclip\" id=\"clip213266x\"><rect x=\"80\" y=\"0\" width=\"150.07999999999998\" height=\"450\"/></clipPath><clipPath class=\"axesclip\" id=\"clip213266y\"><rect x=\"0\" y=\"60\" width=\"700\" height=\"310\"/></clipPath><clipPath class=\"axesclip\" id=\"clip213266xy\"><rect x=\"80\" y=\"60\" width=\"150.07999999999998\" height=\"310\"/></clipPath><clipPath class=\"axesclip\" id=\"clip213266y2\"><rect x=\"0\" y=\"60\" width=\"700\" height=\"310\"/></clipPath><clipPath class=\"axesclip\" id=\"clip213266xy2\"><rect x=\"80\" y=\"60\" width=\"150.07999999999998\" height=\"310\"/></clipPath><clipPath class=\"axesclip\" id=\"clip213266y3\"><rect x=\"0\" y=\"60\" width=\"700\" height=\"310\"/></clipPath><clipPath class=\"axesclip\" id=\"clip213266xy3\"><rect x=\"80\" y=\"60\" width=\"150.07999999999998\" height=\"310\"/></clipPath><clipPath class=\"axesclip\" id=\"clip213266x2\"><rect x=\"239.45999999999998\" y=\"0\" width=\"150.07999999999998\" height=\"450\"/></clipPath><clipPath class=\"axesclip\" id=\"clip213266x2y\"><rect x=\"239.45999999999998\" y=\"60\" width=\"150.07999999999998\" height=\"310\"/></clipPath><clipPath class=\"axesclip\" id=\"clip213266x2y2\"><rect x=\"239.45999999999998\" y=\"60\" width=\"150.07999999999998\" height=\"310\"/></clipPath><clipPath class=\"axesclip\" id=\"clip213266x2y3\"><rect x=\"239.45999999999998\" y=\"60\" width=\"150.07999999999998\" height=\"310\"/></clipPath><clipPath class=\"axesclip\" id=\"clip213266x3\"><rect x=\"398.91999999999996\" y=\"0\" width=\"150.07999999999998\" height=\"450\"/></clipPath><clipPath class=\"axesclip\" id=\"clip213266x3y\"><rect x=\"398.91999999999996\" y=\"60\" width=\"150.07999999999998\" height=\"310\"/></clipPath><clipPath class=\"axesclip\" id=\"clip213266x3y2\"><rect x=\"398.91999999999996\" y=\"60\" width=\"150.07999999999998\" height=\"310\"/></clipPath><clipPath class=\"axesclip\" id=\"clip213266x3y3\"><rect x=\"398.91999999999996\" y=\"60\" width=\"150.07999999999998\" height=\"310\"/></clipPath></g><g class=\"gradients\"/></defs><g class=\"bglayer\"><rect class=\"bg\" x=\"80\" y=\"60\" width=\"150.07999999999998\" height=\"310\" style=\"fill: rgb(229, 236, 246); fill-opacity: 1; stroke-width: 0;\"/><rect class=\"bg\" x=\"239.45999999999998\" y=\"60\" width=\"150.07999999999998\" height=\"310\" style=\"fill: rgb(229, 236, 246); fill-opacity: 1; stroke-width: 0;\"/><rect class=\"bg\" x=\"398.91999999999996\" y=\"60\" width=\"150.07999999999998\" height=\"310\" style=\"fill: rgb(229, 236, 246); fill-opacity: 1; stroke-width: 0;\"/></g><g class=\"layer-below\"><g class=\"imagelayer\"/><g class=\"shapelayer\"/></g><g class=\"cartesianlayer\"><g class=\"subplot xy\"><g class=\"layer-subplot\"><g class=\"shapelayer\"/><g class=\"imagelayer\"/></g><g class=\"gridlayer\"><g class=\"x\"><path class=\"xgrid crisp\" transform=\"translate(103.33,0)\" d=\"M0,60v310\" style=\"stroke: rgb(255, 255, 255); stroke-opacity: 1; stroke-width: 1px;\"/><path class=\"xgrid crisp\" transform=\"translate(134.96,0)\" d=\"M0,60v310\" style=\"stroke: rgb(255, 255, 255); stroke-opacity: 1; stroke-width: 1px;\"/><path class=\"xgrid crisp\" transform=\"translate(166.6,0)\" d=\"M0,60v310\" style=\"stroke: rgb(255, 255, 255); stroke-opacity: 1; stroke-width: 1px;\"/><path class=\"xgrid crisp\" transform=\"translate(198.24,0)\" d=\"M0,60v310\" style=\"stroke: rgb(255, 255, 255); stroke-opacity: 1; stroke-width: 1px;\"/></g><g class=\"y\"><path class=\"ygrid crisp\" transform=\"translate(0,296.74)\" d=\"M80,0h150.07999999999998\" style=\"stroke: rgb(255, 255, 255); stroke-opacity: 1; stroke-width: 1px;\"/><path class=\"ygrid crisp\" transform=\"translate(0,241.73)\" d=\"M80,0h150.07999999999998\" style=\"stroke: rgb(255, 255, 255); stroke-opacity: 1; stroke-width: 1px;\"/><path class=\"ygrid crisp\" transform=\"translate(0,186.72)\" d=\"M80,0h150.07999999999998\" style=\"stroke: rgb(255, 255, 255); stroke-opacity: 1; stroke-width: 1px;\"/><path class=\"ygrid crisp\" transform=\"translate(0,131.70999999999998)\" d=\"M80,0h150.07999999999998\" style=\"stroke: rgb(255, 255, 255); stroke-opacity: 1; stroke-width: 1px;\"/><path class=\"ygrid crisp\" transform=\"translate(0,76.7)\" d=\"M80,0h150.07999999999998\" style=\"stroke: rgb(255, 255, 255); stroke-opacity: 1; stroke-width: 1px;\"/></g></g><g class=\"zerolinelayer\"><path class=\"yzl zl crisp\" transform=\"translate(0,351.75)\" d=\"M80,0h150.07999999999998\" style=\"stroke: rgb(255, 255, 255); stroke-opacity: 1; stroke-width: 2px;\"/></g><path class=\"xlines-below\"/><path class=\"ylines-below\"/><g class=\"overlines-below\"/><g class=\"xaxislayer-below\"/><g class=\"yaxislayer-below\"/><g class=\"overaxes-below\"/><g class=\"plot\" transform=\"translate(80, 60)\" clip-path=\"url('#clip213266xyplot')\"><g class=\"scatterlayer mlayer\"><g class=\"trace scatter traceca2abe\" style=\"stroke-miterlimit: 2; opacity: 1;\"><g class=\"fills\"/><g class=\"errorbars\"/><g class=\"lines\"/><g class=\"points\"><path class=\"point\" transform=\"translate(75.69,280.42)\" d=\"M3.15,0A3.15,3.15 0 1,1 0,-3.15A3.15,3.15 0 0,1 3.15,0Z\" style=\"opacity: 0.5; stroke-width: 1px; fill: rgb(99, 110, 250); fill-opacity: 1; stroke: rgb(255, 255, 255); stroke-opacity: 1;\"/><path class=\"point\" transform=\"translate(10.5,291.59)\" d=\"M0.96,0A0.96,0.96 0 1,1 0,-0.96A0.96,0.96 0 0,1 0.96,0Z\" style=\"opacity: 0.5; stroke-width: 1px; fill: rgb(99, 110, 250); fill-opacity: 1; stroke: rgb(255, 255, 255); stroke-opacity: 1;\"/><path class=\"point\" transform=\"translate(57.09,290.6)\" d=\"M0.61,0A0.61,0.61 0 1,1 0,-0.61A0.61,0.61 0 0,1 0.61,0Z\" style=\"opacity: 0.5; stroke-width: 1px; fill: rgb(99, 110, 250); fill-opacity: 1; stroke: rgb(255, 255, 255); stroke-opacity: 1;\"/><path class=\"point\" transform=\"translate(96.96,256.33)\" d=\"M3.06,0A3.06,3.06 0 1,1 0,-3.06A3.06,3.06 0 0,1 3.06,0Z\" style=\"opacity: 0.5; stroke-width: 1px; fill: rgb(99, 110, 250); fill-opacity: 1; stroke: rgb(255, 255, 255); stroke-opacity: 1;\"/><path class=\"point\" transform=\"translate(73.21,270.52)\" d=\"M11.61,0A11.61,11.61 0 1,1 0,-11.61A11.61,11.61 0 0,1 11.61,0Z\" style=\"opacity: 0.5; stroke-width: 1px; fill: rgb(99, 110, 250); fill-opacity: 1; stroke: rgb(255, 255, 255); stroke-opacity: 1;\"/><path class=\"point\" transform=\"translate(63.87,286.5)\" d=\"M2.97,0A2.97,2.97 0 1,1 0,-2.97A2.97,2.97 0 0,1 2.97,0Z\" style=\"opacity: 0.5; stroke-width: 1px; fill: rgb(99, 110, 250); fill-opacity: 1; stroke: rgb(255, 255, 255); stroke-opacity: 1;\"/><path class=\"point\" transform=\"translate(77.32,283.09)\" d=\"M1.01,0A1.01,1.01 0 1,1 0,-1.01A1.01,1.01 0 0,1 1.01,0Z\" style=\"opacity: 0.5; stroke-width: 1px; fill: rgb(99, 110, 250); fill-opacity: 1; stroke: rgb(255, 255, 255); stroke-opacity: 1;\"/><path class=\"point\" transform=\"translate(45.7,290.62)\" d=\"M1.01,0A1.01,1.01 0 1,1 0,-1.01A1.01,1.01 0 0,1 1.01,0Z\" style=\"opacity: 0.5; stroke-width: 1px; fill: rgb(99, 110, 250); fill-opacity: 1; stroke: rgb(255, 255, 255); stroke-opacity: 1;\"/><path class=\"point\" transform=\"translate(49.02,291.1)\" d=\"M1.01,0A1.01,1.01 0 1,1 0,-1.01A1.01,1.01 0 0,1 1.01,0Z\" style=\"opacity: 0.5; stroke-width: 1px; fill: rgb(99, 110, 250); fill-opacity: 1; stroke: rgb(255, 255, 255); stroke-opacity: 1;\"/><path class=\"point\" transform=\"translate(62.98,290.11)\" d=\"M0.8,0A0.8,0.8 0 1,1 0,-0.8A0.8,0.8 0 0,1 0.8,0Z\" style=\"opacity: 0.5; stroke-width: 1px; fill: rgb(99, 110, 250); fill-opacity: 1; stroke: rgb(255, 255, 255); stroke-opacity: 1;\"/><path class=\"point\" transform=\"translate(90.09,263.15)\" d=\"M7.29,0A7.29,7.29 0 1,1 0,-7.29A7.29,7.29 0 0,1 7.29,0Z\" style=\"opacity: 0.5; stroke-width: 1px; fill: rgb(99, 110, 250); fill-opacity: 1; stroke: rgb(255, 255, 255); stroke-opacity: 1;\"/><path class=\"point\" transform=\"translate(43.42,290.22)\" d=\"M0.68,0A0.68,0.68 0 1,1 0,-0.68A0.68,0.68 0 0,1 0.68,0Z\" style=\"opacity: 0.5; stroke-width: 1px; fill: rgb(99, 110, 250); fill-opacity: 1; stroke: rgb(255, 255, 255); stroke-opacity: 1;\"/><path class=\"point\" transform=\"translate(71.36,286.97)\" d=\"M2.86,0A2.86,2.86 0 1,1 0,-2.86A2.86,2.86 0 0,1 2.86,0Z\" style=\"opacity: 0.5; stroke-width: 1px; fill: rgb(99, 110, 250); fill-opacity: 1; stroke: rgb(255, 255, 255); stroke-opacity: 1;\"/><path class=\"point\" transform=\"translate(37.77,290.49)\" d=\"M1.48,0A1.48,1.48 0 1,1 0,-1.48A1.48,1.48 0 0,1 1.48,0Z\" style=\"opacity: 0.5; stroke-width: 1px; fill: rgb(99, 110, 250); fill-opacity: 1; stroke: rgb(255, 255, 255); stroke-opacity: 1;\"/><path class=\"point\" transform=\"translate(27.95,291.33)\" d=\"M0.52,0A0.52,0.52 0 1,1 0,-0.52A0.52,0.52 0 0,1 0.52,0Z\" style=\"opacity: 0.5; stroke-width: 1px; fill: rgb(99, 110, 250); fill-opacity: 1; stroke: rgb(255, 255, 255); stroke-opacity: 1;\"/><path class=\"point\" transform=\"translate(103.05,56.31)\" d=\"M35.36,0A35.36,35.36 0 1,1 0,-35.36A35.36,35.36 0 0,1 35.36,0Z\" style=\"opacity: 0.5; stroke-width: 1px; fill: rgb(99, 110, 250); fill-opacity: 1; stroke: rgb(255, 255, 255); stroke-opacity: 1;\"/></g><g class=\"text\"/></g></g></g><g class=\"overplot\"/><path class=\"xlines-above crisp\" d=\"M79,370.5H230.07999999999998\" style=\"fill: none; stroke-width: 1px; stroke: rgb(255, 255, 255); stroke-opacity: 1;\"/><path class=\"ylines-above crisp\" d=\"M79.5,60V370\" style=\"fill: none; stroke-width: 1px; stroke: rgb(255, 255, 255); stroke-opacity: 1;\"/><g class=\"overlines-above\"/><g class=\"xaxislayer-above\"><g class=\"xtick\"><text text-anchor=\"middle\" x=\"0\" y=\"385.4\" transform=\"translate(103.33,0)\" style=\"font-family: 'Open Sans', verdana, arial, sans-serif; font-size: 12px; fill: rgb(42, 63, 95); fill-opacity: 1; white-space: pre;\">1M</text></g><g class=\"xtick\"><text text-anchor=\"middle\" x=\"0\" y=\"385.4\" transform=\"translate(134.96,0)\" style=\"font-family: 'Open Sans', verdana, arial, sans-serif; font-size: 12px; fill: rgb(42, 63, 95); fill-opacity: 1; white-space: pre;\">10M</text></g><g class=\"xtick\"><text text-anchor=\"middle\" x=\"0\" y=\"385.4\" transform=\"translate(166.6,0)\" style=\"font-family: 'Open Sans', verdana, arial, sans-serif; font-size: 12px; fill: rgb(42, 63, 95); fill-opacity: 1; white-space: pre;\">100M</text></g><g class=\"xtick\"><text text-anchor=\"middle\" x=\"0\" y=\"385.4\" transform=\"translate(198.24,0)\" style=\"font-family: 'Open Sans', verdana, arial, sans-serif; font-size: 12px; fill: rgb(42, 63, 95); fill-opacity: 1; white-space: pre;\">1B</text></g><g class=\"xtick\"><text text-anchor=\"middle\" x=\"0\" y=\"385.4\" transform=\"translate(229.88,0)\" style=\"font-family: 'Open Sans', verdana, arial, sans-serif; font-size: 12px; fill: rgb(42, 63, 95); fill-opacity: 1; white-space: pre;\">10B</text></g></g><g class=\"yaxislayer-above\"><g class=\"ytick\"><text text-anchor=\"end\" x=\"76.6\" y=\"4.199999999999999\" transform=\"translate(0,351.75)\" style=\"font-family: 'Open Sans', verdana, arial, sans-serif; font-size: 12px; fill: rgb(42, 63, 95); fill-opacity: 1; white-space: pre;\">0</text></g><g class=\"ytick\"><text text-anchor=\"end\" x=\"76.6\" y=\"4.199999999999999\" transform=\"translate(0,296.74)\" style=\"font-family: 'Open Sans', verdana, arial, sans-serif; font-size: 12px; fill: rgb(42, 63, 95); fill-opacity: 1; white-space: pre;\">5T</text></g><g class=\"ytick\"><text text-anchor=\"end\" x=\"76.6\" y=\"4.199999999999999\" transform=\"translate(0,241.73)\" style=\"font-family: 'Open Sans', verdana, arial, sans-serif; font-size: 12px; fill: rgb(42, 63, 95); fill-opacity: 1; white-space: pre;\">10T</text></g><g class=\"ytick\"><text text-anchor=\"end\" x=\"76.6\" y=\"4.199999999999999\" transform=\"translate(0,186.72)\" style=\"font-family: 'Open Sans', verdana, arial, sans-serif; font-size: 12px; fill: rgb(42, 63, 95); fill-opacity: 1; white-space: pre;\">15T</text></g><g class=\"ytick\"><text text-anchor=\"end\" x=\"76.6\" y=\"4.199999999999999\" transform=\"translate(0,131.70999999999998)\" style=\"font-family: 'Open Sans', verdana, arial, sans-serif; font-size: 12px; fill: rgb(42, 63, 95); fill-opacity: 1; white-space: pre;\">20T</text></g><g class=\"ytick\"><text text-anchor=\"end\" x=\"76.6\" y=\"4.199999999999999\" transform=\"translate(0,76.7)\" style=\"font-family: 'Open Sans', verdana, arial, sans-serif; font-size: 12px; fill: rgb(42, 63, 95); fill-opacity: 1; white-space: pre;\">25T</text></g></g><g class=\"overaxes-above\"/></g><g class=\"subplot x2y2\"><g class=\"layer-subplot\"><g class=\"shapelayer\"/><g class=\"imagelayer\"/></g><g class=\"gridlayer\"><g class=\"x2\"><path class=\"x2grid crisp\" transform=\"translate(262.78999999999996,0)\" d=\"M0,60v310\" style=\"stroke: rgb(255, 255, 255); stroke-opacity: 1; stroke-width: 1px;\"/><path class=\"x2grid crisp\" transform=\"translate(294.41999999999996,0)\" d=\"M0,60v310\" style=\"stroke: rgb(255, 255, 255); stroke-opacity: 1; stroke-width: 1px;\"/><path class=\"x2grid crisp\" transform=\"translate(326.05999999999995,0)\" d=\"M0,60v310\" style=\"stroke: rgb(255, 255, 255); stroke-opacity: 1; stroke-width: 1px;\"/><path class=\"x2grid crisp\" transform=\"translate(357.7,0)\" d=\"M0,60v310\" style=\"stroke: rgb(255, 255, 255); stroke-opacity: 1; stroke-width: 1px;\"/></g><g class=\"y2\"><path class=\"y2grid crisp\" transform=\"translate(0,296.74)\" d=\"M239.45999999999998,0h150.07999999999998\" style=\"stroke: rgb(255, 255, 255); stroke-opacity: 1; stroke-width: 1px;\"/><path class=\"y2grid crisp\" transform=\"translate(0,241.73)\" d=\"M239.45999999999998,0h150.07999999999998\" style=\"stroke: rgb(255, 255, 255); stroke-opacity: 1; stroke-width: 1px;\"/><path class=\"y2grid crisp\" transform=\"translate(0,186.72)\" d=\"M239.45999999999998,0h150.07999999999998\" style=\"stroke: rgb(255, 255, 255); stroke-opacity: 1; stroke-width: 1px;\"/><path class=\"y2grid crisp\" transform=\"translate(0,131.70999999999998)\" d=\"M239.45999999999998,0h150.07999999999998\" style=\"stroke: rgb(255, 255, 255); stroke-opacity: 1; stroke-width: 1px;\"/><path class=\"y2grid crisp\" transform=\"translate(0,76.7)\" d=\"M239.45999999999998,0h150.07999999999998\" style=\"stroke: rgb(255, 255, 255); stroke-opacity: 1; stroke-width: 1px;\"/></g></g><g class=\"zerolinelayer\"><path class=\"y2zl zl crisp\" transform=\"translate(0,351.75)\" d=\"M239.45999999999998,0h150.07999999999998\" style=\"stroke: rgb(255, 255, 255); stroke-opacity: 1; stroke-width: 2px;\"/></g><path class=\"xlines-below\"/><path class=\"ylines-below\"/><g class=\"overlines-below\"/><g class=\"xaxislayer-below\"/><g class=\"yaxislayer-below\"/><g class=\"overaxes-below\"/><g class=\"plot\" transform=\"translate(239.45999999999998, 60)\" clip-path=\"url('#clip213266x2y2plot')\"><g class=\"scatterlayer mlayer\"><g class=\"trace scatter trace60a5a8\" style=\"stroke-miterlimit: 2; opacity: 1;\"><g class=\"fills\"/><g class=\"errorbars\"/><g class=\"lines\"/><g class=\"points\"><path class=\"point\" transform=\"translate(67.83,276.9)\" d=\"M1.42,0A1.42,1.42 0 1,1 0,-1.42A1.42,1.42 0 0,1 1.42,0Z\" style=\"opacity: 0.5; stroke-width: 1px; fill: rgb(239, 85, 59); fill-opacity: 1; stroke: rgb(255, 255, 255); stroke-opacity: 1;\"/><path class=\"point\" transform=\"translate(55.15,290.1)\" d=\"M0.61,0A0.61,0.61 0 1,1 0,-0.61A0.61,0.61 0 0,1 0.61,0Z\" style=\"opacity: 0.5; stroke-width: 1px; fill: rgb(239, 85, 59); fill-opacity: 1; stroke: rgb(255, 255, 255); stroke-opacity: 1;\"/><path class=\"point\" transform=\"translate(30.63,290.91)\" d=\"M1.39,0A1.39,1.39 0 1,1 0,-1.39A1.39,1.39 0 0,1 1.39,0Z\" style=\"opacity: 0.5; stroke-width: 1px; fill: rgb(239, 85, 59); fill-opacity: 1; stroke: rgb(255, 255, 255); stroke-opacity: 1;\"/><path class=\"point\" transform=\"translate(62.03,290.92)\" d=\"M0.61,0A0.61,0.61 0 1,1 0,-0.61A0.61,0.61 0 0,1 0.61,0Z\" style=\"opacity: 0.5; stroke-width: 1px; fill: rgb(239, 85, 59); fill-opacity: 1; stroke: rgb(255, 255, 255); stroke-opacity: 1;\"/><path class=\"point\" transform=\"translate(123.24,33.2)\" d=\"M15.85,0A15.85,15.85 0 1,1 0,-15.85A15.85,15.85 0 0,1 15.85,0Z\" style=\"opacity: 0.5; stroke-width: 1px; fill: rgb(239, 85, 59); fill-opacity: 1; stroke: rgb(255, 255, 255); stroke-opacity: 1;\"/><path class=\"point\" transform=\"translate(25.92,291.35)\" d=\"M0.96,0A0.96,0.96 0 1,1 0,-0.96A0.96,0.96 0 0,1 0.96,0Z\" style=\"opacity: 0.5; stroke-width: 1px; fill: rgb(239, 85, 59); fill-opacity: 1; stroke: rgb(255, 255, 255); stroke-opacity: 1;\"/><path class=\"point\" transform=\"translate(122.66,186.02)\" d=\"M2.84,0A2.84,2.84 0 1,1 0,-2.84A2.84,2.84 0 0,1 2.84,0Z\" style=\"opacity: 0.5; stroke-width: 1px; fill: rgb(239, 85, 59); fill-opacity: 1; stroke: rgb(255, 255, 255); stroke-opacity: 1;\"/><path class=\"point\" transform=\"translate(100.43,255.12)\" d=\"M4.96,0A4.96,4.96 0 1,1 0,-4.96A4.96,4.96 0 0,1 4.96,0Z\" style=\"opacity: 0.5; stroke-width: 1px; fill: rgb(239, 85, 59); fill-opacity: 1; stroke: rgb(255, 255, 255); stroke-opacity: 1;\"/><path class=\"point\" transform=\"translate(89.83,231.68)\" d=\"M10.66,0A10.66,10.66 0 1,1 0,-10.66A10.66,10.66 0 0,1 10.66,0Z\" style=\"opacity: 0.5; stroke-width: 1px; fill: rgb(239, 85, 59); fill-opacity: 1; stroke: rgb(255, 255, 255); stroke-opacity: 1;\"/><path class=\"point\" transform=\"translate(55.24,290.61)\" d=\"M1.25,0A1.25,1.25 0 1,1 0,-1.25A1.25,1.25 0 0,1 1.25,0Z\" style=\"opacity: 0.5; stroke-width: 1px; fill: rgb(239, 85, 59); fill-opacity: 1; stroke: rgb(255, 255, 255); stroke-opacity: 1;\"/><path class=\"point\" transform=\"translate(63.62,286.16)\" d=\"M0.86,0A0.86,0.86 0 1,1 0,-0.86A0.86,0.86 0 0,1 0.86,0Z\" style=\"opacity: 0.5; stroke-width: 1px; fill: rgb(239, 85, 59); fill-opacity: 1; stroke: rgb(255, 255, 255); stroke-opacity: 1;\"/><path class=\"point\" transform=\"translate(43.27,289.35)\" d=\"M3.12,0A3.12,3.12 0 1,1 0,-3.12A3.12,3.12 0 0,1 3.12,0Z\" style=\"opacity: 0.5; stroke-width: 1px; fill: rgb(239, 85, 59); fill-opacity: 1; stroke: rgb(255, 255, 255); stroke-opacity: 1;\"/><path class=\"point\" transform=\"translate(49.72,290.6)\" d=\"M1.63,0A1.63,1.63 0 1,1 0,-1.63A1.63,1.63 0 0,1 1.63,0Z\" style=\"opacity: 0.5; stroke-width: 1px; fill: rgb(239, 85, 59); fill-opacity: 1; stroke: rgb(255, 255, 255); stroke-opacity: 1;\"/><path class=\"point\" transform=\"translate(71.1,281.38)\" d=\"M4.64,0A4.64,4.64 0 1,1 0,-4.64A4.64,4.64 0 0,1 4.64,0Z\" style=\"opacity: 0.5; stroke-width: 1px; fill: rgb(239, 85, 59); fill-opacity: 1; stroke: rgb(255, 255, 255); stroke-opacity: 1;\"/><path class=\"point\" transform=\"translate(44.94,289.38)\" d=\"M1.48,0A1.48,1.48 0 1,1 0,-1.48A1.48,1.48 0 0,1 1.48,0Z\" style=\"opacity: 0.5; stroke-width: 1px; fill: rgb(239, 85, 59); fill-opacity: 1; stroke: rgb(255, 255, 255); stroke-opacity: 1;\"/><path class=\"point\" transform=\"translate(45.73,290.16)\" d=\"M1.05,0A1.05,1.05 0 1,1 0,-1.05A1.05,1.05 0 0,1 1.05,0Z\" style=\"opacity: 0.5; stroke-width: 1px; fill: rgb(239, 85, 59); fill-opacity: 1; stroke: rgb(255, 255, 255); stroke-opacity: 1;\"/><path class=\"point\" transform=\"translate(87.86,280.75)\" d=\"M5.23,0A5.23,5.23 0 1,1 0,-5.23A5.23,5.23 0 0,1 5.23,0Z\" style=\"opacity: 0.5; stroke-width: 1px; fill: rgb(239, 85, 59); fill-opacity: 1; stroke: rgb(255, 255, 255); stroke-opacity: 1;\"/><path class=\"point\" transform=\"translate(37.87,288.75)\" d=\"M1.29,0A1.29,1.29 0 1,1 0,-1.29A1.29,1.29 0 0,1 1.29,0Z\" style=\"opacity: 0.5; stroke-width: 1px; fill: rgb(239, 85, 59); fill-opacity: 1; stroke: rgb(255, 255, 255); stroke-opacity: 1;\"/><path class=\"point\" transform=\"translate(91.8,244.66)\" d=\"M3.16,0A3.16,3.16 0 1,1 0,-3.16A3.16,3.16 0 0,1 3.16,0Z\" style=\"opacity: 0.5; stroke-width: 1px; fill: rgb(239, 85, 59); fill-opacity: 1; stroke: rgb(255, 255, 255); stroke-opacity: 1;\"/><path class=\"point\" transform=\"translate(72.1,273.27)\" d=\"M3.06,0A3.06,3.06 0 1,1 0,-3.06A3.06,3.06 0 0,1 3.06,0Z\" style=\"opacity: 0.5; stroke-width: 1px; fill: rgb(239, 85, 59); fill-opacity: 1; stroke: rgb(255, 255, 255); stroke-opacity: 1;\"/><path class=\"point\" transform=\"translate(47.6,285.39)\" d=\"M3.46,0A3.46,3.46 0 1,1 0,-3.46A3.46,3.46 0 0,1 3.46,0Z\" style=\"opacity: 0.5; stroke-width: 1px; fill: rgb(239, 85, 59); fill-opacity: 1; stroke: rgb(255, 255, 255); stroke-opacity: 1;\"/><path class=\"point\" transform=\"translate(77.42,267.33)\" d=\"M9.55,0A9.55,9.55 0 1,1 0,-9.55A9.55,9.55 0 0,1 9.55,0Z\" style=\"opacity: 0.5; stroke-width: 1px; fill: rgb(239, 85, 59); fill-opacity: 1; stroke: rgb(255, 255, 255); stroke-opacity: 1;\"/><path class=\"point\" transform=\"translate(81.66,277.01)\" d=\"M5.15,0A5.15,5.15 0 1,1 0,-5.15A5.15,5.15 0 0,1 5.15,0Z\" style=\"opacity: 0.5; stroke-width: 1px; fill: rgb(239, 85, 59); fill-opacity: 1; stroke: rgb(255, 255, 255); stroke-opacity: 1;\"/><path class=\"point\" transform=\"translate(84.26,266.12)\" d=\"M5.47,0A5.47,5.47 0 1,1 0,-5.47A5.47,5.47 0 0,1 5.47,0Z\" style=\"opacity: 0.5; stroke-width: 1px; fill: rgb(239, 85, 59); fill-opacity: 1; stroke: rgb(255, 255, 255); stroke-opacity: 1;\"/><path class=\"point\" transform=\"translate(54.81,284.24)\" d=\"M3.64,0A3.64,3.64 0 1,1 0,-3.64A3.64,3.64 0 0,1 3.64,0Z\" style=\"opacity: 0.5; stroke-width: 1px; fill: rgb(239, 85, 59); fill-opacity: 1; stroke: rgb(255, 255, 255); stroke-opacity: 1;\"/><path class=\"point\" transform=\"translate(86.23,282.86)\" d=\"M1.52,0A1.52,1.52 0 1,1 0,-1.52A1.52,1.52 0 0,1 1.52,0Z\" style=\"opacity: 0.5; stroke-width: 1px; fill: rgb(239, 85, 59); fill-opacity: 1; stroke: rgb(255, 255, 255); stroke-opacity: 1;\"/></g><g class=\"text\"/></g></g></g><g class=\"overplot\"/><path class=\"xlines-above crisp\" d=\"M238.45999999999998,370.5H389.53999999999996\" style=\"fill: none; stroke-width: 1px; stroke: rgb(255, 255, 255); stroke-opacity: 1;\"/><path class=\"ylines-above crisp\" d=\"M238.95999999999998,60V370\" style=\"fill: none; stroke-width: 1px; stroke: rgb(255, 255, 255); stroke-opacity: 1;\"/><g class=\"overlines-above\"/><g class=\"xaxislayer-above\"><g class=\"x2tick\"><text text-anchor=\"middle\" x=\"0\" y=\"385.4\" transform=\"translate(262.78999999999996,0)\" style=\"font-family: 'Open Sans', verdana, arial, sans-serif; font-size: 12px; fill: rgb(42, 63, 95); fill-opacity: 1; white-space: pre;\">1M</text></g><g class=\"x2tick\"><text text-anchor=\"middle\" x=\"0\" y=\"385.4\" transform=\"translate(294.41999999999996,0)\" style=\"font-family: 'Open Sans', verdana, arial, sans-serif; font-size: 12px; fill: rgb(42, 63, 95); fill-opacity: 1; white-space: pre;\">10M</text></g><g class=\"x2tick\"><text text-anchor=\"middle\" x=\"0\" y=\"385.4\" transform=\"translate(326.05999999999995,0)\" style=\"font-family: 'Open Sans', verdana, arial, sans-serif; font-size: 12px; fill: rgb(42, 63, 95); fill-opacity: 1; white-space: pre;\">100M</text></g><g class=\"x2tick\"><text text-anchor=\"middle\" x=\"0\" y=\"385.4\" transform=\"translate(357.7,0)\" style=\"font-family: 'Open Sans', verdana, arial, sans-serif; font-size: 12px; fill: rgb(42, 63, 95); fill-opacity: 1; white-space: pre;\">1B</text></g><g class=\"x2tick\"><text text-anchor=\"middle\" x=\"0\" y=\"385.4\" transform=\"translate(389.34,0)\" style=\"font-family: 'Open Sans', verdana, arial, sans-serif; font-size: 12px; fill: rgb(42, 63, 95); fill-opacity: 1; white-space: pre;\">10B</text></g></g><g class=\"yaxislayer-above\"/><g class=\"overaxes-above\"/></g><g class=\"subplot x3y3\"><g class=\"layer-subplot\"><g class=\"shapelayer\"/><g class=\"imagelayer\"/></g><g class=\"gridlayer\"><g class=\"x3\"><path class=\"x3grid crisp\" transform=\"translate(422.24999999999994,0)\" d=\"M0,60v310\" style=\"stroke: rgb(255, 255, 255); stroke-opacity: 1; stroke-width: 1px;\"/><path class=\"x3grid crisp\" transform=\"translate(453.87999999999994,0)\" d=\"M0,60v310\" style=\"stroke: rgb(255, 255, 255); stroke-opacity: 1; stroke-width: 1px;\"/><path class=\"x3grid crisp\" transform=\"translate(485.52,0)\" d=\"M0,60v310\" style=\"stroke: rgb(255, 255, 255); stroke-opacity: 1; stroke-width: 1px;\"/><path class=\"x3grid crisp\" transform=\"translate(517.16,0)\" d=\"M0,60v310\" style=\"stroke: rgb(255, 255, 255); stroke-opacity: 1; stroke-width: 1px;\"/></g><g class=\"y3\"><path class=\"y3grid crisp\" transform=\"translate(0,296.74)\" d=\"M398.91999999999996,0h150.07999999999998\" style=\"stroke: rgb(255, 255, 255); stroke-opacity: 1; stroke-width: 1px;\"/><path class=\"y3grid crisp\" transform=\"translate(0,241.73)\" d=\"M398.91999999999996,0h150.07999999999998\" style=\"stroke: rgb(255, 255, 255); stroke-opacity: 1; stroke-width: 1px;\"/><path class=\"y3grid crisp\" transform=\"translate(0,186.72)\" d=\"M398.91999999999996,0h150.07999999999998\" style=\"stroke: rgb(255, 255, 255); stroke-opacity: 1; stroke-width: 1px;\"/><path class=\"y3grid crisp\" transform=\"translate(0,131.70999999999998)\" d=\"M398.91999999999996,0h150.07999999999998\" style=\"stroke: rgb(255, 255, 255); stroke-opacity: 1; stroke-width: 1px;\"/><path class=\"y3grid crisp\" transform=\"translate(0,76.7)\" d=\"M398.91999999999996,0h150.07999999999998\" style=\"stroke: rgb(255, 255, 255); stroke-opacity: 1; stroke-width: 1px;\"/></g></g><g class=\"zerolinelayer\"><path class=\"y3zl zl crisp\" transform=\"translate(0,351.75)\" d=\"M398.91999999999996,0h150.07999999999998\" style=\"stroke: rgb(255, 255, 255); stroke-opacity: 1; stroke-width: 2px;\"/></g><path class=\"xlines-below\"/><path class=\"ylines-below\"/><g class=\"overlines-below\"/><g class=\"xaxislayer-below\"/><g class=\"yaxislayer-below\"/><g class=\"overaxes-below\"/><g class=\"plot\" transform=\"translate(398.91999999999996, 60)\" clip-path=\"url('#clip213266x3y3plot')\"><g class=\"scatterlayer mlayer\"><g class=\"trace scatter trace4b4d20\" style=\"stroke-miterlimit: 2; opacity: 1;\"><g class=\"fills\"/><g class=\"errorbars\"/><g class=\"lines\"/><g class=\"points\"><path class=\"point\" transform=\"translate(53.53,285.98)\" d=\"M1.29,0A1.29,1.29 0 1,1 0,-1.29A1.29,1.29 0 0,1 1.29,0Z\" style=\"opacity: 0.5; stroke-width: 1px; fill: rgb(0, 204, 150); fill-opacity: 1; stroke: rgb(255, 255, 255); stroke-opacity: 1;\"/><path class=\"point\" transform=\"translate(55.15,290.1)\" d=\"M0.61,0A0.61,0.61 0 1,1 0,-0.61A0.61,0.61 0 0,1 0.61,0Z\" style=\"opacity: 0.5; stroke-width: 1px; fill: rgb(0, 204, 150); fill-opacity: 1; stroke: rgb(255, 255, 255); stroke-opacity: 1;\"/><path class=\"point\" transform=\"translate(56.99,284.86)\" d=\"M1.32,0A1.32,1.32 0 1,1 0,-1.32A1.32,1.32 0 0,1 1.32,0Z\" style=\"opacity: 0.5; stroke-width: 1px; fill: rgb(0, 204, 150); fill-opacity: 1; stroke: rgb(255, 255, 255); stroke-opacity: 1;\"/><path class=\"point\" transform=\"translate(49.96,289.87)\" d=\"M0.68,0A0.68,0.68 0 1,1 0,-0.68A0.68,0.68 0 0,1 0.68,0Z\" style=\"opacity: 0.5; stroke-width: 1px; fill: rgb(0, 204, 150); fill-opacity: 1; stroke: rgb(255, 255, 255); stroke-opacity: 1;\"/><path class=\"point\" transform=\"translate(25.92,291.35)\" d=\"M0.96,0A0.96,0.96 0 1,1 0,-0.96A0.96,0.96 0 0,1 0.96,0Z\" style=\"opacity: 0.5; stroke-width: 1px; fill: rgb(0, 204, 150); fill-opacity: 1; stroke: rgb(255, 255, 255); stroke-opacity: 1;\"/><path class=\"point\" transform=\"translate(47.46,287.92)\" d=\"M1.39,0A1.39,1.39 0 1,1 0,-1.39A1.39,1.39 0 0,1 1.39,0Z\" style=\"opacity: 0.5; stroke-width: 1px; fill: rgb(0, 204, 150); fill-opacity: 1; stroke: rgb(255, 255, 255); stroke-opacity: 1;\"/><path class=\"point\" transform=\"translate(46.85,288.64)\" d=\"M0.86,0A0.86,0.86 0 1,1 0,-0.86A0.86,0.86 0 0,1 0.86,0Z\" style=\"opacity: 0.5; stroke-width: 1px; fill: rgb(0, 204, 150); fill-opacity: 1; stroke: rgb(255, 255, 255); stroke-opacity: 1;\"/><path class=\"point\" transform=\"translate(80.74,255.23)\" d=\"M3.48,0A3.48,3.48 0 1,1 0,-3.48A3.48,3.48 0 0,1 3.48,0Z\" style=\"opacity: 0.5; stroke-width: 1px; fill: rgb(0, 204, 150); fill-opacity: 1; stroke: rgb(255, 255, 255); stroke-opacity: 1;\"/><path class=\"point\" transform=\"translate(84.17,240.48)\" d=\"M3.83,0A3.83,3.83 0 1,1 0,-3.83A3.83,3.83 0 0,1 3.83,0Z\" style=\"opacity: 0.5; stroke-width: 1px; fill: rgb(0, 204, 150); fill-opacity: 1; stroke: rgb(255, 255, 255); stroke-opacity: 1;\"/><path class=\"point\" transform=\"translate(55.53,288.06)\" d=\"M1.6,0A1.6,1.6 0 1,1 0,-1.6A1.6,1.6 0 0,1 1.6,0Z\" style=\"opacity: 0.5; stroke-width: 1px; fill: rgb(0, 204, 150); fill-opacity: 1; stroke: rgb(255, 255, 255); stroke-opacity: 1;\"/><path class=\"point\" transform=\"translate(54.49,288.1)\" d=\"M1.21,0A1.21,1.21 0 1,1 0,-1.21A1.21,1.21 0 0,1 1.21,0Z\" style=\"opacity: 0.5; stroke-width: 1px; fill: rgb(0, 204, 150); fill-opacity: 1; stroke: rgb(255, 255, 255); stroke-opacity: 1;\"/><path class=\"point\" transform=\"translate(45.27,286.96)\" d=\"M2.59,0A2.59,2.59 0 1,1 0,-2.59A2.59,2.59 0 0,1 2.59,0Z\" style=\"opacity: 0.5; stroke-width: 1px; fill: rgb(0, 204, 150); fill-opacity: 1; stroke: rgb(255, 255, 255); stroke-opacity: 1;\"/><path class=\"point\" transform=\"translate(63.62,286.16)\" d=\"M0.86,0A0.86,0.86 0 1,1 0,-0.86A0.86,0.86 0 0,1 0.86,0Z\" style=\"opacity: 0.5; stroke-width: 1px; fill: rgb(0, 204, 150); fill-opacity: 1; stroke: rgb(255, 255, 255); stroke-opacity: 1;\"/><path class=\"point\" transform=\"translate(16.89,290.93)\" d=\"M0.43,0A0.43,0.43 0 1,1 0,-0.43A0.43,0.43 0 0,1 0.43,0Z\" style=\"opacity: 0.5; stroke-width: 1px; fill: rgb(0, 204, 150); fill-opacity: 1; stroke: rgb(255, 255, 255); stroke-opacity: 1;\"/><path class=\"point\" transform=\"translate(72.91,288.56)\" d=\"M0.91,0A0.91,0.91 0 1,1 0,-0.91A0.91,0.91 0 0,1 0.91,0Z\" style=\"opacity: 0.5; stroke-width: 1px; fill: rgb(0, 204, 150); fill-opacity: 1; stroke: rgb(255, 255, 255); stroke-opacity: 1;\"/><path class=\"point\" transform=\"translate(62.36,280.42)\" d=\"M2.33,0A2.33,2.33 0 1,1 0,-2.33A2.33,2.33 0 0,1 2.33,0Z\" style=\"opacity: 0.5; stroke-width: 1px; fill: rgb(0, 204, 150); fill-opacity: 1; stroke: rgb(255, 255, 255); stroke-opacity: 1;\"/><path class=\"point\" transform=\"translate(46.55,287.82)\" d=\"M1.25,0A1.25,1.25 0 1,1 0,-1.25A1.25,1.25 0 0,1 1.25,0Z\" style=\"opacity: 0.5; stroke-width: 1px; fill: rgb(0, 204, 150); fill-opacity: 1; stroke: rgb(255, 255, 255); stroke-opacity: 1;\"/><path class=\"point\" transform=\"translate(73.25,277.45)\" d=\"M2.21,0A2.21,2.21 0 1,1 0,-2.21A2.21,2.21 0 0,1 2.21,0Z\" style=\"opacity: 0.5; stroke-width: 1px; fill: rgb(0, 204, 150); fill-opacity: 1; stroke: rgb(255, 255, 255); stroke-opacity: 1;\"/><path class=\"point\" transform=\"translate(55.23,287.63)\" d=\"M1.01,0A1.01,1.01 0 1,1 0,-1.01A1.01,1.01 0 0,1 1.01,0Z\" style=\"opacity: 0.5; stroke-width: 1px; fill: rgb(0, 204, 150); fill-opacity: 1; stroke: rgb(255, 255, 255); stroke-opacity: 1;\"/><path class=\"point\" transform=\"translate(63.95,284.88)\" d=\"M1.57,0A1.57,1.57 0 1,1 0,-1.57A1.57,1.57 0 0,1 1.57,0Z\" style=\"opacity: 0.5; stroke-width: 1px; fill: rgb(0, 204, 150); fill-opacity: 1; stroke: rgb(255, 255, 255); stroke-opacity: 1;\"/><path class=\"point\" transform=\"translate(91.8,244.66)\" d=\"M3.16,0A3.16,3.16 0 1,1 0,-3.16A3.16,3.16 0 0,1 3.16,0Z\" style=\"opacity: 0.5; stroke-width: 1px; fill: rgb(0, 204, 150); fill-opacity: 1; stroke: rgb(255, 255, 255); stroke-opacity: 1;\"/><path class=\"point\" transform=\"translate(79.42,283.38)\" d=\"M0.52,0A0.52,0.52 0 1,1 0,-0.52A0.52,0.52 0 0,1 0.52,0Z\" style=\"opacity: 0.5; stroke-width: 1px; fill: rgb(0, 204, 150); fill-opacity: 1; stroke: rgb(255, 255, 255); stroke-opacity: 1;\"/><path class=\"point\" transform=\"translate(76.16,269.86)\" d=\"M3.05,0A3.05,3.05 0 1,1 0,-3.05A3.05,3.05 0 0,1 3.05,0Z\" style=\"opacity: 0.5; stroke-width: 1px; fill: rgb(0, 204, 150); fill-opacity: 1; stroke: rgb(255, 255, 255); stroke-opacity: 1;\"/><path class=\"point\" transform=\"translate(55.1,285.44)\" d=\"M1.29,0A1.29,1.29 0 1,1 0,-1.29A1.29,1.29 0 0,1 1.29,0Z\" style=\"opacity: 0.5; stroke-width: 1px; fill: rgb(0, 204, 150); fill-opacity: 1; stroke: rgb(255, 255, 255); stroke-opacity: 1;\"/><path class=\"point\" transform=\"translate(52.98,285.05)\" d=\"M2.37,0A2.37,2.37 0 1,1 0,-2.37A2.37,2.37 0 0,1 2.37,0Z\" style=\"opacity: 0.5; stroke-width: 1px; fill: rgb(0, 204, 150); fill-opacity: 1; stroke: rgb(255, 255, 255); stroke-opacity: 1;\"/><path class=\"point\" transform=\"translate(84.26,266.12)\" d=\"M5.47,0A5.47,5.47 0 1,1 0,-5.47A5.47,5.47 0 0,1 5.47,0Z\" style=\"opacity: 0.5; stroke-width: 1px; fill: rgb(0, 204, 150); fill-opacity: 1; stroke: rgb(255, 255, 255); stroke-opacity: 1;\"/><path class=\"point\" transform=\"translate(81.28,255.89)\" d=\"M9.1,0A9.1,9.1 0 1,1 0,-9.1A9.1,9.1 0 0,1 9.1,0Z\" style=\"opacity: 0.5; stroke-width: 1px; fill: rgb(0, 204, 150); fill-opacity: 1; stroke: rgb(255, 255, 255); stroke-opacity: 1;\"/></g><g class=\"text\"/></g></g></g><g class=\"overplot\"/><path class=\"xlines-above crisp\" d=\"M397.91999999999996,370.5H549\" style=\"fill: none; stroke-width: 1px; stroke: rgb(255, 255, 255); stroke-opacity: 1;\"/><path class=\"ylines-above crisp\" d=\"M398.41999999999996,60V370\" style=\"fill: none; stroke-width: 1px; stroke: rgb(255, 255, 255); stroke-opacity: 1;\"/><g class=\"overlines-above\"/><g class=\"xaxislayer-above\"><g class=\"x3tick\"><text text-anchor=\"middle\" x=\"0\" y=\"385.4\" transform=\"translate(422.24999999999994,0)\" style=\"font-family: 'Open Sans', verdana, arial, sans-serif; font-size: 12px; fill: rgb(42, 63, 95); fill-opacity: 1; white-space: pre;\">1M</text></g><g class=\"x3tick\"><text text-anchor=\"middle\" x=\"0\" y=\"385.4\" transform=\"translate(453.87999999999994,0)\" style=\"font-family: 'Open Sans', verdana, arial, sans-serif; font-size: 12px; fill: rgb(42, 63, 95); fill-opacity: 1; white-space: pre;\">10M</text></g><g class=\"x3tick\"><text text-anchor=\"middle\" x=\"0\" y=\"385.4\" transform=\"translate(485.52,0)\" style=\"font-family: 'Open Sans', verdana, arial, sans-serif; font-size: 12px; fill: rgb(42, 63, 95); fill-opacity: 1; white-space: pre;\">100M</text></g><g class=\"x3tick\"><text text-anchor=\"middle\" x=\"0\" y=\"385.4\" transform=\"translate(517.16,0)\" style=\"font-family: 'Open Sans', verdana, arial, sans-serif; font-size: 12px; fill: rgb(42, 63, 95); fill-opacity: 1; white-space: pre;\">1B</text></g><g class=\"x3tick\"><text text-anchor=\"middle\" x=\"0\" y=\"385.4\" transform=\"translate(548.8,0)\" style=\"font-family: 'Open Sans', verdana, arial, sans-serif; font-size: 12px; fill: rgb(42, 63, 95); fill-opacity: 1; white-space: pre;\">10B</text></g></g><g class=\"yaxislayer-above\"/><g class=\"overaxes-above\"/></g></g><g class=\"polarlayer\"/><g class=\"ternarylayer\"/><g class=\"geolayer\"/><g class=\"funnelarealayer\"/><g class=\"pielayer\"/><g class=\"treemaplayer\"/><g class=\"sunburstlayer\"/><g class=\"glimages\"/><defs id=\"topdefs-213266\"><g class=\"clips\"/><clipPath id=\"legend213266\"><rect width=\"130\" height=\"83\" x=\"0\" y=\"0\"/></clipPath></defs><g class=\"layer-above\"><g class=\"imagelayer\"/><g class=\"shapelayer\"/></g><g class=\"infolayer\"><g class=\"legend\" pointer-events=\"all\" transform=\"translate(558.38, 60)\"><rect class=\"bg\" shape-rendering=\"crispEdges\" width=\"130\" height=\"83\" x=\"0\" y=\"0\" style=\"stroke: rgb(68, 68, 68); stroke-opacity: 1; fill: rgb(255, 255, 255); fill-opacity: 1; stroke-width: 0px;\"/><g class=\"scrollbox\" transform=\"translate(0, 0)\" clip-path=\"url('#legend213266')\"><text class=\"legendtitletext user-select-none\" text-anchor=\"start\" x=\"2\" y=\"15.600000000000001\" style=\"font-family: 'Open Sans', verdana, arial, sans-serif; font-size: 12px; fill: rgb(42, 63, 95); fill-opacity: 1; white-space: pre;\">region</text><g class=\"groups\" transform=\"translate(0, 0)\"><g class=\"traces\" transform=\"translate(0, 30.1)\" style=\"opacity: 1;\"><text class=\"legendtext user-select-none\" text-anchor=\"start\" x=\"40\" y=\"4.680000000000001\" style=\"font-family: 'Open Sans', verdana, arial, sans-serif; font-size: 12px; fill: rgb(42, 63, 95); fill-opacity: 1; white-space: pre;\">Americas</text><g class=\"layers\" style=\"opacity: 1;\"><g class=\"legendfill\"/><g class=\"legendlines\"/><g class=\"legendsymbols\"><g class=\"legendpoints\"><path class=\"scatterpts\" transform=\"translate(20,0)\" d=\"M6,0A6,6 0 1,1 0,-6A6,6 0 0,1 6,0Z\" style=\"opacity: 0.5; stroke-width: 2px; fill: rgb(99, 110, 250); fill-opacity: 1; stroke: rgb(255, 255, 255); stroke-opacity: 1;\"/></g></g></g><rect class=\"legendtoggle\" pointer-events=\"all\" x=\"0\" y=\"-9.5\" width=\"124.140625\" height=\"19\" style=\"cursor: pointer; fill: rgb(0, 0, 0); fill-opacity: 0;\"/></g></g><g class=\"groups\" transform=\"translate(0, 0)\"><g class=\"traces\" transform=\"translate(0, 49.1)\" style=\"opacity: 1;\"><text class=\"legendtext user-select-none\" text-anchor=\"start\" x=\"40\" y=\"4.680000000000001\" style=\"font-family: 'Open Sans', verdana, arial, sans-serif; font-size: 12px; fill: rgb(42, 63, 95); fill-opacity: 1; white-space: pre;\">Asia_Oceania</text><g class=\"layers\" style=\"opacity: 1;\"><g class=\"legendfill\"/><g class=\"legendlines\"/><g class=\"legendsymbols\"><g class=\"legendpoints\"><path class=\"scatterpts\" transform=\"translate(20,0)\" d=\"M6,0A6,6 0 1,1 0,-6A6,6 0 0,1 6,0Z\" style=\"opacity: 0.5; stroke-width: 2px; fill: rgb(239, 85, 59); fill-opacity: 1; stroke: rgb(255, 255, 255); stroke-opacity: 1;\"/></g></g></g><rect class=\"legendtoggle\" pointer-events=\"all\" x=\"0\" y=\"-9.5\" width=\"124.140625\" height=\"19\" style=\"cursor: pointer; fill: rgb(0, 0, 0); fill-opacity: 0;\"/></g></g><g class=\"groups\" transform=\"translate(0, 0)\"><g class=\"traces\" transform=\"translate(0, 68.1)\" style=\"opacity: 1;\"><text class=\"legendtext user-select-none\" text-anchor=\"start\" x=\"40\" y=\"4.680000000000001\" style=\"font-family: 'Open Sans', verdana, arial, sans-serif; font-size: 12px; fill: rgb(42, 63, 95); fill-opacity: 1; white-space: pre;\">Europe_Africa</text><g class=\"layers\" style=\"opacity: 1;\"><g class=\"legendfill\"/><g class=\"legendlines\"/><g class=\"legendsymbols\"><g class=\"legendpoints\"><path class=\"scatterpts\" transform=\"translate(20,0)\" d=\"M6,0A6,6 0 1,1 0,-6A6,6 0 0,1 6,0Z\" style=\"opacity: 0.5; stroke-width: 2px; fill: rgb(0, 204, 150); fill-opacity: 1; stroke: rgb(255, 255, 255); stroke-opacity: 1;\"/></g></g></g><rect class=\"legendtoggle\" pointer-events=\"all\" x=\"0\" y=\"-9.5\" width=\"124.140625\" height=\"19\" style=\"cursor: pointer; fill: rgb(0, 0, 0); fill-opacity: 0;\"/></g></g></g><rect class=\"scrollbar\" rx=\"20\" ry=\"3\" width=\"0\" height=\"0\" x=\"0\" y=\"0\" style=\"fill: rgb(128, 139, 164); fill-opacity: 1;\"/></g><g class=\"g-gtitle\"/><g class=\"g-xtitle\"><text class=\"xtitle\" x=\"155.04\" y=\"412.6125\" text-anchor=\"middle\" style=\"font-family: 'Open Sans', verdana, arial, sans-serif; font-size: 14px; fill: rgb(42, 63, 95); opacity: 1; font-weight: normal; white-space: pre;\">population</text></g><g class=\"g-x2title\"><text class=\"x2title\" x=\"314.5\" y=\"412.6125\" text-anchor=\"middle\" style=\"font-family: 'Open Sans', verdana, arial, sans-serif; font-size: 14px; fill: rgb(42, 63, 95); opacity: 1; font-weight: normal; white-space: pre;\">population</text></g><g class=\"g-x3title\"><text class=\"x3title\" x=\"473.9599999999999\" y=\"412.6125\" text-anchor=\"middle\" style=\"font-family: 'Open Sans', verdana, arial, sans-serif; font-size: 14px; fill: rgb(42, 63, 95); opacity: 1; font-weight: normal; white-space: pre;\">population</text></g><g class=\"g-ytitle\"><text class=\"ytitle\" transform=\"rotate(-90,29.137500000000003,215)\" x=\"29.137500000000003\" y=\"215\" text-anchor=\"middle\" style=\"font-family: 'Open Sans', verdana, arial, sans-serif; font-size: 14px; fill: rgb(42, 63, 95); opacity: 1; font-weight: normal; white-space: pre;\">gdp_ppp</text></g><g class=\"g-y2title\"/><g class=\"g-y3title\"/><g class=\"annotation\" data-index=\"0\" style=\"opacity: 1;\"><g class=\"annotation-text-g\" transform=\"rotate(0,155.04,51)\"><g class=\"cursor-pointer\" transform=\"translate(102, 42)\"><rect class=\"bg\" x=\"0.5\" y=\"0.5\" width=\"106\" height=\"17\" style=\"stroke-width: 1px; stroke: rgb(0, 0, 0); stroke-opacity: 0; fill: rgb(0, 0, 0); fill-opacity: 0;\"/><text class=\"annotation-text\" text-anchor=\"middle\" x=\"53.453125\" y=\"14\" style=\"font-family: 'Open Sans', verdana, arial, sans-serif; font-size: 12px; fill: rgb(42, 63, 95); fill-opacity: 1; white-space: pre;\">region=Americas</text></g></g></g><g class=\"annotation\" data-index=\"1\" style=\"opacity: 1;\"><g class=\"annotation-text-g\" transform=\"rotate(0,314.5,51)\"><g class=\"cursor-pointer\" transform=\"translate(249, 42)\"><rect class=\"bg\" x=\"0.5\" y=\"0.5\" width=\"131\" height=\"17\" style=\"stroke-width: 1px; stroke: rgb(0, 0, 0); stroke-opacity: 0; fill: rgb(0, 0, 0); fill-opacity: 0;\"/><text class=\"annotation-text\" text-anchor=\"middle\" x=\"66.234375\" y=\"14\" style=\"font-family: 'Open Sans', verdana, arial, sans-serif; font-size: 12px; fill: rgb(42, 63, 95); fill-opacity: 1; white-space: pre;\">region=Asia_Oceania</text></g></g></g><g class=\"annotation\" data-index=\"2\" style=\"opacity: 1;\"><g class=\"annotation-text-g\" transform=\"rotate(0,473.9599999999999,51)\"><g class=\"cursor-pointer\" transform=\"translate(406, 42)\"><rect class=\"bg\" x=\"0.5\" y=\"0.5\" width=\"135\" height=\"17\" style=\"stroke-width: 1px; stroke: rgb(0, 0, 0); stroke-opacity: 0; fill: rgb(0, 0, 0); fill-opacity: 0;\"/><text class=\"annotation-text\" text-anchor=\"middle\" x=\"67.9375\" y=\"14\" style=\"font-family: 'Open Sans', verdana, arial, sans-serif; font-size: 12px; fill: rgb(42, 63, 95); fill-opacity: 1; white-space: pre;\">region=Europe_Africa</text></g></g></g></g></svg>"
      ]
     },
     "metadata": {},
     "output_type": "display_data"
    }
   ],
   "source": [
    "#Plot a scatter plot with population , gdp and store count\n",
    "df = df_scatter\n",
    "fig = px.scatter(df, x=\"population\", y=\"gdp_ppp\", size=\"store_count\",\n",
    "           hover_name=\"country\", log_x=True, size_max=50, opacity=0.5, color='region', facet_col='region')\n",
    "fig.show('svg')\n",
    "\n"
   ]
  },
  {
   "cell_type": "code",
   "execution_count": 86,
   "metadata": {},
   "outputs": [
    {
     "data": {
      "image/svg+xml": [
       "<svg class=\"main-svg\" xmlns=\"http://www.w3.org/2000/svg\" xmlns:xlink=\"http://www.w3.org/1999/xlink\" width=\"700\" height=\"450\" style=\"\" viewBox=\"0 0 700 450\"><rect x=\"0\" y=\"0\" width=\"700\" height=\"450\" style=\"fill: rgb(255, 255, 255); fill-opacity: 1;\"/><defs id=\"defs-f3172d\"><g class=\"clips\"><clipPath id=\"clipf3172dxyplot\" class=\"plotclip\"><rect width=\"150.07999999999998\" height=\"310\"/></clipPath><clipPath id=\"clipf3172dx2y2plot\" class=\"plotclip\"><rect width=\"150.07999999999998\" height=\"310\"/></clipPath><clipPath id=\"clipf3172dx3y3plot\" class=\"plotclip\"><rect width=\"150.07999999999998\" height=\"310\"/></clipPath><clipPath class=\"axesclip\" id=\"clipf3172dx\"><rect x=\"80\" y=\"0\" width=\"150.07999999999998\" height=\"450\"/></clipPath><clipPath class=\"axesclip\" id=\"clipf3172dy\"><rect x=\"0\" y=\"60\" width=\"700\" height=\"310\"/></clipPath><clipPath class=\"axesclip\" id=\"clipf3172dxy\"><rect x=\"80\" y=\"60\" width=\"150.07999999999998\" height=\"310\"/></clipPath><clipPath class=\"axesclip\" id=\"clipf3172dy2\"><rect x=\"0\" y=\"60\" width=\"700\" height=\"310\"/></clipPath><clipPath class=\"axesclip\" id=\"clipf3172dxy2\"><rect x=\"80\" y=\"60\" width=\"150.07999999999998\" height=\"310\"/></clipPath><clipPath class=\"axesclip\" id=\"clipf3172dy3\"><rect x=\"0\" y=\"60\" width=\"700\" height=\"310\"/></clipPath><clipPath class=\"axesclip\" id=\"clipf3172dxy3\"><rect x=\"80\" y=\"60\" width=\"150.07999999999998\" height=\"310\"/></clipPath><clipPath class=\"axesclip\" id=\"clipf3172dx2\"><rect x=\"239.45999999999998\" y=\"0\" width=\"150.07999999999998\" height=\"450\"/></clipPath><clipPath class=\"axesclip\" id=\"clipf3172dx2y\"><rect x=\"239.45999999999998\" y=\"60\" width=\"150.07999999999998\" height=\"310\"/></clipPath><clipPath class=\"axesclip\" id=\"clipf3172dx2y2\"><rect x=\"239.45999999999998\" y=\"60\" width=\"150.07999999999998\" height=\"310\"/></clipPath><clipPath class=\"axesclip\" id=\"clipf3172dx2y3\"><rect x=\"239.45999999999998\" y=\"60\" width=\"150.07999999999998\" height=\"310\"/></clipPath><clipPath class=\"axesclip\" id=\"clipf3172dx3\"><rect x=\"398.91999999999996\" y=\"0\" width=\"150.07999999999998\" height=\"450\"/></clipPath><clipPath class=\"axesclip\" id=\"clipf3172dx3y\"><rect x=\"398.91999999999996\" y=\"60\" width=\"150.07999999999998\" height=\"310\"/></clipPath><clipPath class=\"axesclip\" id=\"clipf3172dx3y2\"><rect x=\"398.91999999999996\" y=\"60\" width=\"150.07999999999998\" height=\"310\"/></clipPath><clipPath class=\"axesclip\" id=\"clipf3172dx3y3\"><rect x=\"398.91999999999996\" y=\"60\" width=\"150.07999999999998\" height=\"310\"/></clipPath></g><g class=\"gradients\"/></defs><g class=\"bglayer\"><rect class=\"bg\" x=\"80\" y=\"60\" width=\"150.07999999999998\" height=\"310\" style=\"fill: rgb(229, 236, 246); fill-opacity: 1; stroke-width: 0;\"/><rect class=\"bg\" x=\"239.45999999999998\" y=\"60\" width=\"150.07999999999998\" height=\"310\" style=\"fill: rgb(229, 236, 246); fill-opacity: 1; stroke-width: 0;\"/><rect class=\"bg\" x=\"398.91999999999996\" y=\"60\" width=\"150.07999999999998\" height=\"310\" style=\"fill: rgb(229, 236, 246); fill-opacity: 1; stroke-width: 0;\"/></g><g class=\"layer-below\"><g class=\"imagelayer\"/><g class=\"shapelayer\"/></g><g class=\"cartesianlayer\"><g class=\"subplot xy\"><g class=\"layer-subplot\"><g class=\"shapelayer\"/><g class=\"imagelayer\"/></g><g class=\"gridlayer\"><g class=\"x\"><path class=\"xgrid crisp\" transform=\"translate(94.63,0)\" d=\"M0,60v310\" style=\"stroke: rgb(255, 255, 255); stroke-opacity: 1; stroke-width: 1px;\"/><path class=\"xgrid crisp\" transform=\"translate(107.87,0)\" d=\"M0,60v310\" style=\"stroke: rgb(255, 255, 255); stroke-opacity: 1; stroke-width: 1px;\"/><path class=\"xgrid crisp\" transform=\"translate(121.12,0)\" d=\"M0,60v310\" style=\"stroke: rgb(255, 255, 255); stroke-opacity: 1; stroke-width: 1px;\"/><path class=\"xgrid crisp\" transform=\"translate(138.62,0)\" d=\"M0,60v310\" style=\"stroke: rgb(255, 255, 255); stroke-opacity: 1; stroke-width: 1px;\"/><path class=\"xgrid crisp\" transform=\"translate(151.87,0)\" d=\"M0,60v310\" style=\"stroke: rgb(255, 255, 255); stroke-opacity: 1; stroke-width: 1px;\"/><path class=\"xgrid crisp\" transform=\"translate(165.11,0)\" d=\"M0,60v310\" style=\"stroke: rgb(255, 255, 255); stroke-opacity: 1; stroke-width: 1px;\"/><path class=\"xgrid crisp\" transform=\"translate(182.62,0)\" d=\"M0,60v310\" style=\"stroke: rgb(255, 255, 255); stroke-opacity: 1; stroke-width: 1px;\"/><path class=\"xgrid crisp\" transform=\"translate(195.87,0)\" d=\"M0,60v310\" style=\"stroke: rgb(255, 255, 255); stroke-opacity: 1; stroke-width: 1px;\"/><path class=\"xgrid crisp\" transform=\"translate(209.11,0)\" d=\"M0,60v310\" style=\"stroke: rgb(255, 255, 255); stroke-opacity: 1; stroke-width: 1px;\"/><path class=\"xgrid crisp\" transform=\"translate(226.62,0)\" d=\"M0,60v310\" style=\"stroke: rgb(255, 255, 255); stroke-opacity: 1; stroke-width: 1px;\"/></g><g class=\"y\"><path class=\"ygrid crisp\" transform=\"translate(0,306.33000000000004)\" d=\"M80,0h150.07999999999998\" style=\"stroke: rgb(255, 255, 255); stroke-opacity: 1; stroke-width: 1px;\"/><path class=\"ygrid crisp\" transform=\"translate(0,259.46000000000004)\" d=\"M80,0h150.07999999999998\" style=\"stroke: rgb(255, 255, 255); stroke-opacity: 1; stroke-width: 1px;\"/><path class=\"ygrid crisp\" transform=\"translate(0,212.58)\" d=\"M80,0h150.07999999999998\" style=\"stroke: rgb(255, 255, 255); stroke-opacity: 1; stroke-width: 1px;\"/><path class=\"ygrid crisp\" transform=\"translate(0,165.70999999999998)\" d=\"M80,0h150.07999999999998\" style=\"stroke: rgb(255, 255, 255); stroke-opacity: 1; stroke-width: 1px;\"/><path class=\"ygrid crisp\" transform=\"translate(0,118.83)\" d=\"M80,0h150.07999999999998\" style=\"stroke: rgb(255, 255, 255); stroke-opacity: 1; stroke-width: 1px;\"/><path class=\"ygrid crisp\" transform=\"translate(0,71.96000000000001)\" d=\"M80,0h150.07999999999998\" style=\"stroke: rgb(255, 255, 255); stroke-opacity: 1; stroke-width: 1px;\"/></g></g><g class=\"zerolinelayer\"><path class=\"yzl zl crisp\" transform=\"translate(0,353.21)\" d=\"M80,0h150.07999999999998\" style=\"stroke: rgb(255, 255, 255); stroke-opacity: 1; stroke-width: 2px;\"/></g><path class=\"xlines-below\"/><path class=\"ylines-below\"/><g class=\"overlines-below\"/><g class=\"xaxislayer-below\"/><g class=\"yaxislayer-below\"/><g class=\"overaxes-below\"/><g class=\"plot\" transform=\"translate(80, 60)\" clip-path=\"url('#clipf3172dxyplot')\"><g class=\"scatterlayer mlayer\"><g class=\"trace scatter trace1f2a3b\" style=\"stroke-miterlimit: 2; opacity: 1;\"><g class=\"fills\"/><g class=\"errorbars\"/><g class=\"lines\"/><g class=\"points\"><path class=\"point\" transform=\"translate(100.69,244.92)\" d=\"M5.75,0A5.75,5.75 0 1,1 0,-5.75A5.75,5.75 0 0,1 5.75,0Z\" style=\"opacity: 0.5; stroke-width: 1px; fill: rgb(99, 110, 250); fill-opacity: 1; stroke: rgb(255, 255, 255); stroke-opacity: 1;\"/><path class=\"point\" transform=\"translate(10.04,292.52)\" d=\"M1.75,0A1.75,1.75 0 1,1 0,-1.75A1.75,1.75 0 0,1 1.75,0Z\" style=\"opacity: 0.5; stroke-width: 1px; fill: rgb(99, 110, 250); fill-opacity: 1; stroke: rgb(255, 255, 255); stroke-opacity: 1;\"/><path class=\"point\" transform=\"translate(74.82,288.28)\" d=\"M1.11,0A1.11,1.11 0 1,1 0,-1.11A1.11,1.11 0 0,1 1.11,0Z\" style=\"opacity: 0.5; stroke-width: 1px; fill: rgb(99, 110, 250); fill-opacity: 1; stroke: rgb(255, 255, 255); stroke-opacity: 1;\"/><path class=\"point\" transform=\"translate(130.27,142.27)\" d=\"M5.59,0A5.59,5.59 0 1,1 0,-5.59A5.59,5.59 0 0,1 5.59,0Z\" style=\"opacity: 0.5; stroke-width: 1px; fill: rgb(99, 110, 250); fill-opacity: 1; stroke: rgb(255, 255, 255); stroke-opacity: 1;\"/><path class=\"point\" transform=\"translate(97.25,202.74)\" d=\"M21.21,0A21.21,21.21 0 1,1 0,-21.21A21.21,21.21 0 0,1 21.21,0Z\" style=\"opacity: 0.5; stroke-width: 1px; fill: rgb(99, 110, 250); fill-opacity: 1; stroke: rgb(255, 255, 255); stroke-opacity: 1;\"/><path class=\"point\" transform=\"translate(84.25,270.85)\" d=\"M5.42,0A5.42,5.42 0 1,1 0,-5.42A5.42,5.42 0 0,1 5.42,0Z\" style=\"opacity: 0.5; stroke-width: 1px; fill: rgb(99, 110, 250); fill-opacity: 1; stroke: rgb(255, 255, 255); stroke-opacity: 1;\"/><path class=\"point\" transform=\"translate(102.96,256.32)\" d=\"M1.84,0A1.84,1.84 0 1,1 0,-1.84A1.84,1.84 0 0,1 1.84,0Z\" style=\"opacity: 0.5; stroke-width: 1px; fill: rgb(99, 110, 250); fill-opacity: 1; stroke: rgb(255, 255, 255); stroke-opacity: 1;\"/><path class=\"point\" transform=\"translate(58.98,288.38)\" d=\"M1.84,0A1.84,1.84 0 1,1 0,-1.84A1.84,1.84 0 0,1 1.84,0Z\" style=\"opacity: 0.5; stroke-width: 1px; fill: rgb(99, 110, 250); fill-opacity: 1; stroke: rgb(255, 255, 255); stroke-opacity: 1;\"/><path class=\"point\" transform=\"translate(63.6,290.44)\" d=\"M1.84,0A1.84,1.84 0 1,1 0,-1.84A1.84,1.84 0 0,1 1.84,0Z\" style=\"opacity: 0.5; stroke-width: 1px; fill: rgb(99, 110, 250); fill-opacity: 1; stroke: rgb(255, 255, 255); stroke-opacity: 1;\"/><path class=\"point\" transform=\"translate(83.01,286.22)\" d=\"M1.46,0A1.46,1.46 0 1,1 0,-1.46A1.46,1.46 0 0,1 1.46,0Z\" style=\"opacity: 0.5; stroke-width: 1px; fill: rgb(99, 110, 250); fill-opacity: 1; stroke: rgb(255, 255, 255); stroke-opacity: 1;\"/><path class=\"point\" transform=\"translate(120.72,171.33)\" d=\"M13.32,0A13.32,13.32 0 1,1 0,-13.32A13.32,13.32 0 0,1 13.32,0Z\" style=\"opacity: 0.5; stroke-width: 1px; fill: rgb(99, 110, 250); fill-opacity: 1; stroke: rgb(255, 255, 255); stroke-opacity: 1;\"/><path class=\"point\" transform=\"translate(55.81,286.69)\" d=\"M1.24,0A1.24,1.24 0 1,1 0,-1.24A1.24,1.24 0 0,1 1.24,0Z\" style=\"opacity: 0.5; stroke-width: 1px; fill: rgb(99, 110, 250); fill-opacity: 1; stroke: rgb(255, 255, 255); stroke-opacity: 1;\"/><path class=\"point\" transform=\"translate(94.67,272.81)\" d=\"M5.22,0A5.22,5.22 0 1,1 0,-5.22A5.22,5.22 0 0,1 5.22,0Z\" style=\"opacity: 0.5; stroke-width: 1px; fill: rgb(99, 110, 250); fill-opacity: 1; stroke: rgb(255, 255, 255); stroke-opacity: 1;\"/><path class=\"point\" transform=\"translate(47.96,287.81)\" d=\"M2.71,0A2.71,2.71 0 1,1 0,-2.71A2.71,2.71 0 0,1 2.71,0Z\" style=\"opacity: 0.5; stroke-width: 1px; fill: rgb(99, 110, 250); fill-opacity: 1; stroke: rgb(255, 255, 255); stroke-opacity: 1;\"/><path class=\"point\" transform=\"translate(34.29,291.42)\" d=\"M0.96,0A0.96,0.96 0 1,1 0,-0.96A0.96,0.96 0 0,1 0.96,0Z\" style=\"opacity: 0.5; stroke-width: 1px; fill: rgb(99, 110, 250); fill-opacity: 1; stroke: rgb(255, 255, 255); stroke-opacity: 1;\"/></g><g class=\"text\"/></g></g></g><g class=\"overplot\"/><path class=\"xlines-above crisp\" d=\"M79,370.5H230.07999999999998\" style=\"fill: none; stroke-width: 1px; stroke: rgb(255, 255, 255); stroke-opacity: 1;\"/><path class=\"ylines-above crisp\" d=\"M79.5,60V370\" style=\"fill: none; stroke-width: 1px; stroke: rgb(255, 255, 255); stroke-opacity: 1;\"/><g class=\"overlines-above\"/><g class=\"xaxislayer-above\"><g class=\"xtick\"><text text-anchor=\"middle\" x=\"0\" y=\"382.4\" transform=\"translate(94.63,0)\" style=\"font-family: 'Open Sans', verdana, arial, sans-serif; font-size: 9px; fill: rgb(42, 63, 95); fill-opacity: 1; white-space: pre;\">5</text></g><g class=\"xtick\"><text text-anchor=\"middle\" x=\"0\" y=\"385.4\" transform=\"translate(107.87,0)\" style=\"font-family: 'Open Sans', verdana, arial, sans-serif; font-size: 12px; fill: rgb(42, 63, 95); fill-opacity: 1; white-space: pre;\">1M</text></g><g class=\"xtick\"><text text-anchor=\"middle\" x=\"0\" y=\"382.4\" transform=\"translate(121.12,0)\" style=\"font-family: 'Open Sans', verdana, arial, sans-serif; font-size: 9px; fill: rgb(42, 63, 95); fill-opacity: 1; white-space: pre;\">2</text></g><g class=\"xtick\"><text text-anchor=\"middle\" x=\"0\" y=\"382.4\" transform=\"translate(138.62,0)\" style=\"font-family: 'Open Sans', verdana, arial, sans-serif; font-size: 9px; fill: rgb(42, 63, 95); fill-opacity: 1; white-space: pre;\">5</text></g><g class=\"xtick\"><text text-anchor=\"middle\" x=\"0\" y=\"385.4\" transform=\"translate(151.87,0)\" style=\"font-family: 'Open Sans', verdana, arial, sans-serif; font-size: 12px; fill: rgb(42, 63, 95); fill-opacity: 1; white-space: pre;\">10M</text></g><g class=\"xtick\"><text text-anchor=\"middle\" x=\"0\" y=\"382.4\" transform=\"translate(165.11,0)\" style=\"font-family: 'Open Sans', verdana, arial, sans-serif; font-size: 9px; fill: rgb(42, 63, 95); fill-opacity: 1; white-space: pre;\">2</text></g><g class=\"xtick\"><text text-anchor=\"middle\" x=\"0\" y=\"382.4\" transform=\"translate(182.62,0)\" style=\"font-family: 'Open Sans', verdana, arial, sans-serif; font-size: 9px; fill: rgb(42, 63, 95); fill-opacity: 1; white-space: pre;\">5</text></g><g class=\"xtick\"><text text-anchor=\"middle\" x=\"0\" y=\"385.4\" transform=\"translate(195.87,0)\" style=\"font-family: 'Open Sans', verdana, arial, sans-serif; font-size: 12px; fill: rgb(42, 63, 95); fill-opacity: 1; white-space: pre;\">100M</text></g><g class=\"xtick\"><text text-anchor=\"middle\" x=\"0\" y=\"382.4\" transform=\"translate(209.11,0)\" style=\"font-family: 'Open Sans', verdana, arial, sans-serif; font-size: 9px; fill: rgb(42, 63, 95); fill-opacity: 1; white-space: pre;\">2</text></g><g class=\"xtick\"><text text-anchor=\"middle\" x=\"0\" y=\"382.4\" transform=\"translate(226.62,0)\" style=\"font-family: 'Open Sans', verdana, arial, sans-serif; font-size: 9px; fill: rgb(42, 63, 95); fill-opacity: 1; white-space: pre;\">5</text></g></g><g class=\"yaxislayer-above\"><g class=\"ytick\"><text text-anchor=\"end\" x=\"76.6\" y=\"4.199999999999999\" transform=\"translate(0,353.21)\" style=\"font-family: 'Open Sans', verdana, arial, sans-serif; font-size: 12px; fill: rgb(42, 63, 95); fill-opacity: 1; white-space: pre;\">0</text></g><g class=\"ytick\"><text text-anchor=\"end\" x=\"76.6\" y=\"4.199999999999999\" transform=\"translate(0,306.33000000000004)\" style=\"font-family: 'Open Sans', verdana, arial, sans-serif; font-size: 12px; fill: rgb(42, 63, 95); fill-opacity: 1; white-space: pre;\">1T</text></g><g class=\"ytick\"><text text-anchor=\"end\" x=\"76.6\" y=\"4.199999999999999\" transform=\"translate(0,259.46000000000004)\" style=\"font-family: 'Open Sans', verdana, arial, sans-serif; font-size: 12px; fill: rgb(42, 63, 95); fill-opacity: 1; white-space: pre;\">2T</text></g><g class=\"ytick\"><text text-anchor=\"end\" x=\"76.6\" y=\"4.199999999999999\" transform=\"translate(0,212.58)\" style=\"font-family: 'Open Sans', verdana, arial, sans-serif; font-size: 12px; fill: rgb(42, 63, 95); fill-opacity: 1; white-space: pre;\">3T</text></g><g class=\"ytick\"><text text-anchor=\"end\" x=\"76.6\" y=\"4.199999999999999\" transform=\"translate(0,165.70999999999998)\" style=\"font-family: 'Open Sans', verdana, arial, sans-serif; font-size: 12px; fill: rgb(42, 63, 95); fill-opacity: 1; white-space: pre;\">4T</text></g><g class=\"ytick\"><text text-anchor=\"end\" x=\"76.6\" y=\"4.199999999999999\" transform=\"translate(0,118.83)\" style=\"font-family: 'Open Sans', verdana, arial, sans-serif; font-size: 12px; fill: rgb(42, 63, 95); fill-opacity: 1; white-space: pre;\">5T</text></g><g class=\"ytick\"><text text-anchor=\"end\" x=\"76.6\" y=\"4.199999999999999\" transform=\"translate(0,71.96000000000001)\" style=\"font-family: 'Open Sans', verdana, arial, sans-serif; font-size: 12px; fill: rgb(42, 63, 95); fill-opacity: 1; white-space: pre;\">6T</text></g></g><g class=\"overaxes-above\"/></g><g class=\"subplot x2y2\"><g class=\"layer-subplot\"><g class=\"shapelayer\"/><g class=\"imagelayer\"/></g><g class=\"gridlayer\"><g class=\"x2\"><path class=\"x2grid crisp\" transform=\"translate(254.08999999999997,0)\" d=\"M0,60v310\" style=\"stroke: rgb(255, 255, 255); stroke-opacity: 1; stroke-width: 1px;\"/><path class=\"x2grid crisp\" transform=\"translate(267.33,0)\" d=\"M0,60v310\" style=\"stroke: rgb(255, 255, 255); stroke-opacity: 1; stroke-width: 1px;\"/><path class=\"x2grid crisp\" transform=\"translate(280.58,0)\" d=\"M0,60v310\" style=\"stroke: rgb(255, 255, 255); stroke-opacity: 1; stroke-width: 1px;\"/><path class=\"x2grid crisp\" transform=\"translate(298.08,0)\" d=\"M0,60v310\" style=\"stroke: rgb(255, 255, 255); stroke-opacity: 1; stroke-width: 1px;\"/><path class=\"x2grid crisp\" transform=\"translate(311.33,0)\" d=\"M0,60v310\" style=\"stroke: rgb(255, 255, 255); stroke-opacity: 1; stroke-width: 1px;\"/><path class=\"x2grid crisp\" transform=\"translate(324.57,0)\" d=\"M0,60v310\" style=\"stroke: rgb(255, 255, 255); stroke-opacity: 1; stroke-width: 1px;\"/><path class=\"x2grid crisp\" transform=\"translate(342.08,0)\" d=\"M0,60v310\" style=\"stroke: rgb(255, 255, 255); stroke-opacity: 1; stroke-width: 1px;\"/><path class=\"x2grid crisp\" transform=\"translate(355.33,0)\" d=\"M0,60v310\" style=\"stroke: rgb(255, 255, 255); stroke-opacity: 1; stroke-width: 1px;\"/><path class=\"x2grid crisp\" transform=\"translate(368.57,0)\" d=\"M0,60v310\" style=\"stroke: rgb(255, 255, 255); stroke-opacity: 1; stroke-width: 1px;\"/><path class=\"x2grid crisp\" transform=\"translate(386.08,0)\" d=\"M0,60v310\" style=\"stroke: rgb(255, 255, 255); stroke-opacity: 1; stroke-width: 1px;\"/></g><g class=\"y2\"><path class=\"y2grid crisp\" transform=\"translate(0,306.33000000000004)\" d=\"M239.45999999999998,0h150.07999999999998\" style=\"stroke: rgb(255, 255, 255); stroke-opacity: 1; stroke-width: 1px;\"/><path class=\"y2grid crisp\" transform=\"translate(0,259.46000000000004)\" d=\"M239.45999999999998,0h150.07999999999998\" style=\"stroke: rgb(255, 255, 255); stroke-opacity: 1; stroke-width: 1px;\"/><path class=\"y2grid crisp\" transform=\"translate(0,212.58)\" d=\"M239.45999999999998,0h150.07999999999998\" style=\"stroke: rgb(255, 255, 255); stroke-opacity: 1; stroke-width: 1px;\"/><path class=\"y2grid crisp\" transform=\"translate(0,165.70999999999998)\" d=\"M239.45999999999998,0h150.07999999999998\" style=\"stroke: rgb(255, 255, 255); stroke-opacity: 1; stroke-width: 1px;\"/><path class=\"y2grid crisp\" transform=\"translate(0,118.83)\" d=\"M239.45999999999998,0h150.07999999999998\" style=\"stroke: rgb(255, 255, 255); stroke-opacity: 1; stroke-width: 1px;\"/><path class=\"y2grid crisp\" transform=\"translate(0,71.96000000000001)\" d=\"M239.45999999999998,0h150.07999999999998\" style=\"stroke: rgb(255, 255, 255); stroke-opacity: 1; stroke-width: 1px;\"/></g></g><g class=\"zerolinelayer\"><path class=\"y2zl zl crisp\" transform=\"translate(0,353.21)\" d=\"M239.45999999999998,0h150.07999999999998\" style=\"stroke: rgb(255, 255, 255); stroke-opacity: 1; stroke-width: 2px;\"/></g><path class=\"xlines-below\"/><path class=\"ylines-below\"/><g class=\"overlines-below\"/><g class=\"xaxislayer-below\"/><g class=\"yaxislayer-below\"/><g class=\"overaxes-below\"/><g class=\"plot\" transform=\"translate(239.45999999999998, 60)\" clip-path=\"url('#clipf3172dx2y2plot')\"><g class=\"scatterlayer mlayer\"><g class=\"trace scatter tracebf8d3c\" style=\"stroke-miterlimit: 2; opacity: 1;\"><g class=\"fills\"/><g class=\"errorbars\"/><g class=\"lines\"/><g class=\"points\"><path class=\"point\" transform=\"translate(89.75,229.92)\" d=\"M2.6,0A2.6,2.6 0 1,1 0,-2.6A2.6,2.6 0 0,1 2.6,0Z\" style=\"opacity: 0.5; stroke-width: 1px; fill: rgb(239, 85, 59); fill-opacity: 1; stroke: rgb(255, 255, 255); stroke-opacity: 1;\"/><path class=\"point\" transform=\"translate(72.13,286.17)\" d=\"M1.11,0A1.11,1.11 0 1,1 0,-1.11A1.11,1.11 0 0,1 1.11,0Z\" style=\"opacity: 0.5; stroke-width: 1px; fill: rgb(239, 85, 59); fill-opacity: 1; stroke: rgb(255, 255, 255); stroke-opacity: 1;\"/><path class=\"point\" transform=\"translate(38.03,289.6)\" d=\"M2.54,0A2.54,2.54 0 1,1 0,-2.54A2.54,2.54 0 0,1 2.54,0Z\" style=\"opacity: 0.5; stroke-width: 1px; fill: rgb(239, 85, 59); fill-opacity: 1; stroke: rgb(255, 255, 255); stroke-opacity: 1;\"/><path class=\"point\" transform=\"translate(81.69,289.67)\" d=\"M1.11,0A1.11,1.11 0 1,1 0,-1.11A1.11,1.11 0 0,1 1.11,0Z\" style=\"opacity: 0.5; stroke-width: 1px; fill: rgb(239, 85, 59); fill-opacity: 1; stroke: rgb(255, 255, 255); stroke-opacity: 1;\"/><path class=\"point\" transform=\"translate(31.47,291.5)\" d=\"M1.75,0A1.75,1.75 0 1,1 0,-1.75A1.75,1.75 0 0,1 1.75,0Z\" style=\"opacity: 0.5; stroke-width: 1px; fill: rgb(239, 85, 59); fill-opacity: 1; stroke: rgb(255, 255, 255); stroke-opacity: 1;\"/><path class=\"point\" transform=\"translate(135.09,137.11)\" d=\"M9.06,0A9.06,9.06 0 1,1 0,-9.06A9.06,9.06 0 0,1 9.06,0Z\" style=\"opacity: 0.5; stroke-width: 1px; fill: rgb(239, 85, 59); fill-opacity: 1; stroke: rgb(255, 255, 255); stroke-opacity: 1;\"/><path class=\"point\" transform=\"translate(120.35,37.27)\" d=\"M19.47,0A19.47,19.47 0 1,1 0,-19.47A19.47,19.47 0 0,1 19.47,0Z\" style=\"opacity: 0.5; stroke-width: 1px; fill: rgb(239, 85, 59); fill-opacity: 1; stroke: rgb(255, 255, 255); stroke-opacity: 1;\"/><path class=\"point\" transform=\"translate(72.25,288.33)\" d=\"M2.28,0A2.28,2.28 0 1,1 0,-2.28A2.28,2.28 0 0,1 2.28,0Z\" style=\"opacity: 0.5; stroke-width: 1px; fill: rgb(239, 85, 59); fill-opacity: 1; stroke: rgb(255, 255, 255); stroke-opacity: 1;\"/><path class=\"point\" transform=\"translate(83.91,269.39)\" d=\"M1.57,0A1.57,1.57 0 1,1 0,-1.57A1.57,1.57 0 0,1 1.57,0Z\" style=\"opacity: 0.5; stroke-width: 1px; fill: rgb(239, 85, 59); fill-opacity: 1; stroke: rgb(255, 255, 255); stroke-opacity: 1;\"/><path class=\"point\" transform=\"translate(55.61,282.99)\" d=\"M5.7,0A5.7,5.7 0 1,1 0,-5.7A5.7,5.7 0 0,1 5.7,0Z\" style=\"opacity: 0.5; stroke-width: 1px; fill: rgb(239, 85, 59); fill-opacity: 1; stroke: rgb(255, 255, 255); stroke-opacity: 1;\"/><path class=\"point\" transform=\"translate(64.57,288.28)\" d=\"M2.98,0A2.98,2.98 0 1,1 0,-2.98A2.98,2.98 0 0,1 2.98,0Z\" style=\"opacity: 0.5; stroke-width: 1px; fill: rgb(239, 85, 59); fill-opacity: 1; stroke: rgb(255, 255, 255); stroke-opacity: 1;\"/><path class=\"point\" transform=\"translate(94.31,249)\" d=\"M8.47,0A8.47,8.47 0 1,1 0,-8.47A8.47,8.47 0 0,1 8.47,0Z\" style=\"opacity: 0.5; stroke-width: 1px; fill: rgb(239, 85, 59); fill-opacity: 1; stroke: rgb(255, 255, 255); stroke-opacity: 1;\"/><path class=\"point\" transform=\"translate(57.93,283.08)\" d=\"M2.71,0A2.71,2.71 0 1,1 0,-2.71A2.71,2.71 0 0,1 2.71,0Z\" style=\"opacity: 0.5; stroke-width: 1px; fill: rgb(239, 85, 59); fill-opacity: 1; stroke: rgb(255, 255, 255); stroke-opacity: 1;\"/><path class=\"point\" transform=\"translate(59.03,286.41)\" d=\"M1.92,0A1.92,1.92 0 1,1 0,-1.92A1.92,1.92 0 0,1 1.92,0Z\" style=\"opacity: 0.5; stroke-width: 1px; fill: rgb(239, 85, 59); fill-opacity: 1; stroke: rgb(255, 255, 255); stroke-opacity: 1;\"/><path class=\"point\" transform=\"translate(117.61,246.33)\" d=\"M9.56,0A9.56,9.56 0 1,1 0,-9.56A9.56,9.56 0 0,1 9.56,0Z\" style=\"opacity: 0.5; stroke-width: 1px; fill: rgb(239, 85, 59); fill-opacity: 1; stroke: rgb(255, 255, 255); stroke-opacity: 1;\"/><path class=\"point\" transform=\"translate(48.09,280.41)\" d=\"M2.35,0A2.35,2.35 0 1,1 0,-2.35A2.35,2.35 0 0,1 2.35,0Z\" style=\"opacity: 0.5; stroke-width: 1px; fill: rgb(239, 85, 59); fill-opacity: 1; stroke: rgb(255, 255, 255); stroke-opacity: 1;\"/><path class=\"point\" transform=\"translate(123.09,92.58)\" d=\"M5.78,0A5.78,5.78 0 1,1 0,-5.78A5.78,5.78 0 0,1 5.78,0Z\" style=\"opacity: 0.5; stroke-width: 1px; fill: rgb(239, 85, 59); fill-opacity: 1; stroke: rgb(255, 255, 255); stroke-opacity: 1;\"/><path class=\"point\" transform=\"translate(95.7,214.46)\" d=\"M5.59,0A5.59,5.59 0 1,1 0,-5.59A5.59,5.59 0 0,1 5.59,0Z\" style=\"opacity: 0.5; stroke-width: 1px; fill: rgb(239, 85, 59); fill-opacity: 1; stroke: rgb(255, 255, 255); stroke-opacity: 1;\"/><path class=\"point\" transform=\"translate(61.63,266.11)\" d=\"M6.31,0A6.31,6.31 0 1,1 0,-6.31A6.31,6.31 0 0,1 6.31,0Z\" style=\"opacity: 0.5; stroke-width: 1px; fill: rgb(239, 85, 59); fill-opacity: 1; stroke: rgb(255, 255, 255); stroke-opacity: 1;\"/><path class=\"point\" transform=\"translate(103.1,189.14)\" d=\"M17.45,0A17.45,17.45 0 1,1 0,-17.45A17.45,17.45 0 0,1 17.45,0Z\" style=\"opacity: 0.5; stroke-width: 1px; fill: rgb(239, 85, 59); fill-opacity: 1; stroke: rgb(255, 255, 255); stroke-opacity: 1;\"/><path class=\"point\" transform=\"translate(109,230.39)\" d=\"M9.41,0A9.41,9.41 0 1,1 0,-9.41A9.41,9.41 0 0,1 9.41,0Z\" style=\"opacity: 0.5; stroke-width: 1px; fill: rgb(239, 85, 59); fill-opacity: 1; stroke: rgb(255, 255, 255); stroke-opacity: 1;\"/><path class=\"point\" transform=\"translate(112.61,183.99)\" d=\"M10,0A10,10 0 1,1 0,-10A10,10 0 0,1 10,0Z\" style=\"opacity: 0.5; stroke-width: 1px; fill: rgb(239, 85, 59); fill-opacity: 1; stroke: rgb(255, 255, 255); stroke-opacity: 1;\"/><path class=\"point\" transform=\"translate(71.66,261.19)\" d=\"M6.64,0A6.64,6.64 0 1,1 0,-6.64A6.64,6.64 0 0,1 6.64,0Z\" style=\"opacity: 0.5; stroke-width: 1px; fill: rgb(239, 85, 59); fill-opacity: 1; stroke: rgb(255, 255, 255); stroke-opacity: 1;\"/><path class=\"point\" transform=\"translate(115.35,255.33)\" d=\"M2.77,0A2.77,2.77 0 1,1 0,-2.77A2.77,2.77 0 0,1 2.77,0Z\" style=\"opacity: 0.5; stroke-width: 1px; fill: rgb(239, 85, 59); fill-opacity: 1; stroke: rgb(255, 255, 255); stroke-opacity: 1;\"/></g><g class=\"text\"/></g></g></g><g class=\"overplot\"/><path class=\"xlines-above crisp\" d=\"M238.45999999999998,370.5H389.53999999999996\" style=\"fill: none; stroke-width: 1px; stroke: rgb(255, 255, 255); stroke-opacity: 1;\"/><path class=\"ylines-above crisp\" d=\"M238.95999999999998,60V370\" style=\"fill: none; stroke-width: 1px; stroke: rgb(255, 255, 255); stroke-opacity: 1;\"/><g class=\"overlines-above\"/><g class=\"xaxislayer-above\"><g class=\"x2tick\"><text text-anchor=\"middle\" x=\"0\" y=\"382.4\" transform=\"translate(254.08999999999997,0)\" style=\"font-family: 'Open Sans', verdana, arial, sans-serif; font-size: 9px; fill: rgb(42, 63, 95); fill-opacity: 1; white-space: pre;\">5</text></g><g class=\"x2tick\"><text text-anchor=\"middle\" x=\"0\" y=\"385.4\" transform=\"translate(267.33,0)\" style=\"font-family: 'Open Sans', verdana, arial, sans-serif; font-size: 12px; fill: rgb(42, 63, 95); fill-opacity: 1; white-space: pre;\">1M</text></g><g class=\"x2tick\"><text text-anchor=\"middle\" x=\"0\" y=\"382.4\" transform=\"translate(280.58,0)\" style=\"font-family: 'Open Sans', verdana, arial, sans-serif; font-size: 9px; fill: rgb(42, 63, 95); fill-opacity: 1; white-space: pre;\">2</text></g><g class=\"x2tick\"><text text-anchor=\"middle\" x=\"0\" y=\"382.4\" transform=\"translate(298.08,0)\" style=\"font-family: 'Open Sans', verdana, arial, sans-serif; font-size: 9px; fill: rgb(42, 63, 95); fill-opacity: 1; white-space: pre;\">5</text></g><g class=\"x2tick\"><text text-anchor=\"middle\" x=\"0\" y=\"385.4\" transform=\"translate(311.33,0)\" style=\"font-family: 'Open Sans', verdana, arial, sans-serif; font-size: 12px; fill: rgb(42, 63, 95); fill-opacity: 1; white-space: pre;\">10M</text></g><g class=\"x2tick\"><text text-anchor=\"middle\" x=\"0\" y=\"382.4\" transform=\"translate(324.57,0)\" style=\"font-family: 'Open Sans', verdana, arial, sans-serif; font-size: 9px; fill: rgb(42, 63, 95); fill-opacity: 1; white-space: pre;\">2</text></g><g class=\"x2tick\"><text text-anchor=\"middle\" x=\"0\" y=\"382.4\" transform=\"translate(342.08,0)\" style=\"font-family: 'Open Sans', verdana, arial, sans-serif; font-size: 9px; fill: rgb(42, 63, 95); fill-opacity: 1; white-space: pre;\">5</text></g><g class=\"x2tick\"><text text-anchor=\"middle\" x=\"0\" y=\"385.4\" transform=\"translate(355.33,0)\" style=\"font-family: 'Open Sans', verdana, arial, sans-serif; font-size: 12px; fill: rgb(42, 63, 95); fill-opacity: 1; white-space: pre;\">100M</text></g><g class=\"x2tick\"><text text-anchor=\"middle\" x=\"0\" y=\"382.4\" transform=\"translate(368.57,0)\" style=\"font-family: 'Open Sans', verdana, arial, sans-serif; font-size: 9px; fill: rgb(42, 63, 95); fill-opacity: 1; white-space: pre;\">2</text></g><g class=\"x2tick\"><text text-anchor=\"middle\" x=\"0\" y=\"382.4\" transform=\"translate(386.08,0)\" style=\"font-family: 'Open Sans', verdana, arial, sans-serif; font-size: 9px; fill: rgb(42, 63, 95); fill-opacity: 1; white-space: pre;\">5</text></g></g><g class=\"yaxislayer-above\"/><g class=\"overaxes-above\"/></g><g class=\"subplot x3y3\"><g class=\"layer-subplot\"><g class=\"shapelayer\"/><g class=\"imagelayer\"/></g><g class=\"gridlayer\"><g class=\"x3\"><path class=\"x3grid crisp\" transform=\"translate(413.54999999999995,0)\" d=\"M0,60v310\" style=\"stroke: rgb(255, 255, 255); stroke-opacity: 1; stroke-width: 1px;\"/><path class=\"x3grid crisp\" transform=\"translate(426.78999999999996,0)\" d=\"M0,60v310\" style=\"stroke: rgb(255, 255, 255); stroke-opacity: 1; stroke-width: 1px;\"/><path class=\"x3grid crisp\" transform=\"translate(440.03999999999996,0)\" d=\"M0,60v310\" style=\"stroke: rgb(255, 255, 255); stroke-opacity: 1; stroke-width: 1px;\"/><path class=\"x3grid crisp\" transform=\"translate(457.53999999999996,0)\" d=\"M0,60v310\" style=\"stroke: rgb(255, 255, 255); stroke-opacity: 1; stroke-width: 1px;\"/><path class=\"x3grid crisp\" transform=\"translate(470.78999999999996,0)\" d=\"M0,60v310\" style=\"stroke: rgb(255, 255, 255); stroke-opacity: 1; stroke-width: 1px;\"/><path class=\"x3grid crisp\" transform=\"translate(484.03,0)\" d=\"M0,60v310\" style=\"stroke: rgb(255, 255, 255); stroke-opacity: 1; stroke-width: 1px;\"/><path class=\"x3grid crisp\" transform=\"translate(501.53999999999996,0)\" d=\"M0,60v310\" style=\"stroke: rgb(255, 255, 255); stroke-opacity: 1; stroke-width: 1px;\"/><path class=\"x3grid crisp\" transform=\"translate(514.79,0)\" d=\"M0,60v310\" style=\"stroke: rgb(255, 255, 255); stroke-opacity: 1; stroke-width: 1px;\"/><path class=\"x3grid crisp\" transform=\"translate(528.03,0)\" d=\"M0,60v310\" style=\"stroke: rgb(255, 255, 255); stroke-opacity: 1; stroke-width: 1px;\"/><path class=\"x3grid crisp\" transform=\"translate(545.54,0)\" d=\"M0,60v310\" style=\"stroke: rgb(255, 255, 255); stroke-opacity: 1; stroke-width: 1px;\"/></g><g class=\"y3\"><path class=\"y3grid crisp\" transform=\"translate(0,306.33000000000004)\" d=\"M398.91999999999996,0h150.07999999999998\" style=\"stroke: rgb(255, 255, 255); stroke-opacity: 1; stroke-width: 1px;\"/><path class=\"y3grid crisp\" transform=\"translate(0,259.46000000000004)\" d=\"M398.91999999999996,0h150.07999999999998\" style=\"stroke: rgb(255, 255, 255); stroke-opacity: 1; stroke-width: 1px;\"/><path class=\"y3grid crisp\" transform=\"translate(0,212.58)\" d=\"M398.91999999999996,0h150.07999999999998\" style=\"stroke: rgb(255, 255, 255); stroke-opacity: 1; stroke-width: 1px;\"/><path class=\"y3grid crisp\" transform=\"translate(0,165.70999999999998)\" d=\"M398.91999999999996,0h150.07999999999998\" style=\"stroke: rgb(255, 255, 255); stroke-opacity: 1; stroke-width: 1px;\"/><path class=\"y3grid crisp\" transform=\"translate(0,118.83)\" d=\"M398.91999999999996,0h150.07999999999998\" style=\"stroke: rgb(255, 255, 255); stroke-opacity: 1; stroke-width: 1px;\"/><path class=\"y3grid crisp\" transform=\"translate(0,71.96000000000001)\" d=\"M398.91999999999996,0h150.07999999999998\" style=\"stroke: rgb(255, 255, 255); stroke-opacity: 1; stroke-width: 1px;\"/></g></g><g class=\"zerolinelayer\"><path class=\"y3zl zl crisp\" transform=\"translate(0,353.21)\" d=\"M398.91999999999996,0h150.07999999999998\" style=\"stroke: rgb(255, 255, 255); stroke-opacity: 1; stroke-width: 2px;\"/></g><path class=\"xlines-below\"/><path class=\"ylines-below\"/><g class=\"overlines-below\"/><g class=\"xaxislayer-below\"/><g class=\"yaxislayer-below\"/><g class=\"overaxes-below\"/><g class=\"plot\" transform=\"translate(398.91999999999996, 60)\" clip-path=\"url('#clipf3172dx3y3plot')\"><g class=\"scatterlayer mlayer\"><g class=\"trace scatter trace8bef16\" style=\"stroke-miterlimit: 2; opacity: 1;\"><g class=\"fills\"/><g class=\"errorbars\"/><g class=\"lines\"/><g class=\"points\"><path class=\"point\" transform=\"translate(69.87,268.6)\" d=\"M2.35,0A2.35,2.35 0 1,1 0,-2.35A2.35,2.35 0 0,1 2.35,0Z\" style=\"opacity: 0.5; stroke-width: 1px; fill: rgb(0, 204, 150); fill-opacity: 1; stroke: rgb(255, 255, 255); stroke-opacity: 1;\"/><path class=\"point\" transform=\"translate(72.13,286.17)\" d=\"M1.11,0A1.11,1.11 0 1,1 0,-1.11A1.11,1.11 0 0,1 1.11,0Z\" style=\"opacity: 0.5; stroke-width: 1px; fill: rgb(0, 204, 150); fill-opacity: 1; stroke: rgb(255, 255, 255); stroke-opacity: 1;\"/><path class=\"point\" transform=\"translate(74.69,263.86)\" d=\"M2.41,0A2.41,2.41 0 1,1 0,-2.41A2.41,2.41 0 0,1 2.41,0Z\" style=\"opacity: 0.5; stroke-width: 1px; fill: rgb(0, 204, 150); fill-opacity: 1; stroke: rgb(255, 255, 255); stroke-opacity: 1;\"/><path class=\"point\" transform=\"translate(64.91,285.19)\" d=\"M1.24,0A1.24,1.24 0 1,1 0,-1.24A1.24,1.24 0 0,1 1.24,0Z\" style=\"opacity: 0.5; stroke-width: 1px; fill: rgb(0, 204, 150); fill-opacity: 1; stroke: rgb(255, 255, 255); stroke-opacity: 1;\"/><path class=\"point\" transform=\"translate(31.47,291.5)\" d=\"M1.75,0A1.75,1.75 0 1,1 0,-1.75A1.75,1.75 0 0,1 1.75,0Z\" style=\"opacity: 0.5; stroke-width: 1px; fill: rgb(0, 204, 150); fill-opacity: 1; stroke: rgb(255, 255, 255); stroke-opacity: 1;\"/><path class=\"point\" transform=\"translate(61.43,276.89)\" d=\"M2.54,0A2.54,2.54 0 1,1 0,-2.54A2.54,2.54 0 0,1 2.54,0Z\" style=\"opacity: 0.5; stroke-width: 1px; fill: rgb(0, 204, 150); fill-opacity: 1; stroke: rgb(255, 255, 255); stroke-opacity: 1;\"/><path class=\"point\" transform=\"translate(60.59,279.94)\" d=\"M1.57,0A1.57,1.57 0 1,1 0,-1.57A1.57,1.57 0 0,1 1.57,0Z\" style=\"opacity: 0.5; stroke-width: 1px; fill: rgb(0, 204, 150); fill-opacity: 1; stroke: rgb(255, 255, 255); stroke-opacity: 1;\"/><path class=\"point\" transform=\"translate(107.71,137.58)\" d=\"M6.36,0A6.36,6.36 0 1,1 0,-6.36A6.36,6.36 0 0,1 6.36,0Z\" style=\"opacity: 0.5; stroke-width: 1px; fill: rgb(0, 204, 150); fill-opacity: 1; stroke: rgb(255, 255, 255); stroke-opacity: 1;\"/><path class=\"point\" transform=\"translate(112.48,74.77)\" d=\"M7,0A7,7 0 1,1 0,-7A7,7 0 0,1 7,0Z\" style=\"opacity: 0.5; stroke-width: 1px; fill: rgb(0, 204, 150); fill-opacity: 1; stroke: rgb(255, 255, 255); stroke-opacity: 1;\"/><path class=\"point\" transform=\"translate(72.66,277.46)\" d=\"M2.93,0A2.93,2.93 0 1,1 0,-2.93A2.93,2.93 0 0,1 2.93,0Z\" style=\"opacity: 0.5; stroke-width: 1px; fill: rgb(0, 204, 150); fill-opacity: 1; stroke: rgb(255, 255, 255); stroke-opacity: 1;\"/><path class=\"point\" transform=\"translate(71.21,277.64)\" d=\"M2.21,0A2.21,2.21 0 1,1 0,-2.21A2.21,2.21 0 0,1 2.21,0Z\" style=\"opacity: 0.5; stroke-width: 1px; fill: rgb(0, 204, 150); fill-opacity: 1; stroke: rgb(255, 255, 255); stroke-opacity: 1;\"/><path class=\"point\" transform=\"translate(58.38,272.77)\" d=\"M4.73,0A4.73,4.73 0 1,1 0,-4.73A4.73,4.73 0 0,1 4.73,0Z\" style=\"opacity: 0.5; stroke-width: 1px; fill: rgb(0, 204, 150); fill-opacity: 1; stroke: rgb(255, 255, 255); stroke-opacity: 1;\"/><path class=\"point\" transform=\"translate(83.91,269.39)\" d=\"M1.57,0A1.57,1.57 0 1,1 0,-1.57A1.57,1.57 0 0,1 1.57,0Z\" style=\"opacity: 0.5; stroke-width: 1px; fill: rgb(0, 204, 150); fill-opacity: 1; stroke: rgb(255, 255, 255); stroke-opacity: 1;\"/><path class=\"point\" transform=\"translate(18.92,289.68)\" d=\"M0.78,0A0.78,0.78 0 1,1 0,-0.78A0.78,0.78 0 0,1 0.78,0Z\" style=\"opacity: 0.5; stroke-width: 1px; fill: rgb(0, 204, 150); fill-opacity: 1; stroke: rgb(255, 255, 255); stroke-opacity: 1;\"/><path class=\"point\" transform=\"translate(96.82,279.61)\" d=\"M1.66,0A1.66,1.66 0 1,1 0,-1.66A1.66,1.66 0 0,1 1.66,0Z\" style=\"opacity: 0.5; stroke-width: 1px; fill: rgb(0, 204, 150); fill-opacity: 1; stroke: rgb(255, 255, 255); stroke-opacity: 1;\"/><path class=\"point\" transform=\"translate(82.16,244.92)\" d=\"M4.25,0A4.25,4.25 0 1,1 0,-4.25A4.25,4.25 0 0,1 4.25,0Z\" style=\"opacity: 0.5; stroke-width: 1px; fill: rgb(0, 204, 150); fill-opacity: 1; stroke: rgb(255, 255, 255); stroke-opacity: 1;\"/><path class=\"point\" transform=\"translate(60.17,276.47)\" d=\"M2.28,0A2.28,2.28 0 1,1 0,-2.28A2.28,2.28 0 0,1 2.28,0Z\" style=\"opacity: 0.5; stroke-width: 1px; fill: rgb(0, 204, 150); fill-opacity: 1; stroke: rgb(255, 255, 255); stroke-opacity: 1;\"/><path class=\"point\" transform=\"translate(97.3,232.27)\" d=\"M4.03,0A4.03,4.03 0 1,1 0,-4.03A4.03,4.03 0 0,1 4.03,0Z\" style=\"opacity: 0.5; stroke-width: 1px; fill: rgb(0, 204, 150); fill-opacity: 1; stroke: rgb(255, 255, 255); stroke-opacity: 1;\"/><path class=\"point\" transform=\"translate(72.24,275.63)\" d=\"M1.84,0A1.84,1.84 0 1,1 0,-1.84A1.84,1.84 0 0,1 1.84,0Z\" style=\"opacity: 0.5; stroke-width: 1px; fill: rgb(0, 204, 150); fill-opacity: 1; stroke: rgb(255, 255, 255); stroke-opacity: 1;\"/><path class=\"point\" transform=\"translate(84.37,263.91)\" d=\"M2.88,0A2.88,2.88 0 1,1 0,-2.88A2.88,2.88 0 0,1 2.88,0Z\" style=\"opacity: 0.5; stroke-width: 1px; fill: rgb(0, 204, 150); fill-opacity: 1; stroke: rgb(255, 255, 255); stroke-opacity: 1;\"/><path class=\"point\" transform=\"translate(123.09,92.58)\" d=\"M5.78,0A5.78,5.78 0 1,1 0,-5.78A5.78,5.78 0 0,1 5.78,0Z\" style=\"opacity: 0.5; stroke-width: 1px; fill: rgb(0, 204, 150); fill-opacity: 1; stroke: rgb(255, 255, 255); stroke-opacity: 1;\"/><path class=\"point\" transform=\"translate(105.88,257.53)\" d=\"M0.96,0A0.96,0.96 0 1,1 0,-0.96A0.96,0.96 0 0,1 0.96,0Z\" style=\"opacity: 0.5; stroke-width: 1px; fill: rgb(0, 204, 150); fill-opacity: 1; stroke: rgb(255, 255, 255); stroke-opacity: 1;\"/><path class=\"point\" transform=\"translate(101.34,199.93)\" d=\"M5.56,0A5.56,5.56 0 1,1 0,-5.56A5.56,5.56 0 0,1 5.56,0Z\" style=\"opacity: 0.5; stroke-width: 1px; fill: rgb(0, 204, 150); fill-opacity: 1; stroke: rgb(255, 255, 255); stroke-opacity: 1;\"/><path class=\"point\" transform=\"translate(72.06,266.3)\" d=\"M2.35,0A2.35,2.35 0 1,1 0,-2.35A2.35,2.35 0 0,1 2.35,0Z\" style=\"opacity: 0.5; stroke-width: 1px; fill: rgb(0, 204, 150); fill-opacity: 1; stroke: rgb(255, 255, 255); stroke-opacity: 1;\"/><path class=\"point\" transform=\"translate(69.11,264.66)\" d=\"M4.32,0A4.32,4.32 0 1,1 0,-4.32A4.32,4.32 0 0,1 4.32,0Z\" style=\"opacity: 0.5; stroke-width: 1px; fill: rgb(0, 204, 150); fill-opacity: 1; stroke: rgb(255, 255, 255); stroke-opacity: 1;\"/><path class=\"point\" transform=\"translate(112.61,183.99)\" d=\"M10,0A10,10 0 1,1 0,-10A10,10 0 0,1 10,0Z\" style=\"opacity: 0.5; stroke-width: 1px; fill: rgb(0, 204, 150); fill-opacity: 1; stroke: rgb(255, 255, 255); stroke-opacity: 1;\"/><path class=\"point\" transform=\"translate(108.46,140.39)\" d=\"M16.62,0A16.62,16.62 0 1,1 0,-16.62A16.62,16.62 0 0,1 16.62,0Z\" style=\"opacity: 0.5; stroke-width: 1px; fill: rgb(0, 204, 150); fill-opacity: 1; stroke: rgb(255, 255, 255); stroke-opacity: 1;\"/></g><g class=\"text\"/></g></g></g><g class=\"overplot\"/><path class=\"xlines-above crisp\" d=\"M397.91999999999996,370.5H549\" style=\"fill: none; stroke-width: 1px; stroke: rgb(255, 255, 255); stroke-opacity: 1;\"/><path class=\"ylines-above crisp\" d=\"M398.41999999999996,60V370\" style=\"fill: none; stroke-width: 1px; stroke: rgb(255, 255, 255); stroke-opacity: 1;\"/><g class=\"overlines-above\"/><g class=\"xaxislayer-above\"><g class=\"x3tick\"><text text-anchor=\"middle\" x=\"0\" y=\"382.4\" transform=\"translate(413.54999999999995,0)\" style=\"font-family: 'Open Sans', verdana, arial, sans-serif; font-size: 9px; fill: rgb(42, 63, 95); fill-opacity: 1; white-space: pre;\">5</text></g><g class=\"x3tick\"><text text-anchor=\"middle\" x=\"0\" y=\"385.4\" transform=\"translate(426.78999999999996,0)\" style=\"font-family: 'Open Sans', verdana, arial, sans-serif; font-size: 12px; fill: rgb(42, 63, 95); fill-opacity: 1; white-space: pre;\">1M</text></g><g class=\"x3tick\"><text text-anchor=\"middle\" x=\"0\" y=\"382.4\" transform=\"translate(440.03999999999996,0)\" style=\"font-family: 'Open Sans', verdana, arial, sans-serif; font-size: 9px; fill: rgb(42, 63, 95); fill-opacity: 1; white-space: pre;\">2</text></g><g class=\"x3tick\"><text text-anchor=\"middle\" x=\"0\" y=\"382.4\" transform=\"translate(457.53999999999996,0)\" style=\"font-family: 'Open Sans', verdana, arial, sans-serif; font-size: 9px; fill: rgb(42, 63, 95); fill-opacity: 1; white-space: pre;\">5</text></g><g class=\"x3tick\"><text text-anchor=\"middle\" x=\"0\" y=\"385.4\" transform=\"translate(470.78999999999996,0)\" style=\"font-family: 'Open Sans', verdana, arial, sans-serif; font-size: 12px; fill: rgb(42, 63, 95); fill-opacity: 1; white-space: pre;\">10M</text></g><g class=\"x3tick\"><text text-anchor=\"middle\" x=\"0\" y=\"382.4\" transform=\"translate(484.03,0)\" style=\"font-family: 'Open Sans', verdana, arial, sans-serif; font-size: 9px; fill: rgb(42, 63, 95); fill-opacity: 1; white-space: pre;\">2</text></g><g class=\"x3tick\"><text text-anchor=\"middle\" x=\"0\" y=\"382.4\" transform=\"translate(501.53999999999996,0)\" style=\"font-family: 'Open Sans', verdana, arial, sans-serif; font-size: 9px; fill: rgb(42, 63, 95); fill-opacity: 1; white-space: pre;\">5</text></g><g class=\"x3tick\"><text text-anchor=\"middle\" x=\"0\" y=\"385.4\" transform=\"translate(514.79,0)\" style=\"font-family: 'Open Sans', verdana, arial, sans-serif; font-size: 12px; fill: rgb(42, 63, 95); fill-opacity: 1; white-space: pre;\">100M</text></g><g class=\"x3tick\"><text text-anchor=\"middle\" x=\"0\" y=\"382.4\" transform=\"translate(528.03,0)\" style=\"font-family: 'Open Sans', verdana, arial, sans-serif; font-size: 9px; fill: rgb(42, 63, 95); fill-opacity: 1; white-space: pre;\">2</text></g><g class=\"x3tick\"><text text-anchor=\"middle\" x=\"0\" y=\"382.4\" transform=\"translate(545.54,0)\" style=\"font-family: 'Open Sans', verdana, arial, sans-serif; font-size: 9px; fill: rgb(42, 63, 95); fill-opacity: 1; white-space: pre;\">5</text></g></g><g class=\"yaxislayer-above\"/><g class=\"overaxes-above\"/></g></g><g class=\"polarlayer\"/><g class=\"ternarylayer\"/><g class=\"geolayer\"/><g class=\"funnelarealayer\"/><g class=\"pielayer\"/><g class=\"treemaplayer\"/><g class=\"sunburstlayer\"/><g class=\"glimages\"/><defs id=\"topdefs-f3172d\"><g class=\"clips\"/><clipPath id=\"legendf3172d\"><rect width=\"130\" height=\"83\" x=\"0\" y=\"0\"/></clipPath></defs><g class=\"layer-above\"><g class=\"imagelayer\"/><g class=\"shapelayer\"/></g><g class=\"infolayer\"><g class=\"legend\" pointer-events=\"all\" transform=\"translate(558.38, 60)\"><rect class=\"bg\" shape-rendering=\"crispEdges\" width=\"130\" height=\"83\" x=\"0\" y=\"0\" style=\"stroke: rgb(68, 68, 68); stroke-opacity: 1; fill: rgb(255, 255, 255); fill-opacity: 1; stroke-width: 0px;\"/><g class=\"scrollbox\" transform=\"translate(0, 0)\" clip-path=\"url('#legendf3172d')\"><text class=\"legendtitletext user-select-none\" text-anchor=\"start\" x=\"2\" y=\"15.600000000000001\" style=\"font-family: 'Open Sans', verdana, arial, sans-serif; font-size: 12px; fill: rgb(42, 63, 95); fill-opacity: 1; white-space: pre;\">region</text><g class=\"groups\" transform=\"translate(0, 0)\"><g class=\"traces\" transform=\"translate(0, 30.1)\" style=\"opacity: 1;\"><text class=\"legendtext user-select-none\" text-anchor=\"start\" x=\"40\" y=\"4.680000000000001\" style=\"font-family: 'Open Sans', verdana, arial, sans-serif; font-size: 12px; fill: rgb(42, 63, 95); fill-opacity: 1; white-space: pre;\">Americas</text><g class=\"layers\" style=\"opacity: 1;\"><g class=\"legendfill\"/><g class=\"legendlines\"/><g class=\"legendsymbols\"><g class=\"legendpoints\"><path class=\"scatterpts\" transform=\"translate(20,0)\" d=\"M6,0A6,6 0 1,1 0,-6A6,6 0 0,1 6,0Z\" style=\"opacity: 0.5; stroke-width: 2px; fill: rgb(99, 110, 250); fill-opacity: 1; stroke: rgb(255, 255, 255); stroke-opacity: 1;\"/></g></g></g><rect class=\"legendtoggle\" pointer-events=\"all\" x=\"0\" y=\"-9.5\" width=\"124.140625\" height=\"19\" style=\"cursor: pointer; fill: rgb(0, 0, 0); fill-opacity: 0;\"/></g></g><g class=\"groups\" transform=\"translate(0, 0)\"><g class=\"traces\" transform=\"translate(0, 49.1)\" style=\"opacity: 1;\"><text class=\"legendtext user-select-none\" text-anchor=\"start\" x=\"40\" y=\"4.680000000000001\" style=\"font-family: 'Open Sans', verdana, arial, sans-serif; font-size: 12px; fill: rgb(42, 63, 95); fill-opacity: 1; white-space: pre;\">Asia_Oceania</text><g class=\"layers\" style=\"opacity: 1;\"><g class=\"legendfill\"/><g class=\"legendlines\"/><g class=\"legendsymbols\"><g class=\"legendpoints\"><path class=\"scatterpts\" transform=\"translate(20,0)\" d=\"M6,0A6,6 0 1,1 0,-6A6,6 0 0,1 6,0Z\" style=\"opacity: 0.5; stroke-width: 2px; fill: rgb(239, 85, 59); fill-opacity: 1; stroke: rgb(255, 255, 255); stroke-opacity: 1;\"/></g></g></g><rect class=\"legendtoggle\" pointer-events=\"all\" x=\"0\" y=\"-9.5\" width=\"124.140625\" height=\"19\" style=\"cursor: pointer; fill: rgb(0, 0, 0); fill-opacity: 0;\"/></g></g><g class=\"groups\" transform=\"translate(0, 0)\"><g class=\"traces\" transform=\"translate(0, 68.1)\" style=\"opacity: 1;\"><text class=\"legendtext user-select-none\" text-anchor=\"start\" x=\"40\" y=\"4.680000000000001\" style=\"font-family: 'Open Sans', verdana, arial, sans-serif; font-size: 12px; fill: rgb(42, 63, 95); fill-opacity: 1; white-space: pre;\">Europe_Africa</text><g class=\"layers\" style=\"opacity: 1;\"><g class=\"legendfill\"/><g class=\"legendlines\"/><g class=\"legendsymbols\"><g class=\"legendpoints\"><path class=\"scatterpts\" transform=\"translate(20,0)\" d=\"M6,0A6,6 0 1,1 0,-6A6,6 0 0,1 6,0Z\" style=\"opacity: 0.5; stroke-width: 2px; fill: rgb(0, 204, 150); fill-opacity: 1; stroke: rgb(255, 255, 255); stroke-opacity: 1;\"/></g></g></g><rect class=\"legendtoggle\" pointer-events=\"all\" x=\"0\" y=\"-9.5\" width=\"124.140625\" height=\"19\" style=\"cursor: pointer; fill: rgb(0, 0, 0); fill-opacity: 0;\"/></g></g></g><rect class=\"scrollbar\" rx=\"20\" ry=\"3\" width=\"0\" height=\"0\" x=\"0\" y=\"0\" style=\"fill: rgb(128, 139, 164); fill-opacity: 1;\"/></g><g class=\"g-gtitle\"/><g class=\"g-xtitle\"><text class=\"xtitle\" x=\"155.04\" y=\"412.6125\" text-anchor=\"middle\" style=\"font-family: 'Open Sans', verdana, arial, sans-serif; font-size: 14px; fill: rgb(42, 63, 95); opacity: 1; font-weight: normal; white-space: pre;\">population</text></g><g class=\"g-x2title\"><text class=\"x2title\" x=\"314.5\" y=\"412.6125\" text-anchor=\"middle\" style=\"font-family: 'Open Sans', verdana, arial, sans-serif; font-size: 14px; fill: rgb(42, 63, 95); opacity: 1; font-weight: normal; white-space: pre;\">population</text></g><g class=\"g-x3title\"><text class=\"x3title\" x=\"473.9599999999999\" y=\"412.6125\" text-anchor=\"middle\" style=\"font-family: 'Open Sans', verdana, arial, sans-serif; font-size: 14px; fill: rgb(42, 63, 95); opacity: 1; font-weight: normal; white-space: pre;\">population</text></g><g class=\"g-ytitle\"><text class=\"ytitle\" transform=\"rotate(-90,36.7625,215)\" x=\"36.7625\" y=\"215\" text-anchor=\"middle\" style=\"font-family: 'Open Sans', verdana, arial, sans-serif; font-size: 14px; fill: rgb(42, 63, 95); opacity: 1; font-weight: normal; white-space: pre;\">gdp_ppp</text></g><g class=\"g-y2title\"/><g class=\"g-y3title\"/><g class=\"annotation\" data-index=\"0\" style=\"opacity: 1;\"><g class=\"annotation-text-g\" transform=\"rotate(0,155.04,51)\"><g class=\"cursor-pointer\" transform=\"translate(102, 42)\"><rect class=\"bg\" x=\"0.5\" y=\"0.5\" width=\"106\" height=\"17\" style=\"stroke-width: 1px; stroke: rgb(0, 0, 0); stroke-opacity: 0; fill: rgb(0, 0, 0); fill-opacity: 0;\"/><text class=\"annotation-text\" text-anchor=\"middle\" x=\"53.453125\" y=\"14\" style=\"font-family: 'Open Sans', verdana, arial, sans-serif; font-size: 12px; fill: rgb(42, 63, 95); fill-opacity: 1; white-space: pre;\">region=Americas</text></g></g></g><g class=\"annotation\" data-index=\"1\" style=\"opacity: 1;\"><g class=\"annotation-text-g\" transform=\"rotate(0,314.5,51)\"><g class=\"cursor-pointer\" transform=\"translate(249, 42)\"><rect class=\"bg\" x=\"0.5\" y=\"0.5\" width=\"131\" height=\"17\" style=\"stroke-width: 1px; stroke: rgb(0, 0, 0); stroke-opacity: 0; fill: rgb(0, 0, 0); fill-opacity: 0;\"/><text class=\"annotation-text\" text-anchor=\"middle\" x=\"66.234375\" y=\"14\" style=\"font-family: 'Open Sans', verdana, arial, sans-serif; font-size: 12px; fill: rgb(42, 63, 95); fill-opacity: 1; white-space: pre;\">region=Asia_Oceania</text></g></g></g><g class=\"annotation\" data-index=\"2\" style=\"opacity: 1;\"><g class=\"annotation-text-g\" transform=\"rotate(0,473.9599999999999,51)\"><g class=\"cursor-pointer\" transform=\"translate(406, 42)\"><rect class=\"bg\" x=\"0.5\" y=\"0.5\" width=\"135\" height=\"17\" style=\"stroke-width: 1px; stroke: rgb(0, 0, 0); stroke-opacity: 0; fill: rgb(0, 0, 0); fill-opacity: 0;\"/><text class=\"annotation-text\" text-anchor=\"middle\" x=\"67.9375\" y=\"14\" style=\"font-family: 'Open Sans', verdana, arial, sans-serif; font-size: 12px; fill: rgb(42, 63, 95); fill-opacity: 1; white-space: pre;\">region=Europe_Africa</text></g></g></g></g></svg>"
      ]
     },
     "metadata": {},
     "output_type": "display_data"
    }
   ],
   "source": [
    "#Create a new data frame without us, china and india\n",
    "df_scatter2=df_scatter.loc[(df_scatter.country !='United States') & (df_scatter.country !='China') & (df_scatter.country !='India')]\n",
    "\n",
    "#Graph the new dataframe\n",
    "df = df_scatter2\n",
    "fig = px.scatter(df, x=\"population\", y=\"gdp_ppp\", size=\"store_count\",color='region',\n",
    "           hover_name=\"country\", log_x=True, size_max=30, opacity=0.5, facet_col='region')\n",
    "fig.show('svg')\n"
   ]
  },
  {
   "cell_type": "code",
   "execution_count": 88,
   "metadata": {},
   "outputs": [
    {
     "data": {
      "application/vnd.plotly.v1+json": {
       "config": {
        "plotlyServerURL": "https://plot.ly"
       },
       "data": [
        {
         "alignmentgroup": "True",
         "hovertemplate": "<b>%{hovertext}</b><br><br>store_count=%{x}<br>city=%{y}<extra></extra>",
         "hovertext": [
          "Jakarta",
          "Taipei City",
          "Los Angeles",
          "Singapore",
          "Calgary",
          "San Diego",
          "Vancouver",
          "Moscow",
          "Houston",
          "Las Vegas",
          "Seattle",
          "Mexico City",
          "Chicago",
          "Toronto",
          "London",
          "New York",
          "Beijing",
          "Istanbul",
          "Seoul",
          "Shanghai"
         ],
         "legendgroup": "",
         "marker": {
          "color": "#636efa"
         },
         "name": "",
         "offsetgroup": "",
         "orientation": "h",
         "showlegend": false,
         "textposition": "auto",
         "type": "bar",
         "x": [
          123,
          126,
          127,
          127,
          130,
          135,
          141,
          151,
          154,
          156,
          156,
          180,
          180,
          192,
          216,
          232,
          234,
          288,
          379,
          544
         ],
         "xaxis": "x",
         "y": [
          "Jakarta",
          "Taipei City",
          "Los Angeles",
          "Singapore",
          "Calgary",
          "San Diego",
          "Vancouver",
          "Moscow",
          "Houston",
          "Las Vegas",
          "Seattle",
          "Mexico City",
          "Chicago",
          "Toronto",
          "London",
          "New York",
          "Beijing",
          "Istanbul",
          "Seoul",
          "Shanghai"
         ],
         "yaxis": "y"
        }
       ],
       "layout": {
        "barmode": "relative",
        "legend": {
         "tracegroupgap": 0
        },
        "template": {
         "data": {
          "bar": [
           {
            "error_x": {
             "color": "#2a3f5f"
            },
            "error_y": {
             "color": "#2a3f5f"
            },
            "marker": {
             "line": {
              "color": "#E5ECF6",
              "width": 0.5
             }
            },
            "type": "bar"
           }
          ],
          "barpolar": [
           {
            "marker": {
             "line": {
              "color": "#E5ECF6",
              "width": 0.5
             }
            },
            "type": "barpolar"
           }
          ],
          "carpet": [
           {
            "aaxis": {
             "endlinecolor": "#2a3f5f",
             "gridcolor": "white",
             "linecolor": "white",
             "minorgridcolor": "white",
             "startlinecolor": "#2a3f5f"
            },
            "baxis": {
             "endlinecolor": "#2a3f5f",
             "gridcolor": "white",
             "linecolor": "white",
             "minorgridcolor": "white",
             "startlinecolor": "#2a3f5f"
            },
            "type": "carpet"
           }
          ],
          "choropleth": [
           {
            "colorbar": {
             "outlinewidth": 0,
             "ticks": ""
            },
            "type": "choropleth"
           }
          ],
          "contour": [
           {
            "colorbar": {
             "outlinewidth": 0,
             "ticks": ""
            },
            "colorscale": [
             [
              0,
              "#0d0887"
             ],
             [
              0.1111111111111111,
              "#46039f"
             ],
             [
              0.2222222222222222,
              "#7201a8"
             ],
             [
              0.3333333333333333,
              "#9c179e"
             ],
             [
              0.4444444444444444,
              "#bd3786"
             ],
             [
              0.5555555555555556,
              "#d8576b"
             ],
             [
              0.6666666666666666,
              "#ed7953"
             ],
             [
              0.7777777777777778,
              "#fb9f3a"
             ],
             [
              0.8888888888888888,
              "#fdca26"
             ],
             [
              1,
              "#f0f921"
             ]
            ],
            "type": "contour"
           }
          ],
          "contourcarpet": [
           {
            "colorbar": {
             "outlinewidth": 0,
             "ticks": ""
            },
            "type": "contourcarpet"
           }
          ],
          "heatmap": [
           {
            "colorbar": {
             "outlinewidth": 0,
             "ticks": ""
            },
            "colorscale": [
             [
              0,
              "#0d0887"
             ],
             [
              0.1111111111111111,
              "#46039f"
             ],
             [
              0.2222222222222222,
              "#7201a8"
             ],
             [
              0.3333333333333333,
              "#9c179e"
             ],
             [
              0.4444444444444444,
              "#bd3786"
             ],
             [
              0.5555555555555556,
              "#d8576b"
             ],
             [
              0.6666666666666666,
              "#ed7953"
             ],
             [
              0.7777777777777778,
              "#fb9f3a"
             ],
             [
              0.8888888888888888,
              "#fdca26"
             ],
             [
              1,
              "#f0f921"
             ]
            ],
            "type": "heatmap"
           }
          ],
          "heatmapgl": [
           {
            "colorbar": {
             "outlinewidth": 0,
             "ticks": ""
            },
            "colorscale": [
             [
              0,
              "#0d0887"
             ],
             [
              0.1111111111111111,
              "#46039f"
             ],
             [
              0.2222222222222222,
              "#7201a8"
             ],
             [
              0.3333333333333333,
              "#9c179e"
             ],
             [
              0.4444444444444444,
              "#bd3786"
             ],
             [
              0.5555555555555556,
              "#d8576b"
             ],
             [
              0.6666666666666666,
              "#ed7953"
             ],
             [
              0.7777777777777778,
              "#fb9f3a"
             ],
             [
              0.8888888888888888,
              "#fdca26"
             ],
             [
              1,
              "#f0f921"
             ]
            ],
            "type": "heatmapgl"
           }
          ],
          "histogram": [
           {
            "marker": {
             "colorbar": {
              "outlinewidth": 0,
              "ticks": ""
             }
            },
            "type": "histogram"
           }
          ],
          "histogram2d": [
           {
            "colorbar": {
             "outlinewidth": 0,
             "ticks": ""
            },
            "colorscale": [
             [
              0,
              "#0d0887"
             ],
             [
              0.1111111111111111,
              "#46039f"
             ],
             [
              0.2222222222222222,
              "#7201a8"
             ],
             [
              0.3333333333333333,
              "#9c179e"
             ],
             [
              0.4444444444444444,
              "#bd3786"
             ],
             [
              0.5555555555555556,
              "#d8576b"
             ],
             [
              0.6666666666666666,
              "#ed7953"
             ],
             [
              0.7777777777777778,
              "#fb9f3a"
             ],
             [
              0.8888888888888888,
              "#fdca26"
             ],
             [
              1,
              "#f0f921"
             ]
            ],
            "type": "histogram2d"
           }
          ],
          "histogram2dcontour": [
           {
            "colorbar": {
             "outlinewidth": 0,
             "ticks": ""
            },
            "colorscale": [
             [
              0,
              "#0d0887"
             ],
             [
              0.1111111111111111,
              "#46039f"
             ],
             [
              0.2222222222222222,
              "#7201a8"
             ],
             [
              0.3333333333333333,
              "#9c179e"
             ],
             [
              0.4444444444444444,
              "#bd3786"
             ],
             [
              0.5555555555555556,
              "#d8576b"
             ],
             [
              0.6666666666666666,
              "#ed7953"
             ],
             [
              0.7777777777777778,
              "#fb9f3a"
             ],
             [
              0.8888888888888888,
              "#fdca26"
             ],
             [
              1,
              "#f0f921"
             ]
            ],
            "type": "histogram2dcontour"
           }
          ],
          "mesh3d": [
           {
            "colorbar": {
             "outlinewidth": 0,
             "ticks": ""
            },
            "type": "mesh3d"
           }
          ],
          "parcoords": [
           {
            "line": {
             "colorbar": {
              "outlinewidth": 0,
              "ticks": ""
             }
            },
            "type": "parcoords"
           }
          ],
          "pie": [
           {
            "automargin": true,
            "type": "pie"
           }
          ],
          "scatter": [
           {
            "marker": {
             "colorbar": {
              "outlinewidth": 0,
              "ticks": ""
             }
            },
            "type": "scatter"
           }
          ],
          "scatter3d": [
           {
            "line": {
             "colorbar": {
              "outlinewidth": 0,
              "ticks": ""
             }
            },
            "marker": {
             "colorbar": {
              "outlinewidth": 0,
              "ticks": ""
             }
            },
            "type": "scatter3d"
           }
          ],
          "scattercarpet": [
           {
            "marker": {
             "colorbar": {
              "outlinewidth": 0,
              "ticks": ""
             }
            },
            "type": "scattercarpet"
           }
          ],
          "scattergeo": [
           {
            "marker": {
             "colorbar": {
              "outlinewidth": 0,
              "ticks": ""
             }
            },
            "type": "scattergeo"
           }
          ],
          "scattergl": [
           {
            "marker": {
             "colorbar": {
              "outlinewidth": 0,
              "ticks": ""
             }
            },
            "type": "scattergl"
           }
          ],
          "scattermapbox": [
           {
            "marker": {
             "colorbar": {
              "outlinewidth": 0,
              "ticks": ""
             }
            },
            "type": "scattermapbox"
           }
          ],
          "scatterpolar": [
           {
            "marker": {
             "colorbar": {
              "outlinewidth": 0,
              "ticks": ""
             }
            },
            "type": "scatterpolar"
           }
          ],
          "scatterpolargl": [
           {
            "marker": {
             "colorbar": {
              "outlinewidth": 0,
              "ticks": ""
             }
            },
            "type": "scatterpolargl"
           }
          ],
          "scatterternary": [
           {
            "marker": {
             "colorbar": {
              "outlinewidth": 0,
              "ticks": ""
             }
            },
            "type": "scatterternary"
           }
          ],
          "surface": [
           {
            "colorbar": {
             "outlinewidth": 0,
             "ticks": ""
            },
            "colorscale": [
             [
              0,
              "#0d0887"
             ],
             [
              0.1111111111111111,
              "#46039f"
             ],
             [
              0.2222222222222222,
              "#7201a8"
             ],
             [
              0.3333333333333333,
              "#9c179e"
             ],
             [
              0.4444444444444444,
              "#bd3786"
             ],
             [
              0.5555555555555556,
              "#d8576b"
             ],
             [
              0.6666666666666666,
              "#ed7953"
             ],
             [
              0.7777777777777778,
              "#fb9f3a"
             ],
             [
              0.8888888888888888,
              "#fdca26"
             ],
             [
              1,
              "#f0f921"
             ]
            ],
            "type": "surface"
           }
          ],
          "table": [
           {
            "cells": {
             "fill": {
              "color": "#EBF0F8"
             },
             "line": {
              "color": "white"
             }
            },
            "header": {
             "fill": {
              "color": "#C8D4E3"
             },
             "line": {
              "color": "white"
             }
            },
            "type": "table"
           }
          ]
         },
         "layout": {
          "annotationdefaults": {
           "arrowcolor": "#2a3f5f",
           "arrowhead": 0,
           "arrowwidth": 1
          },
          "coloraxis": {
           "colorbar": {
            "outlinewidth": 0,
            "ticks": ""
           }
          },
          "colorscale": {
           "diverging": [
            [
             0,
             "#8e0152"
            ],
            [
             0.1,
             "#c51b7d"
            ],
            [
             0.2,
             "#de77ae"
            ],
            [
             0.3,
             "#f1b6da"
            ],
            [
             0.4,
             "#fde0ef"
            ],
            [
             0.5,
             "#f7f7f7"
            ],
            [
             0.6,
             "#e6f5d0"
            ],
            [
             0.7,
             "#b8e186"
            ],
            [
             0.8,
             "#7fbc41"
            ],
            [
             0.9,
             "#4d9221"
            ],
            [
             1,
             "#276419"
            ]
           ],
           "sequential": [
            [
             0,
             "#0d0887"
            ],
            [
             0.1111111111111111,
             "#46039f"
            ],
            [
             0.2222222222222222,
             "#7201a8"
            ],
            [
             0.3333333333333333,
             "#9c179e"
            ],
            [
             0.4444444444444444,
             "#bd3786"
            ],
            [
             0.5555555555555556,
             "#d8576b"
            ],
            [
             0.6666666666666666,
             "#ed7953"
            ],
            [
             0.7777777777777778,
             "#fb9f3a"
            ],
            [
             0.8888888888888888,
             "#fdca26"
            ],
            [
             1,
             "#f0f921"
            ]
           ],
           "sequentialminus": [
            [
             0,
             "#0d0887"
            ],
            [
             0.1111111111111111,
             "#46039f"
            ],
            [
             0.2222222222222222,
             "#7201a8"
            ],
            [
             0.3333333333333333,
             "#9c179e"
            ],
            [
             0.4444444444444444,
             "#bd3786"
            ],
            [
             0.5555555555555556,
             "#d8576b"
            ],
            [
             0.6666666666666666,
             "#ed7953"
            ],
            [
             0.7777777777777778,
             "#fb9f3a"
            ],
            [
             0.8888888888888888,
             "#fdca26"
            ],
            [
             1,
             "#f0f921"
            ]
           ]
          },
          "colorway": [
           "#636efa",
           "#EF553B",
           "#00cc96",
           "#ab63fa",
           "#FFA15A",
           "#19d3f3",
           "#FF6692",
           "#B6E880",
           "#FF97FF",
           "#FECB52"
          ],
          "font": {
           "color": "#2a3f5f"
          },
          "geo": {
           "bgcolor": "white",
           "lakecolor": "white",
           "landcolor": "#E5ECF6",
           "showlakes": true,
           "showland": true,
           "subunitcolor": "white"
          },
          "hoverlabel": {
           "align": "left"
          },
          "hovermode": "closest",
          "mapbox": {
           "style": "light"
          },
          "paper_bgcolor": "white",
          "plot_bgcolor": "#E5ECF6",
          "polar": {
           "angularaxis": {
            "gridcolor": "white",
            "linecolor": "white",
            "ticks": ""
           },
           "bgcolor": "#E5ECF6",
           "radialaxis": {
            "gridcolor": "white",
            "linecolor": "white",
            "ticks": ""
           }
          },
          "scene": {
           "xaxis": {
            "backgroundcolor": "#E5ECF6",
            "gridcolor": "white",
            "gridwidth": 2,
            "linecolor": "white",
            "showbackground": true,
            "ticks": "",
            "zerolinecolor": "white"
           },
           "yaxis": {
            "backgroundcolor": "#E5ECF6",
            "gridcolor": "white",
            "gridwidth": 2,
            "linecolor": "white",
            "showbackground": true,
            "ticks": "",
            "zerolinecolor": "white"
           },
           "zaxis": {
            "backgroundcolor": "#E5ECF6",
            "gridcolor": "white",
            "gridwidth": 2,
            "linecolor": "white",
            "showbackground": true,
            "ticks": "",
            "zerolinecolor": "white"
           }
          },
          "shapedefaults": {
           "line": {
            "color": "#2a3f5f"
           }
          },
          "ternary": {
           "aaxis": {
            "gridcolor": "white",
            "linecolor": "white",
            "ticks": ""
           },
           "baxis": {
            "gridcolor": "white",
            "linecolor": "white",
            "ticks": ""
           },
           "bgcolor": "#E5ECF6",
           "caxis": {
            "gridcolor": "white",
            "linecolor": "white",
            "ticks": ""
           }
          },
          "title": {
           "x": 0.05
          },
          "xaxis": {
           "automargin": true,
           "gridcolor": "white",
           "linecolor": "white",
           "ticks": "",
           "title": {
            "standoff": 15
           },
           "zerolinecolor": "white",
           "zerolinewidth": 2
          },
          "yaxis": {
           "automargin": true,
           "gridcolor": "white",
           "linecolor": "white",
           "ticks": "",
           "title": {
            "standoff": 15
           },
           "zerolinecolor": "white",
           "zerolinewidth": 2
          }
         }
        },
        "title": {
         "text": "Cities With Most Starbucks Locations"
        },
        "xaxis": {
         "anchor": "y",
         "domain": [
          0,
          1
         ],
         "title": {
          "text": "store_count"
         }
        },
        "yaxis": {
         "anchor": "x",
         "domain": [
          0,
          1
         ],
         "title": {
          "text": "city"
         }
        }
       }
      },
      "text/html": [
       "<div>\n",
       "        \n",
       "        \n",
       "            <div id=\"edfaccea-7de6-480a-aaf8-cf8def1516a5\" class=\"plotly-graph-div\" style=\"height:525px; width:100%;\"></div>\n",
       "            <script type=\"text/javascript\">\n",
       "                require([\"plotly\"], function(Plotly) {\n",
       "                    window.PLOTLYENV=window.PLOTLYENV || {};\n",
       "                    \n",
       "                if (document.getElementById(\"edfaccea-7de6-480a-aaf8-cf8def1516a5\")) {\n",
       "                    Plotly.newPlot(\n",
       "                        'edfaccea-7de6-480a-aaf8-cf8def1516a5',\n",
       "                        [{\"alignmentgroup\": \"True\", \"hovertemplate\": \"<b>%{hovertext}</b><br><br>store_count=%{x}<br>city=%{y}<extra></extra>\", \"hovertext\": [\"Jakarta\", \"Taipei City\", \"Los Angeles\", \"Singapore\", \"Calgary\", \"San Diego\", \"Vancouver\", \"Moscow\", \"Houston\", \"Las Vegas\", \"Seattle\", \"Mexico City\", \"Chicago\", \"Toronto\", \"London\", \"New York\", \"Beijing\", \"Istanbul\", \"Seoul\", \"Shanghai\"], \"legendgroup\": \"\", \"marker\": {\"color\": \"#636efa\"}, \"name\": \"\", \"offsetgroup\": \"\", \"orientation\": \"h\", \"showlegend\": false, \"textposition\": \"auto\", \"type\": \"bar\", \"x\": [123, 126, 127, 127, 130, 135, 141, 151, 154, 156, 156, 180, 180, 192, 216, 232, 234, 288, 379, 544], \"xaxis\": \"x\", \"y\": [\"Jakarta\", \"Taipei City\", \"Los Angeles\", \"Singapore\", \"Calgary\", \"San Diego\", \"Vancouver\", \"Moscow\", \"Houston\", \"Las Vegas\", \"Seattle\", \"Mexico City\", \"Chicago\", \"Toronto\", \"London\", \"New York\", \"Beijing\", \"Istanbul\", \"Seoul\", \"Shanghai\"], \"yaxis\": \"y\"}],\n",
       "                        {\"barmode\": \"relative\", \"legend\": {\"tracegroupgap\": 0}, \"template\": {\"data\": {\"bar\": [{\"error_x\": {\"color\": \"#2a3f5f\"}, \"error_y\": {\"color\": \"#2a3f5f\"}, \"marker\": {\"line\": {\"color\": \"#E5ECF6\", \"width\": 0.5}}, \"type\": \"bar\"}], \"barpolar\": [{\"marker\": {\"line\": {\"color\": \"#E5ECF6\", \"width\": 0.5}}, \"type\": \"barpolar\"}], \"carpet\": [{\"aaxis\": {\"endlinecolor\": \"#2a3f5f\", \"gridcolor\": \"white\", \"linecolor\": \"white\", \"minorgridcolor\": \"white\", \"startlinecolor\": \"#2a3f5f\"}, \"baxis\": {\"endlinecolor\": \"#2a3f5f\", \"gridcolor\": \"white\", \"linecolor\": \"white\", \"minorgridcolor\": \"white\", \"startlinecolor\": \"#2a3f5f\"}, \"type\": \"carpet\"}], \"choropleth\": [{\"colorbar\": {\"outlinewidth\": 0, \"ticks\": \"\"}, \"type\": \"choropleth\"}], \"contour\": [{\"colorbar\": {\"outlinewidth\": 0, \"ticks\": \"\"}, \"colorscale\": [[0.0, \"#0d0887\"], [0.1111111111111111, \"#46039f\"], [0.2222222222222222, \"#7201a8\"], [0.3333333333333333, \"#9c179e\"], [0.4444444444444444, \"#bd3786\"], [0.5555555555555556, \"#d8576b\"], [0.6666666666666666, \"#ed7953\"], [0.7777777777777778, \"#fb9f3a\"], [0.8888888888888888, \"#fdca26\"], [1.0, \"#f0f921\"]], \"type\": \"contour\"}], \"contourcarpet\": [{\"colorbar\": {\"outlinewidth\": 0, \"ticks\": \"\"}, \"type\": \"contourcarpet\"}], \"heatmap\": [{\"colorbar\": {\"outlinewidth\": 0, \"ticks\": \"\"}, \"colorscale\": [[0.0, \"#0d0887\"], [0.1111111111111111, \"#46039f\"], [0.2222222222222222, \"#7201a8\"], [0.3333333333333333, \"#9c179e\"], [0.4444444444444444, \"#bd3786\"], [0.5555555555555556, \"#d8576b\"], [0.6666666666666666, \"#ed7953\"], [0.7777777777777778, \"#fb9f3a\"], [0.8888888888888888, \"#fdca26\"], [1.0, \"#f0f921\"]], \"type\": \"heatmap\"}], \"heatmapgl\": [{\"colorbar\": {\"outlinewidth\": 0, \"ticks\": \"\"}, \"colorscale\": [[0.0, \"#0d0887\"], [0.1111111111111111, \"#46039f\"], [0.2222222222222222, \"#7201a8\"], [0.3333333333333333, \"#9c179e\"], [0.4444444444444444, \"#bd3786\"], [0.5555555555555556, \"#d8576b\"], [0.6666666666666666, \"#ed7953\"], [0.7777777777777778, \"#fb9f3a\"], [0.8888888888888888, \"#fdca26\"], [1.0, \"#f0f921\"]], \"type\": \"heatmapgl\"}], \"histogram\": [{\"marker\": {\"colorbar\": {\"outlinewidth\": 0, \"ticks\": \"\"}}, \"type\": \"histogram\"}], \"histogram2d\": [{\"colorbar\": {\"outlinewidth\": 0, \"ticks\": \"\"}, \"colorscale\": [[0.0, \"#0d0887\"], [0.1111111111111111, \"#46039f\"], [0.2222222222222222, \"#7201a8\"], [0.3333333333333333, \"#9c179e\"], [0.4444444444444444, \"#bd3786\"], [0.5555555555555556, \"#d8576b\"], [0.6666666666666666, \"#ed7953\"], [0.7777777777777778, \"#fb9f3a\"], [0.8888888888888888, \"#fdca26\"], [1.0, \"#f0f921\"]], \"type\": \"histogram2d\"}], \"histogram2dcontour\": [{\"colorbar\": {\"outlinewidth\": 0, \"ticks\": \"\"}, \"colorscale\": [[0.0, \"#0d0887\"], [0.1111111111111111, \"#46039f\"], [0.2222222222222222, \"#7201a8\"], [0.3333333333333333, \"#9c179e\"], [0.4444444444444444, \"#bd3786\"], [0.5555555555555556, \"#d8576b\"], [0.6666666666666666, \"#ed7953\"], [0.7777777777777778, \"#fb9f3a\"], [0.8888888888888888, \"#fdca26\"], [1.0, \"#f0f921\"]], \"type\": \"histogram2dcontour\"}], \"mesh3d\": [{\"colorbar\": {\"outlinewidth\": 0, \"ticks\": \"\"}, \"type\": \"mesh3d\"}], \"parcoords\": [{\"line\": {\"colorbar\": {\"outlinewidth\": 0, \"ticks\": \"\"}}, \"type\": \"parcoords\"}], \"pie\": [{\"automargin\": true, \"type\": \"pie\"}], \"scatter\": [{\"marker\": {\"colorbar\": {\"outlinewidth\": 0, \"ticks\": \"\"}}, \"type\": \"scatter\"}], \"scatter3d\": [{\"line\": {\"colorbar\": {\"outlinewidth\": 0, \"ticks\": \"\"}}, \"marker\": {\"colorbar\": {\"outlinewidth\": 0, \"ticks\": \"\"}}, \"type\": \"scatter3d\"}], \"scattercarpet\": [{\"marker\": {\"colorbar\": {\"outlinewidth\": 0, \"ticks\": \"\"}}, \"type\": \"scattercarpet\"}], \"scattergeo\": [{\"marker\": {\"colorbar\": {\"outlinewidth\": 0, \"ticks\": \"\"}}, \"type\": \"scattergeo\"}], \"scattergl\": [{\"marker\": {\"colorbar\": {\"outlinewidth\": 0, \"ticks\": \"\"}}, \"type\": \"scattergl\"}], \"scattermapbox\": [{\"marker\": {\"colorbar\": {\"outlinewidth\": 0, \"ticks\": \"\"}}, \"type\": \"scattermapbox\"}], \"scatterpolar\": [{\"marker\": {\"colorbar\": {\"outlinewidth\": 0, \"ticks\": \"\"}}, \"type\": \"scatterpolar\"}], \"scatterpolargl\": [{\"marker\": {\"colorbar\": {\"outlinewidth\": 0, \"ticks\": \"\"}}, \"type\": \"scatterpolargl\"}], \"scatterternary\": [{\"marker\": {\"colorbar\": {\"outlinewidth\": 0, \"ticks\": \"\"}}, \"type\": \"scatterternary\"}], \"surface\": [{\"colorbar\": {\"outlinewidth\": 0, \"ticks\": \"\"}, \"colorscale\": [[0.0, \"#0d0887\"], [0.1111111111111111, \"#46039f\"], [0.2222222222222222, \"#7201a8\"], [0.3333333333333333, \"#9c179e\"], [0.4444444444444444, \"#bd3786\"], [0.5555555555555556, \"#d8576b\"], [0.6666666666666666, \"#ed7953\"], [0.7777777777777778, \"#fb9f3a\"], [0.8888888888888888, \"#fdca26\"], [1.0, \"#f0f921\"]], \"type\": \"surface\"}], \"table\": [{\"cells\": {\"fill\": {\"color\": \"#EBF0F8\"}, \"line\": {\"color\": \"white\"}}, \"header\": {\"fill\": {\"color\": \"#C8D4E3\"}, \"line\": {\"color\": \"white\"}}, \"type\": \"table\"}]}, \"layout\": {\"annotationdefaults\": {\"arrowcolor\": \"#2a3f5f\", \"arrowhead\": 0, \"arrowwidth\": 1}, \"coloraxis\": {\"colorbar\": {\"outlinewidth\": 0, \"ticks\": \"\"}}, \"colorscale\": {\"diverging\": [[0, \"#8e0152\"], [0.1, \"#c51b7d\"], [0.2, \"#de77ae\"], [0.3, \"#f1b6da\"], [0.4, \"#fde0ef\"], [0.5, \"#f7f7f7\"], [0.6, \"#e6f5d0\"], [0.7, \"#b8e186\"], [0.8, \"#7fbc41\"], [0.9, \"#4d9221\"], [1, \"#276419\"]], \"sequential\": [[0.0, \"#0d0887\"], [0.1111111111111111, \"#46039f\"], [0.2222222222222222, \"#7201a8\"], [0.3333333333333333, \"#9c179e\"], [0.4444444444444444, \"#bd3786\"], [0.5555555555555556, \"#d8576b\"], [0.6666666666666666, \"#ed7953\"], [0.7777777777777778, \"#fb9f3a\"], [0.8888888888888888, \"#fdca26\"], [1.0, \"#f0f921\"]], \"sequentialminus\": [[0.0, \"#0d0887\"], [0.1111111111111111, \"#46039f\"], [0.2222222222222222, \"#7201a8\"], [0.3333333333333333, \"#9c179e\"], [0.4444444444444444, \"#bd3786\"], [0.5555555555555556, \"#d8576b\"], [0.6666666666666666, \"#ed7953\"], [0.7777777777777778, \"#fb9f3a\"], [0.8888888888888888, \"#fdca26\"], [1.0, \"#f0f921\"]]}, \"colorway\": [\"#636efa\", \"#EF553B\", \"#00cc96\", \"#ab63fa\", \"#FFA15A\", \"#19d3f3\", \"#FF6692\", \"#B6E880\", \"#FF97FF\", \"#FECB52\"], \"font\": {\"color\": \"#2a3f5f\"}, \"geo\": {\"bgcolor\": \"white\", \"lakecolor\": \"white\", \"landcolor\": \"#E5ECF6\", \"showlakes\": true, \"showland\": true, \"subunitcolor\": \"white\"}, \"hoverlabel\": {\"align\": \"left\"}, \"hovermode\": \"closest\", \"mapbox\": {\"style\": \"light\"}, \"paper_bgcolor\": \"white\", \"plot_bgcolor\": \"#E5ECF6\", \"polar\": {\"angularaxis\": {\"gridcolor\": \"white\", \"linecolor\": \"white\", \"ticks\": \"\"}, \"bgcolor\": \"#E5ECF6\", \"radialaxis\": {\"gridcolor\": \"white\", \"linecolor\": \"white\", \"ticks\": \"\"}}, \"scene\": {\"xaxis\": {\"backgroundcolor\": \"#E5ECF6\", \"gridcolor\": \"white\", \"gridwidth\": 2, \"linecolor\": \"white\", \"showbackground\": true, \"ticks\": \"\", \"zerolinecolor\": \"white\"}, \"yaxis\": {\"backgroundcolor\": \"#E5ECF6\", \"gridcolor\": \"white\", \"gridwidth\": 2, \"linecolor\": \"white\", \"showbackground\": true, \"ticks\": \"\", \"zerolinecolor\": \"white\"}, \"zaxis\": {\"backgroundcolor\": \"#E5ECF6\", \"gridcolor\": \"white\", \"gridwidth\": 2, \"linecolor\": \"white\", \"showbackground\": true, \"ticks\": \"\", \"zerolinecolor\": \"white\"}}, \"shapedefaults\": {\"line\": {\"color\": \"#2a3f5f\"}}, \"ternary\": {\"aaxis\": {\"gridcolor\": \"white\", \"linecolor\": \"white\", \"ticks\": \"\"}, \"baxis\": {\"gridcolor\": \"white\", \"linecolor\": \"white\", \"ticks\": \"\"}, \"bgcolor\": \"#E5ECF6\", \"caxis\": {\"gridcolor\": \"white\", \"linecolor\": \"white\", \"ticks\": \"\"}}, \"title\": {\"x\": 0.05}, \"xaxis\": {\"automargin\": true, \"gridcolor\": \"white\", \"linecolor\": \"white\", \"ticks\": \"\", \"title\": {\"standoff\": 15}, \"zerolinecolor\": \"white\", \"zerolinewidth\": 2}, \"yaxis\": {\"automargin\": true, \"gridcolor\": \"white\", \"linecolor\": \"white\", \"ticks\": \"\", \"title\": {\"standoff\": 15}, \"zerolinecolor\": \"white\", \"zerolinewidth\": 2}}}, \"title\": {\"text\": \"Cities With Most Starbucks Locations\"}, \"xaxis\": {\"anchor\": \"y\", \"domain\": [0.0, 1.0], \"title\": {\"text\": \"store_count\"}}, \"yaxis\": {\"anchor\": \"x\", \"domain\": [0.0, 1.0], \"title\": {\"text\": \"city\"}}},\n",
       "                        {\"responsive\": true}\n",
       "                    ).then(function(){\n",
       "                            \n",
       "var gd = document.getElementById('edfaccea-7de6-480a-aaf8-cf8def1516a5');\n",
       "var x = new MutationObserver(function (mutations, observer) {{\n",
       "        var display = window.getComputedStyle(gd).display;\n",
       "        if (!display || display === 'none') {{\n",
       "            console.log([gd, 'removed!']);\n",
       "            Plotly.purge(gd);\n",
       "            observer.disconnect();\n",
       "        }}\n",
       "}});\n",
       "\n",
       "// Listen for the removal of the full notebook cells\n",
       "var notebookContainer = gd.closest('#notebook-container');\n",
       "if (notebookContainer) {{\n",
       "    x.observe(notebookContainer, {childList: true});\n",
       "}}\n",
       "\n",
       "// Listen for the clearing of the current output cell\n",
       "var outputEl = gd.closest('.output');\n",
       "if (outputEl) {{\n",
       "    x.observe(outputEl, {childList: true});\n",
       "}}\n",
       "\n",
       "                        })\n",
       "                };\n",
       "                });\n",
       "            </script>\n",
       "        </div>"
      ]
     },
     "metadata": {},
     "output_type": "display_data"
    }
   ],
   "source": [
    "city_df= starbucks4[['city','store_count']]\n",
    "city_df=city_df.set_index('city')\n",
    "\n",
    "city_df1 = city_df.groupby('city').agg({'store_count':'sum'}).sort_values(by='store_count').tail(20)\n",
    "city_df1.reset_index(inplace=True)\n",
    "city_df1\n",
    "\n",
    "#Display a bar graph\n",
    "fig = px.bar(city_df1, y='city', x ='store_count', title='Cities With Most Starbucks Locations', orientation='h', hover_name='city')\n",
    "fig.show()\n"
   ]
  },
  {
   "cell_type": "code",
   "execution_count": 76,
   "metadata": {},
   "outputs": [
    {
     "data": {
      "text/html": [
       "<div>\n",
       "<style scoped>\n",
       "    .dataframe tbody tr th:only-of-type {\n",
       "        vertical-align: middle;\n",
       "    }\n",
       "\n",
       "    .dataframe tbody tr th {\n",
       "        vertical-align: top;\n",
       "    }\n",
       "\n",
       "    .dataframe thead th {\n",
       "        text-align: right;\n",
       "    }\n",
       "</style>\n",
       "<table border=\"1\" class=\"dataframe\">\n",
       "  <thead>\n",
       "    <tr style=\"text-align: right;\">\n",
       "      <th></th>\n",
       "      <th>city</th>\n",
       "      <th>store_count</th>\n",
       "      <th>gdp_ppp</th>\n",
       "      <th>city_pop</th>\n",
       "      <th>area_mi2</th>\n",
       "      <th>pop_density</th>\n",
       "      <th>store_density</th>\n",
       "    </tr>\n",
       "  </thead>\n",
       "  <tbody>\n",
       "    <tr>\n",
       "      <th>0</th>\n",
       "      <td>Bangalore</td>\n",
       "      <td>10</td>\n",
       "      <td>9.610000e+12</td>\n",
       "      <td>8443675.0</td>\n",
       "      <td>276.51</td>\n",
       "      <td>3053.659904</td>\n",
       "      <td>0.361651</td>\n",
       "    </tr>\n",
       "    <tr>\n",
       "      <th>1</th>\n",
       "      <td>Bangalore</td>\n",
       "      <td>10</td>\n",
       "      <td>9.610000e+12</td>\n",
       "      <td>8443675.0</td>\n",
       "      <td>276.51</td>\n",
       "      <td>3053.659904</td>\n",
       "      <td>0.361651</td>\n",
       "    </tr>\n",
       "    <tr>\n",
       "      <th>2</th>\n",
       "      <td>Bangalore</td>\n",
       "      <td>10</td>\n",
       "      <td>9.610000e+12</td>\n",
       "      <td>8443675.0</td>\n",
       "      <td>276.51</td>\n",
       "      <td>3053.659904</td>\n",
       "      <td>0.361651</td>\n",
       "    </tr>\n",
       "    <tr>\n",
       "      <th>3</th>\n",
       "      <td>Bangalore</td>\n",
       "      <td>10</td>\n",
       "      <td>9.610000e+12</td>\n",
       "      <td>8443675.0</td>\n",
       "      <td>276.51</td>\n",
       "      <td>3053.659904</td>\n",
       "      <td>0.361651</td>\n",
       "    </tr>\n",
       "    <tr>\n",
       "      <th>4</th>\n",
       "      <td>Bangalore</td>\n",
       "      <td>10</td>\n",
       "      <td>9.610000e+12</td>\n",
       "      <td>8443675.0</td>\n",
       "      <td>276.51</td>\n",
       "      <td>3053.659904</td>\n",
       "      <td>0.361651</td>\n",
       "    </tr>\n",
       "    <tr>\n",
       "      <th>...</th>\n",
       "      <td>...</td>\n",
       "      <td>...</td>\n",
       "      <td>...</td>\n",
       "      <td>...</td>\n",
       "      <td>...</td>\n",
       "      <td>...</td>\n",
       "      <td>...</td>\n",
       "    </tr>\n",
       "    <tr>\n",
       "      <th>4723</th>\n",
       "      <td>Wuhan</td>\n",
       "      <td>67</td>\n",
       "      <td>2.350000e+13</td>\n",
       "      <td>10892900.0</td>\n",
       "      <td>3312.66</td>\n",
       "      <td>328.826381</td>\n",
       "      <td>0.202254</td>\n",
       "    </tr>\n",
       "    <tr>\n",
       "      <th>4724</th>\n",
       "      <td>Wuhan</td>\n",
       "      <td>67</td>\n",
       "      <td>2.350000e+13</td>\n",
       "      <td>10892900.0</td>\n",
       "      <td>3312.66</td>\n",
       "      <td>328.826381</td>\n",
       "      <td>0.202254</td>\n",
       "    </tr>\n",
       "    <tr>\n",
       "      <th>4725</th>\n",
       "      <td>Wuhan</td>\n",
       "      <td>67</td>\n",
       "      <td>2.350000e+13</td>\n",
       "      <td>10892900.0</td>\n",
       "      <td>3312.66</td>\n",
       "      <td>328.826381</td>\n",
       "      <td>0.202254</td>\n",
       "    </tr>\n",
       "    <tr>\n",
       "      <th>4726</th>\n",
       "      <td>Wuhan</td>\n",
       "      <td>67</td>\n",
       "      <td>2.350000e+13</td>\n",
       "      <td>10892900.0</td>\n",
       "      <td>3312.66</td>\n",
       "      <td>328.826381</td>\n",
       "      <td>0.202254</td>\n",
       "    </tr>\n",
       "    <tr>\n",
       "      <th>4727</th>\n",
       "      <td>Wuhan</td>\n",
       "      <td>67</td>\n",
       "      <td>2.350000e+13</td>\n",
       "      <td>10892900.0</td>\n",
       "      <td>3312.66</td>\n",
       "      <td>328.826381</td>\n",
       "      <td>0.202254</td>\n",
       "    </tr>\n",
       "  </tbody>\n",
       "</table>\n",
       "<p>4728 rows × 7 columns</p>\n",
       "</div>"
      ],
      "text/plain": [
       "           city  store_count       gdp_ppp    city_pop  area_mi2  pop_density  \\\n",
       "0     Bangalore           10  9.610000e+12   8443675.0    276.51  3053.659904   \n",
       "1     Bangalore           10  9.610000e+12   8443675.0    276.51  3053.659904   \n",
       "2     Bangalore           10  9.610000e+12   8443675.0    276.51  3053.659904   \n",
       "3     Bangalore           10  9.610000e+12   8443675.0    276.51  3053.659904   \n",
       "4     Bangalore           10  9.610000e+12   8443675.0    276.51  3053.659904   \n",
       "...         ...          ...           ...         ...       ...          ...   \n",
       "4723      Wuhan           67  2.350000e+13  10892900.0   3312.66   328.826381   \n",
       "4724      Wuhan           67  2.350000e+13  10892900.0   3312.66   328.826381   \n",
       "4725      Wuhan           67  2.350000e+13  10892900.0   3312.66   328.826381   \n",
       "4726      Wuhan           67  2.350000e+13  10892900.0   3312.66   328.826381   \n",
       "4727      Wuhan           67  2.350000e+13  10892900.0   3312.66   328.826381   \n",
       "\n",
       "      store_density  \n",
       "0          0.361651  \n",
       "1          0.361651  \n",
       "2          0.361651  \n",
       "3          0.361651  \n",
       "4          0.361651  \n",
       "...             ...  \n",
       "4723       0.202254  \n",
       "4724       0.202254  \n",
       "4725       0.202254  \n",
       "4726       0.202254  \n",
       "4727       0.202254  \n",
       "\n",
       "[4728 rows x 7 columns]"
      ]
     },
     "execution_count": 76,
     "metadata": {},
     "output_type": "execute_result"
    }
   ],
   "source": [
    "city_df3 = city_df.groupby('city').agg({'store_count':'sum'})\n",
    "city_df3.reset_index(inplace=True)\n",
    "\n",
    "\n",
    "city_df4 = starbucks4[['city', 'gdp_ppp', 'city_pop', 'area_mi2']]\n",
    "\n",
    "city_df4= city_df4.loc[(city_df4.city_pop > 5e5) & (city_df4.gdp_ppp>5e11)]\n",
    "\n",
    "\n",
    "\n",
    "city_df5 = pd.merge(city_df3, city_df4,left_on='city', right_on='city')\n",
    "city_df5.dropna(inplace=True)\n",
    "city_df5\n",
    "\n",
    "\n",
    "\n",
    "city_df5['pop_density'] = city_df5['city_pop'] /(city_df5['area_mi2'] *10)\n",
    "city_df5\n",
    "city_df5['store_density']=city_df5['store_count'] *10 /city_df5['area_mi2']\n",
    "city_df5\n"
   ]
  },
  {
   "cell_type": "code",
   "execution_count": 89,
   "metadata": {},
   "outputs": [],
   "source": [
    "\n",
    "# fig = px.scatter(city_df5, y=\"pop_density\", x=\"store_density\", size='store_count', color='city',\n",
    "#                  )\n",
    "# fig.show()"
   ]
  },
  {
   "cell_type": "code",
   "execution_count": 90,
   "metadata": {},
   "outputs": [
    {
     "data": {
      "image/svg+xml": [
       "<svg class=\"main-svg\" xmlns=\"http://www.w3.org/2000/svg\" xmlns:xlink=\"http://www.w3.org/1999/xlink\" width=\"700\" height=\"450\" style=\"\" viewBox=\"0 0 700 450\"><rect x=\"0\" y=\"0\" width=\"700\" height=\"450\" style=\"fill: rgb(255, 255, 255); fill-opacity: 1;\"/><defs id=\"defs-a1079e\"><g class=\"clips\"><clipPath id=\"clipa1079exyplot\" class=\"plotclip\"><rect width=\"150.07999999999998\" height=\"285\"/></clipPath><clipPath id=\"clipa1079ex2y2plot\" class=\"plotclip\"><rect width=\"150.07999999999998\" height=\"285\"/></clipPath><clipPath id=\"clipa1079ex3y3plot\" class=\"plotclip\"><rect width=\"150.07999999999998\" height=\"285\"/></clipPath><clipPath class=\"axesclip\" id=\"clipa1079ex\"><rect x=\"80\" y=\"0\" width=\"150.07999999999998\" height=\"450\"/></clipPath><clipPath class=\"axesclip\" id=\"clipa1079ey\"><rect x=\"0\" y=\"60\" width=\"700\" height=\"285\"/></clipPath><clipPath class=\"axesclip\" id=\"clipa1079exy\"><rect x=\"80\" y=\"60\" width=\"150.07999999999998\" height=\"285\"/></clipPath><clipPath class=\"axesclip\" id=\"clipa1079ey2\"><rect x=\"0\" y=\"60\" width=\"700\" height=\"285\"/></clipPath><clipPath class=\"axesclip\" id=\"clipa1079exy2\"><rect x=\"80\" y=\"60\" width=\"150.07999999999998\" height=\"285\"/></clipPath><clipPath class=\"axesclip\" id=\"clipa1079ey3\"><rect x=\"0\" y=\"60\" width=\"700\" height=\"285\"/></clipPath><clipPath class=\"axesclip\" id=\"clipa1079exy3\"><rect x=\"80\" y=\"60\" width=\"150.07999999999998\" height=\"285\"/></clipPath><clipPath class=\"axesclip\" id=\"clipa1079ex2\"><rect x=\"239.45999999999998\" y=\"0\" width=\"150.07999999999998\" height=\"450\"/></clipPath><clipPath class=\"axesclip\" id=\"clipa1079ex2y\"><rect x=\"239.45999999999998\" y=\"60\" width=\"150.07999999999998\" height=\"285\"/></clipPath><clipPath class=\"axesclip\" id=\"clipa1079ex2y2\"><rect x=\"239.45999999999998\" y=\"60\" width=\"150.07999999999998\" height=\"285\"/></clipPath><clipPath class=\"axesclip\" id=\"clipa1079ex2y3\"><rect x=\"239.45999999999998\" y=\"60\" width=\"150.07999999999998\" height=\"285\"/></clipPath><clipPath class=\"axesclip\" id=\"clipa1079ex3\"><rect x=\"398.91999999999996\" y=\"0\" width=\"150.07999999999998\" height=\"450\"/></clipPath><clipPath class=\"axesclip\" id=\"clipa1079ex3y\"><rect x=\"398.91999999999996\" y=\"60\" width=\"150.07999999999998\" height=\"285\"/></clipPath><clipPath class=\"axesclip\" id=\"clipa1079ex3y2\"><rect x=\"398.91999999999996\" y=\"60\" width=\"150.07999999999998\" height=\"285\"/></clipPath><clipPath class=\"axesclip\" id=\"clipa1079ex3y3\"><rect x=\"398.91999999999996\" y=\"60\" width=\"150.07999999999998\" height=\"285\"/></clipPath></g><g class=\"gradients\"/></defs><g class=\"bglayer\"><rect class=\"bg\" x=\"80\" y=\"60\" width=\"150.07999999999998\" height=\"285\" style=\"fill: rgb(229, 236, 246); fill-opacity: 1; stroke-width: 0;\"/><rect class=\"bg\" x=\"239.45999999999998\" y=\"60\" width=\"150.07999999999998\" height=\"285\" style=\"fill: rgb(229, 236, 246); fill-opacity: 1; stroke-width: 0;\"/><rect class=\"bg\" x=\"398.91999999999996\" y=\"60\" width=\"150.07999999999998\" height=\"285\" style=\"fill: rgb(229, 236, 246); fill-opacity: 1; stroke-width: 0;\"/></g><g class=\"layer-below\"><g class=\"imagelayer\"/><g class=\"shapelayer\"/></g><g class=\"cartesianlayer\"><g class=\"subplot xy\"><g class=\"layer-subplot\"><g class=\"shapelayer\"/><g class=\"imagelayer\"/></g><g class=\"gridlayer\"><g class=\"x\"><path class=\"xgrid crisp\" transform=\"translate(98.76,0)\" d=\"M0,60v285\" style=\"stroke: rgb(255, 255, 255); stroke-opacity: 1; stroke-width: 1px;\"/><path class=\"xgrid crisp\" transform=\"translate(136.28,0)\" d=\"M0,60v285\" style=\"stroke: rgb(255, 255, 255); stroke-opacity: 1; stroke-width: 1px;\"/><path class=\"xgrid crisp\" transform=\"translate(173.8,0)\" d=\"M0,60v285\" style=\"stroke: rgb(255, 255, 255); stroke-opacity: 1; stroke-width: 1px;\"/><path class=\"xgrid crisp\" transform=\"translate(211.32,0)\" d=\"M0,60v285\" style=\"stroke: rgb(255, 255, 255); stroke-opacity: 1; stroke-width: 1px;\"/></g><g class=\"y\"><path class=\"ygrid crisp\" transform=\"translate(0,287.55)\" d=\"M80,0h150.07999999999998\" style=\"stroke: rgb(255, 255, 255); stroke-opacity: 1; stroke-width: 1px;\"/><path class=\"ygrid crisp\" transform=\"translate(0,230.11)\" d=\"M80,0h150.07999999999998\" style=\"stroke: rgb(255, 255, 255); stroke-opacity: 1; stroke-width: 1px;\"/><path class=\"ygrid crisp\" transform=\"translate(0,172.66)\" d=\"M80,0h150.07999999999998\" style=\"stroke: rgb(255, 255, 255); stroke-opacity: 1; stroke-width: 1px;\"/><path class=\"ygrid crisp\" transform=\"translate(0,115.21000000000001)\" d=\"M80,0h150.07999999999998\" style=\"stroke: rgb(255, 255, 255); stroke-opacity: 1; stroke-width: 1px;\"/></g></g><g class=\"zerolinelayer\"><path class=\"yzl zl crisp\" transform=\"translate(0,345)\" d=\"M80,0h150.07999999999998\" style=\"stroke: rgb(255, 255, 255); stroke-opacity: 1; stroke-width: 2px;\"/></g><path class=\"xlines-below\"/><path class=\"ylines-below\"/><g class=\"overlines-below\"/><g class=\"xaxislayer-below\"/><g class=\"yaxislayer-below\"/><g class=\"overaxes-below\"/><g class=\"plot\" transform=\"translate(80, 60)\" clip-path=\"url('#clipa1079exyplot')\"><g class=\"barlayer mlayer\"><g class=\"trace bars\" style=\"opacity: 1;\"><g class=\"points\"><g class=\"point\"><path d=\"M3.75,285V284.97H33.77V285Z\" style=\"vector-effect: non-scaling-stroke; opacity: 1; stroke-width: 0.5px; fill: rgb(99, 110, 250); fill-opacity: 1; stroke: rgb(229, 236, 246); stroke-opacity: 1;\"/></g><g class=\"point\"><path d=\"M41.27,285V284.51H71.29V285Z\" style=\"vector-effect: non-scaling-stroke; opacity: 1; stroke-width: 0.5px; fill: rgb(99, 110, 250); fill-opacity: 1; stroke: rgb(229, 236, 246); stroke-opacity: 1;\"/></g><g class=\"point\"><path d=\"M3.75,284.97V284.94H33.77V284.97Z\" style=\"vector-effect: non-scaling-stroke; opacity: 1; stroke-width: 0.5px; fill: rgb(99, 110, 250); fill-opacity: 1; stroke: rgb(229, 236, 246); stroke-opacity: 1;\"/></g><g class=\"point\"><path d=\"M3.75,284.94V284.83H33.77V284.94Z\" style=\"vector-effect: non-scaling-stroke; opacity: 1; stroke-width: 0.5px; fill: rgb(99, 110, 250); fill-opacity: 1; stroke: rgb(229, 236, 246); stroke-opacity: 1;\"/></g><g class=\"point\"><path d=\"M3.75,284.83V284.28H33.77V284.83Z\" style=\"vector-effect: non-scaling-stroke; opacity: 1; stroke-width: 0.5px; fill: rgb(99, 110, 250); fill-opacity: 1; stroke: rgb(229, 236, 246); stroke-opacity: 1;\"/></g><g class=\"point\"><path d=\"M3.75,284.28V284.14H33.77V284.28Z\" style=\"vector-effect: non-scaling-stroke; opacity: 1; stroke-width: 0.5px; fill: rgb(99, 110, 250); fill-opacity: 1; stroke: rgb(229, 236, 246); stroke-opacity: 1;\"/></g><g class=\"point\"><path d=\"M3.75,284.14V283.85H33.77V284.14Z\" style=\"vector-effect: non-scaling-stroke; opacity: 1; stroke-width: 0.5px; fill: rgb(99, 110, 250); fill-opacity: 1; stroke: rgb(229, 236, 246); stroke-opacity: 1;\"/></g><g class=\"point\"><path d=\"M78.79,285V284.2H108.81V285Z\" style=\"vector-effect: non-scaling-stroke; opacity: 1; stroke-width: 0.5px; fill: rgb(99, 110, 250); fill-opacity: 1; stroke: rgb(229, 236, 246); stroke-opacity: 1;\"/></g><g class=\"point\"><path d=\"M3.75,283.85V283.25H33.77V283.85Z\" style=\"vector-effect: non-scaling-stroke; opacity: 1; stroke-width: 0.5px; fill: rgb(99, 110, 250); fill-opacity: 1; stroke: rgb(229, 236, 246); stroke-opacity: 1;\"/></g><g class=\"point\"><path d=\"M3.75,283.25V282.36H33.77V283.25Z\" style=\"vector-effect: non-scaling-stroke; opacity: 1; stroke-width: 0.5px; fill: rgb(99, 110, 250); fill-opacity: 1; stroke: rgb(229, 236, 246); stroke-opacity: 1;\"/></g><g class=\"point\"><path d=\"M3.75,282.36V282.13H33.77V282.36Z\" style=\"vector-effect: non-scaling-stroke; opacity: 1; stroke-width: 0.5px; fill: rgb(99, 110, 250); fill-opacity: 1; stroke: rgb(229, 236, 246); stroke-opacity: 1;\"/></g><g class=\"point\"><path d=\"M41.27,284.51V282.39H71.29V284.51Z\" style=\"vector-effect: non-scaling-stroke; opacity: 1; stroke-width: 0.5px; fill: rgb(99, 110, 250); fill-opacity: 1; stroke: rgb(229, 236, 246); stroke-opacity: 1;\"/></g><g class=\"point\"><path d=\"M116.31,285V284.57H146.33V285Z\" style=\"vector-effect: non-scaling-stroke; opacity: 1; stroke-width: 0.5px; fill: rgb(99, 110, 250); fill-opacity: 1; stroke: rgb(229, 236, 246); stroke-opacity: 1;\"/></g><g class=\"point\"><path d=\"M3.75,282.13V280.89H33.77V282.13Z\" style=\"vector-effect: non-scaling-stroke; opacity: 1; stroke-width: 0.5px; fill: rgb(99, 110, 250); fill-opacity: 1; stroke: rgb(229, 236, 246); stroke-opacity: 1;\"/></g><g class=\"point\"><path d=\"M41.27,282.39V278.31H71.29V282.39Z\" style=\"vector-effect: non-scaling-stroke; opacity: 1; stroke-width: 0.5px; fill: rgb(99, 110, 250); fill-opacity: 1; stroke: rgb(229, 236, 246); stroke-opacity: 1;\"/></g><g class=\"point\"><path d=\"M3.75,280.89V280.38H33.77V280.89Z\" style=\"vector-effect: non-scaling-stroke; opacity: 1; stroke-width: 0.5px; fill: rgb(99, 110, 250); fill-opacity: 1; stroke: rgb(229, 236, 246); stroke-opacity: 1;\"/></g><g class=\"point\"><path d=\"M3.75,280.38V279.57H33.77V280.38Z\" style=\"vector-effect: non-scaling-stroke; opacity: 1; stroke-width: 0.5px; fill: rgb(99, 110, 250); fill-opacity: 1; stroke: rgb(229, 236, 246); stroke-opacity: 1;\"/></g><g class=\"point\"><path d=\"M78.79,284.2V283.74H108.81V284.2Z\" style=\"vector-effect: non-scaling-stroke; opacity: 1; stroke-width: 0.5px; fill: rgb(99, 110, 250); fill-opacity: 1; stroke: rgb(229, 236, 246); stroke-opacity: 1;\"/></g><g class=\"point\"><path d=\"M3.75,279.57V277.47H33.77V279.57Z\" style=\"vector-effect: non-scaling-stroke; opacity: 1; stroke-width: 0.5px; fill: rgb(99, 110, 250); fill-opacity: 1; stroke: rgb(229, 236, 246); stroke-opacity: 1;\"/></g><g class=\"point\"><path d=\"M3.75,277.47V277.24H33.77V277.47Z\" style=\"vector-effect: non-scaling-stroke; opacity: 1; stroke-width: 0.5px; fill: rgb(99, 110, 250); fill-opacity: 1; stroke: rgb(229, 236, 246); stroke-opacity: 1;\"/></g><g class=\"point\"><path d=\"M3.75,277.24V277.19H33.77V277.24Z\" style=\"vector-effect: non-scaling-stroke; opacity: 1; stroke-width: 0.5px; fill: rgb(99, 110, 250); fill-opacity: 1; stroke: rgb(229, 236, 246); stroke-opacity: 1;\"/></g><g class=\"point\"><path d=\"M3.75,277.19V277.13H33.77V277.19Z\" style=\"vector-effect: non-scaling-stroke; opacity: 1; stroke-width: 0.5px; fill: rgb(99, 110, 250); fill-opacity: 1; stroke: rgb(229, 236, 246); stroke-opacity: 1;\"/></g><g class=\"point\"><path d=\"M3.75,277.13V276.87H33.77V277.13Z\" style=\"vector-effect: non-scaling-stroke; opacity: 1; stroke-width: 0.5px; fill: rgb(99, 110, 250); fill-opacity: 1; stroke: rgb(229, 236, 246); stroke-opacity: 1;\"/></g><g class=\"point\"><path d=\"M41.27,278.31V278.02H71.29V278.31Z\" style=\"vector-effect: non-scaling-stroke; opacity: 1; stroke-width: 0.5px; fill: rgb(99, 110, 250); fill-opacity: 1; stroke: rgb(229, 236, 246); stroke-opacity: 1;\"/></g><g class=\"point\"><path d=\"M3.75,276.87V275.46H33.77V276.87Z\" style=\"vector-effect: non-scaling-stroke; opacity: 1; stroke-width: 0.5px; fill: rgb(99, 110, 250); fill-opacity: 1; stroke: rgb(229, 236, 246); stroke-opacity: 1;\"/></g><g class=\"point\"><path d=\"M3.75,275.46V274.98H33.77V275.46Z\" style=\"vector-effect: non-scaling-stroke; opacity: 1; stroke-width: 0.5px; fill: rgb(99, 110, 250); fill-opacity: 1; stroke: rgb(229, 236, 246); stroke-opacity: 1;\"/></g><g class=\"point\"><path d=\"M78.79,283.74V282.21H108.81V283.74Z\" style=\"vector-effect: non-scaling-stroke; opacity: 1; stroke-width: 0.5px; fill: rgb(99, 110, 250); fill-opacity: 1; stroke: rgb(229, 236, 246); stroke-opacity: 1;\"/></g><g class=\"point\"><path d=\"M3.75,274.98V274.66H33.77V274.98Z\" style=\"vector-effect: non-scaling-stroke; opacity: 1; stroke-width: 0.5px; fill: rgb(99, 110, 250); fill-opacity: 1; stroke: rgb(229, 236, 246); stroke-opacity: 1;\"/></g><g class=\"point\"><path d=\"M3.75,274.66V273.88H33.77V274.66Z\" style=\"vector-effect: non-scaling-stroke; opacity: 1; stroke-width: 0.5px; fill: rgb(99, 110, 250); fill-opacity: 1; stroke: rgb(229, 236, 246); stroke-opacity: 1;\"/></g><g class=\"point\"><path d=\"M78.79,282.21V279.14H108.81V282.21Z\" style=\"vector-effect: non-scaling-stroke; opacity: 1; stroke-width: 0.5px; fill: rgb(99, 110, 250); fill-opacity: 1; stroke: rgb(229, 236, 246); stroke-opacity: 1;\"/></g><g class=\"point\"><path d=\"M3.75,273.88V273.83H33.77V273.88Z\" style=\"vector-effect: non-scaling-stroke; opacity: 1; stroke-width: 0.5px; fill: rgb(99, 110, 250); fill-opacity: 1; stroke: rgb(229, 236, 246); stroke-opacity: 1;\"/></g><g class=\"point\"><path d=\"M3.75,273.83V273.74H33.77V273.83Z\" style=\"vector-effect: non-scaling-stroke; opacity: 1; stroke-width: 0.5px; fill: rgb(99, 110, 250); fill-opacity: 1; stroke: rgb(229, 236, 246); stroke-opacity: 1;\"/></g><g class=\"point\"><path d=\"M3.75,273.74V273.65H33.77V273.74Z\" style=\"vector-effect: non-scaling-stroke; opacity: 1; stroke-width: 0.5px; fill: rgb(99, 110, 250); fill-opacity: 1; stroke: rgb(229, 236, 246); stroke-opacity: 1;\"/></g><g class=\"point\"><path d=\"M3.75,273.65V270.75H33.77V273.65Z\" style=\"vector-effect: non-scaling-stroke; opacity: 1; stroke-width: 0.5px; fill: rgb(99, 110, 250); fill-opacity: 1; stroke: rgb(229, 236, 246); stroke-opacity: 1;\"/></g><g class=\"point\"><path d=\"M3.75,270.75V270.24H33.77V270.75Z\" style=\"vector-effect: non-scaling-stroke; opacity: 1; stroke-width: 0.5px; fill: rgb(99, 110, 250); fill-opacity: 1; stroke: rgb(229, 236, 246); stroke-opacity: 1;\"/></g><g class=\"point\"><path d=\"M41.27,278.02V276.38H71.29V278.02Z\" style=\"vector-effect: non-scaling-stroke; opacity: 1; stroke-width: 0.5px; fill: rgb(99, 110, 250); fill-opacity: 1; stroke: rgb(229, 236, 246); stroke-opacity: 1;\"/></g><g class=\"point\"><path d=\"M3.75,270.24V270.12H33.77V270.24Z\" style=\"vector-effect: non-scaling-stroke; opacity: 1; stroke-width: 0.5px; fill: rgb(99, 110, 250); fill-opacity: 1; stroke: rgb(229, 236, 246); stroke-opacity: 1;\"/></g><g class=\"point\"><path d=\"M3.75,270.12V260.76H33.77V270.12Z\" style=\"vector-effect: non-scaling-stroke; opacity: 1; stroke-width: 0.5px; fill: rgb(99, 110, 250); fill-opacity: 1; stroke: rgb(229, 236, 246); stroke-opacity: 1;\"/></g><g class=\"point\"><path d=\"M41.27,276.38V266.42H71.29V276.38Z\" style=\"vector-effect: non-scaling-stroke; opacity: 1; stroke-width: 0.5px; fill: rgb(99, 110, 250); fill-opacity: 1; stroke: rgb(229, 236, 246); stroke-opacity: 1;\"/></g><g class=\"point\"><path d=\"M116.31,284.57V275.89H146.33V284.57Z\" style=\"vector-effect: non-scaling-stroke; opacity: 1; stroke-width: 0.5px; fill: rgb(99, 110, 250); fill-opacity: 1; stroke: rgb(229, 236, 246); stroke-opacity: 1;\"/></g><g class=\"point\"><path d=\"M3.75,260.76V253.52H33.77V260.76Z\" style=\"vector-effect: non-scaling-stroke; opacity: 1; stroke-width: 0.5px; fill: rgb(99, 110, 250); fill-opacity: 1; stroke: rgb(229, 236, 246); stroke-opacity: 1;\"/></g></g></g></g></g><g class=\"overplot\"/><path class=\"xlines-above crisp\" d=\"M79,345.5H230.07999999999998\" style=\"fill: none; stroke-width: 1px; stroke: rgb(255, 255, 255); stroke-opacity: 1;\"/><path class=\"ylines-above crisp\" d=\"M79.5,60V345\" style=\"fill: none; stroke-width: 1px; stroke: rgb(255, 255, 255); stroke-opacity: 1;\"/><g class=\"overlines-above\"/><g class=\"xaxislayer-above\"><g class=\"xtick\"><text text-anchor=\"start\" x=\"0\" y=\"360.4\" transform=\"translate(98.76,0) rotate(30,0,354.4)\" style=\"font-family: 'Open Sans', verdana, arial, sans-serif; font-size: 12px; fill: rgb(42, 63, 95); fill-opacity: 1; white-space: pre;\">Licensed</text></g><g class=\"xtick\"><text text-anchor=\"start\" x=\"0\" y=\"360.4\" transform=\"translate(136.28,0) rotate(30,0,354.4)\" style=\"font-family: 'Open Sans', verdana, arial, sans-serif; font-size: 12px; fill: rgb(42, 63, 95); fill-opacity: 1; white-space: pre;\">Company Owned</text></g><g class=\"xtick\"><text text-anchor=\"start\" x=\"0\" y=\"360.4\" transform=\"translate(173.8,0) rotate(30,0,354.4)\" style=\"font-family: 'Open Sans', verdana, arial, sans-serif; font-size: 12px; fill: rgb(42, 63, 95); fill-opacity: 1; white-space: pre;\">Joint Venture</text></g><g class=\"xtick\"><text text-anchor=\"start\" x=\"0\" y=\"360.4\" transform=\"translate(211.32,0) rotate(30,0,354.4)\" style=\"font-family: 'Open Sans', verdana, arial, sans-serif; font-size: 12px; fill: rgb(42, 63, 95); fill-opacity: 1; white-space: pre;\">Franchise</text></g></g><g class=\"yaxislayer-above\"><g class=\"ytick\"><text text-anchor=\"end\" x=\"76.6\" y=\"4.199999999999999\" transform=\"translate(0,345)\" style=\"font-family: 'Open Sans', verdana, arial, sans-serif; font-size: 12px; fill: rgb(42, 63, 95); fill-opacity: 1; white-space: pre;\">0</text></g><g class=\"ytick\"><text text-anchor=\"end\" x=\"76.6\" y=\"4.199999999999999\" transform=\"translate(0,287.55)\" style=\"font-family: 'Open Sans', verdana, arial, sans-serif; font-size: 12px; fill: rgb(42, 63, 95); fill-opacity: 1; white-space: pre;\">2k</text></g><g class=\"ytick\"><text text-anchor=\"end\" x=\"76.6\" y=\"4.199999999999999\" transform=\"translate(0,230.11)\" style=\"font-family: 'Open Sans', verdana, arial, sans-serif; font-size: 12px; fill: rgb(42, 63, 95); fill-opacity: 1; white-space: pre;\">4k</text></g><g class=\"ytick\"><text text-anchor=\"end\" x=\"76.6\" y=\"4.199999999999999\" transform=\"translate(0,172.66)\" style=\"font-family: 'Open Sans', verdana, arial, sans-serif; font-size: 12px; fill: rgb(42, 63, 95); fill-opacity: 1; white-space: pre;\">6k</text></g><g class=\"ytick\"><text text-anchor=\"end\" x=\"76.6\" y=\"4.199999999999999\" transform=\"translate(0,115.21000000000001)\" style=\"font-family: 'Open Sans', verdana, arial, sans-serif; font-size: 12px; fill: rgb(42, 63, 95); fill-opacity: 1; white-space: pre;\">8k</text></g></g><g class=\"overaxes-above\"/></g><g class=\"subplot x2y2\"><g class=\"layer-subplot\"><g class=\"shapelayer\"/><g class=\"imagelayer\"/></g><g class=\"gridlayer\"><g class=\"x2\"><path class=\"x2grid crisp\" transform=\"translate(258.21999999999997,0)\" d=\"M0,60v285\" style=\"stroke: rgb(255, 255, 255); stroke-opacity: 1; stroke-width: 1px;\"/><path class=\"x2grid crisp\" transform=\"translate(295.74,0)\" d=\"M0,60v285\" style=\"stroke: rgb(255, 255, 255); stroke-opacity: 1; stroke-width: 1px;\"/><path class=\"x2grid crisp\" transform=\"translate(333.26,0)\" d=\"M0,60v285\" style=\"stroke: rgb(255, 255, 255); stroke-opacity: 1; stroke-width: 1px;\"/><path class=\"x2grid crisp\" transform=\"translate(370.78,0)\" d=\"M0,60v285\" style=\"stroke: rgb(255, 255, 255); stroke-opacity: 1; stroke-width: 1px;\"/></g><g class=\"y2\"><path class=\"y2grid crisp\" transform=\"translate(0,287.55)\" d=\"M239.45999999999998,0h150.07999999999998\" style=\"stroke: rgb(255, 255, 255); stroke-opacity: 1; stroke-width: 1px;\"/><path class=\"y2grid crisp\" transform=\"translate(0,230.11)\" d=\"M239.45999999999998,0h150.07999999999998\" style=\"stroke: rgb(255, 255, 255); stroke-opacity: 1; stroke-width: 1px;\"/><path class=\"y2grid crisp\" transform=\"translate(0,172.66)\" d=\"M239.45999999999998,0h150.07999999999998\" style=\"stroke: rgb(255, 255, 255); stroke-opacity: 1; stroke-width: 1px;\"/><path class=\"y2grid crisp\" transform=\"translate(0,115.21000000000001)\" d=\"M239.45999999999998,0h150.07999999999998\" style=\"stroke: rgb(255, 255, 255); stroke-opacity: 1; stroke-width: 1px;\"/></g></g><g class=\"zerolinelayer\"><path class=\"y2zl zl crisp\" transform=\"translate(0,345)\" d=\"M239.45999999999998,0h150.07999999999998\" style=\"stroke: rgb(255, 255, 255); stroke-opacity: 1; stroke-width: 2px;\"/></g><path class=\"xlines-below\"/><path class=\"ylines-below\"/><g class=\"overlines-below\"/><g class=\"xaxislayer-below\"/><g class=\"yaxislayer-below\"/><g class=\"overaxes-below\"/><g class=\"plot\" transform=\"translate(239.45999999999998, 60)\" clip-path=\"url('#clipa1079ex2y2plot')\"><g class=\"barlayer mlayer\"><g class=\"trace bars\" style=\"opacity: 1;\"><g class=\"points\"><g class=\"point\"><path d=\"M78.79,285V284.97H108.81V285Z\" style=\"vector-effect: non-scaling-stroke; opacity: 1; stroke-width: 0.5px; fill: rgb(239, 85, 59); fill-opacity: 1; stroke: rgb(229, 236, 246); stroke-opacity: 1;\"/></g><g class=\"point\"><path d=\"M3.75,285V281.93H33.77V285Z\" style=\"vector-effect: non-scaling-stroke; opacity: 1; stroke-width: 0.5px; fill: rgb(239, 85, 59); fill-opacity: 1; stroke: rgb(229, 236, 246); stroke-opacity: 1;\"/></g><g class=\"point\"><path d=\"M3.75,281.93V281.84H33.77V281.93Z\" style=\"vector-effect: non-scaling-stroke; opacity: 1; stroke-width: 0.5px; fill: rgb(239, 85, 59); fill-opacity: 1; stroke: rgb(229, 236, 246); stroke-opacity: 1;\"/></g><g class=\"point\"><path d=\"M3.75,281.84V281.55H33.77V281.84Z\" style=\"vector-effect: non-scaling-stroke; opacity: 1; stroke-width: 0.5px; fill: rgb(239, 85, 59); fill-opacity: 1; stroke: rgb(229, 236, 246); stroke-opacity: 1;\"/></g><g class=\"point\"><path d=\"M3.75,281.55V281.44H33.77V281.55Z\" style=\"vector-effect: non-scaling-stroke; opacity: 1; stroke-width: 0.5px; fill: rgb(239, 85, 59); fill-opacity: 1; stroke: rgb(229, 236, 246); stroke-opacity: 1;\"/></g><g class=\"point\"><path d=\"M41.27,285V282.07H71.29V285Z\" style=\"vector-effect: non-scaling-stroke; opacity: 1; stroke-width: 0.5px; fill: rgb(239, 85, 59); fill-opacity: 1; stroke: rgb(229, 236, 246); stroke-opacity: 1;\"/></g><g class=\"point\"><path d=\"M41.27,282.07V250.56H71.29V282.07Z\" style=\"vector-effect: non-scaling-stroke; opacity: 1; stroke-width: 0.5px; fill: rgb(239, 85, 59); fill-opacity: 1; stroke: rgb(229, 236, 246); stroke-opacity: 1;\"/></g><g class=\"point\"><path d=\"M3.75,281.44V270.78H33.77V281.44Z\" style=\"vector-effect: non-scaling-stroke; opacity: 1; stroke-width: 0.5px; fill: rgb(239, 85, 59); fill-opacity: 1; stroke: rgb(229, 236, 246); stroke-opacity: 1;\"/></g><g class=\"point\"><path d=\"M3.75,270.78V268.02H33.77V270.78Z\" style=\"vector-effect: non-scaling-stroke; opacity: 1; stroke-width: 0.5px; fill: rgb(239, 85, 59); fill-opacity: 1; stroke: rgb(229, 236, 246); stroke-opacity: 1;\"/></g><g class=\"point\"><path d=\"M3.75,268.02V267.71H33.77V268.02Z\" style=\"vector-effect: non-scaling-stroke; opacity: 1; stroke-width: 0.5px; fill: rgb(239, 85, 59); fill-opacity: 1; stroke: rgb(229, 236, 246); stroke-opacity: 1;\"/></g><g class=\"point\"><path d=\"M3.75,267.71V267.39H33.77V267.71Z\" style=\"vector-effect: non-scaling-stroke; opacity: 1; stroke-width: 0.5px; fill: rgb(239, 85, 59); fill-opacity: 1; stroke: rgb(229, 236, 246); stroke-opacity: 1;\"/></g><g class=\"point\"><path d=\"M3.75,267.39V267.31H33.77V267.39Z\" style=\"vector-effect: non-scaling-stroke; opacity: 1; stroke-width: 0.5px; fill: rgb(239, 85, 59); fill-opacity: 1; stroke: rgb(229, 236, 246); stroke-opacity: 1;\"/></g><g class=\"point\"><path d=\"M3.75,267.31V266.99H33.77V267.31Z\" style=\"vector-effect: non-scaling-stroke; opacity: 1; stroke-width: 0.5px; fill: rgb(239, 85, 59); fill-opacity: 1; stroke: rgb(229, 236, 246); stroke-opacity: 1;\"/></g><g class=\"point\"><path d=\"M3.75,266.99V266.79H33.77V266.99Z\" style=\"vector-effect: non-scaling-stroke; opacity: 1; stroke-width: 0.5px; fill: rgb(239, 85, 59); fill-opacity: 1; stroke: rgb(229, 236, 246); stroke-opacity: 1;\"/></g><g class=\"point\"><path d=\"M3.75,266.79V250.16H33.77V266.79Z\" style=\"vector-effect: non-scaling-stroke; opacity: 1; stroke-width: 0.5px; fill: rgb(239, 85, 59); fill-opacity: 1; stroke: rgb(229, 236, 246); stroke-opacity: 1;\"/></g><g class=\"point\"><path d=\"M3.75,250.16V250.01H33.77V250.16Z\" style=\"vector-effect: non-scaling-stroke; opacity: 1; stroke-width: 0.5px; fill: rgb(239, 85, 59); fill-opacity: 1; stroke: rgb(229, 236, 246); stroke-opacity: 1;\"/></g><g class=\"point\"><path d=\"M3.75,250.01V247.46H33.77V250.01Z\" style=\"vector-effect: non-scaling-stroke; opacity: 1; stroke-width: 0.5px; fill: rgb(239, 85, 59); fill-opacity: 1; stroke: rgb(229, 236, 246); stroke-opacity: 1;\"/></g><g class=\"point\"><path d=\"M41.27,250.56V250.53H71.29V250.56Z\" style=\"vector-effect: non-scaling-stroke; opacity: 1; stroke-width: 0.5px; fill: rgb(239, 85, 59); fill-opacity: 1; stroke: rgb(229, 236, 246); stroke-opacity: 1;\"/></g><g class=\"point\"><path d=\"M3.75,247.46V246.8H33.77V247.46Z\" style=\"vector-effect: non-scaling-stroke; opacity: 1; stroke-width: 0.5px; fill: rgb(239, 85, 59); fill-opacity: 1; stroke: rgb(229, 236, 246); stroke-opacity: 1;\"/></g><g class=\"point\"><path d=\"M3.75,246.8V246.71H33.77V246.8Z\" style=\"vector-effect: non-scaling-stroke; opacity: 1; stroke-width: 0.5px; fill: rgb(239, 85, 59); fill-opacity: 1; stroke: rgb(229, 236, 246); stroke-opacity: 1;\"/></g><g class=\"point\"><path d=\"M41.27,250.53V14.25H71.29V250.53Z\" style=\"vector-effect: non-scaling-stroke; opacity: 1; stroke-width: 0.5px; fill: rgb(239, 85, 59); fill-opacity: 1; stroke: rgb(229, 236, 246); stroke-opacity: 1;\"/></g><g class=\"point\"><path d=\"M3.75,246.71V92.12H33.77V246.71Z\" style=\"vector-effect: non-scaling-stroke; opacity: 1; stroke-width: 0.5px; fill: rgb(239, 85, 59); fill-opacity: 1; stroke: rgb(229, 236, 246); stroke-opacity: 1;\"/></g></g></g></g></g><g class=\"overplot\"/><path class=\"xlines-above crisp\" d=\"M238.45999999999998,345.5H389.53999999999996\" style=\"fill: none; stroke-width: 1px; stroke: rgb(255, 255, 255); stroke-opacity: 1;\"/><path class=\"ylines-above crisp\" d=\"M238.95999999999998,60V345\" style=\"fill: none; stroke-width: 1px; stroke: rgb(255, 255, 255); stroke-opacity: 1;\"/><g class=\"overlines-above\"/><g class=\"xaxislayer-above\"><g class=\"x2tick\"><text text-anchor=\"start\" x=\"0\" y=\"360.4\" transform=\"translate(258.21999999999997,0) rotate(30,0,354.4)\" style=\"font-family: 'Open Sans', verdana, arial, sans-serif; font-size: 12px; fill: rgb(42, 63, 95); fill-opacity: 1; white-space: pre;\">Licensed</text></g><g class=\"x2tick\"><text text-anchor=\"start\" x=\"0\" y=\"360.4\" transform=\"translate(295.74,0) rotate(30,0,354.4)\" style=\"font-family: 'Open Sans', verdana, arial, sans-serif; font-size: 12px; fill: rgb(42, 63, 95); fill-opacity: 1; white-space: pre;\">Company Owned</text></g><g class=\"x2tick\"><text text-anchor=\"start\" x=\"0\" y=\"360.4\" transform=\"translate(333.26,0) rotate(30,0,354.4)\" style=\"font-family: 'Open Sans', verdana, arial, sans-serif; font-size: 12px; fill: rgb(42, 63, 95); fill-opacity: 1; white-space: pre;\">Joint Venture</text></g><g class=\"x2tick\"><text text-anchor=\"start\" x=\"0\" y=\"360.4\" transform=\"translate(370.78,0) rotate(30,0,354.4)\" style=\"font-family: 'Open Sans', verdana, arial, sans-serif; font-size: 12px; fill: rgb(42, 63, 95); fill-opacity: 1; white-space: pre;\">Franchise</text></g></g><g class=\"yaxislayer-above\"/><g class=\"overaxes-above\"/></g><g class=\"subplot x3y3\"><g class=\"layer-subplot\"><g class=\"shapelayer\"/><g class=\"imagelayer\"/></g><g class=\"gridlayer\"><g class=\"x3\"><path class=\"x3grid crisp\" transform=\"translate(417.67999999999995,0)\" d=\"M0,60v285\" style=\"stroke: rgb(255, 255, 255); stroke-opacity: 1; stroke-width: 1px;\"/><path class=\"x3grid crisp\" transform=\"translate(455.19999999999993,0)\" d=\"M0,60v285\" style=\"stroke: rgb(255, 255, 255); stroke-opacity: 1; stroke-width: 1px;\"/><path class=\"x3grid crisp\" transform=\"translate(492.71999999999997,0)\" d=\"M0,60v285\" style=\"stroke: rgb(255, 255, 255); stroke-opacity: 1; stroke-width: 1px;\"/><path class=\"x3grid crisp\" transform=\"translate(530.24,0)\" d=\"M0,60v285\" style=\"stroke: rgb(255, 255, 255); stroke-opacity: 1; stroke-width: 1px;\"/></g><g class=\"y3\"><path class=\"y3grid crisp\" transform=\"translate(0,287.55)\" d=\"M398.91999999999996,0h150.07999999999998\" style=\"stroke: rgb(255, 255, 255); stroke-opacity: 1; stroke-width: 1px;\"/><path class=\"y3grid crisp\" transform=\"translate(0,230.11)\" d=\"M398.91999999999996,0h150.07999999999998\" style=\"stroke: rgb(255, 255, 255); stroke-opacity: 1; stroke-width: 1px;\"/><path class=\"y3grid crisp\" transform=\"translate(0,172.66)\" d=\"M398.91999999999996,0h150.07999999999998\" style=\"stroke: rgb(255, 255, 255); stroke-opacity: 1; stroke-width: 1px;\"/><path class=\"y3grid crisp\" transform=\"translate(0,115.21000000000001)\" d=\"M398.91999999999996,0h150.07999999999998\" style=\"stroke: rgb(255, 255, 255); stroke-opacity: 1; stroke-width: 1px;\"/></g></g><g class=\"zerolinelayer\"><path class=\"y3zl zl crisp\" transform=\"translate(0,345)\" d=\"M398.91999999999996,0h150.07999999999998\" style=\"stroke: rgb(255, 255, 255); stroke-opacity: 1; stroke-width: 2px;\"/></g><path class=\"xlines-below\"/><path class=\"ylines-below\"/><g class=\"overlines-below\"/><g class=\"xaxislayer-below\"/><g class=\"yaxislayer-below\"/><g class=\"overaxes-below\"/><g class=\"plot\" transform=\"translate(398.91999999999996, 60)\" clip-path=\"url('#clipa1079ex3y3plot')\"><g class=\"barlayer mlayer\"><g class=\"trace bars\" style=\"opacity: 1;\"><g class=\"points\"><g class=\"point\"><path d=\"M3.75,285V284.37H33.77V285Z\" style=\"vector-effect: non-scaling-stroke; opacity: 1; stroke-width: 0.5px; fill: rgb(0, 204, 150); fill-opacity: 1; stroke: rgb(229, 236, 246); stroke-opacity: 1;\"/></g><g class=\"point\"><path d=\"M3.75,284.37V284.25H33.77V284.37Z\" style=\"vector-effect: non-scaling-stroke; opacity: 1; stroke-width: 0.5px; fill: rgb(0, 204, 150); fill-opacity: 1; stroke: rgb(229, 236, 246); stroke-opacity: 1;\"/></g><g class=\"point\"><path d=\"M3.75,284.25V283.65H33.77V284.25Z\" style=\"vector-effect: non-scaling-stroke; opacity: 1; stroke-width: 0.5px; fill: rgb(0, 204, 150); fill-opacity: 1; stroke: rgb(229, 236, 246); stroke-opacity: 1;\"/></g><g class=\"point\"><path d=\"M3.75,283.65V283.51H33.77V283.65Z\" style=\"vector-effect: non-scaling-stroke; opacity: 1; stroke-width: 0.5px; fill: rgb(0, 204, 150); fill-opacity: 1; stroke: rgb(229, 236, 246); stroke-opacity: 1;\"/></g><g class=\"point\"><path d=\"M3.75,283.51V283.39H33.77V283.51Z\" style=\"vector-effect: non-scaling-stroke; opacity: 1; stroke-width: 0.5px; fill: rgb(0, 204, 150); fill-opacity: 1; stroke: rgb(229, 236, 246); stroke-opacity: 1;\"/></g><g class=\"point\"><path d=\"M41.27,285V246.54H71.29V285Z\" style=\"vector-effect: non-scaling-stroke; opacity: 1; stroke-width: 0.5px; fill: rgb(0, 204, 150); fill-opacity: 1; stroke: rgb(229, 236, 246); stroke-opacity: 1;\"/></g><g class=\"point\"><path d=\"M78.79,285V249.96H108.81V285Z\" style=\"vector-effect: non-scaling-stroke; opacity: 1; stroke-width: 0.5px; fill: rgb(0, 204, 150); fill-opacity: 1; stroke: rgb(229, 236, 246); stroke-opacity: 1;\"/></g><g class=\"point\"><path d=\"M3.75,283.39V278.36H33.77V283.39Z\" style=\"vector-effect: non-scaling-stroke; opacity: 1; stroke-width: 0.5px; fill: rgb(0, 204, 150); fill-opacity: 1; stroke: rgb(229, 236, 246); stroke-opacity: 1;\"/></g><g class=\"point\"><path d=\"M3.75,278.36V278.08H33.77V278.36Z\" style=\"vector-effect: non-scaling-stroke; opacity: 1; stroke-width: 0.5px; fill: rgb(0, 204, 150); fill-opacity: 1; stroke: rgb(229, 236, 246); stroke-opacity: 1;\"/></g><g class=\"point\"><path d=\"M78.79,249.96V247.43H108.81V249.96Z\" style=\"vector-effect: non-scaling-stroke; opacity: 1; stroke-width: 0.5px; fill: rgb(0, 204, 150); fill-opacity: 1; stroke: rgb(229, 236, 246); stroke-opacity: 1;\"/></g><g class=\"point\"><path d=\"M3.75,278.08V270.38H33.77V278.08Z\" style=\"vector-effect: non-scaling-stroke; opacity: 1; stroke-width: 0.5px; fill: rgb(0, 204, 150); fill-opacity: 1; stroke: rgb(229, 236, 246); stroke-opacity: 1;\"/></g><g class=\"point\"><path d=\"M41.27,246.54V243.64H71.29V246.54Z\" style=\"vector-effect: non-scaling-stroke; opacity: 1; stroke-width: 0.5px; fill: rgb(0, 204, 150); fill-opacity: 1; stroke: rgb(229, 236, 246); stroke-opacity: 1;\"/></g><g class=\"point\"><path d=\"M78.79,247.43V216.69H108.81V247.43Z\" style=\"vector-effect: non-scaling-stroke; opacity: 1; stroke-width: 0.5px; fill: rgb(0, 204, 150); fill-opacity: 1; stroke: rgb(229, 236, 246); stroke-opacity: 1;\"/></g><g class=\"point\"><path d=\"M3.75,270.38V268.48H33.77V270.38Z\" style=\"vector-effect: non-scaling-stroke; opacity: 1; stroke-width: 0.5px; fill: rgb(0, 204, 150); fill-opacity: 1; stroke: rgb(229, 236, 246); stroke-opacity: 1;\"/></g><g class=\"point\"><path d=\"M3.75,268.48V268H33.77V268.48Z\" style=\"vector-effect: non-scaling-stroke; opacity: 1; stroke-width: 0.5px; fill: rgb(0, 204, 150); fill-opacity: 1; stroke: rgb(229, 236, 246); stroke-opacity: 1;\"/></g><g class=\"point\"><path d=\"M3.75,268V267.77H33.77V268Z\" style=\"vector-effect: non-scaling-stroke; opacity: 1; stroke-width: 0.5px; fill: rgb(0, 204, 150); fill-opacity: 1; stroke: rgb(229, 236, 246); stroke-opacity: 1;\"/></g><g class=\"point\"><path d=\"M3.75,267.77V264.72H33.77V267.77Z\" style=\"vector-effect: non-scaling-stroke; opacity: 1; stroke-width: 0.5px; fill: rgb(0, 204, 150); fill-opacity: 1; stroke: rgb(229, 236, 246); stroke-opacity: 1;\"/></g><g class=\"point\"><path d=\"M3.75,264.72V263.89H33.77V264.72Z\" style=\"vector-effect: non-scaling-stroke; opacity: 1; stroke-width: 0.5px; fill: rgb(0, 204, 150); fill-opacity: 1; stroke: rgb(229, 236, 246); stroke-opacity: 1;\"/></g><g class=\"point\"><path d=\"M78.79,216.69V216.52H108.81V216.69Z\" style=\"vector-effect: non-scaling-stroke; opacity: 1; stroke-width: 0.5px; fill: rgb(0, 204, 150); fill-opacity: 1; stroke: rgb(229, 236, 246); stroke-opacity: 1;\"/></g><g class=\"point\"><path d=\"M3.75,263.89V257.34H33.77V263.89Z\" style=\"vector-effect: non-scaling-stroke; opacity: 1; stroke-width: 0.5px; fill: rgb(0, 204, 150); fill-opacity: 1; stroke: rgb(229, 236, 246); stroke-opacity: 1;\"/></g><g class=\"point\"><path d=\"M3.75,257.34V256.65H33.77V257.34Z\" style=\"vector-effect: non-scaling-stroke; opacity: 1; stroke-width: 0.5px; fill: rgb(0, 204, 150); fill-opacity: 1; stroke: rgb(229, 236, 246); stroke-opacity: 1;\"/></g><g class=\"point\"><path d=\"M3.75,256.65V256.3H33.77V256.65Z\" style=\"vector-effect: non-scaling-stroke; opacity: 1; stroke-width: 0.5px; fill: rgb(0, 204, 150); fill-opacity: 1; stroke: rgb(229, 236, 246); stroke-opacity: 1;\"/></g><g class=\"point\"><path d=\"M3.75,256.3V247.75H33.77V256.3Z\" style=\"vector-effect: non-scaling-stroke; opacity: 1; stroke-width: 0.5px; fill: rgb(0, 204, 150); fill-opacity: 1; stroke: rgb(229, 236, 246); stroke-opacity: 1;\"/></g><g class=\"point\"><path d=\"M3.75,247.75V247.23H33.77V247.75Z\" style=\"vector-effect: non-scaling-stroke; opacity: 1; stroke-width: 0.5px; fill: rgb(0, 204, 150); fill-opacity: 1; stroke: rgb(229, 236, 246); stroke-opacity: 1;\"/></g><g class=\"point\"><path d=\"M78.79,216.52V213.45H108.81V216.52Z\" style=\"vector-effect: non-scaling-stroke; opacity: 1; stroke-width: 0.5px; fill: rgb(0, 204, 150); fill-opacity: 1; stroke: rgb(229, 236, 246); stroke-opacity: 1;\"/></g><g class=\"point\"><path d=\"M3.75,247.23V247.17H33.77V247.23Z\" style=\"vector-effect: non-scaling-stroke; opacity: 1; stroke-width: 0.5px; fill: rgb(0, 204, 150); fill-opacity: 1; stroke: rgb(229, 236, 246); stroke-opacity: 1;\"/></g><g class=\"point\"><path d=\"M3.75,247.17V244.24H33.77V247.17Z\" style=\"vector-effect: non-scaling-stroke; opacity: 1; stroke-width: 0.5px; fill: rgb(0, 204, 150); fill-opacity: 1; stroke: rgb(229, 236, 246); stroke-opacity: 1;\"/></g><g class=\"point\"><path d=\"M41.27,243.64V239.9H71.29V243.64Z\" style=\"vector-effect: non-scaling-stroke; opacity: 1; stroke-width: 0.5px; fill: rgb(0, 204, 150); fill-opacity: 1; stroke: rgb(229, 236, 246); stroke-opacity: 1;\"/></g><g class=\"point\"><path d=\"M78.79,213.45V184.93H108.81V213.45Z\" style=\"vector-effect: non-scaling-stroke; opacity: 1; stroke-width: 0.5px; fill: rgb(0, 204, 150); fill-opacity: 1; stroke: rgb(229, 236, 246); stroke-opacity: 1;\"/></g><g class=\"point\"><path d=\"M78.79,184.93V173.61H108.81V184.93Z\" style=\"vector-effect: non-scaling-stroke; opacity: 1; stroke-width: 0.5px; fill: rgb(0, 204, 150); fill-opacity: 1; stroke: rgb(229, 236, 246); stroke-opacity: 1;\"/></g><g class=\"point\"><path d=\"M41.27,239.9V231.6H71.29V239.9Z\" style=\"vector-effect: non-scaling-stroke; opacity: 1; stroke-width: 0.5px; fill: rgb(0, 204, 150); fill-opacity: 1; stroke: rgb(229, 236, 246); stroke-opacity: 1;\"/></g><g class=\"point\"><path d=\"M3.75,244.24V234.88H33.77V244.24Z\" style=\"vector-effect: non-scaling-stroke; opacity: 1; stroke-width: 0.5px; fill: rgb(0, 204, 150); fill-opacity: 1; stroke: rgb(229, 236, 246); stroke-opacity: 1;\"/></g><g class=\"point\"><path d=\"M3.75,234.88V230.74H33.77V234.88Z\" style=\"vector-effect: non-scaling-stroke; opacity: 1; stroke-width: 0.5px; fill: rgb(0, 204, 150); fill-opacity: 1; stroke: rgb(229, 236, 246); stroke-opacity: 1;\"/></g><g class=\"point\"><path d=\"M3.75,230.74V230.02H33.77V230.74Z\" style=\"vector-effect: non-scaling-stroke; opacity: 1; stroke-width: 0.5px; fill: rgb(0, 204, 150); fill-opacity: 1; stroke: rgb(229, 236, 246); stroke-opacity: 1;\"/></g></g></g></g></g><g class=\"overplot\"/><path class=\"xlines-above crisp\" d=\"M397.91999999999996,345.5H549\" style=\"fill: none; stroke-width: 1px; stroke: rgb(255, 255, 255); stroke-opacity: 1;\"/><path class=\"ylines-above crisp\" d=\"M398.41999999999996,60V345\" style=\"fill: none; stroke-width: 1px; stroke: rgb(255, 255, 255); stroke-opacity: 1;\"/><g class=\"overlines-above\"/><g class=\"xaxislayer-above\"><g class=\"x3tick\"><text text-anchor=\"start\" x=\"0\" y=\"360.4\" transform=\"translate(417.67999999999995,0) rotate(30,0,354.4)\" style=\"font-family: 'Open Sans', verdana, arial, sans-serif; font-size: 12px; fill: rgb(42, 63, 95); fill-opacity: 1; white-space: pre;\">Licensed</text></g><g class=\"x3tick\"><text text-anchor=\"start\" x=\"0\" y=\"360.4\" transform=\"translate(455.19999999999993,0) rotate(30,0,354.4)\" style=\"font-family: 'Open Sans', verdana, arial, sans-serif; font-size: 12px; fill: rgb(42, 63, 95); fill-opacity: 1; white-space: pre;\">Company Owned</text></g><g class=\"x3tick\"><text text-anchor=\"start\" x=\"0\" y=\"360.4\" transform=\"translate(492.71999999999997,0) rotate(30,0,354.4)\" style=\"font-family: 'Open Sans', verdana, arial, sans-serif; font-size: 12px; fill: rgb(42, 63, 95); fill-opacity: 1; white-space: pre;\">Joint Venture</text></g><g class=\"x3tick\"><text text-anchor=\"start\" x=\"0\" y=\"360.4\" transform=\"translate(530.24,0) rotate(30,0,354.4)\" style=\"font-family: 'Open Sans', verdana, arial, sans-serif; font-size: 12px; fill: rgb(42, 63, 95); fill-opacity: 1; white-space: pre;\">Franchise</text></g></g><g class=\"yaxislayer-above\"/><g class=\"overaxes-above\"/></g></g><g class=\"polarlayer\"/><g class=\"ternarylayer\"/><g class=\"geolayer\"/><g class=\"funnelarealayer\"/><g class=\"pielayer\"/><g class=\"treemaplayer\"/><g class=\"sunburstlayer\"/><g class=\"glimages\"/><defs id=\"topdefs-a1079e\"><g class=\"clips\"/><clipPath id=\"legenda1079e\"><rect width=\"130\" height=\"83\" x=\"0\" y=\"0\"/></clipPath></defs><g class=\"layer-above\"><g class=\"imagelayer\"/><g class=\"shapelayer\"/></g><g class=\"infolayer\"><g class=\"legend\" pointer-events=\"all\" transform=\"translate(558.38, 60)\"><rect class=\"bg\" shape-rendering=\"crispEdges\" width=\"130\" height=\"83\" x=\"0\" y=\"0\" style=\"stroke: rgb(68, 68, 68); stroke-opacity: 1; fill: rgb(255, 255, 255); fill-opacity: 1; stroke-width: 0px;\"/><g class=\"scrollbox\" transform=\"translate(0, 0)\" clip-path=\"url('#legenda1079e')\"><text class=\"legendtitletext user-select-none\" text-anchor=\"start\" x=\"2\" y=\"15.600000000000001\" style=\"font-family: 'Open Sans', verdana, arial, sans-serif; font-size: 12px; fill: rgb(42, 63, 95); fill-opacity: 1; white-space: pre;\">region</text><g class=\"groups\" transform=\"translate(0, 0)\"><g class=\"traces\" transform=\"translate(0, 30.1)\" style=\"opacity: 1;\"><text class=\"legendtext user-select-none\" text-anchor=\"start\" x=\"40\" y=\"4.680000000000001\" style=\"font-family: 'Open Sans', verdana, arial, sans-serif; font-size: 12px; fill: rgb(42, 63, 95); fill-opacity: 1; white-space: pre;\">Europe_Africa</text><g class=\"layers\" style=\"opacity: 1;\"><g class=\"legendfill\"/><g class=\"legendlines\"/><g class=\"legendsymbols\"><g class=\"legendpoints\"><path class=\"legendundefined\" d=\"M6,6H-6V-6H6Z\" transform=\"translate(20,0)\" style=\"stroke-width: 0.5px; fill: rgb(99, 110, 250); fill-opacity: 1; stroke: rgb(229, 236, 246); stroke-opacity: 1;\"/></g></g></g><rect class=\"legendtoggle\" pointer-events=\"all\" x=\"0\" y=\"-9.5\" width=\"124.140625\" height=\"19\" style=\"cursor: pointer; fill: rgb(0, 0, 0); fill-opacity: 0;\"/></g></g><g class=\"groups\" transform=\"translate(0, 0)\"><g class=\"traces\" transform=\"translate(0, 49.1)\" style=\"opacity: 1;\"><text class=\"legendtext user-select-none\" text-anchor=\"start\" x=\"40\" y=\"4.680000000000001\" style=\"font-family: 'Open Sans', verdana, arial, sans-serif; font-size: 12px; fill: rgb(42, 63, 95); fill-opacity: 1; white-space: pre;\">Americas</text><g class=\"layers\" style=\"opacity: 1;\"><g class=\"legendfill\"/><g class=\"legendlines\"/><g class=\"legendsymbols\"><g class=\"legendpoints\"><path class=\"legendundefined\" d=\"M6,6H-6V-6H6Z\" transform=\"translate(20,0)\" style=\"stroke-width: 0.5px; fill: rgb(239, 85, 59); fill-opacity: 1; stroke: rgb(229, 236, 246); stroke-opacity: 1;\"/></g></g></g><rect class=\"legendtoggle\" pointer-events=\"all\" x=\"0\" y=\"-9.5\" width=\"124.140625\" height=\"19\" style=\"cursor: pointer; fill: rgb(0, 0, 0); fill-opacity: 0;\"/></g></g><g class=\"groups\" transform=\"translate(0, 0)\"><g class=\"traces\" transform=\"translate(0, 68.1)\" style=\"opacity: 1;\"><text class=\"legendtext user-select-none\" text-anchor=\"start\" x=\"40\" y=\"4.680000000000001\" style=\"font-family: 'Open Sans', verdana, arial, sans-serif; font-size: 12px; fill: rgb(42, 63, 95); fill-opacity: 1; white-space: pre;\">Asia_Oceania</text><g class=\"layers\" style=\"opacity: 1;\"><g class=\"legendfill\"/><g class=\"legendlines\"/><g class=\"legendsymbols\"><g class=\"legendpoints\"><path class=\"legendundefined\" d=\"M6,6H-6V-6H6Z\" transform=\"translate(20,0)\" style=\"stroke-width: 0.5px; fill: rgb(0, 204, 150); fill-opacity: 1; stroke: rgb(229, 236, 246); stroke-opacity: 1;\"/></g></g></g><rect class=\"legendtoggle\" pointer-events=\"all\" x=\"0\" y=\"-9.5\" width=\"124.140625\" height=\"19\" style=\"cursor: pointer; fill: rgb(0, 0, 0); fill-opacity: 0;\"/></g></g></g><rect class=\"scrollbar\" rx=\"20\" ry=\"3\" width=\"0\" height=\"0\" x=\"0\" y=\"0\" style=\"fill: rgb(128, 139, 164); fill-opacity: 1;\"/></g><g class=\"g-gtitle\"/><g class=\"g-xtitle\"><text class=\"xtitle\" x=\"155.04\" y=\"437.64160232543946\" text-anchor=\"middle\" style=\"font-family: 'Open Sans', verdana, arial, sans-serif; font-size: 14px; fill: rgb(42, 63, 95); opacity: 1; font-weight: normal; white-space: pre;\">ownership_type</text></g><g class=\"g-x2title\"><text class=\"x2title\" x=\"314.5\" y=\"437.64160232543946\" text-anchor=\"middle\" style=\"font-family: 'Open Sans', verdana, arial, sans-serif; font-size: 14px; fill: rgb(42, 63, 95); opacity: 1; font-weight: normal; white-space: pre;\">ownership_type</text></g><g class=\"g-x3title\"><text class=\"x3title\" x=\"473.9599999999999\" y=\"437.64160232543946\" text-anchor=\"middle\" style=\"font-family: 'Open Sans', verdana, arial, sans-serif; font-size: 14px; fill: rgb(42, 63, 95); opacity: 1; font-weight: normal; white-space: pre;\">ownership_type</text></g><g class=\"g-ytitle\"><text class=\"ytitle\" transform=\"rotate(-90,37.059375,202.5)\" x=\"37.059375\" y=\"202.5\" text-anchor=\"middle\" style=\"font-family: 'Open Sans', verdana, arial, sans-serif; font-size: 14px; fill: rgb(42, 63, 95); opacity: 1; font-weight: normal; white-space: pre;\">store_count</text></g><g class=\"g-y2title\"/><g class=\"g-y3title\"/><g class=\"annotation\" data-index=\"0\" style=\"opacity: 1;\"><g class=\"annotation-text-g\" transform=\"rotate(0,155.04,51)\"><g class=\"cursor-pointer\" transform=\"translate(87, 42)\"><rect class=\"bg\" x=\"0.5\" y=\"0.5\" width=\"135\" height=\"17\" style=\"stroke-width: 1px; stroke: rgb(0, 0, 0); stroke-opacity: 0; fill: rgb(0, 0, 0); fill-opacity: 0;\"/><text class=\"annotation-text\" text-anchor=\"middle\" x=\"67.9375\" y=\"14\" style=\"font-family: 'Open Sans', verdana, arial, sans-serif; font-size: 12px; fill: rgb(42, 63, 95); fill-opacity: 1; white-space: pre;\">region=Europe_Africa</text></g></g></g><g class=\"annotation\" data-index=\"1\" style=\"opacity: 1;\"><g class=\"annotation-text-g\" transform=\"rotate(0,314.5,51)\"><g class=\"cursor-pointer\" transform=\"translate(261, 42)\"><rect class=\"bg\" x=\"0.5\" y=\"0.5\" width=\"106\" height=\"17\" style=\"stroke-width: 1px; stroke: rgb(0, 0, 0); stroke-opacity: 0; fill: rgb(0, 0, 0); fill-opacity: 0;\"/><text class=\"annotation-text\" text-anchor=\"middle\" x=\"53.453125\" y=\"14\" style=\"font-family: 'Open Sans', verdana, arial, sans-serif; font-size: 12px; fill: rgb(42, 63, 95); fill-opacity: 1; white-space: pre;\">region=Americas</text></g></g></g><g class=\"annotation\" data-index=\"2\" style=\"opacity: 1;\"><g class=\"annotation-text-g\" transform=\"rotate(0,473.9599999999999,51)\"><g class=\"cursor-pointer\" transform=\"translate(408, 42)\"><rect class=\"bg\" x=\"0.5\" y=\"0.5\" width=\"131\" height=\"17\" style=\"stroke-width: 1px; stroke: rgb(0, 0, 0); stroke-opacity: 0; fill: rgb(0, 0, 0); fill-opacity: 0;\"/><text class=\"annotation-text\" text-anchor=\"middle\" x=\"66.234375\" y=\"14\" style=\"font-family: 'Open Sans', verdana, arial, sans-serif; font-size: 12px; fill: rgb(42, 63, 95); fill-opacity: 1; white-space: pre;\">region=Asia_Oceania</text></g></g></g></g></svg>"
      ]
     },
     "metadata": {},
     "output_type": "display_data"
    }
   ],
   "source": [
    "#Create a new data frame\n",
    "own_df = starbucks4.loc[:,['ownership_type', 'store_count', 'continent', 'country', 'region']]\n",
    "\n",
    "#Group each continent by rehions\n",
    "own_df = own_df.groupby(['country','ownership_type', 'region']).agg({'store_count':'sum'}).reset_index()\n",
    "\n",
    "#Diplay a bar graph showing different rehions\n",
    "fig = px.bar(own_df, x='ownership_type', y='store_count',facet_col='region', color='region',\n",
    "             )\n",
    "fig.show('svg')"
   ]
  }
 ],
 "metadata": {
  "kernelspec": {
   "display_name": "Python 3",
   "language": "python",
   "name": "python3"
  },
  "language_info": {
   "codemirror_mode": {
    "name": "ipython",
    "version": 3
   },
   "file_extension": ".py",
   "mimetype": "text/x-python",
   "name": "python",
   "nbconvert_exporter": "python",
   "pygments_lexer": "ipython3",
   "version": "3.7.6"
  }
 },
 "nbformat": 4,
 "nbformat_minor": 4
}
